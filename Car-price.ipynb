{
 "cells": [
  {
   "cell_type": "markdown",
   "metadata": {},
   "source": [
    "# Определение стоимости автомобилей"
   ]
  },
  {
   "cell_type": "markdown",
   "metadata": {},
   "source": [
    "В рамках проекта необходимо построить модель для задачи регрессии.\n",
    "\n",
    "Модель требуется сервису по продаже автомобилей с пробегом «Не бит, не крашен». Модель будет использоваться в разрабатываемом приложении, чтобы пользователи могли определить рыночную стоимость своего автомобиля. Это поможет привлечь новых клиентов. В качестве исходных данных используются исторические данные: технические характеристики, комплектации и цены автомобилей. \n",
    "\n",
    "Важные характеристики модели:\n",
    "\n",
    "- качество предсказания;\n",
    "- скорость предсказания;\n",
    "- время обучения.\n",
    "\n",
    "Этапы построения модели:\n",
    "- Изучение данных\n",
    "- Предобработка данных\n",
    "- Подготовка выборок\n",
    "- Исследование моделей\n",
    "    - Модель случайного леса\n",
    "    - Модель CatBoost\n",
    "    - Модель LightGBM\n",
    "- Анализ работы моделей\n",
    "- Проверка итоговой модели"
   ]
  },
  {
   "cell_type": "markdown",
   "metadata": {},
   "source": [
    "## Подготовка данных"
   ]
  },
  {
   "cell_type": "markdown",
   "metadata": {},
   "source": [
    "### Изучение данных"
   ]
  },
  {
   "cell_type": "markdown",
   "metadata": {},
   "source": [
    "Импортирт библиотек:"
   ]
  },
  {
   "cell_type": "code",
   "execution_count": 158,
   "metadata": {},
   "outputs": [],
   "source": [
    "import pandas as pd\n",
    "import matplotlib.pyplot as plt\n",
    "import numpy as np\n",
    "import catboost as cb\n",
    "import lightgbm as lgb\n",
    "\n",
    "from numpy.random import randint\n",
    "from itertools import product\n",
    "from sklearn.dummy import DummyRegressor\n",
    "from sklearn.ensemble import RandomForestRegressor\n",
    "from sklearn.model_selection import GridSearchCV\n",
    "from sklearn.linear_model import LinearRegression\n",
    "from sklearn.metrics import mean_squared_error, make_scorer, mean_absolute_percentage_error\n",
    "from sklearn.model_selection import train_test_split, cross_val_predict\n",
    "from sklearn.preprocessing import OneHotEncoder, StandardScaler,OrdinalEncoder\n",
    "from sklearn.tree import DecisionTreeRegressor\n",
    "from tqdm import tqdm"
   ]
  },
  {
   "cell_type": "markdown",
   "metadata": {},
   "source": [
    "Чтение файла:"
   ]
  },
  {
   "cell_type": "code",
   "execution_count": 12,
   "metadata": {},
   "outputs": [],
   "source": [
    "try:\n",
    "    data = pd.read_csv('autos.csv')\n",
    "except:\n",
    "    print('Ошибка!')"
   ]
  },
  {
   "cell_type": "markdown",
   "metadata": {},
   "source": [
    "Каждый объект в наборе данных — это информация о загруженном автомобиле.\n",
    "\n",
    "Признаки:\n",
    "- `'DateCrawled'` — дата скачивания анкеты из базы\n",
    "- `'VehicleType'` — тип автомобильного кузова\n",
    "- `'RegistrationYear'` — год регистрации автомобиля\n",
    "- `'Gearbox'` — тип коробки передач\n",
    "- `'Power'` — мощность (л. с.)\n",
    "- `'Model'` — модель автомобиля\n",
    "- `'Kilometer'` — пробег (км)\n",
    "- `'RegistrationMonth'` — месяц регистрации автомобиля\n",
    "- `'FuelType'` — тип топлива\n",
    "- `'Brand'` — марка автомобиля\n",
    "- `'Repaired'` — была машина в ремонте или нет\n",
    "- `'DateCreated'` — дата создания анкеты\n",
    "- `'NumberOfPictures'` — количество фотографий автомобиля\n",
    "- `'PostalCode'` — почтовый индекс владельца анкеты (пользователя)\n",
    "- `'LastSeen'` — дата последней активности пользователя\n",
    "\n",
    "Целевой признак:\n",
    "- `'Price'` — цена (евро)"
   ]
  },
  {
   "cell_type": "markdown",
   "metadata": {},
   "source": [
    "Выведем основную информацию о данных методом `info()`."
   ]
  },
  {
   "cell_type": "code",
   "execution_count": 13,
   "metadata": {},
   "outputs": [
    {
     "name": "stdout",
     "output_type": "stream",
     "text": [
      "<class 'pandas.core.frame.DataFrame'>\n",
      "RangeIndex: 354369 entries, 0 to 354368\n",
      "Data columns (total 16 columns):\n",
      " #   Column             Non-Null Count   Dtype \n",
      "---  ------             --------------   ----- \n",
      " 0   DateCrawled        354369 non-null  object\n",
      " 1   Price              354369 non-null  int64 \n",
      " 2   VehicleType        316879 non-null  object\n",
      " 3   RegistrationYear   354369 non-null  int64 \n",
      " 4   Gearbox            334536 non-null  object\n",
      " 5   Power              354369 non-null  int64 \n",
      " 6   Model              334664 non-null  object\n",
      " 7   Kilometer          354369 non-null  int64 \n",
      " 8   RegistrationMonth  354369 non-null  int64 \n",
      " 9   FuelType           321474 non-null  object\n",
      " 10  Brand              354369 non-null  object\n",
      " 11  Repaired           283215 non-null  object\n",
      " 12  DateCreated        354369 non-null  object\n",
      " 13  NumberOfPictures   354369 non-null  int64 \n",
      " 14  PostalCode         354369 non-null  int64 \n",
      " 15  LastSeen           354369 non-null  object\n",
      "dtypes: int64(7), object(9)\n",
      "memory usage: 43.3+ MB\n"
     ]
    }
   ],
   "source": [
    "data.info()"
   ]
  },
  {
   "cell_type": "markdown",
   "metadata": {},
   "source": [
    "В таблице 354 369 строк, 16 столбцов. Есть пропуски. Названия столбцов нужно привести к нижнему регистру.\n",
    "\n",
    "Столбцы, в которых нужно изменить тип данных:\n",
    "\n",
    "- `'DateCrawled'`\n",
    "- `'DateCreated'`\n",
    "- `'LastSeen'`"
   ]
  },
  {
   "cell_type": "markdown",
   "metadata": {},
   "source": [
    "Выведем первые 5 строк таблицы."
   ]
  },
  {
   "cell_type": "code",
   "execution_count": 14,
   "metadata": {
    "scrolled": true
   },
   "outputs": [
    {
     "data": {
      "text/html": [
       "<div>\n",
       "<style scoped>\n",
       "    .dataframe tbody tr th:only-of-type {\n",
       "        vertical-align: middle;\n",
       "    }\n",
       "\n",
       "    .dataframe tbody tr th {\n",
       "        vertical-align: top;\n",
       "    }\n",
       "\n",
       "    .dataframe thead th {\n",
       "        text-align: right;\n",
       "    }\n",
       "</style>\n",
       "<table border=\"1\" class=\"dataframe\">\n",
       "  <thead>\n",
       "    <tr style=\"text-align: right;\">\n",
       "      <th></th>\n",
       "      <th>DateCrawled</th>\n",
       "      <th>Price</th>\n",
       "      <th>VehicleType</th>\n",
       "      <th>RegistrationYear</th>\n",
       "      <th>Gearbox</th>\n",
       "      <th>Power</th>\n",
       "      <th>Model</th>\n",
       "      <th>Kilometer</th>\n",
       "      <th>RegistrationMonth</th>\n",
       "      <th>FuelType</th>\n",
       "      <th>Brand</th>\n",
       "      <th>Repaired</th>\n",
       "      <th>DateCreated</th>\n",
       "      <th>NumberOfPictures</th>\n",
       "      <th>PostalCode</th>\n",
       "      <th>LastSeen</th>\n",
       "    </tr>\n",
       "  </thead>\n",
       "  <tbody>\n",
       "    <tr>\n",
       "      <th>0</th>\n",
       "      <td>2016-03-24 11:52:17</td>\n",
       "      <td>480</td>\n",
       "      <td>NaN</td>\n",
       "      <td>1993</td>\n",
       "      <td>manual</td>\n",
       "      <td>0</td>\n",
       "      <td>golf</td>\n",
       "      <td>150000</td>\n",
       "      <td>0</td>\n",
       "      <td>petrol</td>\n",
       "      <td>volkswagen</td>\n",
       "      <td>NaN</td>\n",
       "      <td>2016-03-24 00:00:00</td>\n",
       "      <td>0</td>\n",
       "      <td>70435</td>\n",
       "      <td>2016-04-07 03:16:57</td>\n",
       "    </tr>\n",
       "    <tr>\n",
       "      <th>1</th>\n",
       "      <td>2016-03-24 10:58:45</td>\n",
       "      <td>18300</td>\n",
       "      <td>coupe</td>\n",
       "      <td>2011</td>\n",
       "      <td>manual</td>\n",
       "      <td>190</td>\n",
       "      <td>NaN</td>\n",
       "      <td>125000</td>\n",
       "      <td>5</td>\n",
       "      <td>gasoline</td>\n",
       "      <td>audi</td>\n",
       "      <td>yes</td>\n",
       "      <td>2016-03-24 00:00:00</td>\n",
       "      <td>0</td>\n",
       "      <td>66954</td>\n",
       "      <td>2016-04-07 01:46:50</td>\n",
       "    </tr>\n",
       "    <tr>\n",
       "      <th>2</th>\n",
       "      <td>2016-03-14 12:52:21</td>\n",
       "      <td>9800</td>\n",
       "      <td>suv</td>\n",
       "      <td>2004</td>\n",
       "      <td>auto</td>\n",
       "      <td>163</td>\n",
       "      <td>grand</td>\n",
       "      <td>125000</td>\n",
       "      <td>8</td>\n",
       "      <td>gasoline</td>\n",
       "      <td>jeep</td>\n",
       "      <td>NaN</td>\n",
       "      <td>2016-03-14 00:00:00</td>\n",
       "      <td>0</td>\n",
       "      <td>90480</td>\n",
       "      <td>2016-04-05 12:47:46</td>\n",
       "    </tr>\n",
       "    <tr>\n",
       "      <th>3</th>\n",
       "      <td>2016-03-17 16:54:04</td>\n",
       "      <td>1500</td>\n",
       "      <td>small</td>\n",
       "      <td>2001</td>\n",
       "      <td>manual</td>\n",
       "      <td>75</td>\n",
       "      <td>golf</td>\n",
       "      <td>150000</td>\n",
       "      <td>6</td>\n",
       "      <td>petrol</td>\n",
       "      <td>volkswagen</td>\n",
       "      <td>no</td>\n",
       "      <td>2016-03-17 00:00:00</td>\n",
       "      <td>0</td>\n",
       "      <td>91074</td>\n",
       "      <td>2016-03-17 17:40:17</td>\n",
       "    </tr>\n",
       "    <tr>\n",
       "      <th>4</th>\n",
       "      <td>2016-03-31 17:25:20</td>\n",
       "      <td>3600</td>\n",
       "      <td>small</td>\n",
       "      <td>2008</td>\n",
       "      <td>manual</td>\n",
       "      <td>69</td>\n",
       "      <td>fabia</td>\n",
       "      <td>90000</td>\n",
       "      <td>7</td>\n",
       "      <td>gasoline</td>\n",
       "      <td>skoda</td>\n",
       "      <td>no</td>\n",
       "      <td>2016-03-31 00:00:00</td>\n",
       "      <td>0</td>\n",
       "      <td>60437</td>\n",
       "      <td>2016-04-06 10:17:21</td>\n",
       "    </tr>\n",
       "  </tbody>\n",
       "</table>\n",
       "</div>"
      ],
      "text/plain": [
       "           DateCrawled  Price VehicleType  RegistrationYear Gearbox  Power  \\\n",
       "0  2016-03-24 11:52:17    480         NaN              1993  manual      0   \n",
       "1  2016-03-24 10:58:45  18300       coupe              2011  manual    190   \n",
       "2  2016-03-14 12:52:21   9800         suv              2004    auto    163   \n",
       "3  2016-03-17 16:54:04   1500       small              2001  manual     75   \n",
       "4  2016-03-31 17:25:20   3600       small              2008  manual     69   \n",
       "\n",
       "   Model  Kilometer  RegistrationMonth  FuelType       Brand Repaired  \\\n",
       "0   golf     150000                  0    petrol  volkswagen      NaN   \n",
       "1    NaN     125000                  5  gasoline        audi      yes   \n",
       "2  grand     125000                  8  gasoline        jeep      NaN   \n",
       "3   golf     150000                  6    petrol  volkswagen       no   \n",
       "4  fabia      90000                  7  gasoline       skoda       no   \n",
       "\n",
       "           DateCreated  NumberOfPictures  PostalCode             LastSeen  \n",
       "0  2016-03-24 00:00:00                 0       70435  2016-04-07 03:16:57  \n",
       "1  2016-03-24 00:00:00                 0       66954  2016-04-07 01:46:50  \n",
       "2  2016-03-14 00:00:00                 0       90480  2016-04-05 12:47:46  \n",
       "3  2016-03-17 00:00:00                 0       91074  2016-03-17 17:40:17  \n",
       "4  2016-03-31 00:00:00                 0       60437  2016-04-06 10:17:21  "
      ]
     },
     "execution_count": 14,
     "metadata": {},
     "output_type": "execute_result"
    }
   ],
   "source": [
    "data.head()"
   ]
  },
  {
   "cell_type": "markdown",
   "metadata": {},
   "source": [
    "Выведем основные характеристики данных."
   ]
  },
  {
   "cell_type": "code",
   "execution_count": 15,
   "metadata": {},
   "outputs": [
    {
     "data": {
      "text/html": [
       "<div>\n",
       "<style scoped>\n",
       "    .dataframe tbody tr th:only-of-type {\n",
       "        vertical-align: middle;\n",
       "    }\n",
       "\n",
       "    .dataframe tbody tr th {\n",
       "        vertical-align: top;\n",
       "    }\n",
       "\n",
       "    .dataframe thead th {\n",
       "        text-align: right;\n",
       "    }\n",
       "</style>\n",
       "<table border=\"1\" class=\"dataframe\">\n",
       "  <thead>\n",
       "    <tr style=\"text-align: right;\">\n",
       "      <th></th>\n",
       "      <th>Price</th>\n",
       "      <th>RegistrationYear</th>\n",
       "      <th>Power</th>\n",
       "      <th>Kilometer</th>\n",
       "      <th>RegistrationMonth</th>\n",
       "      <th>NumberOfPictures</th>\n",
       "      <th>PostalCode</th>\n",
       "    </tr>\n",
       "  </thead>\n",
       "  <tbody>\n",
       "    <tr>\n",
       "      <th>count</th>\n",
       "      <td>354369.000000</td>\n",
       "      <td>354369.000000</td>\n",
       "      <td>354369.000000</td>\n",
       "      <td>354369.000000</td>\n",
       "      <td>354369.000000</td>\n",
       "      <td>354369.0</td>\n",
       "      <td>354369.000000</td>\n",
       "    </tr>\n",
       "    <tr>\n",
       "      <th>mean</th>\n",
       "      <td>4416.656776</td>\n",
       "      <td>2004.234448</td>\n",
       "      <td>110.094337</td>\n",
       "      <td>128211.172535</td>\n",
       "      <td>5.714645</td>\n",
       "      <td>0.0</td>\n",
       "      <td>50508.689087</td>\n",
       "    </tr>\n",
       "    <tr>\n",
       "      <th>std</th>\n",
       "      <td>4514.158514</td>\n",
       "      <td>90.227958</td>\n",
       "      <td>189.850405</td>\n",
       "      <td>37905.341530</td>\n",
       "      <td>3.726421</td>\n",
       "      <td>0.0</td>\n",
       "      <td>25783.096248</td>\n",
       "    </tr>\n",
       "    <tr>\n",
       "      <th>min</th>\n",
       "      <td>0.000000</td>\n",
       "      <td>1000.000000</td>\n",
       "      <td>0.000000</td>\n",
       "      <td>5000.000000</td>\n",
       "      <td>0.000000</td>\n",
       "      <td>0.0</td>\n",
       "      <td>1067.000000</td>\n",
       "    </tr>\n",
       "    <tr>\n",
       "      <th>25%</th>\n",
       "      <td>1050.000000</td>\n",
       "      <td>1999.000000</td>\n",
       "      <td>69.000000</td>\n",
       "      <td>125000.000000</td>\n",
       "      <td>3.000000</td>\n",
       "      <td>0.0</td>\n",
       "      <td>30165.000000</td>\n",
       "    </tr>\n",
       "    <tr>\n",
       "      <th>50%</th>\n",
       "      <td>2700.000000</td>\n",
       "      <td>2003.000000</td>\n",
       "      <td>105.000000</td>\n",
       "      <td>150000.000000</td>\n",
       "      <td>6.000000</td>\n",
       "      <td>0.0</td>\n",
       "      <td>49413.000000</td>\n",
       "    </tr>\n",
       "    <tr>\n",
       "      <th>75%</th>\n",
       "      <td>6400.000000</td>\n",
       "      <td>2008.000000</td>\n",
       "      <td>143.000000</td>\n",
       "      <td>150000.000000</td>\n",
       "      <td>9.000000</td>\n",
       "      <td>0.0</td>\n",
       "      <td>71083.000000</td>\n",
       "    </tr>\n",
       "    <tr>\n",
       "      <th>max</th>\n",
       "      <td>20000.000000</td>\n",
       "      <td>9999.000000</td>\n",
       "      <td>20000.000000</td>\n",
       "      <td>150000.000000</td>\n",
       "      <td>12.000000</td>\n",
       "      <td>0.0</td>\n",
       "      <td>99998.000000</td>\n",
       "    </tr>\n",
       "  </tbody>\n",
       "</table>\n",
       "</div>"
      ],
      "text/plain": [
       "               Price  RegistrationYear          Power      Kilometer  \\\n",
       "count  354369.000000     354369.000000  354369.000000  354369.000000   \n",
       "mean     4416.656776       2004.234448     110.094337  128211.172535   \n",
       "std      4514.158514         90.227958     189.850405   37905.341530   \n",
       "min         0.000000       1000.000000       0.000000    5000.000000   \n",
       "25%      1050.000000       1999.000000      69.000000  125000.000000   \n",
       "50%      2700.000000       2003.000000     105.000000  150000.000000   \n",
       "75%      6400.000000       2008.000000     143.000000  150000.000000   \n",
       "max     20000.000000       9999.000000   20000.000000  150000.000000   \n",
       "\n",
       "       RegistrationMonth  NumberOfPictures     PostalCode  \n",
       "count      354369.000000          354369.0  354369.000000  \n",
       "mean            5.714645               0.0   50508.689087  \n",
       "std             3.726421               0.0   25783.096248  \n",
       "min             0.000000               0.0    1067.000000  \n",
       "25%             3.000000               0.0   30165.000000  \n",
       "50%             6.000000               0.0   49413.000000  \n",
       "75%             9.000000               0.0   71083.000000  \n",
       "max            12.000000               0.0   99998.000000  "
      ]
     },
     "execution_count": 15,
     "metadata": {},
     "output_type": "execute_result"
    }
   ],
   "source": [
    "data.describe()"
   ]
  },
  {
   "cell_type": "markdown",
   "metadata": {},
   "source": [
    "В данных есть аномалии."
   ]
  },
  {
   "cell_type": "markdown",
   "metadata": {},
   "source": [
    "Проверим данные на наличие дубликатов."
   ]
  },
  {
   "cell_type": "code",
   "execution_count": 16,
   "metadata": {},
   "outputs": [
    {
     "data": {
      "text/plain": [
       "4"
      ]
     },
     "execution_count": 16,
     "metadata": {},
     "output_type": "execute_result"
    }
   ],
   "source": [
    "data.duplicated().sum()"
   ]
  },
  {
   "cell_type": "markdown",
   "metadata": {},
   "source": [
    "В данных есть дубликаты."
   ]
  },
  {
   "cell_type": "markdown",
   "metadata": {},
   "source": [
    "В рамках предобработки данных необходимо выполнить следующие шаги:\n",
    "\n",
    "- Привести названия столбцов к нижнему регистру;\n",
    "- Обработать пропуски;\n",
    "- Обработать дубликаты;\n",
    "- Преобразовать тип данных в некоторых столбцах;\n",
    "- Обработать аномалии и выбросы."
   ]
  },
  {
   "cell_type": "markdown",
   "metadata": {},
   "source": [
    "### Предобработка данных"
   ]
  },
  {
   "cell_type": "markdown",
   "metadata": {},
   "source": [
    "#### Приведение названий столбцов к нижнему регистру"
   ]
  },
  {
   "cell_type": "markdown",
   "metadata": {},
   "source": [
    "Для этого с помощью атрибута `columns` заменим названия столбцов на те же, но приведенные к нижнему регистру методом `lower()`."
   ]
  },
  {
   "cell_type": "code",
   "execution_count": 17,
   "metadata": {},
   "outputs": [],
   "source": [
    "data.columns = data.columns.str.lower()"
   ]
  },
  {
   "cell_type": "markdown",
   "metadata": {},
   "source": [
    "Выведем новые названия столбцов на экран."
   ]
  },
  {
   "cell_type": "code",
   "execution_count": 18,
   "metadata": {},
   "outputs": [
    {
     "data": {
      "text/plain": [
       "Index(['datecrawled', 'price', 'vehicletype', 'registrationyear', 'gearbox',\n",
       "       'power', 'model', 'kilometer', 'registrationmonth', 'fueltype', 'brand',\n",
       "       'repaired', 'datecreated', 'numberofpictures', 'postalcode',\n",
       "       'lastseen'],\n",
       "      dtype='object')"
      ]
     },
     "execution_count": 18,
     "metadata": {},
     "output_type": "execute_result"
    }
   ],
   "source": [
    "data.columns"
   ]
  },
  {
   "cell_type": "markdown",
   "metadata": {},
   "source": [
    "#### Обработка пропусков"
   ]
  },
  {
   "cell_type": "markdown",
   "metadata": {},
   "source": [
    "Выведем доли пропусков в столбцах."
   ]
  },
  {
   "cell_type": "code",
   "execution_count": 19,
   "metadata": {
    "scrolled": true
   },
   "outputs": [
    {
     "data": {
      "image/png": "[encoded data removed]",
      "text/plain": [
       "<Figure size 864x288 with 1 Axes>"
      ]
     },
     "metadata": {
      "needs_background": "light"
     },
     "output_type": "display_data"
    }
   ],
   "source": [
    "((data.isna().mean()*100)\n",
    "      .to_frame()\n",
    "      .rename(columns = {0:'space'})\n",
    "      .query('space > 0')\n",
    "      .sort_values(by = 'space', ascending = True)\n",
    "      .plot(kind= 'barh', figsize=(12,4), legend = False, fontsize = 16)\n",
    "      .set_title('Доля пропусков' + \"\\n\", fontsize = 22, color = 'SteelBlue'));\n",
    "\n",
    "plt.xlabel('Доля пропусков, %',fontsize = 16)\n",
    "plt.show()"
   ]
  },
  {
   "cell_type": "markdown",
   "metadata": {},
   "source": [
    "##### Столбец `'repaired'`"
   ]
  },
  {
   "cell_type": "markdown",
   "metadata": {},
   "source": [
    "Этот столбец содержит данные о том, была машина в ремонте или нет.\n",
    "\n",
    "Выведем количество пропусков."
   ]
  },
  {
   "cell_type": "code",
   "execution_count": 20,
   "metadata": {},
   "outputs": [
    {
     "data": {
      "text/plain": [
       "71154"
      ]
     },
     "execution_count": 20,
     "metadata": {},
     "output_type": "execute_result"
    }
   ],
   "source": [
    "data['repaired'].isna().sum()"
   ]
  },
  {
   "cell_type": "markdown",
   "metadata": {},
   "source": [
    "Выведем колчество указанных значений."
   ]
  },
  {
   "cell_type": "code",
   "execution_count": 21,
   "metadata": {},
   "outputs": [
    {
     "data": {
      "text/plain": [
       "repaired\n",
       "no     247161\n",
       "yes     36054\n",
       "Name: datecrawled, dtype: int64"
      ]
     },
     "execution_count": 21,
     "metadata": {},
     "output_type": "execute_result"
    }
   ],
   "source": [
    "data.groupby('repaired')['datecrawled'].count()"
   ]
  },
  {
   "cell_type": "markdown",
   "metadata": {},
   "source": [
    "Пропуски могут быть полностью случайными, однако достоверно утверждать нельзя. Заменять пропуски на какое-то из значений не стоит, так как количество пропусков сравнимо с количеством положительных ответов и данные исказятся. Лучше выделить пропуски в отдельную категорию. Заменим пропуски на строку `'unk_repaired''`."
   ]
  },
  {
   "cell_type": "code",
   "execution_count": 22,
   "metadata": {},
   "outputs": [],
   "source": [
    "data['repaired'] = data['repaired'].fillna('unk_repaired')"
   ]
  },
  {
   "cell_type": "markdown",
   "metadata": {},
   "source": [
    "##### Столбец `'vehicletype'`"
   ]
  },
  {
   "cell_type": "markdown",
   "metadata": {},
   "source": [
    "Этот столбец содержит тип автомобильного кузова.\n",
    "\n",
    "Выведем количество пропусков."
   ]
  },
  {
   "cell_type": "code",
   "execution_count": 23,
   "metadata": {},
   "outputs": [
    {
     "data": {
      "text/plain": [
       "37490"
      ]
     },
     "execution_count": 23,
     "metadata": {},
     "output_type": "execute_result"
    }
   ],
   "source": [
    "data['vehicletype'].isna().sum()"
   ]
  },
  {
   "cell_type": "markdown",
   "metadata": {},
   "source": [
    "Среди типов кузова есть категория `'other'` (другое). Заменим оставшиеся пропуски на это значение."
   ]
  },
  {
   "cell_type": "code",
   "execution_count": 24,
   "metadata": {},
   "outputs": [],
   "source": [
    "data['vehicletype'] = data['vehicletype'].fillna('other')"
   ]
  },
  {
   "cell_type": "markdown",
   "metadata": {},
   "source": [
    "Для дальнейшей работы с данными заменим значения `'other'` на `'other_vehicletype'`, чтобы не было перемечений с другими столбцами."
   ]
  },
  {
   "cell_type": "code",
   "execution_count": 25,
   "metadata": {},
   "outputs": [],
   "source": [
    "data['vehicletype'].replace('other','other_vehicletype',inplace=True)"
   ]
  },
  {
   "cell_type": "markdown",
   "metadata": {},
   "source": [
    "##### Столбец `'fueltype'`"
   ]
  },
  {
   "cell_type": "markdown",
   "metadata": {},
   "source": [
    "Этот столбец содержит тип топлива.\n",
    "\n",
    "Выведем количество пропусков."
   ]
  },
  {
   "cell_type": "code",
   "execution_count": 26,
   "metadata": {},
   "outputs": [
    {
     "data": {
      "text/plain": [
       "32895"
      ]
     },
     "execution_count": 26,
     "metadata": {},
     "output_type": "execute_result"
    }
   ],
   "source": [
    "data['fueltype'].isna().sum()"
   ]
  },
  {
   "cell_type": "markdown",
   "metadata": {},
   "source": [
    "Выведем уникальные значения и их количество."
   ]
  },
  {
   "cell_type": "code",
   "execution_count": 27,
   "metadata": {},
   "outputs": [
    {
     "data": {
      "text/plain": [
       "fueltype\n",
       "cng            565\n",
       "electric        90\n",
       "gasoline     98720\n",
       "hybrid         233\n",
       "lpg           5310\n",
       "other          204\n",
       "petrol      216352\n",
       "Name: datecrawled, dtype: int64"
      ]
     },
     "execution_count": 27,
     "metadata": {},
     "output_type": "execute_result"
    }
   ],
   "source": [
    "data.groupby('fueltype')['datecrawled'].count()"
   ]
  },
  {
   "cell_type": "markdown",
   "metadata": {},
   "source": [
    "Здесь также заменим пропуски на значение `'other'`."
   ]
  },
  {
   "cell_type": "code",
   "execution_count": 28,
   "metadata": {},
   "outputs": [],
   "source": [
    "data['fueltype'] = data['fueltype'].fillna('other')"
   ]
  },
  {
   "cell_type": "markdown",
   "metadata": {},
   "source": [
    "Для дальнейшей работы с данными заменим значения `'other'` на `'other_fueltype'`, чтобы не было пересечений с другими столбцами."
   ]
  },
  {
   "cell_type": "code",
   "execution_count": 29,
   "metadata": {},
   "outputs": [],
   "source": [
    "data['fueltype'].replace('other','other_fueltype',inplace=True)"
   ]
  },
  {
   "cell_type": "markdown",
   "metadata": {},
   "source": [
    "Значения `'gasoline'` и `'petrol'` представляют собой одно и то же, поэтому заменим `'gasoline'` на `'petrol'`."
   ]
  },
  {
   "cell_type": "code",
   "execution_count": 30,
   "metadata": {},
   "outputs": [],
   "source": [
    "data['fueltype'].replace('gasoline','petrol',inplace=True)"
   ]
  },
  {
   "cell_type": "markdown",
   "metadata": {},
   "source": [
    "##### Столбец `'gearbox'`"
   ]
  },
  {
   "cell_type": "markdown",
   "metadata": {},
   "source": [
    "Этот столбец содержит тип коробки передач.\n",
    "\n",
    "Выведем количество пропусков."
   ]
  },
  {
   "cell_type": "code",
   "execution_count": 31,
   "metadata": {},
   "outputs": [
    {
     "data": {
      "text/plain": [
       "19833"
      ]
     },
     "execution_count": 31,
     "metadata": {},
     "output_type": "execute_result"
    }
   ],
   "source": [
    "data['gearbox'].isna().sum()"
   ]
  },
  {
   "cell_type": "markdown",
   "metadata": {},
   "source": [
    "Выведем уникальные значения и их количество."
   ]
  },
  {
   "cell_type": "code",
   "execution_count": 32,
   "metadata": {},
   "outputs": [
    {
     "data": {
      "text/plain": [
       "gearbox\n",
       "auto       66285\n",
       "manual    268251\n",
       "Name: datecrawled, dtype: int64"
      ]
     },
     "execution_count": 32,
     "metadata": {},
     "output_type": "execute_result"
    }
   ],
   "source": [
    "data.groupby('gearbox')['datecrawled'].count()"
   ]
  },
  {
   "cell_type": "markdown",
   "metadata": {},
   "source": [
    "Скорее всего, пропуски полностью случайные. Выделим их в отдельную категорию, присвоив значение `'unk_gearbox'`."
   ]
  },
  {
   "cell_type": "code",
   "execution_count": 33,
   "metadata": {},
   "outputs": [],
   "source": [
    "data['gearbox'] = data['gearbox'].fillna('unk_gearbox')"
   ]
  },
  {
   "cell_type": "markdown",
   "metadata": {},
   "source": [
    "##### Столбец `'model'`"
   ]
  },
  {
   "cell_type": "markdown",
   "metadata": {},
   "source": [
    "Этот столбец содержит модель автомобиля.\n",
    "\n",
    "Выведем количество пропусков."
   ]
  },
  {
   "cell_type": "code",
   "execution_count": 34,
   "metadata": {},
   "outputs": [
    {
     "data": {
      "text/plain": [
       "19705"
      ]
     },
     "execution_count": 34,
     "metadata": {},
     "output_type": "execute_result"
    }
   ],
   "source": [
    "data['model'].isna().sum()"
   ]
  },
  {
   "cell_type": "markdown",
   "metadata": {},
   "source": [
    "Выведем уникальные значения и их количество."
   ]
  },
  {
   "cell_type": "code",
   "execution_count": 35,
   "metadata": {
    "scrolled": true
   },
   "outputs": [
    {
     "data": {
      "text/plain": [
       "model\n",
       "100         417\n",
       "145          49\n",
       "147         572\n",
       "156         629\n",
       "159         212\n",
       "           ... \n",
       "yaris      1033\n",
       "yeti        174\n",
       "ypsilon     209\n",
       "z_reihe     717\n",
       "zafira     3044\n",
       "Name: datecrawled, Length: 250, dtype: int64"
      ]
     },
     "execution_count": 35,
     "metadata": {},
     "output_type": "execute_result"
    }
   ],
   "source": [
    "data.groupby('model')['datecrawled'].count()"
   ]
  },
  {
   "cell_type": "markdown",
   "metadata": {},
   "source": [
    "Скорее всего пропуски полностью случайные. Выделим пропуски в отдельную категорию, заменив их на `'unk_model'`."
   ]
  },
  {
   "cell_type": "code",
   "execution_count": 36,
   "metadata": {},
   "outputs": [],
   "source": [
    "data['model'] = data['model'].fillna('unk_model')"
   ]
  },
  {
   "cell_type": "markdown",
   "metadata": {},
   "source": [
    "Для дальнейшей работы с данными заменим значения `'other'` на `'other_model'`, чтобы не было перемечений с другими столбцами."
   ]
  },
  {
   "cell_type": "code",
   "execution_count": 37,
   "metadata": {},
   "outputs": [],
   "source": [
    "data['model'].replace('other','other_model',inplace=True)"
   ]
  },
  {
   "cell_type": "markdown",
   "metadata": {},
   "source": [
    "#### Обработка дубликатов"
   ]
  },
  {
   "cell_type": "markdown",
   "metadata": {},
   "source": [
    "Выведем количество дубликатов."
   ]
  },
  {
   "cell_type": "code",
   "execution_count": 38,
   "metadata": {},
   "outputs": [
    {
     "data": {
      "text/html": [
       "<div>\n",
       "<style scoped>\n",
       "    .dataframe tbody tr th:only-of-type {\n",
       "        vertical-align: middle;\n",
       "    }\n",
       "\n",
       "    .dataframe tbody tr th {\n",
       "        vertical-align: top;\n",
       "    }\n",
       "\n",
       "    .dataframe thead th {\n",
       "        text-align: right;\n",
       "    }\n",
       "</style>\n",
       "<table border=\"1\" class=\"dataframe\">\n",
       "  <thead>\n",
       "    <tr style=\"text-align: right;\">\n",
       "      <th></th>\n",
       "      <th>datecrawled</th>\n",
       "      <th>price</th>\n",
       "      <th>vehicletype</th>\n",
       "      <th>registrationyear</th>\n",
       "      <th>gearbox</th>\n",
       "      <th>power</th>\n",
       "      <th>model</th>\n",
       "      <th>kilometer</th>\n",
       "      <th>registrationmonth</th>\n",
       "      <th>fueltype</th>\n",
       "      <th>brand</th>\n",
       "      <th>repaired</th>\n",
       "      <th>datecreated</th>\n",
       "      <th>numberofpictures</th>\n",
       "      <th>postalcode</th>\n",
       "      <th>lastseen</th>\n",
       "    </tr>\n",
       "  </thead>\n",
       "  <tbody>\n",
       "    <tr>\n",
       "      <th>0</th>\n",
       "      <td>2016-03-24 11:52:17</td>\n",
       "      <td>480</td>\n",
       "      <td>other_vehicletype</td>\n",
       "      <td>1993</td>\n",
       "      <td>manual</td>\n",
       "      <td>0</td>\n",
       "      <td>golf</td>\n",
       "      <td>150000</td>\n",
       "      <td>0</td>\n",
       "      <td>petrol</td>\n",
       "      <td>volkswagen</td>\n",
       "      <td>unk_repaired</td>\n",
       "      <td>2016-03-24 00:00:00</td>\n",
       "      <td>0</td>\n",
       "      <td>70435</td>\n",
       "      <td>2016-04-07 03:16:57</td>\n",
       "    </tr>\n",
       "    <tr>\n",
       "      <th>1</th>\n",
       "      <td>2016-03-24 10:58:45</td>\n",
       "      <td>18300</td>\n",
       "      <td>coupe</td>\n",
       "      <td>2011</td>\n",
       "      <td>manual</td>\n",
       "      <td>190</td>\n",
       "      <td>unk_model</td>\n",
       "      <td>125000</td>\n",
       "      <td>5</td>\n",
       "      <td>petrol</td>\n",
       "      <td>audi</td>\n",
       "      <td>yes</td>\n",
       "      <td>2016-03-24 00:00:00</td>\n",
       "      <td>0</td>\n",
       "      <td>66954</td>\n",
       "      <td>2016-04-07 01:46:50</td>\n",
       "    </tr>\n",
       "    <tr>\n",
       "      <th>2</th>\n",
       "      <td>2016-03-14 12:52:21</td>\n",
       "      <td>9800</td>\n",
       "      <td>suv</td>\n",
       "      <td>2004</td>\n",
       "      <td>auto</td>\n",
       "      <td>163</td>\n",
       "      <td>grand</td>\n",
       "      <td>125000</td>\n",
       "      <td>8</td>\n",
       "      <td>petrol</td>\n",
       "      <td>jeep</td>\n",
       "      <td>unk_repaired</td>\n",
       "      <td>2016-03-14 00:00:00</td>\n",
       "      <td>0</td>\n",
       "      <td>90480</td>\n",
       "      <td>2016-04-05 12:47:46</td>\n",
       "    </tr>\n",
       "    <tr>\n",
       "      <th>3</th>\n",
       "      <td>2016-03-17 16:54:04</td>\n",
       "      <td>1500</td>\n",
       "      <td>small</td>\n",
       "      <td>2001</td>\n",
       "      <td>manual</td>\n",
       "      <td>75</td>\n",
       "      <td>golf</td>\n",
       "      <td>150000</td>\n",
       "      <td>6</td>\n",
       "      <td>petrol</td>\n",
       "      <td>volkswagen</td>\n",
       "      <td>no</td>\n",
       "      <td>2016-03-17 00:00:00</td>\n",
       "      <td>0</td>\n",
       "      <td>91074</td>\n",
       "      <td>2016-03-17 17:40:17</td>\n",
       "    </tr>\n",
       "    <tr>\n",
       "      <th>4</th>\n",
       "      <td>2016-03-31 17:25:20</td>\n",
       "      <td>3600</td>\n",
       "      <td>small</td>\n",
       "      <td>2008</td>\n",
       "      <td>manual</td>\n",
       "      <td>69</td>\n",
       "      <td>fabia</td>\n",
       "      <td>90000</td>\n",
       "      <td>7</td>\n",
       "      <td>petrol</td>\n",
       "      <td>skoda</td>\n",
       "      <td>no</td>\n",
       "      <td>2016-03-31 00:00:00</td>\n",
       "      <td>0</td>\n",
       "      <td>60437</td>\n",
       "      <td>2016-04-06 10:17:21</td>\n",
       "    </tr>\n",
       "  </tbody>\n",
       "</table>\n",
       "</div>"
      ],
      "text/plain": [
       "           datecrawled  price        vehicletype  registrationyear gearbox  \\\n",
       "0  2016-03-24 11:52:17    480  other_vehicletype              1993  manual   \n",
       "1  2016-03-24 10:58:45  18300              coupe              2011  manual   \n",
       "2  2016-03-14 12:52:21   9800                suv              2004    auto   \n",
       "3  2016-03-17 16:54:04   1500              small              2001  manual   \n",
       "4  2016-03-31 17:25:20   3600              small              2008  manual   \n",
       "\n",
       "   power      model  kilometer  registrationmonth fueltype       brand  \\\n",
       "0      0       golf     150000                  0   petrol  volkswagen   \n",
       "1    190  unk_model     125000                  5   petrol        audi   \n",
       "2    163      grand     125000                  8   petrol        jeep   \n",
       "3     75       golf     150000                  6   petrol  volkswagen   \n",
       "4     69      fabia      90000                  7   petrol       skoda   \n",
       "\n",
       "       repaired          datecreated  numberofpictures  postalcode  \\\n",
       "0  unk_repaired  2016-03-24 00:00:00                 0       70435   \n",
       "1           yes  2016-03-24 00:00:00                 0       66954   \n",
       "2  unk_repaired  2016-03-14 00:00:00                 0       90480   \n",
       "3            no  2016-03-17 00:00:00                 0       91074   \n",
       "4            no  2016-03-31 00:00:00                 0       60437   \n",
       "\n",
       "              lastseen  \n",
       "0  2016-04-07 03:16:57  \n",
       "1  2016-04-07 01:46:50  \n",
       "2  2016-04-05 12:47:46  \n",
       "3  2016-03-17 17:40:17  \n",
       "4  2016-04-06 10:17:21  "
      ]
     },
     "execution_count": 38,
     "metadata": {},
     "output_type": "execute_result"
    }
   ],
   "source": [
    "data.head()"
   ]
  },
  {
   "cell_type": "code",
   "execution_count": 39,
   "metadata": {},
   "outputs": [
    {
     "data": {
      "text/plain": [
       "4"
      ]
     },
     "execution_count": 39,
     "metadata": {},
     "output_type": "execute_result"
    }
   ],
   "source": [
    "data.duplicated().sum()"
   ]
  },
  {
   "cell_type": "markdown",
   "metadata": {},
   "source": [
    "Удалим дубликаты."
   ]
  },
  {
   "cell_type": "code",
   "execution_count": 40,
   "metadata": {},
   "outputs": [],
   "source": [
    "data = data.drop_duplicates()"
   ]
  },
  {
   "cell_type": "markdown",
   "metadata": {},
   "source": [
    "#### Преобразование типов данных"
   ]
  },
  {
   "cell_type": "markdown",
   "metadata": {},
   "source": [
    "Столбцы, в которых нужно изменить тип данных:\n",
    "\n",
    "- `'datecrawled'`\n",
    "- `'datecreated'`\n",
    "- `'lastseen'`"
   ]
  },
  {
   "cell_type": "markdown",
   "metadata": {},
   "source": [
    "Эти столбцы содержат даты. Тип `object` нужно преобразовать в тип `datetime`. Выведем первые значения этих столбцов."
   ]
  },
  {
   "cell_type": "code",
   "execution_count": 41,
   "metadata": {},
   "outputs": [
    {
     "data": {
      "text/html": [
       "<div>\n",
       "<style scoped>\n",
       "    .dataframe tbody tr th:only-of-type {\n",
       "        vertical-align: middle;\n",
       "    }\n",
       "\n",
       "    .dataframe tbody tr th {\n",
       "        vertical-align: top;\n",
       "    }\n",
       "\n",
       "    .dataframe thead th {\n",
       "        text-align: right;\n",
       "    }\n",
       "</style>\n",
       "<table border=\"1\" class=\"dataframe\">\n",
       "  <thead>\n",
       "    <tr style=\"text-align: right;\">\n",
       "      <th></th>\n",
       "      <th>datecrawled</th>\n",
       "      <th>datecreated</th>\n",
       "      <th>lastseen</th>\n",
       "    </tr>\n",
       "  </thead>\n",
       "  <tbody>\n",
       "    <tr>\n",
       "      <th>0</th>\n",
       "      <td>2016-03-24 11:52:17</td>\n",
       "      <td>2016-03-24 00:00:00</td>\n",
       "      <td>2016-04-07 03:16:57</td>\n",
       "    </tr>\n",
       "  </tbody>\n",
       "</table>\n",
       "</div>"
      ],
      "text/plain": [
       "           datecrawled          datecreated             lastseen\n",
       "0  2016-03-24 11:52:17  2016-03-24 00:00:00  2016-04-07 03:16:57"
      ]
     },
     "execution_count": 41,
     "metadata": {},
     "output_type": "execute_result"
    }
   ],
   "source": [
    "data[['datecrawled','datecreated','lastseen']].head(1)"
   ]
  },
  {
   "cell_type": "markdown",
   "metadata": {},
   "source": [
    "Дата и время указаны в формате 'год'-'месяц'-'день' 'часы':'минуты':'секунды'. Заменим тип данных методом `to_datetime()`."
   ]
  },
  {
   "cell_type": "code",
   "execution_count": 42,
   "metadata": {},
   "outputs": [],
   "source": [
    "data['datecrawled'] = pd.to_datetime(data['datecrawled'],\n",
    "                                     format='%Y-%m-%d %H:%M:%S')\n",
    "\n",
    "data['datecreated'] = pd.to_datetime(data['datecreated'],\n",
    "                                     format='%Y-%m-%d %H:%M:%S')\n",
    "\n",
    "data['lastseen'] = pd.to_datetime(data['lastseen'],\n",
    "                                  format='%Y-%m-%d %H:%M:%S')"
   ]
  },
  {
   "cell_type": "markdown",
   "metadata": {},
   "source": [
    "#### Обработка аномалий"
   ]
  },
  {
   "cell_type": "markdown",
   "metadata": {},
   "source": [
    "Выведем основные характеристики данных."
   ]
  },
  {
   "cell_type": "code",
   "execution_count": 43,
   "metadata": {},
   "outputs": [
    {
     "data": {
      "text/html": [
       "<div>\n",
       "<style scoped>\n",
       "    .dataframe tbody tr th:only-of-type {\n",
       "        vertical-align: middle;\n",
       "    }\n",
       "\n",
       "    .dataframe tbody tr th {\n",
       "        vertical-align: top;\n",
       "    }\n",
       "\n",
       "    .dataframe thead th {\n",
       "        text-align: right;\n",
       "    }\n",
       "</style>\n",
       "<table border=\"1\" class=\"dataframe\">\n",
       "  <thead>\n",
       "    <tr style=\"text-align: right;\">\n",
       "      <th></th>\n",
       "      <th>price</th>\n",
       "      <th>registrationyear</th>\n",
       "      <th>power</th>\n",
       "      <th>kilometer</th>\n",
       "      <th>registrationmonth</th>\n",
       "      <th>numberofpictures</th>\n",
       "      <th>postalcode</th>\n",
       "    </tr>\n",
       "  </thead>\n",
       "  <tbody>\n",
       "    <tr>\n",
       "      <th>count</th>\n",
       "      <td>354365.000000</td>\n",
       "      <td>354365.000000</td>\n",
       "      <td>354365.000000</td>\n",
       "      <td>354365.000000</td>\n",
       "      <td>354365.000000</td>\n",
       "      <td>354365.0</td>\n",
       "      <td>354365.000000</td>\n",
       "    </tr>\n",
       "    <tr>\n",
       "      <th>mean</th>\n",
       "      <td>4416.679830</td>\n",
       "      <td>2004.234481</td>\n",
       "      <td>110.093816</td>\n",
       "      <td>128211.363989</td>\n",
       "      <td>5.714650</td>\n",
       "      <td>0.0</td>\n",
       "      <td>50508.503800</td>\n",
       "    </tr>\n",
       "    <tr>\n",
       "      <th>std</th>\n",
       "      <td>4514.176349</td>\n",
       "      <td>90.228466</td>\n",
       "      <td>189.851330</td>\n",
       "      <td>37905.083858</td>\n",
       "      <td>3.726432</td>\n",
       "      <td>0.0</td>\n",
       "      <td>25783.100078</td>\n",
       "    </tr>\n",
       "    <tr>\n",
       "      <th>min</th>\n",
       "      <td>0.000000</td>\n",
       "      <td>1000.000000</td>\n",
       "      <td>0.000000</td>\n",
       "      <td>5000.000000</td>\n",
       "      <td>0.000000</td>\n",
       "      <td>0.0</td>\n",
       "      <td>1067.000000</td>\n",
       "    </tr>\n",
       "    <tr>\n",
       "      <th>25%</th>\n",
       "      <td>1050.000000</td>\n",
       "      <td>1999.000000</td>\n",
       "      <td>69.000000</td>\n",
       "      <td>125000.000000</td>\n",
       "      <td>3.000000</td>\n",
       "      <td>0.0</td>\n",
       "      <td>30165.000000</td>\n",
       "    </tr>\n",
       "    <tr>\n",
       "      <th>50%</th>\n",
       "      <td>2700.000000</td>\n",
       "      <td>2003.000000</td>\n",
       "      <td>105.000000</td>\n",
       "      <td>150000.000000</td>\n",
       "      <td>6.000000</td>\n",
       "      <td>0.0</td>\n",
       "      <td>49413.000000</td>\n",
       "    </tr>\n",
       "    <tr>\n",
       "      <th>75%</th>\n",
       "      <td>6400.000000</td>\n",
       "      <td>2008.000000</td>\n",
       "      <td>143.000000</td>\n",
       "      <td>150000.000000</td>\n",
       "      <td>9.000000</td>\n",
       "      <td>0.0</td>\n",
       "      <td>71083.000000</td>\n",
       "    </tr>\n",
       "    <tr>\n",
       "      <th>max</th>\n",
       "      <td>20000.000000</td>\n",
       "      <td>9999.000000</td>\n",
       "      <td>20000.000000</td>\n",
       "      <td>150000.000000</td>\n",
       "      <td>12.000000</td>\n",
       "      <td>0.0</td>\n",
       "      <td>99998.000000</td>\n",
       "    </tr>\n",
       "  </tbody>\n",
       "</table>\n",
       "</div>"
      ],
      "text/plain": [
       "               price  registrationyear          power      kilometer  \\\n",
       "count  354365.000000     354365.000000  354365.000000  354365.000000   \n",
       "mean     4416.679830       2004.234481     110.093816  128211.363989   \n",
       "std      4514.176349         90.228466     189.851330   37905.083858   \n",
       "min         0.000000       1000.000000       0.000000    5000.000000   \n",
       "25%      1050.000000       1999.000000      69.000000  125000.000000   \n",
       "50%      2700.000000       2003.000000     105.000000  150000.000000   \n",
       "75%      6400.000000       2008.000000     143.000000  150000.000000   \n",
       "max     20000.000000       9999.000000   20000.000000  150000.000000   \n",
       "\n",
       "       registrationmonth  numberofpictures     postalcode  \n",
       "count      354365.000000          354365.0  354365.000000  \n",
       "mean            5.714650               0.0   50508.503800  \n",
       "std             3.726432               0.0   25783.100078  \n",
       "min             0.000000               0.0    1067.000000  \n",
       "25%             3.000000               0.0   30165.000000  \n",
       "50%             6.000000               0.0   49413.000000  \n",
       "75%             9.000000               0.0   71083.000000  \n",
       "max            12.000000               0.0   99998.000000  "
      ]
     },
     "execution_count": 43,
     "metadata": {},
     "output_type": "execute_result"
    }
   ],
   "source": [
    "data.describe()"
   ]
  },
  {
   "cell_type": "markdown",
   "metadata": {},
   "source": [
    "##### Столбец `'price'`"
   ]
  },
  {
   "cell_type": "markdown",
   "metadata": {},
   "source": [
    "Выведем диаграмму размаха для стоимости автомобилей."
   ]
  },
  {
   "cell_type": "code",
   "execution_count": 44,
   "metadata": {},
   "outputs": [
    {
     "data": {
      "image/png": "[encoded data removed]",
      "text/plain": [
       "<Figure size 288x432 with 1 Axes>"
      ]
     },
     "metadata": {
      "needs_background": "light"
     },
     "output_type": "display_data"
    }
   ],
   "source": [
    "(data.boxplot(column='price',\n",
    "              fontsize=12,\n",
    "              grid=True,\n",
    "              figsize=(4,6))\n",
    "     .set_title('Диаграмма размаха для стоимости\\n',\n",
    "                fontsize = 16,\n",
    "                color = 'SteelBlue'));"
   ]
  },
  {
   "cell_type": "markdown",
   "metadata": {},
   "source": [
    "В соответствии с полуторным межквартильным размахом, отложенным от первого и третьего квартиля, выбивающиеся значения есть только сверху. Они реалистичны, поэтому их лучше оставить, чтобы модель обучалась на максимально полных данных. Нижняя граница значений составляет €0.\n",
    "\n",
    "Найдем количество объектов с нулевыми значениями в этом столбце."
   ]
  },
  {
   "cell_type": "code",
   "execution_count": 45,
   "metadata": {},
   "outputs": [
    {
     "data": {
      "text/plain": [
       "10772"
      ]
     },
     "execution_count": 45,
     "metadata": {},
     "output_type": "execute_result"
    }
   ],
   "source": [
    "data[data['price'] == 0]['price'].count()"
   ]
  },
  {
   "cell_type": "markdown",
   "metadata": {},
   "source": [
    "Эти строки лучше удалить, так как данный столбец является целевым признаком и замена данных может привести к их искажению."
   ]
  },
  {
   "cell_type": "code",
   "execution_count": 46,
   "metadata": {},
   "outputs": [],
   "source": [
    "data = data.drop(index = data[data['price'] == 0].index.to_list())"
   ]
  },
  {
   "cell_type": "markdown",
   "metadata": {},
   "source": [
    "Выведем гистограмму для цен до €100."
   ]
  },
  {
   "cell_type": "code",
   "execution_count": 47,
   "metadata": {
    "scrolled": true
   },
   "outputs": [
    {
     "data": {
      "image/png": "[encoded data removed]",
      "text/plain": [
       "<Figure size 432x288 with 1 Axes>"
      ]
     },
     "metadata": {
      "needs_background": "light"
     },
     "output_type": "display_data"
    }
   ],
   "source": [
    "(data.query('price <= 100')['price']\n",
    "     .hist(bins=30)\n",
    "     .set_title('Распределние по стоимости\\n', \n",
    "                fontsize = 16, \n",
    "                color = 'SteelBlue'));\n",
    "\n",
    "plt.xlabel('Стоимость, €',fontsize = 12)\n",
    "plt.ylabel('Количество объектов',fontsize = 12)\n",
    "plt.show()"
   ]
  },
  {
   "cell_type": "markdown",
   "metadata": {},
   "source": [
    "Первый значительный максимум после цены в несколько евро появляется для автомобилей стоимостью €100. Значения меньше этого числа являются аномально низкими и могут содержать ошибки. Чтобы модель предсказывала адекватную стоимость автомобилей, удалим объекты со стоимостью до €100. Найдем их количество."
   ]
  },
  {
   "cell_type": "code",
   "execution_count": 48,
   "metadata": {},
   "outputs": [
    {
     "data": {
      "text/plain": [
       "2542"
      ]
     },
     "execution_count": 48,
     "metadata": {},
     "output_type": "execute_result"
    }
   ],
   "source": [
    "data.query('price < 100')['registrationyear'].count()"
   ]
  },
  {
   "cell_type": "markdown",
   "metadata": {},
   "source": [
    "Данных немного, удалим эти строки."
   ]
  },
  {
   "cell_type": "code",
   "execution_count": 49,
   "metadata": {},
   "outputs": [],
   "source": [
    "data = data.drop(index = data[data['price'] < 100].index.to_list())"
   ]
  },
  {
   "cell_type": "markdown",
   "metadata": {},
   "source": [
    "##### Столбец `'registrationyear'`"
   ]
  },
  {
   "cell_type": "markdown",
   "metadata": {},
   "source": [
    "Столбец содержит год регистрации автомобиля. Выведем основные характеристики."
   ]
  },
  {
   "cell_type": "code",
   "execution_count": 50,
   "metadata": {},
   "outputs": [
    {
     "data": {
      "text/plain": [
       "count    341051.000000\n",
       "mean       2003.955335\n",
       "std          69.812151\n",
       "min        1000.000000\n",
       "25%        1999.000000\n",
       "50%        2003.000000\n",
       "75%        2008.000000\n",
       "max        9999.000000\n",
       "Name: registrationyear, dtype: float64"
      ]
     },
     "execution_count": 50,
     "metadata": {},
     "output_type": "execute_result"
    }
   ],
   "source": [
    "data['registrationyear'].describe()"
   ]
  },
  {
   "cell_type": "markdown",
   "metadata": {},
   "source": [
    "Найдем количество автомобилей с годом регистрации после года скачивания анкеты. Для этого создадим `Series` с годом скачивания анкеты."
   ]
  },
  {
   "cell_type": "code",
   "execution_count": 65,
   "metadata": {},
   "outputs": [],
   "source": [
    "datecrawled_year = data[\"datecrawled\"].dt.year"
   ]
  },
  {
   "cell_type": "markdown",
   "metadata": {},
   "source": [
    "И сравним его с годом регистрации автомобиля."
   ]
  },
  {
   "cell_type": "code",
   "execution_count": 66,
   "metadata": {},
   "outputs": [
    {
     "data": {
      "text/plain": [
       "13687"
      ]
     },
     "execution_count": 66,
     "metadata": {},
     "output_type": "execute_result"
    }
   ],
   "source": [
    "data.query('registrationyear > @datecrawled_year')['registrationyear'].count()"
   ]
  },
  {
   "cell_type": "markdown",
   "metadata": {},
   "source": [
    "Удалим эти строки."
   ]
  },
  {
   "cell_type": "code",
   "execution_count": 67,
   "metadata": {},
   "outputs": [],
   "source": [
    "data = data.drop(index = data[data['registrationyear'] > data[\"datecrawled\"].dt.year].index.to_list())"
   ]
  },
  {
   "cell_type": "markdown",
   "metadata": {},
   "source": [
    "По данным [сайта](https://masterok.livejournal.com/3889329.html) самый старый действующий в настоящее время автомобиль был выпущен в 1884 году. Сейчас он стоит около $5 млн. Найдем количество автомобилей с годом регистрации до 1884 года."
   ]
  },
  {
   "cell_type": "code",
   "execution_count": 68,
   "metadata": {},
   "outputs": [
    {
     "data": {
      "text/plain": [
       "43"
      ]
     },
     "execution_count": 68,
     "metadata": {},
     "output_type": "execute_result"
    }
   ],
   "source": [
    "data.query('registrationyear < 1884')['registrationyear'].count()"
   ]
  },
  {
   "cell_type": "markdown",
   "metadata": {},
   "source": [
    "Удалим эти строки."
   ]
  },
  {
   "cell_type": "code",
   "execution_count": 69,
   "metadata": {},
   "outputs": [],
   "source": [
    "data = data.drop(index = data[data['registrationyear'] < 1884].index.to_list())"
   ]
  },
  {
   "cell_type": "markdown",
   "metadata": {},
   "source": [
    "Найдем минимальное значение."
   ]
  },
  {
   "cell_type": "code",
   "execution_count": 70,
   "metadata": {},
   "outputs": [
    {
     "data": {
      "text/plain": [
       "1910"
      ]
     },
     "execution_count": 70,
     "metadata": {},
     "output_type": "execute_result"
    }
   ],
   "source": [
    "data['registrationyear'].min()"
   ]
  },
  {
   "cell_type": "markdown",
   "metadata": {},
   "source": [
    "Построим гистограмму."
   ]
  },
  {
   "cell_type": "code",
   "execution_count": 71,
   "metadata": {},
   "outputs": [
    {
     "data": {
      "image/png": "[encoded data removed]",
      "text/plain": [
       "<Figure size 432x288 with 1 Axes>"
      ]
     },
     "metadata": {
      "needs_background": "light"
     },
     "output_type": "display_data"
    }
   ],
   "source": [
    "(data['registrationyear']\n",
    "     .hist(bins=30)\n",
    "     .set_title('Распределние по году регистрации\\n', \n",
    "                fontsize = 16, \n",
    "                color = 'SteelBlue'));\n",
    "\n",
    "plt.xlabel('Год регистрации',fontsize = 12)\n",
    "plt.ylabel('Количество объектов',fontsize = 12)\n",
    "plt.show()"
   ]
  },
  {
   "cell_type": "markdown",
   "metadata": {},
   "source": [
    "Остальные данные можно оставить."
   ]
  },
  {
   "cell_type": "markdown",
   "metadata": {},
   "source": [
    "##### Столбец `'power'`"
   ]
  },
  {
   "cell_type": "markdown",
   "metadata": {},
   "source": [
    "Этот столбец содержит данные о мощности автомобиля в л. с. Выведем основные характеристики."
   ]
  },
  {
   "cell_type": "code",
   "execution_count": 72,
   "metadata": {
    "scrolled": true
   },
   "outputs": [
    {
     "data": {
      "text/plain": [
       "count    327321.000000\n",
       "mean        112.338060\n",
       "std         185.285633\n",
       "min           0.000000\n",
       "25%          71.000000\n",
       "50%         105.000000\n",
       "75%         143.000000\n",
       "max       20000.000000\n",
       "Name: power, dtype: float64"
      ]
     },
     "execution_count": 72,
     "metadata": {},
     "output_type": "execute_result"
    }
   ],
   "source": [
    "data['power'].describe()"
   ]
  },
  {
   "cell_type": "markdown",
   "metadata": {},
   "source": [
    "По данным [сайта](https://cars-rating.ru/legkovye/samye-moshhnye-avtomobili-v-mire) самый мощный автомобиль имеет 5 000 л. с. Найдем количество автомобилей с мощностью выше этого значения."
   ]
  },
  {
   "cell_type": "code",
   "execution_count": 73,
   "metadata": {},
   "outputs": [
    {
     "data": {
      "text/plain": [
       "71"
      ]
     },
     "execution_count": 73,
     "metadata": {},
     "output_type": "execute_result"
    }
   ],
   "source": [
    "data.query('power > 5000')['registrationyear'].count()"
   ]
  },
  {
   "cell_type": "markdown",
   "metadata": {},
   "source": [
    "Удалим эти строки."
   ]
  },
  {
   "cell_type": "code",
   "execution_count": 74,
   "metadata": {},
   "outputs": [],
   "source": [
    "data = data.drop(index = data[data['power'] > 5000].index.to_list())"
   ]
  },
  {
   "cell_type": "markdown",
   "metadata": {},
   "source": [
    "По данным [сайта](https://fastmb.ru/autonews/autonews_mir/1367-samye-malomoschnye-avtomobili-top-10.html), самая маленькая мощность автомобиля составляет 4,2 л. с, выпускался такой автомобиль в 60-х годах. Найдем количество автомобилей с мощностью меньше 4 л. с."
   ]
  },
  {
   "cell_type": "code",
   "execution_count": 75,
   "metadata": {},
   "outputs": [
    {
     "data": {
      "text/plain": [
       "31651"
      ]
     },
     "execution_count": 75,
     "metadata": {},
     "output_type": "execute_result"
    }
   ],
   "source": [
    "data.query('power < 4')['registrationyear'].count()"
   ]
  },
  {
   "cell_type": "markdown",
   "metadata": {},
   "source": [
    "Данных достаточно много, удалять их не стоит. Найдем количество автомобилей с мощностью, равной 0."
   ]
  },
  {
   "cell_type": "code",
   "execution_count": 76,
   "metadata": {},
   "outputs": [
    {
     "data": {
      "text/plain": [
       "31611"
      ]
     },
     "execution_count": 76,
     "metadata": {},
     "output_type": "execute_result"
    }
   ],
   "source": [
    "data.query('power == 0')['registrationyear'].count()"
   ]
  },
  {
   "cell_type": "markdown",
   "metadata": {},
   "source": [
    "Для данных моделей автомобилей с одинаковыми марками могут быть указаны мощности в других строках. Тогда нули можно заменить их средними значениями. Найдем список моделей, принадлежащих только одному бренду, так как названия моделей могут пересекаться у разных марок."
   ]
  },
  {
   "cell_type": "code",
   "execution_count": 77,
   "metadata": {},
   "outputs": [],
   "source": [
    "model_list = (data.groupby('model')\n",
    "                  .agg({'brand':'nunique'})\n",
    "                  .query('brand == 1')\n",
    "                  .index.to_list())"
   ]
  },
  {
   "cell_type": "markdown",
   "metadata": {},
   "source": [
    "Для этих моделей найдем ненулевые мощности, если такие есть. Если значений мощности несколько, найдем среднее значение."
   ]
  },
  {
   "cell_type": "code",
   "execution_count": 78,
   "metadata": {},
   "outputs": [],
   "source": [
    "model_power = (data.drop(index=data.query('power == 0')\n",
    "                                   .index.to_list())\n",
    "                   .query('model in @model_list')\n",
    "                   .groupby('model')\n",
    "                   .agg({'power':'mean'})\n",
    "                   .round())"
   ]
  },
  {
   "cell_type": "markdown",
   "metadata": {},
   "source": [
    "На основе моделей из `model_power`создадим `Series` из мощностей для тех моделей, у которых в данных есть нули. Индексами будут соответствующие индексы из датафрейма `data`."
   ]
  },
  {
   "cell_type": "code",
   "execution_count": 79,
   "metadata": {},
   "outputs": [],
   "source": [
    "power_series = pd.Series(data=model_power.loc[data[(data['model'].isin(model_power.index.to_list())) & (data['power'] == 0)]['model'].to_list(),'power'].to_list(),\n",
    "                         index=data[(data['model'].isin(model_power.index.to_list())) & (data['power'] == 0)].index.to_list())"
   ]
  },
  {
   "cell_type": "markdown",
   "metadata": {},
   "source": [
    "Cоздадим `Series` с индексами всех объектов в таблице `data` с итоговыми значениями мощности."
   ]
  },
  {
   "cell_type": "code",
   "execution_count": 80,
   "metadata": {},
   "outputs": [],
   "source": [
    "power = pd.concat([power_series,data['power'].drop(index=power_series.index.to_list())]).sort_index()"
   ]
  },
  {
   "cell_type": "markdown",
   "metadata": {},
   "source": [
    "Заменим столбец `'power'` в таблице `data` на серию `power`."
   ]
  },
  {
   "cell_type": "code",
   "execution_count": 81,
   "metadata": {},
   "outputs": [],
   "source": [
    "data['power'] = power"
   ]
  },
  {
   "cell_type": "markdown",
   "metadata": {},
   "source": [
    "Выведем первые 5 строк этого столбца."
   ]
  },
  {
   "cell_type": "code",
   "execution_count": 82,
   "metadata": {},
   "outputs": [
    {
     "data": {
      "text/plain": [
       "0    105.0\n",
       "1    190.0\n",
       "2    163.0\n",
       "3     75.0\n",
       "4     69.0\n",
       "Name: power, dtype: float64"
      ]
     },
     "execution_count": 82,
     "metadata": {},
     "output_type": "execute_result"
    }
   ],
   "source": [
    "data['power'].head()"
   ]
  },
  {
   "cell_type": "markdown",
   "metadata": {},
   "source": [
    "Замена прошла корректно.\n",
    "\n",
    "Снова выведем количество нулей."
   ]
  },
  {
   "cell_type": "code",
   "execution_count": 83,
   "metadata": {},
   "outputs": [
    {
     "data": {
      "text/plain": [
       "7230"
      ]
     },
     "execution_count": 83,
     "metadata": {},
     "output_type": "execute_result"
    }
   ],
   "source": [
    "data.query('power == 0')['registrationyear'].count()"
   ]
  },
  {
   "cell_type": "markdown",
   "metadata": {},
   "source": [
    "Эти строки можно удалить."
   ]
  },
  {
   "cell_type": "code",
   "execution_count": 84,
   "metadata": {},
   "outputs": [],
   "source": [
    "data = data.drop(index = data[data['power'] == 0].index.to_list())"
   ]
  },
  {
   "cell_type": "markdown",
   "metadata": {},
   "source": [
    "##### Столбец `'registrationmonth'`"
   ]
  },
  {
   "cell_type": "markdown",
   "metadata": {},
   "source": [
    "Этот столбец содержит месяц регистрации автомобиля. Выведем основные характеристики."
   ]
  },
  {
   "cell_type": "code",
   "execution_count": 85,
   "metadata": {},
   "outputs": [
    {
     "data": {
      "text/plain": [
       "count    320020.000000\n",
       "mean          5.894332\n",
       "std           3.645189\n",
       "min           0.000000\n",
       "25%           3.000000\n",
       "50%           6.000000\n",
       "75%           9.000000\n",
       "max          12.000000\n",
       "Name: registrationmonth, dtype: float64"
      ]
     },
     "execution_count": 85,
     "metadata": {},
     "output_type": "execute_result"
    }
   ],
   "source": [
    "data['registrationmonth'].describe()"
   ]
  },
  {
   "cell_type": "markdown",
   "metadata": {},
   "source": [
    "Найдем количество объектов с нулевыми значениями в этом столбце."
   ]
  },
  {
   "cell_type": "code",
   "execution_count": 86,
   "metadata": {},
   "outputs": [
    {
     "data": {
      "text/plain": [
       "25067"
      ]
     },
     "execution_count": 86,
     "metadata": {},
     "output_type": "execute_result"
    }
   ],
   "source": [
    "data.query('registrationmonth == 0')['registrationyear'].count()"
   ]
  },
  {
   "cell_type": "markdown",
   "metadata": {},
   "source": [
    "Выведем распределение данных по месяцу регистрации."
   ]
  },
  {
   "cell_type": "code",
   "execution_count": 87,
   "metadata": {},
   "outputs": [
    {
     "data": {
      "image/png": "[encoded data removed]",
      "text/plain": [
       "<Figure size 432x288 with 1 Axes>"
      ]
     },
     "metadata": {
      "needs_background": "light"
     },
     "output_type": "display_data"
    }
   ],
   "source": [
    "(data['registrationmonth']\n",
    "     .hist(bins=13)\n",
    "     .set_title('Распределние по месяцу регистрации\\n', \n",
    "                fontsize = 16, \n",
    "                color = 'SteelBlue'));\n",
    "\n",
    "plt.xlabel('Месяц регистрации',fontsize = 12)\n",
    "plt.ylabel('Количество объектов',fontsize = 12)\n",
    "plt.show()"
   ]
  },
  {
   "cell_type": "markdown",
   "metadata": {},
   "source": [
    "Нули лучше заменить на случайные значения от 1 до 12."
   ]
  },
  {
   "cell_type": "code",
   "execution_count": 88,
   "metadata": {},
   "outputs": [],
   "source": [
    "data['registrationmonth'] = (\n",
    " data['registrationmonth'].where(data['registrationmonth'] > 0,\n",
    "                                 pd.Series(randint(1,\n",
    "                                                   12,\n",
    "                                                   size=data['registrationmonth'].shape[0]),\n",
    "                                           index=data['registrationmonth'].index)))"
   ]
  },
  {
   "cell_type": "markdown",
   "metadata": {},
   "source": [
    "Выведем обновленную гистограмму."
   ]
  },
  {
   "cell_type": "code",
   "execution_count": 89,
   "metadata": {},
   "outputs": [
    {
     "data": {
      "image/png": "[encoded data removed]",
      "text/plain": [
       "<Figure size 432x288 with 1 Axes>"
      ]
     },
     "metadata": {
      "needs_background": "light"
     },
     "output_type": "display_data"
    }
   ],
   "source": [
    "(data['registrationmonth']\n",
    "     .hist(bins=12)\n",
    "     .set_title('Распределние по месяцу регистрации\\n', \n",
    "                fontsize = 16, \n",
    "                color = 'SteelBlue'));\n",
    "\n",
    "plt.xlabel('Месяц регистрации',fontsize = 12)\n",
    "plt.ylabel('Количество объектов',fontsize = 12)\n",
    "plt.show()"
   ]
  },
  {
   "cell_type": "markdown",
   "metadata": {},
   "source": [
    "Замена прошла корректно."
   ]
  },
  {
   "cell_type": "markdown",
   "metadata": {},
   "source": [
    "### Подготовка выборок"
   ]
  },
  {
   "cell_type": "markdown",
   "metadata": {},
   "source": [
    "Для подготовки выборок нужно провести следующие процедуры:\n",
    "\n",
    "- Проверить данные на мультиколлинеарность;\n",
    "- Отфильтровать лишние и малозначащие признаки;\n",
    "- Разбить данные на выборки;\n",
    "- Обработать категориальные признаки;\n",
    "- Отмасштабировать признаки."
   ]
  },
  {
   "cell_type": "markdown",
   "metadata": {},
   "source": [
    "#### Проверка на мультиколлинеарность"
   ]
  },
  {
   "cell_type": "markdown",
   "metadata": {},
   "source": [
    "Проверим признаки на мультиколлинеарность."
   ]
  },
  {
   "cell_type": "code",
   "execution_count": 90,
   "metadata": {},
   "outputs": [
    {
     "data": {
      "text/html": [
       "<div>\n",
       "<style scoped>\n",
       "    .dataframe tbody tr th:only-of-type {\n",
       "        vertical-align: middle;\n",
       "    }\n",
       "\n",
       "    .dataframe tbody tr th {\n",
       "        vertical-align: top;\n",
       "    }\n",
       "\n",
       "    .dataframe thead th {\n",
       "        text-align: right;\n",
       "    }\n",
       "</style>\n",
       "<table border=\"1\" class=\"dataframe\">\n",
       "  <thead>\n",
       "    <tr style=\"text-align: right;\">\n",
       "      <th></th>\n",
       "      <th>price</th>\n",
       "      <th>registrationyear</th>\n",
       "      <th>power</th>\n",
       "      <th>kilometer</th>\n",
       "      <th>registrationmonth</th>\n",
       "      <th>numberofpictures</th>\n",
       "      <th>postalcode</th>\n",
       "    </tr>\n",
       "  </thead>\n",
       "  <tbody>\n",
       "    <tr>\n",
       "      <th>price</th>\n",
       "      <td>1.000000</td>\n",
       "      <td>0.462815</td>\n",
       "      <td>0.389552</td>\n",
       "      <td>-0.373533</td>\n",
       "      <td>0.015149</td>\n",
       "      <td>NaN</td>\n",
       "      <td>0.069602</td>\n",
       "    </tr>\n",
       "    <tr>\n",
       "      <th>registrationyear</th>\n",
       "      <td>0.462815</td>\n",
       "      <td>1.000000</td>\n",
       "      <td>0.096776</td>\n",
       "      <td>-0.259898</td>\n",
       "      <td>0.010310</td>\n",
       "      <td>NaN</td>\n",
       "      <td>0.029720</td>\n",
       "    </tr>\n",
       "    <tr>\n",
       "      <th>power</th>\n",
       "      <td>0.389552</td>\n",
       "      <td>0.096776</td>\n",
       "      <td>1.000000</td>\n",
       "      <td>0.084497</td>\n",
       "      <td>0.018619</td>\n",
       "      <td>NaN</td>\n",
       "      <td>0.038093</td>\n",
       "    </tr>\n",
       "    <tr>\n",
       "      <th>kilometer</th>\n",
       "      <td>-0.373533</td>\n",
       "      <td>-0.259898</td>\n",
       "      <td>0.084497</td>\n",
       "      <td>1.000000</td>\n",
       "      <td>0.007161</td>\n",
       "      <td>NaN</td>\n",
       "      <td>-0.011398</td>\n",
       "    </tr>\n",
       "    <tr>\n",
       "      <th>registrationmonth</th>\n",
       "      <td>0.015149</td>\n",
       "      <td>0.010310</td>\n",
       "      <td>0.018619</td>\n",
       "      <td>0.007161</td>\n",
       "      <td>1.000000</td>\n",
       "      <td>NaN</td>\n",
       "      <td>-0.008364</td>\n",
       "    </tr>\n",
       "    <tr>\n",
       "      <th>numberofpictures</th>\n",
       "      <td>NaN</td>\n",
       "      <td>NaN</td>\n",
       "      <td>NaN</td>\n",
       "      <td>NaN</td>\n",
       "      <td>NaN</td>\n",
       "      <td>NaN</td>\n",
       "      <td>NaN</td>\n",
       "    </tr>\n",
       "    <tr>\n",
       "      <th>postalcode</th>\n",
       "      <td>0.069602</td>\n",
       "      <td>0.029720</td>\n",
       "      <td>0.038093</td>\n",
       "      <td>-0.011398</td>\n",
       "      <td>-0.008364</td>\n",
       "      <td>NaN</td>\n",
       "      <td>1.000000</td>\n",
       "    </tr>\n",
       "  </tbody>\n",
       "</table>\n",
       "</div>"
      ],
      "text/plain": [
       "                      price  registrationyear     power  kilometer  \\\n",
       "price              1.000000          0.462815  0.389552  -0.373533   \n",
       "registrationyear   0.462815          1.000000  0.096776  -0.259898   \n",
       "power              0.389552          0.096776  1.000000   0.084497   \n",
       "kilometer         -0.373533         -0.259898  0.084497   1.000000   \n",
       "registrationmonth  0.015149          0.010310  0.018619   0.007161   \n",
       "numberofpictures        NaN               NaN       NaN        NaN   \n",
       "postalcode         0.069602          0.029720  0.038093  -0.011398   \n",
       "\n",
       "                   registrationmonth  numberofpictures  postalcode  \n",
       "price                       0.015149               NaN    0.069602  \n",
       "registrationyear            0.010310               NaN    0.029720  \n",
       "power                       0.018619               NaN    0.038093  \n",
       "kilometer                   0.007161               NaN   -0.011398  \n",
       "registrationmonth           1.000000               NaN   -0.008364  \n",
       "numberofpictures                 NaN               NaN         NaN  \n",
       "postalcode                 -0.008364               NaN    1.000000  "
      ]
     },
     "execution_count": 90,
     "metadata": {},
     "output_type": "execute_result"
    }
   ],
   "source": [
    "data.corr()"
   ]
  },
  {
   "cell_type": "markdown",
   "metadata": {},
   "source": [
    "Между стоимостью автмобиля и годом регистрации, а также мощностью автомобиля есть умеренная линейная связь. Между датой создания анкеты и датой скачивания анкеты есть очень высокая линейная связь. У даты последней активности пользователя есть заметная линейная связь с датами создания и скачивания анкеты, а со стоимостью автомобиля есть слабая линейная связь. Между остальными признаками линейной связи нет. Мультиколлинеарность наблюдается между столбцами с датами создания и скачивания анкеты, а также датой последней активности пользователя."
   ]
  },
  {
   "cell_type": "markdown",
   "metadata": {},
   "source": [
    "#### Удаление лишних признаков"
   ]
  },
  {
   "cell_type": "markdown",
   "metadata": {},
   "source": [
    "Необходимо удалить следующие столбцы:\n",
    "\n",
    "- `'numberofpictures'` — количество фотографий автомобиля;\n",
    "- `'datecreated'` — дата создания анкеты;\n",
    "- `'lastseen'` — дата последней активности пользователя;\n",
    "- `'datecrawled'` - дата скачивания анкеты из базы.\n",
    "\n",
    "В столбце `'numberofpictures'` все значения нулевые:"
   ]
  },
  {
   "cell_type": "code",
   "execution_count": 91,
   "metadata": {},
   "outputs": [
    {
     "data": {
      "text/plain": [
       "array([0], dtype=int64)"
      ]
     },
     "execution_count": 91,
     "metadata": {},
     "output_type": "execute_result"
    }
   ],
   "source": [
    "data['numberofpictures'].unique()"
   ]
  },
  {
   "cell_type": "markdown",
   "metadata": {},
   "source": [
    "Столбцы с датами также нужно удалить, так как на данный момент корректно использовать их не получится."
   ]
  },
  {
   "cell_type": "code",
   "execution_count": 92,
   "metadata": {},
   "outputs": [],
   "source": [
    "data = data.drop(columns = ['numberofpictures','datecreated','lastseen','datecrawled'])"
   ]
  },
  {
   "cell_type": "markdown",
   "metadata": {},
   "source": [
    "#### Формирование выборок"
   ]
  },
  {
   "cell_type": "markdown",
   "metadata": {},
   "source": [
    "Отделим признаки от целевого признака."
   ]
  },
  {
   "cell_type": "code",
   "execution_count": 93,
   "metadata": {},
   "outputs": [],
   "source": [
    "features = data.drop(columns = ['price'])\n",
    "target = data['price']"
   ]
  },
  {
   "cell_type": "markdown",
   "metadata": {},
   "source": [
    "Разобьем данные на обучающую и тестовую выборки. Для этого зафиксируем параметр `random_state`."
   ]
  },
  {
   "cell_type": "code",
   "execution_count": 94,
   "metadata": {},
   "outputs": [],
   "source": [
    "state = np.random.RandomState(12345)"
   ]
  },
  {
   "cell_type": "code",
   "execution_count": 95,
   "metadata": {},
   "outputs": [],
   "source": [
    "features_train, features_test, target_train, target_test = train_test_split(\n",
    "    features, target, test_size=0.25, random_state=state)"
   ]
  },
  {
   "cell_type": "markdown",
   "metadata": {},
   "source": [
    "#### Кодирование методом OHE"
   ]
  },
  {
   "cell_type": "markdown",
   "metadata": {},
   "source": [
    "Обработаем категориальные признаки методом OHE. Создадим список категориальных параметров. "
   ]
  },
  {
   "cell_type": "code",
   "execution_count": 96,
   "metadata": {},
   "outputs": [],
   "source": [
    "categorial_features = ['vehicletype',\n",
    "                       'gearbox',\n",
    "                       'model',\n",
    "                       'registrationmonth',\n",
    "                       'fueltype',\n",
    "                       'brand',\n",
    "                       'repaired']"
   ]
  },
  {
   "cell_type": "markdown",
   "metadata": {},
   "source": [
    "Создадим объект класса `OneHotEncoder`, обучим его на категориальных признаках обучающей выборки. В параметрах укажем, что необходимо удалить первый столбец, чтобы избежать дамми-ловушки."
   ]
  },
  {
   "cell_type": "code",
   "execution_count": 97,
   "metadata": {},
   "outputs": [],
   "source": [
    "encoder = OneHotEncoder(drop='first').fit(features_train[categorial_features])"
   ]
  },
  {
   "cell_type": "markdown",
   "metadata": {},
   "source": [
    "Создадим отдельные обучающую и тестовую выборку, куда добавим закодированные признаки."
   ]
  },
  {
   "cell_type": "code",
   "execution_count": 98,
   "metadata": {},
   "outputs": [],
   "source": [
    "features_train_ohe = features_train.drop(columns=categorial_features)\n",
    "features_test_ohe = features_test.drop(columns=categorial_features)"
   ]
  },
  {
   "cell_type": "markdown",
   "metadata": {},
   "source": [
    "Для добавления закодированных столбцов в обучающую выборку нужно создать список из названий сгенерированных столбцов, исключая первый столбец. Для этого напишем цикл по элементам списка из названий сгенерированных столбцов, в котором будем формировать список новых столбцов за исключением первых."
   ]
  },
  {
   "cell_type": "code",
   "execution_count": 99,
   "metadata": {},
   "outputs": [],
   "source": [
    "#Список из массивов с названиями новых столбцов\n",
    "\n",
    "encoder_categories = encoder.categories_\n",
    "\n",
    "#Список изназваний новых столбцов\n",
    "\n",
    "categories = []\n",
    "\n",
    "for cat in encoder_categories:\n",
    "    \n",
    "    #Добавляем в список названия столбцов, исключая первый\n",
    "    \n",
    "    categories += list(cat)[1:]"
   ]
  },
  {
   "cell_type": "markdown",
   "metadata": {},
   "source": [
    "Выведем размер полученного списка."
   ]
  },
  {
   "cell_type": "code",
   "execution_count": 100,
   "metadata": {},
   "outputs": [
    {
     "data": {
      "text/plain": [
       "315"
      ]
     },
     "execution_count": 100,
     "metadata": {},
     "output_type": "execute_result"
    }
   ],
   "source": [
    "len(categories)"
   ]
  },
  {
   "cell_type": "markdown",
   "metadata": {},
   "source": [
    "Проверим, нет ли повторений в названиях столбцов. Выведем количество уникальных значений."
   ]
  },
  {
   "cell_type": "code",
   "execution_count": 101,
   "metadata": {
    "scrolled": true
   },
   "outputs": [
    {
     "data": {
      "text/plain": [
       "(315,)"
      ]
     },
     "execution_count": 101,
     "metadata": {},
     "output_type": "execute_result"
    }
   ],
   "source": [
    "pd.Series(categories).unique().shape"
   ]
  },
  {
   "cell_type": "markdown",
   "metadata": {},
   "source": [
    "Закодируем столбцы и сформируем из них датафрейм."
   ]
  },
  {
   "cell_type": "code",
   "execution_count": 102,
   "metadata": {},
   "outputs": [],
   "source": [
    "encoded_cat_train = pd.DataFrame((encoder.transform(features_train[categorial_features])\n",
    "                                         .toarray()),\n",
    "                                 columns=categories,\n",
    "                                 index=features_train_ohe.index.to_list())"
   ]
  },
  {
   "cell_type": "markdown",
   "metadata": {},
   "source": [
    "Объединим полученный датафрейм и количественные признаки в закодированную обучающую выборку."
   ]
  },
  {
   "cell_type": "code",
   "execution_count": 103,
   "metadata": {},
   "outputs": [],
   "source": [
    "features_train_ohe = pd.concat([features_train_ohe,encoded_cat_train],axis=1)"
   ]
  },
  {
   "cell_type": "markdown",
   "metadata": {},
   "source": [
    "Выведем размер полученного датафрейма."
   ]
  },
  {
   "cell_type": "code",
   "execution_count": 104,
   "metadata": {},
   "outputs": [
    {
     "data": {
      "text/plain": [
       "(240015, 319)"
      ]
     },
     "execution_count": 104,
     "metadata": {},
     "output_type": "execute_result"
    }
   ],
   "source": [
    "features_train_ohe.shape"
   ]
  },
  {
   "cell_type": "markdown",
   "metadata": {},
   "source": [
    "Аналогично закодируем тестовую выборку уже обученным энкодером."
   ]
  },
  {
   "cell_type": "code",
   "execution_count": 105,
   "metadata": {},
   "outputs": [
    {
     "data": {
      "text/plain": [
       "(80005, 319)"
      ]
     },
     "execution_count": 105,
     "metadata": {},
     "output_type": "execute_result"
    }
   ],
   "source": [
    "encoded_cat_test = pd.DataFrame((encoder.transform(features_test[categorial_features])\n",
    "                                        .toarray()),\n",
    "                                 columns=categories,\n",
    "                                 index=features_test_ohe.index.to_list())\n",
    "\n",
    "features_test_ohe = pd.concat([features_test_ohe,encoded_cat_test],axis=1)\n",
    "\n",
    "features_test_ohe.shape"
   ]
  },
  {
   "cell_type": "markdown",
   "metadata": {},
   "source": [
    "Проведем масштабирование количественных признаков."
   ]
  },
  {
   "cell_type": "code",
   "execution_count": 106,
   "metadata": {},
   "outputs": [],
   "source": [
    "pd.options.mode.chained_assignment = None\n",
    "\n",
    "numeric = ['registrationyear','power','kilometer']\n",
    "\n",
    "scaler = StandardScaler()\n",
    "scaler.fit(features_train[numeric])\n",
    "\n",
    "features_train[numeric] = (scaler.transform(features_train[numeric]))\n",
    "features_train_ohe[numeric] = (scaler.transform(features_train_ohe[numeric]))\n",
    "\n",
    "features_test[numeric] = (scaler.transform(features_test[numeric]))\n",
    "features_test_ohe[numeric] = (scaler.transform(features_test_ohe[numeric]))"
   ]
  },
  {
   "cell_type": "markdown",
   "metadata": {},
   "source": [
    "#### Порядковое кодирование"
   ]
  },
  {
   "cell_type": "markdown",
   "metadata": {},
   "source": [
    "Для обучения модели решающего дерева категориальные признаки закодируем порядковым кодированием. Создадим и обучим на обучающей выборке объект класса `OrdinalEncoder`."
   ]
  },
  {
   "cell_type": "code",
   "execution_count": 107,
   "metadata": {},
   "outputs": [
    {
     "data": {
      "text/plain": [
       "OrdinalEncoder()"
      ]
     },
     "execution_count": 107,
     "metadata": {},
     "output_type": "execute_result"
    }
   ],
   "source": [
    "ordinal_encoder = OrdinalEncoder()\n",
    "ordinal_encoder.fit(features_train[categorial_features])"
   ]
  },
  {
   "cell_type": "markdown",
   "metadata": {},
   "source": [
    "Создадим обучающую и тестовую выборки, к которым применим порядковое кодирование."
   ]
  },
  {
   "cell_type": "code",
   "execution_count": 108,
   "metadata": {},
   "outputs": [],
   "source": [
    "features_train_encoded = features_train.drop(columns=categorial_features)\n",
    "features_test_encoded = features_test.drop(columns=categorial_features)"
   ]
  },
  {
   "cell_type": "markdown",
   "metadata": {},
   "source": [
    "Создадим датафреймы с закодированными признаками."
   ]
  },
  {
   "cell_type": "code",
   "execution_count": 109,
   "metadata": {},
   "outputs": [],
   "source": [
    "encoded_ordinal_cat_train = pd.DataFrame(\n",
    "         (ordinal_encoder.transform(features_train[categorial_features])),\n",
    "         columns=categorial_features,\n",
    "         index = features_train_encoded.index.to_list()\n",
    "                                        )\n",
    "\n",
    "encoded_ordinal_cat_test = pd.DataFrame(\n",
    "         (ordinal_encoder.transform(features_test[categorial_features])),\n",
    "         columns=categorial_features,\n",
    "         index = features_test_encoded.index.to_list()\n",
    "                                        )"
   ]
  },
  {
   "cell_type": "markdown",
   "metadata": {},
   "source": [
    "Объединим закодированные признаки с остальными в обучающую и тестовую выборки."
   ]
  },
  {
   "cell_type": "code",
   "execution_count": 110,
   "metadata": {},
   "outputs": [],
   "source": [
    "features_train_encoded = pd.concat([features_train_encoded,encoded_ordinal_cat_train],\n",
    "                                   axis=1)\n",
    "\n",
    "features_test_encoded = pd.concat([features_test_encoded,encoded_ordinal_cat_test],\n",
    "                                  axis=1)"
   ]
  },
  {
   "cell_type": "markdown",
   "metadata": {},
   "source": [
    "Для проверки выведем размеры полученных выборок."
   ]
  },
  {
   "cell_type": "code",
   "execution_count": 111,
   "metadata": {},
   "outputs": [
    {
     "name": "stdout",
     "output_type": "stream",
     "text": [
      "(240015, 11)\n",
      "(80005, 11)\n"
     ]
    }
   ],
   "source": [
    "print(features_train_encoded.shape)\n",
    "print(features_test_encoded.shape)"
   ]
  },
  {
   "cell_type": "markdown",
   "metadata": {},
   "source": [
    "## Обучение моделей"
   ]
  },
  {
   "cell_type": "markdown",
   "metadata": {},
   "source": [
    "Обучим модели случайного леса, градиентного бустинга из библиотеки CatBoost и LightGBM. Обучение и оценку качества моделей будем проводить методом кросс-валидации.\n",
    "\n",
    "Найдем оптимальные гиперпараметры моделей для минимизации метрики RMSE."
   ]
  },
  {
   "cell_type": "markdown",
   "metadata": {},
   "source": [
    "### Модель случайного леса"
   ]
  },
  {
   "cell_type": "markdown",
   "metadata": {},
   "source": [
    "Создадим модель `RandomForestRegressor` и передадим ее объекту класса `GridSearchCV` для оптимизации гиперпараметров и оценки качества модели методом кросс-валидации. Гиперпараметры для оптимизации:\n",
    "- максимальная глубина дерева `max_depth`\n",
    "- количество деревьев `n_estimators`\n",
    "\n",
    "Значения этих гиперпараметров образуют сетку, по которой происходит поиск их наилучшей комбинации."
   ]
  },
  {
   "cell_type": "code",
   "execution_count": 112,
   "metadata": {},
   "outputs": [],
   "source": [
    "params_rf = {'max_depth': [2, 4, 6],\n",
    "             'n_estimators': [50, 100, 150]}\n",
    "\n",
    "model_rf = RandomForestRegressor(random_state=12345)\n",
    "\n",
    "gsearch_rf = GridSearchCV(model_rf, \n",
    "                          param_grid = params_rf,\n",
    "                          scoring='neg_root_mean_squared_error',\n",
    "                          cv=5)"
   ]
  },
  {
   "cell_type": "markdown",
   "metadata": {},
   "source": [
    "Проведем поиск и обучение наилучшей модели на обучающей выборке с категориальными признаками, закодированными порядковым кодированием."
   ]
  },
  {
   "cell_type": "code",
   "execution_count": 113,
   "metadata": {},
   "outputs": [
    {
     "name": "stdout",
     "output_type": "stream",
     "text": [
      "Wall time: 10min 51s\n"
     ]
    },
    {
     "data": {
      "text/plain": [
       "GridSearchCV(cv=5, estimator=RandomForestRegressor(random_state=12345),\n",
       "             param_grid={'max_depth': [2, 4, 6],\n",
       "                         'n_estimators': [50, 100, 150]},\n",
       "             scoring='neg_root_mean_squared_error')"
      ]
     },
     "execution_count": 113,
     "metadata": {},
     "output_type": "execute_result"
    }
   ],
   "source": [
    "%%time\n",
    "\n",
    "gsearch_rf.fit(features_train_encoded, target_train)"
   ]
  },
  {
   "cell_type": "markdown",
   "metadata": {},
   "source": [
    "Время поиска наилучшей модели - 10 мин 51 с.\n",
    "\n",
    "Выведем параметры обучения наилучшей модели."
   ]
  },
  {
   "cell_type": "code",
   "execution_count": 114,
   "metadata": {},
   "outputs": [
    {
     "data": {
      "text/html": [
       "<div>\n",
       "<style scoped>\n",
       "    .dataframe tbody tr th:only-of-type {\n",
       "        vertical-align: middle;\n",
       "    }\n",
       "\n",
       "    .dataframe tbody tr th {\n",
       "        vertical-align: top;\n",
       "    }\n",
       "\n",
       "    .dataframe thead th {\n",
       "        text-align: right;\n",
       "    }\n",
       "</style>\n",
       "<table border=\"1\" class=\"dataframe\">\n",
       "  <thead>\n",
       "    <tr style=\"text-align: right;\">\n",
       "      <th></th>\n",
       "      <th>mean_fit_time</th>\n",
       "      <th>std_fit_time</th>\n",
       "      <th>mean_score_time</th>\n",
       "      <th>std_score_time</th>\n",
       "      <th>param_max_depth</th>\n",
       "      <th>param_n_estimators</th>\n",
       "      <th>params</th>\n",
       "      <th>split0_test_score</th>\n",
       "      <th>split1_test_score</th>\n",
       "      <th>split2_test_score</th>\n",
       "      <th>split3_test_score</th>\n",
       "      <th>split4_test_score</th>\n",
       "      <th>mean_test_score</th>\n",
       "      <th>std_test_score</th>\n",
       "      <th>rank_test_score</th>\n",
       "    </tr>\n",
       "  </thead>\n",
       "  <tbody>\n",
       "    <tr>\n",
       "      <th>8</th>\n",
       "      <td>30.016934</td>\n",
       "      <td>0.096636</td>\n",
       "      <td>0.296804</td>\n",
       "      <td>0.000002</td>\n",
       "      <td>6</td>\n",
       "      <td>150</td>\n",
       "      <td>{'max_depth': 6, 'n_estimators': 150}</td>\n",
       "      <td>-2229.316373</td>\n",
       "      <td>-2260.521099</td>\n",
       "      <td>-2248.4976</td>\n",
       "      <td>-2251.695245</td>\n",
       "      <td>-2246.869351</td>\n",
       "      <td>-2247.379934</td>\n",
       "      <td>10.18935</td>\n",
       "      <td>2</td>\n",
       "    </tr>\n",
       "  </tbody>\n",
       "</table>\n",
       "</div>"
      ],
      "text/plain": [
       "   mean_fit_time  std_fit_time  mean_score_time  std_score_time  \\\n",
       "8      30.016934      0.096636         0.296804        0.000002   \n",
       "\n",
       "  param_max_depth param_n_estimators                                 params  \\\n",
       "8               6                150  {'max_depth': 6, 'n_estimators': 150}   \n",
       "\n",
       "   split0_test_score  split1_test_score  split2_test_score  split3_test_score  \\\n",
       "8       -2229.316373       -2260.521099         -2248.4976       -2251.695245   \n",
       "\n",
       "   split4_test_score  mean_test_score  std_test_score  rank_test_score  \n",
       "8       -2246.869351     -2247.379934        10.18935                2  "
      ]
     },
     "execution_count": 114,
     "metadata": {},
     "output_type": "execute_result"
    }
   ],
   "source": [
    "gsearch_rf_results = pd.DataFrame(gsearch_rf.cv_results_)\n",
    "\n",
    "gsearch_rf_results.tail(1)"
   ]
  },
  {
   "cell_type": "markdown",
   "metadata": {},
   "source": [
    "Для сравнения моделей найдем время обучения и предсказания на обучающей выборке. Создадим модель с наилучшей комбинацией гиперпараметров."
   ]
  },
  {
   "cell_type": "code",
   "execution_count": 115,
   "metadata": {},
   "outputs": [],
   "source": [
    "model_rf = RandomForestRegressor(random_state=12345,\n",
    "                                 max_depth = 6,\n",
    "                                 n_estimators = 150)"
   ]
  },
  {
   "cell_type": "markdown",
   "metadata": {},
   "source": [
    "Обучим модель и найдем время обучения."
   ]
  },
  {
   "cell_type": "code",
   "execution_count": 116,
   "metadata": {},
   "outputs": [
    {
     "name": "stdout",
     "output_type": "stream",
     "text": [
      "Wall time: 39.9 s\n"
     ]
    },
    {
     "data": {
      "text/plain": [
       "RandomForestRegressor(max_depth=6, n_estimators=150, random_state=12345)"
      ]
     },
     "execution_count": 116,
     "metadata": {},
     "output_type": "execute_result"
    }
   ],
   "source": [
    "%%time\n",
    "\n",
    "model_rf.fit(features_train_encoded, target_train)"
   ]
  },
  {
   "cell_type": "markdown",
   "metadata": {},
   "source": [
    "Время обучения 40 с."
   ]
  },
  {
   "cell_type": "markdown",
   "metadata": {},
   "source": [
    "Найдем время предсказания."
   ]
  },
  {
   "cell_type": "code",
   "execution_count": 117,
   "metadata": {},
   "outputs": [
    {
     "name": "stdout",
     "output_type": "stream",
     "text": [
      "Wall time: 1.6 s\n"
     ]
    },
    {
     "data": {
      "text/plain": [
       "array([ 1135.10123928,  1135.10123928, 10224.4381215 , ...,\n",
       "        3078.49626527, 15344.85176018,  1891.96303146])"
      ]
     },
     "execution_count": 117,
     "metadata": {},
     "output_type": "execute_result"
    }
   ],
   "source": [
    "%%time\n",
    "\n",
    "model_rf.predict(features_train_encoded)"
   ]
  },
  {
   "cell_type": "markdown",
   "metadata": {},
   "source": [
    "Время предсказания 1,6 с."
   ]
  },
  {
   "cell_type": "markdown",
   "metadata": {},
   "source": [
    "Для сравнения моделей сохраним время обучения и предсказания, а также полученное с помощью кросс-валидации значение метрики RMSE наилучшей модели в датафрейм `results`."
   ]
  },
  {
   "cell_type": "code",
   "execution_count": 142,
   "metadata": {},
   "outputs": [],
   "source": [
    "results = pd.DataFrame(columns=['rmse','mean_fit_time, s','mean_score_time, s'],\n",
    "                       index=['rf'])\n",
    "results.loc['rf'] = [round(abs(gsearch_rf.best_score_),2),\n",
    "                     40,\n",
    "                     1.6]"
   ]
  },
  {
   "cell_type": "code",
   "execution_count": 141,
   "metadata": {},
   "outputs": [
    {
     "name": "stdout",
     "output_type": "stream",
     "text": [
      "RMSE: 2247.04\n",
      "Время обучения: 40.00 с\n",
      "Время предсказания: 1.60 с\n",
      "Параметры:\n",
      "\tmax_depth: 6\n",
      "\tn_estimators: 100\n"
     ]
    }
   ],
   "source": [
    "print('RMSE: %0.2f' % abs(gsearch_rf.best_score_))\n",
    "print('Время обучения: %0.2f с' % 40)\n",
    "print('Время предсказания: %0.2f с' % 1.6)\n",
    "print('Параметры:')\n",
    "best_parameters = gsearch_rf.best_estimator_.get_params()\n",
    "for param_name in sorted(params_rf.keys()):\n",
    "    print('\\t%s: %r' % (param_name, best_parameters[param_name]))"
   ]
  },
  {
   "cell_type": "markdown",
   "metadata": {},
   "source": [
    "### CatBoost"
   ]
  },
  {
   "cell_type": "markdown",
   "metadata": {},
   "source": [
    "Аналогично найдем наилучшую модель градиентного бустинга из библиотеки CatBoost. Модель `CatBoostRegressor` учитывает категориальные признаки, поэтому используем обучающую выборку с незакодированными признаками, а модели передадим список с названиями категориальных признаков `categorial_features`.\n",
    "\n",
    "Будем менять следующие гиперпараметры:\n",
    "- максимальная глубина дерева `max_depth`\n",
    "- количество деревьев `iterations`\n",
    "- скорость обучения `learning_rate`"
   ]
  },
  {
   "cell_type": "code",
   "execution_count": 120,
   "metadata": {},
   "outputs": [],
   "source": [
    "params_cb = {'max_depth': [2, 4, 6],\n",
    "             'iterations': [50, 100, 150],\n",
    "             'learning_rate': [0.05, 0.1, 0.15]}\n",
    "\n",
    "model_cb = cb.CatBoostRegressor(loss_function='RMSE',\n",
    "                                verbose = 0,\n",
    "                                cat_features = categorial_features)\n",
    "\n",
    "gsearch_cb = GridSearchCV(model_cb, \n",
    "                          param_grid = params_cb,\n",
    "                          scoring='neg_root_mean_squared_error',\n",
    "                          cv=5)"
   ]
  },
  {
   "cell_type": "markdown",
   "metadata": {},
   "source": [
    "Найдем наилучшую модель с помощью кросс-валидации."
   ]
  },
  {
   "cell_type": "code",
   "execution_count": 121,
   "metadata": {},
   "outputs": [
    {
     "name": "stdout",
     "output_type": "stream",
     "text": [
      "Wall time: 8min 21s\n"
     ]
    },
    {
     "data": {
      "text/plain": [
       "GridSearchCV(cv=5,\n",
       "             estimator=<catboost.core.CatBoostRegressor object at 0x00000215453E35B0>,\n",
       "             param_grid={'iterations': [50, 100, 150],\n",
       "                         'learning_rate': [0.05, 0.1, 0.15],\n",
       "                         'max_depth': [2, 4, 6]},\n",
       "             scoring='neg_root_mean_squared_error')"
      ]
     },
     "execution_count": 121,
     "metadata": {},
     "output_type": "execute_result"
    }
   ],
   "source": [
    "%%time\n",
    "\n",
    "gsearch_cb.fit(features_train, target_train)"
   ]
  },
  {
   "cell_type": "markdown",
   "metadata": {},
   "source": [
    "Время поиска наилучшей модели - 8 мин 21 с."
   ]
  },
  {
   "cell_type": "markdown",
   "metadata": {},
   "source": [
    "Выведем характеристики обучения найденной модели."
   ]
  },
  {
   "cell_type": "code",
   "execution_count": 122,
   "metadata": {},
   "outputs": [
    {
     "data": {
      "text/html": [
       "<div>\n",
       "<style scoped>\n",
       "    .dataframe tbody tr th:only-of-type {\n",
       "        vertical-align: middle;\n",
       "    }\n",
       "\n",
       "    .dataframe tbody tr th {\n",
       "        vertical-align: top;\n",
       "    }\n",
       "\n",
       "    .dataframe thead th {\n",
       "        text-align: right;\n",
       "    }\n",
       "</style>\n",
       "<table border=\"1\" class=\"dataframe\">\n",
       "  <thead>\n",
       "    <tr style=\"text-align: right;\">\n",
       "      <th></th>\n",
       "      <th>mean_fit_time</th>\n",
       "      <th>std_fit_time</th>\n",
       "      <th>mean_score_time</th>\n",
       "      <th>std_score_time</th>\n",
       "      <th>param_iterations</th>\n",
       "      <th>param_learning_rate</th>\n",
       "      <th>param_max_depth</th>\n",
       "      <th>params</th>\n",
       "      <th>split0_test_score</th>\n",
       "      <th>split1_test_score</th>\n",
       "      <th>split2_test_score</th>\n",
       "      <th>split3_test_score</th>\n",
       "      <th>split4_test_score</th>\n",
       "      <th>mean_test_score</th>\n",
       "      <th>std_test_score</th>\n",
       "      <th>rank_test_score</th>\n",
       "    </tr>\n",
       "  </thead>\n",
       "  <tbody>\n",
       "    <tr>\n",
       "      <th>26</th>\n",
       "      <td>6.754659</td>\n",
       "      <td>0.057269</td>\n",
       "      <td>0.10623</td>\n",
       "      <td>0.011692</td>\n",
       "      <td>150</td>\n",
       "      <td>0.15</td>\n",
       "      <td>6</td>\n",
       "      <td>{'iterations': 150, 'learning_rate': 0.15, 'ma...</td>\n",
       "      <td>-1680.947588</td>\n",
       "      <td>-1689.057519</td>\n",
       "      <td>-1694.859567</td>\n",
       "      <td>-1687.114009</td>\n",
       "      <td>-1699.898733</td>\n",
       "      <td>-1690.375483</td>\n",
       "      <td>6.512431</td>\n",
       "      <td>1</td>\n",
       "    </tr>\n",
       "  </tbody>\n",
       "</table>\n",
       "</div>"
      ],
      "text/plain": [
       "    mean_fit_time  std_fit_time  mean_score_time  std_score_time  \\\n",
       "26       6.754659      0.057269          0.10623        0.011692   \n",
       "\n",
       "   param_iterations param_learning_rate param_max_depth  \\\n",
       "26              150                0.15               6   \n",
       "\n",
       "                                               params  split0_test_score  \\\n",
       "26  {'iterations': 150, 'learning_rate': 0.15, 'ma...       -1680.947588   \n",
       "\n",
       "    split1_test_score  split2_test_score  split3_test_score  \\\n",
       "26       -1689.057519       -1694.859567       -1687.114009   \n",
       "\n",
       "    split4_test_score  mean_test_score  std_test_score  rank_test_score  \n",
       "26       -1699.898733     -1690.375483        6.512431                1  "
      ]
     },
     "execution_count": 122,
     "metadata": {},
     "output_type": "execute_result"
    }
   ],
   "source": [
    "gsearch_cb_results = pd.DataFrame(gsearch_cb.cv_results_)\n",
    "\n",
    "gsearch_cb_results.tail(1)"
   ]
  },
  {
   "cell_type": "markdown",
   "metadata": {},
   "source": [
    "Обучим наилучшую модель и найдем время обучения."
   ]
  },
  {
   "cell_type": "code",
   "execution_count": 123,
   "metadata": {},
   "outputs": [],
   "source": [
    "model_cb = cb.CatBoostRegressor(loss_function='RMSE',\n",
    "                                verbose = 0,\n",
    "                                cat_features = categorial_features,\n",
    "                                max_depth = 6,\n",
    "                                iterations = 150,\n",
    "                                learning_rate = 0.15)"
   ]
  },
  {
   "cell_type": "code",
   "execution_count": 124,
   "metadata": {},
   "outputs": [
    {
     "name": "stdout",
     "output_type": "stream",
     "text": [
      "Wall time: 8.5 s\n"
     ]
    },
    {
     "data": {
      "text/plain": [
       "<catboost.core.CatBoostRegressor at 0x215453f3b20>"
      ]
     },
     "execution_count": 124,
     "metadata": {},
     "output_type": "execute_result"
    }
   ],
   "source": [
    "%%time\n",
    "\n",
    "model_cb.fit(features_train, target_train)"
   ]
  },
  {
   "cell_type": "markdown",
   "metadata": {},
   "source": [
    "Время обучения - 8,5 с."
   ]
  },
  {
   "cell_type": "markdown",
   "metadata": {},
   "source": [
    "Найдем время предсказания."
   ]
  },
  {
   "cell_type": "code",
   "execution_count": 125,
   "metadata": {},
   "outputs": [
    {
     "name": "stdout",
     "output_type": "stream",
     "text": [
      "Wall time: 592 ms\n"
     ]
    },
    {
     "data": {
      "text/plain": [
       "array([ 1922.27189502,   813.57547576, 10605.97602492, ...,\n",
       "        3060.69224537, 14319.24755657,  1211.06348017])"
      ]
     },
     "execution_count": 125,
     "metadata": {},
     "output_type": "execute_result"
    }
   ],
   "source": [
    "%%time\n",
    "\n",
    "model_cb.predict(features_train)"
   ]
  },
  {
   "cell_type": "markdown",
   "metadata": {},
   "source": [
    "Время предсказания - 0,6 с."
   ]
  },
  {
   "cell_type": "markdown",
   "metadata": {},
   "source": [
    "Сохраним время обучения и предсказания, а также значение метрики RMSE наилучшей модели в датафрейм `results`."
   ]
  },
  {
   "cell_type": "code",
   "execution_count": 143,
   "metadata": {},
   "outputs": [],
   "source": [
    "results = results.append(pd.Series(data = {\n",
    "    'rmse':round(abs(gsearch_cb.best_score_),2), \n",
    "    'mean_fit_time, s': 8.5, \n",
    "    'mean_score_time, s': 0.6\n",
    "                                           }, \n",
    "                                   name='cb'),\n",
    "                         ignore_index=False)"
   ]
  },
  {
   "cell_type": "code",
   "execution_count": 144,
   "metadata": {},
   "outputs": [
    {
     "name": "stdout",
     "output_type": "stream",
     "text": [
      "RMSE: 1690.38\n",
      "Время обучения: 8.5 с\n",
      "Время предсказания: 0.600 с\n",
      "Параметры:\n",
      "\titerations: 150\n",
      "\tlearning_rate: 0.15\n",
      "\tmax_depth: 6\n"
     ]
    }
   ],
   "source": [
    "print('RMSE: %0.2f' % abs(gsearch_cb.best_score_))\n",
    "print('Время обучения: %0.1f с' % 8.5)\n",
    "print('Время предсказания: %0.3f с' % 0.6)\n",
    "print('Параметры:')\n",
    "best_parameters = gsearch_cb.best_estimator_.get_params()\n",
    "for param_name in sorted(params_cb.keys()):\n",
    "    print('\\t%s: %r' % (param_name, best_parameters[param_name]))"
   ]
  },
  {
   "cell_type": "markdown",
   "metadata": {},
   "source": [
    "### LightGBM"
   ]
  },
  {
   "cell_type": "markdown",
   "metadata": {},
   "source": [
    "Аналогично найдем наилучшую модель градиентного бустинга из библиотеки LightGBM. Модель `LGBMRegressor` учитывает категориальные признаки, поэтому используем обучающую выборку с незакодированными признаками, при этом изменим тип категориальных признаков на `'category'`.\n",
    "\n",
    "Будем менять следующие гиперпараметры:\n",
    "- максимальная глубина дерева `max_depth`\n",
    "- количество деревьев `iterations`\n",
    "- скорость обучения `learning_rate`"
   ]
  },
  {
   "cell_type": "markdown",
   "metadata": {},
   "source": [
    "Изменим тип категориальных признаков на `'category'`."
   ]
  },
  {
   "cell_type": "code",
   "execution_count": 128,
   "metadata": {},
   "outputs": [],
   "source": [
    "features_train_gbm = features_train.copy()\n",
    "features_test_gbm = features_test.copy()\n",
    "\n",
    "for feature in categorial_features:\n",
    "    features_train_gbm[feature] = pd.Series(features_train[feature], dtype='category')\n",
    "    features_test_gbm[feature] = pd.Series(features_test[feature], dtype='category')"
   ]
  },
  {
   "cell_type": "markdown",
   "metadata": {},
   "source": [
    "Создадим сетку для поиска наилучших гиперпараметров, модель `LGBMRegressor` и объект класса `GridSearchCV`."
   ]
  },
  {
   "cell_type": "code",
   "execution_count": 129,
   "metadata": {},
   "outputs": [],
   "source": [
    "params_gbm = {'max_depth': [2, 4, 6],\n",
    "              'num_iterations': [50, 100, 150],\n",
    "              'learning_rate': [0.05, 0.1, 0.15]}\n",
    "\n",
    "model_gbm = lgb.LGBMRegressor(random_state = state, \n",
    "                              verbose = 0)\n",
    "\n",
    "gsearch_gbm = GridSearchCV(model_gbm, param_grid = params_gbm,\n",
    "                           scoring='neg_root_mean_squared_error',\n",
    "                           cv=5)"
   ]
  },
  {
   "cell_type": "markdown",
   "metadata": {},
   "source": [
    "Найдем и обучим наилучшую модель."
   ]
  },
  {
   "cell_type": "code",
   "execution_count": 130,
   "metadata": {
    "collapsed": true
   },
   "outputs": [
    {
     "name": "stderr",
     "output_type": "stream",
     "text": [
      "C:\\Users\\ladad\\anaconda3\\lib\\site-packages\\lightgbm\\engine.py:148: UserWarning: Found `num_iterations` in params. Will use it instead of argument\n",
      "  _log_warning(\"Found `{}` in params. Will use it instead of argument\".format(alias))\n"
     ]
    },
    {
     "name": "stdout",
     "output_type": "stream",
     "text": [
      "[LightGBM] [Warning] Auto-choosing row-wise multi-threading, the overhead of testing was 0.007451 seconds.\n",
      "You can set `force_row_wise=true` to remove the overhead.\n",
      "And if memory is not enough, you can set `force_col_wise=true`.\n"
     ]
    },
    {
     "name": "stderr",
     "output_type": "stream",
     "text": [
      "C:\\Users\\ladad\\anaconda3\\lib\\site-packages\\lightgbm\\engine.py:148: UserWarning: Found `num_iterations` in params. Will use it instead of argument\n",
      "  _log_warning(\"Found `{}` in params. Will use it instead of argument\".format(alias))\n"
     ]
    },
    {
     "name": "stdout",
     "output_type": "stream",
     "text": [
      "[LightGBM] [Warning] Auto-choosing col-wise multi-threading, the overhead of testing was 0.008835 seconds.\n",
      "You can set `force_col_wise=true` to remove the overhead.\n"
     ]
    },
    {
     "name": "stderr",
     "output_type": "stream",
     "text": [
      "C:\\Users\\ladad\\anaconda3\\lib\\site-packages\\lightgbm\\engine.py:148: UserWarning: Found `num_iterations` in params. Will use it instead of argument\n",
      "  _log_warning(\"Found `{}` in params. Will use it instead of argument\".format(alias))\n"
     ]
    },
    {
     "name": "stdout",
     "output_type": "stream",
     "text": [
      "[LightGBM] [Warning] Auto-choosing row-wise multi-threading, the overhead of testing was 0.007282 seconds.\n",
      "You can set `force_row_wise=true` to remove the overhead.\n",
      "And if memory is not enough, you can set `force_col_wise=true`.\n"
     ]
    },
    {
     "name": "stderr",
     "output_type": "stream",
     "text": [
      "C:\\Users\\ladad\\anaconda3\\lib\\site-packages\\lightgbm\\engine.py:148: UserWarning: Found `num_iterations` in params. Will use it instead of argument\n",
      "  _log_warning(\"Found `{}` in params. Will use it instead of argument\".format(alias))\n"
     ]
    },
    {
     "name": "stdout",
     "output_type": "stream",
     "text": [
      "[LightGBM] [Warning] Auto-choosing row-wise multi-threading, the overhead of testing was 0.005674 seconds.\n",
      "You can set `force_row_wise=true` to remove the overhead.\n",
      "And if memory is not enough, you can set `force_col_wise=true`.\n"
     ]
    },
    {
     "name": "stderr",
     "output_type": "stream",
     "text": [
      "C:\\Users\\ladad\\anaconda3\\lib\\site-packages\\lightgbm\\engine.py:148: UserWarning: Found `num_iterations` in params. Will use it instead of argument\n",
      "  _log_warning(\"Found `{}` in params. Will use it instead of argument\".format(alias))\n"
     ]
    },
    {
     "name": "stdout",
     "output_type": "stream",
     "text": [
      "[LightGBM] [Warning] Auto-choosing row-wise multi-threading, the overhead of testing was 0.006668 seconds.\n",
      "You can set `force_row_wise=true` to remove the overhead.\n",
      "And if memory is not enough, you can set `force_col_wise=true`.\n"
     ]
    },
    {
     "name": "stderr",
     "output_type": "stream",
     "text": [
      "C:\\Users\\ladad\\anaconda3\\lib\\site-packages\\lightgbm\\engine.py:148: UserWarning: Found `num_iterations` in params. Will use it instead of argument\n",
      "  _log_warning(\"Found `{}` in params. Will use it instead of argument\".format(alias))\n"
     ]
    },
    {
     "name": "stdout",
     "output_type": "stream",
     "text": [
      "[LightGBM] [Warning] Auto-choosing row-wise multi-threading, the overhead of testing was 0.006518 seconds.\n",
      "You can set `force_row_wise=true` to remove the overhead.\n",
      "And if memory is not enough, you can set `force_col_wise=true`.\n"
     ]
    },
    {
     "name": "stderr",
     "output_type": "stream",
     "text": [
      "C:\\Users\\ladad\\anaconda3\\lib\\site-packages\\lightgbm\\engine.py:148: UserWarning: Found `num_iterations` in params. Will use it instead of argument\n",
      "  _log_warning(\"Found `{}` in params. Will use it instead of argument\".format(alias))\n"
     ]
    },
    {
     "name": "stdout",
     "output_type": "stream",
     "text": [
      "[LightGBM] [Warning] Auto-choosing row-wise multi-threading, the overhead of testing was 0.006581 seconds.\n",
      "You can set `force_row_wise=true` to remove the overhead.\n",
      "And if memory is not enough, you can set `force_col_wise=true`.\n"
     ]
    },
    {
     "name": "stderr",
     "output_type": "stream",
     "text": [
      "C:\\Users\\ladad\\anaconda3\\lib\\site-packages\\lightgbm\\engine.py:148: UserWarning: Found `num_iterations` in params. Will use it instead of argument\n",
      "  _log_warning(\"Found `{}` in params. Will use it instead of argument\".format(alias))\n"
     ]
    },
    {
     "name": "stdout",
     "output_type": "stream",
     "text": [
      "[LightGBM] [Warning] Auto-choosing row-wise multi-threading, the overhead of testing was 0.007673 seconds.\n",
      "You can set `force_row_wise=true` to remove the overhead.\n",
      "And if memory is not enough, you can set `force_col_wise=true`.\n"
     ]
    },
    {
     "name": "stderr",
     "output_type": "stream",
     "text": [
      "C:\\Users\\ladad\\anaconda3\\lib\\site-packages\\lightgbm\\engine.py:148: UserWarning: Found `num_iterations` in params. Will use it instead of argument\n",
      "  _log_warning(\"Found `{}` in params. Will use it instead of argument\".format(alias))\n"
     ]
    },
    {
     "name": "stdout",
     "output_type": "stream",
     "text": [
      "[LightGBM] [Warning] Auto-choosing row-wise multi-threading, the overhead of testing was 0.005162 seconds.\n",
      "You can set `force_row_wise=true` to remove the overhead.\n",
      "And if memory is not enough, you can set `force_col_wise=true`.\n"
     ]
    },
    {
     "name": "stderr",
     "output_type": "stream",
     "text": [
      "C:\\Users\\ladad\\anaconda3\\lib\\site-packages\\lightgbm\\engine.py:148: UserWarning: Found `num_iterations` in params. Will use it instead of argument\n",
      "  _log_warning(\"Found `{}` in params. Will use it instead of argument\".format(alias))\n"
     ]
    },
    {
     "name": "stdout",
     "output_type": "stream",
     "text": [
      "[LightGBM] [Warning] Auto-choosing row-wise multi-threading, the overhead of testing was 0.004934 seconds.\n",
      "You can set `force_row_wise=true` to remove the overhead.\n",
      "And if memory is not enough, you can set `force_col_wise=true`.\n"
     ]
    },
    {
     "name": "stderr",
     "output_type": "stream",
     "text": [
      "C:\\Users\\ladad\\anaconda3\\lib\\site-packages\\lightgbm\\engine.py:148: UserWarning: Found `num_iterations` in params. Will use it instead of argument\n",
      "  _log_warning(\"Found `{}` in params. Will use it instead of argument\".format(alias))\n"
     ]
    },
    {
     "name": "stdout",
     "output_type": "stream",
     "text": [
      "[LightGBM] [Warning] Auto-choosing row-wise multi-threading, the overhead of testing was 0.006449 seconds.\n",
      "You can set `force_row_wise=true` to remove the overhead.\n",
      "And if memory is not enough, you can set `force_col_wise=true`.\n"
     ]
    },
    {
     "name": "stderr",
     "output_type": "stream",
     "text": [
      "C:\\Users\\ladad\\anaconda3\\lib\\site-packages\\lightgbm\\engine.py:148: UserWarning: Found `num_iterations` in params. Will use it instead of argument\n",
      "  _log_warning(\"Found `{}` in params. Will use it instead of argument\".format(alias))\n"
     ]
    },
    {
     "name": "stdout",
     "output_type": "stream",
     "text": [
      "[LightGBM] [Warning] Auto-choosing row-wise multi-threading, the overhead of testing was 0.004623 seconds.\n",
      "You can set `force_row_wise=true` to remove the overhead.\n",
      "And if memory is not enough, you can set `force_col_wise=true`.\n"
     ]
    },
    {
     "name": "stderr",
     "output_type": "stream",
     "text": [
      "C:\\Users\\ladad\\anaconda3\\lib\\site-packages\\lightgbm\\engine.py:148: UserWarning: Found `num_iterations` in params. Will use it instead of argument\n",
      "  _log_warning(\"Found `{}` in params. Will use it instead of argument\".format(alias))\n"
     ]
    },
    {
     "name": "stdout",
     "output_type": "stream",
     "text": [
      "[LightGBM] [Warning] Auto-choosing row-wise multi-threading, the overhead of testing was 0.006577 seconds.\n",
      "You can set `force_row_wise=true` to remove the overhead.\n",
      "And if memory is not enough, you can set `force_col_wise=true`.\n"
     ]
    },
    {
     "name": "stderr",
     "output_type": "stream",
     "text": [
      "C:\\Users\\ladad\\anaconda3\\lib\\site-packages\\lightgbm\\engine.py:148: UserWarning: Found `num_iterations` in params. Will use it instead of argument\n",
      "  _log_warning(\"Found `{}` in params. Will use it instead of argument\".format(alias))\n"
     ]
    },
    {
     "name": "stdout",
     "output_type": "stream",
     "text": [
      "[LightGBM] [Warning] Auto-choosing row-wise multi-threading, the overhead of testing was 0.005202 seconds.\n",
      "You can set `force_row_wise=true` to remove the overhead.\n",
      "And if memory is not enough, you can set `force_col_wise=true`.\n"
     ]
    },
    {
     "name": "stderr",
     "output_type": "stream",
     "text": [
      "C:\\Users\\ladad\\anaconda3\\lib\\site-packages\\lightgbm\\engine.py:148: UserWarning: Found `num_iterations` in params. Will use it instead of argument\n",
      "  _log_warning(\"Found `{}` in params. Will use it instead of argument\".format(alias))\n"
     ]
    },
    {
     "name": "stdout",
     "output_type": "stream",
     "text": [
      "[LightGBM] [Warning] Auto-choosing row-wise multi-threading, the overhead of testing was 0.006150 seconds.\n",
      "You can set `force_row_wise=true` to remove the overhead.\n",
      "And if memory is not enough, you can set `force_col_wise=true`.\n"
     ]
    },
    {
     "name": "stderr",
     "output_type": "stream",
     "text": [
      "C:\\Users\\ladad\\anaconda3\\lib\\site-packages\\lightgbm\\engine.py:148: UserWarning: Found `num_iterations` in params. Will use it instead of argument\n",
      "  _log_warning(\"Found `{}` in params. Will use it instead of argument\".format(alias))\n"
     ]
    },
    {
     "name": "stdout",
     "output_type": "stream",
     "text": [
      "[LightGBM] [Warning] Auto-choosing row-wise multi-threading, the overhead of testing was 0.007017 seconds.\n",
      "You can set `force_row_wise=true` to remove the overhead.\n",
      "And if memory is not enough, you can set `force_col_wise=true`.\n"
     ]
    },
    {
     "name": "stderr",
     "output_type": "stream",
     "text": [
      "C:\\Users\\ladad\\anaconda3\\lib\\site-packages\\lightgbm\\engine.py:148: UserWarning: Found `num_iterations` in params. Will use it instead of argument\n",
      "  _log_warning(\"Found `{}` in params. Will use it instead of argument\".format(alias))\n"
     ]
    },
    {
     "name": "stdout",
     "output_type": "stream",
     "text": [
      "[LightGBM] [Warning] Auto-choosing col-wise multi-threading, the overhead of testing was 0.013528 seconds.\n",
      "You can set `force_col_wise=true` to remove the overhead.\n"
     ]
    },
    {
     "name": "stderr",
     "output_type": "stream",
     "text": [
      "C:\\Users\\ladad\\anaconda3\\lib\\site-packages\\lightgbm\\engine.py:148: UserWarning: Found `num_iterations` in params. Will use it instead of argument\n",
      "  _log_warning(\"Found `{}` in params. Will use it instead of argument\".format(alias))\n"
     ]
    },
    {
     "name": "stdout",
     "output_type": "stream",
     "text": [
      "[LightGBM] [Warning] Auto-choosing row-wise multi-threading, the overhead of testing was 0.004937 seconds.\n",
      "You can set `force_row_wise=true` to remove the overhead.\n",
      "And if memory is not enough, you can set `force_col_wise=true`.\n"
     ]
    },
    {
     "name": "stderr",
     "output_type": "stream",
     "text": [
      "C:\\Users\\ladad\\anaconda3\\lib\\site-packages\\lightgbm\\engine.py:148: UserWarning: Found `num_iterations` in params. Will use it instead of argument\n",
      "  _log_warning(\"Found `{}` in params. Will use it instead of argument\".format(alias))\n"
     ]
    },
    {
     "name": "stdout",
     "output_type": "stream",
     "text": [
      "[LightGBM] [Warning] Auto-choosing row-wise multi-threading, the overhead of testing was 0.005062 seconds.\n",
      "You can set `force_row_wise=true` to remove the overhead.\n",
      "And if memory is not enough, you can set `force_col_wise=true`.\n"
     ]
    },
    {
     "name": "stderr",
     "output_type": "stream",
     "text": [
      "C:\\Users\\ladad\\anaconda3\\lib\\site-packages\\lightgbm\\engine.py:148: UserWarning: Found `num_iterations` in params. Will use it instead of argument\n",
      "  _log_warning(\"Found `{}` in params. Will use it instead of argument\".format(alias))\n"
     ]
    },
    {
     "name": "stdout",
     "output_type": "stream",
     "text": [
      "[LightGBM] [Warning] Auto-choosing row-wise multi-threading, the overhead of testing was 0.006181 seconds.\n",
      "You can set `force_row_wise=true` to remove the overhead.\n",
      "And if memory is not enough, you can set `force_col_wise=true`.\n"
     ]
    },
    {
     "name": "stderr",
     "output_type": "stream",
     "text": [
      "C:\\Users\\ladad\\anaconda3\\lib\\site-packages\\lightgbm\\engine.py:148: UserWarning: Found `num_iterations` in params. Will use it instead of argument\n",
      "  _log_warning(\"Found `{}` in params. Will use it instead of argument\".format(alias))\n"
     ]
    },
    {
     "name": "stdout",
     "output_type": "stream",
     "text": [
      "[LightGBM] [Warning] Auto-choosing row-wise multi-threading, the overhead of testing was 0.006373 seconds.\n",
      "You can set `force_row_wise=true` to remove the overhead.\n",
      "And if memory is not enough, you can set `force_col_wise=true`.\n",
      "[LightGBM] [Warning] No further splits with positive gain, best gain: -inf\n",
      "[LightGBM] [Warning] No further splits with positive gain, best gain: -inf\n",
      "[LightGBM] [Warning] No further splits with positive gain, best gain: -inf\n",
      "[LightGBM] [Warning] No further splits with positive gain, best gain: -inf\n"
     ]
    },
    {
     "name": "stderr",
     "output_type": "stream",
     "text": [
      "C:\\Users\\ladad\\anaconda3\\lib\\site-packages\\lightgbm\\engine.py:148: UserWarning: Found `num_iterations` in params. Will use it instead of argument\n",
      "  _log_warning(\"Found `{}` in params. Will use it instead of argument\".format(alias))\n"
     ]
    },
    {
     "name": "stdout",
     "output_type": "stream",
     "text": [
      "[LightGBM] [Warning] Auto-choosing row-wise multi-threading, the overhead of testing was 0.005676 seconds.\n",
      "You can set `force_row_wise=true` to remove the overhead.\n",
      "And if memory is not enough, you can set `force_col_wise=true`.\n"
     ]
    },
    {
     "name": "stderr",
     "output_type": "stream",
     "text": [
      "C:\\Users\\ladad\\anaconda3\\lib\\site-packages\\lightgbm\\engine.py:148: UserWarning: Found `num_iterations` in params. Will use it instead of argument\n",
      "  _log_warning(\"Found `{}` in params. Will use it instead of argument\".format(alias))\n"
     ]
    },
    {
     "name": "stdout",
     "output_type": "stream",
     "text": [
      "[LightGBM] [Warning] Auto-choosing row-wise multi-threading, the overhead of testing was 0.006128 seconds.\n",
      "You can set `force_row_wise=true` to remove the overhead.\n",
      "And if memory is not enough, you can set `force_col_wise=true`.\n"
     ]
    },
    {
     "name": "stderr",
     "output_type": "stream",
     "text": [
      "C:\\Users\\ladad\\anaconda3\\lib\\site-packages\\lightgbm\\engine.py:148: UserWarning: Found `num_iterations` in params. Will use it instead of argument\n",
      "  _log_warning(\"Found `{}` in params. Will use it instead of argument\".format(alias))\n"
     ]
    },
    {
     "name": "stdout",
     "output_type": "stream",
     "text": [
      "[LightGBM] [Warning] Auto-choosing col-wise multi-threading, the overhead of testing was 0.012883 seconds.\n",
      "You can set `force_col_wise=true` to remove the overhead.\n",
      "[LightGBM] [Warning] No further splits with positive gain, best gain: -inf\n",
      "[LightGBM] [Warning] No further splits with positive gain, best gain: -inf\n",
      "[LightGBM] [Warning] No further splits with positive gain, best gain: -inf\n"
     ]
    },
    {
     "name": "stderr",
     "output_type": "stream",
     "text": [
      "C:\\Users\\ladad\\anaconda3\\lib\\site-packages\\lightgbm\\engine.py:148: UserWarning: Found `num_iterations` in params. Will use it instead of argument\n",
      "  _log_warning(\"Found `{}` in params. Will use it instead of argument\".format(alias))\n"
     ]
    },
    {
     "name": "stdout",
     "output_type": "stream",
     "text": [
      "[LightGBM] [Warning] Auto-choosing row-wise multi-threading, the overhead of testing was 0.005460 seconds.\n",
      "You can set `force_row_wise=true` to remove the overhead.\n",
      "And if memory is not enough, you can set `force_col_wise=true`.\n",
      "[LightGBM] [Warning] No further splits with positive gain, best gain: -inf\n",
      "[LightGBM] [Warning] No further splits with positive gain, best gain: -inf\n",
      "[LightGBM] [Warning] No further splits with positive gain, best gain: -inf\n",
      "[LightGBM] [Warning] No further splits with positive gain, best gain: -inf\n"
     ]
    },
    {
     "name": "stderr",
     "output_type": "stream",
     "text": [
      "C:\\Users\\ladad\\anaconda3\\lib\\site-packages\\lightgbm\\engine.py:148: UserWarning: Found `num_iterations` in params. Will use it instead of argument\n",
      "  _log_warning(\"Found `{}` in params. Will use it instead of argument\".format(alias))\n"
     ]
    },
    {
     "name": "stdout",
     "output_type": "stream",
     "text": [
      "[LightGBM] [Warning] Auto-choosing row-wise multi-threading, the overhead of testing was 0.007770 seconds.\n",
      "You can set `force_row_wise=true` to remove the overhead.\n",
      "And if memory is not enough, you can set `force_col_wise=true`.\n",
      "[LightGBM] [Warning] No further splits with positive gain, best gain: -inf\n",
      "[LightGBM] [Warning] No further splits with positive gain, best gain: -inf\n",
      "[LightGBM] [Warning] No further splits with positive gain, best gain: -inf\n",
      "[LightGBM] [Warning] No further splits with positive gain, best gain: -inf\n",
      "[LightGBM] [Warning] No further splits with positive gain, best gain: -inf\n",
      "[LightGBM] [Warning] No further splits with positive gain, best gain: -inf\n",
      "[LightGBM] [Warning] No further splits with positive gain, best gain: -inf\n",
      "[LightGBM] [Warning] No further splits with positive gain, best gain: -inf\n",
      "[LightGBM] [Warning] No further splits with positive gain, best gain: -inf\n",
      "[LightGBM] [Warning] No further splits with positive gain, best gain: -inf\n",
      "[LightGBM] [Warning] No further splits with positive gain, best gain: -inf\n"
     ]
    },
    {
     "name": "stderr",
     "output_type": "stream",
     "text": [
      "C:\\Users\\ladad\\anaconda3\\lib\\site-packages\\lightgbm\\engine.py:148: UserWarning: Found `num_iterations` in params. Will use it instead of argument\n",
      "  _log_warning(\"Found `{}` in params. Will use it instead of argument\".format(alias))\n"
     ]
    },
    {
     "name": "stdout",
     "output_type": "stream",
     "text": [
      "[LightGBM] [Warning] Auto-choosing row-wise multi-threading, the overhead of testing was 0.007009 seconds.\n",
      "You can set `force_row_wise=true` to remove the overhead.\n",
      "And if memory is not enough, you can set `force_col_wise=true`.\n",
      "[LightGBM] [Warning] No further splits with positive gain, best gain: -inf\n",
      "[LightGBM] [Warning] No further splits with positive gain, best gain: -inf\n",
      "[LightGBM] [Warning] No further splits with positive gain, best gain: -inf\n"
     ]
    },
    {
     "name": "stderr",
     "output_type": "stream",
     "text": [
      "C:\\Users\\ladad\\anaconda3\\lib\\site-packages\\lightgbm\\engine.py:148: UserWarning: Found `num_iterations` in params. Will use it instead of argument\n",
      "  _log_warning(\"Found `{}` in params. Will use it instead of argument\".format(alias))\n"
     ]
    },
    {
     "name": "stdout",
     "output_type": "stream",
     "text": [
      "[LightGBM] [Warning] Auto-choosing row-wise multi-threading, the overhead of testing was 0.005620 seconds.\n",
      "You can set `force_row_wise=true` to remove the overhead.\n",
      "And if memory is not enough, you can set `force_col_wise=true`.\n",
      "[LightGBM] [Warning] No further splits with positive gain, best gain: -inf\n",
      "[LightGBM] [Warning] No further splits with positive gain, best gain: -inf\n",
      "[LightGBM] [Warning] No further splits with positive gain, best gain: -inf\n",
      "[LightGBM] [Warning] No further splits with positive gain, best gain: -inf\n",
      "[LightGBM] [Warning] No further splits with positive gain, best gain: -inf\n",
      "[LightGBM] [Warning] No further splits with positive gain, best gain: -inf\n",
      "[LightGBM] [Warning] No further splits with positive gain, best gain: -inf\n"
     ]
    },
    {
     "name": "stderr",
     "output_type": "stream",
     "text": [
      "C:\\Users\\ladad\\anaconda3\\lib\\site-packages\\lightgbm\\engine.py:148: UserWarning: Found `num_iterations` in params. Will use it instead of argument\n",
      "  _log_warning(\"Found `{}` in params. Will use it instead of argument\".format(alias))\n"
     ]
    },
    {
     "name": "stdout",
     "output_type": "stream",
     "text": [
      "[LightGBM] [Warning] Auto-choosing row-wise multi-threading, the overhead of testing was 0.007232 seconds.\n",
      "You can set `force_row_wise=true` to remove the overhead.\n",
      "And if memory is not enough, you can set `force_col_wise=true`.\n",
      "[LightGBM] [Warning] No further splits with positive gain, best gain: -inf\n",
      "[LightGBM] [Warning] No further splits with positive gain, best gain: -inf\n",
      "[LightGBM] [Warning] No further splits with positive gain, best gain: -inf\n",
      "[LightGBM] [Warning] No further splits with positive gain, best gain: -inf\n",
      "[LightGBM] [Warning] No further splits with positive gain, best gain: -inf\n",
      "[LightGBM] [Warning] No further splits with positive gain, best gain: -inf\n",
      "[LightGBM] [Warning] No further splits with positive gain, best gain: -inf\n",
      "[LightGBM] [Warning] No further splits with positive gain, best gain: -inf\n",
      "[LightGBM] [Warning] No further splits with positive gain, best gain: -inf\n",
      "[LightGBM] [Warning] No further splits with positive gain, best gain: -inf\n",
      "[LightGBM] [Warning] No further splits with positive gain, best gain: -inf\n",
      "[LightGBM] [Warning] No further splits with positive gain, best gain: -inf\n"
     ]
    },
    {
     "name": "stderr",
     "output_type": "stream",
     "text": [
      "C:\\Users\\ladad\\anaconda3\\lib\\site-packages\\lightgbm\\engine.py:148: UserWarning: Found `num_iterations` in params. Will use it instead of argument\n",
      "  _log_warning(\"Found `{}` in params. Will use it instead of argument\".format(alias))\n"
     ]
    },
    {
     "name": "stdout",
     "output_type": "stream",
     "text": [
      "[LightGBM] [Warning] Auto-choosing row-wise multi-threading, the overhead of testing was 0.007670 seconds.\n",
      "You can set `force_row_wise=true` to remove the overhead.\n",
      "And if memory is not enough, you can set `force_col_wise=true`.\n",
      "[LightGBM] [Warning] No further splits with positive gain, best gain: -inf\n",
      "[LightGBM] [Warning] No further splits with positive gain, best gain: -inf\n",
      "[LightGBM] [Warning] No further splits with positive gain, best gain: -inf\n",
      "[LightGBM] [Warning] No further splits with positive gain, best gain: -inf\n",
      "[LightGBM] [Warning] No further splits with positive gain, best gain: -inf\n",
      "[LightGBM] [Warning] No further splits with positive gain, best gain: -inf\n",
      "[LightGBM] [Warning] No further splits with positive gain, best gain: -inf\n",
      "[LightGBM] [Warning] No further splits with positive gain, best gain: -inf\n",
      "[LightGBM] [Warning] No further splits with positive gain, best gain: -inf\n",
      "[LightGBM] [Warning] No further splits with positive gain, best gain: -inf\n",
      "[LightGBM] [Warning] No further splits with positive gain, best gain: -inf\n",
      "[LightGBM] [Warning] No further splits with positive gain, best gain: -inf\n",
      "[LightGBM] [Warning] No further splits with positive gain, best gain: -inf\n",
      "[LightGBM] [Warning] No further splits with positive gain, best gain: -inf\n",
      "[LightGBM] [Warning] No further splits with positive gain, best gain: -inf\n",
      "[LightGBM] [Warning] No further splits with positive gain, best gain: -inf\n"
     ]
    },
    {
     "name": "stderr",
     "output_type": "stream",
     "text": [
      "C:\\Users\\ladad\\anaconda3\\lib\\site-packages\\lightgbm\\engine.py:148: UserWarning: Found `num_iterations` in params. Will use it instead of argument\n",
      "  _log_warning(\"Found `{}` in params. Will use it instead of argument\".format(alias))\n"
     ]
    },
    {
     "name": "stdout",
     "output_type": "stream",
     "text": [
      "[LightGBM] [Warning] Accuracy may be bad since you didn't explicitly set num_leaves OR 2^max_depth > num_leaves. (num_leaves=31).\n",
      "[LightGBM] [Warning] Accuracy may be bad since you didn't explicitly set num_leaves OR 2^max_depth > num_leaves. (num_leaves=31).\n",
      "[LightGBM] [Warning] Auto-choosing row-wise multi-threading, the overhead of testing was 0.005587 seconds.\n",
      "You can set `force_row_wise=true` to remove the overhead.\n",
      "And if memory is not enough, you can set `force_col_wise=true`.\n"
     ]
    },
    {
     "name": "stderr",
     "output_type": "stream",
     "text": [
      "C:\\Users\\ladad\\anaconda3\\lib\\site-packages\\lightgbm\\engine.py:148: UserWarning: Found `num_iterations` in params. Will use it instead of argument\n",
      "  _log_warning(\"Found `{}` in params. Will use it instead of argument\".format(alias))\n"
     ]
    },
    {
     "name": "stdout",
     "output_type": "stream",
     "text": [
      "[LightGBM] [Warning] Accuracy may be bad since you didn't explicitly set num_leaves OR 2^max_depth > num_leaves. (num_leaves=31).\n",
      "[LightGBM] [Warning] Accuracy may be bad since you didn't explicitly set num_leaves OR 2^max_depth > num_leaves. (num_leaves=31).\n",
      "[LightGBM] [Warning] Auto-choosing row-wise multi-threading, the overhead of testing was 0.005127 seconds.\n",
      "You can set `force_row_wise=true` to remove the overhead.\n",
      "And if memory is not enough, you can set `force_col_wise=true`.\n"
     ]
    },
    {
     "name": "stderr",
     "output_type": "stream",
     "text": [
      "C:\\Users\\ladad\\anaconda3\\lib\\site-packages\\lightgbm\\engine.py:148: UserWarning: Found `num_iterations` in params. Will use it instead of argument\n",
      "  _log_warning(\"Found `{}` in params. Will use it instead of argument\".format(alias))\n"
     ]
    },
    {
     "name": "stdout",
     "output_type": "stream",
     "text": [
      "[LightGBM] [Warning] Accuracy may be bad since you didn't explicitly set num_leaves OR 2^max_depth > num_leaves. (num_leaves=31).\n",
      "[LightGBM] [Warning] Accuracy may be bad since you didn't explicitly set num_leaves OR 2^max_depth > num_leaves. (num_leaves=31).\n",
      "[LightGBM] [Warning] Auto-choosing col-wise multi-threading, the overhead of testing was 0.011704 seconds.\n",
      "You can set `force_col_wise=true` to remove the overhead.\n"
     ]
    },
    {
     "name": "stderr",
     "output_type": "stream",
     "text": [
      "C:\\Users\\ladad\\anaconda3\\lib\\site-packages\\lightgbm\\engine.py:148: UserWarning: Found `num_iterations` in params. Will use it instead of argument\n",
      "  _log_warning(\"Found `{}` in params. Will use it instead of argument\".format(alias))\n"
     ]
    },
    {
     "name": "stdout",
     "output_type": "stream",
     "text": [
      "[LightGBM] [Warning] Accuracy may be bad since you didn't explicitly set num_leaves OR 2^max_depth > num_leaves. (num_leaves=31).\n",
      "[LightGBM] [Warning] Accuracy may be bad since you didn't explicitly set num_leaves OR 2^max_depth > num_leaves. (num_leaves=31).\n",
      "[LightGBM] [Warning] Auto-choosing row-wise multi-threading, the overhead of testing was 0.005751 seconds.\n",
      "You can set `force_row_wise=true` to remove the overhead.\n",
      "And if memory is not enough, you can set `force_col_wise=true`.\n"
     ]
    },
    {
     "name": "stderr",
     "output_type": "stream",
     "text": [
      "C:\\Users\\ladad\\anaconda3\\lib\\site-packages\\lightgbm\\engine.py:148: UserWarning: Found `num_iterations` in params. Will use it instead of argument\n",
      "  _log_warning(\"Found `{}` in params. Will use it instead of argument\".format(alias))\n"
     ]
    },
    {
     "name": "stdout",
     "output_type": "stream",
     "text": [
      "[LightGBM] [Warning] Accuracy may be bad since you didn't explicitly set num_leaves OR 2^max_depth > num_leaves. (num_leaves=31).\n",
      "[LightGBM] [Warning] Accuracy may be bad since you didn't explicitly set num_leaves OR 2^max_depth > num_leaves. (num_leaves=31).\n",
      "[LightGBM] [Warning] Auto-choosing row-wise multi-threading, the overhead of testing was 0.006640 seconds.\n",
      "You can set `force_row_wise=true` to remove the overhead.\n",
      "And if memory is not enough, you can set `force_col_wise=true`.\n"
     ]
    },
    {
     "name": "stderr",
     "output_type": "stream",
     "text": [
      "C:\\Users\\ladad\\anaconda3\\lib\\site-packages\\lightgbm\\engine.py:148: UserWarning: Found `num_iterations` in params. Will use it instead of argument\n",
      "  _log_warning(\"Found `{}` in params. Will use it instead of argument\".format(alias))\n"
     ]
    },
    {
     "name": "stdout",
     "output_type": "stream",
     "text": [
      "[LightGBM] [Warning] Accuracy may be bad since you didn't explicitly set num_leaves OR 2^max_depth > num_leaves. (num_leaves=31).\n",
      "[LightGBM] [Warning] Accuracy may be bad since you didn't explicitly set num_leaves OR 2^max_depth > num_leaves. (num_leaves=31).\n",
      "[LightGBM] [Warning] Auto-choosing row-wise multi-threading, the overhead of testing was 0.005826 seconds.\n",
      "You can set `force_row_wise=true` to remove the overhead.\n",
      "And if memory is not enough, you can set `force_col_wise=true`.\n"
     ]
    },
    {
     "name": "stderr",
     "output_type": "stream",
     "text": [
      "C:\\Users\\ladad\\anaconda3\\lib\\site-packages\\lightgbm\\engine.py:148: UserWarning: Found `num_iterations` in params. Will use it instead of argument\n",
      "  _log_warning(\"Found `{}` in params. Will use it instead of argument\".format(alias))\n"
     ]
    },
    {
     "name": "stdout",
     "output_type": "stream",
     "text": [
      "[LightGBM] [Warning] Accuracy may be bad since you didn't explicitly set num_leaves OR 2^max_depth > num_leaves. (num_leaves=31).\n",
      "[LightGBM] [Warning] Accuracy may be bad since you didn't explicitly set num_leaves OR 2^max_depth > num_leaves. (num_leaves=31).\n",
      "[LightGBM] [Warning] Auto-choosing row-wise multi-threading, the overhead of testing was 0.006892 seconds.\n",
      "You can set `force_row_wise=true` to remove the overhead.\n",
      "And if memory is not enough, you can set `force_col_wise=true`.\n"
     ]
    },
    {
     "name": "stderr",
     "output_type": "stream",
     "text": [
      "C:\\Users\\ladad\\anaconda3\\lib\\site-packages\\lightgbm\\engine.py:148: UserWarning: Found `num_iterations` in params. Will use it instead of argument\n",
      "  _log_warning(\"Found `{}` in params. Will use it instead of argument\".format(alias))\n"
     ]
    },
    {
     "name": "stdout",
     "output_type": "stream",
     "text": [
      "[LightGBM] [Warning] Accuracy may be bad since you didn't explicitly set num_leaves OR 2^max_depth > num_leaves. (num_leaves=31).\n",
      "[LightGBM] [Warning] Accuracy may be bad since you didn't explicitly set num_leaves OR 2^max_depth > num_leaves. (num_leaves=31).\n",
      "[LightGBM] [Warning] Auto-choosing row-wise multi-threading, the overhead of testing was 0.006036 seconds.\n",
      "You can set `force_row_wise=true` to remove the overhead.\n",
      "And if memory is not enough, you can set `force_col_wise=true`.\n"
     ]
    },
    {
     "name": "stderr",
     "output_type": "stream",
     "text": [
      "C:\\Users\\ladad\\anaconda3\\lib\\site-packages\\lightgbm\\engine.py:148: UserWarning: Found `num_iterations` in params. Will use it instead of argument\n",
      "  _log_warning(\"Found `{}` in params. Will use it instead of argument\".format(alias))\n"
     ]
    },
    {
     "name": "stdout",
     "output_type": "stream",
     "text": [
      "[LightGBM] [Warning] Accuracy may be bad since you didn't explicitly set num_leaves OR 2^max_depth > num_leaves. (num_leaves=31).\n",
      "[LightGBM] [Warning] Accuracy may be bad since you didn't explicitly set num_leaves OR 2^max_depth > num_leaves. (num_leaves=31).\n",
      "[LightGBM] [Warning] Auto-choosing row-wise multi-threading, the overhead of testing was 0.005998 seconds.\n",
      "You can set `force_row_wise=true` to remove the overhead.\n",
      "And if memory is not enough, you can set `force_col_wise=true`.\n"
     ]
    },
    {
     "name": "stderr",
     "output_type": "stream",
     "text": [
      "C:\\Users\\ladad\\anaconda3\\lib\\site-packages\\lightgbm\\engine.py:148: UserWarning: Found `num_iterations` in params. Will use it instead of argument\n",
      "  _log_warning(\"Found `{}` in params. Will use it instead of argument\".format(alias))\n"
     ]
    },
    {
     "name": "stdout",
     "output_type": "stream",
     "text": [
      "[LightGBM] [Warning] Accuracy may be bad since you didn't explicitly set num_leaves OR 2^max_depth > num_leaves. (num_leaves=31).\n",
      "[LightGBM] [Warning] Accuracy may be bad since you didn't explicitly set num_leaves OR 2^max_depth > num_leaves. (num_leaves=31).\n",
      "[LightGBM] [Warning] Auto-choosing row-wise multi-threading, the overhead of testing was 0.006995 seconds.\n",
      "You can set `force_row_wise=true` to remove the overhead.\n",
      "And if memory is not enough, you can set `force_col_wise=true`.\n"
     ]
    },
    {
     "name": "stderr",
     "output_type": "stream",
     "text": [
      "C:\\Users\\ladad\\anaconda3\\lib\\site-packages\\lightgbm\\engine.py:148: UserWarning: Found `num_iterations` in params. Will use it instead of argument\n",
      "  _log_warning(\"Found `{}` in params. Will use it instead of argument\".format(alias))\n"
     ]
    },
    {
     "name": "stdout",
     "output_type": "stream",
     "text": [
      "[LightGBM] [Warning] Accuracy may be bad since you didn't explicitly set num_leaves OR 2^max_depth > num_leaves. (num_leaves=31).\n",
      "[LightGBM] [Warning] Accuracy may be bad since you didn't explicitly set num_leaves OR 2^max_depth > num_leaves. (num_leaves=31).\n",
      "[LightGBM] [Warning] Auto-choosing row-wise multi-threading, the overhead of testing was 0.005986 seconds.\n",
      "You can set `force_row_wise=true` to remove the overhead.\n",
      "And if memory is not enough, you can set `force_col_wise=true`.\n",
      "[LightGBM] [Warning] No further splits with positive gain, best gain: -inf\n",
      "[LightGBM] [Warning] No further splits with positive gain, best gain: -inf\n",
      "[LightGBM] [Warning] No further splits with positive gain, best gain: -inf\n",
      "[LightGBM] [Warning] No further splits with positive gain, best gain: -inf\n"
     ]
    },
    {
     "name": "stderr",
     "output_type": "stream",
     "text": [
      "C:\\Users\\ladad\\anaconda3\\lib\\site-packages\\lightgbm\\engine.py:148: UserWarning: Found `num_iterations` in params. Will use it instead of argument\n",
      "  _log_warning(\"Found `{}` in params. Will use it instead of argument\".format(alias))\n"
     ]
    },
    {
     "name": "stdout",
     "output_type": "stream",
     "text": [
      "[LightGBM] [Warning] Accuracy may be bad since you didn't explicitly set num_leaves OR 2^max_depth > num_leaves. (num_leaves=31).\n",
      "[LightGBM] [Warning] Accuracy may be bad since you didn't explicitly set num_leaves OR 2^max_depth > num_leaves. (num_leaves=31).\n",
      "[LightGBM] [Warning] Auto-choosing row-wise multi-threading, the overhead of testing was 0.005415 seconds.\n",
      "You can set `force_row_wise=true` to remove the overhead.\n",
      "And if memory is not enough, you can set `force_col_wise=true`.\n",
      "[LightGBM] [Warning] No further splits with positive gain, best gain: -inf\n",
      "[LightGBM] [Warning] No further splits with positive gain, best gain: -inf\n",
      "[LightGBM] [Warning] No further splits with positive gain, best gain: -inf\n",
      "[LightGBM] [Warning] No further splits with positive gain, best gain: -inf\n"
     ]
    },
    {
     "name": "stderr",
     "output_type": "stream",
     "text": [
      "C:\\Users\\ladad\\anaconda3\\lib\\site-packages\\lightgbm\\engine.py:148: UserWarning: Found `num_iterations` in params. Will use it instead of argument\n",
      "  _log_warning(\"Found `{}` in params. Will use it instead of argument\".format(alias))\n"
     ]
    },
    {
     "name": "stdout",
     "output_type": "stream",
     "text": [
      "[LightGBM] [Warning] Accuracy may be bad since you didn't explicitly set num_leaves OR 2^max_depth > num_leaves. (num_leaves=31).\n",
      "[LightGBM] [Warning] Accuracy may be bad since you didn't explicitly set num_leaves OR 2^max_depth > num_leaves. (num_leaves=31).\n",
      "[LightGBM] [Warning] Auto-choosing row-wise multi-threading, the overhead of testing was 0.005895 seconds.\n",
      "You can set `force_row_wise=true` to remove the overhead.\n",
      "And if memory is not enough, you can set `force_col_wise=true`.\n",
      "[LightGBM] [Warning] No further splits with positive gain, best gain: -inf\n"
     ]
    },
    {
     "name": "stderr",
     "output_type": "stream",
     "text": [
      "C:\\Users\\ladad\\anaconda3\\lib\\site-packages\\lightgbm\\engine.py:148: UserWarning: Found `num_iterations` in params. Will use it instead of argument\n",
      "  _log_warning(\"Found `{}` in params. Will use it instead of argument\".format(alias))\n"
     ]
    },
    {
     "name": "stdout",
     "output_type": "stream",
     "text": [
      "[LightGBM] [Warning] Accuracy may be bad since you didn't explicitly set num_leaves OR 2^max_depth > num_leaves. (num_leaves=31).\n",
      "[LightGBM] [Warning] Accuracy may be bad since you didn't explicitly set num_leaves OR 2^max_depth > num_leaves. (num_leaves=31).\n",
      "[LightGBM] [Warning] Auto-choosing row-wise multi-threading, the overhead of testing was 0.006080 seconds.\n",
      "You can set `force_row_wise=true` to remove the overhead.\n",
      "And if memory is not enough, you can set `force_col_wise=true`.\n",
      "[LightGBM] [Warning] No further splits with positive gain, best gain: -inf\n",
      "[LightGBM] [Warning] No further splits with positive gain, best gain: -inf\n",
      "[LightGBM] [Warning] No further splits with positive gain, best gain: -inf\n"
     ]
    },
    {
     "name": "stderr",
     "output_type": "stream",
     "text": [
      "C:\\Users\\ladad\\anaconda3\\lib\\site-packages\\lightgbm\\engine.py:148: UserWarning: Found `num_iterations` in params. Will use it instead of argument\n",
      "  _log_warning(\"Found `{}` in params. Will use it instead of argument\".format(alias))\n"
     ]
    },
    {
     "name": "stdout",
     "output_type": "stream",
     "text": [
      "[LightGBM] [Warning] Accuracy may be bad since you didn't explicitly set num_leaves OR 2^max_depth > num_leaves. (num_leaves=31).\n",
      "[LightGBM] [Warning] Accuracy may be bad since you didn't explicitly set num_leaves OR 2^max_depth > num_leaves. (num_leaves=31).\n",
      "[LightGBM] [Warning] Auto-choosing row-wise multi-threading, the overhead of testing was 0.005556 seconds.\n",
      "You can set `force_row_wise=true` to remove the overhead.\n",
      "And if memory is not enough, you can set `force_col_wise=true`.\n",
      "[LightGBM] [Warning] No further splits with positive gain, best gain: -inf\n",
      "[LightGBM] [Warning] No further splits with positive gain, best gain: -inf\n",
      "[LightGBM] [Warning] No further splits with positive gain, best gain: -inf\n"
     ]
    },
    {
     "name": "stderr",
     "output_type": "stream",
     "text": [
      "C:\\Users\\ladad\\anaconda3\\lib\\site-packages\\lightgbm\\engine.py:148: UserWarning: Found `num_iterations` in params. Will use it instead of argument\n",
      "  _log_warning(\"Found `{}` in params. Will use it instead of argument\".format(alias))\n"
     ]
    },
    {
     "name": "stdout",
     "output_type": "stream",
     "text": [
      "[LightGBM] [Warning] Auto-choosing row-wise multi-threading, the overhead of testing was 0.007654 seconds.\n",
      "You can set `force_row_wise=true` to remove the overhead.\n",
      "And if memory is not enough, you can set `force_col_wise=true`.\n"
     ]
    },
    {
     "name": "stderr",
     "output_type": "stream",
     "text": [
      "C:\\Users\\ladad\\anaconda3\\lib\\site-packages\\lightgbm\\engine.py:148: UserWarning: Found `num_iterations` in params. Will use it instead of argument\n",
      "  _log_warning(\"Found `{}` in params. Will use it instead of argument\".format(alias))\n"
     ]
    },
    {
     "name": "stdout",
     "output_type": "stream",
     "text": [
      "[LightGBM] [Warning] Auto-choosing col-wise multi-threading, the overhead of testing was 0.008472 seconds.\n",
      "You can set `force_col_wise=true` to remove the overhead.\n"
     ]
    },
    {
     "name": "stderr",
     "output_type": "stream",
     "text": [
      "C:\\Users\\ladad\\anaconda3\\lib\\site-packages\\lightgbm\\engine.py:148: UserWarning: Found `num_iterations` in params. Will use it instead of argument\n",
      "  _log_warning(\"Found `{}` in params. Will use it instead of argument\".format(alias))\n"
     ]
    },
    {
     "name": "stdout",
     "output_type": "stream",
     "text": [
      "[LightGBM] [Warning] Auto-choosing row-wise multi-threading, the overhead of testing was 0.006341 seconds.\n",
      "You can set `force_row_wise=true` to remove the overhead.\n",
      "And if memory is not enough, you can set `force_col_wise=true`.\n"
     ]
    },
    {
     "name": "stderr",
     "output_type": "stream",
     "text": [
      "C:\\Users\\ladad\\anaconda3\\lib\\site-packages\\lightgbm\\engine.py:148: UserWarning: Found `num_iterations` in params. Will use it instead of argument\n",
      "  _log_warning(\"Found `{}` in params. Will use it instead of argument\".format(alias))\n"
     ]
    },
    {
     "name": "stdout",
     "output_type": "stream",
     "text": [
      "[LightGBM] [Warning] Auto-choosing row-wise multi-threading, the overhead of testing was 0.006635 seconds.\n",
      "You can set `force_row_wise=true` to remove the overhead.\n",
      "And if memory is not enough, you can set `force_col_wise=true`.\n"
     ]
    },
    {
     "name": "stderr",
     "output_type": "stream",
     "text": [
      "C:\\Users\\ladad\\anaconda3\\lib\\site-packages\\lightgbm\\engine.py:148: UserWarning: Found `num_iterations` in params. Will use it instead of argument\n",
      "  _log_warning(\"Found `{}` in params. Will use it instead of argument\".format(alias))\n"
     ]
    },
    {
     "name": "stdout",
     "output_type": "stream",
     "text": [
      "[LightGBM] [Warning] Auto-choosing row-wise multi-threading, the overhead of testing was 0.006526 seconds.\n",
      "You can set `force_row_wise=true` to remove the overhead.\n",
      "And if memory is not enough, you can set `force_col_wise=true`.\n"
     ]
    },
    {
     "name": "stderr",
     "output_type": "stream",
     "text": [
      "C:\\Users\\ladad\\anaconda3\\lib\\site-packages\\lightgbm\\engine.py:148: UserWarning: Found `num_iterations` in params. Will use it instead of argument\n",
      "  _log_warning(\"Found `{}` in params. Will use it instead of argument\".format(alias))\n"
     ]
    },
    {
     "name": "stdout",
     "output_type": "stream",
     "text": [
      "[LightGBM] [Warning] Auto-choosing col-wise multi-threading, the overhead of testing was 0.008738 seconds.\n",
      "You can set `force_col_wise=true` to remove the overhead.\n"
     ]
    },
    {
     "name": "stderr",
     "output_type": "stream",
     "text": [
      "C:\\Users\\ladad\\anaconda3\\lib\\site-packages\\lightgbm\\engine.py:148: UserWarning: Found `num_iterations` in params. Will use it instead of argument\n",
      "  _log_warning(\"Found `{}` in params. Will use it instead of argument\".format(alias))\n"
     ]
    },
    {
     "name": "stdout",
     "output_type": "stream",
     "text": [
      "[LightGBM] [Warning] Auto-choosing row-wise multi-threading, the overhead of testing was 0.006827 seconds.\n",
      "You can set `force_row_wise=true` to remove the overhead.\n",
      "And if memory is not enough, you can set `force_col_wise=true`.\n"
     ]
    },
    {
     "name": "stderr",
     "output_type": "stream",
     "text": [
      "C:\\Users\\ladad\\anaconda3\\lib\\site-packages\\lightgbm\\engine.py:148: UserWarning: Found `num_iterations` in params. Will use it instead of argument\n",
      "  _log_warning(\"Found `{}` in params. Will use it instead of argument\".format(alias))\n"
     ]
    },
    {
     "name": "stdout",
     "output_type": "stream",
     "text": [
      "[LightGBM] [Warning] Auto-choosing col-wise multi-threading, the overhead of testing was 0.014227 seconds.\n",
      "You can set `force_col_wise=true` to remove the overhead.\n"
     ]
    },
    {
     "name": "stderr",
     "output_type": "stream",
     "text": [
      "C:\\Users\\ladad\\anaconda3\\lib\\site-packages\\lightgbm\\engine.py:148: UserWarning: Found `num_iterations` in params. Will use it instead of argument\n",
      "  _log_warning(\"Found `{}` in params. Will use it instead of argument\".format(alias))\n"
     ]
    },
    {
     "name": "stdout",
     "output_type": "stream",
     "text": [
      "[LightGBM] [Warning] Auto-choosing row-wise multi-threading, the overhead of testing was 0.006329 seconds.\n",
      "You can set `force_row_wise=true` to remove the overhead.\n",
      "And if memory is not enough, you can set `force_col_wise=true`.\n"
     ]
    },
    {
     "name": "stderr",
     "output_type": "stream",
     "text": [
      "C:\\Users\\ladad\\anaconda3\\lib\\site-packages\\lightgbm\\engine.py:148: UserWarning: Found `num_iterations` in params. Will use it instead of argument\n",
      "  _log_warning(\"Found `{}` in params. Will use it instead of argument\".format(alias))\n"
     ]
    },
    {
     "name": "stdout",
     "output_type": "stream",
     "text": [
      "[LightGBM] [Warning] Auto-choosing row-wise multi-threading, the overhead of testing was 0.005922 seconds.\n",
      "You can set `force_row_wise=true` to remove the overhead.\n",
      "And if memory is not enough, you can set `force_col_wise=true`.\n"
     ]
    },
    {
     "name": "stderr",
     "output_type": "stream",
     "text": [
      "C:\\Users\\ladad\\anaconda3\\lib\\site-packages\\lightgbm\\engine.py:148: UserWarning: Found `num_iterations` in params. Will use it instead of argument\n",
      "  _log_warning(\"Found `{}` in params. Will use it instead of argument\".format(alias))\n"
     ]
    },
    {
     "name": "stdout",
     "output_type": "stream",
     "text": [
      "[LightGBM] [Warning] Auto-choosing row-wise multi-threading, the overhead of testing was 0.004936 seconds.\n",
      "You can set `force_row_wise=true` to remove the overhead.\n",
      "And if memory is not enough, you can set `force_col_wise=true`.\n"
     ]
    },
    {
     "name": "stderr",
     "output_type": "stream",
     "text": [
      "C:\\Users\\ladad\\anaconda3\\lib\\site-packages\\lightgbm\\engine.py:148: UserWarning: Found `num_iterations` in params. Will use it instead of argument\n",
      "  _log_warning(\"Found `{}` in params. Will use it instead of argument\".format(alias))\n"
     ]
    },
    {
     "name": "stdout",
     "output_type": "stream",
     "text": [
      "[LightGBM] [Warning] Auto-choosing row-wise multi-threading, the overhead of testing was 0.006683 seconds.\n",
      "You can set `force_row_wise=true` to remove the overhead.\n",
      "And if memory is not enough, you can set `force_col_wise=true`.\n"
     ]
    },
    {
     "name": "stderr",
     "output_type": "stream",
     "text": [
      "C:\\Users\\ladad\\anaconda3\\lib\\site-packages\\lightgbm\\engine.py:148: UserWarning: Found `num_iterations` in params. Will use it instead of argument\n",
      "  _log_warning(\"Found `{}` in params. Will use it instead of argument\".format(alias))\n"
     ]
    },
    {
     "name": "stdout",
     "output_type": "stream",
     "text": [
      "[LightGBM] [Warning] Auto-choosing row-wise multi-threading, the overhead of testing was 0.004955 seconds.\n",
      "You can set `force_row_wise=true` to remove the overhead.\n",
      "And if memory is not enough, you can set `force_col_wise=true`.\n"
     ]
    },
    {
     "name": "stderr",
     "output_type": "stream",
     "text": [
      "C:\\Users\\ladad\\anaconda3\\lib\\site-packages\\lightgbm\\engine.py:148: UserWarning: Found `num_iterations` in params. Will use it instead of argument\n",
      "  _log_warning(\"Found `{}` in params. Will use it instead of argument\".format(alias))\n"
     ]
    },
    {
     "name": "stdout",
     "output_type": "stream",
     "text": [
      "[LightGBM] [Warning] Auto-choosing row-wise multi-threading, the overhead of testing was 0.004631 seconds.\n",
      "You can set `force_row_wise=true` to remove the overhead.\n",
      "And if memory is not enough, you can set `force_col_wise=true`.\n"
     ]
    },
    {
     "name": "stderr",
     "output_type": "stream",
     "text": [
      "C:\\Users\\ladad\\anaconda3\\lib\\site-packages\\lightgbm\\engine.py:148: UserWarning: Found `num_iterations` in params. Will use it instead of argument\n",
      "  _log_warning(\"Found `{}` in params. Will use it instead of argument\".format(alias))\n"
     ]
    },
    {
     "name": "stdout",
     "output_type": "stream",
     "text": [
      "[LightGBM] [Warning] Auto-choosing row-wise multi-threading, the overhead of testing was 0.005070 seconds.\n",
      "You can set `force_row_wise=true` to remove the overhead.\n",
      "And if memory is not enough, you can set `force_col_wise=true`.\n"
     ]
    },
    {
     "name": "stderr",
     "output_type": "stream",
     "text": [
      "C:\\Users\\ladad\\anaconda3\\lib\\site-packages\\lightgbm\\engine.py:148: UserWarning: Found `num_iterations` in params. Will use it instead of argument\n",
      "  _log_warning(\"Found `{}` in params. Will use it instead of argument\".format(alias))\n"
     ]
    },
    {
     "name": "stdout",
     "output_type": "stream",
     "text": [
      "[LightGBM] [Warning] Auto-choosing row-wise multi-threading, the overhead of testing was 0.006041 seconds.\n",
      "You can set `force_row_wise=true` to remove the overhead.\n",
      "And if memory is not enough, you can set `force_col_wise=true`.\n",
      "[LightGBM] [Warning] No further splits with positive gain, best gain: -inf\n",
      "[LightGBM] [Warning] No further splits with positive gain, best gain: -inf\n"
     ]
    },
    {
     "name": "stderr",
     "output_type": "stream",
     "text": [
      "C:\\Users\\ladad\\anaconda3\\lib\\site-packages\\lightgbm\\engine.py:148: UserWarning: Found `num_iterations` in params. Will use it instead of argument\n",
      "  _log_warning(\"Found `{}` in params. Will use it instead of argument\".format(alias))\n"
     ]
    },
    {
     "name": "stdout",
     "output_type": "stream",
     "text": [
      "[LightGBM] [Warning] Auto-choosing row-wise multi-threading, the overhead of testing was 0.005932 seconds.\n",
      "You can set `force_row_wise=true` to remove the overhead.\n",
      "And if memory is not enough, you can set `force_col_wise=true`.\n"
     ]
    },
    {
     "name": "stderr",
     "output_type": "stream",
     "text": [
      "C:\\Users\\ladad\\anaconda3\\lib\\site-packages\\lightgbm\\engine.py:148: UserWarning: Found `num_iterations` in params. Will use it instead of argument\n",
      "  _log_warning(\"Found `{}` in params. Will use it instead of argument\".format(alias))\n"
     ]
    },
    {
     "name": "stdout",
     "output_type": "stream",
     "text": [
      "[LightGBM] [Warning] Auto-choosing row-wise multi-threading, the overhead of testing was 0.005393 seconds.\n",
      "You can set `force_row_wise=true` to remove the overhead.\n",
      "And if memory is not enough, you can set `force_col_wise=true`.\n",
      "[LightGBM] [Warning] No further splits with positive gain, best gain: -inf\n"
     ]
    },
    {
     "name": "stderr",
     "output_type": "stream",
     "text": [
      "C:\\Users\\ladad\\anaconda3\\lib\\site-packages\\lightgbm\\engine.py:148: UserWarning: Found `num_iterations` in params. Will use it instead of argument\n",
      "  _log_warning(\"Found `{}` in params. Will use it instead of argument\".format(alias))\n"
     ]
    },
    {
     "name": "stdout",
     "output_type": "stream",
     "text": [
      "[LightGBM] [Warning] Auto-choosing row-wise multi-threading, the overhead of testing was 0.006078 seconds.\n",
      "You can set `force_row_wise=true` to remove the overhead.\n",
      "And if memory is not enough, you can set `force_col_wise=true`.\n",
      "[LightGBM] [Warning] No further splits with positive gain, best gain: -inf\n"
     ]
    },
    {
     "name": "stderr",
     "output_type": "stream",
     "text": [
      "C:\\Users\\ladad\\anaconda3\\lib\\site-packages\\lightgbm\\engine.py:148: UserWarning: Found `num_iterations` in params. Will use it instead of argument\n",
      "  _log_warning(\"Found `{}` in params. Will use it instead of argument\".format(alias))\n"
     ]
    },
    {
     "name": "stdout",
     "output_type": "stream",
     "text": [
      "[LightGBM] [Warning] Auto-choosing row-wise multi-threading, the overhead of testing was 0.005764 seconds.\n",
      "You can set `force_row_wise=true` to remove the overhead.\n",
      "And if memory is not enough, you can set `force_col_wise=true`.\n",
      "[LightGBM] [Warning] No further splits with positive gain, best gain: -inf\n",
      "[LightGBM] [Warning] No further splits with positive gain, best gain: -inf\n",
      "[LightGBM] [Warning] No further splits with positive gain, best gain: -inf\n",
      "[LightGBM] [Warning] No further splits with positive gain, best gain: -inf\n"
     ]
    },
    {
     "name": "stderr",
     "output_type": "stream",
     "text": [
      "C:\\Users\\ladad\\anaconda3\\lib\\site-packages\\lightgbm\\engine.py:148: UserWarning: Found `num_iterations` in params. Will use it instead of argument\n",
      "  _log_warning(\"Found `{}` in params. Will use it instead of argument\".format(alias))\n"
     ]
    },
    {
     "name": "stdout",
     "output_type": "stream",
     "text": [
      "[LightGBM] [Warning] Auto-choosing row-wise multi-threading, the overhead of testing was 0.007848 seconds.\n",
      "You can set `force_row_wise=true` to remove the overhead.\n",
      "And if memory is not enough, you can set `force_col_wise=true`.\n",
      "[LightGBM] [Warning] No further splits with positive gain, best gain: -inf\n",
      "[LightGBM] [Warning] No further splits with positive gain, best gain: -inf\n",
      "[LightGBM] [Warning] No further splits with positive gain, best gain: -inf\n",
      "[LightGBM] [Warning] No further splits with positive gain, best gain: -inf\n",
      "[LightGBM] [Warning] No further splits with positive gain, best gain: -inf\n",
      "[LightGBM] [Warning] No further splits with positive gain, best gain: -inf\n",
      "[LightGBM] [Warning] No further splits with positive gain, best gain: -inf\n",
      "[LightGBM] [Warning] No further splits with positive gain, best gain: -inf\n",
      "[LightGBM] [Warning] No further splits with positive gain, best gain: -inf\n",
      "[LightGBM] [Warning] No further splits with positive gain, best gain: -inf\n",
      "[LightGBM] [Warning] No further splits with positive gain, best gain: -inf\n",
      "[LightGBM] [Warning] No further splits with positive gain, best gain: -inf\n",
      "[LightGBM] [Warning] No further splits with positive gain, best gain: -inf\n",
      "[LightGBM] [Warning] No further splits with positive gain, best gain: -inf\n"
     ]
    },
    {
     "name": "stderr",
     "output_type": "stream",
     "text": [
      "C:\\Users\\ladad\\anaconda3\\lib\\site-packages\\lightgbm\\engine.py:148: UserWarning: Found `num_iterations` in params. Will use it instead of argument\n",
      "  _log_warning(\"Found `{}` in params. Will use it instead of argument\".format(alias))\n"
     ]
    },
    {
     "name": "stdout",
     "output_type": "stream",
     "text": [
      "[LightGBM] [Warning] Auto-choosing row-wise multi-threading, the overhead of testing was 0.005101 seconds.\n",
      "You can set `force_row_wise=true` to remove the overhead.\n",
      "And if memory is not enough, you can set `force_col_wise=true`.\n",
      "[LightGBM] [Warning] No further splits with positive gain, best gain: -inf\n",
      "[LightGBM] [Warning] No further splits with positive gain, best gain: -inf\n",
      "[LightGBM] [Warning] No further splits with positive gain, best gain: -inf\n",
      "[LightGBM] [Warning] No further splits with positive gain, best gain: -inf\n",
      "[LightGBM] [Warning] No further splits with positive gain, best gain: -inf\n",
      "[LightGBM] [Warning] No further splits with positive gain, best gain: -inf\n",
      "[LightGBM] [Warning] No further splits with positive gain, best gain: -inf\n",
      "[LightGBM] [Warning] No further splits with positive gain, best gain: -inf\n"
     ]
    },
    {
     "name": "stderr",
     "output_type": "stream",
     "text": [
      "C:\\Users\\ladad\\anaconda3\\lib\\site-packages\\lightgbm\\engine.py:148: UserWarning: Found `num_iterations` in params. Will use it instead of argument\n",
      "  _log_warning(\"Found `{}` in params. Will use it instead of argument\".format(alias))\n"
     ]
    },
    {
     "name": "stdout",
     "output_type": "stream",
     "text": [
      "[LightGBM] [Warning] Auto-choosing row-wise multi-threading, the overhead of testing was 0.005165 seconds.\n",
      "You can set `force_row_wise=true` to remove the overhead.\n",
      "And if memory is not enough, you can set `force_col_wise=true`.\n",
      "[LightGBM] [Warning] No further splits with positive gain, best gain: -inf\n",
      "[LightGBM] [Warning] No further splits with positive gain, best gain: -inf\n",
      "[LightGBM] [Warning] No further splits with positive gain, best gain: -inf\n",
      "[LightGBM] [Warning] No further splits with positive gain, best gain: -inf\n",
      "[LightGBM] [Warning] No further splits with positive gain, best gain: -inf\n",
      "[LightGBM] [Warning] No further splits with positive gain, best gain: -inf\n",
      "[LightGBM] [Warning] No further splits with positive gain, best gain: -inf\n",
      "[LightGBM] [Warning] No further splits with positive gain, best gain: -inf\n",
      "[LightGBM] [Warning] No further splits with positive gain, best gain: -inf\n",
      "[LightGBM] [Warning] No further splits with positive gain, best gain: -inf\n",
      "[LightGBM] [Warning] No further splits with positive gain, best gain: -inf\n"
     ]
    },
    {
     "name": "stderr",
     "output_type": "stream",
     "text": [
      "C:\\Users\\ladad\\anaconda3\\lib\\site-packages\\lightgbm\\engine.py:148: UserWarning: Found `num_iterations` in params. Will use it instead of argument\n",
      "  _log_warning(\"Found `{}` in params. Will use it instead of argument\".format(alias))\n"
     ]
    },
    {
     "name": "stdout",
     "output_type": "stream",
     "text": [
      "[LightGBM] [Warning] Auto-choosing row-wise multi-threading, the overhead of testing was 0.005331 seconds.\n",
      "You can set `force_row_wise=true` to remove the overhead.\n",
      "And if memory is not enough, you can set `force_col_wise=true`.\n",
      "[LightGBM] [Warning] No further splits with positive gain, best gain: -inf\n",
      "[LightGBM] [Warning] No further splits with positive gain, best gain: -inf\n",
      "[LightGBM] [Warning] No further splits with positive gain, best gain: -inf\n",
      "[LightGBM] [Warning] No further splits with positive gain, best gain: -inf\n",
      "[LightGBM] [Warning] No further splits with positive gain, best gain: -inf\n",
      "[LightGBM] [Warning] No further splits with positive gain, best gain: -inf\n",
      "[LightGBM] [Warning] No further splits with positive gain, best gain: -inf\n",
      "[LightGBM] [Warning] No further splits with positive gain, best gain: -inf\n",
      "[LightGBM] [Warning] No further splits with positive gain, best gain: -inf\n",
      "[LightGBM] [Warning] No further splits with positive gain, best gain: -inf\n",
      "[LightGBM] [Warning] No further splits with positive gain, best gain: -inf\n",
      "[LightGBM] [Warning] No further splits with positive gain, best gain: -inf\n"
     ]
    },
    {
     "name": "stderr",
     "output_type": "stream",
     "text": [
      "C:\\Users\\ladad\\anaconda3\\lib\\site-packages\\lightgbm\\engine.py:148: UserWarning: Found `num_iterations` in params. Will use it instead of argument\n",
      "  _log_warning(\"Found `{}` in params. Will use it instead of argument\".format(alias))\n"
     ]
    },
    {
     "name": "stdout",
     "output_type": "stream",
     "text": [
      "[LightGBM] [Warning] Auto-choosing row-wise multi-threading, the overhead of testing was 0.004982 seconds.\n",
      "You can set `force_row_wise=true` to remove the overhead.\n",
      "And if memory is not enough, you can set `force_col_wise=true`.\n",
      "[LightGBM] [Warning] No further splits with positive gain, best gain: -inf\n",
      "[LightGBM] [Warning] No further splits with positive gain, best gain: -inf\n",
      "[LightGBM] [Warning] No further splits with positive gain, best gain: -inf\n",
      "[LightGBM] [Warning] No further splits with positive gain, best gain: -inf\n",
      "[LightGBM] [Warning] No further splits with positive gain, best gain: -inf\n",
      "[LightGBM] [Warning] No further splits with positive gain, best gain: -inf\n",
      "[LightGBM] [Warning] No further splits with positive gain, best gain: -inf\n",
      "[LightGBM] [Warning] No further splits with positive gain, best gain: -inf\n",
      "[LightGBM] [Warning] No further splits with positive gain, best gain: -inf\n",
      "[LightGBM] [Warning] No further splits with positive gain, best gain: -inf\n",
      "[LightGBM] [Warning] No further splits with positive gain, best gain: -inf\n",
      "[LightGBM] [Warning] No further splits with positive gain, best gain: -inf\n",
      "[LightGBM] [Warning] No further splits with positive gain, best gain: -inf\n",
      "[LightGBM] [Warning] No further splits with positive gain, best gain: -inf\n",
      "[LightGBM] [Warning] No further splits with positive gain, best gain: -inf\n"
     ]
    },
    {
     "name": "stderr",
     "output_type": "stream",
     "text": [
      "C:\\Users\\ladad\\anaconda3\\lib\\site-packages\\lightgbm\\engine.py:148: UserWarning: Found `num_iterations` in params. Will use it instead of argument\n",
      "  _log_warning(\"Found `{}` in params. Will use it instead of argument\".format(alias))\n"
     ]
    },
    {
     "name": "stdout",
     "output_type": "stream",
     "text": [
      "[LightGBM] [Warning] Auto-choosing row-wise multi-threading, the overhead of testing was 0.005746 seconds.\n",
      "You can set `force_row_wise=true` to remove the overhead.\n",
      "And if memory is not enough, you can set `force_col_wise=true`.\n",
      "[LightGBM] [Warning] No further splits with positive gain, best gain: -inf\n",
      "[LightGBM] [Warning] No further splits with positive gain, best gain: -inf\n",
      "[LightGBM] [Warning] No further splits with positive gain, best gain: -inf\n",
      "[LightGBM] [Warning] No further splits with positive gain, best gain: -inf\n",
      "[LightGBM] [Warning] No further splits with positive gain, best gain: -inf\n",
      "[LightGBM] [Warning] No further splits with positive gain, best gain: -inf\n",
      "[LightGBM] [Warning] No further splits with positive gain, best gain: -inf\n",
      "[LightGBM] [Warning] No further splits with positive gain, best gain: -inf\n",
      "[LightGBM] [Warning] No further splits with positive gain, best gain: -inf\n",
      "[LightGBM] [Warning] No further splits with positive gain, best gain: -inf\n",
      "[LightGBM] [Warning] No further splits with positive gain, best gain: -inf\n",
      "[LightGBM] [Warning] No further splits with positive gain, best gain: -inf\n",
      "[LightGBM] [Warning] No further splits with positive gain, best gain: -inf\n",
      "[LightGBM] [Warning] No further splits with positive gain, best gain: -inf\n",
      "[LightGBM] [Warning] No further splits with positive gain, best gain: -inf\n",
      "[LightGBM] [Warning] No further splits with positive gain, best gain: -inf\n",
      "[LightGBM] [Warning] No further splits with positive gain, best gain: -inf\n",
      "[LightGBM] [Warning] No further splits with positive gain, best gain: -inf\n",
      "[LightGBM] [Warning] No further splits with positive gain, best gain: -inf\n",
      "[LightGBM] [Warning] No further splits with positive gain, best gain: -inf\n",
      "[LightGBM] [Warning] No further splits with positive gain, best gain: -inf\n",
      "[LightGBM] [Warning] No further splits with positive gain, best gain: -inf\n",
      "[LightGBM] [Warning] No further splits with positive gain, best gain: -inf\n",
      "[LightGBM] [Warning] No further splits with positive gain, best gain: -inf\n",
      "[LightGBM] [Warning] No further splits with positive gain, best gain: -inf\n",
      "[LightGBM] [Warning] No further splits with positive gain, best gain: -inf\n",
      "[LightGBM] [Warning] No further splits with positive gain, best gain: -inf\n",
      "[LightGBM] [Warning] No further splits with positive gain, best gain: -inf\n",
      "[LightGBM] [Warning] No further splits with positive gain, best gain: -inf\n",
      "[LightGBM] [Warning] No further splits with positive gain, best gain: -inf\n",
      "[LightGBM] [Warning] No further splits with positive gain, best gain: -inf\n",
      "[LightGBM] [Warning] No further splits with positive gain, best gain: -inf\n"
     ]
    },
    {
     "name": "stderr",
     "output_type": "stream",
     "text": [
      "C:\\Users\\ladad\\anaconda3\\lib\\site-packages\\lightgbm\\engine.py:148: UserWarning: Found `num_iterations` in params. Will use it instead of argument\n",
      "  _log_warning(\"Found `{}` in params. Will use it instead of argument\".format(alias))\n"
     ]
    },
    {
     "name": "stdout",
     "output_type": "stream",
     "text": [
      "[LightGBM] [Warning] Auto-choosing col-wise multi-threading, the overhead of testing was 0.010533 seconds.\n",
      "You can set `force_col_wise=true` to remove the overhead.\n",
      "[LightGBM] [Warning] No further splits with positive gain, best gain: -inf\n",
      "[LightGBM] [Warning] No further splits with positive gain, best gain: -inf\n",
      "[LightGBM] [Warning] No further splits with positive gain, best gain: -inf\n",
      "[LightGBM] [Warning] No further splits with positive gain, best gain: -inf\n",
      "[LightGBM] [Warning] No further splits with positive gain, best gain: -inf\n",
      "[LightGBM] [Warning] No further splits with positive gain, best gain: -inf\n",
      "[LightGBM] [Warning] No further splits with positive gain, best gain: -inf\n",
      "[LightGBM] [Warning] No further splits with positive gain, best gain: -inf\n",
      "[LightGBM] [Warning] No further splits with positive gain, best gain: -inf\n",
      "[LightGBM] [Warning] No further splits with positive gain, best gain: -inf\n",
      "[LightGBM] [Warning] No further splits with positive gain, best gain: -inf\n",
      "[LightGBM] [Warning] No further splits with positive gain, best gain: -inf\n",
      "[LightGBM] [Warning] No further splits with positive gain, best gain: -inf\n",
      "[LightGBM] [Warning] No further splits with positive gain, best gain: -inf\n",
      "[LightGBM] [Warning] No further splits with positive gain, best gain: -inf\n",
      "[LightGBM] [Warning] No further splits with positive gain, best gain: -inf\n",
      "[LightGBM] [Warning] No further splits with positive gain, best gain: -inf\n",
      "[LightGBM] [Warning] No further splits with positive gain, best gain: -inf\n",
      "[LightGBM] [Warning] No further splits with positive gain, best gain: -inf\n",
      "[LightGBM] [Warning] No further splits with positive gain, best gain: -inf\n",
      "[LightGBM] [Warning] No further splits with positive gain, best gain: -inf\n",
      "[LightGBM] [Warning] No further splits with positive gain, best gain: -inf\n",
      "[LightGBM] [Warning] No further splits with positive gain, best gain: -inf\n"
     ]
    },
    {
     "name": "stderr",
     "output_type": "stream",
     "text": [
      "C:\\Users\\ladad\\anaconda3\\lib\\site-packages\\lightgbm\\engine.py:148: UserWarning: Found `num_iterations` in params. Will use it instead of argument\n",
      "  _log_warning(\"Found `{}` in params. Will use it instead of argument\".format(alias))\n"
     ]
    },
    {
     "name": "stdout",
     "output_type": "stream",
     "text": [
      "[LightGBM] [Warning] Auto-choosing row-wise multi-threading, the overhead of testing was 0.008278 seconds.\n",
      "You can set `force_row_wise=true` to remove the overhead.\n",
      "And if memory is not enough, you can set `force_col_wise=true`.\n",
      "[LightGBM] [Warning] No further splits with positive gain, best gain: -inf\n",
      "[LightGBM] [Warning] No further splits with positive gain, best gain: -inf\n",
      "[LightGBM] [Warning] No further splits with positive gain, best gain: -inf\n",
      "[LightGBM] [Warning] No further splits with positive gain, best gain: -inf\n",
      "[LightGBM] [Warning] No further splits with positive gain, best gain: -inf\n",
      "[LightGBM] [Warning] No further splits with positive gain, best gain: -inf\n",
      "[LightGBM] [Warning] No further splits with positive gain, best gain: -inf\n",
      "[LightGBM] [Warning] No further splits with positive gain, best gain: -inf\n",
      "[LightGBM] [Warning] No further splits with positive gain, best gain: -inf\n",
      "[LightGBM] [Warning] No further splits with positive gain, best gain: -inf\n",
      "[LightGBM] [Warning] No further splits with positive gain, best gain: -inf\n",
      "[LightGBM] [Warning] No further splits with positive gain, best gain: -inf\n",
      "[LightGBM] [Warning] No further splits with positive gain, best gain: -inf\n",
      "[LightGBM] [Warning] No further splits with positive gain, best gain: -inf\n",
      "[LightGBM] [Warning] No further splits with positive gain, best gain: -inf\n",
      "[LightGBM] [Warning] No further splits with positive gain, best gain: -inf\n",
      "[LightGBM] [Warning] No further splits with positive gain, best gain: -inf\n",
      "[LightGBM] [Warning] No further splits with positive gain, best gain: -inf\n",
      "[LightGBM] [Warning] No further splits with positive gain, best gain: -inf\n",
      "[LightGBM] [Warning] No further splits with positive gain, best gain: -inf\n",
      "[LightGBM] [Warning] No further splits with positive gain, best gain: -inf\n",
      "[LightGBM] [Warning] No further splits with positive gain, best gain: -inf\n",
      "[LightGBM] [Warning] No further splits with positive gain, best gain: -inf\n",
      "[LightGBM] [Warning] No further splits with positive gain, best gain: -inf\n",
      "[LightGBM] [Warning] No further splits with positive gain, best gain: -inf\n",
      "[LightGBM] [Warning] No further splits with positive gain, best gain: -inf\n",
      "[LightGBM] [Warning] No further splits with positive gain, best gain: -inf\n"
     ]
    },
    {
     "name": "stderr",
     "output_type": "stream",
     "text": [
      "C:\\Users\\ladad\\anaconda3\\lib\\site-packages\\lightgbm\\engine.py:148: UserWarning: Found `num_iterations` in params. Will use it instead of argument\n",
      "  _log_warning(\"Found `{}` in params. Will use it instead of argument\".format(alias))\n"
     ]
    },
    {
     "name": "stdout",
     "output_type": "stream",
     "text": [
      "[LightGBM] [Warning] Auto-choosing col-wise multi-threading, the overhead of testing was 0.013295 seconds.\n",
      "You can set `force_col_wise=true` to remove the overhead.\n",
      "[LightGBM] [Warning] No further splits with positive gain, best gain: -inf\n",
      "[LightGBM] [Warning] No further splits with positive gain, best gain: -inf\n",
      "[LightGBM] [Warning] No further splits with positive gain, best gain: -inf\n",
      "[LightGBM] [Warning] No further splits with positive gain, best gain: -inf\n",
      "[LightGBM] [Warning] No further splits with positive gain, best gain: -inf\n",
      "[LightGBM] [Warning] No further splits with positive gain, best gain: -inf\n",
      "[LightGBM] [Warning] No further splits with positive gain, best gain: -inf\n",
      "[LightGBM] [Warning] No further splits with positive gain, best gain: -inf\n",
      "[LightGBM] [Warning] No further splits with positive gain, best gain: -inf\n",
      "[LightGBM] [Warning] No further splits with positive gain, best gain: -inf\n",
      "[LightGBM] [Warning] No further splits with positive gain, best gain: -inf\n",
      "[LightGBM] [Warning] No further splits with positive gain, best gain: -inf\n",
      "[LightGBM] [Warning] No further splits with positive gain, best gain: -inf\n",
      "[LightGBM] [Warning] No further splits with positive gain, best gain: -inf\n",
      "[LightGBM] [Warning] No further splits with positive gain, best gain: -inf\n",
      "[LightGBM] [Warning] No further splits with positive gain, best gain: -inf\n",
      "[LightGBM] [Warning] No further splits with positive gain, best gain: -inf\n",
      "[LightGBM] [Warning] No further splits with positive gain, best gain: -inf\n",
      "[LightGBM] [Warning] No further splits with positive gain, best gain: -inf\n",
      "[LightGBM] [Warning] No further splits with positive gain, best gain: -inf\n",
      "[LightGBM] [Warning] No further splits with positive gain, best gain: -inf\n",
      "[LightGBM] [Warning] No further splits with positive gain, best gain: -inf\n",
      "[LightGBM] [Warning] No further splits with positive gain, best gain: -inf\n",
      "[LightGBM] [Warning] No further splits with positive gain, best gain: -inf\n",
      "[LightGBM] [Warning] No further splits with positive gain, best gain: -inf\n",
      "[LightGBM] [Warning] No further splits with positive gain, best gain: -inf\n"
     ]
    },
    {
     "name": "stderr",
     "output_type": "stream",
     "text": [
      "C:\\Users\\ladad\\anaconda3\\lib\\site-packages\\lightgbm\\engine.py:148: UserWarning: Found `num_iterations` in params. Will use it instead of argument\n",
      "  _log_warning(\"Found `{}` in params. Will use it instead of argument\".format(alias))\n"
     ]
    },
    {
     "name": "stdout",
     "output_type": "stream",
     "text": [
      "[LightGBM] [Warning] Auto-choosing row-wise multi-threading, the overhead of testing was 0.007364 seconds.\n",
      "You can set `force_row_wise=true` to remove the overhead.\n",
      "And if memory is not enough, you can set `force_col_wise=true`.\n",
      "[LightGBM] [Warning] No further splits with positive gain, best gain: -inf\n",
      "[LightGBM] [Warning] No further splits with positive gain, best gain: -inf\n",
      "[LightGBM] [Warning] No further splits with positive gain, best gain: -inf\n",
      "[LightGBM] [Warning] No further splits with positive gain, best gain: -inf\n",
      "[LightGBM] [Warning] No further splits with positive gain, best gain: -inf\n",
      "[LightGBM] [Warning] No further splits with positive gain, best gain: -inf\n",
      "[LightGBM] [Warning] No further splits with positive gain, best gain: -inf\n",
      "[LightGBM] [Warning] No further splits with positive gain, best gain: -inf\n",
      "[LightGBM] [Warning] No further splits with positive gain, best gain: -inf\n",
      "[LightGBM] [Warning] No further splits with positive gain, best gain: -inf\n",
      "[LightGBM] [Warning] No further splits with positive gain, best gain: -inf\n",
      "[LightGBM] [Warning] No further splits with positive gain, best gain: -inf\n",
      "[LightGBM] [Warning] No further splits with positive gain, best gain: -inf\n",
      "[LightGBM] [Warning] No further splits with positive gain, best gain: -inf\n",
      "[LightGBM] [Warning] No further splits with positive gain, best gain: -inf\n",
      "[LightGBM] [Warning] No further splits with positive gain, best gain: -inf\n",
      "[LightGBM] [Warning] No further splits with positive gain, best gain: -inf\n",
      "[LightGBM] [Warning] No further splits with positive gain, best gain: -inf\n",
      "[LightGBM] [Warning] No further splits with positive gain, best gain: -inf\n",
      "[LightGBM] [Warning] No further splits with positive gain, best gain: -inf\n",
      "[LightGBM] [Warning] No further splits with positive gain, best gain: -inf\n",
      "[LightGBM] [Warning] No further splits with positive gain, best gain: -inf\n",
      "[LightGBM] [Warning] No further splits with positive gain, best gain: -inf\n",
      "[LightGBM] [Warning] No further splits with positive gain, best gain: -inf\n",
      "[LightGBM] [Warning] No further splits with positive gain, best gain: -inf\n",
      "[LightGBM] [Warning] No further splits with positive gain, best gain: -inf\n",
      "[LightGBM] [Warning] No further splits with positive gain, best gain: -inf\n",
      "[LightGBM] [Warning] No further splits with positive gain, best gain: -inf\n",
      "[LightGBM] [Warning] No further splits with positive gain, best gain: -inf\n",
      "[LightGBM] [Warning] No further splits with positive gain, best gain: -inf\n",
      "[LightGBM] [Warning] No further splits with positive gain, best gain: -inf\n"
     ]
    },
    {
     "name": "stderr",
     "output_type": "stream",
     "text": [
      "C:\\Users\\ladad\\anaconda3\\lib\\site-packages\\lightgbm\\engine.py:148: UserWarning: Found `num_iterations` in params. Will use it instead of argument\n",
      "  _log_warning(\"Found `{}` in params. Will use it instead of argument\".format(alias))\n"
     ]
    },
    {
     "name": "stdout",
     "output_type": "stream",
     "text": [
      "[LightGBM] [Warning] Accuracy may be bad since you didn't explicitly set num_leaves OR 2^max_depth > num_leaves. (num_leaves=31).\n",
      "[LightGBM] [Warning] Accuracy may be bad since you didn't explicitly set num_leaves OR 2^max_depth > num_leaves. (num_leaves=31).\n",
      "[LightGBM] [Warning] Auto-choosing row-wise multi-threading, the overhead of testing was 0.006691 seconds.\n",
      "You can set `force_row_wise=true` to remove the overhead.\n",
      "And if memory is not enough, you can set `force_col_wise=true`.\n"
     ]
    },
    {
     "name": "stderr",
     "output_type": "stream",
     "text": [
      "C:\\Users\\ladad\\anaconda3\\lib\\site-packages\\lightgbm\\engine.py:148: UserWarning: Found `num_iterations` in params. Will use it instead of argument\n",
      "  _log_warning(\"Found `{}` in params. Will use it instead of argument\".format(alias))\n"
     ]
    },
    {
     "name": "stdout",
     "output_type": "stream",
     "text": [
      "[LightGBM] [Warning] Accuracy may be bad since you didn't explicitly set num_leaves OR 2^max_depth > num_leaves. (num_leaves=31).\n",
      "[LightGBM] [Warning] Accuracy may be bad since you didn't explicitly set num_leaves OR 2^max_depth > num_leaves. (num_leaves=31).\n",
      "[LightGBM] [Warning] Auto-choosing row-wise multi-threading, the overhead of testing was 0.008053 seconds.\n",
      "You can set `force_row_wise=true` to remove the overhead.\n",
      "And if memory is not enough, you can set `force_col_wise=true`.\n"
     ]
    },
    {
     "name": "stderr",
     "output_type": "stream",
     "text": [
      "C:\\Users\\ladad\\anaconda3\\lib\\site-packages\\lightgbm\\engine.py:148: UserWarning: Found `num_iterations` in params. Will use it instead of argument\n",
      "  _log_warning(\"Found `{}` in params. Will use it instead of argument\".format(alias))\n"
     ]
    },
    {
     "name": "stdout",
     "output_type": "stream",
     "text": [
      "[LightGBM] [Warning] Accuracy may be bad since you didn't explicitly set num_leaves OR 2^max_depth > num_leaves. (num_leaves=31).\n",
      "[LightGBM] [Warning] Accuracy may be bad since you didn't explicitly set num_leaves OR 2^max_depth > num_leaves. (num_leaves=31).\n",
      "[LightGBM] [Warning] Auto-choosing col-wise multi-threading, the overhead of testing was 0.013075 seconds.\n",
      "You can set `force_col_wise=true` to remove the overhead.\n"
     ]
    },
    {
     "name": "stderr",
     "output_type": "stream",
     "text": [
      "C:\\Users\\ladad\\anaconda3\\lib\\site-packages\\lightgbm\\engine.py:148: UserWarning: Found `num_iterations` in params. Will use it instead of argument\n",
      "  _log_warning(\"Found `{}` in params. Will use it instead of argument\".format(alias))\n"
     ]
    },
    {
     "name": "stdout",
     "output_type": "stream",
     "text": [
      "[LightGBM] [Warning] Accuracy may be bad since you didn't explicitly set num_leaves OR 2^max_depth > num_leaves. (num_leaves=31).\n",
      "[LightGBM] [Warning] Accuracy may be bad since you didn't explicitly set num_leaves OR 2^max_depth > num_leaves. (num_leaves=31).\n",
      "[LightGBM] [Warning] Auto-choosing col-wise multi-threading, the overhead of testing was 0.010974 seconds.\n",
      "You can set `force_col_wise=true` to remove the overhead.\n"
     ]
    },
    {
     "name": "stderr",
     "output_type": "stream",
     "text": [
      "C:\\Users\\ladad\\anaconda3\\lib\\site-packages\\lightgbm\\engine.py:148: UserWarning: Found `num_iterations` in params. Will use it instead of argument\n",
      "  _log_warning(\"Found `{}` in params. Will use it instead of argument\".format(alias))\n"
     ]
    },
    {
     "name": "stdout",
     "output_type": "stream",
     "text": [
      "[LightGBM] [Warning] Accuracy may be bad since you didn't explicitly set num_leaves OR 2^max_depth > num_leaves. (num_leaves=31).\n",
      "[LightGBM] [Warning] Accuracy may be bad since you didn't explicitly set num_leaves OR 2^max_depth > num_leaves. (num_leaves=31).\n",
      "[LightGBM] [Warning] Auto-choosing row-wise multi-threading, the overhead of testing was 0.007197 seconds.\n",
      "You can set `force_row_wise=true` to remove the overhead.\n",
      "And if memory is not enough, you can set `force_col_wise=true`.\n"
     ]
    },
    {
     "name": "stderr",
     "output_type": "stream",
     "text": [
      "C:\\Users\\ladad\\anaconda3\\lib\\site-packages\\lightgbm\\engine.py:148: UserWarning: Found `num_iterations` in params. Will use it instead of argument\n",
      "  _log_warning(\"Found `{}` in params. Will use it instead of argument\".format(alias))\n"
     ]
    },
    {
     "name": "stdout",
     "output_type": "stream",
     "text": [
      "[LightGBM] [Warning] Accuracy may be bad since you didn't explicitly set num_leaves OR 2^max_depth > num_leaves. (num_leaves=31).\n",
      "[LightGBM] [Warning] Accuracy may be bad since you didn't explicitly set num_leaves OR 2^max_depth > num_leaves. (num_leaves=31).\n",
      "[LightGBM] [Warning] Auto-choosing row-wise multi-threading, the overhead of testing was 0.007848 seconds.\n",
      "You can set `force_row_wise=true` to remove the overhead.\n",
      "And if memory is not enough, you can set `force_col_wise=true`.\n",
      "[LightGBM] [Warning] No further splits with positive gain, best gain: -inf\n",
      "[LightGBM] [Warning] No further splits with positive gain, best gain: -inf\n",
      "[LightGBM] [Warning] No further splits with positive gain, best gain: -inf\n",
      "[LightGBM] [Warning] No further splits with positive gain, best gain: -inf\n",
      "[LightGBM] [Warning] No further splits with positive gain, best gain: -inf\n",
      "[LightGBM] [Warning] No further splits with positive gain, best gain: -inf\n"
     ]
    },
    {
     "name": "stderr",
     "output_type": "stream",
     "text": [
      "C:\\Users\\ladad\\anaconda3\\lib\\site-packages\\lightgbm\\engine.py:148: UserWarning: Found `num_iterations` in params. Will use it instead of argument\n",
      "  _log_warning(\"Found `{}` in params. Will use it instead of argument\".format(alias))\n"
     ]
    },
    {
     "name": "stdout",
     "output_type": "stream",
     "text": [
      "[LightGBM] [Warning] Accuracy may be bad since you didn't explicitly set num_leaves OR 2^max_depth > num_leaves. (num_leaves=31).\n",
      "[LightGBM] [Warning] Accuracy may be bad since you didn't explicitly set num_leaves OR 2^max_depth > num_leaves. (num_leaves=31).\n",
      "[LightGBM] [Warning] Auto-choosing col-wise multi-threading, the overhead of testing was 0.013611 seconds.\n",
      "You can set `force_col_wise=true` to remove the overhead.\n",
      "[LightGBM] [Warning] No further splits with positive gain, best gain: -inf\n",
      "[LightGBM] [Warning] No further splits with positive gain, best gain: -inf\n",
      "[LightGBM] [Warning] No further splits with positive gain, best gain: -inf\n",
      "[LightGBM] [Warning] No further splits with positive gain, best gain: -inf\n",
      "[LightGBM] [Warning] No further splits with positive gain, best gain: -inf\n",
      "[LightGBM] [Warning] No further splits with positive gain, best gain: -inf\n",
      "[LightGBM] [Warning] No further splits with positive gain, best gain: -inf\n",
      "[LightGBM] [Warning] No further splits with positive gain, best gain: -inf\n"
     ]
    },
    {
     "name": "stderr",
     "output_type": "stream",
     "text": [
      "C:\\Users\\ladad\\anaconda3\\lib\\site-packages\\lightgbm\\engine.py:148: UserWarning: Found `num_iterations` in params. Will use it instead of argument\n",
      "  _log_warning(\"Found `{}` in params. Will use it instead of argument\".format(alias))\n"
     ]
    },
    {
     "name": "stdout",
     "output_type": "stream",
     "text": [
      "[LightGBM] [Warning] Accuracy may be bad since you didn't explicitly set num_leaves OR 2^max_depth > num_leaves. (num_leaves=31).\n",
      "[LightGBM] [Warning] Accuracy may be bad since you didn't explicitly set num_leaves OR 2^max_depth > num_leaves. (num_leaves=31).\n",
      "[LightGBM] [Warning] Auto-choosing row-wise multi-threading, the overhead of testing was 0.007388 seconds.\n",
      "You can set `force_row_wise=true` to remove the overhead.\n",
      "And if memory is not enough, you can set `force_col_wise=true`.\n"
     ]
    },
    {
     "name": "stderr",
     "output_type": "stream",
     "text": [
      "C:\\Users\\ladad\\anaconda3\\lib\\site-packages\\lightgbm\\engine.py:148: UserWarning: Found `num_iterations` in params. Will use it instead of argument\n",
      "  _log_warning(\"Found `{}` in params. Will use it instead of argument\".format(alias))\n"
     ]
    },
    {
     "name": "stdout",
     "output_type": "stream",
     "text": [
      "[LightGBM] [Warning] Accuracy may be bad since you didn't explicitly set num_leaves OR 2^max_depth > num_leaves. (num_leaves=31).\n",
      "[LightGBM] [Warning] Accuracy may be bad since you didn't explicitly set num_leaves OR 2^max_depth > num_leaves. (num_leaves=31).\n",
      "[LightGBM] [Warning] Auto-choosing col-wise multi-threading, the overhead of testing was 0.012096 seconds.\n",
      "You can set `force_col_wise=true` to remove the overhead.\n",
      "[LightGBM] [Warning] No further splits with positive gain, best gain: -inf\n",
      "[LightGBM] [Warning] No further splits with positive gain, best gain: -inf\n"
     ]
    },
    {
     "name": "stderr",
     "output_type": "stream",
     "text": [
      "C:\\Users\\ladad\\anaconda3\\lib\\site-packages\\lightgbm\\engine.py:148: UserWarning: Found `num_iterations` in params. Will use it instead of argument\n",
      "  _log_warning(\"Found `{}` in params. Will use it instead of argument\".format(alias))\n"
     ]
    },
    {
     "name": "stdout",
     "output_type": "stream",
     "text": [
      "[LightGBM] [Warning] Accuracy may be bad since you didn't explicitly set num_leaves OR 2^max_depth > num_leaves. (num_leaves=31).\n",
      "[LightGBM] [Warning] Accuracy may be bad since you didn't explicitly set num_leaves OR 2^max_depth > num_leaves. (num_leaves=31).\n",
      "[LightGBM] [Warning] Auto-choosing row-wise multi-threading, the overhead of testing was 0.007632 seconds.\n",
      "You can set `force_row_wise=true` to remove the overhead.\n",
      "And if memory is not enough, you can set `force_col_wise=true`.\n",
      "[LightGBM] [Warning] No further splits with positive gain, best gain: -inf\n",
      "[LightGBM] [Warning] No further splits with positive gain, best gain: -inf\n",
      "[LightGBM] [Warning] No further splits with positive gain, best gain: -inf\n",
      "[LightGBM] [Warning] No further splits with positive gain, best gain: -inf\n",
      "[LightGBM] [Warning] No further splits with positive gain, best gain: -inf\n",
      "[LightGBM] [Warning] No further splits with positive gain, best gain: -inf\n",
      "[LightGBM] [Warning] No further splits with positive gain, best gain: -inf\n"
     ]
    },
    {
     "name": "stderr",
     "output_type": "stream",
     "text": [
      "C:\\Users\\ladad\\anaconda3\\lib\\site-packages\\lightgbm\\engine.py:148: UserWarning: Found `num_iterations` in params. Will use it instead of argument\n",
      "  _log_warning(\"Found `{}` in params. Will use it instead of argument\".format(alias))\n"
     ]
    },
    {
     "name": "stdout",
     "output_type": "stream",
     "text": [
      "[LightGBM] [Warning] Accuracy may be bad since you didn't explicitly set num_leaves OR 2^max_depth > num_leaves. (num_leaves=31).\n",
      "[LightGBM] [Warning] Accuracy may be bad since you didn't explicitly set num_leaves OR 2^max_depth > num_leaves. (num_leaves=31).\n",
      "[LightGBM] [Warning] Auto-choosing row-wise multi-threading, the overhead of testing was 0.005777 seconds.\n",
      "You can set `force_row_wise=true` to remove the overhead.\n",
      "And if memory is not enough, you can set `force_col_wise=true`.\n",
      "[LightGBM] [Warning] No further splits with positive gain, best gain: -inf\n",
      "[LightGBM] [Warning] No further splits with positive gain, best gain: -inf\n",
      "[LightGBM] [Warning] No further splits with positive gain, best gain: -inf\n",
      "[LightGBM] [Warning] No further splits with positive gain, best gain: -inf\n",
      "[LightGBM] [Warning] No further splits with positive gain, best gain: -inf\n",
      "[LightGBM] [Warning] No further splits with positive gain, best gain: -inf\n",
      "[LightGBM] [Warning] No further splits with positive gain, best gain: -inf\n"
     ]
    },
    {
     "name": "stderr",
     "output_type": "stream",
     "text": [
      "C:\\Users\\ladad\\anaconda3\\lib\\site-packages\\lightgbm\\engine.py:148: UserWarning: Found `num_iterations` in params. Will use it instead of argument\n",
      "  _log_warning(\"Found `{}` in params. Will use it instead of argument\".format(alias))\n"
     ]
    },
    {
     "name": "stdout",
     "output_type": "stream",
     "text": [
      "[LightGBM] [Warning] Accuracy may be bad since you didn't explicitly set num_leaves OR 2^max_depth > num_leaves. (num_leaves=31).\n",
      "[LightGBM] [Warning] Accuracy may be bad since you didn't explicitly set num_leaves OR 2^max_depth > num_leaves. (num_leaves=31).\n",
      "[LightGBM] [Warning] Auto-choosing row-wise multi-threading, the overhead of testing was 0.005507 seconds.\n",
      "You can set `force_row_wise=true` to remove the overhead.\n",
      "And if memory is not enough, you can set `force_col_wise=true`.\n",
      "[LightGBM] [Warning] No further splits with positive gain, best gain: -inf\n",
      "[LightGBM] [Warning] No further splits with positive gain, best gain: -inf\n",
      "[LightGBM] [Warning] No further splits with positive gain, best gain: -inf\n",
      "[LightGBM] [Warning] No further splits with positive gain, best gain: -inf\n",
      "[LightGBM] [Warning] No further splits with positive gain, best gain: -inf\n",
      "[LightGBM] [Warning] No further splits with positive gain, best gain: -inf\n",
      "[LightGBM] [Warning] No further splits with positive gain, best gain: -inf\n",
      "[LightGBM] [Warning] No further splits with positive gain, best gain: -inf\n",
      "[LightGBM] [Warning] No further splits with positive gain, best gain: -inf\n",
      "[LightGBM] [Warning] No further splits with positive gain, best gain: -inf\n",
      "[LightGBM] [Warning] No further splits with positive gain, best gain: -inf\n",
      "[LightGBM] [Warning] No further splits with positive gain, best gain: -inf\n",
      "[LightGBM] [Warning] No further splits with positive gain, best gain: -inf\n",
      "[LightGBM] [Warning] No further splits with positive gain, best gain: -inf\n",
      "[LightGBM] [Warning] No further splits with positive gain, best gain: -inf\n",
      "[LightGBM] [Warning] No further splits with positive gain, best gain: -inf\n"
     ]
    },
    {
     "name": "stderr",
     "output_type": "stream",
     "text": [
      "C:\\Users\\ladad\\anaconda3\\lib\\site-packages\\lightgbm\\engine.py:148: UserWarning: Found `num_iterations` in params. Will use it instead of argument\n",
      "  _log_warning(\"Found `{}` in params. Will use it instead of argument\".format(alias))\n"
     ]
    },
    {
     "name": "stdout",
     "output_type": "stream",
     "text": [
      "[LightGBM] [Warning] Accuracy may be bad since you didn't explicitly set num_leaves OR 2^max_depth > num_leaves. (num_leaves=31).\n",
      "[LightGBM] [Warning] Accuracy may be bad since you didn't explicitly set num_leaves OR 2^max_depth > num_leaves. (num_leaves=31).\n",
      "[LightGBM] [Warning] Auto-choosing row-wise multi-threading, the overhead of testing was 0.005199 seconds.\n",
      "You can set `force_row_wise=true` to remove the overhead.\n",
      "And if memory is not enough, you can set `force_col_wise=true`.\n",
      "[LightGBM] [Warning] No further splits with positive gain, best gain: -inf\n",
      "[LightGBM] [Warning] No further splits with positive gain, best gain: -inf\n"
     ]
    },
    {
     "name": "stderr",
     "output_type": "stream",
     "text": [
      "C:\\Users\\ladad\\anaconda3\\lib\\site-packages\\lightgbm\\engine.py:148: UserWarning: Found `num_iterations` in params. Will use it instead of argument\n",
      "  _log_warning(\"Found `{}` in params. Will use it instead of argument\".format(alias))\n"
     ]
    },
    {
     "name": "stdout",
     "output_type": "stream",
     "text": [
      "[LightGBM] [Warning] Accuracy may be bad since you didn't explicitly set num_leaves OR 2^max_depth > num_leaves. (num_leaves=31).\n",
      "[LightGBM] [Warning] Accuracy may be bad since you didn't explicitly set num_leaves OR 2^max_depth > num_leaves. (num_leaves=31).\n",
      "[LightGBM] [Warning] Auto-choosing row-wise multi-threading, the overhead of testing was 0.006025 seconds.\n",
      "You can set `force_row_wise=true` to remove the overhead.\n",
      "And if memory is not enough, you can set `force_col_wise=true`.\n",
      "[LightGBM] [Warning] No further splits with positive gain, best gain: -inf\n",
      "[LightGBM] [Warning] No further splits with positive gain, best gain: -inf\n",
      "[LightGBM] [Warning] No further splits with positive gain, best gain: -inf\n",
      "[LightGBM] [Warning] No further splits with positive gain, best gain: -inf\n"
     ]
    },
    {
     "name": "stderr",
     "output_type": "stream",
     "text": [
      "C:\\Users\\ladad\\anaconda3\\lib\\site-packages\\lightgbm\\engine.py:148: UserWarning: Found `num_iterations` in params. Will use it instead of argument\n",
      "  _log_warning(\"Found `{}` in params. Will use it instead of argument\".format(alias))\n"
     ]
    },
    {
     "name": "stdout",
     "output_type": "stream",
     "text": [
      "[LightGBM] [Warning] Accuracy may be bad since you didn't explicitly set num_leaves OR 2^max_depth > num_leaves. (num_leaves=31).\n",
      "[LightGBM] [Warning] Accuracy may be bad since you didn't explicitly set num_leaves OR 2^max_depth > num_leaves. (num_leaves=31).\n",
      "[LightGBM] [Warning] Auto-choosing row-wise multi-threading, the overhead of testing was 0.005723 seconds.\n",
      "You can set `force_row_wise=true` to remove the overhead.\n",
      "And if memory is not enough, you can set `force_col_wise=true`.\n",
      "[LightGBM] [Warning] No further splits with positive gain, best gain: -inf\n",
      "[LightGBM] [Warning] No further splits with positive gain, best gain: -inf\n",
      "[LightGBM] [Warning] No further splits with positive gain, best gain: -inf\n",
      "[LightGBM] [Warning] No further splits with positive gain, best gain: -inf\n",
      "[LightGBM] [Warning] No further splits with positive gain, best gain: -inf\n",
      "[LightGBM] [Warning] No further splits with positive gain, best gain: -inf\n",
      "[LightGBM] [Warning] No further splits with positive gain, best gain: -inf\n",
      "[LightGBM] [Warning] No further splits with positive gain, best gain: -inf\n",
      "[LightGBM] [Warning] No further splits with positive gain, best gain: -inf\n",
      "[LightGBM] [Warning] No further splits with positive gain, best gain: -inf\n",
      "[LightGBM] [Warning] No further splits with positive gain, best gain: -inf\n",
      "[LightGBM] [Warning] No further splits with positive gain, best gain: -inf\n",
      "[LightGBM] [Warning] No further splits with positive gain, best gain: -inf\n",
      "[LightGBM] [Warning] No further splits with positive gain, best gain: -inf\n",
      "[LightGBM] [Warning] No further splits with positive gain, best gain: -inf\n",
      "[LightGBM] [Warning] No further splits with positive gain, best gain: -inf\n",
      "[LightGBM] [Warning] No further splits with positive gain, best gain: -inf\n",
      "[LightGBM] [Warning] No further splits with positive gain, best gain: -inf\n",
      "[LightGBM] [Warning] No further splits with positive gain, best gain: -inf\n"
     ]
    },
    {
     "name": "stderr",
     "output_type": "stream",
     "text": [
      "C:\\Users\\ladad\\anaconda3\\lib\\site-packages\\lightgbm\\engine.py:148: UserWarning: Found `num_iterations` in params. Will use it instead of argument\n",
      "  _log_warning(\"Found `{}` in params. Will use it instead of argument\".format(alias))\n"
     ]
    },
    {
     "name": "stdout",
     "output_type": "stream",
     "text": [
      "[LightGBM] [Warning] Auto-choosing row-wise multi-threading, the overhead of testing was 0.005753 seconds.\n",
      "You can set `force_row_wise=true` to remove the overhead.\n",
      "And if memory is not enough, you can set `force_col_wise=true`.\n"
     ]
    },
    {
     "name": "stderr",
     "output_type": "stream",
     "text": [
      "C:\\Users\\ladad\\anaconda3\\lib\\site-packages\\lightgbm\\engine.py:148: UserWarning: Found `num_iterations` in params. Will use it instead of argument\n",
      "  _log_warning(\"Found `{}` in params. Will use it instead of argument\".format(alias))\n"
     ]
    },
    {
     "name": "stdout",
     "output_type": "stream",
     "text": [
      "[LightGBM] [Warning] Auto-choosing row-wise multi-threading, the overhead of testing was 0.005674 seconds.\n",
      "You can set `force_row_wise=true` to remove the overhead.\n",
      "And if memory is not enough, you can set `force_col_wise=true`.\n"
     ]
    },
    {
     "name": "stderr",
     "output_type": "stream",
     "text": [
      "C:\\Users\\ladad\\anaconda3\\lib\\site-packages\\lightgbm\\engine.py:148: UserWarning: Found `num_iterations` in params. Will use it instead of argument\n",
      "  _log_warning(\"Found `{}` in params. Will use it instead of argument\".format(alias))\n"
     ]
    },
    {
     "name": "stdout",
     "output_type": "stream",
     "text": [
      "[LightGBM] [Warning] Auto-choosing row-wise multi-threading, the overhead of testing was 0.006468 seconds.\n",
      "You can set `force_row_wise=true` to remove the overhead.\n",
      "And if memory is not enough, you can set `force_col_wise=true`.\n"
     ]
    },
    {
     "name": "stderr",
     "output_type": "stream",
     "text": [
      "C:\\Users\\ladad\\anaconda3\\lib\\site-packages\\lightgbm\\engine.py:148: UserWarning: Found `num_iterations` in params. Will use it instead of argument\n",
      "  _log_warning(\"Found `{}` in params. Will use it instead of argument\".format(alias))\n"
     ]
    },
    {
     "name": "stdout",
     "output_type": "stream",
     "text": [
      "[LightGBM] [Warning] Auto-choosing row-wise multi-threading, the overhead of testing was 0.006117 seconds.\n",
      "You can set `force_row_wise=true` to remove the overhead.\n",
      "And if memory is not enough, you can set `force_col_wise=true`.\n"
     ]
    },
    {
     "name": "stderr",
     "output_type": "stream",
     "text": [
      "C:\\Users\\ladad\\anaconda3\\lib\\site-packages\\lightgbm\\engine.py:148: UserWarning: Found `num_iterations` in params. Will use it instead of argument\n",
      "  _log_warning(\"Found `{}` in params. Will use it instead of argument\".format(alias))\n"
     ]
    },
    {
     "name": "stdout",
     "output_type": "stream",
     "text": [
      "[LightGBM] [Warning] Auto-choosing row-wise multi-threading, the overhead of testing was 0.005633 seconds.\n",
      "You can set `force_row_wise=true` to remove the overhead.\n",
      "And if memory is not enough, you can set `force_col_wise=true`.\n"
     ]
    },
    {
     "name": "stderr",
     "output_type": "stream",
     "text": [
      "C:\\Users\\ladad\\anaconda3\\lib\\site-packages\\lightgbm\\engine.py:148: UserWarning: Found `num_iterations` in params. Will use it instead of argument\n",
      "  _log_warning(\"Found `{}` in params. Will use it instead of argument\".format(alias))\n"
     ]
    },
    {
     "name": "stdout",
     "output_type": "stream",
     "text": [
      "[LightGBM] [Warning] Auto-choosing row-wise multi-threading, the overhead of testing was 0.005043 seconds.\n",
      "You can set `force_row_wise=true` to remove the overhead.\n",
      "And if memory is not enough, you can set `force_col_wise=true`.\n"
     ]
    },
    {
     "name": "stderr",
     "output_type": "stream",
     "text": [
      "C:\\Users\\ladad\\anaconda3\\lib\\site-packages\\lightgbm\\engine.py:148: UserWarning: Found `num_iterations` in params. Will use it instead of argument\n",
      "  _log_warning(\"Found `{}` in params. Will use it instead of argument\".format(alias))\n"
     ]
    },
    {
     "name": "stdout",
     "output_type": "stream",
     "text": [
      "[LightGBM] [Warning] Auto-choosing col-wise multi-threading, the overhead of testing was 0.009118 seconds.\n",
      "You can set `force_col_wise=true` to remove the overhead.\n"
     ]
    },
    {
     "name": "stderr",
     "output_type": "stream",
     "text": [
      "C:\\Users\\ladad\\anaconda3\\lib\\site-packages\\lightgbm\\engine.py:148: UserWarning: Found `num_iterations` in params. Will use it instead of argument\n",
      "  _log_warning(\"Found `{}` in params. Will use it instead of argument\".format(alias))\n"
     ]
    },
    {
     "name": "stdout",
     "output_type": "stream",
     "text": [
      "[LightGBM] [Warning] Auto-choosing col-wise multi-threading, the overhead of testing was 0.009435 seconds.\n",
      "You can set `force_col_wise=true` to remove the overhead.\n"
     ]
    },
    {
     "name": "stderr",
     "output_type": "stream",
     "text": [
      "C:\\Users\\ladad\\anaconda3\\lib\\site-packages\\lightgbm\\engine.py:148: UserWarning: Found `num_iterations` in params. Will use it instead of argument\n",
      "  _log_warning(\"Found `{}` in params. Will use it instead of argument\".format(alias))\n"
     ]
    },
    {
     "name": "stdout",
     "output_type": "stream",
     "text": [
      "[LightGBM] [Warning] Auto-choosing row-wise multi-threading, the overhead of testing was 0.008615 seconds.\n",
      "You can set `force_row_wise=true` to remove the overhead.\n",
      "And if memory is not enough, you can set `force_col_wise=true`.\n"
     ]
    },
    {
     "name": "stderr",
     "output_type": "stream",
     "text": [
      "C:\\Users\\ladad\\anaconda3\\lib\\site-packages\\lightgbm\\engine.py:148: UserWarning: Found `num_iterations` in params. Will use it instead of argument\n",
      "  _log_warning(\"Found `{}` in params. Will use it instead of argument\".format(alias))\n"
     ]
    },
    {
     "name": "stdout",
     "output_type": "stream",
     "text": [
      "[LightGBM] [Warning] Auto-choosing row-wise multi-threading, the overhead of testing was 0.005252 seconds.\n",
      "You can set `force_row_wise=true` to remove the overhead.\n",
      "And if memory is not enough, you can set `force_col_wise=true`.\n"
     ]
    },
    {
     "name": "stderr",
     "output_type": "stream",
     "text": [
      "C:\\Users\\ladad\\anaconda3\\lib\\site-packages\\lightgbm\\engine.py:148: UserWarning: Found `num_iterations` in params. Will use it instead of argument\n",
      "  _log_warning(\"Found `{}` in params. Will use it instead of argument\".format(alias))\n"
     ]
    },
    {
     "name": "stdout",
     "output_type": "stream",
     "text": [
      "[LightGBM] [Warning] Auto-choosing row-wise multi-threading, the overhead of testing was 0.004980 seconds.\n",
      "You can set `force_row_wise=true` to remove the overhead.\n",
      "And if memory is not enough, you can set `force_col_wise=true`.\n"
     ]
    },
    {
     "name": "stderr",
     "output_type": "stream",
     "text": [
      "C:\\Users\\ladad\\anaconda3\\lib\\site-packages\\lightgbm\\engine.py:148: UserWarning: Found `num_iterations` in params. Will use it instead of argument\n",
      "  _log_warning(\"Found `{}` in params. Will use it instead of argument\".format(alias))\n"
     ]
    },
    {
     "name": "stdout",
     "output_type": "stream",
     "text": [
      "[LightGBM] [Warning] Auto-choosing row-wise multi-threading, the overhead of testing was 0.005365 seconds.\n",
      "You can set `force_row_wise=true` to remove the overhead.\n",
      "And if memory is not enough, you can set `force_col_wise=true`.\n"
     ]
    },
    {
     "name": "stderr",
     "output_type": "stream",
     "text": [
      "C:\\Users\\ladad\\anaconda3\\lib\\site-packages\\lightgbm\\engine.py:148: UserWarning: Found `num_iterations` in params. Will use it instead of argument\n",
      "  _log_warning(\"Found `{}` in params. Will use it instead of argument\".format(alias))\n"
     ]
    },
    {
     "name": "stdout",
     "output_type": "stream",
     "text": [
      "[LightGBM] [Warning] Auto-choosing col-wise multi-threading, the overhead of testing was 0.008506 seconds.\n",
      "You can set `force_col_wise=true` to remove the overhead.\n"
     ]
    },
    {
     "name": "stderr",
     "output_type": "stream",
     "text": [
      "C:\\Users\\ladad\\anaconda3\\lib\\site-packages\\lightgbm\\engine.py:148: UserWarning: Found `num_iterations` in params. Will use it instead of argument\n",
      "  _log_warning(\"Found `{}` in params. Will use it instead of argument\".format(alias))\n"
     ]
    },
    {
     "name": "stdout",
     "output_type": "stream",
     "text": [
      "[LightGBM] [Warning] Auto-choosing col-wise multi-threading, the overhead of testing was 0.013526 seconds.\n",
      "You can set `force_col_wise=true` to remove the overhead.\n"
     ]
    },
    {
     "name": "stderr",
     "output_type": "stream",
     "text": [
      "C:\\Users\\ladad\\anaconda3\\lib\\site-packages\\lightgbm\\engine.py:148: UserWarning: Found `num_iterations` in params. Will use it instead of argument\n",
      "  _log_warning(\"Found `{}` in params. Will use it instead of argument\".format(alias))\n"
     ]
    },
    {
     "name": "stdout",
     "output_type": "stream",
     "text": [
      "[LightGBM] [Warning] Auto-choosing col-wise multi-threading, the overhead of testing was 0.009516 seconds.\n",
      "You can set `force_col_wise=true` to remove the overhead.\n"
     ]
    },
    {
     "name": "stderr",
     "output_type": "stream",
     "text": [
      "C:\\Users\\ladad\\anaconda3\\lib\\site-packages\\lightgbm\\engine.py:148: UserWarning: Found `num_iterations` in params. Will use it instead of argument\n",
      "  _log_warning(\"Found `{}` in params. Will use it instead of argument\".format(alias))\n"
     ]
    },
    {
     "name": "stdout",
     "output_type": "stream",
     "text": [
      "[LightGBM] [Warning] Auto-choosing row-wise multi-threading, the overhead of testing was 0.005644 seconds.\n",
      "You can set `force_row_wise=true` to remove the overhead.\n",
      "And if memory is not enough, you can set `force_col_wise=true`.\n",
      "[LightGBM] [Warning] No further splits with positive gain, best gain: -inf\n",
      "[LightGBM] [Warning] No further splits with positive gain, best gain: -inf\n",
      "[LightGBM] [Warning] No further splits with positive gain, best gain: -inf\n",
      "[LightGBM] [Warning] No further splits with positive gain, best gain: -inf\n"
     ]
    },
    {
     "name": "stderr",
     "output_type": "stream",
     "text": [
      "C:\\Users\\ladad\\anaconda3\\lib\\site-packages\\lightgbm\\engine.py:148: UserWarning: Found `num_iterations` in params. Will use it instead of argument\n",
      "  _log_warning(\"Found `{}` in params. Will use it instead of argument\".format(alias))\n"
     ]
    },
    {
     "name": "stdout",
     "output_type": "stream",
     "text": [
      "[LightGBM] [Warning] Auto-choosing row-wise multi-threading, the overhead of testing was 0.006553 seconds.\n",
      "You can set `force_row_wise=true` to remove the overhead.\n",
      "And if memory is not enough, you can set `force_col_wise=true`.\n",
      "[LightGBM] [Warning] No further splits with positive gain, best gain: -inf\n",
      "[LightGBM] [Warning] No further splits with positive gain, best gain: -inf\n",
      "[LightGBM] [Warning] No further splits with positive gain, best gain: -inf\n",
      "[LightGBM] [Warning] No further splits with positive gain, best gain: -inf\n",
      "[LightGBM] [Warning] No further splits with positive gain, best gain: -inf\n"
     ]
    },
    {
     "name": "stderr",
     "output_type": "stream",
     "text": [
      "C:\\Users\\ladad\\anaconda3\\lib\\site-packages\\lightgbm\\engine.py:148: UserWarning: Found `num_iterations` in params. Will use it instead of argument\n",
      "  _log_warning(\"Found `{}` in params. Will use it instead of argument\".format(alias))\n"
     ]
    },
    {
     "name": "stdout",
     "output_type": "stream",
     "text": [
      "[LightGBM] [Warning] Auto-choosing row-wise multi-threading, the overhead of testing was 0.005781 seconds.\n",
      "You can set `force_row_wise=true` to remove the overhead.\n",
      "And if memory is not enough, you can set `force_col_wise=true`.\n",
      "[LightGBM] [Warning] No further splits with positive gain, best gain: -inf\n",
      "[LightGBM] [Warning] No further splits with positive gain, best gain: -inf\n"
     ]
    },
    {
     "name": "stderr",
     "output_type": "stream",
     "text": [
      "C:\\Users\\ladad\\anaconda3\\lib\\site-packages\\lightgbm\\engine.py:148: UserWarning: Found `num_iterations` in params. Will use it instead of argument\n",
      "  _log_warning(\"Found `{}` in params. Will use it instead of argument\".format(alias))\n"
     ]
    },
    {
     "name": "stdout",
     "output_type": "stream",
     "text": [
      "[LightGBM] [Warning] Auto-choosing row-wise multi-threading, the overhead of testing was 0.006550 seconds.\n",
      "You can set `force_row_wise=true` to remove the overhead.\n",
      "And if memory is not enough, you can set `force_col_wise=true`.\n",
      "[LightGBM] [Warning] No further splits with positive gain, best gain: -inf\n",
      "[LightGBM] [Warning] No further splits with positive gain, best gain: -inf\n"
     ]
    },
    {
     "name": "stderr",
     "output_type": "stream",
     "text": [
      "C:\\Users\\ladad\\anaconda3\\lib\\site-packages\\lightgbm\\engine.py:148: UserWarning: Found `num_iterations` in params. Will use it instead of argument\n",
      "  _log_warning(\"Found `{}` in params. Will use it instead of argument\".format(alias))\n"
     ]
    },
    {
     "name": "stdout",
     "output_type": "stream",
     "text": [
      "[LightGBM] [Warning] Auto-choosing row-wise multi-threading, the overhead of testing was 0.005482 seconds.\n",
      "You can set `force_row_wise=true` to remove the overhead.\n",
      "And if memory is not enough, you can set `force_col_wise=true`.\n",
      "[LightGBM] [Warning] No further splits with positive gain, best gain: -inf\n",
      "[LightGBM] [Warning] No further splits with positive gain, best gain: -inf\n"
     ]
    },
    {
     "name": "stderr",
     "output_type": "stream",
     "text": [
      "C:\\Users\\ladad\\anaconda3\\lib\\site-packages\\lightgbm\\engine.py:148: UserWarning: Found `num_iterations` in params. Will use it instead of argument\n",
      "  _log_warning(\"Found `{}` in params. Will use it instead of argument\".format(alias))\n"
     ]
    },
    {
     "name": "stdout",
     "output_type": "stream",
     "text": [
      "[LightGBM] [Warning] Auto-choosing row-wise multi-threading, the overhead of testing was 0.006956 seconds.\n",
      "You can set `force_row_wise=true` to remove the overhead.\n",
      "And if memory is not enough, you can set `force_col_wise=true`.\n",
      "[LightGBM] [Warning] No further splits with positive gain, best gain: -inf\n",
      "[LightGBM] [Warning] No further splits with positive gain, best gain: -inf\n",
      "[LightGBM] [Warning] No further splits with positive gain, best gain: -inf\n",
      "[LightGBM] [Warning] No further splits with positive gain, best gain: -inf\n",
      "[LightGBM] [Warning] No further splits with positive gain, best gain: -inf\n",
      "[LightGBM] [Warning] No further splits with positive gain, best gain: -inf\n",
      "[LightGBM] [Warning] No further splits with positive gain, best gain: -inf\n",
      "[LightGBM] [Warning] No further splits with positive gain, best gain: -inf\n",
      "[LightGBM] [Warning] No further splits with positive gain, best gain: -inf\n",
      "[LightGBM] [Warning] No further splits with positive gain, best gain: -inf\n",
      "[LightGBM] [Warning] No further splits with positive gain, best gain: -inf\n",
      "[LightGBM] [Warning] No further splits with positive gain, best gain: -inf\n",
      "[LightGBM] [Warning] No further splits with positive gain, best gain: -inf\n",
      "[LightGBM] [Warning] No further splits with positive gain, best gain: -inf\n",
      "[LightGBM] [Warning] No further splits with positive gain, best gain: -inf\n",
      "[LightGBM] [Warning] No further splits with positive gain, best gain: -inf\n",
      "[LightGBM] [Warning] No further splits with positive gain, best gain: -inf\n",
      "[LightGBM] [Warning] No further splits with positive gain, best gain: -inf\n",
      "[LightGBM] [Warning] No further splits with positive gain, best gain: -inf\n",
      "[LightGBM] [Warning] No further splits with positive gain, best gain: -inf\n"
     ]
    },
    {
     "name": "stderr",
     "output_type": "stream",
     "text": [
      "C:\\Users\\ladad\\anaconda3\\lib\\site-packages\\lightgbm\\engine.py:148: UserWarning: Found `num_iterations` in params. Will use it instead of argument\n",
      "  _log_warning(\"Found `{}` in params. Will use it instead of argument\".format(alias))\n"
     ]
    },
    {
     "name": "stdout",
     "output_type": "stream",
     "text": [
      "[LightGBM] [Warning] Auto-choosing col-wise multi-threading, the overhead of testing was 0.015254 seconds.\n",
      "You can set `force_col_wise=true` to remove the overhead.\n",
      "[LightGBM] [Warning] No further splits with positive gain, best gain: -inf\n",
      "[LightGBM] [Warning] No further splits with positive gain, best gain: -inf\n",
      "[LightGBM] [Warning] No further splits with positive gain, best gain: -inf\n",
      "[LightGBM] [Warning] No further splits with positive gain, best gain: -inf\n",
      "[LightGBM] [Warning] No further splits with positive gain, best gain: -inf\n",
      "[LightGBM] [Warning] No further splits with positive gain, best gain: -inf\n",
      "[LightGBM] [Warning] No further splits with positive gain, best gain: -inf\n",
      "[LightGBM] [Warning] No further splits with positive gain, best gain: -inf\n",
      "[LightGBM] [Warning] No further splits with positive gain, best gain: -inf\n",
      "[LightGBM] [Warning] No further splits with positive gain, best gain: -inf\n",
      "[LightGBM] [Warning] No further splits with positive gain, best gain: -inf\n",
      "[LightGBM] [Warning] No further splits with positive gain, best gain: -inf\n",
      "[LightGBM] [Warning] No further splits with positive gain, best gain: -inf\n",
      "[LightGBM] [Warning] No further splits with positive gain, best gain: -inf\n",
      "[LightGBM] [Warning] No further splits with positive gain, best gain: -inf\n",
      "[LightGBM] [Warning] No further splits with positive gain, best gain: -inf\n",
      "[LightGBM] [Warning] No further splits with positive gain, best gain: -inf\n",
      "[LightGBM] [Warning] No further splits with positive gain, best gain: -inf\n",
      "[LightGBM] [Warning] No further splits with positive gain, best gain: -inf\n"
     ]
    },
    {
     "name": "stderr",
     "output_type": "stream",
     "text": [
      "C:\\Users\\ladad\\anaconda3\\lib\\site-packages\\lightgbm\\engine.py:148: UserWarning: Found `num_iterations` in params. Will use it instead of argument\n",
      "  _log_warning(\"Found `{}` in params. Will use it instead of argument\".format(alias))\n"
     ]
    },
    {
     "name": "stdout",
     "output_type": "stream",
     "text": [
      "[LightGBM] [Warning] Auto-choosing row-wise multi-threading, the overhead of testing was 0.007140 seconds.\n",
      "You can set `force_row_wise=true` to remove the overhead.\n",
      "And if memory is not enough, you can set `force_col_wise=true`.\n",
      "[LightGBM] [Warning] No further splits with positive gain, best gain: -inf\n",
      "[LightGBM] [Warning] No further splits with positive gain, best gain: -inf\n",
      "[LightGBM] [Warning] No further splits with positive gain, best gain: -inf\n",
      "[LightGBM] [Warning] No further splits with positive gain, best gain: -inf\n",
      "[LightGBM] [Warning] No further splits with positive gain, best gain: -inf\n",
      "[LightGBM] [Warning] No further splits with positive gain, best gain: -inf\n",
      "[LightGBM] [Warning] No further splits with positive gain, best gain: -inf\n",
      "[LightGBM] [Warning] No further splits with positive gain, best gain: -inf\n",
      "[LightGBM] [Warning] No further splits with positive gain, best gain: -inf\n",
      "[LightGBM] [Warning] No further splits with positive gain, best gain: -inf\n",
      "[LightGBM] [Warning] No further splits with positive gain, best gain: -inf\n",
      "[LightGBM] [Warning] No further splits with positive gain, best gain: -inf\n",
      "[LightGBM] [Warning] No further splits with positive gain, best gain: -inf\n",
      "[LightGBM] [Warning] No further splits with positive gain, best gain: -inf\n",
      "[LightGBM] [Warning] No further splits with positive gain, best gain: -inf\n",
      "[LightGBM] [Warning] No further splits with positive gain, best gain: -inf\n",
      "[LightGBM] [Warning] No further splits with positive gain, best gain: -inf\n",
      "[LightGBM] [Warning] No further splits with positive gain, best gain: -inf\n",
      "[LightGBM] [Warning] No further splits with positive gain, best gain: -inf\n"
     ]
    },
    {
     "name": "stderr",
     "output_type": "stream",
     "text": [
      "C:\\Users\\ladad\\anaconda3\\lib\\site-packages\\lightgbm\\engine.py:148: UserWarning: Found `num_iterations` in params. Will use it instead of argument\n",
      "  _log_warning(\"Found `{}` in params. Will use it instead of argument\".format(alias))\n"
     ]
    },
    {
     "name": "stdout",
     "output_type": "stream",
     "text": [
      "[LightGBM] [Warning] Auto-choosing col-wise multi-threading, the overhead of testing was 0.010013 seconds.\n",
      "You can set `force_col_wise=true` to remove the overhead.\n",
      "[LightGBM] [Warning] No further splits with positive gain, best gain: -inf\n",
      "[LightGBM] [Warning] No further splits with positive gain, best gain: -inf\n",
      "[LightGBM] [Warning] No further splits with positive gain, best gain: -inf\n",
      "[LightGBM] [Warning] No further splits with positive gain, best gain: -inf\n",
      "[LightGBM] [Warning] No further splits with positive gain, best gain: -inf\n",
      "[LightGBM] [Warning] No further splits with positive gain, best gain: -inf\n",
      "[LightGBM] [Warning] No further splits with positive gain, best gain: -inf\n",
      "[LightGBM] [Warning] No further splits with positive gain, best gain: -inf\n",
      "[LightGBM] [Warning] No further splits with positive gain, best gain: -inf\n",
      "[LightGBM] [Warning] No further splits with positive gain, best gain: -inf\n",
      "[LightGBM] [Warning] No further splits with positive gain, best gain: -inf\n",
      "[LightGBM] [Warning] No further splits with positive gain, best gain: -inf\n",
      "[LightGBM] [Warning] No further splits with positive gain, best gain: -inf\n",
      "[LightGBM] [Warning] No further splits with positive gain, best gain: -inf\n",
      "[LightGBM] [Warning] No further splits with positive gain, best gain: -inf\n"
     ]
    },
    {
     "name": "stderr",
     "output_type": "stream",
     "text": [
      "C:\\Users\\ladad\\anaconda3\\lib\\site-packages\\lightgbm\\engine.py:148: UserWarning: Found `num_iterations` in params. Will use it instead of argument\n",
      "  _log_warning(\"Found `{}` in params. Will use it instead of argument\".format(alias))\n"
     ]
    },
    {
     "name": "stdout",
     "output_type": "stream",
     "text": [
      "[LightGBM] [Warning] Auto-choosing row-wise multi-threading, the overhead of testing was 0.006557 seconds.\n",
      "You can set `force_row_wise=true` to remove the overhead.\n",
      "And if memory is not enough, you can set `force_col_wise=true`.\n",
      "[LightGBM] [Warning] No further splits with positive gain, best gain: -inf\n",
      "[LightGBM] [Warning] No further splits with positive gain, best gain: -inf\n",
      "[LightGBM] [Warning] No further splits with positive gain, best gain: -inf\n",
      "[LightGBM] [Warning] No further splits with positive gain, best gain: -inf\n",
      "[LightGBM] [Warning] No further splits with positive gain, best gain: -inf\n",
      "[LightGBM] [Warning] No further splits with positive gain, best gain: -inf\n",
      "[LightGBM] [Warning] No further splits with positive gain, best gain: -inf\n",
      "[LightGBM] [Warning] No further splits with positive gain, best gain: -inf\n",
      "[LightGBM] [Warning] No further splits with positive gain, best gain: -inf\n",
      "[LightGBM] [Warning] No further splits with positive gain, best gain: -inf\n",
      "[LightGBM] [Warning] No further splits with positive gain, best gain: -inf\n",
      "[LightGBM] [Warning] No further splits with positive gain, best gain: -inf\n",
      "[LightGBM] [Warning] No further splits with positive gain, best gain: -inf\n",
      "[LightGBM] [Warning] No further splits with positive gain, best gain: -inf\n",
      "[LightGBM] [Warning] No further splits with positive gain, best gain: -inf\n",
      "[LightGBM] [Warning] No further splits with positive gain, best gain: -inf\n",
      "[LightGBM] [Warning] No further splits with positive gain, best gain: -inf\n",
      "[LightGBM] [Warning] No further splits with positive gain, best gain: -inf\n",
      "[LightGBM] [Warning] No further splits with positive gain, best gain: -inf\n",
      "[LightGBM] [Warning] No further splits with positive gain, best gain: -inf\n"
     ]
    },
    {
     "name": "stderr",
     "output_type": "stream",
     "text": [
      "C:\\Users\\ladad\\anaconda3\\lib\\site-packages\\lightgbm\\engine.py:148: UserWarning: Found `num_iterations` in params. Will use it instead of argument\n",
      "  _log_warning(\"Found `{}` in params. Will use it instead of argument\".format(alias))\n"
     ]
    },
    {
     "name": "stdout",
     "output_type": "stream",
     "text": [
      "[LightGBM] [Warning] Auto-choosing row-wise multi-threading, the overhead of testing was 0.006337 seconds.\n",
      "You can set `force_row_wise=true` to remove the overhead.\n",
      "And if memory is not enough, you can set `force_col_wise=true`.\n",
      "[LightGBM] [Warning] No further splits with positive gain, best gain: -inf\n",
      "[LightGBM] [Warning] No further splits with positive gain, best gain: -inf\n",
      "[LightGBM] [Warning] No further splits with positive gain, best gain: -inf\n",
      "[LightGBM] [Warning] No further splits with positive gain, best gain: -inf\n",
      "[LightGBM] [Warning] No further splits with positive gain, best gain: -inf\n",
      "[LightGBM] [Warning] No further splits with positive gain, best gain: -inf\n",
      "[LightGBM] [Warning] No further splits with positive gain, best gain: -inf\n",
      "[LightGBM] [Warning] No further splits with positive gain, best gain: -inf\n",
      "[LightGBM] [Warning] No further splits with positive gain, best gain: -inf\n",
      "[LightGBM] [Warning] No further splits with positive gain, best gain: -inf\n",
      "[LightGBM] [Warning] No further splits with positive gain, best gain: -inf\n",
      "[LightGBM] [Warning] No further splits with positive gain, best gain: -inf\n",
      "[LightGBM] [Warning] No further splits with positive gain, best gain: -inf\n",
      "[LightGBM] [Warning] No further splits with positive gain, best gain: -inf\n",
      "[LightGBM] [Warning] No further splits with positive gain, best gain: -inf\n",
      "[LightGBM] [Warning] No further splits with positive gain, best gain: -inf\n",
      "[LightGBM] [Warning] No further splits with positive gain, best gain: -inf\n",
      "[LightGBM] [Warning] No further splits with positive gain, best gain: -inf\n",
      "[LightGBM] [Warning] No further splits with positive gain, best gain: -inf\n",
      "[LightGBM] [Warning] No further splits with positive gain, best gain: -inf\n",
      "[LightGBM] [Warning] No further splits with positive gain, best gain: -inf\n",
      "[LightGBM] [Warning] No further splits with positive gain, best gain: -inf\n",
      "[LightGBM] [Warning] No further splits with positive gain, best gain: -inf\n",
      "[LightGBM] [Warning] No further splits with positive gain, best gain: -inf\n",
      "[LightGBM] [Warning] No further splits with positive gain, best gain: -inf\n",
      "[LightGBM] [Warning] No further splits with positive gain, best gain: -inf\n",
      "[LightGBM] [Warning] No further splits with positive gain, best gain: -inf\n",
      "[LightGBM] [Warning] No further splits with positive gain, best gain: -inf\n",
      "[LightGBM] [Warning] No further splits with positive gain, best gain: -inf\n",
      "[LightGBM] [Warning] No further splits with positive gain, best gain: -inf\n",
      "[LightGBM] [Warning] No further splits with positive gain, best gain: -inf\n",
      "[LightGBM] [Warning] No further splits with positive gain, best gain: -inf\n",
      "[LightGBM] [Warning] No further splits with positive gain, best gain: -inf\n",
      "[LightGBM] [Warning] No further splits with positive gain, best gain: -inf\n",
      "[LightGBM] [Warning] No further splits with positive gain, best gain: -inf\n",
      "[LightGBM] [Warning] No further splits with positive gain, best gain: -inf\n",
      "[LightGBM] [Warning] No further splits with positive gain, best gain: -inf\n",
      "[LightGBM] [Warning] No further splits with positive gain, best gain: -inf\n",
      "[LightGBM] [Warning] No further splits with positive gain, best gain: -inf\n",
      "[LightGBM] [Warning] No further splits with positive gain, best gain: -inf\n",
      "[LightGBM] [Warning] No further splits with positive gain, best gain: -inf\n",
      "[LightGBM] [Warning] No further splits with positive gain, best gain: -inf\n",
      "[LightGBM] [Warning] No further splits with positive gain, best gain: -inf\n"
     ]
    },
    {
     "name": "stderr",
     "output_type": "stream",
     "text": [
      "C:\\Users\\ladad\\anaconda3\\lib\\site-packages\\lightgbm\\engine.py:148: UserWarning: Found `num_iterations` in params. Will use it instead of argument\n",
      "  _log_warning(\"Found `{}` in params. Will use it instead of argument\".format(alias))\n"
     ]
    },
    {
     "name": "stdout",
     "output_type": "stream",
     "text": [
      "[LightGBM] [Warning] Auto-choosing row-wise multi-threading, the overhead of testing was 0.006852 seconds.\n",
      "You can set `force_row_wise=true` to remove the overhead.\n",
      "And if memory is not enough, you can set `force_col_wise=true`.\n",
      "[LightGBM] [Warning] No further splits with positive gain, best gain: -inf\n",
      "[LightGBM] [Warning] No further splits with positive gain, best gain: -inf\n",
      "[LightGBM] [Warning] No further splits with positive gain, best gain: -inf\n",
      "[LightGBM] [Warning] No further splits with positive gain, best gain: -inf\n",
      "[LightGBM] [Warning] No further splits with positive gain, best gain: -inf\n",
      "[LightGBM] [Warning] No further splits with positive gain, best gain: -inf\n",
      "[LightGBM] [Warning] No further splits with positive gain, best gain: -inf\n",
      "[LightGBM] [Warning] No further splits with positive gain, best gain: -inf\n",
      "[LightGBM] [Warning] No further splits with positive gain, best gain: -inf\n",
      "[LightGBM] [Warning] No further splits with positive gain, best gain: -inf\n",
      "[LightGBM] [Warning] No further splits with positive gain, best gain: -inf\n",
      "[LightGBM] [Warning] No further splits with positive gain, best gain: -inf\n",
      "[LightGBM] [Warning] No further splits with positive gain, best gain: -inf\n",
      "[LightGBM] [Warning] No further splits with positive gain, best gain: -inf\n",
      "[LightGBM] [Warning] No further splits with positive gain, best gain: -inf\n",
      "[LightGBM] [Warning] No further splits with positive gain, best gain: -inf\n",
      "[LightGBM] [Warning] No further splits with positive gain, best gain: -inf\n",
      "[LightGBM] [Warning] No further splits with positive gain, best gain: -inf\n",
      "[LightGBM] [Warning] No further splits with positive gain, best gain: -inf\n",
      "[LightGBM] [Warning] No further splits with positive gain, best gain: -inf\n",
      "[LightGBM] [Warning] No further splits with positive gain, best gain: -inf\n",
      "[LightGBM] [Warning] No further splits with positive gain, best gain: -inf\n",
      "[LightGBM] [Warning] No further splits with positive gain, best gain: -inf\n",
      "[LightGBM] [Warning] No further splits with positive gain, best gain: -inf\n",
      "[LightGBM] [Warning] No further splits with positive gain, best gain: -inf\n",
      "[LightGBM] [Warning] No further splits with positive gain, best gain: -inf\n",
      "[LightGBM] [Warning] No further splits with positive gain, best gain: -inf\n",
      "[LightGBM] [Warning] No further splits with positive gain, best gain: -inf\n",
      "[LightGBM] [Warning] No further splits with positive gain, best gain: -inf\n",
      "[LightGBM] [Warning] No further splits with positive gain, best gain: -inf\n",
      "[LightGBM] [Warning] No further splits with positive gain, best gain: -inf\n",
      "[LightGBM] [Warning] No further splits with positive gain, best gain: -inf\n",
      "[LightGBM] [Warning] No further splits with positive gain, best gain: -inf\n",
      "[LightGBM] [Warning] No further splits with positive gain, best gain: -inf\n",
      "[LightGBM] [Warning] No further splits with positive gain, best gain: -inf\n",
      "[LightGBM] [Warning] No further splits with positive gain, best gain: -inf\n",
      "[LightGBM] [Warning] No further splits with positive gain, best gain: -inf\n",
      "[LightGBM] [Warning] No further splits with positive gain, best gain: -inf\n",
      "[LightGBM] [Warning] No further splits with positive gain, best gain: -inf\n",
      "[LightGBM] [Warning] No further splits with positive gain, best gain: -inf\n",
      "[LightGBM] [Warning] No further splits with positive gain, best gain: -inf\n"
     ]
    },
    {
     "name": "stderr",
     "output_type": "stream",
     "text": [
      "C:\\Users\\ladad\\anaconda3\\lib\\site-packages\\lightgbm\\engine.py:148: UserWarning: Found `num_iterations` in params. Will use it instead of argument\n",
      "  _log_warning(\"Found `{}` in params. Will use it instead of argument\".format(alias))\n"
     ]
    },
    {
     "name": "stdout",
     "output_type": "stream",
     "text": [
      "[LightGBM] [Warning] Auto-choosing row-wise multi-threading, the overhead of testing was 0.006352 seconds.\n",
      "You can set `force_row_wise=true` to remove the overhead.\n",
      "And if memory is not enough, you can set `force_col_wise=true`.\n",
      "[LightGBM] [Warning] No further splits with positive gain, best gain: -inf\n",
      "[LightGBM] [Warning] No further splits with positive gain, best gain: -inf\n",
      "[LightGBM] [Warning] No further splits with positive gain, best gain: -inf\n",
      "[LightGBM] [Warning] No further splits with positive gain, best gain: -inf\n",
      "[LightGBM] [Warning] No further splits with positive gain, best gain: -inf\n",
      "[LightGBM] [Warning] No further splits with positive gain, best gain: -inf\n",
      "[LightGBM] [Warning] No further splits with positive gain, best gain: -inf\n",
      "[LightGBM] [Warning] No further splits with positive gain, best gain: -inf\n",
      "[LightGBM] [Warning] No further splits with positive gain, best gain: -inf\n",
      "[LightGBM] [Warning] No further splits with positive gain, best gain: -inf\n",
      "[LightGBM] [Warning] No further splits with positive gain, best gain: -inf\n",
      "[LightGBM] [Warning] No further splits with positive gain, best gain: -inf\n",
      "[LightGBM] [Warning] No further splits with positive gain, best gain: -inf\n",
      "[LightGBM] [Warning] No further splits with positive gain, best gain: -inf\n",
      "[LightGBM] [Warning] No further splits with positive gain, best gain: -inf\n",
      "[LightGBM] [Warning] No further splits with positive gain, best gain: -inf\n",
      "[LightGBM] [Warning] No further splits with positive gain, best gain: -inf\n",
      "[LightGBM] [Warning] No further splits with positive gain, best gain: -inf\n",
      "[LightGBM] [Warning] No further splits with positive gain, best gain: -inf\n",
      "[LightGBM] [Warning] No further splits with positive gain, best gain: -inf\n",
      "[LightGBM] [Warning] No further splits with positive gain, best gain: -inf\n",
      "[LightGBM] [Warning] No further splits with positive gain, best gain: -inf\n",
      "[LightGBM] [Warning] No further splits with positive gain, best gain: -inf\n",
      "[LightGBM] [Warning] No further splits with positive gain, best gain: -inf\n",
      "[LightGBM] [Warning] No further splits with positive gain, best gain: -inf\n",
      "[LightGBM] [Warning] No further splits with positive gain, best gain: -inf\n",
      "[LightGBM] [Warning] No further splits with positive gain, best gain: -inf\n",
      "[LightGBM] [Warning] No further splits with positive gain, best gain: -inf\n",
      "[LightGBM] [Warning] No further splits with positive gain, best gain: -inf\n",
      "[LightGBM] [Warning] No further splits with positive gain, best gain: -inf\n",
      "[LightGBM] [Warning] No further splits with positive gain, best gain: -inf\n",
      "[LightGBM] [Warning] No further splits with positive gain, best gain: -inf\n"
     ]
    },
    {
     "name": "stderr",
     "output_type": "stream",
     "text": [
      "C:\\Users\\ladad\\anaconda3\\lib\\site-packages\\lightgbm\\engine.py:148: UserWarning: Found `num_iterations` in params. Will use it instead of argument\n",
      "  _log_warning(\"Found `{}` in params. Will use it instead of argument\".format(alias))\n"
     ]
    },
    {
     "name": "stdout",
     "output_type": "stream",
     "text": [
      "[LightGBM] [Warning] Auto-choosing row-wise multi-threading, the overhead of testing was 0.004740 seconds.\n",
      "You can set `force_row_wise=true` to remove the overhead.\n",
      "And if memory is not enough, you can set `force_col_wise=true`.\n",
      "[LightGBM] [Warning] No further splits with positive gain, best gain: -inf\n",
      "[LightGBM] [Warning] No further splits with positive gain, best gain: -inf\n",
      "[LightGBM] [Warning] No further splits with positive gain, best gain: -inf\n",
      "[LightGBM] [Warning] No further splits with positive gain, best gain: -inf\n",
      "[LightGBM] [Warning] No further splits with positive gain, best gain: -inf\n",
      "[LightGBM] [Warning] No further splits with positive gain, best gain: -inf\n",
      "[LightGBM] [Warning] No further splits with positive gain, best gain: -inf\n",
      "[LightGBM] [Warning] No further splits with positive gain, best gain: -inf\n",
      "[LightGBM] [Warning] No further splits with positive gain, best gain: -inf\n",
      "[LightGBM] [Warning] No further splits with positive gain, best gain: -inf\n",
      "[LightGBM] [Warning] No further splits with positive gain, best gain: -inf\n",
      "[LightGBM] [Warning] No further splits with positive gain, best gain: -inf\n",
      "[LightGBM] [Warning] No further splits with positive gain, best gain: -inf\n",
      "[LightGBM] [Warning] No further splits with positive gain, best gain: -inf\n",
      "[LightGBM] [Warning] No further splits with positive gain, best gain: -inf\n",
      "[LightGBM] [Warning] No further splits with positive gain, best gain: -inf\n",
      "[LightGBM] [Warning] No further splits with positive gain, best gain: -inf\n",
      "[LightGBM] [Warning] No further splits with positive gain, best gain: -inf\n",
      "[LightGBM] [Warning] No further splits with positive gain, best gain: -inf\n",
      "[LightGBM] [Warning] No further splits with positive gain, best gain: -inf\n",
      "[LightGBM] [Warning] No further splits with positive gain, best gain: -inf\n",
      "[LightGBM] [Warning] No further splits with positive gain, best gain: -inf\n",
      "[LightGBM] [Warning] No further splits with positive gain, best gain: -inf\n",
      "[LightGBM] [Warning] No further splits with positive gain, best gain: -inf\n",
      "[LightGBM] [Warning] No further splits with positive gain, best gain: -inf\n",
      "[LightGBM] [Warning] No further splits with positive gain, best gain: -inf\n",
      "[LightGBM] [Warning] No further splits with positive gain, best gain: -inf\n",
      "[LightGBM] [Warning] No further splits with positive gain, best gain: -inf\n",
      "[LightGBM] [Warning] No further splits with positive gain, best gain: -inf\n",
      "[LightGBM] [Warning] No further splits with positive gain, best gain: -inf\n",
      "[LightGBM] [Warning] No further splits with positive gain, best gain: -inf\n",
      "[LightGBM] [Warning] No further splits with positive gain, best gain: -inf\n"
     ]
    },
    {
     "name": "stderr",
     "output_type": "stream",
     "text": [
      "C:\\Users\\ladad\\anaconda3\\lib\\site-packages\\lightgbm\\engine.py:148: UserWarning: Found `num_iterations` in params. Will use it instead of argument\n",
      "  _log_warning(\"Found `{}` in params. Will use it instead of argument\".format(alias))\n"
     ]
    },
    {
     "name": "stdout",
     "output_type": "stream",
     "text": [
      "[LightGBM] [Warning] Auto-choosing col-wise multi-threading, the overhead of testing was 0.015131 seconds.\n",
      "You can set `force_col_wise=true` to remove the overhead.\n",
      "[LightGBM] [Warning] No further splits with positive gain, best gain: -inf\n",
      "[LightGBM] [Warning] No further splits with positive gain, best gain: -inf\n",
      "[LightGBM] [Warning] No further splits with positive gain, best gain: -inf\n",
      "[LightGBM] [Warning] No further splits with positive gain, best gain: -inf\n",
      "[LightGBM] [Warning] No further splits with positive gain, best gain: -inf\n",
      "[LightGBM] [Warning] No further splits with positive gain, best gain: -inf\n",
      "[LightGBM] [Warning] No further splits with positive gain, best gain: -inf\n",
      "[LightGBM] [Warning] No further splits with positive gain, best gain: -inf\n",
      "[LightGBM] [Warning] No further splits with positive gain, best gain: -inf\n",
      "[LightGBM] [Warning] No further splits with positive gain, best gain: -inf\n",
      "[LightGBM] [Warning] No further splits with positive gain, best gain: -inf\n",
      "[LightGBM] [Warning] No further splits with positive gain, best gain: -inf\n",
      "[LightGBM] [Warning] No further splits with positive gain, best gain: -inf\n",
      "[LightGBM] [Warning] No further splits with positive gain, best gain: -inf\n",
      "[LightGBM] [Warning] No further splits with positive gain, best gain: -inf\n",
      "[LightGBM] [Warning] No further splits with positive gain, best gain: -inf\n",
      "[LightGBM] [Warning] No further splits with positive gain, best gain: -inf\n",
      "[LightGBM] [Warning] No further splits with positive gain, best gain: -inf\n",
      "[LightGBM] [Warning] No further splits with positive gain, best gain: -inf\n",
      "[LightGBM] [Warning] No further splits with positive gain, best gain: -inf\n",
      "[LightGBM] [Warning] No further splits with positive gain, best gain: -inf\n",
      "[LightGBM] [Warning] No further splits with positive gain, best gain: -inf\n",
      "[LightGBM] [Warning] No further splits with positive gain, best gain: -inf\n",
      "[LightGBM] [Warning] No further splits with positive gain, best gain: -inf\n",
      "[LightGBM] [Warning] No further splits with positive gain, best gain: -inf\n",
      "[LightGBM] [Warning] No further splits with positive gain, best gain: -inf\n",
      "[LightGBM] [Warning] No further splits with positive gain, best gain: -inf\n",
      "[LightGBM] [Warning] No further splits with positive gain, best gain: -inf\n",
      "[LightGBM] [Warning] No further splits with positive gain, best gain: -inf\n",
      "[LightGBM] [Warning] No further splits with positive gain, best gain: -inf\n",
      "[LightGBM] [Warning] No further splits with positive gain, best gain: -inf\n",
      "[LightGBM] [Warning] No further splits with positive gain, best gain: -inf\n",
      "[LightGBM] [Warning] No further splits with positive gain, best gain: -inf\n",
      "[LightGBM] [Warning] No further splits with positive gain, best gain: -inf\n",
      "[LightGBM] [Warning] No further splits with positive gain, best gain: -inf\n",
      "[LightGBM] [Warning] No further splits with positive gain, best gain: -inf\n",
      "[LightGBM] [Warning] No further splits with positive gain, best gain: -inf\n",
      "[LightGBM] [Warning] No further splits with positive gain, best gain: -inf\n",
      "[LightGBM] [Warning] No further splits with positive gain, best gain: -inf\n"
     ]
    },
    {
     "name": "stderr",
     "output_type": "stream",
     "text": [
      "C:\\Users\\ladad\\anaconda3\\lib\\site-packages\\lightgbm\\engine.py:148: UserWarning: Found `num_iterations` in params. Will use it instead of argument\n",
      "  _log_warning(\"Found `{}` in params. Will use it instead of argument\".format(alias))\n"
     ]
    },
    {
     "name": "stdout",
     "output_type": "stream",
     "text": [
      "[LightGBM] [Warning] Accuracy may be bad since you didn't explicitly set num_leaves OR 2^max_depth > num_leaves. (num_leaves=31).\n",
      "[LightGBM] [Warning] Accuracy may be bad since you didn't explicitly set num_leaves OR 2^max_depth > num_leaves. (num_leaves=31).\n",
      "[LightGBM] [Warning] Auto-choosing row-wise multi-threading, the overhead of testing was 0.005587 seconds.\n",
      "You can set `force_row_wise=true` to remove the overhead.\n",
      "And if memory is not enough, you can set `force_col_wise=true`.\n"
     ]
    },
    {
     "name": "stderr",
     "output_type": "stream",
     "text": [
      "C:\\Users\\ladad\\anaconda3\\lib\\site-packages\\lightgbm\\engine.py:148: UserWarning: Found `num_iterations` in params. Will use it instead of argument\n",
      "  _log_warning(\"Found `{}` in params. Will use it instead of argument\".format(alias))\n"
     ]
    },
    {
     "name": "stdout",
     "output_type": "stream",
     "text": [
      "[LightGBM] [Warning] Accuracy may be bad since you didn't explicitly set num_leaves OR 2^max_depth > num_leaves. (num_leaves=31).\n",
      "[LightGBM] [Warning] Accuracy may be bad since you didn't explicitly set num_leaves OR 2^max_depth > num_leaves. (num_leaves=31).\n",
      "[LightGBM] [Warning] Auto-choosing row-wise multi-threading, the overhead of testing was 0.005520 seconds.\n",
      "You can set `force_row_wise=true` to remove the overhead.\n",
      "And if memory is not enough, you can set `force_col_wise=true`.\n",
      "[LightGBM] [Warning] No further splits with positive gain, best gain: -inf\n",
      "[LightGBM] [Warning] No further splits with positive gain, best gain: -inf\n"
     ]
    },
    {
     "name": "stderr",
     "output_type": "stream",
     "text": [
      "C:\\Users\\ladad\\anaconda3\\lib\\site-packages\\lightgbm\\engine.py:148: UserWarning: Found `num_iterations` in params. Will use it instead of argument\n",
      "  _log_warning(\"Found `{}` in params. Will use it instead of argument\".format(alias))\n"
     ]
    },
    {
     "name": "stdout",
     "output_type": "stream",
     "text": [
      "[LightGBM] [Warning] Accuracy may be bad since you didn't explicitly set num_leaves OR 2^max_depth > num_leaves. (num_leaves=31).\n",
      "[LightGBM] [Warning] Accuracy may be bad since you didn't explicitly set num_leaves OR 2^max_depth > num_leaves. (num_leaves=31).\n",
      "[LightGBM] [Warning] Auto-choosing row-wise multi-threading, the overhead of testing was 0.005288 seconds.\n",
      "You can set `force_row_wise=true` to remove the overhead.\n",
      "And if memory is not enough, you can set `force_col_wise=true`.\n"
     ]
    },
    {
     "name": "stderr",
     "output_type": "stream",
     "text": [
      "C:\\Users\\ladad\\anaconda3\\lib\\site-packages\\lightgbm\\engine.py:148: UserWarning: Found `num_iterations` in params. Will use it instead of argument\n",
      "  _log_warning(\"Found `{}` in params. Will use it instead of argument\".format(alias))\n"
     ]
    },
    {
     "name": "stdout",
     "output_type": "stream",
     "text": [
      "[LightGBM] [Warning] Accuracy may be bad since you didn't explicitly set num_leaves OR 2^max_depth > num_leaves. (num_leaves=31).\n",
      "[LightGBM] [Warning] Accuracy may be bad since you didn't explicitly set num_leaves OR 2^max_depth > num_leaves. (num_leaves=31).\n",
      "[LightGBM] [Warning] Auto-choosing row-wise multi-threading, the overhead of testing was 0.004914 seconds.\n",
      "You can set `force_row_wise=true` to remove the overhead.\n",
      "And if memory is not enough, you can set `force_col_wise=true`.\n",
      "[LightGBM] [Warning] No further splits with positive gain, best gain: -inf\n",
      "[LightGBM] [Warning] No further splits with positive gain, best gain: -inf\n",
      "[LightGBM] [Warning] Accuracy may be bad since you didn't explicitly set num_leaves OR 2^max_depth > num_leaves. (num_leaves=31).\n"
     ]
    },
    {
     "name": "stderr",
     "output_type": "stream",
     "text": [
      "C:\\Users\\ladad\\anaconda3\\lib\\site-packages\\lightgbm\\engine.py:148: UserWarning: Found `num_iterations` in params. Will use it instead of argument\n",
      "  _log_warning(\"Found `{}` in params. Will use it instead of argument\".format(alias))\n"
     ]
    },
    {
     "name": "stdout",
     "output_type": "stream",
     "text": [
      "[LightGBM] [Warning] Accuracy may be bad since you didn't explicitly set num_leaves OR 2^max_depth > num_leaves. (num_leaves=31).\n",
      "[LightGBM] [Warning] Auto-choosing row-wise multi-threading, the overhead of testing was 0.005705 seconds.\n",
      "You can set `force_row_wise=true` to remove the overhead.\n",
      "And if memory is not enough, you can set `force_col_wise=true`.\n",
      "[LightGBM] [Warning] No further splits with positive gain, best gain: -inf\n",
      "[LightGBM] [Warning] Accuracy may be bad since you didn't explicitly set num_leaves OR 2^max_depth > num_leaves. (num_leaves=31).\n"
     ]
    },
    {
     "name": "stderr",
     "output_type": "stream",
     "text": [
      "C:\\Users\\ladad\\anaconda3\\lib\\site-packages\\lightgbm\\engine.py:148: UserWarning: Found `num_iterations` in params. Will use it instead of argument\n",
      "  _log_warning(\"Found `{}` in params. Will use it instead of argument\".format(alias))\n"
     ]
    },
    {
     "name": "stdout",
     "output_type": "stream",
     "text": [
      "[LightGBM] [Warning] Accuracy may be bad since you didn't explicitly set num_leaves OR 2^max_depth > num_leaves. (num_leaves=31).\n",
      "[LightGBM] [Warning] Auto-choosing row-wise multi-threading, the overhead of testing was 0.006696 seconds.\n",
      "You can set `force_row_wise=true` to remove the overhead.\n",
      "And if memory is not enough, you can set `force_col_wise=true`.\n",
      "[LightGBM] [Warning] No further splits with positive gain, best gain: -inf\n",
      "[LightGBM] [Warning] No further splits with positive gain, best gain: -inf\n",
      "[LightGBM] [Warning] No further splits with positive gain, best gain: -inf\n",
      "[LightGBM] [Warning] No further splits with positive gain, best gain: -inf\n",
      "[LightGBM] [Warning] No further splits with positive gain, best gain: -inf\n"
     ]
    },
    {
     "name": "stderr",
     "output_type": "stream",
     "text": [
      "C:\\Users\\ladad\\anaconda3\\lib\\site-packages\\lightgbm\\engine.py:148: UserWarning: Found `num_iterations` in params. Will use it instead of argument\n",
      "  _log_warning(\"Found `{}` in params. Will use it instead of argument\".format(alias))\n"
     ]
    },
    {
     "name": "stdout",
     "output_type": "stream",
     "text": [
      "[LightGBM] [Warning] Accuracy may be bad since you didn't explicitly set num_leaves OR 2^max_depth > num_leaves. (num_leaves=31).\n",
      "[LightGBM] [Warning] Accuracy may be bad since you didn't explicitly set num_leaves OR 2^max_depth > num_leaves. (num_leaves=31).\n",
      "[LightGBM] [Warning] Auto-choosing col-wise multi-threading, the overhead of testing was 0.007890 seconds.\n",
      "You can set `force_col_wise=true` to remove the overhead.\n",
      "[LightGBM] [Warning] No further splits with positive gain, best gain: -inf\n",
      "[LightGBM] [Warning] No further splits with positive gain, best gain: -inf\n",
      "[LightGBM] [Warning] No further splits with positive gain, best gain: -inf\n",
      "[LightGBM] [Warning] No further splits with positive gain, best gain: -inf\n",
      "[LightGBM] [Warning] No further splits with positive gain, best gain: -inf\n",
      "[LightGBM] [Warning] No further splits with positive gain, best gain: -inf\n",
      "[LightGBM] [Warning] No further splits with positive gain, best gain: -inf\n",
      "[LightGBM] [Warning] No further splits with positive gain, best gain: -inf\n",
      "[LightGBM] [Warning] No further splits with positive gain, best gain: -inf\n"
     ]
    },
    {
     "name": "stderr",
     "output_type": "stream",
     "text": [
      "C:\\Users\\ladad\\anaconda3\\lib\\site-packages\\lightgbm\\engine.py:148: UserWarning: Found `num_iterations` in params. Will use it instead of argument\n",
      "  _log_warning(\"Found `{}` in params. Will use it instead of argument\".format(alias))\n"
     ]
    },
    {
     "name": "stdout",
     "output_type": "stream",
     "text": [
      "[LightGBM] [Warning] Accuracy may be bad since you didn't explicitly set num_leaves OR 2^max_depth > num_leaves. (num_leaves=31).\n",
      "[LightGBM] [Warning] Accuracy may be bad since you didn't explicitly set num_leaves OR 2^max_depth > num_leaves. (num_leaves=31).\n",
      "[LightGBM] [Warning] Auto-choosing row-wise multi-threading, the overhead of testing was 0.008200 seconds.\n",
      "You can set `force_row_wise=true` to remove the overhead.\n",
      "And if memory is not enough, you can set `force_col_wise=true`.\n",
      "[LightGBM] [Warning] No further splits with positive gain, best gain: -inf\n",
      "[LightGBM] [Warning] No further splits with positive gain, best gain: -inf\n"
     ]
    },
    {
     "name": "stderr",
     "output_type": "stream",
     "text": [
      "C:\\Users\\ladad\\anaconda3\\lib\\site-packages\\lightgbm\\engine.py:148: UserWarning: Found `num_iterations` in params. Will use it instead of argument\n",
      "  _log_warning(\"Found `{}` in params. Will use it instead of argument\".format(alias))\n"
     ]
    },
    {
     "name": "stdout",
     "output_type": "stream",
     "text": [
      "[LightGBM] [Warning] Accuracy may be bad since you didn't explicitly set num_leaves OR 2^max_depth > num_leaves. (num_leaves=31).\n",
      "[LightGBM] [Warning] Accuracy may be bad since you didn't explicitly set num_leaves OR 2^max_depth > num_leaves. (num_leaves=31).\n",
      "[LightGBM] [Warning] Auto-choosing col-wise multi-threading, the overhead of testing was 0.014088 seconds.\n",
      "You can set `force_col_wise=true` to remove the overhead.\n",
      "[LightGBM] [Warning] No further splits with positive gain, best gain: -inf\n",
      "[LightGBM] [Warning] No further splits with positive gain, best gain: -inf\n",
      "[LightGBM] [Warning] No further splits with positive gain, best gain: -inf\n",
      "[LightGBM] [Warning] No further splits with positive gain, best gain: -inf\n",
      "[LightGBM] [Warning] No further splits with positive gain, best gain: -inf\n",
      "[LightGBM] [Warning] No further splits with positive gain, best gain: -inf\n"
     ]
    },
    {
     "name": "stderr",
     "output_type": "stream",
     "text": [
      "C:\\Users\\ladad\\anaconda3\\lib\\site-packages\\lightgbm\\engine.py:148: UserWarning: Found `num_iterations` in params. Will use it instead of argument\n",
      "  _log_warning(\"Found `{}` in params. Will use it instead of argument\".format(alias))\n"
     ]
    },
    {
     "name": "stdout",
     "output_type": "stream",
     "text": [
      "[LightGBM] [Warning] Accuracy may be bad since you didn't explicitly set num_leaves OR 2^max_depth > num_leaves. (num_leaves=31).\n",
      "[LightGBM] [Warning] Accuracy may be bad since you didn't explicitly set num_leaves OR 2^max_depth > num_leaves. (num_leaves=31).\n",
      "[LightGBM] [Warning] Auto-choosing row-wise multi-threading, the overhead of testing was 0.007306 seconds.\n",
      "You can set `force_row_wise=true` to remove the overhead.\n",
      "And if memory is not enough, you can set `force_col_wise=true`.\n",
      "[LightGBM] [Warning] No further splits with positive gain, best gain: -inf\n",
      "[LightGBM] [Warning] No further splits with positive gain, best gain: -inf\n",
      "[LightGBM] [Warning] No further splits with positive gain, best gain: -inf\n",
      "[LightGBM] [Warning] No further splits with positive gain, best gain: -inf\n",
      "[LightGBM] [Warning] No further splits with positive gain, best gain: -inf\n",
      "[LightGBM] [Warning] No further splits with positive gain, best gain: -inf\n",
      "[LightGBM] [Warning] No further splits with positive gain, best gain: -inf\n",
      "[LightGBM] [Warning] No further splits with positive gain, best gain: -inf\n",
      "[LightGBM] [Warning] No further splits with positive gain, best gain: -inf\n",
      "[LightGBM] [Warning] No further splits with positive gain, best gain: -inf\n",
      "[LightGBM] [Warning] No further splits with positive gain, best gain: -inf\n"
     ]
    },
    {
     "name": "stderr",
     "output_type": "stream",
     "text": [
      "C:\\Users\\ladad\\anaconda3\\lib\\site-packages\\lightgbm\\engine.py:148: UserWarning: Found `num_iterations` in params. Will use it instead of argument\n",
      "  _log_warning(\"Found `{}` in params. Will use it instead of argument\".format(alias))\n"
     ]
    },
    {
     "name": "stdout",
     "output_type": "stream",
     "text": [
      "[LightGBM] [Warning] Accuracy may be bad since you didn't explicitly set num_leaves OR 2^max_depth > num_leaves. (num_leaves=31).\n",
      "[LightGBM] [Warning] Accuracy may be bad since you didn't explicitly set num_leaves OR 2^max_depth > num_leaves. (num_leaves=31).\n",
      "[LightGBM] [Warning] Auto-choosing row-wise multi-threading, the overhead of testing was 0.005995 seconds.\n",
      "You can set `force_row_wise=true` to remove the overhead.\n",
      "And if memory is not enough, you can set `force_col_wise=true`.\n",
      "[LightGBM] [Warning] No further splits with positive gain, best gain: -inf\n",
      "[LightGBM] [Warning] No further splits with positive gain, best gain: -inf\n",
      "[LightGBM] [Warning] No further splits with positive gain, best gain: -inf\n",
      "[LightGBM] [Warning] No further splits with positive gain, best gain: -inf\n",
      "[LightGBM] [Warning] No further splits with positive gain, best gain: -inf\n",
      "[LightGBM] [Warning] No further splits with positive gain, best gain: -inf\n",
      "[LightGBM] [Warning] No further splits with positive gain, best gain: -inf\n",
      "[LightGBM] [Warning] No further splits with positive gain, best gain: -inf\n",
      "[LightGBM] [Warning] No further splits with positive gain, best gain: -inf\n",
      "[LightGBM] [Warning] No further splits with positive gain, best gain: -inf\n"
     ]
    },
    {
     "name": "stderr",
     "output_type": "stream",
     "text": [
      "C:\\Users\\ladad\\anaconda3\\lib\\site-packages\\lightgbm\\engine.py:148: UserWarning: Found `num_iterations` in params. Will use it instead of argument\n",
      "  _log_warning(\"Found `{}` in params. Will use it instead of argument\".format(alias))\n"
     ]
    },
    {
     "name": "stdout",
     "output_type": "stream",
     "text": [
      "[LightGBM] [Warning] Accuracy may be bad since you didn't explicitly set num_leaves OR 2^max_depth > num_leaves. (num_leaves=31).\n",
      "[LightGBM] [Warning] Accuracy may be bad since you didn't explicitly set num_leaves OR 2^max_depth > num_leaves. (num_leaves=31).\n",
      "[LightGBM] [Warning] Auto-choosing col-wise multi-threading, the overhead of testing was 0.015970 seconds.\n",
      "You can set `force_col_wise=true` to remove the overhead.\n",
      "[LightGBM] [Warning] No further splits with positive gain, best gain: -inf\n",
      "[LightGBM] [Warning] No further splits with positive gain, best gain: -inf\n",
      "[LightGBM] [Warning] No further splits with positive gain, best gain: -inf\n",
      "[LightGBM] [Warning] No further splits with positive gain, best gain: -inf\n",
      "[LightGBM] [Warning] No further splits with positive gain, best gain: -inf\n",
      "[LightGBM] [Warning] No further splits with positive gain, best gain: -inf\n",
      "[LightGBM] [Warning] No further splits with positive gain, best gain: -inf\n",
      "[LightGBM] [Warning] No further splits with positive gain, best gain: -inf\n",
      "[LightGBM] [Warning] No further splits with positive gain, best gain: -inf\n",
      "[LightGBM] [Warning] No further splits with positive gain, best gain: -inf\n"
     ]
    },
    {
     "name": "stderr",
     "output_type": "stream",
     "text": [
      "C:\\Users\\ladad\\anaconda3\\lib\\site-packages\\lightgbm\\engine.py:148: UserWarning: Found `num_iterations` in params. Will use it instead of argument\n",
      "  _log_warning(\"Found `{}` in params. Will use it instead of argument\".format(alias))\n"
     ]
    },
    {
     "name": "stdout",
     "output_type": "stream",
     "text": [
      "[LightGBM] [Warning] Accuracy may be bad since you didn't explicitly set num_leaves OR 2^max_depth > num_leaves. (num_leaves=31).\n",
      "[LightGBM] [Warning] Accuracy may be bad since you didn't explicitly set num_leaves OR 2^max_depth > num_leaves. (num_leaves=31).\n",
      "[LightGBM] [Warning] Auto-choosing row-wise multi-threading, the overhead of testing was 0.007854 seconds.\n",
      "You can set `force_row_wise=true` to remove the overhead.\n",
      "And if memory is not enough, you can set `force_col_wise=true`.\n",
      "[LightGBM] [Warning] No further splits with positive gain, best gain: -inf\n",
      "[LightGBM] [Warning] No further splits with positive gain, best gain: -inf\n",
      "[LightGBM] [Warning] No further splits with positive gain, best gain: -inf\n",
      "[LightGBM] [Warning] No further splits with positive gain, best gain: -inf\n",
      "[LightGBM] [Warning] No further splits with positive gain, best gain: -inf\n",
      "[LightGBM] [Warning] No further splits with positive gain, best gain: -inf\n",
      "[LightGBM] [Warning] No further splits with positive gain, best gain: -inf\n",
      "[LightGBM] [Warning] No further splits with positive gain, best gain: -inf\n"
     ]
    },
    {
     "name": "stderr",
     "output_type": "stream",
     "text": [
      "C:\\Users\\ladad\\anaconda3\\lib\\site-packages\\lightgbm\\engine.py:148: UserWarning: Found `num_iterations` in params. Will use it instead of argument\n",
      "  _log_warning(\"Found `{}` in params. Will use it instead of argument\".format(alias))\n"
     ]
    },
    {
     "name": "stdout",
     "output_type": "stream",
     "text": [
      "[LightGBM] [Warning] Accuracy may be bad since you didn't explicitly set num_leaves OR 2^max_depth > num_leaves. (num_leaves=31).\n",
      "[LightGBM] [Warning] Accuracy may be bad since you didn't explicitly set num_leaves OR 2^max_depth > num_leaves. (num_leaves=31).\n",
      "[LightGBM] [Warning] Auto-choosing row-wise multi-threading, the overhead of testing was 0.006070 seconds.\n",
      "You can set `force_row_wise=true` to remove the overhead.\n",
      "And if memory is not enough, you can set `force_col_wise=true`.\n",
      "[LightGBM] [Warning] No further splits with positive gain, best gain: -inf\n",
      "[LightGBM] [Warning] No further splits with positive gain, best gain: -inf\n",
      "[LightGBM] [Warning] No further splits with positive gain, best gain: -inf\n",
      "[LightGBM] [Warning] No further splits with positive gain, best gain: -inf\n",
      "[LightGBM] [Warning] No further splits with positive gain, best gain: -inf\n",
      "[LightGBM] [Warning] No further splits with positive gain, best gain: -inf\n"
     ]
    },
    {
     "name": "stderr",
     "output_type": "stream",
     "text": [
      "C:\\Users\\ladad\\anaconda3\\lib\\site-packages\\lightgbm\\engine.py:148: UserWarning: Found `num_iterations` in params. Will use it instead of argument\n",
      "  _log_warning(\"Found `{}` in params. Will use it instead of argument\".format(alias))\n"
     ]
    },
    {
     "name": "stdout",
     "output_type": "stream",
     "text": [
      "[LightGBM] [Warning] Accuracy may be bad since you didn't explicitly set num_leaves OR 2^max_depth > num_leaves. (num_leaves=31).\n",
      "[LightGBM] [Warning] Accuracy may be bad since you didn't explicitly set num_leaves OR 2^max_depth > num_leaves. (num_leaves=31).\n",
      "[LightGBM] [Warning] Auto-choosing row-wise multi-threading, the overhead of testing was 0.006632 seconds.\n",
      "You can set `force_row_wise=true` to remove the overhead.\n",
      "And if memory is not enough, you can set `force_col_wise=true`.\n",
      "[LightGBM] [Warning] No further splits with positive gain, best gain: -inf\n",
      "[LightGBM] [Warning] No further splits with positive gain, best gain: -inf\n",
      "[LightGBM] [Warning] No further splits with positive gain, best gain: -inf\n",
      "[LightGBM] [Warning] No further splits with positive gain, best gain: -inf\n",
      "[LightGBM] [Warning] No further splits with positive gain, best gain: -inf\n",
      "[LightGBM] [Warning] No further splits with positive gain, best gain: -inf\n",
      "[LightGBM] [Warning] No further splits with positive gain, best gain: -inf\n",
      "[LightGBM] [Warning] No further splits with positive gain, best gain: -inf\n",
      "[LightGBM] [Warning] No further splits with positive gain, best gain: -inf\n",
      "[LightGBM] [Warning] No further splits with positive gain, best gain: -inf\n",
      "[LightGBM] [Warning] No further splits with positive gain, best gain: -inf\n",
      "[LightGBM] [Warning] No further splits with positive gain, best gain: -inf\n",
      "[LightGBM] [Warning] No further splits with positive gain, best gain: -inf\n",
      "[LightGBM] [Warning] No further splits with positive gain, best gain: -inf\n",
      "[LightGBM] [Warning] No further splits with positive gain, best gain: -inf\n",
      "[LightGBM] [Warning] No further splits with positive gain, best gain: -inf\n",
      "[LightGBM] [Warning] No further splits with positive gain, best gain: -inf\n"
     ]
    },
    {
     "name": "stderr",
     "output_type": "stream",
     "text": [
      "C:\\Users\\ladad\\anaconda3\\lib\\site-packages\\lightgbm\\engine.py:148: UserWarning: Found `num_iterations` in params. Will use it instead of argument\n",
      "  _log_warning(\"Found `{}` in params. Will use it instead of argument\".format(alias))\n"
     ]
    },
    {
     "name": "stdout",
     "output_type": "stream",
     "text": [
      "[LightGBM] [Warning] Accuracy may be bad since you didn't explicitly set num_leaves OR 2^max_depth > num_leaves. (num_leaves=31).\n",
      "[LightGBM] [Warning] Accuracy may be bad since you didn't explicitly set num_leaves OR 2^max_depth > num_leaves. (num_leaves=31).\n",
      "[LightGBM] [Warning] Auto-choosing col-wise multi-threading, the overhead of testing was 0.016746 seconds.\n",
      "You can set `force_col_wise=true` to remove the overhead.\n",
      "[LightGBM] [Warning] No further splits with positive gain, best gain: -inf\n",
      "[LightGBM] [Warning] No further splits with positive gain, best gain: -inf\n",
      "[LightGBM] [Warning] No further splits with positive gain, best gain: -inf\n",
      "[LightGBM] [Warning] No further splits with positive gain, best gain: -inf\n",
      "[LightGBM] [Warning] No further splits with positive gain, best gain: -inf\n",
      "[LightGBM] [Warning] No further splits with positive gain, best gain: -inf\n",
      "[LightGBM] [Warning] No further splits with positive gain, best gain: -inf\n",
      "[LightGBM] [Warning] No further splits with positive gain, best gain: -inf\n",
      "[LightGBM] [Warning] No further splits with positive gain, best gain: -inf\n",
      "Wall time: 1min 45s\n"
     ]
    },
    {
     "data": {
      "text/plain": [
       "GridSearchCV(cv=5,\n",
       "             estimator=LGBMRegressor(random_state=RandomState(MT19937) at 0x2154BB39440,\n",
       "                                     verbose=0),\n",
       "             param_grid={'learning_rate': [0.05, 0.1, 0.15],\n",
       "                         'max_depth': [2, 4, 6],\n",
       "                         'num_iterations': [50, 100, 150]},\n",
       "             scoring='neg_root_mean_squared_error')"
      ]
     },
     "execution_count": 130,
     "metadata": {},
     "output_type": "execute_result"
    }
   ],
   "source": [
    "%%time\n",
    "\n",
    "gsearch_gbm.fit(features_train_gbm, target_train)"
   ]
  },
  {
   "cell_type": "markdown",
   "metadata": {},
   "source": [
    "Время поиска наилучшей модели - 1 мин 45 с."
   ]
  },
  {
   "cell_type": "markdown",
   "metadata": {},
   "source": [
    "Выведем характеристики обучения найденной модели."
   ]
  },
  {
   "cell_type": "code",
   "execution_count": 131,
   "metadata": {
    "scrolled": true
   },
   "outputs": [
    {
     "data": {
      "text/html": [
       "<div>\n",
       "<style scoped>\n",
       "    .dataframe tbody tr th:only-of-type {\n",
       "        vertical-align: middle;\n",
       "    }\n",
       "\n",
       "    .dataframe tbody tr th {\n",
       "        vertical-align: top;\n",
       "    }\n",
       "\n",
       "    .dataframe thead th {\n",
       "        text-align: right;\n",
       "    }\n",
       "</style>\n",
       "<table border=\"1\" class=\"dataframe\">\n",
       "  <thead>\n",
       "    <tr style=\"text-align: right;\">\n",
       "      <th></th>\n",
       "      <th>mean_fit_time</th>\n",
       "      <th>std_fit_time</th>\n",
       "      <th>mean_score_time</th>\n",
       "      <th>std_score_time</th>\n",
       "      <th>param_learning_rate</th>\n",
       "      <th>param_max_depth</th>\n",
       "      <th>param_num_iterations</th>\n",
       "      <th>params</th>\n",
       "      <th>split0_test_score</th>\n",
       "      <th>split1_test_score</th>\n",
       "      <th>split2_test_score</th>\n",
       "      <th>split3_test_score</th>\n",
       "      <th>split4_test_score</th>\n",
       "      <th>mean_test_score</th>\n",
       "      <th>std_test_score</th>\n",
       "      <th>rank_test_score</th>\n",
       "    </tr>\n",
       "  </thead>\n",
       "  <tbody>\n",
       "    <tr>\n",
       "      <th>26</th>\n",
       "      <td>1.128786</td>\n",
       "      <td>0.089364</td>\n",
       "      <td>0.185043</td>\n",
       "      <td>0.028895</td>\n",
       "      <td>0.15</td>\n",
       "      <td>6</td>\n",
       "      <td>150</td>\n",
       "      <td>{'learning_rate': 0.15, 'max_depth': 6, 'num_i...</td>\n",
       "      <td>-1584.002128</td>\n",
       "      <td>-1586.901578</td>\n",
       "      <td>-1587.112316</td>\n",
       "      <td>-1586.915014</td>\n",
       "      <td>-1587.923469</td>\n",
       "      <td>-1586.570901</td>\n",
       "      <td>1.337828</td>\n",
       "      <td>1</td>\n",
       "    </tr>\n",
       "  </tbody>\n",
       "</table>\n",
       "</div>"
      ],
      "text/plain": [
       "    mean_fit_time  std_fit_time  mean_score_time  std_score_time  \\\n",
       "26       1.128786      0.089364         0.185043        0.028895   \n",
       "\n",
       "   param_learning_rate param_max_depth param_num_iterations  \\\n",
       "26                0.15               6                  150   \n",
       "\n",
       "                                               params  split0_test_score  \\\n",
       "26  {'learning_rate': 0.15, 'max_depth': 6, 'num_i...       -1584.002128   \n",
       "\n",
       "    split1_test_score  split2_test_score  split3_test_score  \\\n",
       "26       -1586.901578       -1587.112316       -1586.915014   \n",
       "\n",
       "    split4_test_score  mean_test_score  std_test_score  rank_test_score  \n",
       "26       -1587.923469     -1586.570901        1.337828                1  "
      ]
     },
     "execution_count": 131,
     "metadata": {},
     "output_type": "execute_result"
    }
   ],
   "source": [
    "gsearch_gbm_results = pd.DataFrame(gsearch_gbm.cv_results_)\n",
    "\n",
    "gsearch_gbm_results.tail(1)"
   ]
  },
  {
   "cell_type": "markdown",
   "metadata": {},
   "source": [
    "Обучим наилучшую модель и найдем время обучения."
   ]
  },
  {
   "cell_type": "code",
   "execution_count": 132,
   "metadata": {},
   "outputs": [],
   "source": [
    "model_gbm = lgb.LGBMRegressor(random_state = state,\n",
    "                              verbose = 0,\n",
    "                              max_depth = 6,\n",
    "                              num_iterations = 150,\n",
    "                              learning_rate = 0.15)"
   ]
  },
  {
   "cell_type": "code",
   "execution_count": 133,
   "metadata": {
    "collapsed": true
   },
   "outputs": [
    {
     "name": "stdout",
     "output_type": "stream",
     "text": [
      "[LightGBM] [Warning] Accuracy may be bad since you didn't explicitly set num_leaves OR 2^max_depth > num_leaves. (num_leaves=31).\n"
     ]
    },
    {
     "name": "stderr",
     "output_type": "stream",
     "text": [
      "C:\\Users\\ladad\\anaconda3\\lib\\site-packages\\lightgbm\\engine.py:148: UserWarning: Found `num_iterations` in params. Will use it instead of argument\n",
      "  _log_warning(\"Found `{}` in params. Will use it instead of argument\".format(alias))\n"
     ]
    },
    {
     "name": "stdout",
     "output_type": "stream",
     "text": [
      "[LightGBM] [Warning] Accuracy may be bad since you didn't explicitly set num_leaves OR 2^max_depth > num_leaves. (num_leaves=31).\n",
      "[LightGBM] [Warning] Auto-choosing col-wise multi-threading, the overhead of testing was 0.011602 seconds.\n",
      "You can set `force_col_wise=true` to remove the overhead.\n",
      "[LightGBM] [Warning] No further splits with positive gain, best gain: -inf\n",
      "[LightGBM] [Warning] No further splits with positive gain, best gain: -inf\n",
      "[LightGBM] [Warning] No further splits with positive gain, best gain: -inf\n",
      "[LightGBM] [Warning] No further splits with positive gain, best gain: -inf\n",
      "[LightGBM] [Warning] No further splits with positive gain, best gain: -inf\n",
      "[LightGBM] [Warning] No further splits with positive gain, best gain: -inf\n",
      "[LightGBM] [Warning] No further splits with positive gain, best gain: -inf\n",
      "[LightGBM] [Warning] No further splits with positive gain, best gain: -inf\n",
      "[LightGBM] [Warning] No further splits with positive gain, best gain: -inf\n",
      "Wall time: 1.27 s\n"
     ]
    },
    {
     "data": {
      "text/plain": [
       "LGBMRegressor(learning_rate=0.15, max_depth=6, num_iterations=150,\n",
       "              random_state=RandomState(MT19937) at 0x2154BB39440, verbose=0)"
      ]
     },
     "execution_count": 133,
     "metadata": {},
     "output_type": "execute_result"
    }
   ],
   "source": [
    "%%time\n",
    "\n",
    "model_gbm.fit(features_train_gbm, target_train)"
   ]
  },
  {
   "cell_type": "markdown",
   "metadata": {},
   "source": [
    "Время обучения - 1,27 с."
   ]
  },
  {
   "cell_type": "markdown",
   "metadata": {},
   "source": [
    "Найдем время предсказания."
   ]
  },
  {
   "cell_type": "code",
   "execution_count": 134,
   "metadata": {
    "scrolled": true
   },
   "outputs": [
    {
     "name": "stdout",
     "output_type": "stream",
     "text": [
      "Wall time: 806 ms\n"
     ]
    },
    {
     "data": {
      "text/plain": [
       "array([ 2235.64256721,   842.25984699,  9115.75593375, ...,\n",
       "        3438.19031827, 15751.52753187,   920.9691565 ])"
      ]
     },
     "execution_count": 134,
     "metadata": {},
     "output_type": "execute_result"
    }
   ],
   "source": [
    "%%time\n",
    "\n",
    "model_gbm.predict(features_train_gbm)"
   ]
  },
  {
   "cell_type": "markdown",
   "metadata": {},
   "source": [
    "Время предсказания - 0,8 с."
   ]
  },
  {
   "cell_type": "markdown",
   "metadata": {},
   "source": [
    "Сохраним время обучения и предсказания, а также значение метрики RMSE наилучшей модели в датафрейм `results`."
   ]
  },
  {
   "cell_type": "code",
   "execution_count": 145,
   "metadata": {},
   "outputs": [],
   "source": [
    "results = results.append(pd.Series(data = {\n",
    "    'rmse':round(abs(gsearch_gbm.best_score_),2), \n",
    "    'mean_fit_time, s': 1.27, \n",
    "    'mean_score_time, s':0.8\n",
    "                                           }, \n",
    "                                   name='gbm'),\n",
    "                         ignore_index=False)"
   ]
  },
  {
   "cell_type": "code",
   "execution_count": 146,
   "metadata": {},
   "outputs": [
    {
     "name": "stdout",
     "output_type": "stream",
     "text": [
      "RMSE: 1586.57\n",
      "Время обучения: 1.27 с\n",
      "Время предсказания: 0.80 с\n",
      "Параметры:\n",
      "\tlearning_rate: 0.15\n",
      "\tmax_depth: 6\n",
      "\tnum_iterations: 150\n"
     ]
    }
   ],
   "source": [
    "print('RMSE: %0.2f' % abs(gsearch_gbm.best_score_))\n",
    "print('Время обучения: %0.2f с' % 1.27)\n",
    "print('Время предсказания: %0.2f с' % 0.8)\n",
    "print('Параметры:')\n",
    "\n",
    "best_parameters = gsearch_gbm.best_estimator_.get_params()\n",
    "\n",
    "for param_name in sorted(params_gbm.keys()):\n",
    "    print('\\t%s: %r' % (param_name, best_parameters[param_name]))"
   ]
  },
  {
   "cell_type": "markdown",
   "metadata": {},
   "source": [
    "## Анализ моделей"
   ]
  },
  {
   "cell_type": "markdown",
   "metadata": {},
   "source": [
    "### Выбор наилучшей модели"
   ]
  },
  {
   "cell_type": "markdown",
   "metadata": {},
   "source": [
    "Выведем характеристики обучения всех полученных моделей."
   ]
  },
  {
   "cell_type": "code",
   "execution_count": 147,
   "metadata": {},
   "outputs": [
    {
     "data": {
      "text/html": [
       "<div>\n",
       "<style scoped>\n",
       "    .dataframe tbody tr th:only-of-type {\n",
       "        vertical-align: middle;\n",
       "    }\n",
       "\n",
       "    .dataframe tbody tr th {\n",
       "        vertical-align: top;\n",
       "    }\n",
       "\n",
       "    .dataframe thead th {\n",
       "        text-align: right;\n",
       "    }\n",
       "</style>\n",
       "<table border=\"1\" class=\"dataframe\">\n",
       "  <thead>\n",
       "    <tr style=\"text-align: right;\">\n",
       "      <th></th>\n",
       "      <th>rmse</th>\n",
       "      <th>mean_fit_time, s</th>\n",
       "      <th>mean_score_time, s</th>\n",
       "    </tr>\n",
       "  </thead>\n",
       "  <tbody>\n",
       "    <tr>\n",
       "      <th>rf</th>\n",
       "      <td>2247.04</td>\n",
       "      <td>40</td>\n",
       "      <td>1.6</td>\n",
       "    </tr>\n",
       "    <tr>\n",
       "      <th>cb</th>\n",
       "      <td>1690.38</td>\n",
       "      <td>8.5</td>\n",
       "      <td>0.6</td>\n",
       "    </tr>\n",
       "    <tr>\n",
       "      <th>gbm</th>\n",
       "      <td>1586.57</td>\n",
       "      <td>1.27</td>\n",
       "      <td>0.8</td>\n",
       "    </tr>\n",
       "  </tbody>\n",
       "</table>\n",
       "</div>"
      ],
      "text/plain": [
       "        rmse mean_fit_time, s mean_score_time, s\n",
       "rf   2247.04               40                1.6\n",
       "cb   1690.38              8.5                0.6\n",
       "gbm  1586.57             1.27                0.8"
      ]
     },
     "execution_count": 147,
     "metadata": {},
     "output_type": "execute_result"
    }
   ],
   "source": [
    "results"
   ]
  },
  {
   "cell_type": "markdown",
   "metadata": {},
   "source": [
    "Все модели имеют качество, удовлетворяющее условию RMSE < 2 500.\n",
    "\n",
    "Наилучшее качество было получено на модели LightGBM с метрикой RMSE = 1 585. Также у этой модели наименьшее время обучения - 1,27 с, однако наибольшее время предсказания - 0,8 с.\n",
    "\n",
    "Модель CatBoost имеет значение RMSE незначительно меньше, чем LightGBM, - 1 691, время обучения в несколько раз больше - 8,5 с, а время предсказания здесь наименьшее среди рассмотренных моделей - 0,6 с.\n",
    "\n",
    "Модель случайного леса дает наибольшее значение метрики RMSE, равное 2 247, и наибольшее время обучения - 40 с. Время предсказания составило 1,6 с.\n",
    "\n",
    "Основное обучение проходит на архивных данных. Скорее всего, при использовании модели в приложении необходимо будет осуществлять большое количество предсказаний для пользователей в единицу времени, поэтому целесообразнее будет выбрать модель CatBoost. Время обучения этой модели в несколько раз больше, а время предсказания немного меньше, чем у модели LightGBM. Гиперпарараметры модели CatBoost:\n",
    "- количество деревьев `iterations = 150`\n",
    "- скорость обучения `learning_rate = 0.15`\n",
    "- глубина дерева `max_depth = 6`"
   ]
  },
  {
   "cell_type": "markdown",
   "metadata": {},
   "source": [
    "### Проверка модели на тестовой выборке"
   ]
  },
  {
   "cell_type": "markdown",
   "metadata": {},
   "source": [
    "Обучим модель CatBoost с наилучшими гиперпараметрами."
   ]
  },
  {
   "cell_type": "code",
   "execution_count": 138,
   "metadata": {},
   "outputs": [
    {
     "name": "stdout",
     "output_type": "stream",
     "text": [
      "Wall time: 8.38 s\n"
     ]
    },
    {
     "data": {
      "text/plain": [
       "<catboost.core.CatBoostRegressor at 0x21545403df0>"
      ]
     },
     "execution_count": 138,
     "metadata": {},
     "output_type": "execute_result"
    }
   ],
   "source": [
    "%%time\n",
    "\n",
    "model_cb = cb.CatBoostRegressor(max_depth = 6,\n",
    "                                iterations = 150,\n",
    "                                learning_rate = 0.15,\n",
    "                                loss_function='RMSE',\n",
    "                                verbose = 0,\n",
    "                                cat_features = categorial_features)\n",
    "\n",
    "model_cb.fit(features_train, target_train)"
   ]
  },
  {
   "cell_type": "markdown",
   "metadata": {},
   "source": [
    "Время обучения составило 8,4 с. Сформируем предсказания."
   ]
  },
  {
   "cell_type": "code",
   "execution_count": 139,
   "metadata": {},
   "outputs": [
    {
     "name": "stdout",
     "output_type": "stream",
     "text": [
      "Wall time: 177 ms\n"
     ]
    }
   ],
   "source": [
    "%%time\n",
    "\n",
    "predictions_cb = model_cb.predict(features_test)"
   ]
  },
  {
   "cell_type": "markdown",
   "metadata": {},
   "source": [
    "Время предсказания составило 0,18 с. Найдем значение метрики RMSE."
   ]
  },
  {
   "cell_type": "code",
   "execution_count": 140,
   "metadata": {},
   "outputs": [
    {
     "name": "stdout",
     "output_type": "stream",
     "text": [
      "RMSE: 1703.02\n"
     ]
    }
   ],
   "source": [
    "print('RMSE: %0.2f' % (mean_squared_error(target_test, predictions_cb))**0.5)"
   ]
  },
  {
   "cell_type": "markdown",
   "metadata": {},
   "source": [
    "Значение RMSE на тестовой выборке удовлетворяет условию RMSE < 2500."
   ]
  },
  {
   "cell_type": "markdown",
   "metadata": {},
   "source": [
    "## Выводы"
   ]
  },
  {
   "cell_type": "markdown",
   "metadata": {},
   "source": [
    "Для решения задачи регрессии были рассмотрены три модели: модель случайного леса и две модели градиентого бустинга CatBoost и LightGBM. Были найдены оптимальные гиперпараметры моделей для минимизации метрики RMSE с оценкой качества методом кросс-валидации.\n",
    "\n",
    "Все модели имеют качество, удовлетворяющее условию RMSE < 2 500.\n",
    "\n",
    "Модель случайного леса дает наибольшее значение метрики RMSE, равной 2 247, и наибольшее время обучения - 40 с. Время предсказания составило 1,6 с.\n",
    "\n",
    "Наилучшее качество было получено на модели LightGBM с метрикой RMSE = 1 585. Также у этой модели наименьшее время обучения - 1,27 с, однако наибольшее время предсказания - 0,8 с.\n",
    "\n",
    "Модель CatBoost имеет значение RMSE незначительно меньше, чем LightGBM, - 1 691, время обучения в несколько раз больше - 8,5 с, а время предсказания здесь наименьшее среди рассмотренных моделей - 0,6 с. \n",
    "\n",
    "Основное обучение проходит на архивных данных. Скорее всего, при использовании модели в приложении необходимо будет осуществлять большое количество предсказаний для пользователей в единицу времени, поэтому целесообразнее будет выборать модель CatBoost. Время обучения этой модели в 2 раза больше, в время предсказания в 8 раз меньше, чем у модели LightGBM. В качестве наилучшей была выбрана модель CatBoost со следующими гиперпараметрами:\n",
    "- количество деревьев `iterations = 150`\n",
    "- скорость обучения `learning_rate = 0.15`\n",
    "- глубина дерева `max_depth = 6`\n",
    "\n",
    "Модель была проверена на тестовой выборке, RMSE составила 1 703, время предсказания - 0,18 с."
   ]
  }
 ],
 "metadata": {
  "ExecuteTimeLog": [
   {
    "duration": 1420,
    "start_time": "2022-11-20T08:05:42.626Z"
   },
   {
    "duration": 2927,
    "start_time": "2022-11-20T08:06:19.256Z"
   },
   {
    "duration": 110,
    "start_time": "2022-11-20T08:06:39.396Z"
   },
   {
    "duration": 15,
    "start_time": "2022-11-20T08:07:00.584Z"
   },
   {
    "duration": 502,
    "start_time": "2022-11-20T08:07:30.061Z"
   },
   {
    "duration": 99,
    "start_time": "2022-11-20T08:10:55.287Z"
   },
   {
    "duration": 1561,
    "start_time": "2022-11-22T18:17:23.253Z"
   },
   {
    "duration": 1090,
    "start_time": "2022-11-22T18:17:24.816Z"
   },
   {
    "duration": 121,
    "start_time": "2022-11-22T18:17:25.908Z"
   },
   {
    "duration": 17,
    "start_time": "2022-11-22T18:17:26.031Z"
   },
   {
    "duration": 120,
    "start_time": "2022-11-22T18:17:26.049Z"
   },
   {
    "duration": 517,
    "start_time": "2022-11-22T18:17:26.171Z"
   },
   {
    "duration": 3,
    "start_time": "2022-11-22T18:17:26.853Z"
   },
   {
    "duration": 4,
    "start_time": "2022-11-22T18:17:45.252Z"
   },
   {
    "duration": 2,
    "start_time": "2022-11-22T18:17:55.013Z"
   },
   {
    "duration": 4,
    "start_time": "2022-11-22T18:17:58.913Z"
   },
   {
    "duration": 45,
    "start_time": "2022-11-22T18:23:24.202Z"
   },
   {
    "duration": 49,
    "start_time": "2022-11-22T18:23:56.884Z"
   },
   {
    "duration": 290,
    "start_time": "2022-11-22T18:24:10.422Z"
   },
   {
    "duration": 260,
    "start_time": "2022-11-22T18:26:17.662Z"
   },
   {
    "duration": 18,
    "start_time": "2022-11-22T18:28:08.622Z"
   },
   {
    "duration": 20,
    "start_time": "2022-11-22T18:29:27.023Z"
   },
   {
    "duration": 41,
    "start_time": "2022-11-22T18:31:05.742Z"
   },
   {
    "duration": 4,
    "start_time": "2022-11-22T18:46:56.607Z"
   },
   {
    "duration": 826,
    "start_time": "2022-11-22T18:46:56.613Z"
   },
   {
    "duration": 115,
    "start_time": "2022-11-22T18:46:57.441Z"
   },
   {
    "duration": 13,
    "start_time": "2022-11-22T18:46:57.558Z"
   },
   {
    "duration": 104,
    "start_time": "2022-11-22T18:46:57.573Z"
   },
   {
    "duration": 418,
    "start_time": "2022-11-22T18:46:57.678Z"
   },
   {
    "duration": 4,
    "start_time": "2022-11-22T18:46:58.098Z"
   },
   {
    "duration": 5,
    "start_time": "2022-11-22T18:46:58.112Z"
   },
   {
    "duration": 291,
    "start_time": "2022-11-22T18:46:58.120Z"
   },
   {
    "duration": 16,
    "start_time": "2022-11-22T18:46:58.413Z"
   },
   {
    "duration": 42,
    "start_time": "2022-11-22T18:46:58.431Z"
   },
   {
    "duration": 41,
    "start_time": "2022-11-22T18:46:58.475Z"
   },
   {
    "duration": 22,
    "start_time": "2022-11-22T18:47:26.440Z"
   },
   {
    "duration": 35,
    "start_time": "2022-11-22T18:47:34.036Z"
   },
   {
    "duration": 18,
    "start_time": "2022-11-22T18:49:33.258Z"
   },
   {
    "duration": 38,
    "start_time": "2022-11-22T18:53:53.796Z"
   },
   {
    "duration": 19,
    "start_time": "2022-11-22T18:55:39.515Z"
   },
   {
    "duration": 18,
    "start_time": "2022-11-22T18:55:49.014Z"
   },
   {
    "duration": 37,
    "start_time": "2022-11-22T18:56:49.567Z"
   },
   {
    "duration": 19,
    "start_time": "2022-11-22T18:57:43.377Z"
   },
   {
    "duration": 16,
    "start_time": "2022-11-22T18:57:50.857Z"
   },
   {
    "duration": 37,
    "start_time": "2022-11-22T18:58:37.845Z"
   },
   {
    "duration": 17,
    "start_time": "2022-11-22T18:59:08.438Z"
   },
   {
    "duration": 31,
    "start_time": "2022-11-22T18:59:50.308Z"
   },
   {
    "duration": 114,
    "start_time": "2022-11-22T19:00:50.568Z"
   },
   {
    "duration": 41,
    "start_time": "2022-11-22T19:00:55.276Z"
   },
   {
    "duration": 41,
    "start_time": "2022-11-22T19:01:27.128Z"
   },
   {
    "duration": 32,
    "start_time": "2022-11-22T19:08:12.805Z"
   },
   {
    "duration": 12,
    "start_time": "2022-11-22T19:08:24.990Z"
   },
   {
    "duration": 29,
    "start_time": "2022-11-22T19:08:48.416Z"
   },
   {
    "duration": 9,
    "start_time": "2022-11-22T19:09:00.570Z"
   },
   {
    "duration": 20,
    "start_time": "2022-11-22T19:13:45.590Z"
   },
   {
    "duration": 103,
    "start_time": "2022-11-22T19:15:34.141Z"
   },
   {
    "duration": 4,
    "start_time": "2022-11-22T19:17:12.583Z"
   },
   {
    "duration": 713,
    "start_time": "2022-11-22T19:17:12.590Z"
   },
   {
    "duration": 117,
    "start_time": "2022-11-22T19:17:13.305Z"
   },
   {
    "duration": 14,
    "start_time": "2022-11-22T19:17:13.424Z"
   },
   {
    "duration": 106,
    "start_time": "2022-11-22T19:17:13.440Z"
   },
   {
    "duration": 393,
    "start_time": "2022-11-22T19:17:13.548Z"
   },
   {
    "duration": 3,
    "start_time": "2022-11-22T19:17:13.943Z"
   },
   {
    "duration": 8,
    "start_time": "2022-11-22T19:17:13.947Z"
   },
   {
    "duration": 278,
    "start_time": "2022-11-22T19:17:13.956Z"
   },
   {
    "duration": 17,
    "start_time": "2022-11-22T19:17:14.236Z"
   },
   {
    "duration": 39,
    "start_time": "2022-11-22T19:17:14.255Z"
   },
   {
    "duration": 75,
    "start_time": "2022-11-22T19:17:14.295Z"
   },
   {
    "duration": 0,
    "start_time": "2022-11-22T19:17:14.372Z"
   },
   {
    "duration": 0,
    "start_time": "2022-11-22T19:17:14.373Z"
   },
   {
    "duration": 0,
    "start_time": "2022-11-22T19:17:14.375Z"
   },
   {
    "duration": 0,
    "start_time": "2022-11-22T19:17:14.376Z"
   },
   {
    "duration": 0,
    "start_time": "2022-11-22T19:17:14.377Z"
   },
   {
    "duration": 0,
    "start_time": "2022-11-22T19:17:14.379Z"
   },
   {
    "duration": 0,
    "start_time": "2022-11-22T19:17:14.380Z"
   },
   {
    "duration": 0,
    "start_time": "2022-11-22T19:17:14.381Z"
   },
   {
    "duration": 0,
    "start_time": "2022-11-22T19:17:14.382Z"
   },
   {
    "duration": 0,
    "start_time": "2022-11-22T19:17:14.383Z"
   },
   {
    "duration": 0,
    "start_time": "2022-11-22T19:17:14.384Z"
   },
   {
    "duration": 17,
    "start_time": "2022-11-22T19:17:15.392Z"
   },
   {
    "duration": 5,
    "start_time": "2022-11-22T19:17:37.888Z"
   },
   {
    "duration": 707,
    "start_time": "2022-11-22T19:17:37.894Z"
   },
   {
    "duration": 120,
    "start_time": "2022-11-22T19:17:38.602Z"
   },
   {
    "duration": 13,
    "start_time": "2022-11-22T19:17:38.724Z"
   },
   {
    "duration": 97,
    "start_time": "2022-11-22T19:17:38.738Z"
   },
   {
    "duration": 392,
    "start_time": "2022-11-22T19:17:38.837Z"
   },
   {
    "duration": 3,
    "start_time": "2022-11-22T19:17:39.231Z"
   },
   {
    "duration": 6,
    "start_time": "2022-11-22T19:17:39.236Z"
   },
   {
    "duration": 289,
    "start_time": "2022-11-22T19:17:39.243Z"
   },
   {
    "duration": 14,
    "start_time": "2022-11-22T19:17:39.535Z"
   },
   {
    "duration": 40,
    "start_time": "2022-11-22T19:17:39.551Z"
   },
   {
    "duration": 38,
    "start_time": "2022-11-22T19:17:39.592Z"
   },
   {
    "duration": 16,
    "start_time": "2022-11-22T19:17:39.632Z"
   },
   {
    "duration": 47,
    "start_time": "2022-11-22T19:17:39.650Z"
   },
   {
    "duration": 28,
    "start_time": "2022-11-22T19:17:39.699Z"
   },
   {
    "duration": 19,
    "start_time": "2022-11-22T19:17:39.729Z"
   },
   {
    "duration": 50,
    "start_time": "2022-11-22T19:17:39.750Z"
   },
   {
    "duration": 19,
    "start_time": "2022-11-22T19:17:39.812Z"
   },
   {
    "duration": 23,
    "start_time": "2022-11-22T19:17:39.833Z"
   },
   {
    "duration": 46,
    "start_time": "2022-11-22T19:17:39.857Z"
   },
   {
    "duration": 19,
    "start_time": "2022-11-22T19:17:39.911Z"
   },
   {
    "duration": 16,
    "start_time": "2022-11-22T19:17:39.931Z"
   },
   {
    "duration": 43,
    "start_time": "2022-11-22T19:17:39.948Z"
   },
   {
    "duration": 19,
    "start_time": "2022-11-22T19:17:40.012Z"
   },
   {
    "duration": 394,
    "start_time": "2022-11-22T19:18:53.020Z"
   },
   {
    "duration": 10,
    "start_time": "2022-11-22T19:20:11.508Z"
   },
   {
    "duration": 10,
    "start_time": "2022-11-22T19:20:15.269Z"
   },
   {
    "duration": 12,
    "start_time": "2022-11-22T19:20:18.532Z"
   },
   {
    "duration": 20,
    "start_time": "2022-11-22T19:20:34.719Z"
   },
   {
    "duration": 3,
    "start_time": "2022-11-22T19:20:44.701Z"
   },
   {
    "duration": 9,
    "start_time": "2022-11-22T19:23:55.493Z"
   },
   {
    "duration": 9,
    "start_time": "2022-11-22T19:24:10.898Z"
   },
   {
    "duration": 10,
    "start_time": "2022-11-22T19:24:30.107Z"
   },
   {
    "duration": 9,
    "start_time": "2022-11-22T19:24:51.748Z"
   },
   {
    "duration": 3,
    "start_time": "2022-11-22T19:24:57.327Z"
   },
   {
    "duration": 749,
    "start_time": "2022-11-22T19:24:57.332Z"
   },
   {
    "duration": 130,
    "start_time": "2022-11-22T19:24:58.083Z"
   },
   {
    "duration": 102,
    "start_time": "2022-11-22T19:24:58.215Z"
   },
   {
    "duration": 104,
    "start_time": "2022-11-22T19:24:58.319Z"
   },
   {
    "duration": 393,
    "start_time": "2022-11-22T19:24:58.424Z"
   },
   {
    "duration": 3,
    "start_time": "2022-11-22T19:24:58.819Z"
   },
   {
    "duration": 7,
    "start_time": "2022-11-22T19:24:58.824Z"
   },
   {
    "duration": 278,
    "start_time": "2022-11-22T19:24:58.832Z"
   },
   {
    "duration": 16,
    "start_time": "2022-11-22T19:24:59.112Z"
   },
   {
    "duration": 39,
    "start_time": "2022-11-22T19:24:59.130Z"
   },
   {
    "duration": 42,
    "start_time": "2022-11-22T19:24:59.170Z"
   },
   {
    "duration": 17,
    "start_time": "2022-11-22T19:24:59.214Z"
   },
   {
    "duration": 40,
    "start_time": "2022-11-22T19:24:59.232Z"
   },
   {
    "duration": 43,
    "start_time": "2022-11-22T19:24:59.274Z"
   },
   {
    "duration": 19,
    "start_time": "2022-11-22T19:24:59.319Z"
   },
   {
    "duration": 42,
    "start_time": "2022-11-22T19:24:59.340Z"
   },
   {
    "duration": 37,
    "start_time": "2022-11-22T19:24:59.384Z"
   },
   {
    "duration": 16,
    "start_time": "2022-11-22T19:24:59.423Z"
   },
   {
    "duration": 40,
    "start_time": "2022-11-22T19:24:59.440Z"
   },
   {
    "duration": 37,
    "start_time": "2022-11-22T19:24:59.481Z"
   },
   {
    "duration": 15,
    "start_time": "2022-11-22T19:24:59.520Z"
   },
   {
    "duration": 49,
    "start_time": "2022-11-22T19:24:59.537Z"
   },
   {
    "duration": 40,
    "start_time": "2022-11-22T19:24:59.588Z"
   },
   {
    "duration": 409,
    "start_time": "2022-11-22T19:24:59.630Z"
   },
   {
    "duration": 466,
    "start_time": "2022-11-22T19:25:00.041Z"
   },
   {
    "duration": 452,
    "start_time": "2022-11-22T19:25:02.409Z"
   },
   {
    "duration": 19,
    "start_time": "2022-11-22T19:25:06.598Z"
   },
   {
    "duration": 6,
    "start_time": "2022-11-22T19:25:11.007Z"
   },
   {
    "duration": 5,
    "start_time": "2022-11-22T19:25:14.467Z"
   },
   {
    "duration": 873,
    "start_time": "2022-11-22T19:28:55.290Z"
   },
   {
    "duration": 100,
    "start_time": "2022-11-22T19:29:07.168Z"
   },
   {
    "duration": 5,
    "start_time": "2022-11-22T19:29:16.050Z"
   },
   {
    "duration": 10,
    "start_time": "2022-11-22T19:29:26.256Z"
   },
   {
    "duration": 10,
    "start_time": "2022-11-22T19:29:29.727Z"
   },
   {
    "duration": 95,
    "start_time": "2022-11-22T19:29:34.398Z"
   },
   {
    "duration": 5,
    "start_time": "2022-11-22T19:32:43.258Z"
   },
   {
    "duration": 21,
    "start_time": "2022-11-22T19:33:16.358Z"
   },
   {
    "duration": 16,
    "start_time": "2022-11-22T19:34:47.817Z"
   },
   {
    "duration": 4,
    "start_time": "2022-11-22T19:35:31.357Z"
   },
   {
    "duration": 776,
    "start_time": "2022-11-22T19:35:31.363Z"
   },
   {
    "duration": 114,
    "start_time": "2022-11-22T19:35:32.141Z"
   },
   {
    "duration": 14,
    "start_time": "2022-11-22T19:35:32.257Z"
   },
   {
    "duration": 100,
    "start_time": "2022-11-22T19:35:32.272Z"
   },
   {
    "duration": 403,
    "start_time": "2022-11-22T19:35:32.374Z"
   },
   {
    "duration": 4,
    "start_time": "2022-11-22T19:35:32.778Z"
   },
   {
    "duration": 7,
    "start_time": "2022-11-22T19:35:32.783Z"
   },
   {
    "duration": 284,
    "start_time": "2022-11-22T19:35:32.792Z"
   },
   {
    "duration": 16,
    "start_time": "2022-11-22T19:35:33.079Z"
   },
   {
    "duration": 66,
    "start_time": "2022-11-22T19:35:33.096Z"
   },
   {
    "duration": 21,
    "start_time": "2022-11-22T19:35:33.164Z"
   },
   {
    "duration": 15,
    "start_time": "2022-11-22T19:35:33.187Z"
   },
   {
    "duration": 39,
    "start_time": "2022-11-22T19:35:33.212Z"
   },
   {
    "duration": 18,
    "start_time": "2022-11-22T19:35:33.252Z"
   },
   {
    "duration": 17,
    "start_time": "2022-11-22T19:35:33.272Z"
   },
   {
    "duration": 39,
    "start_time": "2022-11-22T19:35:33.312Z"
   },
   {
    "duration": 18,
    "start_time": "2022-11-22T19:35:33.353Z"
   },
   {
    "duration": 15,
    "start_time": "2022-11-22T19:35:33.373Z"
   },
   {
    "duration": 60,
    "start_time": "2022-11-22T19:35:33.389Z"
   },
   {
    "duration": 18,
    "start_time": "2022-11-22T19:35:33.451Z"
   },
   {
    "duration": 16,
    "start_time": "2022-11-22T19:35:33.470Z"
   },
   {
    "duration": 40,
    "start_time": "2022-11-22T19:35:33.512Z"
   },
   {
    "duration": 18,
    "start_time": "2022-11-22T19:35:33.554Z"
   },
   {
    "duration": 416,
    "start_time": "2022-11-22T19:35:33.574Z"
   },
   {
    "duration": 443,
    "start_time": "2022-11-22T19:35:33.991Z"
   },
   {
    "duration": 19,
    "start_time": "2022-11-22T19:35:34.436Z"
   },
   {
    "duration": 278,
    "start_time": "2022-11-22T19:35:34.458Z"
   },
   {
    "duration": 97,
    "start_time": "2022-11-22T19:36:33.299Z"
   },
   {
    "duration": 10,
    "start_time": "2022-11-22T19:45:02.804Z"
   },
   {
    "duration": 72,
    "start_time": "2022-11-22T19:48:09.638Z"
   },
   {
    "duration": 47,
    "start_time": "2022-11-22T19:48:16.040Z"
   },
   {
    "duration": 4,
    "start_time": "2022-11-22T19:48:27.903Z"
   },
   {
    "duration": 17,
    "start_time": "2022-11-22T19:48:45.965Z"
   },
   {
    "duration": 49,
    "start_time": "2022-11-22T19:53:03.178Z"
   },
   {
    "duration": 69,
    "start_time": "2022-11-22T19:53:15.167Z"
   },
   {
    "duration": 187,
    "start_time": "2022-11-22T19:53:26.946Z"
   },
   {
    "duration": 170,
    "start_time": "2022-11-22T19:53:44.427Z"
   },
   {
    "duration": 170,
    "start_time": "2022-11-22T19:56:13.907Z"
   },
   {
    "duration": 166,
    "start_time": "2022-11-22T19:56:37.709Z"
   },
   {
    "duration": 164,
    "start_time": "2022-11-22T19:58:06.239Z"
   },
   {
    "duration": 220,
    "start_time": "2022-11-22T19:58:24.239Z"
   },
   {
    "duration": 174,
    "start_time": "2022-11-22T19:58:30.755Z"
   },
   {
    "duration": 33,
    "start_time": "2022-11-22T19:59:39.212Z"
   },
   {
    "duration": 6,
    "start_time": "2022-11-22T20:03:02.877Z"
   },
   {
    "duration": 68,
    "start_time": "2022-11-22T20:03:03.418Z"
   },
   {
    "duration": 168,
    "start_time": "2022-11-22T20:03:03.759Z"
   },
   {
    "duration": 9,
    "start_time": "2022-11-22T20:03:04.698Z"
   },
   {
    "duration": 271,
    "start_time": "2022-11-22T20:03:22.087Z"
   },
   {
    "duration": 35,
    "start_time": "2022-11-22T20:03:25.083Z"
   },
   {
    "duration": 222,
    "start_time": "2022-11-22T20:04:33.393Z"
   },
   {
    "duration": 182,
    "start_time": "2022-11-22T20:05:02.052Z"
   },
   {
    "duration": 40,
    "start_time": "2022-11-22T20:08:24.940Z"
   },
   {
    "duration": 27,
    "start_time": "2022-11-22T20:08:25.898Z"
   },
   {
    "duration": 18,
    "start_time": "2022-11-22T20:08:42.738Z"
   },
   {
    "duration": 4,
    "start_time": "2022-11-22T20:09:40.190Z"
   },
   {
    "duration": 713,
    "start_time": "2022-11-22T20:09:40.197Z"
   },
   {
    "duration": 112,
    "start_time": "2022-11-22T20:09:40.912Z"
   },
   {
    "duration": 14,
    "start_time": "2022-11-22T20:09:41.026Z"
   },
   {
    "duration": 113,
    "start_time": "2022-11-22T20:09:41.042Z"
   },
   {
    "duration": 404,
    "start_time": "2022-11-22T20:09:41.156Z"
   },
   {
    "duration": 4,
    "start_time": "2022-11-22T20:09:41.563Z"
   },
   {
    "duration": 8,
    "start_time": "2022-11-22T20:09:41.569Z"
   },
   {
    "duration": 281,
    "start_time": "2022-11-22T20:09:41.579Z"
   },
   {
    "duration": 17,
    "start_time": "2022-11-22T20:09:41.862Z"
   },
   {
    "duration": 56,
    "start_time": "2022-11-22T20:09:41.881Z"
   },
   {
    "duration": 20,
    "start_time": "2022-11-22T20:09:41.938Z"
   },
   {
    "duration": 29,
    "start_time": "2022-11-22T20:09:41.960Z"
   },
   {
    "duration": 43,
    "start_time": "2022-11-22T20:09:41.993Z"
   },
   {
    "duration": 19,
    "start_time": "2022-11-22T20:09:42.037Z"
   },
   {
    "duration": 15,
    "start_time": "2022-11-22T20:09:42.057Z"
   },
   {
    "duration": 60,
    "start_time": "2022-11-22T20:09:42.074Z"
   },
   {
    "duration": 19,
    "start_time": "2022-11-22T20:09:42.136Z"
   },
   {
    "duration": 20,
    "start_time": "2022-11-22T20:09:42.157Z"
   },
   {
    "duration": 59,
    "start_time": "2022-11-22T20:09:42.182Z"
   },
   {
    "duration": 17,
    "start_time": "2022-11-22T20:09:42.243Z"
   },
   {
    "duration": 18,
    "start_time": "2022-11-22T20:09:42.262Z"
   },
   {
    "duration": 68,
    "start_time": "2022-11-22T20:09:42.282Z"
   },
   {
    "duration": 19,
    "start_time": "2022-11-22T20:09:42.352Z"
   },
   {
    "duration": 404,
    "start_time": "2022-11-22T20:09:42.374Z"
   },
   {
    "duration": 414,
    "start_time": "2022-11-22T20:09:42.780Z"
   },
   {
    "duration": 27,
    "start_time": "2022-11-22T20:09:43.196Z"
   },
   {
    "duration": 223,
    "start_time": "2022-11-22T20:09:43.226Z"
   },
   {
    "duration": 102,
    "start_time": "2022-11-22T20:09:43.451Z"
   },
   {
    "duration": 9,
    "start_time": "2022-11-22T20:09:43.555Z"
   },
   {
    "duration": 65,
    "start_time": "2022-11-22T20:09:43.566Z"
   },
   {
    "duration": 194,
    "start_time": "2022-11-22T20:09:43.633Z"
   },
   {
    "duration": 215,
    "start_time": "2022-11-22T20:09:43.829Z"
   },
   {
    "duration": 48,
    "start_time": "2022-11-22T20:09:44.046Z"
   },
   {
    "duration": 26,
    "start_time": "2022-11-22T20:09:44.096Z"
   },
   {
    "duration": 174,
    "start_time": "2022-11-22T20:11:09.257Z"
   },
   {
    "duration": 3,
    "start_time": "2022-11-22T20:11:15.943Z"
   },
   {
    "duration": 815,
    "start_time": "2022-11-22T20:11:15.948Z"
   },
   {
    "duration": 126,
    "start_time": "2022-11-22T20:11:16.765Z"
   },
   {
    "duration": 20,
    "start_time": "2022-11-22T20:11:16.892Z"
   },
   {
    "duration": 84,
    "start_time": "2022-11-22T20:11:16.914Z"
   },
   {
    "duration": 416,
    "start_time": "2022-11-22T20:11:17.000Z"
   },
   {
    "duration": 4,
    "start_time": "2022-11-22T20:11:17.417Z"
   },
   {
    "duration": 11,
    "start_time": "2022-11-22T20:11:17.422Z"
   },
   {
    "duration": 261,
    "start_time": "2022-11-22T20:11:17.434Z"
   },
   {
    "duration": 17,
    "start_time": "2022-11-22T20:11:17.697Z"
   },
   {
    "duration": 37,
    "start_time": "2022-11-22T20:11:17.717Z"
   },
   {
    "duration": 18,
    "start_time": "2022-11-22T20:11:17.756Z"
   },
   {
    "duration": 41,
    "start_time": "2022-11-22T20:11:17.775Z"
   },
   {
    "duration": 37,
    "start_time": "2022-11-22T20:11:17.817Z"
   },
   {
    "duration": 16,
    "start_time": "2022-11-22T20:11:17.856Z"
   },
   {
    "duration": 15,
    "start_time": "2022-11-22T20:11:17.874Z"
   },
   {
    "duration": 38,
    "start_time": "2022-11-22T20:11:17.912Z"
   },
   {
    "duration": 18,
    "start_time": "2022-11-22T20:11:17.951Z"
   },
   {
    "duration": 15,
    "start_time": "2022-11-22T20:11:17.971Z"
   },
   {
    "duration": 44,
    "start_time": "2022-11-22T20:11:18.011Z"
   },
   {
    "duration": 26,
    "start_time": "2022-11-22T20:11:18.057Z"
   },
   {
    "duration": 29,
    "start_time": "2022-11-22T20:11:18.084Z"
   },
   {
    "duration": 53,
    "start_time": "2022-11-22T20:11:18.115Z"
   },
   {
    "duration": 21,
    "start_time": "2022-11-22T20:11:18.170Z"
   },
   {
    "duration": 403,
    "start_time": "2022-11-22T20:11:18.193Z"
   },
   {
    "duration": 422,
    "start_time": "2022-11-22T20:11:18.598Z"
   },
   {
    "duration": 20,
    "start_time": "2022-11-22T20:11:19.022Z"
   },
   {
    "duration": 239,
    "start_time": "2022-11-22T20:11:19.044Z"
   },
   {
    "duration": 100,
    "start_time": "2022-11-22T20:11:19.287Z"
   },
   {
    "duration": 10,
    "start_time": "2022-11-22T20:11:19.389Z"
   },
   {
    "duration": 49,
    "start_time": "2022-11-22T20:11:19.412Z"
   },
   {
    "duration": 176,
    "start_time": "2022-11-22T20:11:19.463Z"
   },
   {
    "duration": 177,
    "start_time": "2022-11-22T20:11:19.641Z"
   },
   {
    "duration": 47,
    "start_time": "2022-11-22T20:11:19.820Z"
   },
   {
    "duration": 17,
    "start_time": "2022-11-22T20:11:19.869Z"
   },
   {
    "duration": 1576,
    "start_time": "2022-11-23T18:26:40.724Z"
   },
   {
    "duration": 3155,
    "start_time": "2022-11-23T18:26:42.302Z"
   },
   {
    "duration": 118,
    "start_time": "2022-11-23T18:26:45.459Z"
   },
   {
    "duration": 16,
    "start_time": "2022-11-23T18:26:45.578Z"
   },
   {
    "duration": 109,
    "start_time": "2022-11-23T18:26:45.596Z"
   },
   {
    "duration": 471,
    "start_time": "2022-11-23T18:26:45.706Z"
   },
   {
    "duration": 3,
    "start_time": "2022-11-23T18:26:46.179Z"
   },
   {
    "duration": 10,
    "start_time": "2022-11-23T18:26:46.184Z"
   },
   {
    "duration": 304,
    "start_time": "2022-11-23T18:26:46.196Z"
   },
   {
    "duration": 15,
    "start_time": "2022-11-23T18:26:46.502Z"
   },
   {
    "duration": 44,
    "start_time": "2022-11-23T18:26:46.528Z"
   },
   {
    "duration": 20,
    "start_time": "2022-11-23T18:26:46.573Z"
   },
   {
    "duration": 14,
    "start_time": "2022-11-23T18:26:46.594Z"
   },
   {
    "duration": 40,
    "start_time": "2022-11-23T18:26:46.635Z"
   },
   {
    "duration": 22,
    "start_time": "2022-11-23T18:26:46.676Z"
   },
   {
    "duration": 17,
    "start_time": "2022-11-23T18:26:46.699Z"
   },
   {
    "duration": 49,
    "start_time": "2022-11-23T18:26:46.718Z"
   },
   {
    "duration": 17,
    "start_time": "2022-11-23T18:26:46.768Z"
   },
   {
    "duration": 15,
    "start_time": "2022-11-23T18:26:46.786Z"
   },
   {
    "duration": 59,
    "start_time": "2022-11-23T18:26:46.802Z"
   },
   {
    "duration": 17,
    "start_time": "2022-11-23T18:26:46.863Z"
   },
   {
    "duration": 29,
    "start_time": "2022-11-23T18:26:46.881Z"
   },
   {
    "duration": 50,
    "start_time": "2022-11-23T18:26:46.912Z"
   },
   {
    "duration": 16,
    "start_time": "2022-11-23T18:26:46.964Z"
   },
   {
    "duration": 472,
    "start_time": "2022-11-23T18:26:46.982Z"
   },
   {
    "duration": 522,
    "start_time": "2022-11-23T18:26:47.456Z"
   },
   {
    "duration": 24,
    "start_time": "2022-11-23T18:26:47.979Z"
   },
   {
    "duration": 305,
    "start_time": "2022-11-23T18:26:48.005Z"
   },
   {
    "duration": 106,
    "start_time": "2022-11-23T18:26:48.311Z"
   },
   {
    "duration": 135,
    "start_time": "2022-11-23T18:26:51.477Z"
   },
   {
    "duration": 1874,
    "start_time": "2022-11-23T18:27:17.033Z"
   },
   {
    "duration": 426,
    "start_time": "2022-11-23T18:28:18.460Z"
   },
   {
    "duration": 502,
    "start_time": "2022-11-23T18:29:40.500Z"
   },
   {
    "duration": 431,
    "start_time": "2022-11-23T18:30:24.490Z"
   },
   {
    "duration": 4,
    "start_time": "2022-11-23T18:31:06.338Z"
   },
   {
    "duration": 445,
    "start_time": "2022-11-23T18:31:12.610Z"
   },
   {
    "duration": 426,
    "start_time": "2022-11-23T18:31:24.516Z"
   },
   {
    "duration": 423,
    "start_time": "2022-11-23T18:32:05.940Z"
   },
   {
    "duration": 458,
    "start_time": "2022-11-23T18:32:12.138Z"
   },
   {
    "duration": 441,
    "start_time": "2022-11-23T18:32:19.442Z"
   },
   {
    "duration": 428,
    "start_time": "2022-11-23T18:32:25.620Z"
   },
   {
    "duration": 424,
    "start_time": "2022-11-23T18:32:32.300Z"
   },
   {
    "duration": 463,
    "start_time": "2022-11-23T18:32:39.720Z"
   },
   {
    "duration": 444,
    "start_time": "2022-11-23T18:32:44.418Z"
   },
   {
    "duration": 10,
    "start_time": "2022-11-23T18:39:55.797Z"
   },
   {
    "duration": 147,
    "start_time": "2022-11-23T18:41:07.099Z"
   },
   {
    "duration": 168,
    "start_time": "2022-11-23T18:41:28.910Z"
   },
   {
    "duration": 56,
    "start_time": "2022-11-23T18:41:42.197Z"
   },
   {
    "duration": 255,
    "start_time": "2022-11-23T18:41:45.849Z"
   },
   {
    "duration": 150,
    "start_time": "2022-11-23T18:41:55.690Z"
   },
   {
    "duration": 152,
    "start_time": "2022-11-23T18:42:09.397Z"
   },
   {
    "duration": 146,
    "start_time": "2022-11-23T18:43:43.491Z"
   },
   {
    "duration": 11,
    "start_time": "2022-11-23T18:45:29.312Z"
   },
   {
    "duration": 10,
    "start_time": "2022-11-23T18:48:17.022Z"
   },
   {
    "duration": 52,
    "start_time": "2022-11-23T18:48:52.607Z"
   },
   {
    "duration": 4,
    "start_time": "2022-11-23T18:49:02.758Z"
   },
   {
    "duration": 17,
    "start_time": "2022-11-23T18:52:39.621Z"
   },
   {
    "duration": 138,
    "start_time": "2022-11-23T18:56:15.158Z"
   },
   {
    "duration": 167,
    "start_time": "2022-11-23T18:56:36.156Z"
   },
   {
    "duration": 157,
    "start_time": "2022-11-23T18:57:21.776Z"
   },
   {
    "duration": 8,
    "start_time": "2022-11-23T18:57:48.035Z"
   },
   {
    "duration": 9,
    "start_time": "2022-11-23T18:58:14.354Z"
   },
   {
    "duration": 37,
    "start_time": "2022-11-23T19:00:50.705Z"
   },
   {
    "duration": 5,
    "start_time": "2022-11-23T19:01:02.138Z"
   },
   {
    "duration": 155,
    "start_time": "2022-11-23T19:01:24.371Z"
   },
   {
    "duration": 170,
    "start_time": "2022-11-23T19:01:28.327Z"
   },
   {
    "duration": 4,
    "start_time": "2022-11-23T19:02:10.818Z"
   },
   {
    "duration": 12,
    "start_time": "2022-11-23T19:06:43.136Z"
   },
   {
    "duration": 38,
    "start_time": "2022-11-23T19:07:05.099Z"
   },
   {
    "duration": 5,
    "start_time": "2022-11-23T19:07:22.125Z"
   },
   {
    "duration": 159,
    "start_time": "2022-11-23T19:08:04.198Z"
   },
   {
    "duration": 16,
    "start_time": "2022-11-23T19:11:03.946Z"
   },
   {
    "duration": 166,
    "start_time": "2022-11-23T19:11:33.160Z"
   },
   {
    "duration": 8,
    "start_time": "2022-11-23T19:12:59.542Z"
   },
   {
    "duration": 8,
    "start_time": "2022-11-23T19:13:24.334Z"
   },
   {
    "duration": 8,
    "start_time": "2022-11-23T19:15:32.188Z"
   },
   {
    "duration": 38,
    "start_time": "2022-11-23T19:16:06.257Z"
   },
   {
    "duration": 15,
    "start_time": "2022-11-23T19:19:53.384Z"
   },
   {
    "duration": 314,
    "start_time": "2022-11-23T19:21:11.364Z"
   },
   {
    "duration": 9,
    "start_time": "2022-11-23T19:21:45.157Z"
   },
   {
    "duration": 15,
    "start_time": "2022-11-23T19:22:54.592Z"
   },
   {
    "duration": 14,
    "start_time": "2022-11-23T19:23:38.084Z"
   },
   {
    "duration": 67,
    "start_time": "2022-11-23T19:26:02.068Z"
   },
   {
    "duration": 60,
    "start_time": "2022-11-23T19:26:27.104Z"
   },
   {
    "duration": 118,
    "start_time": "2022-11-23T19:29:40.022Z"
   },
   {
    "duration": 110,
    "start_time": "2022-11-23T19:29:58.491Z"
   },
   {
    "duration": 81,
    "start_time": "2022-11-23T19:30:42.990Z"
   },
   {
    "duration": 85,
    "start_time": "2022-11-23T19:30:56.237Z"
   },
   {
    "duration": 81,
    "start_time": "2022-11-23T19:31:05.484Z"
   },
   {
    "duration": 83,
    "start_time": "2022-11-23T19:31:11.343Z"
   },
   {
    "duration": 13,
    "start_time": "2022-11-23T19:34:36.687Z"
   },
   {
    "duration": 11,
    "start_time": "2022-11-23T19:34:53.487Z"
   },
   {
    "duration": 11,
    "start_time": "2022-11-23T19:35:53.485Z"
   },
   {
    "duration": 79,
    "start_time": "2022-11-23T19:36:00.626Z"
   },
   {
    "duration": 77,
    "start_time": "2022-11-23T19:36:15.413Z"
   },
   {
    "duration": 84,
    "start_time": "2022-11-23T19:36:29.419Z"
   },
   {
    "duration": 84,
    "start_time": "2022-11-23T19:36:46.304Z"
   },
   {
    "duration": 84,
    "start_time": "2022-11-23T19:37:42.174Z"
   },
   {
    "duration": 85,
    "start_time": "2022-11-23T19:37:53.599Z"
   },
   {
    "duration": 76,
    "start_time": "2022-11-23T19:38:59.415Z"
   },
   {
    "duration": 67,
    "start_time": "2022-11-23T19:40:41.827Z"
   },
   {
    "duration": 65,
    "start_time": "2022-11-23T19:41:12.232Z"
   },
   {
    "duration": 149,
    "start_time": "2022-11-23T19:43:53.825Z"
   },
   {
    "duration": 77,
    "start_time": "2022-11-23T19:46:02.632Z"
   },
   {
    "duration": 101,
    "start_time": "2022-11-23T19:46:58.055Z"
   },
   {
    "duration": 110,
    "start_time": "2022-11-23T19:47:43.936Z"
   },
   {
    "duration": 29,
    "start_time": "2022-11-23T19:49:26.013Z"
   },
   {
    "duration": 26,
    "start_time": "2022-11-23T19:51:32.833Z"
   },
   {
    "duration": 74,
    "start_time": "2022-11-23T19:53:00.953Z"
   },
   {
    "duration": 60,
    "start_time": "2022-11-23T19:53:13.075Z"
   },
   {
    "duration": 61,
    "start_time": "2022-11-23T19:54:52.387Z"
   },
   {
    "duration": 101,
    "start_time": "2022-11-23T19:56:00.626Z"
   },
   {
    "duration": 111,
    "start_time": "2022-11-23T19:56:10.584Z"
   },
   {
    "duration": 9,
    "start_time": "2022-11-23T19:56:16.957Z"
   },
   {
    "duration": 51,
    "start_time": "2022-11-23T20:02:48.004Z"
   },
   {
    "duration": 55,
    "start_time": "2022-11-23T20:12:40.200Z"
   },
   {
    "duration": 58,
    "start_time": "2022-11-23T20:13:09.698Z"
   },
   {
    "duration": 71,
    "start_time": "2022-11-23T20:13:28.699Z"
   },
   {
    "duration": 9,
    "start_time": "2022-11-23T20:25:00.081Z"
   },
   {
    "duration": 107,
    "start_time": "2022-11-23T20:25:04.787Z"
   },
   {
    "duration": 157,
    "start_time": "2022-11-23T20:25:06.290Z"
   },
   {
    "duration": 170,
    "start_time": "2022-11-23T20:26:39.261Z"
   },
   {
    "duration": 40,
    "start_time": "2022-11-23T20:30:37.597Z"
   },
   {
    "duration": 24,
    "start_time": "2022-11-23T20:30:58.779Z"
   },
   {
    "duration": 25,
    "start_time": "2022-11-23T20:38:15.029Z"
   },
   {
    "duration": 42,
    "start_time": "2022-11-23T20:38:39.678Z"
   },
   {
    "duration": 1125,
    "start_time": "2022-11-23T20:39:42.979Z"
   },
   {
    "duration": 1533,
    "start_time": "2022-11-23T20:40:12.208Z"
   },
   {
    "duration": 1221,
    "start_time": "2022-11-23T20:40:41.668Z"
   },
   {
    "duration": 4,
    "start_time": "2022-11-23T20:40:48.655Z"
   },
   {
    "duration": 5,
    "start_time": "2022-11-23T20:41:07.191Z"
   },
   {
    "duration": 29,
    "start_time": "2022-11-23T20:41:51.520Z"
   },
   {
    "duration": 32,
    "start_time": "2022-11-23T20:41:59.111Z"
   },
   {
    "duration": 36,
    "start_time": "2022-11-23T20:42:22.257Z"
   },
   {
    "duration": 41,
    "start_time": "2022-11-23T20:45:53.722Z"
   },
   {
    "duration": 74,
    "start_time": "2022-11-23T20:46:16.466Z"
   },
   {
    "duration": 6,
    "start_time": "2022-11-23T20:46:26.309Z"
   },
   {
    "duration": 43,
    "start_time": "2022-11-23T20:46:52.871Z"
   },
   {
    "duration": 5,
    "start_time": "2022-11-23T20:47:17.629Z"
   },
   {
    "duration": 42,
    "start_time": "2022-11-23T20:50:55.841Z"
   },
   {
    "duration": 67,
    "start_time": "2022-11-23T20:52:22.638Z"
   },
   {
    "duration": 74,
    "start_time": "2022-11-23T20:52:30.671Z"
   },
   {
    "duration": 72,
    "start_time": "2022-11-23T20:52:38.901Z"
   },
   {
    "duration": 16,
    "start_time": "2022-11-23T20:55:03.965Z"
   },
   {
    "duration": 6,
    "start_time": "2022-11-23T20:55:08.464Z"
   },
   {
    "duration": 4,
    "start_time": "2022-11-23T20:56:11.177Z"
   },
   {
    "duration": 821,
    "start_time": "2022-11-23T20:56:11.182Z"
   },
   {
    "duration": 109,
    "start_time": "2022-11-23T20:56:12.005Z"
   },
   {
    "duration": 19,
    "start_time": "2022-11-23T20:56:12.116Z"
   },
   {
    "duration": 98,
    "start_time": "2022-11-23T20:56:12.137Z"
   },
   {
    "duration": 395,
    "start_time": "2022-11-23T20:56:12.236Z"
   },
   {
    "duration": 3,
    "start_time": "2022-11-23T20:56:12.633Z"
   },
   {
    "duration": 7,
    "start_time": "2022-11-23T20:56:12.638Z"
   },
   {
    "duration": 279,
    "start_time": "2022-11-23T20:56:12.647Z"
   },
   {
    "duration": 15,
    "start_time": "2022-11-23T20:56:12.928Z"
   },
   {
    "duration": 40,
    "start_time": "2022-11-23T20:56:12.945Z"
   },
   {
    "duration": 20,
    "start_time": "2022-11-23T20:56:12.987Z"
   },
   {
    "duration": 16,
    "start_time": "2022-11-23T20:56:13.026Z"
   },
   {
    "duration": 38,
    "start_time": "2022-11-23T20:56:13.045Z"
   },
   {
    "duration": 17,
    "start_time": "2022-11-23T20:56:13.084Z"
   },
   {
    "duration": 35,
    "start_time": "2022-11-23T20:56:13.103Z"
   },
   {
    "duration": 38,
    "start_time": "2022-11-23T20:56:13.139Z"
   },
   {
    "duration": 18,
    "start_time": "2022-11-23T20:56:13.178Z"
   },
   {
    "duration": 33,
    "start_time": "2022-11-23T20:56:13.197Z"
   },
   {
    "duration": 38,
    "start_time": "2022-11-23T20:56:13.232Z"
   },
   {
    "duration": 18,
    "start_time": "2022-11-23T20:56:13.271Z"
   },
   {
    "duration": 15,
    "start_time": "2022-11-23T20:56:13.290Z"
   },
   {
    "duration": 39,
    "start_time": "2022-11-23T20:56:13.327Z"
   },
   {
    "duration": 18,
    "start_time": "2022-11-23T20:56:13.367Z"
   },
   {
    "duration": 402,
    "start_time": "2022-11-23T20:56:13.387Z"
   },
   {
    "duration": 415,
    "start_time": "2022-11-23T20:56:13.791Z"
   },
   {
    "duration": 19,
    "start_time": "2022-11-23T20:56:14.208Z"
   },
   {
    "duration": 218,
    "start_time": "2022-11-23T20:56:14.229Z"
   },
   {
    "duration": 99,
    "start_time": "2022-11-23T20:56:14.448Z"
   },
   {
    "duration": 429,
    "start_time": "2022-11-23T20:56:14.548Z"
   },
   {
    "duration": 10,
    "start_time": "2022-11-23T20:56:14.979Z"
   },
   {
    "duration": 59,
    "start_time": "2022-11-23T20:56:14.991Z"
   },
   {
    "duration": 166,
    "start_time": "2022-11-23T20:56:15.052Z"
   },
   {
    "duration": 14,
    "start_time": "2022-11-23T20:56:15.220Z"
   },
   {
    "duration": 41,
    "start_time": "2022-11-23T20:56:15.235Z"
   },
   {
    "duration": 17,
    "start_time": "2022-11-23T20:56:15.277Z"
   },
   {
    "duration": 32,
    "start_time": "2022-11-23T20:56:15.295Z"
   },
   {
    "duration": 41,
    "start_time": "2022-11-23T20:56:15.329Z"
   },
   {
    "duration": 9,
    "start_time": "2022-11-23T20:56:15.372Z"
   },
   {
    "duration": 60,
    "start_time": "2022-11-23T20:56:15.382Z"
   },
   {
    "duration": 4,
    "start_time": "2022-11-23T20:56:15.446Z"
   },
   {
    "duration": 208,
    "start_time": "2022-11-23T20:56:15.452Z"
   },
   {
    "duration": 16,
    "start_time": "2022-11-23T20:56:15.662Z"
   },
   {
    "duration": 8,
    "start_time": "2022-11-23T20:56:15.680Z"
   },
   {
    "duration": 57,
    "start_time": "2022-11-23T20:56:15.689Z"
   },
   {
    "duration": 17,
    "start_time": "2022-11-23T20:56:15.748Z"
   },
   {
    "duration": 14,
    "start_time": "2022-11-23T20:56:15.767Z"
   },
   {
    "duration": 105,
    "start_time": "2022-11-23T20:56:15.783Z"
   },
   {
    "duration": 110,
    "start_time": "2022-11-23T20:56:15.890Z"
   },
   {
    "duration": 46,
    "start_time": "2022-11-23T20:56:16.002Z"
   },
   {
    "duration": 34,
    "start_time": "2022-11-23T20:56:16.049Z"
   },
   {
    "duration": 77,
    "start_time": "2022-11-23T20:56:16.085Z"
   },
   {
    "duration": 5,
    "start_time": "2022-11-23T20:56:16.164Z"
   },
   {
    "duration": 9,
    "start_time": "2022-11-23T20:56:16.170Z"
   },
   {
    "duration": 61,
    "start_time": "2022-11-23T20:56:16.181Z"
   },
   {
    "duration": 5,
    "start_time": "2022-11-23T21:08:24.177Z"
   },
   {
    "duration": 14,
    "start_time": "2022-11-23T21:11:00.422Z"
   },
   {
    "duration": 8,
    "start_time": "2022-11-23T21:11:20.125Z"
   },
   {
    "duration": 16,
    "start_time": "2022-11-23T21:11:50.605Z"
   },
   {
    "duration": 7,
    "start_time": "2022-11-23T21:11:52.382Z"
   },
   {
    "duration": 7,
    "start_time": "2022-11-23T21:14:31.555Z"
   },
   {
    "duration": 16,
    "start_time": "2022-11-23T21:14:51.934Z"
   },
   {
    "duration": 7,
    "start_time": "2022-11-23T21:14:54.997Z"
   },
   {
    "duration": 7,
    "start_time": "2022-11-23T21:14:57.967Z"
   },
   {
    "duration": 7,
    "start_time": "2022-11-23T21:15:42.177Z"
   },
   {
    "duration": 6,
    "start_time": "2022-11-23T21:16:09.474Z"
   },
   {
    "duration": 15,
    "start_time": "2022-11-23T21:16:19.666Z"
   },
   {
    "duration": 5,
    "start_time": "2022-11-23T21:16:19.945Z"
   },
   {
    "duration": 8,
    "start_time": "2022-11-23T21:16:20.466Z"
   },
   {
    "duration": 15,
    "start_time": "2022-11-23T21:17:38.754Z"
   },
   {
    "duration": 4,
    "start_time": "2022-11-23T21:17:39.197Z"
   },
   {
    "duration": 8,
    "start_time": "2022-11-23T21:17:39.872Z"
   },
   {
    "duration": 15,
    "start_time": "2022-11-23T21:18:06.183Z"
   },
   {
    "duration": 5,
    "start_time": "2022-11-23T21:18:06.685Z"
   },
   {
    "duration": 9,
    "start_time": "2022-11-23T21:18:07.197Z"
   },
   {
    "duration": 6,
    "start_time": "2022-11-23T21:19:30.972Z"
   },
   {
    "duration": 21,
    "start_time": "2022-11-23T21:20:25.081Z"
   },
   {
    "duration": 19,
    "start_time": "2022-11-23T21:20:39.075Z"
   },
   {
    "duration": 5,
    "start_time": "2022-11-23T21:21:04.974Z"
   },
   {
    "duration": 16,
    "start_time": "2022-11-23T21:21:22.335Z"
   },
   {
    "duration": 5,
    "start_time": "2022-11-23T21:21:31.679Z"
   },
   {
    "duration": 3,
    "start_time": "2022-11-23T21:22:34.924Z"
   },
   {
    "duration": 16,
    "start_time": "2022-11-23T21:22:45.704Z"
   },
   {
    "duration": 3,
    "start_time": "2022-11-23T21:22:46.033Z"
   },
   {
    "duration": 8,
    "start_time": "2022-11-23T21:22:46.656Z"
   },
   {
    "duration": 5,
    "start_time": "2022-11-23T21:23:00.138Z"
   },
   {
    "duration": 5,
    "start_time": "2022-11-23T21:23:21.213Z"
   },
   {
    "duration": 16,
    "start_time": "2022-11-23T21:23:22.180Z"
   },
   {
    "duration": 5,
    "start_time": "2022-11-23T21:23:24.021Z"
   },
   {
    "duration": 3,
    "start_time": "2022-11-23T21:24:20.515Z"
   },
   {
    "duration": 5,
    "start_time": "2022-11-23T21:24:20.884Z"
   },
   {
    "duration": 1669,
    "start_time": "2022-11-24T13:46:05.031Z"
   },
   {
    "duration": 4,
    "start_time": "2022-11-24T13:46:37.227Z"
   },
   {
    "duration": 3237,
    "start_time": "2022-11-24T13:46:37.233Z"
   },
   {
    "duration": 144,
    "start_time": "2022-11-24T13:46:40.472Z"
   },
   {
    "duration": 18,
    "start_time": "2022-11-24T13:46:40.619Z"
   },
   {
    "duration": 125,
    "start_time": "2022-11-24T13:46:40.638Z"
   },
   {
    "duration": 487,
    "start_time": "2022-11-24T13:46:40.765Z"
   },
   {
    "duration": 3,
    "start_time": "2022-11-24T13:46:41.254Z"
   },
   {
    "duration": 7,
    "start_time": "2022-11-24T13:46:41.259Z"
   },
   {
    "duration": 324,
    "start_time": "2022-11-24T13:46:41.268Z"
   },
   {
    "duration": 19,
    "start_time": "2022-11-24T13:46:41.594Z"
   },
   {
    "duration": 60,
    "start_time": "2022-11-24T13:46:41.615Z"
   },
   {
    "duration": 21,
    "start_time": "2022-11-24T13:46:41.677Z"
   },
   {
    "duration": 20,
    "start_time": "2022-11-24T13:46:41.700Z"
   },
   {
    "duration": 55,
    "start_time": "2022-11-24T13:46:41.722Z"
   },
   {
    "duration": 21,
    "start_time": "2022-11-24T13:46:41.779Z"
   },
   {
    "duration": 17,
    "start_time": "2022-11-24T13:46:41.802Z"
   },
   {
    "duration": 66,
    "start_time": "2022-11-24T13:46:41.821Z"
   },
   {
    "duration": 22,
    "start_time": "2022-11-24T13:46:41.889Z"
   },
   {
    "duration": 39,
    "start_time": "2022-11-24T13:46:41.913Z"
   },
   {
    "duration": 43,
    "start_time": "2022-11-24T13:46:41.954Z"
   },
   {
    "duration": 21,
    "start_time": "2022-11-24T13:46:41.999Z"
   },
   {
    "duration": 32,
    "start_time": "2022-11-24T13:46:42.021Z"
   },
   {
    "duration": 47,
    "start_time": "2022-11-24T13:46:42.055Z"
   },
   {
    "duration": 21,
    "start_time": "2022-11-24T13:46:42.104Z"
   },
   {
    "duration": 474,
    "start_time": "2022-11-24T13:46:42.127Z"
   },
   {
    "duration": 489,
    "start_time": "2022-11-24T13:46:42.603Z"
   },
   {
    "duration": 21,
    "start_time": "2022-11-24T13:46:43.094Z"
   },
   {
    "duration": 290,
    "start_time": "2022-11-24T13:46:43.118Z"
   },
   {
    "duration": 109,
    "start_time": "2022-11-24T13:46:43.411Z"
   },
   {
    "duration": 473,
    "start_time": "2022-11-24T13:46:43.522Z"
   },
   {
    "duration": 10,
    "start_time": "2022-11-24T13:46:43.997Z"
   },
   {
    "duration": 69,
    "start_time": "2022-11-24T13:46:44.009Z"
   },
   {
    "duration": 170,
    "start_time": "2022-11-24T13:46:44.080Z"
   },
   {
    "duration": 10,
    "start_time": "2022-11-24T13:46:44.252Z"
   },
   {
    "duration": 49,
    "start_time": "2022-11-24T13:46:44.264Z"
   },
   {
    "duration": 37,
    "start_time": "2022-11-24T13:46:44.315Z"
   },
   {
    "duration": 9,
    "start_time": "2022-11-24T13:46:44.353Z"
   },
   {
    "duration": 41,
    "start_time": "2022-11-24T13:46:44.363Z"
   },
   {
    "duration": 9,
    "start_time": "2022-11-24T13:46:44.406Z"
   },
   {
    "duration": 71,
    "start_time": "2022-11-24T13:46:44.416Z"
   },
   {
    "duration": 5,
    "start_time": "2022-11-24T13:46:44.488Z"
   },
   {
    "duration": 185,
    "start_time": "2022-11-24T13:46:44.494Z"
   },
   {
    "duration": 16,
    "start_time": "2022-11-24T13:46:44.681Z"
   },
   {
    "duration": 8,
    "start_time": "2022-11-24T13:46:44.699Z"
   },
   {
    "duration": 60,
    "start_time": "2022-11-24T13:46:44.708Z"
   },
   {
    "duration": 14,
    "start_time": "2022-11-24T13:46:44.770Z"
   },
   {
    "duration": 14,
    "start_time": "2022-11-24T13:46:44.786Z"
   },
   {
    "duration": 112,
    "start_time": "2022-11-24T13:46:44.801Z"
   },
   {
    "duration": 118,
    "start_time": "2022-11-24T13:46:47.349Z"
   },
   {
    "duration": 69,
    "start_time": "2022-11-24T13:53:36.959Z"
   },
   {
    "duration": 5,
    "start_time": "2022-11-24T13:54:44.401Z"
   },
   {
    "duration": 9,
    "start_time": "2022-11-24T13:56:59.039Z"
   },
   {
    "duration": 5,
    "start_time": "2022-11-24T13:57:05.528Z"
   },
   {
    "duration": 17,
    "start_time": "2022-11-24T14:06:21.965Z"
   },
   {
    "duration": 127,
    "start_time": "2022-11-24T14:07:54.296Z"
   },
   {
    "duration": 876,
    "start_time": "2022-11-24T14:09:48.568Z"
   },
   {
    "duration": 18,
    "start_time": "2022-11-24T14:14:43.528Z"
   },
   {
    "duration": 11,
    "start_time": "2022-11-24T14:14:50.218Z"
   },
   {
    "duration": 27,
    "start_time": "2022-11-24T14:16:18.863Z"
   },
   {
    "duration": 108,
    "start_time": "2022-11-24T14:16:35.370Z"
   },
   {
    "duration": 36,
    "start_time": "2022-11-24T14:17:39.962Z"
   },
   {
    "duration": 30,
    "start_time": "2022-11-24T14:18:02.809Z"
   },
   {
    "duration": 8,
    "start_time": "2022-11-24T14:18:20.937Z"
   },
   {
    "duration": 22,
    "start_time": "2022-11-24T14:18:30.769Z"
   },
   {
    "duration": 5,
    "start_time": "2022-11-24T14:30:12.149Z"
   },
   {
    "duration": 17,
    "start_time": "2022-11-24T14:30:44.206Z"
   },
   {
    "duration": 16,
    "start_time": "2022-11-24T14:31:33.614Z"
   },
   {
    "duration": 162,
    "start_time": "2022-11-24T14:33:38.981Z"
   },
   {
    "duration": 12,
    "start_time": "2022-11-24T14:40:08.463Z"
   },
   {
    "duration": 51,
    "start_time": "2022-11-24T14:41:24.430Z"
   },
   {
    "duration": 25,
    "start_time": "2022-11-24T14:41:30.644Z"
   },
   {
    "duration": 16,
    "start_time": "2022-11-24T14:41:33.854Z"
   },
   {
    "duration": 184,
    "start_time": "2022-11-24T14:41:37.509Z"
   },
   {
    "duration": 13,
    "start_time": "2022-11-24T14:41:40.422Z"
   },
   {
    "duration": 5,
    "start_time": "2022-11-24T14:42:03.133Z"
   },
   {
    "duration": 9,
    "start_time": "2022-11-24T14:42:08.509Z"
   },
   {
    "duration": 143,
    "start_time": "2022-11-24T14:42:42.318Z"
   },
   {
    "duration": 143,
    "start_time": "2022-11-24T14:42:48.743Z"
   },
   {
    "duration": 16,
    "start_time": "2022-11-24T14:43:04.396Z"
   },
   {
    "duration": 4,
    "start_time": "2022-11-24T18:16:39.716Z"
   },
   {
    "duration": 685,
    "start_time": "2022-11-24T18:16:39.722Z"
   },
   {
    "duration": 104,
    "start_time": "2022-11-24T18:16:40.408Z"
   },
   {
    "duration": 12,
    "start_time": "2022-11-24T18:16:40.514Z"
   },
   {
    "duration": 91,
    "start_time": "2022-11-24T18:16:40.528Z"
   },
   {
    "duration": 380,
    "start_time": "2022-11-24T18:16:40.620Z"
   },
   {
    "duration": 3,
    "start_time": "2022-11-24T18:16:41.002Z"
   },
   {
    "duration": 15,
    "start_time": "2022-11-24T18:16:41.006Z"
   },
   {
    "duration": 258,
    "start_time": "2022-11-24T18:16:41.023Z"
   },
   {
    "duration": 14,
    "start_time": "2022-11-24T18:16:41.285Z"
   },
   {
    "duration": 41,
    "start_time": "2022-11-24T18:16:41.301Z"
   },
   {
    "duration": 38,
    "start_time": "2022-11-24T18:16:41.344Z"
   },
   {
    "duration": 14,
    "start_time": "2022-11-24T18:16:41.384Z"
   },
   {
    "duration": 66,
    "start_time": "2022-11-24T18:16:41.400Z"
   },
   {
    "duration": 16,
    "start_time": "2022-11-24T18:16:41.468Z"
   },
   {
    "duration": 18,
    "start_time": "2022-11-24T18:16:41.486Z"
   },
   {
    "duration": 38,
    "start_time": "2022-11-24T18:16:41.505Z"
   },
   {
    "duration": 17,
    "start_time": "2022-11-24T18:16:41.544Z"
   },
   {
    "duration": 14,
    "start_time": "2022-11-24T18:16:41.578Z"
   },
   {
    "duration": 36,
    "start_time": "2022-11-24T18:16:41.594Z"
   },
   {
    "duration": 17,
    "start_time": "2022-11-24T18:16:41.632Z"
   },
   {
    "duration": 29,
    "start_time": "2022-11-24T18:16:41.651Z"
   },
   {
    "duration": 44,
    "start_time": "2022-11-24T18:16:41.681Z"
   },
   {
    "duration": 16,
    "start_time": "2022-11-24T18:16:41.726Z"
   },
   {
    "duration": 376,
    "start_time": "2022-11-24T18:16:41.744Z"
   },
   {
    "duration": 388,
    "start_time": "2022-11-24T18:16:42.122Z"
   },
   {
    "duration": 17,
    "start_time": "2022-11-24T18:16:42.512Z"
   },
   {
    "duration": 203,
    "start_time": "2022-11-24T18:16:42.532Z"
   },
   {
    "duration": 93,
    "start_time": "2022-11-24T18:16:42.737Z"
   },
   {
    "duration": 358,
    "start_time": "2022-11-24T18:16:42.832Z"
   },
   {
    "duration": 9,
    "start_time": "2022-11-24T18:16:43.191Z"
   },
   {
    "duration": 51,
    "start_time": "2022-11-24T18:16:43.202Z"
   },
   {
    "duration": 179,
    "start_time": "2022-11-24T18:16:43.255Z"
   },
   {
    "duration": 11,
    "start_time": "2022-11-24T18:16:43.435Z"
   },
   {
    "duration": 54,
    "start_time": "2022-11-24T18:16:43.448Z"
   },
   {
    "duration": 15,
    "start_time": "2022-11-24T18:16:43.504Z"
   },
   {
    "duration": 7,
    "start_time": "2022-11-24T18:16:43.520Z"
   },
   {
    "duration": 56,
    "start_time": "2022-11-24T18:16:43.529Z"
   },
   {
    "duration": 8,
    "start_time": "2022-11-24T18:16:43.587Z"
   },
   {
    "duration": 38,
    "start_time": "2022-11-24T18:16:43.596Z"
   },
   {
    "duration": 5,
    "start_time": "2022-11-24T18:16:43.635Z"
   },
   {
    "duration": 181,
    "start_time": "2022-11-24T18:16:43.641Z"
   },
   {
    "duration": 18,
    "start_time": "2022-11-24T18:16:43.824Z"
   },
   {
    "duration": 8,
    "start_time": "2022-11-24T18:16:43.844Z"
   },
   {
    "duration": 74,
    "start_time": "2022-11-24T18:16:43.854Z"
   },
   {
    "duration": 17,
    "start_time": "2022-11-24T18:16:43.930Z"
   },
   {
    "duration": 30,
    "start_time": "2022-11-24T18:16:43.949Z"
   },
   {
    "duration": 97,
    "start_time": "2022-11-24T18:16:43.981Z"
   },
   {
    "duration": 126,
    "start_time": "2022-11-24T18:16:44.081Z"
   },
   {
    "duration": 61,
    "start_time": "2022-11-24T18:16:44.208Z"
   },
   {
    "duration": 35,
    "start_time": "2022-11-24T18:16:44.277Z"
   },
   {
    "duration": 7,
    "start_time": "2022-11-24T18:16:44.314Z"
   },
   {
    "duration": 10,
    "start_time": "2022-11-24T18:16:44.323Z"
   },
   {
    "duration": 18,
    "start_time": "2022-11-24T18:16:44.335Z"
   },
   {
    "duration": 54,
    "start_time": "2022-11-24T18:16:44.354Z"
   },
   {
    "duration": 17,
    "start_time": "2022-11-24T18:16:44.409Z"
   },
   {
    "duration": 14,
    "start_time": "2022-11-24T18:16:44.427Z"
   },
   {
    "duration": 150,
    "start_time": "2022-11-24T18:16:44.442Z"
   },
   {
    "duration": 12,
    "start_time": "2022-11-24T18:16:44.594Z"
   },
   {
    "duration": 150,
    "start_time": "2022-11-24T18:16:44.607Z"
   },
   {
    "duration": 20,
    "start_time": "2022-11-24T18:16:44.759Z"
   },
   {
    "duration": 18,
    "start_time": "2022-11-24T18:17:58.843Z"
   },
   {
    "duration": 6,
    "start_time": "2022-11-24T18:32:09.971Z"
   },
   {
    "duration": 4,
    "start_time": "2022-11-24T18:32:53.776Z"
   },
   {
    "duration": 696,
    "start_time": "2022-11-24T18:32:53.782Z"
   },
   {
    "duration": 114,
    "start_time": "2022-11-24T18:32:54.479Z"
   },
   {
    "duration": 12,
    "start_time": "2022-11-24T18:32:54.596Z"
   },
   {
    "duration": 89,
    "start_time": "2022-11-24T18:32:54.610Z"
   },
   {
    "duration": 346,
    "start_time": "2022-11-24T18:32:54.700Z"
   },
   {
    "duration": 3,
    "start_time": "2022-11-24T18:32:55.048Z"
   },
   {
    "duration": 10,
    "start_time": "2022-11-24T18:32:55.052Z"
   },
   {
    "duration": 269,
    "start_time": "2022-11-24T18:32:55.065Z"
   },
   {
    "duration": 15,
    "start_time": "2022-11-24T18:32:55.336Z"
   },
   {
    "duration": 54,
    "start_time": "2022-11-24T18:32:55.352Z"
   },
   {
    "duration": 19,
    "start_time": "2022-11-24T18:32:55.408Z"
   },
   {
    "duration": 15,
    "start_time": "2022-11-24T18:32:55.429Z"
   },
   {
    "duration": 60,
    "start_time": "2022-11-24T18:32:55.445Z"
   },
   {
    "duration": 189,
    "start_time": "2022-11-24T18:33:00.681Z"
   },
   {
    "duration": 272,
    "start_time": "2022-11-24T18:34:22.107Z"
   },
   {
    "duration": 14,
    "start_time": "2022-11-24T18:36:23.443Z"
   },
   {
    "duration": 10,
    "start_time": "2022-11-24T18:36:42.385Z"
   },
   {
    "duration": 72,
    "start_time": "2022-11-24T18:36:56.286Z"
   },
   {
    "duration": 17,
    "start_time": "2022-11-24T18:37:00.079Z"
   },
   {
    "duration": 128,
    "start_time": "2022-11-24T18:39:35.665Z"
   },
   {
    "duration": 231,
    "start_time": "2022-11-24T18:39:45.398Z"
   },
   {
    "duration": 238,
    "start_time": "2022-11-24T18:40:59.742Z"
   },
   {
    "duration": 5,
    "start_time": "2022-11-24T18:42:18.821Z"
   },
   {
    "duration": 45,
    "start_time": "2022-11-24T18:44:31.790Z"
   },
   {
    "duration": 67,
    "start_time": "2022-11-24T18:44:41.109Z"
   },
   {
    "duration": 85,
    "start_time": "2022-11-24T18:45:14.523Z"
   },
   {
    "duration": 5,
    "start_time": "2022-11-24T18:45:24.647Z"
   },
   {
    "duration": 33,
    "start_time": "2022-11-24T18:46:17.530Z"
   },
   {
    "duration": 5,
    "start_time": "2022-11-24T18:46:25.313Z"
   },
   {
    "duration": 13,
    "start_time": "2022-11-24T18:52:27.235Z"
   },
   {
    "duration": 27,
    "start_time": "2022-11-24T18:52:52.472Z"
   },
   {
    "duration": 4,
    "start_time": "2022-11-24T19:08:52.707Z"
   },
   {
    "duration": 800,
    "start_time": "2022-11-24T19:08:52.750Z"
   },
   {
    "duration": 109,
    "start_time": "2022-11-24T19:08:53.551Z"
   },
   {
    "duration": 31,
    "start_time": "2022-11-24T19:08:53.661Z"
   },
   {
    "duration": 96,
    "start_time": "2022-11-24T19:08:53.703Z"
   },
   {
    "duration": 426,
    "start_time": "2022-11-24T19:08:53.801Z"
   },
   {
    "duration": 3,
    "start_time": "2022-11-24T19:08:54.229Z"
   },
   {
    "duration": 29,
    "start_time": "2022-11-24T19:08:54.234Z"
   },
   {
    "duration": 291,
    "start_time": "2022-11-24T19:08:54.265Z"
   },
   {
    "duration": 23,
    "start_time": "2022-11-24T19:08:54.557Z"
   },
   {
    "duration": 59,
    "start_time": "2022-11-24T19:08:54.582Z"
   },
   {
    "duration": 41,
    "start_time": "2022-11-24T19:08:54.642Z"
   },
   {
    "duration": 23,
    "start_time": "2022-11-24T19:08:54.685Z"
   },
   {
    "duration": 110,
    "start_time": "2022-11-24T19:08:54.709Z"
   },
   {
    "duration": 179,
    "start_time": "2022-11-24T19:08:54.820Z"
   },
   {
    "duration": 119,
    "start_time": "2022-11-24T19:08:55.001Z"
   },
   {
    "duration": 28,
    "start_time": "2022-11-24T19:08:55.122Z"
   },
   {
    "duration": 14,
    "start_time": "2022-11-24T19:08:55.152Z"
   },
   {
    "duration": 30,
    "start_time": "2022-11-24T19:08:55.168Z"
   },
   {
    "duration": 21,
    "start_time": "2022-11-24T19:08:55.200Z"
   },
   {
    "duration": 63,
    "start_time": "2022-11-24T19:08:55.223Z"
   },
   {
    "duration": 24,
    "start_time": "2022-11-24T19:08:55.292Z"
   },
   {
    "duration": 15,
    "start_time": "2022-11-24T19:08:55.318Z"
   },
   {
    "duration": 51,
    "start_time": "2022-11-24T19:08:55.335Z"
   },
   {
    "duration": 22,
    "start_time": "2022-11-24T19:08:55.389Z"
   },
   {
    "duration": 26,
    "start_time": "2022-11-24T19:08:55.413Z"
   },
   {
    "duration": 59,
    "start_time": "2022-11-24T19:08:55.441Z"
   },
   {
    "duration": 28,
    "start_time": "2022-11-24T19:08:55.502Z"
   },
   {
    "duration": 837,
    "start_time": "2022-11-24T19:08:55.535Z"
   },
   {
    "duration": 0,
    "start_time": "2022-11-24T19:08:56.374Z"
   },
   {
    "duration": 0,
    "start_time": "2022-11-24T19:08:56.375Z"
   },
   {
    "duration": 0,
    "start_time": "2022-11-24T19:08:56.376Z"
   },
   {
    "duration": 0,
    "start_time": "2022-11-24T19:08:56.381Z"
   },
   {
    "duration": 0,
    "start_time": "2022-11-24T19:08:56.383Z"
   },
   {
    "duration": 0,
    "start_time": "2022-11-24T19:08:56.384Z"
   },
   {
    "duration": 0,
    "start_time": "2022-11-24T19:08:56.385Z"
   },
   {
    "duration": 0,
    "start_time": "2022-11-24T19:08:56.386Z"
   },
   {
    "duration": 0,
    "start_time": "2022-11-24T19:08:56.388Z"
   },
   {
    "duration": 0,
    "start_time": "2022-11-24T19:08:56.388Z"
   },
   {
    "duration": 0,
    "start_time": "2022-11-24T19:08:56.389Z"
   },
   {
    "duration": 0,
    "start_time": "2022-11-24T19:08:56.390Z"
   },
   {
    "duration": 0,
    "start_time": "2022-11-24T19:08:56.391Z"
   },
   {
    "duration": 0,
    "start_time": "2022-11-24T19:08:56.392Z"
   },
   {
    "duration": 0,
    "start_time": "2022-11-24T19:08:56.393Z"
   },
   {
    "duration": 0,
    "start_time": "2022-11-24T19:08:56.393Z"
   },
   {
    "duration": 0,
    "start_time": "2022-11-24T19:08:56.394Z"
   },
   {
    "duration": 1,
    "start_time": "2022-11-24T19:08:56.399Z"
   },
   {
    "duration": 0,
    "start_time": "2022-11-24T19:08:56.401Z"
   },
   {
    "duration": 0,
    "start_time": "2022-11-24T19:08:56.402Z"
   },
   {
    "duration": 0,
    "start_time": "2022-11-24T19:08:56.403Z"
   },
   {
    "duration": 0,
    "start_time": "2022-11-24T19:08:56.405Z"
   },
   {
    "duration": 12,
    "start_time": "2022-11-24T19:09:44.676Z"
   },
   {
    "duration": 649,
    "start_time": "2022-11-24T19:09:56.625Z"
   },
   {
    "duration": 646,
    "start_time": "2022-11-24T19:10:08.383Z"
   },
   {
    "duration": 617,
    "start_time": "2022-11-24T19:11:39.168Z"
   },
   {
    "duration": 691,
    "start_time": "2022-11-24T19:13:15.746Z"
   },
   {
    "duration": 16,
    "start_time": "2022-11-24T19:13:24.301Z"
   },
   {
    "duration": 5,
    "start_time": "2022-11-24T19:13:32.692Z"
   },
   {
    "duration": 667,
    "start_time": "2022-11-24T19:13:32.886Z"
   },
   {
    "duration": 104,
    "start_time": "2022-11-24T19:13:33.556Z"
   },
   {
    "duration": 19,
    "start_time": "2022-11-24T19:13:33.661Z"
   },
   {
    "duration": 80,
    "start_time": "2022-11-24T19:13:33.682Z"
   },
   {
    "duration": 429,
    "start_time": "2022-11-24T19:13:33.763Z"
   },
   {
    "duration": 3,
    "start_time": "2022-11-24T19:13:34.194Z"
   },
   {
    "duration": 4,
    "start_time": "2022-11-24T19:13:34.429Z"
   },
   {
    "duration": 274,
    "start_time": "2022-11-24T19:13:34.447Z"
   },
   {
    "duration": 14,
    "start_time": "2022-11-24T19:13:34.723Z"
   },
   {
    "duration": 54,
    "start_time": "2022-11-24T19:13:34.739Z"
   },
   {
    "duration": 18,
    "start_time": "2022-11-24T19:13:34.795Z"
   },
   {
    "duration": 22,
    "start_time": "2022-11-24T19:13:34.814Z"
   },
   {
    "duration": 97,
    "start_time": "2022-11-24T19:13:34.837Z"
   },
   {
    "duration": 192,
    "start_time": "2022-11-24T19:13:34.936Z"
   },
   {
    "duration": 90,
    "start_time": "2022-11-24T19:13:35.130Z"
   },
   {
    "duration": 27,
    "start_time": "2022-11-24T19:13:35.222Z"
   },
   {
    "duration": 28,
    "start_time": "2022-11-24T19:13:35.253Z"
   },
   {
    "duration": 27,
    "start_time": "2022-11-24T19:13:35.282Z"
   },
   {
    "duration": 67,
    "start_time": "2022-11-24T19:13:35.311Z"
   },
   {
    "duration": 106,
    "start_time": "2022-11-24T19:13:35.381Z"
   },
   {
    "duration": 27,
    "start_time": "2022-11-24T19:13:35.488Z"
   },
   {
    "duration": 75,
    "start_time": "2022-11-24T19:13:35.517Z"
   },
   {
    "duration": 122,
    "start_time": "2022-11-24T19:13:35.593Z"
   },
   {
    "duration": 77,
    "start_time": "2022-11-24T19:13:35.717Z"
   },
   {
    "duration": 29,
    "start_time": "2022-11-24T19:13:35.796Z"
   },
   {
    "duration": 88,
    "start_time": "2022-11-24T19:13:35.826Z"
   },
   {
    "duration": 76,
    "start_time": "2022-11-24T19:13:35.916Z"
   },
   {
    "duration": 809,
    "start_time": "2022-11-24T19:13:35.994Z"
   },
   {
    "duration": 0,
    "start_time": "2022-11-24T19:13:36.806Z"
   },
   {
    "duration": 0,
    "start_time": "2022-11-24T19:13:36.807Z"
   },
   {
    "duration": 0,
    "start_time": "2022-11-24T19:13:36.809Z"
   },
   {
    "duration": 0,
    "start_time": "2022-11-24T19:13:36.810Z"
   },
   {
    "duration": 0,
    "start_time": "2022-11-24T19:13:36.812Z"
   },
   {
    "duration": 0,
    "start_time": "2022-11-24T19:13:36.813Z"
   },
   {
    "duration": 0,
    "start_time": "2022-11-24T19:13:36.815Z"
   },
   {
    "duration": 0,
    "start_time": "2022-11-24T19:13:36.816Z"
   },
   {
    "duration": 0,
    "start_time": "2022-11-24T19:13:36.818Z"
   },
   {
    "duration": 0,
    "start_time": "2022-11-24T19:13:36.819Z"
   },
   {
    "duration": 0,
    "start_time": "2022-11-24T19:13:36.820Z"
   },
   {
    "duration": 0,
    "start_time": "2022-11-24T19:13:36.822Z"
   },
   {
    "duration": 0,
    "start_time": "2022-11-24T19:13:36.823Z"
   },
   {
    "duration": 0,
    "start_time": "2022-11-24T19:13:36.824Z"
   },
   {
    "duration": 0,
    "start_time": "2022-11-24T19:13:36.825Z"
   },
   {
    "duration": 0,
    "start_time": "2022-11-24T19:13:36.826Z"
   },
   {
    "duration": 0,
    "start_time": "2022-11-24T19:13:36.827Z"
   },
   {
    "duration": 0,
    "start_time": "2022-11-24T19:13:36.828Z"
   },
   {
    "duration": 0,
    "start_time": "2022-11-24T19:13:36.829Z"
   },
   {
    "duration": 0,
    "start_time": "2022-11-24T19:13:36.830Z"
   },
   {
    "duration": 0,
    "start_time": "2022-11-24T19:13:36.831Z"
   },
   {
    "duration": 0,
    "start_time": "2022-11-24T19:13:36.832Z"
   },
   {
    "duration": 0,
    "start_time": "2022-11-24T19:13:36.833Z"
   },
   {
    "duration": 0,
    "start_time": "2022-11-24T19:13:36.834Z"
   },
   {
    "duration": 0,
    "start_time": "2022-11-24T19:13:36.835Z"
   },
   {
    "duration": 0,
    "start_time": "2022-11-24T19:13:36.836Z"
   },
   {
    "duration": 0,
    "start_time": "2022-11-24T19:13:36.837Z"
   },
   {
    "duration": 0,
    "start_time": "2022-11-24T19:13:36.838Z"
   },
   {
    "duration": 0,
    "start_time": "2022-11-24T19:13:36.839Z"
   },
   {
    "duration": 0,
    "start_time": "2022-11-24T19:13:36.840Z"
   },
   {
    "duration": 0,
    "start_time": "2022-11-24T19:13:36.841Z"
   },
   {
    "duration": 0,
    "start_time": "2022-11-24T19:13:36.842Z"
   },
   {
    "duration": 0,
    "start_time": "2022-11-24T19:13:36.878Z"
   },
   {
    "duration": 0,
    "start_time": "2022-11-24T19:13:36.880Z"
   },
   {
    "duration": 0,
    "start_time": "2022-11-24T19:13:36.881Z"
   },
   {
    "duration": 0,
    "start_time": "2022-11-24T19:13:36.881Z"
   },
   {
    "duration": 0,
    "start_time": "2022-11-24T19:13:36.882Z"
   },
   {
    "duration": 16,
    "start_time": "2022-11-24T19:14:17.558Z"
   },
   {
    "duration": 662,
    "start_time": "2022-11-24T19:14:31.957Z"
   },
   {
    "duration": 6,
    "start_time": "2022-11-24T19:15:32.680Z"
   },
   {
    "duration": 5,
    "start_time": "2022-11-24T19:15:46.077Z"
   },
   {
    "duration": 4,
    "start_time": "2022-11-24T19:15:51.294Z"
   },
   {
    "duration": 7,
    "start_time": "2022-11-24T19:15:56.079Z"
   },
   {
    "duration": 688,
    "start_time": "2022-11-24T19:16:30.109Z"
   },
   {
    "duration": 18,
    "start_time": "2022-11-24T19:21:54.691Z"
   },
   {
    "duration": 21,
    "start_time": "2022-11-24T19:22:37.793Z"
   },
   {
    "duration": 22,
    "start_time": "2022-11-24T19:23:00.308Z"
   },
   {
    "duration": 11,
    "start_time": "2022-11-24T19:23:14.972Z"
   },
   {
    "duration": 21,
    "start_time": "2022-11-24T19:23:29.625Z"
   },
   {
    "duration": 7,
    "start_time": "2022-11-24T19:24:00.772Z"
   },
   {
    "duration": 5,
    "start_time": "2022-11-24T19:24:13.141Z"
   },
   {
    "duration": 15,
    "start_time": "2022-11-24T19:24:31.616Z"
   },
   {
    "duration": 5,
    "start_time": "2022-11-24T19:26:35.861Z"
   },
   {
    "duration": 26,
    "start_time": "2022-11-24T19:30:43.464Z"
   },
   {
    "duration": 29,
    "start_time": "2022-11-24T19:30:51.272Z"
   },
   {
    "duration": 25,
    "start_time": "2022-11-24T19:31:11.237Z"
   },
   {
    "duration": 4,
    "start_time": "2022-11-24T19:31:32.336Z"
   },
   {
    "duration": 636,
    "start_time": "2022-11-24T19:31:32.342Z"
   },
   {
    "duration": 118,
    "start_time": "2022-11-24T19:31:32.980Z"
   },
   {
    "duration": 12,
    "start_time": "2022-11-24T19:31:33.100Z"
   },
   {
    "duration": 105,
    "start_time": "2022-11-24T19:31:33.114Z"
   },
   {
    "duration": 360,
    "start_time": "2022-11-24T19:31:33.221Z"
   },
   {
    "duration": 3,
    "start_time": "2022-11-24T19:31:33.582Z"
   },
   {
    "duration": 6,
    "start_time": "2022-11-24T19:31:33.587Z"
   },
   {
    "duration": 257,
    "start_time": "2022-11-24T19:31:33.594Z"
   },
   {
    "duration": 14,
    "start_time": "2022-11-24T19:31:33.853Z"
   },
   {
    "duration": 52,
    "start_time": "2022-11-24T19:31:33.868Z"
   },
   {
    "duration": 28,
    "start_time": "2022-11-24T19:31:33.921Z"
   },
   {
    "duration": 33,
    "start_time": "2022-11-24T19:31:33.951Z"
   },
   {
    "duration": 127,
    "start_time": "2022-11-24T19:31:33.987Z"
   },
   {
    "duration": 182,
    "start_time": "2022-11-24T19:31:34.116Z"
   },
   {
    "duration": 5,
    "start_time": "2022-11-24T19:31:34.300Z"
   },
   {
    "duration": 57,
    "start_time": "2022-11-24T19:31:37.998Z"
   },
   {
    "duration": 21,
    "start_time": "2022-11-24T19:31:52.632Z"
   },
   {
    "duration": 18,
    "start_time": "2022-11-24T19:32:31.513Z"
   },
   {
    "duration": 26,
    "start_time": "2022-11-24T19:32:37.389Z"
   },
   {
    "duration": 334,
    "start_time": "2022-11-24T19:32:50.227Z"
   },
   {
    "duration": 76,
    "start_time": "2022-11-24T19:36:59.671Z"
   },
   {
    "duration": 12,
    "start_time": "2022-11-24T19:37:05.868Z"
   },
   {
    "duration": 6,
    "start_time": "2022-11-24T19:37:36.225Z"
   },
   {
    "duration": 549,
    "start_time": "2022-11-24T19:37:56.164Z"
   },
   {
    "duration": 5,
    "start_time": "2022-11-24T19:38:15.991Z"
   },
   {
    "duration": 4,
    "start_time": "2022-11-24T19:38:29.614Z"
   },
   {
    "duration": 556,
    "start_time": "2022-11-24T19:38:56.559Z"
   },
   {
    "duration": 6,
    "start_time": "2022-11-24T19:39:03.899Z"
   },
   {
    "duration": 5,
    "start_time": "2022-11-24T19:39:12.834Z"
   },
   {
    "duration": 13,
    "start_time": "2022-11-24T19:52:08.457Z"
   },
   {
    "duration": 6,
    "start_time": "2022-11-24T19:52:15.787Z"
   },
   {
    "duration": 574,
    "start_time": "2022-11-24T19:52:40.694Z"
   },
   {
    "duration": 5,
    "start_time": "2022-11-24T19:55:49.772Z"
   },
   {
    "duration": 928,
    "start_time": "2022-11-24T19:55:49.778Z"
   },
   {
    "duration": 186,
    "start_time": "2022-11-24T19:55:50.708Z"
   },
   {
    "duration": 19,
    "start_time": "2022-11-24T19:55:50.896Z"
   },
   {
    "duration": 150,
    "start_time": "2022-11-24T19:55:50.918Z"
   },
   {
    "duration": 563,
    "start_time": "2022-11-24T19:55:51.070Z"
   },
   {
    "duration": 4,
    "start_time": "2022-11-24T19:55:51.636Z"
   },
   {
    "duration": 11,
    "start_time": "2022-11-24T19:55:51.642Z"
   },
   {
    "duration": 421,
    "start_time": "2022-11-24T19:55:51.656Z"
   },
   {
    "duration": 24,
    "start_time": "2022-11-24T19:55:52.079Z"
   },
   {
    "duration": 74,
    "start_time": "2022-11-24T19:55:52.105Z"
   },
   {
    "duration": 29,
    "start_time": "2022-11-24T19:55:52.181Z"
   },
   {
    "duration": 24,
    "start_time": "2022-11-24T19:55:52.213Z"
   },
   {
    "duration": 5,
    "start_time": "2022-11-24T19:55:54.054Z"
   },
   {
    "duration": 991,
    "start_time": "2022-11-24T19:55:54.061Z"
   },
   {
    "duration": 206,
    "start_time": "2022-11-24T19:55:55.055Z"
   },
   {
    "duration": 32,
    "start_time": "2022-11-24T19:55:55.264Z"
   },
   {
    "duration": 129,
    "start_time": "2022-11-24T19:55:55.299Z"
   },
   {
    "duration": 1062,
    "start_time": "2022-11-24T19:55:55.430Z"
   },
   {
    "duration": 4,
    "start_time": "2022-11-24T19:55:56.494Z"
   },
   {
    "duration": 8,
    "start_time": "2022-11-24T19:55:56.501Z"
   },
   {
    "duration": 872,
    "start_time": "2022-11-24T19:55:56.513Z"
   },
   {
    "duration": 25,
    "start_time": "2022-11-24T19:55:57.387Z"
   },
   {
    "duration": 175,
    "start_time": "2022-11-24T19:55:57.415Z"
   },
   {
    "duration": 32,
    "start_time": "2022-11-24T19:55:57.592Z"
   },
   {
    "duration": 36,
    "start_time": "2022-11-24T19:55:57.679Z"
   },
   {
    "duration": 77,
    "start_time": "2022-11-24T19:55:57.718Z"
   },
   {
    "duration": 81,
    "start_time": "2022-11-24T19:55:57.797Z"
   },
   {
    "duration": 125,
    "start_time": "2022-11-24T19:55:57.880Z"
   },
   {
    "duration": 80,
    "start_time": "2022-11-24T19:55:58.006Z"
   },
   {
    "duration": 31,
    "start_time": "2022-11-24T19:55:58.089Z"
   },
   {
    "duration": 164,
    "start_time": "2022-11-24T19:55:58.123Z"
   },
   {
    "duration": 29,
    "start_time": "2022-11-24T19:55:58.289Z"
   },
   {
    "duration": 32,
    "start_time": "2022-11-24T19:55:58.320Z"
   },
   {
    "duration": 71,
    "start_time": "2022-11-24T19:55:58.377Z"
   },
   {
    "duration": 41,
    "start_time": "2022-11-24T19:55:58.450Z"
   },
   {
    "duration": 20,
    "start_time": "2022-11-24T19:55:58.496Z"
   },
   {
    "duration": 595,
    "start_time": "2022-11-24T19:55:58.519Z"
   },
   {
    "duration": 598,
    "start_time": "2022-11-24T19:55:59.116Z"
   },
   {
    "duration": 19,
    "start_time": "2022-11-24T19:55:59.716Z"
   },
   {
    "duration": 364,
    "start_time": "2022-11-24T19:55:59.737Z"
   },
   {
    "duration": 127,
    "start_time": "2022-11-24T19:56:00.104Z"
   },
   {
    "duration": 696,
    "start_time": "2022-11-24T19:56:00.233Z"
   },
   {
    "duration": 15,
    "start_time": "2022-11-24T19:56:00.931Z"
   },
   {
    "duration": 97,
    "start_time": "2022-11-24T19:56:00.948Z"
   },
   {
    "duration": 219,
    "start_time": "2022-11-24T19:56:01.046Z"
   },
   {
    "duration": 17,
    "start_time": "2022-11-24T19:56:01.268Z"
   },
   {
    "duration": 55,
    "start_time": "2022-11-24T19:56:01.287Z"
   },
   {
    "duration": 35,
    "start_time": "2022-11-24T19:56:01.344Z"
   },
   {
    "duration": 11,
    "start_time": "2022-11-24T19:56:01.381Z"
   },
   {
    "duration": 48,
    "start_time": "2022-11-24T19:56:01.394Z"
   },
   {
    "duration": 9,
    "start_time": "2022-11-24T19:56:01.444Z"
   },
   {
    "duration": 70,
    "start_time": "2022-11-24T19:56:01.455Z"
   },
   {
    "duration": 6,
    "start_time": "2022-11-24T19:56:01.526Z"
   },
   {
    "duration": 236,
    "start_time": "2022-11-24T19:56:01.533Z"
   },
   {
    "duration": 25,
    "start_time": "2022-11-24T19:56:01.771Z"
   },
   {
    "duration": 9,
    "start_time": "2022-11-24T19:56:01.798Z"
   },
   {
    "duration": 67,
    "start_time": "2022-11-24T19:56:01.809Z"
   },
   {
    "duration": 19,
    "start_time": "2022-11-24T19:56:01.877Z"
   },
   {
    "duration": 18,
    "start_time": "2022-11-24T19:56:01.898Z"
   },
   {
    "duration": 8,
    "start_time": "2022-11-24T19:56:01.918Z"
   },
   {
    "duration": 168,
    "start_time": "2022-11-24T19:56:01.928Z"
   },
   {
    "duration": 147,
    "start_time": "2022-11-24T19:56:02.098Z"
   },
   {
    "duration": 102,
    "start_time": "2022-11-24T19:56:02.248Z"
   },
   {
    "duration": 45,
    "start_time": "2022-11-24T19:56:02.353Z"
   },
   {
    "duration": 13,
    "start_time": "2022-11-24T19:56:02.400Z"
   },
   {
    "duration": 6,
    "start_time": "2022-11-24T19:56:02.415Z"
   },
   {
    "duration": 20,
    "start_time": "2022-11-24T19:56:02.423Z"
   },
   {
    "duration": 84,
    "start_time": "2022-11-24T19:56:02.445Z"
   },
   {
    "duration": 19,
    "start_time": "2022-11-24T19:56:02.531Z"
   },
   {
    "duration": 32,
    "start_time": "2022-11-24T19:56:02.551Z"
   },
   {
    "duration": 199,
    "start_time": "2022-11-24T19:56:02.585Z"
   },
   {
    "duration": 14,
    "start_time": "2022-11-24T19:56:02.786Z"
   },
   {
    "duration": 210,
    "start_time": "2022-11-24T19:56:02.802Z"
   },
   {
    "duration": 1666,
    "start_time": "2022-11-27T17:38:12.481Z"
   },
   {
    "duration": 1490,
    "start_time": "2022-11-27T17:38:14.149Z"
   },
   {
    "duration": 0,
    "start_time": "2022-11-27T17:38:15.643Z"
   },
   {
    "duration": 0,
    "start_time": "2022-11-27T17:38:15.645Z"
   },
   {
    "duration": 0,
    "start_time": "2022-11-27T17:38:15.646Z"
   },
   {
    "duration": 0,
    "start_time": "2022-11-27T17:38:15.648Z"
   },
   {
    "duration": 0,
    "start_time": "2022-11-27T17:38:15.649Z"
   },
   {
    "duration": 0,
    "start_time": "2022-11-27T17:38:15.651Z"
   },
   {
    "duration": 0,
    "start_time": "2022-11-27T17:38:15.652Z"
   },
   {
    "duration": 0,
    "start_time": "2022-11-27T17:38:15.653Z"
   },
   {
    "duration": 0,
    "start_time": "2022-11-27T17:38:15.654Z"
   },
   {
    "duration": 0,
    "start_time": "2022-11-27T17:38:15.656Z"
   },
   {
    "duration": 0,
    "start_time": "2022-11-27T17:38:15.658Z"
   },
   {
    "duration": 0,
    "start_time": "2022-11-27T17:38:15.660Z"
   },
   {
    "duration": 0,
    "start_time": "2022-11-27T17:38:15.661Z"
   },
   {
    "duration": 0,
    "start_time": "2022-11-27T17:38:15.663Z"
   },
   {
    "duration": 0,
    "start_time": "2022-11-27T17:38:15.664Z"
   },
   {
    "duration": 0,
    "start_time": "2022-11-27T17:38:15.665Z"
   },
   {
    "duration": 0,
    "start_time": "2022-11-27T17:38:15.669Z"
   },
   {
    "duration": 0,
    "start_time": "2022-11-27T17:38:15.671Z"
   },
   {
    "duration": 0,
    "start_time": "2022-11-27T17:38:15.672Z"
   },
   {
    "duration": 0,
    "start_time": "2022-11-27T17:38:15.674Z"
   },
   {
    "duration": 0,
    "start_time": "2022-11-27T17:38:15.675Z"
   },
   {
    "duration": 0,
    "start_time": "2022-11-27T17:38:15.676Z"
   },
   {
    "duration": 0,
    "start_time": "2022-11-27T17:38:15.678Z"
   },
   {
    "duration": 0,
    "start_time": "2022-11-27T17:38:15.679Z"
   },
   {
    "duration": 0,
    "start_time": "2022-11-27T17:38:15.681Z"
   },
   {
    "duration": 0,
    "start_time": "2022-11-27T17:38:15.701Z"
   },
   {
    "duration": 0,
    "start_time": "2022-11-27T17:38:15.708Z"
   },
   {
    "duration": 0,
    "start_time": "2022-11-27T17:38:15.709Z"
   },
   {
    "duration": 0,
    "start_time": "2022-11-27T17:38:15.713Z"
   },
   {
    "duration": 0,
    "start_time": "2022-11-27T17:38:15.714Z"
   },
   {
    "duration": 0,
    "start_time": "2022-11-27T17:38:15.715Z"
   },
   {
    "duration": 1,
    "start_time": "2022-11-27T17:38:15.718Z"
   },
   {
    "duration": 0,
    "start_time": "2022-11-27T17:38:15.720Z"
   },
   {
    "duration": 0,
    "start_time": "2022-11-27T17:38:15.721Z"
   },
   {
    "duration": 0,
    "start_time": "2022-11-27T17:38:15.722Z"
   },
   {
    "duration": 0,
    "start_time": "2022-11-27T17:38:15.723Z"
   },
   {
    "duration": 0,
    "start_time": "2022-11-27T17:38:15.724Z"
   },
   {
    "duration": 0,
    "start_time": "2022-11-27T17:38:15.725Z"
   },
   {
    "duration": 0,
    "start_time": "2022-11-27T17:38:15.726Z"
   },
   {
    "duration": 0,
    "start_time": "2022-11-27T17:38:15.727Z"
   },
   {
    "duration": 0,
    "start_time": "2022-11-27T17:38:15.729Z"
   },
   {
    "duration": 0,
    "start_time": "2022-11-27T17:38:15.730Z"
   },
   {
    "duration": 0,
    "start_time": "2022-11-27T17:38:15.732Z"
   },
   {
    "duration": 0,
    "start_time": "2022-11-27T17:38:15.733Z"
   },
   {
    "duration": 0,
    "start_time": "2022-11-27T17:38:15.734Z"
   },
   {
    "duration": 0,
    "start_time": "2022-11-27T17:38:15.735Z"
   },
   {
    "duration": 0,
    "start_time": "2022-11-27T17:38:15.736Z"
   },
   {
    "duration": 0,
    "start_time": "2022-11-27T17:38:15.738Z"
   },
   {
    "duration": 0,
    "start_time": "2022-11-27T17:38:15.739Z"
   },
   {
    "duration": 0,
    "start_time": "2022-11-27T17:38:15.740Z"
   },
   {
    "duration": 0,
    "start_time": "2022-11-27T17:38:15.741Z"
   },
   {
    "duration": 0,
    "start_time": "2022-11-27T17:38:15.743Z"
   },
   {
    "duration": 0,
    "start_time": "2022-11-27T17:38:15.744Z"
   },
   {
    "duration": 0,
    "start_time": "2022-11-27T17:38:15.800Z"
   },
   {
    "duration": 0,
    "start_time": "2022-11-27T17:38:15.801Z"
   },
   {
    "duration": 0,
    "start_time": "2022-11-27T17:38:15.802Z"
   },
   {
    "duration": 0,
    "start_time": "2022-11-27T17:38:15.808Z"
   },
   {
    "duration": 0,
    "start_time": "2022-11-27T17:38:15.813Z"
   },
   {
    "duration": 0,
    "start_time": "2022-11-27T17:38:15.816Z"
   },
   {
    "duration": 0,
    "start_time": "2022-11-27T17:38:15.818Z"
   },
   {
    "duration": 4,
    "start_time": "2022-11-27T17:38:32.391Z"
   },
   {
    "duration": 1126,
    "start_time": "2022-11-27T17:38:32.397Z"
   },
   {
    "duration": 116,
    "start_time": "2022-11-27T17:38:33.524Z"
   },
   {
    "duration": 8,
    "start_time": "2022-11-27T17:38:36.447Z"
   },
   {
    "duration": 11,
    "start_time": "2022-11-27T17:38:53.458Z"
   },
   {
    "duration": 5,
    "start_time": "2022-11-27T17:39:33.879Z"
   },
   {
    "duration": 7,
    "start_time": "2022-11-27T17:40:12.030Z"
   },
   {
    "duration": 17,
    "start_time": "2022-11-27T17:40:31.003Z"
   },
   {
    "duration": 5,
    "start_time": "2022-11-27T17:40:35.770Z"
   },
   {
    "duration": 10,
    "start_time": "2022-11-27T17:41:16.380Z"
   },
   {
    "duration": 14,
    "start_time": "2022-11-27T17:41:57.606Z"
   },
   {
    "duration": 7,
    "start_time": "2022-11-27T17:43:17.391Z"
   },
   {
    "duration": 914,
    "start_time": "2022-11-27T17:43:17.401Z"
   },
   {
    "duration": 137,
    "start_time": "2022-11-27T17:43:18.318Z"
   },
   {
    "duration": 16,
    "start_time": "2022-11-27T17:43:18.457Z"
   },
   {
    "duration": 129,
    "start_time": "2022-11-27T17:43:18.475Z"
   },
   {
    "duration": 447,
    "start_time": "2022-11-27T17:43:18.606Z"
   },
   {
    "duration": 4,
    "start_time": "2022-11-27T17:43:19.054Z"
   },
   {
    "duration": 9,
    "start_time": "2022-11-27T17:43:19.061Z"
   },
   {
    "duration": 392,
    "start_time": "2022-11-27T17:43:19.072Z"
   },
   {
    "duration": 16,
    "start_time": "2022-11-27T17:43:19.468Z"
   },
   {
    "duration": 66,
    "start_time": "2022-11-27T17:43:19.501Z"
   },
   {
    "duration": 60,
    "start_time": "2022-11-27T17:43:19.569Z"
   },
   {
    "duration": 17,
    "start_time": "2022-11-27T17:43:19.630Z"
   },
   {
    "duration": 30,
    "start_time": "2022-11-27T17:43:19.649Z"
   },
   {
    "duration": 62,
    "start_time": "2022-11-27T17:43:19.681Z"
   },
   {
    "duration": 60,
    "start_time": "2022-11-27T17:43:19.745Z"
   },
   {
    "duration": 22,
    "start_time": "2022-11-27T17:43:19.815Z"
   },
   {
    "duration": 27,
    "start_time": "2022-11-27T17:43:19.839Z"
   },
   {
    "duration": 76,
    "start_time": "2022-11-27T17:43:19.868Z"
   },
   {
    "duration": 20,
    "start_time": "2022-11-27T17:43:19.946Z"
   },
   {
    "duration": 33,
    "start_time": "2022-11-27T17:43:19.967Z"
   },
   {
    "duration": 67,
    "start_time": "2022-11-27T17:43:20.001Z"
   },
   {
    "duration": 19,
    "start_time": "2022-11-27T17:43:20.070Z"
   },
   {
    "duration": 19,
    "start_time": "2022-11-27T17:43:20.091Z"
   },
   {
    "duration": 467,
    "start_time": "2022-11-27T17:43:20.112Z"
   },
   {
    "duration": 489,
    "start_time": "2022-11-27T17:43:20.580Z"
   },
   {
    "duration": 38,
    "start_time": "2022-11-27T17:43:21.070Z"
   },
   {
    "duration": 249,
    "start_time": "2022-11-27T17:43:21.119Z"
   },
   {
    "duration": 106,
    "start_time": "2022-11-27T17:43:21.370Z"
   },
   {
    "duration": 696,
    "start_time": "2022-11-27T17:43:21.478Z"
   },
   {
    "duration": 30,
    "start_time": "2022-11-27T17:43:22.176Z"
   },
   {
    "duration": 65,
    "start_time": "2022-11-27T17:43:22.211Z"
   },
   {
    "duration": 179,
    "start_time": "2022-11-27T17:43:22.277Z"
   },
   {
    "duration": 11,
    "start_time": "2022-11-27T17:43:22.458Z"
   },
   {
    "duration": 81,
    "start_time": "2022-11-27T17:43:22.470Z"
   },
   {
    "duration": 18,
    "start_time": "2022-11-27T17:43:22.553Z"
   },
   {
    "duration": 29,
    "start_time": "2022-11-27T17:43:22.573Z"
   },
   {
    "duration": 47,
    "start_time": "2022-11-27T17:43:22.603Z"
   },
   {
    "duration": 8,
    "start_time": "2022-11-27T17:43:22.652Z"
   },
   {
    "duration": 67,
    "start_time": "2022-11-27T17:43:22.662Z"
   },
   {
    "duration": 5,
    "start_time": "2022-11-27T17:43:22.731Z"
   },
   {
    "duration": 216,
    "start_time": "2022-11-27T17:43:22.737Z"
   },
   {
    "duration": 18,
    "start_time": "2022-11-27T17:43:22.955Z"
   },
   {
    "duration": 41,
    "start_time": "2022-11-27T17:43:22.975Z"
   },
   {
    "duration": 45,
    "start_time": "2022-11-27T17:43:23.018Z"
   },
   {
    "duration": 18,
    "start_time": "2022-11-27T17:43:23.065Z"
   },
   {
    "duration": 40,
    "start_time": "2022-11-27T17:43:23.098Z"
   },
   {
    "duration": 118,
    "start_time": "2022-11-27T17:43:23.141Z"
   },
   {
    "duration": 177,
    "start_time": "2022-11-27T17:43:25.131Z"
   },
   {
    "duration": 10,
    "start_time": "2022-11-27T17:43:37.479Z"
   },
   {
    "duration": 12,
    "start_time": "2022-11-27T17:43:47.491Z"
   },
   {
    "duration": 6,
    "start_time": "2022-11-27T17:44:03.786Z"
   },
   {
    "duration": 878,
    "start_time": "2022-11-27T17:44:03.795Z"
   },
   {
    "duration": 128,
    "start_time": "2022-11-27T17:44:04.674Z"
   },
   {
    "duration": 18,
    "start_time": "2022-11-27T17:44:04.805Z"
   },
   {
    "duration": 223,
    "start_time": "2022-11-27T17:44:04.827Z"
   },
   {
    "duration": 469,
    "start_time": "2022-11-27T17:44:05.052Z"
   },
   {
    "duration": 4,
    "start_time": "2022-11-27T17:44:05.523Z"
   },
   {
    "duration": 12,
    "start_time": "2022-11-27T17:44:05.529Z"
   },
   {
    "duration": 298,
    "start_time": "2022-11-27T17:44:05.544Z"
   },
   {
    "duration": 17,
    "start_time": "2022-11-27T17:44:05.844Z"
   },
   {
    "duration": 80,
    "start_time": "2022-11-27T17:44:05.863Z"
   },
   {
    "duration": 34,
    "start_time": "2022-11-27T17:44:05.947Z"
   },
   {
    "duration": 36,
    "start_time": "2022-11-27T17:44:05.984Z"
   },
   {
    "duration": 27,
    "start_time": "2022-11-27T17:44:06.026Z"
   },
   {
    "duration": 23,
    "start_time": "2022-11-27T17:44:06.055Z"
   },
   {
    "duration": 75,
    "start_time": "2022-11-27T17:44:06.080Z"
   },
   {
    "duration": 21,
    "start_time": "2022-11-27T17:44:06.157Z"
   },
   {
    "duration": 34,
    "start_time": "2022-11-27T17:44:06.180Z"
   },
   {
    "duration": 66,
    "start_time": "2022-11-27T17:44:06.215Z"
   },
   {
    "duration": 43,
    "start_time": "2022-11-27T17:44:06.283Z"
   },
   {
    "duration": 37,
    "start_time": "2022-11-27T17:44:06.329Z"
   },
   {
    "duration": 68,
    "start_time": "2022-11-27T17:44:06.369Z"
   },
   {
    "duration": 17,
    "start_time": "2022-11-27T17:44:06.439Z"
   },
   {
    "duration": 13,
    "start_time": "2022-11-27T17:44:06.458Z"
   },
   {
    "duration": 454,
    "start_time": "2022-11-27T17:44:06.472Z"
   },
   {
    "duration": 477,
    "start_time": "2022-11-27T17:44:06.928Z"
   },
   {
    "duration": 20,
    "start_time": "2022-11-27T17:44:07.407Z"
   },
   {
    "duration": 243,
    "start_time": "2022-11-27T17:44:07.429Z"
   },
   {
    "duration": 104,
    "start_time": "2022-11-27T17:44:07.674Z"
   },
   {
    "duration": 504,
    "start_time": "2022-11-27T17:44:07.780Z"
   },
   {
    "duration": 15,
    "start_time": "2022-11-27T17:44:08.286Z"
   },
   {
    "duration": 49,
    "start_time": "2022-11-27T17:44:08.303Z"
   },
   {
    "duration": 182,
    "start_time": "2022-11-27T17:44:08.353Z"
   },
   {
    "duration": 10,
    "start_time": "2022-11-27T17:44:08.536Z"
   },
   {
    "duration": 60,
    "start_time": "2022-11-27T17:44:08.548Z"
   },
   {
    "duration": 23,
    "start_time": "2022-11-27T17:44:08.610Z"
   },
   {
    "duration": 11,
    "start_time": "2022-11-27T17:44:08.635Z"
   },
   {
    "duration": 62,
    "start_time": "2022-11-27T17:44:08.648Z"
   },
   {
    "duration": 9,
    "start_time": "2022-11-27T17:44:08.713Z"
   },
   {
    "duration": 42,
    "start_time": "2022-11-27T17:44:08.723Z"
   },
   {
    "duration": 4,
    "start_time": "2022-11-27T17:44:08.769Z"
   },
   {
    "duration": 207,
    "start_time": "2022-11-27T17:44:08.775Z"
   },
   {
    "duration": 28,
    "start_time": "2022-11-27T17:44:08.983Z"
   },
   {
    "duration": 10,
    "start_time": "2022-11-27T17:44:09.015Z"
   },
   {
    "duration": 42,
    "start_time": "2022-11-27T17:44:09.027Z"
   },
   {
    "duration": 37,
    "start_time": "2022-11-27T17:44:09.071Z"
   },
   {
    "duration": 16,
    "start_time": "2022-11-27T17:44:09.111Z"
   },
   {
    "duration": 110,
    "start_time": "2022-11-27T17:44:09.128Z"
   },
   {
    "duration": 120,
    "start_time": "2022-11-27T17:44:09.240Z"
   },
   {
    "duration": 77,
    "start_time": "2022-11-27T17:44:09.361Z"
   },
   {
    "duration": 31,
    "start_time": "2022-11-27T17:44:09.440Z"
   },
   {
    "duration": 7,
    "start_time": "2022-11-27T17:44:09.473Z"
   },
   {
    "duration": 30,
    "start_time": "2022-11-27T17:44:09.482Z"
   },
   {
    "duration": 14,
    "start_time": "2022-11-27T17:44:09.514Z"
   },
   {
    "duration": 53,
    "start_time": "2022-11-27T17:44:09.530Z"
   },
   {
    "duration": 33,
    "start_time": "2022-11-27T17:44:09.585Z"
   },
   {
    "duration": 19,
    "start_time": "2022-11-27T17:44:09.619Z"
   },
   {
    "duration": 189,
    "start_time": "2022-11-27T17:44:09.639Z"
   },
   {
    "duration": 14,
    "start_time": "2022-11-27T17:44:09.830Z"
   },
   {
    "duration": 186,
    "start_time": "2022-11-27T17:44:09.846Z"
   },
   {
    "duration": 68,
    "start_time": "2022-11-27T17:49:07.679Z"
   },
   {
    "duration": 6,
    "start_time": "2022-11-27T18:08:32.614Z"
   },
   {
    "duration": 41,
    "start_time": "2022-11-27T18:13:03.769Z"
   },
   {
    "duration": 21,
    "start_time": "2022-11-27T18:13:09.814Z"
   },
   {
    "duration": 4,
    "start_time": "2022-11-27T18:31:54.310Z"
   },
   {
    "duration": 74,
    "start_time": "2022-11-27T18:34:47.586Z"
   },
   {
    "duration": 17,
    "start_time": "2022-11-27T18:40:25.508Z"
   },
   {
    "duration": 27,
    "start_time": "2022-11-27T18:40:41.045Z"
   },
   {
    "duration": 11,
    "start_time": "2022-11-27T18:41:55.458Z"
   },
   {
    "duration": 4,
    "start_time": "2022-11-27T18:42:18.309Z"
   },
   {
    "duration": 4,
    "start_time": "2022-11-27T18:42:27.573Z"
   },
   {
    "duration": 9,
    "start_time": "2022-11-27T18:42:28.170Z"
   },
   {
    "duration": 4,
    "start_time": "2022-11-27T18:42:58.047Z"
   },
   {
    "duration": 72,
    "start_time": "2022-11-27T18:43:04.406Z"
   },
   {
    "duration": 4,
    "start_time": "2022-11-27T18:59:00.148Z"
   },
   {
    "duration": 822,
    "start_time": "2022-11-27T18:59:00.221Z"
   },
   {
    "duration": 121,
    "start_time": "2022-11-27T18:59:01.045Z"
   },
   {
    "duration": 17,
    "start_time": "2022-11-27T18:59:01.167Z"
   },
   {
    "duration": 90,
    "start_time": "2022-11-27T18:59:01.196Z"
   },
   {
    "duration": 419,
    "start_time": "2022-11-27T18:59:01.287Z"
   },
   {
    "duration": 3,
    "start_time": "2022-11-27T18:59:01.708Z"
   },
   {
    "duration": 11,
    "start_time": "2022-11-27T18:59:01.712Z"
   },
   {
    "duration": 273,
    "start_time": "2022-11-27T18:59:01.724Z"
   },
   {
    "duration": 17,
    "start_time": "2022-11-27T18:59:01.999Z"
   },
   {
    "duration": 43,
    "start_time": "2022-11-27T18:59:02.020Z"
   },
   {
    "duration": 39,
    "start_time": "2022-11-27T18:59:02.064Z"
   },
   {
    "duration": 15,
    "start_time": "2022-11-27T18:59:02.104Z"
   },
   {
    "duration": 27,
    "start_time": "2022-11-27T18:59:02.121Z"
   },
   {
    "duration": 15,
    "start_time": "2022-11-27T18:59:02.150Z"
   },
   {
    "duration": 49,
    "start_time": "2022-11-27T18:59:02.166Z"
   },
   {
    "duration": 16,
    "start_time": "2022-11-27T18:59:02.217Z"
   },
   {
    "duration": 15,
    "start_time": "2022-11-27T18:59:02.235Z"
   },
   {
    "duration": 58,
    "start_time": "2022-11-27T18:59:02.251Z"
   },
   {
    "duration": 16,
    "start_time": "2022-11-27T18:59:02.311Z"
   },
   {
    "duration": 16,
    "start_time": "2022-11-27T18:59:02.329Z"
   },
   {
    "duration": 53,
    "start_time": "2022-11-27T18:59:02.347Z"
   },
   {
    "duration": 16,
    "start_time": "2022-11-27T18:59:02.402Z"
   },
   {
    "duration": 27,
    "start_time": "2022-11-27T18:59:02.420Z"
   },
   {
    "duration": 448,
    "start_time": "2022-11-27T18:59:02.449Z"
   },
   {
    "duration": 475,
    "start_time": "2022-11-27T18:59:02.899Z"
   },
   {
    "duration": 28,
    "start_time": "2022-11-27T18:59:03.376Z"
   },
   {
    "duration": 267,
    "start_time": "2022-11-27T18:59:03.405Z"
   },
   {
    "duration": 22,
    "start_time": "2022-11-27T18:59:09.364Z"
   },
   {
    "duration": 4,
    "start_time": "2022-11-27T19:13:43.437Z"
   },
   {
    "duration": 749,
    "start_time": "2022-11-27T19:13:43.442Z"
   },
   {
    "duration": 111,
    "start_time": "2022-11-27T19:13:44.193Z"
   },
   {
    "duration": 28,
    "start_time": "2022-11-27T19:13:44.306Z"
   },
   {
    "duration": 111,
    "start_time": "2022-11-27T19:13:44.336Z"
   },
   {
    "duration": 388,
    "start_time": "2022-11-27T19:13:44.449Z"
   },
   {
    "duration": 3,
    "start_time": "2022-11-27T19:13:44.839Z"
   },
   {
    "duration": 28,
    "start_time": "2022-11-27T19:13:44.844Z"
   },
   {
    "duration": 317,
    "start_time": "2022-11-27T19:13:44.874Z"
   },
   {
    "duration": 19,
    "start_time": "2022-11-27T19:13:45.193Z"
   },
   {
    "duration": 52,
    "start_time": "2022-11-27T19:13:45.214Z"
   },
   {
    "duration": 44,
    "start_time": "2022-11-27T19:13:45.268Z"
   },
   {
    "duration": 26,
    "start_time": "2022-11-27T19:13:45.313Z"
   },
   {
    "duration": 35,
    "start_time": "2022-11-27T19:13:45.341Z"
   },
   {
    "duration": 54,
    "start_time": "2022-11-27T19:13:45.377Z"
   },
   {
    "duration": 56,
    "start_time": "2022-11-27T19:13:45.433Z"
   },
   {
    "duration": 29,
    "start_time": "2022-11-27T19:13:45.490Z"
   },
   {
    "duration": 42,
    "start_time": "2022-11-27T19:13:45.520Z"
   },
   {
    "duration": 60,
    "start_time": "2022-11-27T19:13:45.563Z"
   },
   {
    "duration": 48,
    "start_time": "2022-11-27T19:13:45.625Z"
   },
   {
    "duration": 19,
    "start_time": "2022-11-27T19:13:45.675Z"
   },
   {
    "duration": 71,
    "start_time": "2022-11-27T19:13:45.696Z"
   },
   {
    "duration": 21,
    "start_time": "2022-11-27T19:13:45.768Z"
   },
   {
    "duration": 36,
    "start_time": "2022-11-27T19:13:45.791Z"
   },
   {
    "duration": 473,
    "start_time": "2022-11-27T19:13:45.829Z"
   },
   {
    "duration": 426,
    "start_time": "2022-11-27T19:13:46.304Z"
   },
   {
    "duration": 18,
    "start_time": "2022-11-27T19:13:46.731Z"
   },
   {
    "duration": 228,
    "start_time": "2022-11-27T19:13:46.751Z"
   },
   {
    "duration": 6,
    "start_time": "2022-11-27T19:13:48.734Z"
   },
   {
    "duration": 31,
    "start_time": "2022-11-27T19:14:35.705Z"
   },
   {
    "duration": 9,
    "start_time": "2022-11-27T19:31:33.038Z"
   },
   {
    "duration": 19,
    "start_time": "2022-11-27T19:31:38.528Z"
   },
   {
    "duration": 12,
    "start_time": "2022-11-27T19:31:50.245Z"
   },
   {
    "duration": 323,
    "start_time": "2022-11-27T19:33:36.778Z"
   },
   {
    "duration": 392,
    "start_time": "2022-11-27T19:35:04.946Z"
   },
   {
    "duration": 378,
    "start_time": "2022-11-27T19:35:09.819Z"
   },
   {
    "duration": 4,
    "start_time": "2022-11-27T19:35:55.325Z"
   },
   {
    "duration": 5,
    "start_time": "2022-11-27T19:36:10.897Z"
   },
   {
    "duration": 5,
    "start_time": "2022-11-27T19:36:19.053Z"
   },
   {
    "duration": 14,
    "start_time": "2022-11-27T19:39:25.616Z"
   },
   {
    "duration": 15,
    "start_time": "2022-11-27T19:39:36.778Z"
   },
   {
    "duration": 10,
    "start_time": "2022-11-27T19:40:46.520Z"
   },
   {
    "duration": 21,
    "start_time": "2022-11-27T19:41:34.178Z"
   },
   {
    "duration": 3,
    "start_time": "2022-11-27T19:41:41.829Z"
   },
   {
    "duration": 733,
    "start_time": "2022-11-27T19:41:41.835Z"
   },
   {
    "duration": 107,
    "start_time": "2022-11-27T19:41:42.570Z"
   },
   {
    "duration": 21,
    "start_time": "2022-11-27T19:41:42.679Z"
   },
   {
    "duration": 99,
    "start_time": "2022-11-27T19:41:42.702Z"
   },
   {
    "duration": 378,
    "start_time": "2022-11-27T19:41:42.803Z"
   },
   {
    "duration": 3,
    "start_time": "2022-11-27T19:41:43.183Z"
   },
   {
    "duration": 10,
    "start_time": "2022-11-27T19:41:43.187Z"
   },
   {
    "duration": 263,
    "start_time": "2022-11-27T19:41:43.198Z"
   },
   {
    "duration": 14,
    "start_time": "2022-11-27T19:41:43.463Z"
   },
   {
    "duration": 48,
    "start_time": "2022-11-27T19:41:43.478Z"
   },
   {
    "duration": 18,
    "start_time": "2022-11-27T19:41:43.528Z"
   },
   {
    "duration": 14,
    "start_time": "2022-11-27T19:41:43.549Z"
   },
   {
    "duration": 33,
    "start_time": "2022-11-27T19:41:43.564Z"
   },
   {
    "duration": 15,
    "start_time": "2022-11-27T19:41:43.599Z"
   },
   {
    "duration": 36,
    "start_time": "2022-11-27T19:41:43.615Z"
   },
   {
    "duration": 16,
    "start_time": "2022-11-27T19:41:43.653Z"
   },
   {
    "duration": 34,
    "start_time": "2022-11-27T19:41:43.670Z"
   },
   {
    "duration": 36,
    "start_time": "2022-11-27T19:41:43.706Z"
   },
   {
    "duration": 17,
    "start_time": "2022-11-27T19:41:43.744Z"
   },
   {
    "duration": 33,
    "start_time": "2022-11-27T19:41:43.763Z"
   },
   {
    "duration": 36,
    "start_time": "2022-11-27T19:41:43.798Z"
   },
   {
    "duration": 16,
    "start_time": "2022-11-27T19:41:43.836Z"
   },
   {
    "duration": 13,
    "start_time": "2022-11-27T19:41:43.853Z"
   },
   {
    "duration": 491,
    "start_time": "2022-11-27T19:41:43.867Z"
   },
   {
    "duration": 423,
    "start_time": "2022-11-27T19:41:44.360Z"
   },
   {
    "duration": 29,
    "start_time": "2022-11-27T19:41:44.784Z"
   },
   {
    "duration": 233,
    "start_time": "2022-11-27T19:41:44.815Z"
   },
   {
    "duration": 27,
    "start_time": "2022-11-27T19:41:45.050Z"
   },
   {
    "duration": 4,
    "start_time": "2022-11-27T19:44:14.081Z"
   },
   {
    "duration": 746,
    "start_time": "2022-11-27T19:44:14.089Z"
   },
   {
    "duration": 114,
    "start_time": "2022-11-27T19:44:14.837Z"
   },
   {
    "duration": 17,
    "start_time": "2022-11-27T19:44:14.953Z"
   },
   {
    "duration": 107,
    "start_time": "2022-11-27T19:44:14.971Z"
   },
   {
    "duration": 405,
    "start_time": "2022-11-27T19:44:15.081Z"
   },
   {
    "duration": 3,
    "start_time": "2022-11-27T19:44:15.488Z"
   },
   {
    "duration": 7,
    "start_time": "2022-11-27T19:44:15.497Z"
   },
   {
    "duration": 267,
    "start_time": "2022-11-27T19:44:15.505Z"
   },
   {
    "duration": 15,
    "start_time": "2022-11-27T19:44:15.774Z"
   },
   {
    "duration": 41,
    "start_time": "2022-11-27T19:44:15.797Z"
   },
   {
    "duration": 19,
    "start_time": "2022-11-27T19:44:15.840Z"
   },
   {
    "duration": 14,
    "start_time": "2022-11-27T19:44:15.861Z"
   },
   {
    "duration": 25,
    "start_time": "2022-11-27T19:44:15.898Z"
   },
   {
    "duration": 25,
    "start_time": "2022-11-27T19:44:15.926Z"
   },
   {
    "duration": 73,
    "start_time": "2022-11-27T19:44:15.953Z"
   },
   {
    "duration": 21,
    "start_time": "2022-11-27T19:44:16.028Z"
   },
   {
    "duration": 25,
    "start_time": "2022-11-27T19:44:16.052Z"
   },
   {
    "duration": 63,
    "start_time": "2022-11-27T19:44:16.079Z"
   },
   {
    "duration": 20,
    "start_time": "2022-11-27T19:44:16.144Z"
   },
   {
    "duration": 38,
    "start_time": "2022-11-27T19:44:16.166Z"
   },
   {
    "duration": 47,
    "start_time": "2022-11-27T19:44:16.206Z"
   },
   {
    "duration": 17,
    "start_time": "2022-11-27T19:44:16.255Z"
   },
   {
    "duration": 25,
    "start_time": "2022-11-27T19:44:16.274Z"
   },
   {
    "duration": 383,
    "start_time": "2022-11-27T19:44:16.301Z"
   },
   {
    "duration": 420,
    "start_time": "2022-11-27T19:44:16.686Z"
   },
   {
    "duration": 18,
    "start_time": "2022-11-27T19:44:17.108Z"
   },
   {
    "duration": 215,
    "start_time": "2022-11-27T19:44:17.127Z"
   },
   {
    "duration": 25,
    "start_time": "2022-11-27T19:44:17.344Z"
   },
   {
    "duration": 141,
    "start_time": "2022-11-27T19:44:17.370Z"
   },
   {
    "duration": 402,
    "start_time": "2022-11-27T19:44:17.513Z"
   },
   {
    "duration": 11,
    "start_time": "2022-11-27T19:44:17.917Z"
   },
   {
    "duration": 51,
    "start_time": "2022-11-27T19:44:17.929Z"
   },
   {
    "duration": 165,
    "start_time": "2022-11-27T19:44:17.996Z"
   },
   {
    "duration": 9,
    "start_time": "2022-11-27T19:44:18.163Z"
   },
   {
    "duration": 54,
    "start_time": "2022-11-27T19:44:18.174Z"
   },
   {
    "duration": 16,
    "start_time": "2022-11-27T19:44:18.230Z"
   },
   {
    "duration": 9,
    "start_time": "2022-11-27T19:44:18.248Z"
   },
   {
    "duration": 58,
    "start_time": "2022-11-27T19:44:18.259Z"
   },
   {
    "duration": 9,
    "start_time": "2022-11-27T19:44:18.319Z"
   },
   {
    "duration": 66,
    "start_time": "2022-11-27T19:44:18.330Z"
   },
   {
    "duration": 5,
    "start_time": "2022-11-27T19:44:18.400Z"
   },
   {
    "duration": 189,
    "start_time": "2022-11-27T19:44:18.407Z"
   },
   {
    "duration": 19,
    "start_time": "2022-11-27T19:44:18.598Z"
   },
   {
    "duration": 9,
    "start_time": "2022-11-27T19:44:18.619Z"
   },
   {
    "duration": 67,
    "start_time": "2022-11-27T19:44:18.630Z"
   },
   {
    "duration": 17,
    "start_time": "2022-11-27T19:44:18.699Z"
   },
   {
    "duration": 16,
    "start_time": "2022-11-27T19:44:18.718Z"
   },
   {
    "duration": 107,
    "start_time": "2022-11-27T19:44:18.736Z"
   },
   {
    "duration": 120,
    "start_time": "2022-11-27T19:44:18.845Z"
   },
   {
    "duration": 78,
    "start_time": "2022-11-27T19:44:18.967Z"
   },
   {
    "duration": 35,
    "start_time": "2022-11-27T19:44:19.046Z"
   },
   {
    "duration": 15,
    "start_time": "2022-11-27T19:44:19.083Z"
   },
   {
    "duration": 5,
    "start_time": "2022-11-27T19:44:19.100Z"
   },
   {
    "duration": 22,
    "start_time": "2022-11-27T19:44:19.107Z"
   },
   {
    "duration": 40,
    "start_time": "2022-11-27T19:44:19.131Z"
   },
   {
    "duration": 37,
    "start_time": "2022-11-27T19:44:19.173Z"
   },
   {
    "duration": 16,
    "start_time": "2022-11-27T19:44:19.212Z"
   },
   {
    "duration": 167,
    "start_time": "2022-11-27T19:44:19.230Z"
   },
   {
    "duration": 13,
    "start_time": "2022-11-27T19:44:19.398Z"
   },
   {
    "duration": 157,
    "start_time": "2022-11-27T19:44:19.412Z"
   },
   {
    "duration": 114,
    "start_time": "2022-11-27T19:44:19.571Z"
   },
   {
    "duration": 19,
    "start_time": "2022-11-27T19:51:38.993Z"
   },
   {
    "duration": 20,
    "start_time": "2022-11-27T19:51:40.853Z"
   },
   {
    "duration": 4,
    "start_time": "2022-11-27T19:51:42.646Z"
   },
   {
    "duration": 76,
    "start_time": "2022-11-27T19:51:44.942Z"
   },
   {
    "duration": 69,
    "start_time": "2022-11-27T19:51:53.675Z"
   },
   {
    "duration": 15,
    "start_time": "2022-11-27T19:55:55.060Z"
   },
   {
    "duration": 79,
    "start_time": "2022-11-27T19:56:06.664Z"
   },
   {
    "duration": 464,
    "start_time": "2022-11-27T19:58:24.755Z"
   },
   {
    "duration": 474,
    "start_time": "2022-11-27T19:59:12.559Z"
   },
   {
    "duration": 60,
    "start_time": "2022-11-27T19:59:37.703Z"
   },
   {
    "duration": 10,
    "start_time": "2022-11-27T19:59:45.296Z"
   },
   {
    "duration": 14,
    "start_time": "2022-11-27T19:59:52.539Z"
   },
   {
    "duration": 50,
    "start_time": "2022-11-28T17:56:31.427Z"
   },
   {
    "duration": 1584,
    "start_time": "2022-11-28T17:56:37.053Z"
   },
   {
    "duration": 980,
    "start_time": "2022-11-28T17:56:38.639Z"
   },
   {
    "duration": 130,
    "start_time": "2022-11-28T17:56:39.620Z"
   },
   {
    "duration": 16,
    "start_time": "2022-11-28T17:56:39.752Z"
   },
   {
    "duration": 96,
    "start_time": "2022-11-28T17:56:39.769Z"
   },
   {
    "duration": 421,
    "start_time": "2022-11-28T17:56:39.876Z"
   },
   {
    "duration": 2,
    "start_time": "2022-11-28T17:56:40.299Z"
   },
   {
    "duration": 7,
    "start_time": "2022-11-28T17:56:40.303Z"
   },
   {
    "duration": 285,
    "start_time": "2022-11-28T17:56:40.311Z"
   },
   {
    "duration": 25,
    "start_time": "2022-11-28T17:56:40.599Z"
   },
   {
    "duration": 62,
    "start_time": "2022-11-28T17:56:40.626Z"
   },
   {
    "duration": 19,
    "start_time": "2022-11-28T17:56:40.690Z"
   },
   {
    "duration": 19,
    "start_time": "2022-11-28T17:56:40.710Z"
   },
   {
    "duration": 28,
    "start_time": "2022-11-28T17:56:40.731Z"
   },
   {
    "duration": 24,
    "start_time": "2022-11-28T17:56:40.760Z"
   },
   {
    "duration": 51,
    "start_time": "2022-11-28T17:56:40.786Z"
   },
   {
    "duration": 19,
    "start_time": "2022-11-28T17:56:40.838Z"
   },
   {
    "duration": 20,
    "start_time": "2022-11-28T17:56:40.858Z"
   },
   {
    "duration": 40,
    "start_time": "2022-11-28T17:56:40.879Z"
   },
   {
    "duration": 18,
    "start_time": "2022-11-28T17:56:40.920Z"
   },
   {
    "duration": 36,
    "start_time": "2022-11-28T17:56:40.940Z"
   },
   {
    "duration": 42,
    "start_time": "2022-11-28T17:56:40.977Z"
   },
   {
    "duration": 18,
    "start_time": "2022-11-28T17:56:41.021Z"
   },
   {
    "duration": 12,
    "start_time": "2022-11-28T17:56:41.041Z"
   },
   {
    "duration": 404,
    "start_time": "2022-11-28T17:56:41.054Z"
   },
   {
    "duration": 445,
    "start_time": "2022-11-28T17:56:41.460Z"
   },
   {
    "duration": 20,
    "start_time": "2022-11-28T17:56:41.906Z"
   },
   {
    "duration": 256,
    "start_time": "2022-11-28T17:56:41.931Z"
   },
   {
    "duration": 25,
    "start_time": "2022-11-28T17:56:42.189Z"
   },
   {
    "duration": 154,
    "start_time": "2022-11-28T17:56:42.215Z"
   },
   {
    "duration": 428,
    "start_time": "2022-11-28T17:56:42.370Z"
   },
   {
    "duration": 9,
    "start_time": "2022-11-28T17:56:42.800Z"
   },
   {
    "duration": 46,
    "start_time": "2022-11-28T17:56:42.811Z"
   },
   {
    "duration": 186,
    "start_time": "2022-11-28T17:56:42.859Z"
   },
   {
    "duration": 10,
    "start_time": "2022-11-28T17:56:43.047Z"
   },
   {
    "duration": 57,
    "start_time": "2022-11-28T17:56:43.059Z"
   },
   {
    "duration": 18,
    "start_time": "2022-11-28T17:56:43.117Z"
   },
   {
    "duration": 9,
    "start_time": "2022-11-28T17:56:43.136Z"
   },
   {
    "duration": 61,
    "start_time": "2022-11-28T17:56:43.146Z"
   },
   {
    "duration": 9,
    "start_time": "2022-11-28T17:56:43.209Z"
   },
   {
    "duration": 58,
    "start_time": "2022-11-28T17:56:43.220Z"
   },
   {
    "duration": 5,
    "start_time": "2022-11-28T17:56:43.280Z"
   },
   {
    "duration": 170,
    "start_time": "2022-11-28T17:56:43.287Z"
   },
   {
    "duration": 23,
    "start_time": "2022-11-28T17:56:43.459Z"
   },
   {
    "duration": 7,
    "start_time": "2022-11-28T17:56:43.484Z"
   },
   {
    "duration": 43,
    "start_time": "2022-11-28T17:56:43.493Z"
   },
   {
    "duration": 38,
    "start_time": "2022-11-28T17:56:43.539Z"
   },
   {
    "duration": 14,
    "start_time": "2022-11-28T17:56:43.579Z"
   },
   {
    "duration": 93,
    "start_time": "2022-11-28T17:56:43.595Z"
   },
   {
    "duration": 172,
    "start_time": "2022-11-28T17:56:43.690Z"
   },
   {
    "duration": 59,
    "start_time": "2022-11-28T17:56:43.864Z"
   },
   {
    "duration": 29,
    "start_time": "2022-11-28T17:56:43.925Z"
   },
   {
    "duration": 22,
    "start_time": "2022-11-28T17:56:43.956Z"
   },
   {
    "duration": 5,
    "start_time": "2022-11-28T17:56:43.980Z"
   },
   {
    "duration": 25,
    "start_time": "2022-11-28T17:56:43.986Z"
   },
   {
    "duration": 33,
    "start_time": "2022-11-28T17:56:44.013Z"
   },
   {
    "duration": 31,
    "start_time": "2022-11-28T17:56:44.048Z"
   },
   {
    "duration": 14,
    "start_time": "2022-11-28T17:56:44.081Z"
   },
   {
    "duration": 147,
    "start_time": "2022-11-28T17:56:44.096Z"
   },
   {
    "duration": 13,
    "start_time": "2022-11-28T17:56:44.245Z"
   },
   {
    "duration": 149,
    "start_time": "2022-11-28T17:56:44.259Z"
   },
   {
    "duration": 106,
    "start_time": "2022-11-28T17:56:44.409Z"
   },
   {
    "duration": 7,
    "start_time": "2022-11-28T17:56:44.517Z"
   },
   {
    "duration": 20,
    "start_time": "2022-11-28T17:56:44.525Z"
   },
   {
    "duration": 38,
    "start_time": "2022-11-28T17:56:44.546Z"
   },
   {
    "duration": 4,
    "start_time": "2022-11-28T17:56:44.586Z"
   },
   {
    "duration": 94,
    "start_time": "2022-11-28T17:56:44.591Z"
   },
   {
    "duration": 80,
    "start_time": "2022-11-28T17:56:44.687Z"
   },
   {
    "duration": 67,
    "start_time": "2022-11-28T17:56:44.776Z"
   },
   {
    "duration": 30,
    "start_time": "2022-11-28T17:56:44.846Z"
   },
   {
    "duration": 15,
    "start_time": "2022-11-28T17:56:44.878Z"
   },
   {
    "duration": 489,
    "start_time": "2022-11-28T17:56:44.895Z"
   },
   {
    "duration": 6,
    "start_time": "2022-11-28T18:02:04.096Z"
   },
   {
    "duration": 8,
    "start_time": "2022-11-28T18:02:06.792Z"
   },
   {
    "duration": 1388,
    "start_time": "2022-11-28T18:05:53.993Z"
   },
   {
    "duration": 1052,
    "start_time": "2022-11-28T18:05:55.383Z"
   },
   {
    "duration": 138,
    "start_time": "2022-11-28T18:05:56.437Z"
   },
   {
    "duration": 17,
    "start_time": "2022-11-28T18:05:56.577Z"
   },
   {
    "duration": 99,
    "start_time": "2022-11-28T18:05:56.595Z"
   },
   {
    "duration": 407,
    "start_time": "2022-11-28T18:05:56.696Z"
   },
   {
    "duration": 3,
    "start_time": "2022-11-28T18:05:57.104Z"
   },
   {
    "duration": 8,
    "start_time": "2022-11-28T18:05:57.108Z"
   },
   {
    "duration": 315,
    "start_time": "2022-11-28T18:05:57.118Z"
   },
   {
    "duration": 16,
    "start_time": "2022-11-28T18:05:57.436Z"
   },
   {
    "duration": 56,
    "start_time": "2022-11-28T18:05:57.454Z"
   },
   {
    "duration": 32,
    "start_time": "2022-11-28T18:05:57.512Z"
   },
   {
    "duration": 31,
    "start_time": "2022-11-28T18:05:57.546Z"
   },
   {
    "duration": 33,
    "start_time": "2022-11-28T18:05:57.579Z"
   },
   {
    "duration": 22,
    "start_time": "2022-11-28T18:05:57.614Z"
   },
   {
    "duration": 46,
    "start_time": "2022-11-28T18:05:57.638Z"
   },
   {
    "duration": 20,
    "start_time": "2022-11-28T18:05:57.685Z"
   },
   {
    "duration": 21,
    "start_time": "2022-11-28T18:05:57.706Z"
   },
   {
    "duration": 54,
    "start_time": "2022-11-28T18:05:57.729Z"
   },
   {
    "duration": 21,
    "start_time": "2022-11-28T18:05:57.784Z"
   },
   {
    "duration": 19,
    "start_time": "2022-11-28T18:05:57.807Z"
   },
   {
    "duration": 67,
    "start_time": "2022-11-28T18:05:57.827Z"
   },
   {
    "duration": 18,
    "start_time": "2022-11-28T18:05:57.896Z"
   },
   {
    "duration": 14,
    "start_time": "2022-11-28T18:05:57.915Z"
   },
   {
    "duration": 418,
    "start_time": "2022-11-28T18:05:57.930Z"
   },
   {
    "duration": 429,
    "start_time": "2022-11-28T18:05:58.350Z"
   },
   {
    "duration": 20,
    "start_time": "2022-11-28T18:05:58.781Z"
   },
   {
    "duration": 299,
    "start_time": "2022-11-28T18:05:58.806Z"
   },
   {
    "duration": 26,
    "start_time": "2022-11-28T18:05:59.107Z"
   },
   {
    "duration": 146,
    "start_time": "2022-11-28T18:05:59.134Z"
   },
   {
    "duration": 404,
    "start_time": "2022-11-28T18:05:59.282Z"
   },
   {
    "duration": 10,
    "start_time": "2022-11-28T18:05:59.687Z"
   },
   {
    "duration": 42,
    "start_time": "2022-11-28T18:05:59.698Z"
   },
   {
    "duration": 160,
    "start_time": "2022-11-28T18:05:59.742Z"
   },
   {
    "duration": 9,
    "start_time": "2022-11-28T18:05:59.904Z"
   },
   {
    "duration": 41,
    "start_time": "2022-11-28T18:05:59.915Z"
   },
   {
    "duration": 16,
    "start_time": "2022-11-28T18:05:59.976Z"
   },
   {
    "duration": 8,
    "start_time": "2022-11-28T18:05:59.994Z"
   },
   {
    "duration": 40,
    "start_time": "2022-11-28T18:06:00.003Z"
   },
   {
    "duration": 34,
    "start_time": "2022-11-28T18:06:00.045Z"
   },
   {
    "duration": 41,
    "start_time": "2022-11-28T18:06:00.081Z"
   },
   {
    "duration": 6,
    "start_time": "2022-11-28T18:06:00.124Z"
   },
   {
    "duration": 208,
    "start_time": "2022-11-28T18:06:00.132Z"
   },
   {
    "duration": 17,
    "start_time": "2022-11-28T18:06:00.341Z"
   },
   {
    "duration": 23,
    "start_time": "2022-11-28T18:06:00.360Z"
   },
   {
    "duration": 110,
    "start_time": "2022-11-28T18:06:00.384Z"
   },
   {
    "duration": 63,
    "start_time": "2022-11-28T18:06:00.496Z"
   },
   {
    "duration": 32,
    "start_time": "2022-11-28T18:06:00.561Z"
   },
   {
    "duration": 101,
    "start_time": "2022-11-28T18:06:00.596Z"
   },
   {
    "duration": 187,
    "start_time": "2022-11-28T18:06:00.699Z"
   },
   {
    "duration": 59,
    "start_time": "2022-11-28T18:06:00.888Z"
   },
   {
    "duration": 41,
    "start_time": "2022-11-28T18:06:00.948Z"
   },
   {
    "duration": 8,
    "start_time": "2022-11-28T18:06:00.991Z"
   },
   {
    "duration": 16,
    "start_time": "2022-11-28T18:06:01.001Z"
   },
   {
    "duration": 27,
    "start_time": "2022-11-28T18:06:01.018Z"
   },
   {
    "duration": 73,
    "start_time": "2022-11-28T18:06:01.047Z"
   },
   {
    "duration": 16,
    "start_time": "2022-11-28T18:06:01.121Z"
   },
   {
    "duration": 34,
    "start_time": "2022-11-28T18:06:01.138Z"
   },
   {
    "duration": 163,
    "start_time": "2022-11-28T18:06:01.174Z"
   },
   {
    "duration": 12,
    "start_time": "2022-11-28T18:06:01.339Z"
   },
   {
    "duration": 167,
    "start_time": "2022-11-28T18:06:01.352Z"
   },
   {
    "duration": 115,
    "start_time": "2022-11-28T18:06:01.521Z"
   },
   {
    "duration": 5,
    "start_time": "2022-11-28T18:06:01.638Z"
   },
   {
    "duration": 39,
    "start_time": "2022-11-28T18:06:01.644Z"
   },
   {
    "duration": 79,
    "start_time": "2022-11-28T18:06:01.685Z"
   },
   {
    "duration": 21,
    "start_time": "2022-11-28T18:06:01.765Z"
   },
   {
    "duration": 104,
    "start_time": "2022-11-28T18:06:01.787Z"
   },
   {
    "duration": 86,
    "start_time": "2022-11-28T18:06:01.892Z"
   },
   {
    "duration": 69,
    "start_time": "2022-11-28T18:06:01.980Z"
   },
   {
    "duration": 4,
    "start_time": "2022-11-28T18:06:02.051Z"
   },
   {
    "duration": 38,
    "start_time": "2022-11-28T18:06:02.057Z"
   },
   {
    "duration": 1267,
    "start_time": "2022-11-28T18:07:31.119Z"
   },
   {
    "duration": 945,
    "start_time": "2022-11-28T18:07:32.387Z"
   },
   {
    "duration": 145,
    "start_time": "2022-11-28T18:07:33.334Z"
   },
   {
    "duration": 43,
    "start_time": "2022-11-28T18:07:33.480Z"
   },
   {
    "duration": 172,
    "start_time": "2022-11-28T18:07:33.526Z"
   },
   {
    "duration": 444,
    "start_time": "2022-11-28T18:07:33.700Z"
   },
   {
    "duration": 4,
    "start_time": "2022-11-28T18:07:34.145Z"
   },
   {
    "duration": 8,
    "start_time": "2022-11-28T18:07:34.150Z"
   },
   {
    "duration": 306,
    "start_time": "2022-11-28T18:07:34.159Z"
   },
   {
    "duration": 22,
    "start_time": "2022-11-28T18:07:34.467Z"
   },
   {
    "duration": 52,
    "start_time": "2022-11-28T18:07:34.492Z"
   },
   {
    "duration": 30,
    "start_time": "2022-11-28T18:07:34.546Z"
   },
   {
    "duration": 16,
    "start_time": "2022-11-28T18:07:34.578Z"
   },
   {
    "duration": 56,
    "start_time": "2022-11-28T18:07:34.597Z"
   },
   {
    "duration": 16,
    "start_time": "2022-11-28T18:07:34.655Z"
   },
   {
    "duration": 43,
    "start_time": "2022-11-28T18:07:34.672Z"
   },
   {
    "duration": 18,
    "start_time": "2022-11-28T18:07:34.717Z"
   },
   {
    "duration": 38,
    "start_time": "2022-11-28T18:07:34.737Z"
   },
   {
    "duration": 55,
    "start_time": "2022-11-28T18:07:34.777Z"
   },
   {
    "duration": 24,
    "start_time": "2022-11-28T18:07:34.834Z"
   },
   {
    "duration": 32,
    "start_time": "2022-11-28T18:07:34.860Z"
   },
   {
    "duration": 57,
    "start_time": "2022-11-28T18:07:34.893Z"
   },
   {
    "duration": 30,
    "start_time": "2022-11-28T18:07:34.952Z"
   },
   {
    "duration": 16,
    "start_time": "2022-11-28T18:07:34.984Z"
   },
   {
    "duration": 388,
    "start_time": "2022-11-28T18:07:35.001Z"
   },
   {
    "duration": 441,
    "start_time": "2022-11-28T18:07:35.391Z"
   },
   {
    "duration": 21,
    "start_time": "2022-11-28T18:07:35.833Z"
   },
   {
    "duration": 274,
    "start_time": "2022-11-28T18:07:35.856Z"
   },
   {
    "duration": 23,
    "start_time": "2022-11-28T18:07:36.134Z"
   },
   {
    "duration": 197,
    "start_time": "2022-11-28T18:07:36.158Z"
   },
   {
    "duration": 399,
    "start_time": "2022-11-28T18:07:36.356Z"
   },
   {
    "duration": 20,
    "start_time": "2022-11-28T18:07:36.757Z"
   },
   {
    "duration": 49,
    "start_time": "2022-11-28T18:07:36.779Z"
   },
   {
    "duration": 175,
    "start_time": "2022-11-28T18:07:36.829Z"
   },
   {
    "duration": 22,
    "start_time": "2022-11-28T18:07:37.007Z"
   },
   {
    "duration": 54,
    "start_time": "2022-11-28T18:07:37.031Z"
   },
   {
    "duration": 17,
    "start_time": "2022-11-28T18:07:37.087Z"
   },
   {
    "duration": 8,
    "start_time": "2022-11-28T18:07:37.106Z"
   },
   {
    "duration": 38,
    "start_time": "2022-11-28T18:07:37.116Z"
   },
   {
    "duration": 29,
    "start_time": "2022-11-28T18:07:37.155Z"
   },
   {
    "duration": 79,
    "start_time": "2022-11-28T18:07:37.188Z"
   },
   {
    "duration": 4,
    "start_time": "2022-11-28T18:07:37.269Z"
   },
   {
    "duration": 181,
    "start_time": "2022-11-28T18:07:37.275Z"
   },
   {
    "duration": 24,
    "start_time": "2022-11-28T18:07:37.458Z"
   },
   {
    "duration": 10,
    "start_time": "2022-11-28T18:07:37.484Z"
   },
   {
    "duration": 54,
    "start_time": "2022-11-28T18:07:37.496Z"
   },
   {
    "duration": 28,
    "start_time": "2022-11-28T18:07:37.552Z"
   },
   {
    "duration": 14,
    "start_time": "2022-11-28T18:07:37.581Z"
   },
   {
    "duration": 102,
    "start_time": "2022-11-28T18:07:37.597Z"
   },
   {
    "duration": 185,
    "start_time": "2022-11-28T18:07:37.701Z"
   },
   {
    "duration": 60,
    "start_time": "2022-11-28T18:07:37.888Z"
   },
   {
    "duration": 43,
    "start_time": "2022-11-28T18:07:37.950Z"
   },
   {
    "duration": 8,
    "start_time": "2022-11-28T18:07:37.994Z"
   },
   {
    "duration": 7,
    "start_time": "2022-11-28T18:07:38.004Z"
   },
   {
    "duration": 21,
    "start_time": "2022-11-28T18:07:38.012Z"
   },
   {
    "duration": 64,
    "start_time": "2022-11-28T18:07:38.035Z"
   },
   {
    "duration": 17,
    "start_time": "2022-11-28T18:07:38.100Z"
   },
   {
    "duration": 17,
    "start_time": "2022-11-28T18:07:38.119Z"
   },
   {
    "duration": 167,
    "start_time": "2022-11-28T18:07:38.138Z"
   },
   {
    "duration": 13,
    "start_time": "2022-11-28T18:07:38.307Z"
   },
   {
    "duration": 168,
    "start_time": "2022-11-28T18:07:38.322Z"
   },
   {
    "duration": 123,
    "start_time": "2022-11-28T18:07:38.491Z"
   },
   {
    "duration": 5,
    "start_time": "2022-11-28T18:07:38.616Z"
   },
   {
    "duration": 23,
    "start_time": "2022-11-28T18:07:38.622Z"
   },
   {
    "duration": 40,
    "start_time": "2022-11-28T18:07:38.646Z"
   },
   {
    "duration": 11,
    "start_time": "2022-11-28T18:07:38.687Z"
   },
   {
    "duration": 85,
    "start_time": "2022-11-28T18:07:38.700Z"
   },
   {
    "duration": 80,
    "start_time": "2022-11-28T18:07:38.787Z"
   },
   {
    "duration": 10,
    "start_time": "2022-11-28T18:07:38.876Z"
   },
   {
    "duration": 25,
    "start_time": "2022-11-28T18:07:38.887Z"
   },
   {
    "duration": 12,
    "start_time": "2022-11-28T18:07:38.913Z"
   },
   {
    "duration": 286,
    "start_time": "2022-11-28T18:07:38.927Z"
   },
   {
    "duration": 57,
    "start_time": "2022-11-28T18:09:21.172Z"
   },
   {
    "duration": 4,
    "start_time": "2022-11-28T18:09:48.053Z"
   },
   {
    "duration": 62,
    "start_time": "2022-11-28T18:10:25.413Z"
   },
   {
    "duration": 13,
    "start_time": "2022-11-28T18:11:18.019Z"
   },
   {
    "duration": 5,
    "start_time": "2022-11-28T18:11:34.998Z"
   },
   {
    "duration": 4,
    "start_time": "2022-11-28T18:13:09.193Z"
   },
   {
    "duration": 805,
    "start_time": "2022-11-28T18:13:09.199Z"
   },
   {
    "duration": 117,
    "start_time": "2022-11-28T18:13:10.006Z"
   },
   {
    "duration": 11,
    "start_time": "2022-11-28T18:13:10.125Z"
   },
   {
    "duration": 119,
    "start_time": "2022-11-28T18:13:10.138Z"
   },
   {
    "duration": 362,
    "start_time": "2022-11-28T18:13:10.259Z"
   },
   {
    "duration": 3,
    "start_time": "2022-11-28T18:13:10.623Z"
   },
   {
    "duration": 14,
    "start_time": "2022-11-28T18:13:10.627Z"
   },
   {
    "duration": 274,
    "start_time": "2022-11-28T18:13:10.642Z"
   },
   {
    "duration": 19,
    "start_time": "2022-11-28T18:13:10.918Z"
   },
   {
    "duration": 54,
    "start_time": "2022-11-28T18:13:10.939Z"
   },
   {
    "duration": 20,
    "start_time": "2022-11-28T18:13:10.995Z"
   },
   {
    "duration": 17,
    "start_time": "2022-11-28T18:13:11.019Z"
   },
   {
    "duration": 45,
    "start_time": "2022-11-28T18:13:11.038Z"
   },
   {
    "duration": 18,
    "start_time": "2022-11-28T18:13:11.084Z"
   },
   {
    "duration": 44,
    "start_time": "2022-11-28T18:13:11.104Z"
   },
   {
    "duration": 36,
    "start_time": "2022-11-28T18:13:11.150Z"
   },
   {
    "duration": 18,
    "start_time": "2022-11-28T18:13:11.188Z"
   },
   {
    "duration": 43,
    "start_time": "2022-11-28T18:13:11.208Z"
   },
   {
    "duration": 40,
    "start_time": "2022-11-28T18:13:11.253Z"
   },
   {
    "duration": 17,
    "start_time": "2022-11-28T18:13:11.295Z"
   },
   {
    "duration": 44,
    "start_time": "2022-11-28T18:13:11.314Z"
   },
   {
    "duration": 31,
    "start_time": "2022-11-28T18:13:11.360Z"
   },
   {
    "duration": 16,
    "start_time": "2022-11-28T18:13:11.392Z"
   },
   {
    "duration": 355,
    "start_time": "2022-11-28T18:13:11.410Z"
   },
   {
    "duration": 387,
    "start_time": "2022-11-28T18:13:11.767Z"
   },
   {
    "duration": 25,
    "start_time": "2022-11-28T18:13:12.156Z"
   },
   {
    "duration": 208,
    "start_time": "2022-11-28T18:13:12.183Z"
   },
   {
    "duration": 27,
    "start_time": "2022-11-28T18:13:12.393Z"
   },
   {
    "duration": 155,
    "start_time": "2022-11-28T18:13:12.422Z"
   },
   {
    "duration": 418,
    "start_time": "2022-11-28T18:13:12.579Z"
   },
   {
    "duration": 10,
    "start_time": "2022-11-28T18:13:13.000Z"
   },
   {
    "duration": 41,
    "start_time": "2022-11-28T18:13:13.012Z"
   },
   {
    "duration": 182,
    "start_time": "2022-11-28T18:13:13.055Z"
   },
   {
    "duration": 9,
    "start_time": "2022-11-28T18:13:13.239Z"
   },
   {
    "duration": 54,
    "start_time": "2022-11-28T18:13:13.250Z"
   },
   {
    "duration": 16,
    "start_time": "2022-11-28T18:13:13.308Z"
   },
   {
    "duration": 6,
    "start_time": "2022-11-28T18:13:13.326Z"
   },
   {
    "duration": 45,
    "start_time": "2022-11-28T18:13:13.334Z"
   },
   {
    "duration": 9,
    "start_time": "2022-11-28T18:13:13.380Z"
   },
   {
    "duration": 45,
    "start_time": "2022-11-28T18:13:13.391Z"
   },
   {
    "duration": 4,
    "start_time": "2022-11-28T18:13:13.437Z"
   },
   {
    "duration": 215,
    "start_time": "2022-11-28T18:13:13.443Z"
   },
   {
    "duration": 22,
    "start_time": "2022-11-28T18:13:13.660Z"
   },
   {
    "duration": 8,
    "start_time": "2022-11-28T18:13:13.684Z"
   },
   {
    "duration": 45,
    "start_time": "2022-11-28T18:13:13.694Z"
   },
   {
    "duration": 37,
    "start_time": "2022-11-28T18:13:13.741Z"
   },
   {
    "duration": 16,
    "start_time": "2022-11-28T18:13:13.780Z"
   },
   {
    "duration": 110,
    "start_time": "2022-11-28T18:13:13.798Z"
   },
   {
    "duration": 118,
    "start_time": "2022-11-28T18:13:13.910Z"
   },
   {
    "duration": 74,
    "start_time": "2022-11-28T18:13:14.029Z"
   },
   {
    "duration": 31,
    "start_time": "2022-11-28T18:13:14.105Z"
   },
   {
    "duration": 8,
    "start_time": "2022-11-28T18:13:14.138Z"
   },
   {
    "duration": 30,
    "start_time": "2022-11-28T18:13:14.149Z"
   },
   {
    "duration": 22,
    "start_time": "2022-11-28T18:13:14.181Z"
   },
   {
    "duration": 34,
    "start_time": "2022-11-28T18:13:14.205Z"
   },
   {
    "duration": 37,
    "start_time": "2022-11-28T18:13:14.241Z"
   },
   {
    "duration": 17,
    "start_time": "2022-11-28T18:13:14.279Z"
   },
   {
    "duration": 215,
    "start_time": "2022-11-28T18:13:14.298Z"
   },
   {
    "duration": 15,
    "start_time": "2022-11-28T18:13:14.515Z"
   },
   {
    "duration": 184,
    "start_time": "2022-11-28T18:13:14.532Z"
   },
   {
    "duration": 150,
    "start_time": "2022-11-28T18:13:14.718Z"
   },
   {
    "duration": 7,
    "start_time": "2022-11-28T18:13:14.870Z"
   },
   {
    "duration": 40,
    "start_time": "2022-11-28T18:13:14.879Z"
   },
   {
    "duration": 29,
    "start_time": "2022-11-28T18:13:14.921Z"
   },
   {
    "duration": 14,
    "start_time": "2022-11-28T18:13:14.953Z"
   },
   {
    "duration": 92,
    "start_time": "2022-11-28T18:13:14.970Z"
   },
   {
    "duration": 97,
    "start_time": "2022-11-28T18:13:15.064Z"
   },
   {
    "duration": 15,
    "start_time": "2022-11-28T18:13:15.162Z"
   },
   {
    "duration": 21,
    "start_time": "2022-11-28T18:13:15.179Z"
   },
   {
    "duration": 16,
    "start_time": "2022-11-28T18:13:15.203Z"
   },
   {
    "duration": 21,
    "start_time": "2022-11-28T18:13:15.220Z"
   },
   {
    "duration": 54,
    "start_time": "2022-11-28T18:13:15.243Z"
   },
   {
    "duration": 6,
    "start_time": "2022-11-28T18:13:15.299Z"
   },
   {
    "duration": 63,
    "start_time": "2022-11-28T18:14:43.558Z"
   },
   {
    "duration": 55,
    "start_time": "2022-11-28T18:14:56.732Z"
   },
   {
    "duration": 6,
    "start_time": "2022-11-28T18:15:15.470Z"
   },
   {
    "duration": 47,
    "start_time": "2022-11-28T18:15:28.532Z"
   },
   {
    "duration": 4,
    "start_time": "2022-11-28T18:16:08.865Z"
   },
   {
    "duration": 50,
    "start_time": "2022-11-28T18:16:19.755Z"
   },
   {
    "duration": 5,
    "start_time": "2022-11-28T18:16:23.676Z"
   },
   {
    "duration": 5,
    "start_time": "2022-11-28T18:17:04.337Z"
   },
   {
    "duration": 811,
    "start_time": "2022-11-28T18:17:04.344Z"
   },
   {
    "duration": 162,
    "start_time": "2022-11-28T18:17:05.157Z"
   },
   {
    "duration": 16,
    "start_time": "2022-11-28T18:17:05.321Z"
   },
   {
    "duration": 112,
    "start_time": "2022-11-28T18:17:05.340Z"
   },
   {
    "duration": 448,
    "start_time": "2022-11-28T18:17:05.454Z"
   },
   {
    "duration": 3,
    "start_time": "2022-11-28T18:17:05.904Z"
   },
   {
    "duration": 19,
    "start_time": "2022-11-28T18:17:05.908Z"
   },
   {
    "duration": 287,
    "start_time": "2022-11-28T18:17:05.928Z"
   },
   {
    "duration": 18,
    "start_time": "2022-11-28T18:17:06.216Z"
   },
   {
    "duration": 54,
    "start_time": "2022-11-28T18:17:06.235Z"
   },
   {
    "duration": 21,
    "start_time": "2022-11-28T18:17:06.290Z"
   },
   {
    "duration": 24,
    "start_time": "2022-11-28T18:17:06.312Z"
   },
   {
    "duration": 28,
    "start_time": "2022-11-28T18:17:06.339Z"
   },
   {
    "duration": 25,
    "start_time": "2022-11-28T18:17:06.369Z"
   },
   {
    "duration": 50,
    "start_time": "2022-11-28T18:17:06.396Z"
   },
   {
    "duration": 23,
    "start_time": "2022-11-28T18:17:06.447Z"
   },
   {
    "duration": 19,
    "start_time": "2022-11-28T18:17:06.476Z"
   },
   {
    "duration": 46,
    "start_time": "2022-11-28T18:17:06.496Z"
   },
   {
    "duration": 39,
    "start_time": "2022-11-28T18:17:06.544Z"
   },
   {
    "duration": 19,
    "start_time": "2022-11-28T18:17:06.585Z"
   },
   {
    "duration": 51,
    "start_time": "2022-11-28T18:17:06.606Z"
   },
   {
    "duration": 36,
    "start_time": "2022-11-28T18:17:06.658Z"
   },
   {
    "duration": 20,
    "start_time": "2022-11-28T18:17:06.696Z"
   },
   {
    "duration": 424,
    "start_time": "2022-11-28T18:17:06.718Z"
   },
   {
    "duration": 416,
    "start_time": "2022-11-28T18:17:07.143Z"
   },
   {
    "duration": 26,
    "start_time": "2022-11-28T18:17:07.561Z"
   },
   {
    "duration": 250,
    "start_time": "2022-11-28T18:17:07.588Z"
   },
   {
    "duration": 36,
    "start_time": "2022-11-28T18:17:07.840Z"
   },
   {
    "duration": 150,
    "start_time": "2022-11-28T18:17:07.878Z"
   },
   {
    "duration": 446,
    "start_time": "2022-11-28T18:17:08.030Z"
   },
   {
    "duration": 10,
    "start_time": "2022-11-28T18:17:08.478Z"
   },
   {
    "duration": 63,
    "start_time": "2022-11-28T18:17:08.489Z"
   },
   {
    "duration": 152,
    "start_time": "2022-11-28T18:17:08.554Z"
   },
   {
    "duration": 9,
    "start_time": "2022-11-28T18:17:08.708Z"
   },
   {
    "duration": 57,
    "start_time": "2022-11-28T18:17:08.719Z"
   },
   {
    "duration": 15,
    "start_time": "2022-11-28T18:17:08.778Z"
   },
   {
    "duration": 7,
    "start_time": "2022-11-28T18:17:08.795Z"
   },
   {
    "duration": 54,
    "start_time": "2022-11-28T18:17:08.804Z"
   },
   {
    "duration": 20,
    "start_time": "2022-11-28T18:17:08.861Z"
   },
   {
    "duration": 37,
    "start_time": "2022-11-28T18:17:08.886Z"
   },
   {
    "duration": 5,
    "start_time": "2022-11-28T18:17:08.925Z"
   },
   {
    "duration": 290,
    "start_time": "2022-11-28T18:17:08.931Z"
   },
   {
    "duration": 18,
    "start_time": "2022-11-28T18:17:09.223Z"
   },
   {
    "duration": 8,
    "start_time": "2022-11-28T18:17:09.242Z"
   },
   {
    "duration": 60,
    "start_time": "2022-11-28T18:17:09.252Z"
   },
   {
    "duration": 16,
    "start_time": "2022-11-28T18:17:09.313Z"
   },
   {
    "duration": 14,
    "start_time": "2022-11-28T18:17:09.331Z"
   },
   {
    "duration": 106,
    "start_time": "2022-11-28T18:17:09.347Z"
   },
   {
    "duration": 118,
    "start_time": "2022-11-28T18:17:09.455Z"
   },
   {
    "duration": 60,
    "start_time": "2022-11-28T18:17:09.577Z"
   },
   {
    "duration": 38,
    "start_time": "2022-11-28T18:17:09.639Z"
   },
   {
    "duration": 10,
    "start_time": "2022-11-28T18:17:09.679Z"
   },
   {
    "duration": 5,
    "start_time": "2022-11-28T18:17:09.691Z"
   },
   {
    "duration": 26,
    "start_time": "2022-11-28T18:17:09.698Z"
   },
   {
    "duration": 62,
    "start_time": "2022-11-28T18:17:09.725Z"
   },
   {
    "duration": 15,
    "start_time": "2022-11-28T18:17:09.788Z"
   },
   {
    "duration": 12,
    "start_time": "2022-11-28T18:17:09.805Z"
   },
   {
    "duration": 164,
    "start_time": "2022-11-28T18:17:09.819Z"
   },
   {
    "duration": 12,
    "start_time": "2022-11-28T18:17:09.985Z"
   },
   {
    "duration": 161,
    "start_time": "2022-11-28T18:17:09.999Z"
   },
   {
    "duration": 115,
    "start_time": "2022-11-28T18:17:10.161Z"
   },
   {
    "duration": 6,
    "start_time": "2022-11-28T18:17:10.277Z"
   },
   {
    "duration": 43,
    "start_time": "2022-11-28T18:17:10.284Z"
   },
   {
    "duration": 17,
    "start_time": "2022-11-28T18:17:10.329Z"
   },
   {
    "duration": 2,
    "start_time": "2022-11-28T18:17:10.348Z"
   },
   {
    "duration": 73,
    "start_time": "2022-11-28T18:17:10.352Z"
   },
   {
    "duration": 92,
    "start_time": "2022-11-28T18:17:10.426Z"
   },
   {
    "duration": 2,
    "start_time": "2022-11-28T18:17:10.520Z"
   },
   {
    "duration": 25,
    "start_time": "2022-11-28T18:17:10.523Z"
   },
   {
    "duration": 13,
    "start_time": "2022-11-28T18:17:10.550Z"
   },
   {
    "duration": 13,
    "start_time": "2022-11-28T18:17:42.943Z"
   },
   {
    "duration": 855,
    "start_time": "2022-11-28T18:18:16.512Z"
   },
   {
    "duration": 3,
    "start_time": "2022-11-28T18:23:14.708Z"
   },
   {
    "duration": 10,
    "start_time": "2022-11-28T18:23:21.342Z"
   },
   {
    "duration": 8,
    "start_time": "2022-11-28T18:23:43.197Z"
   },
   {
    "duration": 9,
    "start_time": "2022-11-28T18:23:51.148Z"
   },
   {
    "duration": 9,
    "start_time": "2022-11-28T18:26:47.117Z"
   },
   {
    "duration": 8,
    "start_time": "2022-11-28T18:26:54.467Z"
   },
   {
    "duration": 9,
    "start_time": "2022-11-28T18:28:08.919Z"
   },
   {
    "duration": 9,
    "start_time": "2022-11-28T18:29:51.452Z"
   },
   {
    "duration": 18,
    "start_time": "2022-11-28T18:30:53.491Z"
   },
   {
    "duration": 12,
    "start_time": "2022-11-28T18:30:54.655Z"
   },
   {
    "duration": 5,
    "start_time": "2022-11-28T18:30:55.399Z"
   },
   {
    "duration": 4,
    "start_time": "2022-11-28T18:33:22.743Z"
   },
   {
    "duration": 108,
    "start_time": "2022-11-28T18:34:24.307Z"
   },
   {
    "duration": 9,
    "start_time": "2022-11-28T18:36:34.308Z"
   },
   {
    "duration": 5,
    "start_time": "2022-11-28T18:36:42.100Z"
   },
   {
    "duration": 4,
    "start_time": "2022-11-28T18:41:58.426Z"
   },
   {
    "duration": 6,
    "start_time": "2022-11-28T18:42:05.117Z"
   },
   {
    "duration": 3,
    "start_time": "2022-11-28T18:42:31.859Z"
   },
   {
    "duration": 4,
    "start_time": "2022-11-28T18:42:32.652Z"
   },
   {
    "duration": 3,
    "start_time": "2022-11-28T18:43:21.104Z"
   },
   {
    "duration": 4,
    "start_time": "2022-11-28T18:43:21.781Z"
   },
   {
    "duration": 4,
    "start_time": "2022-11-28T18:44:10.841Z"
   },
   {
    "duration": 798,
    "start_time": "2022-11-28T18:44:10.904Z"
   },
   {
    "duration": 146,
    "start_time": "2022-11-28T18:44:11.704Z"
   },
   {
    "duration": 25,
    "start_time": "2022-11-28T18:44:11.852Z"
   },
   {
    "duration": 105,
    "start_time": "2022-11-28T18:44:11.879Z"
   },
   {
    "duration": 396,
    "start_time": "2022-11-28T18:44:11.987Z"
   },
   {
    "duration": 3,
    "start_time": "2022-11-28T18:44:12.385Z"
   },
   {
    "duration": 8,
    "start_time": "2022-11-28T18:44:12.389Z"
   },
   {
    "duration": 298,
    "start_time": "2022-11-28T18:44:12.399Z"
   },
   {
    "duration": 20,
    "start_time": "2022-11-28T18:44:12.699Z"
   },
   {
    "duration": 78,
    "start_time": "2022-11-28T18:44:12.721Z"
   },
   {
    "duration": 22,
    "start_time": "2022-11-28T18:44:12.801Z"
   },
   {
    "duration": 27,
    "start_time": "2022-11-28T18:44:12.825Z"
   },
   {
    "duration": 64,
    "start_time": "2022-11-28T18:44:12.854Z"
   },
   {
    "duration": 26,
    "start_time": "2022-11-28T18:44:12.922Z"
   },
   {
    "duration": 62,
    "start_time": "2022-11-28T18:44:12.950Z"
   },
   {
    "duration": 22,
    "start_time": "2022-11-28T18:44:13.013Z"
   },
   {
    "duration": 20,
    "start_time": "2022-11-28T18:44:13.037Z"
   },
   {
    "duration": 57,
    "start_time": "2022-11-28T18:44:13.059Z"
   },
   {
    "duration": 19,
    "start_time": "2022-11-28T18:44:13.118Z"
   },
   {
    "duration": 36,
    "start_time": "2022-11-28T18:44:13.139Z"
   },
   {
    "duration": 45,
    "start_time": "2022-11-28T18:44:13.177Z"
   },
   {
    "duration": 23,
    "start_time": "2022-11-28T18:44:13.224Z"
   },
   {
    "duration": 38,
    "start_time": "2022-11-28T18:44:13.249Z"
   },
   {
    "duration": 379,
    "start_time": "2022-11-28T18:44:13.289Z"
   },
   {
    "duration": 436,
    "start_time": "2022-11-28T18:44:13.670Z"
   },
   {
    "duration": 18,
    "start_time": "2022-11-28T18:44:14.108Z"
   },
   {
    "duration": 251,
    "start_time": "2022-11-28T18:44:14.128Z"
   },
   {
    "duration": 25,
    "start_time": "2022-11-28T18:44:14.381Z"
   },
   {
    "duration": 153,
    "start_time": "2022-11-28T18:44:14.408Z"
   },
   {
    "duration": 497,
    "start_time": "2022-11-28T18:44:14.562Z"
   },
   {
    "duration": 0,
    "start_time": "2022-11-28T18:44:15.063Z"
   },
   {
    "duration": 0,
    "start_time": "2022-11-28T18:44:15.065Z"
   },
   {
    "duration": 0,
    "start_time": "2022-11-28T18:44:15.066Z"
   },
   {
    "duration": 0,
    "start_time": "2022-11-28T18:44:15.067Z"
   },
   {
    "duration": 0,
    "start_time": "2022-11-28T18:44:15.076Z"
   },
   {
    "duration": 0,
    "start_time": "2022-11-28T18:44:15.078Z"
   },
   {
    "duration": 0,
    "start_time": "2022-11-28T18:44:15.079Z"
   },
   {
    "duration": 0,
    "start_time": "2022-11-28T18:44:15.080Z"
   },
   {
    "duration": 0,
    "start_time": "2022-11-28T18:44:15.082Z"
   },
   {
    "duration": 0,
    "start_time": "2022-11-28T18:44:15.083Z"
   },
   {
    "duration": 0,
    "start_time": "2022-11-28T18:44:15.085Z"
   },
   {
    "duration": 0,
    "start_time": "2022-11-28T18:44:15.086Z"
   },
   {
    "duration": 0,
    "start_time": "2022-11-28T18:44:15.088Z"
   },
   {
    "duration": 0,
    "start_time": "2022-11-28T18:44:15.089Z"
   },
   {
    "duration": 0,
    "start_time": "2022-11-28T18:44:15.091Z"
   },
   {
    "duration": 0,
    "start_time": "2022-11-28T18:44:15.092Z"
   },
   {
    "duration": 0,
    "start_time": "2022-11-28T18:44:15.093Z"
   },
   {
    "duration": 0,
    "start_time": "2022-11-28T18:44:15.094Z"
   },
   {
    "duration": 0,
    "start_time": "2022-11-28T18:44:15.095Z"
   },
   {
    "duration": 0,
    "start_time": "2022-11-28T18:44:15.097Z"
   },
   {
    "duration": 0,
    "start_time": "2022-11-28T18:44:15.098Z"
   },
   {
    "duration": 0,
    "start_time": "2022-11-28T18:44:15.100Z"
   },
   {
    "duration": 0,
    "start_time": "2022-11-28T18:44:15.101Z"
   },
   {
    "duration": 0,
    "start_time": "2022-11-28T18:44:15.102Z"
   },
   {
    "duration": 1,
    "start_time": "2022-11-28T18:44:15.105Z"
   },
   {
    "duration": 0,
    "start_time": "2022-11-28T18:44:15.107Z"
   },
   {
    "duration": 0,
    "start_time": "2022-11-28T18:44:15.109Z"
   },
   {
    "duration": 0,
    "start_time": "2022-11-28T18:44:15.111Z"
   },
   {
    "duration": 0,
    "start_time": "2022-11-28T18:44:15.112Z"
   },
   {
    "duration": 0,
    "start_time": "2022-11-28T18:44:15.113Z"
   },
   {
    "duration": 0,
    "start_time": "2022-11-28T18:44:15.114Z"
   },
   {
    "duration": 0,
    "start_time": "2022-11-28T18:44:15.176Z"
   },
   {
    "duration": 0,
    "start_time": "2022-11-28T18:44:15.177Z"
   },
   {
    "duration": 0,
    "start_time": "2022-11-28T18:44:15.178Z"
   },
   {
    "duration": 0,
    "start_time": "2022-11-28T18:44:15.179Z"
   },
   {
    "duration": 0,
    "start_time": "2022-11-28T18:44:15.180Z"
   },
   {
    "duration": 0,
    "start_time": "2022-11-28T18:44:15.181Z"
   },
   {
    "duration": 0,
    "start_time": "2022-11-28T18:44:15.182Z"
   },
   {
    "duration": 0,
    "start_time": "2022-11-28T18:44:15.184Z"
   },
   {
    "duration": 0,
    "start_time": "2022-11-28T18:44:15.185Z"
   },
   {
    "duration": 0,
    "start_time": "2022-11-28T18:44:15.186Z"
   },
   {
    "duration": 0,
    "start_time": "2022-11-28T18:44:15.188Z"
   },
   {
    "duration": 4,
    "start_time": "2022-11-28T18:44:37.300Z"
   },
   {
    "duration": 764,
    "start_time": "2022-11-28T18:44:37.306Z"
   },
   {
    "duration": 140,
    "start_time": "2022-11-28T18:44:38.075Z"
   },
   {
    "duration": 13,
    "start_time": "2022-11-28T18:44:38.217Z"
   },
   {
    "duration": 111,
    "start_time": "2022-11-28T18:44:38.232Z"
   },
   {
    "duration": 490,
    "start_time": "2022-11-28T18:44:38.344Z"
   },
   {
    "duration": 3,
    "start_time": "2022-11-28T18:44:38.836Z"
   },
   {
    "duration": 9,
    "start_time": "2022-11-28T18:44:38.841Z"
   },
   {
    "duration": 302,
    "start_time": "2022-11-28T18:44:38.852Z"
   },
   {
    "duration": 24,
    "start_time": "2022-11-28T18:44:39.156Z"
   },
   {
    "duration": 41,
    "start_time": "2022-11-28T18:44:39.183Z"
   },
   {
    "duration": 20,
    "start_time": "2022-11-28T18:44:39.225Z"
   },
   {
    "duration": 49,
    "start_time": "2022-11-28T18:44:39.247Z"
   },
   {
    "duration": 27,
    "start_time": "2022-11-28T18:44:39.298Z"
   },
   {
    "duration": 16,
    "start_time": "2022-11-28T18:44:39.327Z"
   },
   {
    "duration": 51,
    "start_time": "2022-11-28T18:44:39.345Z"
   },
   {
    "duration": 19,
    "start_time": "2022-11-28T18:44:39.398Z"
   },
   {
    "duration": 18,
    "start_time": "2022-11-28T18:44:39.419Z"
   },
   {
    "duration": 53,
    "start_time": "2022-11-28T18:44:39.438Z"
   },
   {
    "duration": 19,
    "start_time": "2022-11-28T18:44:39.492Z"
   },
   {
    "duration": 17,
    "start_time": "2022-11-28T18:44:39.513Z"
   },
   {
    "duration": 64,
    "start_time": "2022-11-28T18:44:39.531Z"
   },
   {
    "duration": 18,
    "start_time": "2022-11-28T18:44:39.596Z"
   },
   {
    "duration": 13,
    "start_time": "2022-11-28T18:44:39.616Z"
   },
   {
    "duration": 365,
    "start_time": "2022-11-28T18:44:39.630Z"
   },
   {
    "duration": 380,
    "start_time": "2022-11-28T18:44:39.997Z"
   },
   {
    "duration": 17,
    "start_time": "2022-11-28T18:44:40.378Z"
   },
   {
    "duration": 240,
    "start_time": "2022-11-28T18:44:40.396Z"
   },
   {
    "duration": 24,
    "start_time": "2022-11-28T18:44:40.640Z"
   },
   {
    "duration": 138,
    "start_time": "2022-11-28T18:44:40.666Z"
   },
   {
    "duration": 374,
    "start_time": "2022-11-28T18:44:40.806Z"
   },
   {
    "duration": 9,
    "start_time": "2022-11-28T18:44:41.181Z"
   },
   {
    "duration": 55,
    "start_time": "2022-11-28T18:44:41.192Z"
   },
   {
    "duration": 162,
    "start_time": "2022-11-28T18:44:41.249Z"
   },
   {
    "duration": 10,
    "start_time": "2022-11-28T18:44:41.412Z"
   },
   {
    "duration": 53,
    "start_time": "2022-11-28T18:44:41.423Z"
   },
   {
    "duration": 16,
    "start_time": "2022-11-28T18:44:41.478Z"
   },
   {
    "duration": 16,
    "start_time": "2022-11-28T18:44:41.495Z"
   },
   {
    "duration": 52,
    "start_time": "2022-11-28T18:44:41.512Z"
   },
   {
    "duration": 16,
    "start_time": "2022-11-28T18:44:41.565Z"
   },
   {
    "duration": 37,
    "start_time": "2022-11-28T18:44:41.582Z"
   },
   {
    "duration": 5,
    "start_time": "2022-11-28T18:44:41.620Z"
   },
   {
    "duration": 180,
    "start_time": "2022-11-28T18:44:41.627Z"
   },
   {
    "duration": 15,
    "start_time": "2022-11-28T18:44:41.809Z"
   },
   {
    "duration": 27,
    "start_time": "2022-11-28T18:44:41.826Z"
   },
   {
    "duration": 64,
    "start_time": "2022-11-28T18:44:41.855Z"
   },
   {
    "duration": 14,
    "start_time": "2022-11-28T18:44:41.921Z"
   },
   {
    "duration": 13,
    "start_time": "2022-11-28T18:44:41.936Z"
   },
   {
    "duration": 100,
    "start_time": "2022-11-28T18:44:41.950Z"
   },
   {
    "duration": 101,
    "start_time": "2022-11-28T18:44:42.052Z"
   },
   {
    "duration": 58,
    "start_time": "2022-11-28T18:44:42.155Z"
   },
   {
    "duration": 28,
    "start_time": "2022-11-28T18:44:42.214Z"
   },
   {
    "duration": 7,
    "start_time": "2022-11-28T18:44:42.244Z"
   },
   {
    "duration": 30,
    "start_time": "2022-11-28T18:44:42.252Z"
   },
   {
    "duration": 38,
    "start_time": "2022-11-28T18:44:42.283Z"
   },
   {
    "duration": 36,
    "start_time": "2022-11-28T18:44:42.323Z"
   },
   {
    "duration": 14,
    "start_time": "2022-11-28T18:44:42.361Z"
   },
   {
    "duration": 20,
    "start_time": "2022-11-28T18:44:42.377Z"
   },
   {
    "duration": 194,
    "start_time": "2022-11-28T18:44:42.399Z"
   },
   {
    "duration": 12,
    "start_time": "2022-11-28T18:44:42.595Z"
   },
   {
    "duration": 160,
    "start_time": "2022-11-28T18:44:42.608Z"
   },
   {
    "duration": 111,
    "start_time": "2022-11-28T18:44:42.776Z"
   },
   {
    "duration": 5,
    "start_time": "2022-11-28T18:44:42.889Z"
   },
   {
    "duration": 37,
    "start_time": "2022-11-28T18:44:42.895Z"
   },
   {
    "duration": 39,
    "start_time": "2022-11-28T18:44:42.934Z"
   },
   {
    "duration": 20,
    "start_time": "2022-11-28T18:44:42.975Z"
   },
   {
    "duration": 83,
    "start_time": "2022-11-28T18:44:42.997Z"
   },
   {
    "duration": 19,
    "start_time": "2022-11-28T18:44:43.081Z"
   },
   {
    "duration": 16,
    "start_time": "2022-11-28T18:44:43.101Z"
   },
   {
    "duration": 4,
    "start_time": "2022-11-28T18:44:43.119Z"
   },
   {
    "duration": 12,
    "start_time": "2022-11-28T18:44:43.124Z"
   },
   {
    "duration": 27,
    "start_time": "2022-11-28T18:44:43.138Z"
   },
   {
    "duration": 1102,
    "start_time": "2022-11-28T18:44:43.167Z"
   },
   {
    "duration": 5,
    "start_time": "2022-11-28T18:50:07.377Z"
   },
   {
    "duration": 3,
    "start_time": "2022-11-28T18:52:41.457Z"
   },
   {
    "duration": 4,
    "start_time": "2022-11-28T18:57:12.579Z"
   },
   {
    "duration": 707,
    "start_time": "2022-11-28T18:57:12.585Z"
   },
   {
    "duration": 134,
    "start_time": "2022-11-28T18:57:13.293Z"
   },
   {
    "duration": 13,
    "start_time": "2022-11-28T18:57:13.429Z"
   },
   {
    "duration": 233,
    "start_time": "2022-11-28T18:57:13.444Z"
   },
   {
    "duration": 541,
    "start_time": "2022-11-28T18:57:13.679Z"
   },
   {
    "duration": 3,
    "start_time": "2022-11-28T18:57:14.222Z"
   },
   {
    "duration": 8,
    "start_time": "2022-11-28T18:57:14.226Z"
   },
   {
    "duration": 297,
    "start_time": "2022-11-28T18:57:14.236Z"
   },
   {
    "duration": 19,
    "start_time": "2022-11-28T18:57:14.535Z"
   },
   {
    "duration": 53,
    "start_time": "2022-11-28T18:57:14.556Z"
   },
   {
    "duration": 21,
    "start_time": "2022-11-28T18:57:14.611Z"
   },
   {
    "duration": 16,
    "start_time": "2022-11-28T18:57:14.634Z"
   },
   {
    "duration": 50,
    "start_time": "2022-11-28T18:57:14.651Z"
   },
   {
    "duration": 30,
    "start_time": "2022-11-28T18:57:14.703Z"
   },
   {
    "duration": 52,
    "start_time": "2022-11-28T18:57:14.735Z"
   },
   {
    "duration": 24,
    "start_time": "2022-11-28T18:57:14.789Z"
   },
   {
    "duration": 27,
    "start_time": "2022-11-28T18:57:14.815Z"
   },
   {
    "duration": 71,
    "start_time": "2022-11-28T18:57:14.844Z"
   },
   {
    "duration": 24,
    "start_time": "2022-11-28T18:57:14.919Z"
   },
   {
    "duration": 33,
    "start_time": "2022-11-28T18:57:14.946Z"
   },
   {
    "duration": 54,
    "start_time": "2022-11-28T18:57:14.981Z"
   },
   {
    "duration": 25,
    "start_time": "2022-11-28T18:57:15.036Z"
   },
   {
    "duration": 18,
    "start_time": "2022-11-28T18:57:15.065Z"
   },
   {
    "duration": 425,
    "start_time": "2022-11-28T18:57:15.084Z"
   },
   {
    "duration": 446,
    "start_time": "2022-11-28T18:57:15.510Z"
   },
   {
    "duration": 21,
    "start_time": "2022-11-28T18:57:15.958Z"
   },
   {
    "duration": 242,
    "start_time": "2022-11-28T18:57:15.981Z"
   },
   {
    "duration": 25,
    "start_time": "2022-11-28T18:57:16.224Z"
   },
   {
    "duration": 155,
    "start_time": "2022-11-28T18:57:16.250Z"
   },
   {
    "duration": 446,
    "start_time": "2022-11-28T18:57:16.407Z"
   },
   {
    "duration": 24,
    "start_time": "2022-11-28T18:57:16.855Z"
   },
   {
    "duration": 46,
    "start_time": "2022-11-28T18:57:16.881Z"
   },
   {
    "duration": 174,
    "start_time": "2022-11-28T18:57:16.931Z"
   },
   {
    "duration": 11,
    "start_time": "2022-11-28T18:57:17.107Z"
   },
   {
    "duration": 58,
    "start_time": "2022-11-28T18:57:17.119Z"
   },
   {
    "duration": 16,
    "start_time": "2022-11-28T18:57:17.178Z"
   },
   {
    "duration": 8,
    "start_time": "2022-11-28T18:57:17.195Z"
   },
   {
    "duration": 44,
    "start_time": "2022-11-28T18:57:17.204Z"
   },
   {
    "duration": 29,
    "start_time": "2022-11-28T18:57:17.250Z"
   },
   {
    "duration": 40,
    "start_time": "2022-11-28T18:57:17.281Z"
   },
   {
    "duration": 4,
    "start_time": "2022-11-28T18:57:17.323Z"
   },
   {
    "duration": 180,
    "start_time": "2022-11-28T18:57:17.329Z"
   },
   {
    "duration": 16,
    "start_time": "2022-11-28T18:57:17.510Z"
   },
   {
    "duration": 10,
    "start_time": "2022-11-28T18:57:17.527Z"
   },
   {
    "duration": 57,
    "start_time": "2022-11-28T18:57:17.539Z"
   },
   {
    "duration": 15,
    "start_time": "2022-11-28T18:57:17.598Z"
   },
   {
    "duration": 14,
    "start_time": "2022-11-28T18:57:17.615Z"
   },
   {
    "duration": 102,
    "start_time": "2022-11-28T18:57:17.631Z"
   },
   {
    "duration": 120,
    "start_time": "2022-11-28T18:57:17.734Z"
   },
   {
    "duration": 63,
    "start_time": "2022-11-28T18:57:17.855Z"
   },
   {
    "duration": 28,
    "start_time": "2022-11-28T18:57:17.920Z"
   },
   {
    "duration": 8,
    "start_time": "2022-11-28T18:57:17.950Z"
   },
   {
    "duration": 4,
    "start_time": "2022-11-28T18:57:17.976Z"
   },
   {
    "duration": 23,
    "start_time": "2022-11-28T18:57:17.982Z"
   },
   {
    "duration": 34,
    "start_time": "2022-11-28T18:57:18.007Z"
   },
   {
    "duration": 34,
    "start_time": "2022-11-28T18:57:18.043Z"
   },
   {
    "duration": 14,
    "start_time": "2022-11-28T18:57:18.078Z"
   },
   {
    "duration": 149,
    "start_time": "2022-11-28T18:57:18.094Z"
   },
   {
    "duration": 19,
    "start_time": "2022-11-28T18:57:18.244Z"
   },
   {
    "duration": 140,
    "start_time": "2022-11-28T18:57:18.265Z"
   },
   {
    "duration": 106,
    "start_time": "2022-11-28T18:57:18.407Z"
   },
   {
    "duration": 5,
    "start_time": "2022-11-28T18:57:18.514Z"
   },
   {
    "duration": 24,
    "start_time": "2022-11-28T18:57:18.521Z"
   },
   {
    "duration": 30,
    "start_time": "2022-11-28T18:57:18.547Z"
   },
   {
    "duration": 3,
    "start_time": "2022-11-28T18:57:18.578Z"
   },
   {
    "duration": 78,
    "start_time": "2022-11-28T18:57:18.582Z"
   },
   {
    "duration": 2,
    "start_time": "2022-11-28T18:57:18.661Z"
   },
   {
    "duration": 51,
    "start_time": "2022-11-28T18:57:18.667Z"
   },
   {
    "duration": 11,
    "start_time": "2022-11-28T18:57:18.720Z"
   },
   {
    "duration": 5,
    "start_time": "2022-11-28T18:57:18.733Z"
   },
   {
    "duration": 7,
    "start_time": "2022-11-28T18:57:18.740Z"
   },
   {
    "duration": 7,
    "start_time": "2022-11-28T18:57:18.749Z"
   },
   {
    "duration": 2015,
    "start_time": "2022-11-28T18:57:18.757Z"
   },
   {
    "duration": 4,
    "start_time": "2022-11-28T18:58:09.856Z"
   },
   {
    "duration": 767,
    "start_time": "2022-11-28T18:58:09.862Z"
   },
   {
    "duration": 133,
    "start_time": "2022-11-28T18:58:10.631Z"
   },
   {
    "duration": 13,
    "start_time": "2022-11-28T18:58:10.776Z"
   },
   {
    "duration": 99,
    "start_time": "2022-11-28T18:58:10.791Z"
   },
   {
    "duration": 393,
    "start_time": "2022-11-28T18:58:10.891Z"
   },
   {
    "duration": 3,
    "start_time": "2022-11-28T18:58:11.285Z"
   },
   {
    "duration": 8,
    "start_time": "2022-11-28T18:58:11.290Z"
   },
   {
    "duration": 306,
    "start_time": "2022-11-28T18:58:11.299Z"
   },
   {
    "duration": 19,
    "start_time": "2022-11-28T18:58:11.606Z"
   },
   {
    "duration": 56,
    "start_time": "2022-11-28T18:58:11.627Z"
   },
   {
    "duration": 22,
    "start_time": "2022-11-28T18:58:11.686Z"
   },
   {
    "duration": 22,
    "start_time": "2022-11-28T18:58:11.709Z"
   },
   {
    "duration": 23,
    "start_time": "2022-11-28T18:58:11.734Z"
   },
   {
    "duration": 67,
    "start_time": "2022-11-28T18:58:11.759Z"
   },
   {
    "duration": 69,
    "start_time": "2022-11-28T18:58:11.828Z"
   },
   {
    "duration": 20,
    "start_time": "2022-11-28T18:58:11.899Z"
   },
   {
    "duration": 21,
    "start_time": "2022-11-28T18:58:11.920Z"
   },
   {
    "duration": 51,
    "start_time": "2022-11-28T18:58:11.942Z"
   },
   {
    "duration": 21,
    "start_time": "2022-11-28T18:58:11.994Z"
   },
   {
    "duration": 19,
    "start_time": "2022-11-28T18:58:12.017Z"
   },
   {
    "duration": 63,
    "start_time": "2022-11-28T18:58:12.038Z"
   },
   {
    "duration": 20,
    "start_time": "2022-11-28T18:58:12.103Z"
   },
   {
    "duration": 13,
    "start_time": "2022-11-28T18:58:12.124Z"
   },
   {
    "duration": 392,
    "start_time": "2022-11-28T18:58:12.138Z"
   },
   {
    "duration": 410,
    "start_time": "2022-11-28T18:58:12.532Z"
   },
   {
    "duration": 18,
    "start_time": "2022-11-28T18:58:12.944Z"
   },
   {
    "duration": 251,
    "start_time": "2022-11-28T18:58:12.963Z"
   },
   {
    "duration": 26,
    "start_time": "2022-11-28T18:58:13.215Z"
   },
   {
    "duration": 148,
    "start_time": "2022-11-28T18:58:13.242Z"
   },
   {
    "duration": 459,
    "start_time": "2022-11-28T18:58:13.392Z"
   },
   {
    "duration": 9,
    "start_time": "2022-11-28T18:58:13.853Z"
   },
   {
    "duration": 104,
    "start_time": "2022-11-28T18:58:13.863Z"
   },
   {
    "duration": 157,
    "start_time": "2022-11-28T18:58:13.969Z"
   },
   {
    "duration": 10,
    "start_time": "2022-11-28T18:58:14.128Z"
   },
   {
    "duration": 51,
    "start_time": "2022-11-28T18:58:14.140Z"
   },
   {
    "duration": 17,
    "start_time": "2022-11-28T18:58:14.193Z"
   },
   {
    "duration": 9,
    "start_time": "2022-11-28T18:58:14.212Z"
   },
   {
    "duration": 56,
    "start_time": "2022-11-28T18:58:14.223Z"
   },
   {
    "duration": 8,
    "start_time": "2022-11-28T18:58:14.281Z"
   },
   {
    "duration": 52,
    "start_time": "2022-11-28T18:58:14.293Z"
   },
   {
    "duration": 4,
    "start_time": "2022-11-28T18:58:14.347Z"
   },
   {
    "duration": 221,
    "start_time": "2022-11-28T18:58:14.353Z"
   },
   {
    "duration": 17,
    "start_time": "2022-11-28T18:58:14.575Z"
   },
   {
    "duration": 34,
    "start_time": "2022-11-28T18:58:14.593Z"
   },
   {
    "duration": 47,
    "start_time": "2022-11-28T18:58:14.629Z"
   },
   {
    "duration": 15,
    "start_time": "2022-11-28T18:58:14.678Z"
   },
   {
    "duration": 29,
    "start_time": "2022-11-28T18:58:14.694Z"
   },
   {
    "duration": 108,
    "start_time": "2022-11-28T18:58:14.724Z"
   },
   {
    "duration": 128,
    "start_time": "2022-11-28T18:58:14.834Z"
   },
   {
    "duration": 65,
    "start_time": "2022-11-28T18:58:14.964Z"
   },
   {
    "duration": 30,
    "start_time": "2022-11-28T18:58:15.030Z"
   },
   {
    "duration": 19,
    "start_time": "2022-11-28T18:58:15.062Z"
   },
   {
    "duration": 27,
    "start_time": "2022-11-28T18:58:15.083Z"
   },
   {
    "duration": 31,
    "start_time": "2022-11-28T18:58:15.112Z"
   },
   {
    "duration": 35,
    "start_time": "2022-11-28T18:58:15.145Z"
   },
   {
    "duration": 15,
    "start_time": "2022-11-28T18:58:15.182Z"
   },
   {
    "duration": 20,
    "start_time": "2022-11-28T18:58:15.198Z"
   },
   {
    "duration": 201,
    "start_time": "2022-11-28T18:58:15.219Z"
   },
   {
    "duration": 15,
    "start_time": "2022-11-28T18:58:15.422Z"
   },
   {
    "duration": 271,
    "start_time": "2022-11-28T18:58:15.438Z"
   },
   {
    "duration": 110,
    "start_time": "2022-11-28T18:58:15.711Z"
   },
   {
    "duration": 7,
    "start_time": "2022-11-28T18:58:15.823Z"
   },
   {
    "duration": 27,
    "start_time": "2022-11-28T18:58:15.832Z"
   },
   {
    "duration": 29,
    "start_time": "2022-11-28T18:58:15.860Z"
   },
   {
    "duration": 4,
    "start_time": "2022-11-28T18:58:15.890Z"
   },
   {
    "duration": 98,
    "start_time": "2022-11-28T18:58:15.896Z"
   },
   {
    "duration": 3,
    "start_time": "2022-11-28T18:58:15.995Z"
   },
   {
    "duration": 42,
    "start_time": "2022-11-28T18:58:15.999Z"
   },
   {
    "duration": 10,
    "start_time": "2022-11-28T18:58:16.042Z"
   },
   {
    "duration": 24,
    "start_time": "2022-11-28T18:58:16.053Z"
   },
   {
    "duration": 4,
    "start_time": "2022-11-28T18:58:16.078Z"
   },
   {
    "duration": 7,
    "start_time": "2022-11-28T18:58:16.084Z"
   },
   {
    "duration": 567,
    "start_time": "2022-11-28T18:58:16.093Z"
   },
   {
    "duration": 15,
    "start_time": "2022-11-28T18:59:49.320Z"
   },
   {
    "duration": 267,
    "start_time": "2022-11-28T19:00:11.780Z"
   },
   {
    "duration": 4,
    "start_time": "2022-11-28T19:00:39.025Z"
   },
   {
    "duration": 277,
    "start_time": "2022-11-28T19:01:00.958Z"
   },
   {
    "duration": 3,
    "start_time": "2022-11-28T19:01:55.479Z"
   },
   {
    "duration": 36,
    "start_time": "2022-11-28T19:01:55.999Z"
   },
   {
    "duration": 10,
    "start_time": "2022-11-28T19:01:56.467Z"
   },
   {
    "duration": 4,
    "start_time": "2022-11-28T19:01:56.816Z"
   },
   {
    "duration": 3,
    "start_time": "2022-11-28T19:01:57.158Z"
   },
   {
    "duration": 14,
    "start_time": "2022-11-28T19:01:57.863Z"
   },
   {
    "duration": 4,
    "start_time": "2022-11-28T19:01:58.188Z"
   },
   {
    "duration": 337,
    "start_time": "2022-11-28T19:01:59.116Z"
   },
   {
    "duration": 533,
    "start_time": "2022-11-28T19:01:59.455Z"
   },
   {
    "duration": 294,
    "start_time": "2022-11-28T19:17:16.483Z"
   },
   {
    "duration": 302,
    "start_time": "2022-11-28T19:17:20.964Z"
   },
   {
    "duration": 3,
    "start_time": "2022-11-28T19:31:39.740Z"
   },
   {
    "duration": 12,
    "start_time": "2022-11-28T19:31:41.254Z"
   },
   {
    "duration": 11,
    "start_time": "2022-11-28T19:31:42.157Z"
   },
   {
    "duration": 4,
    "start_time": "2022-11-28T19:31:43.040Z"
   },
   {
    "duration": 2,
    "start_time": "2022-11-28T19:31:45.656Z"
   },
   {
    "duration": 15,
    "start_time": "2022-11-28T19:31:46.795Z"
   },
   {
    "duration": 7,
    "start_time": "2022-11-28T19:32:17.491Z"
   },
   {
    "duration": 78,
    "start_time": "2022-11-28T19:32:24.539Z"
   },
   {
    "duration": 514,
    "start_time": "2022-11-28T19:32:26.403Z"
   },
   {
    "duration": 3,
    "start_time": "2022-11-28T19:34:30.248Z"
   },
   {
    "duration": 26,
    "start_time": "2022-11-28T19:34:30.821Z"
   },
   {
    "duration": 12,
    "start_time": "2022-11-28T19:34:31.522Z"
   },
   {
    "duration": 4,
    "start_time": "2022-11-28T19:34:31.956Z"
   },
   {
    "duration": 4,
    "start_time": "2022-11-28T19:34:32.873Z"
   },
   {
    "duration": 25,
    "start_time": "2022-11-28T19:34:33.800Z"
   },
   {
    "duration": 4,
    "start_time": "2022-11-28T19:34:34.123Z"
   },
   {
    "duration": 265,
    "start_time": "2022-11-28T19:34:35.014Z"
   },
   {
    "duration": 1934,
    "start_time": "2022-11-28T19:34:35.492Z"
   },
   {
    "duration": 3,
    "start_time": "2022-11-28T19:34:52.718Z"
   },
   {
    "duration": 34,
    "start_time": "2022-11-28T19:34:53.422Z"
   },
   {
    "duration": 9,
    "start_time": "2022-11-28T19:34:53.898Z"
   },
   {
    "duration": 4,
    "start_time": "2022-11-28T19:34:54.497Z"
   },
   {
    "duration": 4,
    "start_time": "2022-11-28T19:34:55.100Z"
   },
   {
    "duration": 27,
    "start_time": "2022-11-28T19:34:55.525Z"
   },
   {
    "duration": 4,
    "start_time": "2022-11-28T19:34:55.840Z"
   },
   {
    "duration": 289,
    "start_time": "2022-11-28T19:34:56.560Z"
   },
   {
    "duration": 523,
    "start_time": "2022-11-28T19:34:56.858Z"
   },
   {
    "duration": 5,
    "start_time": "2022-11-28T19:48:53.787Z"
   },
   {
    "duration": 3,
    "start_time": "2022-11-28T19:49:29.549Z"
   },
   {
    "duration": 280,
    "start_time": "2022-11-28T19:49:38.597Z"
   },
   {
    "duration": 296,
    "start_time": "2022-11-28T19:49:39.336Z"
   },
   {
    "duration": 3,
    "start_time": "2022-11-28T19:50:06.394Z"
   },
   {
    "duration": 36,
    "start_time": "2022-11-28T19:50:07.050Z"
   },
   {
    "duration": 8,
    "start_time": "2022-11-28T19:50:07.640Z"
   },
   {
    "duration": 4,
    "start_time": "2022-11-28T19:50:08.186Z"
   },
   {
    "duration": 3,
    "start_time": "2022-11-28T19:50:09.015Z"
   },
   {
    "duration": 16,
    "start_time": "2022-11-28T19:50:12.377Z"
   },
   {
    "duration": 3,
    "start_time": "2022-11-28T19:50:14.502Z"
   },
   {
    "duration": 307,
    "start_time": "2022-11-28T19:50:20.623Z"
   },
   {
    "duration": 2775,
    "start_time": "2022-11-28T19:50:21.298Z"
   },
   {
    "duration": 1538,
    "start_time": "2022-11-29T09:11:46.348Z"
   },
   {
    "duration": 3025,
    "start_time": "2022-11-29T09:11:47.888Z"
   },
   {
    "duration": 118,
    "start_time": "2022-11-29T09:11:50.915Z"
   },
   {
    "duration": 17,
    "start_time": "2022-11-29T09:11:51.035Z"
   },
   {
    "duration": 113,
    "start_time": "2022-11-29T09:11:51.054Z"
   },
   {
    "duration": 488,
    "start_time": "2022-11-29T09:11:51.168Z"
   },
   {
    "duration": 4,
    "start_time": "2022-11-29T09:11:51.658Z"
   },
   {
    "duration": 8,
    "start_time": "2022-11-29T09:11:51.665Z"
   },
   {
    "duration": 279,
    "start_time": "2022-11-29T09:11:51.674Z"
   },
   {
    "duration": 15,
    "start_time": "2022-11-29T09:11:51.955Z"
   },
   {
    "duration": 52,
    "start_time": "2022-11-29T09:11:51.972Z"
   },
   {
    "duration": 19,
    "start_time": "2022-11-29T09:11:52.026Z"
   },
   {
    "duration": 15,
    "start_time": "2022-11-29T09:11:52.047Z"
   },
   {
    "duration": 19,
    "start_time": "2022-11-29T09:11:52.063Z"
   },
   {
    "duration": 39,
    "start_time": "2022-11-29T09:11:52.084Z"
   },
   {
    "duration": 40,
    "start_time": "2022-11-29T09:11:52.124Z"
   },
   {
    "duration": 18,
    "start_time": "2022-11-29T09:11:52.165Z"
   },
   {
    "duration": 39,
    "start_time": "2022-11-29T09:11:52.184Z"
   },
   {
    "duration": 37,
    "start_time": "2022-11-29T09:11:52.224Z"
   },
   {
    "duration": 18,
    "start_time": "2022-11-29T09:11:52.263Z"
   },
   {
    "duration": 40,
    "start_time": "2022-11-29T09:11:52.283Z"
   },
   {
    "duration": 41,
    "start_time": "2022-11-29T09:11:52.325Z"
   },
   {
    "duration": 17,
    "start_time": "2022-11-29T09:11:52.368Z"
   },
   {
    "duration": 36,
    "start_time": "2022-11-29T09:11:52.387Z"
   },
   {
    "duration": 459,
    "start_time": "2022-11-29T09:11:52.425Z"
   },
   {
    "duration": 564,
    "start_time": "2022-11-29T09:11:52.886Z"
   },
   {
    "duration": 23,
    "start_time": "2022-11-29T09:11:53.451Z"
   },
   {
    "duration": 301,
    "start_time": "2022-11-29T09:11:53.478Z"
   },
   {
    "duration": 28,
    "start_time": "2022-11-29T09:11:53.781Z"
   },
   {
    "duration": 172,
    "start_time": "2022-11-29T09:11:53.811Z"
   },
   {
    "duration": 464,
    "start_time": "2022-11-29T09:11:53.984Z"
   },
   {
    "duration": 11,
    "start_time": "2022-11-29T09:11:54.451Z"
   },
   {
    "duration": 76,
    "start_time": "2022-11-29T09:11:54.464Z"
   },
   {
    "duration": 161,
    "start_time": "2022-11-29T09:11:54.542Z"
   },
   {
    "duration": 19,
    "start_time": "2022-11-29T09:11:54.705Z"
   },
   {
    "duration": 53,
    "start_time": "2022-11-29T09:11:54.726Z"
   },
   {
    "duration": 17,
    "start_time": "2022-11-29T09:11:54.781Z"
   },
   {
    "duration": 28,
    "start_time": "2022-11-29T09:11:54.800Z"
   },
   {
    "duration": 44,
    "start_time": "2022-11-29T09:11:54.830Z"
   },
   {
    "duration": 9,
    "start_time": "2022-11-29T09:11:54.875Z"
   },
   {
    "duration": 64,
    "start_time": "2022-11-29T09:11:54.886Z"
   },
   {
    "duration": 5,
    "start_time": "2022-11-29T09:11:54.952Z"
   },
   {
    "duration": 181,
    "start_time": "2022-11-29T09:11:54.959Z"
   },
   {
    "duration": 17,
    "start_time": "2022-11-29T09:11:55.142Z"
   },
   {
    "duration": 9,
    "start_time": "2022-11-29T09:11:55.160Z"
   },
   {
    "duration": 60,
    "start_time": "2022-11-29T09:11:55.171Z"
   },
   {
    "duration": 15,
    "start_time": "2022-11-29T09:11:55.233Z"
   },
   {
    "duration": 15,
    "start_time": "2022-11-29T09:11:55.250Z"
   },
   {
    "duration": 101,
    "start_time": "2022-11-29T09:11:55.266Z"
   },
   {
    "duration": 198,
    "start_time": "2022-11-29T09:11:55.369Z"
   },
   {
    "duration": 62,
    "start_time": "2022-11-29T09:11:55.569Z"
   },
   {
    "duration": 31,
    "start_time": "2022-11-29T09:11:55.633Z"
   },
   {
    "duration": 7,
    "start_time": "2022-11-29T09:11:55.666Z"
   },
   {
    "duration": 14,
    "start_time": "2022-11-29T09:11:55.675Z"
   },
   {
    "duration": 34,
    "start_time": "2022-11-29T09:11:55.690Z"
   },
   {
    "duration": 37,
    "start_time": "2022-11-29T09:11:55.725Z"
   },
   {
    "duration": 16,
    "start_time": "2022-11-29T09:11:55.764Z"
   },
   {
    "duration": 14,
    "start_time": "2022-11-29T09:11:55.782Z"
   },
   {
    "duration": 172,
    "start_time": "2022-11-29T09:11:55.824Z"
   },
   {
    "duration": 14,
    "start_time": "2022-11-29T09:11:55.998Z"
   },
   {
    "duration": 157,
    "start_time": "2022-11-29T09:11:56.022Z"
   },
   {
    "duration": 121,
    "start_time": "2022-11-29T09:11:56.181Z"
   },
   {
    "duration": 5,
    "start_time": "2022-11-29T09:11:56.304Z"
   },
   {
    "duration": 28,
    "start_time": "2022-11-29T09:11:56.310Z"
   },
   {
    "duration": 18,
    "start_time": "2022-11-29T09:11:56.340Z"
   },
   {
    "duration": 3,
    "start_time": "2022-11-29T09:11:56.360Z"
   },
   {
    "duration": 90,
    "start_time": "2022-11-29T09:11:56.364Z"
   },
   {
    "duration": 111,
    "start_time": "2022-11-29T09:11:59.674Z"
   },
   {
    "duration": 21,
    "start_time": "2022-11-29T09:13:26.632Z"
   },
   {
    "duration": 23,
    "start_time": "2022-11-29T09:13:42.387Z"
   },
   {
    "duration": 22,
    "start_time": "2022-11-29T09:13:55.683Z"
   },
   {
    "duration": 27,
    "start_time": "2022-11-29T09:13:59.234Z"
   },
   {
    "duration": 22,
    "start_time": "2022-11-29T09:14:11.545Z"
   },
   {
    "duration": 21,
    "start_time": "2022-11-29T09:14:37.242Z"
   },
   {
    "duration": 22,
    "start_time": "2022-11-29T09:14:48.082Z"
   },
   {
    "duration": 18,
    "start_time": "2022-11-29T09:15:03.697Z"
   },
   {
    "duration": 4,
    "start_time": "2022-11-29T09:19:11.757Z"
   },
   {
    "duration": 785,
    "start_time": "2022-11-29T09:19:11.765Z"
   },
   {
    "duration": 105,
    "start_time": "2022-11-29T09:19:12.552Z"
   },
   {
    "duration": 12,
    "start_time": "2022-11-29T09:19:12.658Z"
   },
   {
    "duration": 111,
    "start_time": "2022-11-29T09:19:12.671Z"
   },
   {
    "duration": 397,
    "start_time": "2022-11-29T09:19:12.784Z"
   },
   {
    "duration": 4,
    "start_time": "2022-11-29T09:19:13.182Z"
   },
   {
    "duration": 10,
    "start_time": "2022-11-29T09:19:13.187Z"
   },
   {
    "duration": 261,
    "start_time": "2022-11-29T09:19:13.199Z"
   },
   {
    "duration": 16,
    "start_time": "2022-11-29T09:19:13.461Z"
   },
   {
    "duration": 55,
    "start_time": "2022-11-29T09:19:13.478Z"
   },
   {
    "duration": 19,
    "start_time": "2022-11-29T09:19:13.535Z"
   },
   {
    "duration": 15,
    "start_time": "2022-11-29T09:19:13.556Z"
   },
   {
    "duration": 22,
    "start_time": "2022-11-29T09:19:13.572Z"
   },
   {
    "duration": 103,
    "start_time": "2022-11-29T09:19:15.185Z"
   },
   {
    "duration": 316,
    "start_time": "2022-11-29T09:21:38.917Z"
   },
   {
    "duration": 27,
    "start_time": "2022-11-29T09:22:12.272Z"
   },
   {
    "duration": 22,
    "start_time": "2022-11-29T09:22:25.556Z"
   },
   {
    "duration": 15,
    "start_time": "2022-11-29T09:23:37.226Z"
   },
   {
    "duration": 41,
    "start_time": "2022-11-29T09:23:37.809Z"
   },
   {
    "duration": 18,
    "start_time": "2022-11-29T09:23:39.209Z"
   },
   {
    "duration": 22,
    "start_time": "2022-11-29T09:23:39.897Z"
   },
   {
    "duration": 22,
    "start_time": "2022-11-29T09:24:29.272Z"
   },
   {
    "duration": 5,
    "start_time": "2022-11-29T09:25:27.828Z"
   },
   {
    "duration": 752,
    "start_time": "2022-11-29T09:25:27.836Z"
   },
   {
    "duration": 112,
    "start_time": "2022-11-29T09:25:28.590Z"
   },
   {
    "duration": 25,
    "start_time": "2022-11-29T09:25:28.704Z"
   },
   {
    "duration": 97,
    "start_time": "2022-11-29T09:25:28.731Z"
   },
   {
    "duration": 407,
    "start_time": "2022-11-29T09:25:28.829Z"
   },
   {
    "duration": 4,
    "start_time": "2022-11-29T09:25:29.237Z"
   },
   {
    "duration": 8,
    "start_time": "2022-11-29T09:25:29.243Z"
   },
   {
    "duration": 287,
    "start_time": "2022-11-29T09:25:29.253Z"
   },
   {
    "duration": 17,
    "start_time": "2022-11-29T09:25:29.542Z"
   },
   {
    "duration": 42,
    "start_time": "2022-11-29T09:25:29.561Z"
   },
   {
    "duration": 35,
    "start_time": "2022-11-29T09:25:29.604Z"
   },
   {
    "duration": 14,
    "start_time": "2022-11-29T09:25:29.641Z"
   },
   {
    "duration": 18,
    "start_time": "2022-11-29T09:25:29.658Z"
   },
   {
    "duration": 44,
    "start_time": "2022-11-29T09:25:29.678Z"
   },
   {
    "duration": 15,
    "start_time": "2022-11-29T09:25:29.724Z"
   },
   {
    "duration": 41,
    "start_time": "2022-11-29T09:25:29.741Z"
   },
   {
    "duration": 38,
    "start_time": "2022-11-29T09:25:29.784Z"
   },
   {
    "duration": 31,
    "start_time": "2022-11-29T09:25:29.824Z"
   },
   {
    "duration": 17,
    "start_time": "2022-11-29T09:25:29.857Z"
   },
   {
    "duration": 61,
    "start_time": "2022-11-29T09:25:29.875Z"
   },
   {
    "duration": 18,
    "start_time": "2022-11-29T09:25:29.938Z"
   },
   {
    "duration": 14,
    "start_time": "2022-11-29T09:25:29.957Z"
   },
   {
    "duration": 57,
    "start_time": "2022-11-29T09:25:29.973Z"
   },
   {
    "duration": 18,
    "start_time": "2022-11-29T09:25:30.031Z"
   },
   {
    "duration": 26,
    "start_time": "2022-11-29T09:25:30.051Z"
   },
   {
    "duration": 16,
    "start_time": "2022-11-29T09:25:30.079Z"
   },
   {
    "duration": 429,
    "start_time": "2022-11-29T09:25:30.097Z"
   },
   {
    "duration": 427,
    "start_time": "2022-11-29T09:25:30.528Z"
   },
   {
    "duration": 17,
    "start_time": "2022-11-29T09:25:30.957Z"
   },
   {
    "duration": 242,
    "start_time": "2022-11-29T09:25:30.976Z"
   },
   {
    "duration": 27,
    "start_time": "2022-11-29T09:25:31.222Z"
   },
   {
    "duration": 156,
    "start_time": "2022-11-29T09:25:31.251Z"
   },
   {
    "duration": 580,
    "start_time": "2022-11-29T09:25:31.408Z"
   },
   {
    "duration": 10,
    "start_time": "2022-11-29T09:25:31.990Z"
   },
   {
    "duration": 55,
    "start_time": "2022-11-29T09:25:32.001Z"
   },
   {
    "duration": 166,
    "start_time": "2022-11-29T09:25:32.058Z"
   },
   {
    "duration": 10,
    "start_time": "2022-11-29T09:25:32.225Z"
   },
   {
    "duration": 45,
    "start_time": "2022-11-29T09:25:32.237Z"
   },
   {
    "duration": 16,
    "start_time": "2022-11-29T09:25:32.284Z"
   },
   {
    "duration": 9,
    "start_time": "2022-11-29T09:25:32.324Z"
   },
   {
    "duration": 38,
    "start_time": "2022-11-29T09:25:32.335Z"
   },
   {
    "duration": 10,
    "start_time": "2022-11-29T09:25:32.375Z"
   },
   {
    "duration": 62,
    "start_time": "2022-11-29T09:25:32.387Z"
   },
   {
    "duration": 6,
    "start_time": "2022-11-29T09:25:32.451Z"
   },
   {
    "duration": 192,
    "start_time": "2022-11-29T09:25:32.459Z"
   },
   {
    "duration": 16,
    "start_time": "2022-11-29T09:25:32.653Z"
   },
   {
    "duration": 9,
    "start_time": "2022-11-29T09:25:32.671Z"
   },
   {
    "duration": 61,
    "start_time": "2022-11-29T09:25:32.681Z"
   },
   {
    "duration": 16,
    "start_time": "2022-11-29T09:25:32.744Z"
   },
   {
    "duration": 17,
    "start_time": "2022-11-29T09:25:32.762Z"
   },
   {
    "duration": 107,
    "start_time": "2022-11-29T09:25:32.781Z"
   },
   {
    "duration": 114,
    "start_time": "2022-11-29T09:25:32.890Z"
   },
   {
    "duration": 62,
    "start_time": "2022-11-29T09:25:33.005Z"
   },
   {
    "duration": 31,
    "start_time": "2022-11-29T09:25:33.069Z"
   },
   {
    "duration": 26,
    "start_time": "2022-11-29T09:25:33.102Z"
   },
   {
    "duration": 5,
    "start_time": "2022-11-29T09:25:33.130Z"
   },
   {
    "duration": 37,
    "start_time": "2022-11-29T09:25:33.136Z"
   },
   {
    "duration": 56,
    "start_time": "2022-11-29T09:25:33.175Z"
   },
   {
    "duration": 17,
    "start_time": "2022-11-29T09:25:33.233Z"
   },
   {
    "duration": 14,
    "start_time": "2022-11-29T09:25:33.252Z"
   },
   {
    "duration": 168,
    "start_time": "2022-11-29T09:25:33.267Z"
   },
   {
    "duration": 26,
    "start_time": "2022-11-29T09:25:33.437Z"
   },
   {
    "duration": 152,
    "start_time": "2022-11-29T09:25:33.465Z"
   },
   {
    "duration": 123,
    "start_time": "2022-11-29T09:25:33.622Z"
   },
   {
    "duration": 6,
    "start_time": "2022-11-29T09:25:33.747Z"
   },
   {
    "duration": 22,
    "start_time": "2022-11-29T09:25:33.754Z"
   },
   {
    "duration": 27,
    "start_time": "2022-11-29T09:25:33.777Z"
   },
   {
    "duration": 4,
    "start_time": "2022-11-29T09:25:33.822Z"
   },
   {
    "duration": 77,
    "start_time": "2022-11-29T09:25:33.827Z"
   },
   {
    "duration": 16,
    "start_time": "2022-11-29T09:25:33.906Z"
   },
   {
    "duration": 73,
    "start_time": "2022-11-29T09:25:33.924Z"
   },
   {
    "duration": 6,
    "start_time": "2022-11-29T09:25:33.999Z"
   },
   {
    "duration": 8,
    "start_time": "2022-11-29T09:25:34.007Z"
   },
   {
    "duration": 7,
    "start_time": "2022-11-29T09:25:34.017Z"
   },
   {
    "duration": 21,
    "start_time": "2022-11-29T09:25:34.026Z"
   },
   {
    "duration": 13,
    "start_time": "2022-11-29T09:25:34.049Z"
   },
   {
    "duration": 1133,
    "start_time": "2022-11-29T09:25:34.064Z"
   },
   {
    "duration": 48,
    "start_time": "2022-11-29T09:25:55.441Z"
   },
   {
    "duration": 1336,
    "start_time": "2022-11-29T10:33:07.528Z"
   },
   {
    "duration": 2790,
    "start_time": "2022-11-29T10:33:08.866Z"
   },
   {
    "duration": 108,
    "start_time": "2022-11-29T10:33:11.659Z"
   },
   {
    "duration": 16,
    "start_time": "2022-11-29T10:33:11.769Z"
   },
   {
    "duration": 116,
    "start_time": "2022-11-29T10:33:11.787Z"
   },
   {
    "duration": 428,
    "start_time": "2022-11-29T10:33:11.904Z"
   },
   {
    "duration": 3,
    "start_time": "2022-11-29T10:33:12.334Z"
   },
   {
    "duration": 15,
    "start_time": "2022-11-29T10:33:12.338Z"
   },
   {
    "duration": 290,
    "start_time": "2022-11-29T10:33:12.355Z"
   },
   {
    "duration": 17,
    "start_time": "2022-11-29T10:33:12.648Z"
   },
   {
    "duration": 39,
    "start_time": "2022-11-29T10:33:12.667Z"
   },
   {
    "duration": 31,
    "start_time": "2022-11-29T10:33:12.708Z"
   },
   {
    "duration": 15,
    "start_time": "2022-11-29T10:33:12.740Z"
   },
   {
    "duration": 19,
    "start_time": "2022-11-29T10:33:12.757Z"
   },
   {
    "duration": 22,
    "start_time": "2022-11-29T10:33:12.778Z"
   },
   {
    "duration": 15,
    "start_time": "2022-11-29T10:33:12.821Z"
   },
   {
    "duration": 38,
    "start_time": "2022-11-29T10:33:12.838Z"
   },
   {
    "duration": 17,
    "start_time": "2022-11-29T10:33:12.877Z"
   },
   {
    "duration": 42,
    "start_time": "2022-11-29T10:33:12.895Z"
   },
   {
    "duration": 15,
    "start_time": "2022-11-29T10:33:12.939Z"
   },
   {
    "duration": 38,
    "start_time": "2022-11-29T10:33:12.956Z"
   },
   {
    "duration": 32,
    "start_time": "2022-11-29T10:33:12.996Z"
   },
   {
    "duration": 13,
    "start_time": "2022-11-29T10:33:13.030Z"
   },
   {
    "duration": 37,
    "start_time": "2022-11-29T10:33:13.045Z"
   },
   {
    "duration": 40,
    "start_time": "2022-11-29T10:33:13.083Z"
   },
   {
    "duration": 23,
    "start_time": "2022-11-29T10:33:13.125Z"
   },
   {
    "duration": 19,
    "start_time": "2022-11-29T10:33:13.150Z"
   },
   {
    "duration": 425,
    "start_time": "2022-11-29T10:33:13.173Z"
   },
   {
    "duration": 501,
    "start_time": "2022-11-29T10:33:13.600Z"
   },
   {
    "duration": 27,
    "start_time": "2022-11-29T10:33:14.104Z"
   },
   {
    "duration": 289,
    "start_time": "2022-11-29T10:33:14.133Z"
   },
   {
    "duration": 27,
    "start_time": "2022-11-29T10:33:14.424Z"
   },
   {
    "duration": 181,
    "start_time": "2022-11-29T10:33:14.453Z"
   },
   {
    "duration": 411,
    "start_time": "2022-11-29T10:33:14.635Z"
   },
   {
    "duration": 10,
    "start_time": "2022-11-29T10:33:15.048Z"
   },
   {
    "duration": 67,
    "start_time": "2022-11-29T10:33:15.060Z"
   },
   {
    "duration": 164,
    "start_time": "2022-11-29T10:33:15.128Z"
   },
   {
    "duration": 10,
    "start_time": "2022-11-29T10:33:15.295Z"
   },
   {
    "duration": 63,
    "start_time": "2022-11-29T10:33:15.307Z"
   },
   {
    "duration": 17,
    "start_time": "2022-11-29T10:33:15.372Z"
   },
   {
    "duration": 8,
    "start_time": "2022-11-29T10:33:15.391Z"
   },
   {
    "duration": 54,
    "start_time": "2022-11-29T10:33:15.400Z"
   },
   {
    "duration": 9,
    "start_time": "2022-11-29T10:33:15.455Z"
   },
   {
    "duration": 37,
    "start_time": "2022-11-29T10:33:15.465Z"
   },
   {
    "duration": 21,
    "start_time": "2022-11-29T10:33:15.504Z"
   },
   {
    "duration": 187,
    "start_time": "2022-11-29T10:33:15.527Z"
   },
   {
    "duration": 19,
    "start_time": "2022-11-29T10:33:15.716Z"
   },
   {
    "duration": 8,
    "start_time": "2022-11-29T10:33:15.737Z"
   },
   {
    "duration": 39,
    "start_time": "2022-11-29T10:33:15.746Z"
   },
   {
    "duration": 40,
    "start_time": "2022-11-29T10:33:15.787Z"
   },
   {
    "duration": 14,
    "start_time": "2022-11-29T10:33:15.830Z"
   },
   {
    "duration": 109,
    "start_time": "2022-11-29T10:33:15.846Z"
   },
   {
    "duration": 182,
    "start_time": "2022-11-29T10:33:15.957Z"
   },
   {
    "duration": 57,
    "start_time": "2022-11-29T10:33:16.141Z"
   },
   {
    "duration": 42,
    "start_time": "2022-11-29T10:33:16.200Z"
   },
   {
    "duration": 7,
    "start_time": "2022-11-29T10:33:16.244Z"
   },
   {
    "duration": 4,
    "start_time": "2022-11-29T10:33:16.253Z"
   },
   {
    "duration": 18,
    "start_time": "2022-11-29T10:33:16.259Z"
   },
   {
    "duration": 52,
    "start_time": "2022-11-29T10:33:16.279Z"
   },
   {
    "duration": 16,
    "start_time": "2022-11-29T10:33:16.333Z"
   },
   {
    "duration": 14,
    "start_time": "2022-11-29T10:33:16.350Z"
   },
   {
    "duration": 158,
    "start_time": "2022-11-29T10:33:16.366Z"
   },
   {
    "duration": 13,
    "start_time": "2022-11-29T10:33:16.526Z"
   },
   {
    "duration": 156,
    "start_time": "2022-11-29T10:33:16.541Z"
   },
   {
    "duration": 113,
    "start_time": "2022-11-29T10:33:16.699Z"
   },
   {
    "duration": 10,
    "start_time": "2022-11-29T10:33:16.813Z"
   },
   {
    "duration": 27,
    "start_time": "2022-11-29T10:33:16.824Z"
   },
   {
    "duration": 17,
    "start_time": "2022-11-29T10:33:16.852Z"
   },
   {
    "duration": 3,
    "start_time": "2022-11-29T10:33:16.871Z"
   },
   {
    "duration": 94,
    "start_time": "2022-11-29T10:33:16.876Z"
   },
   {
    "duration": 3,
    "start_time": "2022-11-29T10:33:16.972Z"
   },
   {
    "duration": 64,
    "start_time": "2022-11-29T10:33:16.976Z"
   },
   {
    "duration": 6,
    "start_time": "2022-11-29T10:33:17.041Z"
   },
   {
    "duration": 8,
    "start_time": "2022-11-29T10:33:17.049Z"
   },
   {
    "duration": 6,
    "start_time": "2022-11-29T10:33:17.058Z"
   },
   {
    "duration": 19,
    "start_time": "2022-11-29T10:33:17.065Z"
   },
   {
    "duration": 90,
    "start_time": "2022-11-29T10:33:17.085Z"
   },
   {
    "duration": 4,
    "start_time": "2022-11-29T10:33:53.597Z"
   },
   {
    "duration": 5,
    "start_time": "2022-11-29T10:35:45.504Z"
   },
   {
    "duration": 1628,
    "start_time": "2022-11-29T13:43:31.773Z"
   },
   {
    "duration": 3121,
    "start_time": "2022-11-29T13:43:33.403Z"
   },
   {
    "duration": 134,
    "start_time": "2022-11-29T13:43:36.525Z"
   },
   {
    "duration": 16,
    "start_time": "2022-11-29T13:43:36.662Z"
   },
   {
    "duration": 102,
    "start_time": "2022-11-29T13:43:36.680Z"
   },
   {
    "duration": 503,
    "start_time": "2022-11-29T13:43:36.784Z"
   },
   {
    "duration": 4,
    "start_time": "2022-11-29T13:43:37.290Z"
   },
   {
    "duration": 12,
    "start_time": "2022-11-29T13:43:37.297Z"
   },
   {
    "duration": 308,
    "start_time": "2022-11-29T13:43:37.311Z"
   },
   {
    "duration": 21,
    "start_time": "2022-11-29T13:43:37.622Z"
   },
   {
    "duration": 77,
    "start_time": "2022-11-29T13:43:37.645Z"
   },
   {
    "duration": 20,
    "start_time": "2022-11-29T13:43:37.724Z"
   },
   {
    "duration": 34,
    "start_time": "2022-11-29T13:43:37.746Z"
   },
   {
    "duration": 47,
    "start_time": "2022-11-29T13:43:37.782Z"
   },
   {
    "duration": 14,
    "start_time": "2022-11-29T13:43:39.691Z"
   },
   {
    "duration": 15,
    "start_time": "2022-11-29T13:43:58.204Z"
   },
   {
    "duration": 41,
    "start_time": "2022-11-29T13:43:58.916Z"
   },
   {
    "duration": 19,
    "start_time": "2022-11-29T13:44:06.382Z"
   },
   {
    "duration": 10,
    "start_time": "2022-11-29T13:44:45.108Z"
   },
   {
    "duration": 17,
    "start_time": "2022-11-29T13:44:46.555Z"
   },
   {
    "duration": 41,
    "start_time": "2022-11-29T13:44:50.396Z"
   },
   {
    "duration": 24,
    "start_time": "2022-11-29T13:44:53.971Z"
   },
   {
    "duration": 16,
    "start_time": "2022-11-29T13:44:55.587Z"
   },
   {
    "duration": 45,
    "start_time": "2022-11-29T13:44:59.042Z"
   },
   {
    "duration": 21,
    "start_time": "2022-11-29T13:45:01.027Z"
   },
   {
    "duration": 11,
    "start_time": "2022-11-29T13:45:12.491Z"
   },
   {
    "duration": 3,
    "start_time": "2022-11-29T13:45:35.542Z"
   },
   {
    "duration": 773,
    "start_time": "2022-11-29T13:45:35.547Z"
   },
   {
    "duration": 123,
    "start_time": "2022-11-29T13:45:36.322Z"
   },
   {
    "duration": 11,
    "start_time": "2022-11-29T13:45:36.447Z"
   },
   {
    "duration": 89,
    "start_time": "2022-11-29T13:45:36.460Z"
   },
   {
    "duration": 389,
    "start_time": "2022-11-29T13:45:36.551Z"
   },
   {
    "duration": 3,
    "start_time": "2022-11-29T13:45:36.942Z"
   },
   {
    "duration": 18,
    "start_time": "2022-11-29T13:45:36.946Z"
   },
   {
    "duration": 291,
    "start_time": "2022-11-29T13:45:36.966Z"
   },
   {
    "duration": 22,
    "start_time": "2022-11-29T13:45:37.259Z"
   },
   {
    "duration": 61,
    "start_time": "2022-11-29T13:45:37.282Z"
   },
   {
    "duration": 20,
    "start_time": "2022-11-29T13:45:37.344Z"
   },
   {
    "duration": 21,
    "start_time": "2022-11-29T13:45:37.366Z"
   },
   {
    "duration": 24,
    "start_time": "2022-11-29T13:45:37.389Z"
   },
   {
    "duration": 20,
    "start_time": "2022-11-29T13:45:37.415Z"
   },
   {
    "duration": 27,
    "start_time": "2022-11-29T13:45:37.437Z"
   },
   {
    "duration": 39,
    "start_time": "2022-11-29T13:45:37.466Z"
   },
   {
    "duration": 18,
    "start_time": "2022-11-29T13:45:37.507Z"
   },
   {
    "duration": 9,
    "start_time": "2022-11-29T13:45:37.527Z"
   },
   {
    "duration": 18,
    "start_time": "2022-11-29T13:45:37.538Z"
   },
   {
    "duration": 50,
    "start_time": "2022-11-29T13:45:37.557Z"
   },
   {
    "duration": 19,
    "start_time": "2022-11-29T13:45:37.609Z"
   },
   {
    "duration": 30,
    "start_time": "2022-11-29T13:45:37.630Z"
   },
   {
    "duration": 49,
    "start_time": "2022-11-29T13:45:37.663Z"
   },
   {
    "duration": 17,
    "start_time": "2022-11-29T13:45:37.714Z"
   },
   {
    "duration": 13,
    "start_time": "2022-11-29T13:45:37.732Z"
   },
   {
    "duration": 21,
    "start_time": "2022-11-29T13:45:37.746Z"
   },
   {
    "duration": 378,
    "start_time": "2022-11-29T13:45:37.769Z"
   },
   {
    "duration": 382,
    "start_time": "2022-11-29T13:45:38.149Z"
   },
   {
    "duration": 17,
    "start_time": "2022-11-29T13:45:38.532Z"
   },
   {
    "duration": 235,
    "start_time": "2022-11-29T13:45:38.550Z"
   },
   {
    "duration": 25,
    "start_time": "2022-11-29T13:45:38.786Z"
   },
   {
    "duration": 144,
    "start_time": "2022-11-29T13:45:38.812Z"
   },
   {
    "duration": 401,
    "start_time": "2022-11-29T13:45:38.957Z"
   },
   {
    "duration": 19,
    "start_time": "2022-11-29T13:45:39.360Z"
   },
   {
    "duration": 49,
    "start_time": "2022-11-29T13:45:39.380Z"
   },
   {
    "duration": 155,
    "start_time": "2022-11-29T13:45:39.431Z"
   },
   {
    "duration": 9,
    "start_time": "2022-11-29T13:45:39.588Z"
   },
   {
    "duration": 46,
    "start_time": "2022-11-29T13:45:39.598Z"
   },
   {
    "duration": 15,
    "start_time": "2022-11-29T13:45:39.645Z"
   },
   {
    "duration": 8,
    "start_time": "2022-11-29T13:45:39.678Z"
   },
   {
    "duration": 43,
    "start_time": "2022-11-29T13:45:39.687Z"
   },
   {
    "duration": 8,
    "start_time": "2022-11-29T13:45:39.732Z"
   },
   {
    "duration": 66,
    "start_time": "2022-11-29T13:45:39.741Z"
   },
   {
    "duration": 4,
    "start_time": "2022-11-29T13:45:39.809Z"
   },
   {
    "duration": 250,
    "start_time": "2022-11-29T13:45:39.814Z"
   },
   {
    "duration": 22,
    "start_time": "2022-11-29T13:45:40.066Z"
   },
   {
    "duration": 9,
    "start_time": "2022-11-29T13:45:40.090Z"
   },
   {
    "duration": 49,
    "start_time": "2022-11-29T13:45:40.101Z"
   },
   {
    "duration": 35,
    "start_time": "2022-11-29T13:45:40.151Z"
   },
   {
    "duration": 12,
    "start_time": "2022-11-29T13:45:40.188Z"
   },
   {
    "duration": 93,
    "start_time": "2022-11-29T13:45:40.202Z"
   },
   {
    "duration": 109,
    "start_time": "2022-11-29T13:45:40.297Z"
   },
   {
    "duration": 55,
    "start_time": "2022-11-29T13:45:40.408Z"
   },
   {
    "duration": 38,
    "start_time": "2022-11-29T13:45:40.464Z"
   },
   {
    "duration": 7,
    "start_time": "2022-11-29T13:45:40.503Z"
   },
   {
    "duration": 5,
    "start_time": "2022-11-29T13:45:40.511Z"
   },
   {
    "duration": 18,
    "start_time": "2022-11-29T13:45:40.517Z"
   },
   {
    "duration": 59,
    "start_time": "2022-11-29T13:45:40.536Z"
   },
   {
    "duration": 15,
    "start_time": "2022-11-29T13:45:40.597Z"
   },
   {
    "duration": 13,
    "start_time": "2022-11-29T13:45:40.614Z"
   },
   {
    "duration": 158,
    "start_time": "2022-11-29T13:45:40.629Z"
   },
   {
    "duration": 12,
    "start_time": "2022-11-29T13:45:40.788Z"
   },
   {
    "duration": 146,
    "start_time": "2022-11-29T13:45:40.801Z"
   },
   {
    "duration": 117,
    "start_time": "2022-11-29T13:45:40.949Z"
   },
   {
    "duration": 12,
    "start_time": "2022-11-29T13:45:41.068Z"
   },
   {
    "duration": 22,
    "start_time": "2022-11-29T13:45:41.082Z"
   },
   {
    "duration": 16,
    "start_time": "2022-11-29T13:45:41.106Z"
   },
   {
    "duration": 4,
    "start_time": "2022-11-29T13:45:41.126Z"
   },
   {
    "duration": 102,
    "start_time": "2022-11-29T13:45:41.131Z"
   },
   {
    "duration": 3,
    "start_time": "2022-11-29T13:45:41.235Z"
   },
   {
    "duration": 81,
    "start_time": "2022-11-29T13:45:43.954Z"
   },
   {
    "duration": 5,
    "start_time": "2022-11-29T13:45:44.843Z"
   },
   {
    "duration": 5,
    "start_time": "2022-11-29T13:45:45.849Z"
   },
   {
    "duration": 3,
    "start_time": "2022-11-29T13:45:51.314Z"
   },
   {
    "duration": 4,
    "start_time": "2022-11-29T13:45:52.201Z"
   },
   {
    "duration": 5,
    "start_time": "2022-11-29T13:45:52.818Z"
   },
   {
    "duration": 1115,
    "start_time": "2022-11-29T13:45:56.714Z"
   },
   {
    "duration": 1466,
    "start_time": "2022-11-29T13:47:36.498Z"
   },
   {
    "duration": 2877,
    "start_time": "2022-11-29T13:47:37.966Z"
   },
   {
    "duration": 122,
    "start_time": "2022-11-29T13:47:40.844Z"
   },
   {
    "duration": 26,
    "start_time": "2022-11-29T13:47:40.968Z"
   },
   {
    "duration": 105,
    "start_time": "2022-11-29T13:47:40.997Z"
   },
   {
    "duration": 456,
    "start_time": "2022-11-29T13:47:41.105Z"
   },
   {
    "duration": 3,
    "start_time": "2022-11-29T13:47:41.562Z"
   },
   {
    "duration": 16,
    "start_time": "2022-11-29T13:47:41.566Z"
   },
   {
    "duration": 326,
    "start_time": "2022-11-29T13:47:41.584Z"
   },
   {
    "duration": 16,
    "start_time": "2022-11-29T13:47:41.913Z"
   },
   {
    "duration": 55,
    "start_time": "2022-11-29T13:47:41.931Z"
   },
   {
    "duration": 21,
    "start_time": "2022-11-29T13:47:41.989Z"
   },
   {
    "duration": 16,
    "start_time": "2022-11-29T13:47:42.011Z"
   },
   {
    "duration": 20,
    "start_time": "2022-11-29T13:47:42.028Z"
   },
   {
    "duration": 32,
    "start_time": "2022-11-29T13:47:42.050Z"
   },
   {
    "duration": 26,
    "start_time": "2022-11-29T13:47:42.085Z"
   },
   {
    "duration": 44,
    "start_time": "2022-11-29T13:47:42.113Z"
   },
   {
    "duration": 50,
    "start_time": "2022-11-29T13:47:42.159Z"
   },
   {
    "duration": 11,
    "start_time": "2022-11-29T13:47:42.211Z"
   },
   {
    "duration": 18,
    "start_time": "2022-11-29T13:47:42.223Z"
   },
   {
    "duration": 57,
    "start_time": "2022-11-29T13:47:42.242Z"
   },
   {
    "duration": 21,
    "start_time": "2022-11-29T13:47:42.301Z"
   },
   {
    "duration": 16,
    "start_time": "2022-11-29T13:47:42.323Z"
   },
   {
    "duration": 68,
    "start_time": "2022-11-29T13:47:42.340Z"
   },
   {
    "duration": 18,
    "start_time": "2022-11-29T13:47:42.409Z"
   },
   {
    "duration": 12,
    "start_time": "2022-11-29T13:47:42.428Z"
   },
   {
    "duration": 18,
    "start_time": "2022-11-29T13:47:42.441Z"
   },
   {
    "duration": 483,
    "start_time": "2022-11-29T13:47:42.462Z"
   },
   {
    "duration": 448,
    "start_time": "2022-11-29T13:47:42.946Z"
   },
   {
    "duration": 20,
    "start_time": "2022-11-29T13:47:43.395Z"
   },
   {
    "duration": 286,
    "start_time": "2022-11-29T13:47:43.416Z"
   },
   {
    "duration": 25,
    "start_time": "2022-11-29T13:47:43.704Z"
   },
   {
    "duration": 147,
    "start_time": "2022-11-29T13:47:43.730Z"
   },
   {
    "duration": 535,
    "start_time": "2022-11-29T13:47:43.879Z"
   },
   {
    "duration": 9,
    "start_time": "2022-11-29T13:47:44.416Z"
   },
   {
    "duration": 67,
    "start_time": "2022-11-29T13:47:44.426Z"
   },
   {
    "duration": 161,
    "start_time": "2022-11-29T13:47:44.495Z"
   },
   {
    "duration": 9,
    "start_time": "2022-11-29T13:47:44.657Z"
   },
   {
    "duration": 55,
    "start_time": "2022-11-29T13:47:44.668Z"
   },
   {
    "duration": 15,
    "start_time": "2022-11-29T13:47:44.725Z"
   },
   {
    "duration": 7,
    "start_time": "2022-11-29T13:47:44.741Z"
   },
   {
    "duration": 63,
    "start_time": "2022-11-29T13:47:44.749Z"
   },
   {
    "duration": 8,
    "start_time": "2022-11-29T13:47:44.813Z"
   },
   {
    "duration": 37,
    "start_time": "2022-11-29T13:47:44.822Z"
   },
   {
    "duration": 19,
    "start_time": "2022-11-29T13:47:44.860Z"
   },
   {
    "duration": 217,
    "start_time": "2022-11-29T13:47:44.882Z"
   },
   {
    "duration": 16,
    "start_time": "2022-11-29T13:47:45.101Z"
   },
   {
    "duration": 9,
    "start_time": "2022-11-29T13:47:45.118Z"
   },
   {
    "duration": 56,
    "start_time": "2022-11-29T13:47:45.130Z"
   },
   {
    "duration": 18,
    "start_time": "2022-11-29T13:47:45.188Z"
   },
   {
    "duration": 14,
    "start_time": "2022-11-29T13:47:45.207Z"
   },
   {
    "duration": 107,
    "start_time": "2022-11-29T13:47:45.223Z"
   },
   {
    "duration": 178,
    "start_time": "2022-11-29T13:47:45.332Z"
   },
   {
    "duration": 67,
    "start_time": "2022-11-29T13:47:45.511Z"
   },
   {
    "duration": 40,
    "start_time": "2022-11-29T13:47:45.580Z"
   },
   {
    "duration": 7,
    "start_time": "2022-11-29T13:47:45.622Z"
   },
   {
    "duration": 6,
    "start_time": "2022-11-29T13:47:45.631Z"
   },
   {
    "duration": 45,
    "start_time": "2022-11-29T13:47:45.638Z"
   },
   {
    "duration": 38,
    "start_time": "2022-11-29T13:47:45.687Z"
   },
   {
    "duration": 14,
    "start_time": "2022-11-29T13:47:45.727Z"
   },
   {
    "duration": 12,
    "start_time": "2022-11-29T13:47:45.743Z"
   },
   {
    "duration": 172,
    "start_time": "2022-11-29T13:47:45.757Z"
   },
   {
    "duration": 12,
    "start_time": "2022-11-29T13:47:45.930Z"
   },
   {
    "duration": 177,
    "start_time": "2022-11-29T13:47:45.943Z"
   },
   {
    "duration": 103,
    "start_time": "2022-11-29T13:47:46.121Z"
   },
   {
    "duration": 5,
    "start_time": "2022-11-29T13:47:46.226Z"
   },
   {
    "duration": 35,
    "start_time": "2022-11-29T13:47:46.232Z"
   },
   {
    "duration": 17,
    "start_time": "2022-11-29T13:47:46.269Z"
   },
   {
    "duration": 6,
    "start_time": "2022-11-29T13:47:46.288Z"
   },
   {
    "duration": 91,
    "start_time": "2022-11-29T13:47:46.296Z"
   },
   {
    "duration": 3,
    "start_time": "2022-11-29T13:47:46.389Z"
   },
   {
    "duration": 39,
    "start_time": "2022-11-29T13:47:46.393Z"
   },
   {
    "duration": 9,
    "start_time": "2022-11-29T13:47:46.433Z"
   },
   {
    "duration": 5,
    "start_time": "2022-11-29T13:47:49.521Z"
   },
   {
    "duration": 3,
    "start_time": "2022-11-29T13:47:53.321Z"
   },
   {
    "duration": 5,
    "start_time": "2022-11-29T13:47:54.049Z"
   },
   {
    "duration": 2,
    "start_time": "2022-11-29T13:48:19.396Z"
   },
   {
    "duration": 35,
    "start_time": "2022-11-29T13:48:20.074Z"
   },
   {
    "duration": 16,
    "start_time": "2022-11-29T13:48:20.595Z"
   },
   {
    "duration": 4,
    "start_time": "2022-11-29T13:48:21.361Z"
   },
   {
    "duration": 3,
    "start_time": "2022-11-29T13:48:22.505Z"
   },
   {
    "duration": 4,
    "start_time": "2022-11-29T13:48:23.233Z"
   },
   {
    "duration": 4,
    "start_time": "2022-11-29T13:48:23.931Z"
   },
   {
    "duration": 259,
    "start_time": "2022-11-29T13:48:24.882Z"
   },
   {
    "duration": 4823,
    "start_time": "2022-11-29T13:48:25.234Z"
   },
   {
    "duration": 23,
    "start_time": "2022-11-29T13:48:52.938Z"
   },
   {
    "duration": 3,
    "start_time": "2022-11-29T13:49:23.185Z"
   },
   {
    "duration": 19,
    "start_time": "2022-11-29T13:49:23.632Z"
   },
   {
    "duration": 14,
    "start_time": "2022-11-29T13:49:24.034Z"
   },
   {
    "duration": 6,
    "start_time": "2022-11-29T13:49:24.418Z"
   },
   {
    "duration": 3,
    "start_time": "2022-11-29T13:49:27.739Z"
   },
   {
    "duration": 4,
    "start_time": "2022-11-29T13:49:28.401Z"
   },
   {
    "duration": 5,
    "start_time": "2022-11-29T13:49:29.170Z"
   },
   {
    "duration": 627,
    "start_time": "2022-11-29T13:49:30.097Z"
   },
   {
    "duration": 1667,
    "start_time": "2022-11-29T17:27:00.261Z"
   },
   {
    "duration": 2859,
    "start_time": "2022-11-29T17:27:01.930Z"
   },
   {
    "duration": 120,
    "start_time": "2022-11-29T17:27:04.792Z"
   },
   {
    "duration": 23,
    "start_time": "2022-11-29T17:27:04.914Z"
   },
   {
    "duration": 109,
    "start_time": "2022-11-29T17:27:04.939Z"
   },
   {
    "duration": 475,
    "start_time": "2022-11-29T17:27:05.050Z"
   },
   {
    "duration": 3,
    "start_time": "2022-11-29T17:27:05.527Z"
   },
   {
    "duration": 9,
    "start_time": "2022-11-29T17:27:05.531Z"
   },
   {
    "duration": 281,
    "start_time": "2022-11-29T17:27:05.542Z"
   },
   {
    "duration": 22,
    "start_time": "2022-11-29T17:27:05.826Z"
   },
   {
    "duration": 67,
    "start_time": "2022-11-29T17:27:05.851Z"
   },
   {
    "duration": 20,
    "start_time": "2022-11-29T17:27:05.920Z"
   },
   {
    "duration": 15,
    "start_time": "2022-11-29T17:27:05.942Z"
   },
   {
    "duration": 36,
    "start_time": "2022-11-29T17:27:05.959Z"
   },
   {
    "duration": 14,
    "start_time": "2022-11-29T17:27:05.996Z"
   },
   {
    "duration": 22,
    "start_time": "2022-11-29T17:27:06.012Z"
   },
   {
    "duration": 42,
    "start_time": "2022-11-29T17:27:06.035Z"
   },
   {
    "duration": 17,
    "start_time": "2022-11-29T17:27:06.079Z"
   },
   {
    "duration": 27,
    "start_time": "2022-11-29T17:27:06.098Z"
   },
   {
    "duration": 14,
    "start_time": "2022-11-29T17:27:06.127Z"
   },
   {
    "duration": 40,
    "start_time": "2022-11-29T17:27:06.143Z"
   },
   {
    "duration": 38,
    "start_time": "2022-11-29T17:27:06.184Z"
   },
   {
    "duration": 17,
    "start_time": "2022-11-29T17:27:06.224Z"
   },
   {
    "duration": 51,
    "start_time": "2022-11-29T17:27:06.242Z"
   },
   {
    "duration": 29,
    "start_time": "2022-11-29T17:27:06.295Z"
   },
   {
    "duration": 13,
    "start_time": "2022-11-29T17:27:06.326Z"
   },
   {
    "duration": 15,
    "start_time": "2022-11-29T17:27:06.341Z"
   },
   {
    "duration": 467,
    "start_time": "2022-11-29T17:27:06.360Z"
   },
   {
    "duration": 515,
    "start_time": "2022-11-29T17:27:06.829Z"
   },
   {
    "duration": 21,
    "start_time": "2022-11-29T17:27:07.346Z"
   },
   {
    "duration": 276,
    "start_time": "2022-11-29T17:27:07.370Z"
   },
   {
    "duration": 27,
    "start_time": "2022-11-29T17:27:07.647Z"
   },
   {
    "duration": 159,
    "start_time": "2022-11-29T17:27:07.676Z"
   },
   {
    "duration": 445,
    "start_time": "2022-11-29T17:27:07.837Z"
   },
   {
    "duration": 10,
    "start_time": "2022-11-29T17:27:08.284Z"
   },
   {
    "duration": 69,
    "start_time": "2022-11-29T17:27:08.296Z"
   },
   {
    "duration": 164,
    "start_time": "2022-11-29T17:27:08.367Z"
   },
   {
    "duration": 11,
    "start_time": "2022-11-29T17:27:08.532Z"
   },
   {
    "duration": 46,
    "start_time": "2022-11-29T17:27:08.545Z"
   },
   {
    "duration": 36,
    "start_time": "2022-11-29T17:27:08.593Z"
   },
   {
    "duration": 9,
    "start_time": "2022-11-29T17:27:08.630Z"
   },
   {
    "duration": 44,
    "start_time": "2022-11-29T17:27:08.641Z"
   },
   {
    "duration": 9,
    "start_time": "2022-11-29T17:27:08.687Z"
   },
   {
    "duration": 58,
    "start_time": "2022-11-29T17:27:08.698Z"
   },
   {
    "duration": 5,
    "start_time": "2022-11-29T17:27:08.758Z"
   },
   {
    "duration": 189,
    "start_time": "2022-11-29T17:27:08.765Z"
   },
   {
    "duration": 17,
    "start_time": "2022-11-29T17:27:08.956Z"
   },
   {
    "duration": 16,
    "start_time": "2022-11-29T17:27:08.974Z"
   },
   {
    "duration": 61,
    "start_time": "2022-11-29T17:27:08.991Z"
   },
   {
    "duration": 15,
    "start_time": "2022-11-29T17:27:09.054Z"
   },
   {
    "duration": 20,
    "start_time": "2022-11-29T17:27:09.071Z"
   },
   {
    "duration": 100,
    "start_time": "2022-11-29T17:27:09.092Z"
   },
   {
    "duration": 204,
    "start_time": "2022-11-29T17:27:09.194Z"
   },
   {
    "duration": 67,
    "start_time": "2022-11-29T17:27:09.400Z"
   },
   {
    "duration": 31,
    "start_time": "2022-11-29T17:27:09.468Z"
   },
   {
    "duration": 21,
    "start_time": "2022-11-29T17:27:09.501Z"
   },
   {
    "duration": 5,
    "start_time": "2022-11-29T17:27:09.524Z"
   },
   {
    "duration": 30,
    "start_time": "2022-11-29T17:27:09.530Z"
   },
   {
    "duration": 36,
    "start_time": "2022-11-29T17:27:09.562Z"
   },
   {
    "duration": 31,
    "start_time": "2022-11-29T17:27:09.600Z"
   },
   {
    "duration": 14,
    "start_time": "2022-11-29T17:27:09.633Z"
   },
   {
    "duration": 164,
    "start_time": "2022-11-29T17:27:09.648Z"
   },
   {
    "duration": 19,
    "start_time": "2022-11-29T17:27:09.814Z"
   },
   {
    "duration": 162,
    "start_time": "2022-11-29T17:27:09.835Z"
   },
   {
    "duration": 159,
    "start_time": "2022-11-29T17:27:09.999Z"
   },
   {
    "duration": 7,
    "start_time": "2022-11-29T17:27:10.160Z"
   },
   {
    "duration": 47,
    "start_time": "2022-11-29T17:27:10.169Z"
   },
   {
    "duration": 20,
    "start_time": "2022-11-29T17:27:10.218Z"
   },
   {
    "duration": 15,
    "start_time": "2022-11-29T17:27:10.240Z"
   },
   {
    "duration": 109,
    "start_time": "2022-11-29T17:27:10.257Z"
   },
   {
    "duration": 3,
    "start_time": "2022-11-29T17:27:10.368Z"
   },
   {
    "duration": 29,
    "start_time": "2022-11-29T17:27:10.373Z"
   },
   {
    "duration": 39,
    "start_time": "2022-11-29T17:27:10.404Z"
   },
   {
    "duration": 21,
    "start_time": "2022-11-29T17:27:10.445Z"
   },
   {
    "duration": 18,
    "start_time": "2022-11-29T17:27:10.468Z"
   },
   {
    "duration": 24,
    "start_time": "2022-11-29T17:27:10.488Z"
   },
   {
    "duration": 31,
    "start_time": "2022-11-29T17:27:10.514Z"
   },
   {
    "duration": 634,
    "start_time": "2022-11-29T17:27:10.547Z"
   },
   {
    "duration": 58954,
    "start_time": "2022-11-29T17:27:11.183Z"
   },
   {
    "duration": 31,
    "start_time": "2022-11-29T17:28:10.139Z"
   },
   {
    "duration": 5,
    "start_time": "2022-11-29T17:30:31.477Z"
   },
   {
    "duration": 856,
    "start_time": "2022-11-29T17:30:31.485Z"
   },
   {
    "duration": 107,
    "start_time": "2022-11-29T17:30:32.343Z"
   },
   {
    "duration": 16,
    "start_time": "2022-11-29T17:30:32.452Z"
   },
   {
    "duration": 103,
    "start_time": "2022-11-29T17:30:32.470Z"
   },
   {
    "duration": 395,
    "start_time": "2022-11-29T17:30:32.574Z"
   },
   {
    "duration": 3,
    "start_time": "2022-11-29T17:30:32.971Z"
   },
   {
    "duration": 9,
    "start_time": "2022-11-29T17:30:32.975Z"
   },
   {
    "duration": 259,
    "start_time": "2022-11-29T17:30:32.986Z"
   },
   {
    "duration": 15,
    "start_time": "2022-11-29T17:30:33.247Z"
   },
   {
    "duration": 38,
    "start_time": "2022-11-29T17:30:33.264Z"
   },
   {
    "duration": 34,
    "start_time": "2022-11-29T17:30:33.304Z"
   },
   {
    "duration": 14,
    "start_time": "2022-11-29T17:30:33.340Z"
   },
   {
    "duration": 17,
    "start_time": "2022-11-29T17:30:33.357Z"
   },
   {
    "duration": 12,
    "start_time": "2022-11-29T17:30:33.376Z"
   },
   {
    "duration": 41,
    "start_time": "2022-11-29T17:30:33.389Z"
   },
   {
    "duration": 41,
    "start_time": "2022-11-29T17:30:33.431Z"
   },
   {
    "duration": 18,
    "start_time": "2022-11-29T17:30:33.473Z"
   },
   {
    "duration": 29,
    "start_time": "2022-11-29T17:30:33.493Z"
   },
   {
    "duration": 16,
    "start_time": "2022-11-29T17:30:33.524Z"
   },
   {
    "duration": 38,
    "start_time": "2022-11-29T17:30:33.541Z"
   },
   {
    "duration": 17,
    "start_time": "2022-11-29T17:30:33.581Z"
   },
   {
    "duration": 35,
    "start_time": "2022-11-29T17:30:33.599Z"
   },
   {
    "duration": 40,
    "start_time": "2022-11-29T17:30:33.635Z"
   },
   {
    "duration": 45,
    "start_time": "2022-11-29T17:30:33.677Z"
   },
   {
    "duration": 16,
    "start_time": "2022-11-29T17:30:33.724Z"
   },
   {
    "duration": 14,
    "start_time": "2022-11-29T17:30:33.741Z"
   },
   {
    "duration": 443,
    "start_time": "2022-11-29T17:30:33.756Z"
   },
   {
    "duration": 441,
    "start_time": "2022-11-29T17:30:34.201Z"
   },
   {
    "duration": 18,
    "start_time": "2022-11-29T17:30:34.644Z"
   },
   {
    "duration": 224,
    "start_time": "2022-11-29T17:30:34.663Z"
   },
   {
    "duration": 38,
    "start_time": "2022-11-29T17:30:34.889Z"
   },
   {
    "duration": 152,
    "start_time": "2022-11-29T17:30:34.928Z"
   },
   {
    "duration": 426,
    "start_time": "2022-11-29T17:30:35.082Z"
   },
   {
    "duration": 18,
    "start_time": "2022-11-29T17:30:35.510Z"
   },
   {
    "duration": 52,
    "start_time": "2022-11-29T17:30:35.530Z"
   },
   {
    "duration": 170,
    "start_time": "2022-11-29T17:30:35.583Z"
   },
   {
    "duration": 10,
    "start_time": "2022-11-29T17:30:35.755Z"
   },
   {
    "duration": 62,
    "start_time": "2022-11-29T17:30:35.766Z"
   },
   {
    "duration": 18,
    "start_time": "2022-11-29T17:30:35.830Z"
   },
   {
    "duration": 10,
    "start_time": "2022-11-29T17:30:35.853Z"
   },
   {
    "duration": 62,
    "start_time": "2022-11-29T17:30:35.865Z"
   },
   {
    "duration": 8,
    "start_time": "2022-11-29T17:30:35.930Z"
   },
   {
    "duration": 43,
    "start_time": "2022-11-29T17:30:35.939Z"
   },
   {
    "duration": 4,
    "start_time": "2022-11-29T17:30:35.984Z"
   },
   {
    "duration": 194,
    "start_time": "2022-11-29T17:30:35.990Z"
   },
   {
    "duration": 18,
    "start_time": "2022-11-29T17:30:36.185Z"
   },
   {
    "duration": 20,
    "start_time": "2022-11-29T17:30:36.204Z"
   },
   {
    "duration": 41,
    "start_time": "2022-11-29T17:30:36.226Z"
   },
   {
    "duration": 16,
    "start_time": "2022-11-29T17:30:36.268Z"
   },
   {
    "duration": 15,
    "start_time": "2022-11-29T17:30:36.285Z"
   },
   {
    "duration": 82,
    "start_time": "2022-11-29T17:30:36.322Z"
   },
   {
    "duration": 128,
    "start_time": "2022-11-29T17:30:36.406Z"
   },
   {
    "duration": 61,
    "start_time": "2022-11-29T17:30:36.536Z"
   },
   {
    "duration": 44,
    "start_time": "2022-11-29T17:30:36.600Z"
   },
   {
    "duration": 8,
    "start_time": "2022-11-29T17:30:36.646Z"
   },
   {
    "duration": 6,
    "start_time": "2022-11-29T17:30:36.656Z"
   },
   {
    "duration": 21,
    "start_time": "2022-11-29T17:30:36.664Z"
   },
   {
    "duration": 79,
    "start_time": "2022-11-29T17:30:36.686Z"
   },
   {
    "duration": 18,
    "start_time": "2022-11-29T17:30:36.767Z"
   },
   {
    "duration": 37,
    "start_time": "2022-11-29T17:30:36.786Z"
   },
   {
    "duration": 175,
    "start_time": "2022-11-29T17:30:36.825Z"
   },
   {
    "duration": 14,
    "start_time": "2022-11-29T17:30:37.002Z"
   },
   {
    "duration": 168,
    "start_time": "2022-11-29T17:30:37.022Z"
   },
   {
    "duration": 116,
    "start_time": "2022-11-29T17:30:37.192Z"
   },
   {
    "duration": 13,
    "start_time": "2022-11-29T17:30:37.310Z"
   },
   {
    "duration": 19,
    "start_time": "2022-11-29T17:30:37.324Z"
   },
   {
    "duration": 18,
    "start_time": "2022-11-29T17:30:37.345Z"
   },
   {
    "duration": 3,
    "start_time": "2022-11-29T17:30:37.365Z"
   },
   {
    "duration": 128,
    "start_time": "2022-11-29T17:30:37.370Z"
   },
   {
    "duration": 3,
    "start_time": "2022-11-29T17:30:37.500Z"
   },
   {
    "duration": 69,
    "start_time": "2022-11-29T17:30:37.504Z"
   },
   {
    "duration": 6,
    "start_time": "2022-11-29T17:30:37.575Z"
   },
   {
    "duration": 24,
    "start_time": "2022-11-29T17:30:37.583Z"
   },
   {
    "duration": 24,
    "start_time": "2022-11-29T17:30:37.609Z"
   },
   {
    "duration": 5,
    "start_time": "2022-11-29T17:30:37.635Z"
   },
   {
    "duration": 7,
    "start_time": "2022-11-29T17:30:37.642Z"
   },
   {
    "duration": 1073,
    "start_time": "2022-11-29T17:30:37.651Z"
   },
   {
    "duration": 45,
    "start_time": "2022-11-29T17:32:15.567Z"
   },
   {
    "duration": 1331,
    "start_time": "2022-11-29T17:32:19.440Z"
   },
   {
    "duration": 2796,
    "start_time": "2022-11-29T17:32:20.774Z"
   },
   {
    "duration": 114,
    "start_time": "2022-11-29T17:32:23.572Z"
   },
   {
    "duration": 16,
    "start_time": "2022-11-29T17:32:23.687Z"
   },
   {
    "duration": 118,
    "start_time": "2022-11-29T17:32:23.705Z"
   },
   {
    "duration": 507,
    "start_time": "2022-11-29T17:32:23.824Z"
   },
   {
    "duration": 4,
    "start_time": "2022-11-29T17:32:24.333Z"
   },
   {
    "duration": 13,
    "start_time": "2022-11-29T17:32:24.340Z"
   },
   {
    "duration": 271,
    "start_time": "2022-11-29T17:32:24.355Z"
   },
   {
    "duration": 15,
    "start_time": "2022-11-29T17:32:24.627Z"
   },
   {
    "duration": 49,
    "start_time": "2022-11-29T17:32:24.643Z"
   },
   {
    "duration": 28,
    "start_time": "2022-11-29T17:32:24.694Z"
   },
   {
    "duration": 14,
    "start_time": "2022-11-29T17:32:24.724Z"
   },
   {
    "duration": 21,
    "start_time": "2022-11-29T17:32:24.741Z"
   },
   {
    "duration": 17,
    "start_time": "2022-11-29T17:32:24.764Z"
   },
   {
    "duration": 27,
    "start_time": "2022-11-29T17:32:24.783Z"
   },
   {
    "duration": 43,
    "start_time": "2022-11-29T17:32:24.812Z"
   },
   {
    "duration": 18,
    "start_time": "2022-11-29T17:32:24.857Z"
   },
   {
    "duration": 19,
    "start_time": "2022-11-29T17:32:24.876Z"
   },
   {
    "duration": 25,
    "start_time": "2022-11-29T17:32:24.897Z"
   },
   {
    "duration": 52,
    "start_time": "2022-11-29T17:32:24.924Z"
   },
   {
    "duration": 17,
    "start_time": "2022-11-29T17:32:24.978Z"
   },
   {
    "duration": 33,
    "start_time": "2022-11-29T17:32:24.997Z"
   },
   {
    "duration": 61,
    "start_time": "2022-11-29T17:32:25.032Z"
   },
   {
    "duration": 25,
    "start_time": "2022-11-29T17:32:25.095Z"
   },
   {
    "duration": 23,
    "start_time": "2022-11-29T17:32:25.122Z"
   },
   {
    "duration": 46,
    "start_time": "2022-11-29T17:32:25.147Z"
   },
   {
    "duration": 461,
    "start_time": "2022-11-29T17:32:25.195Z"
   },
   {
    "duration": 501,
    "start_time": "2022-11-29T17:32:25.657Z"
   },
   {
    "duration": 21,
    "start_time": "2022-11-29T17:32:26.159Z"
   },
   {
    "duration": 271,
    "start_time": "2022-11-29T17:32:26.181Z"
   },
   {
    "duration": 27,
    "start_time": "2022-11-29T17:32:26.454Z"
   },
   {
    "duration": 170,
    "start_time": "2022-11-29T17:32:26.483Z"
   },
   {
    "duration": 443,
    "start_time": "2022-11-29T17:32:26.655Z"
   },
   {
    "duration": 11,
    "start_time": "2022-11-29T17:32:27.100Z"
   },
   {
    "duration": 71,
    "start_time": "2022-11-29T17:32:27.112Z"
   },
   {
    "duration": 164,
    "start_time": "2022-11-29T17:32:27.186Z"
   },
   {
    "duration": 10,
    "start_time": "2022-11-29T17:32:27.352Z"
   },
   {
    "duration": 47,
    "start_time": "2022-11-29T17:32:27.363Z"
   },
   {
    "duration": 17,
    "start_time": "2022-11-29T17:32:27.421Z"
   },
   {
    "duration": 8,
    "start_time": "2022-11-29T17:32:27.442Z"
   },
   {
    "duration": 42,
    "start_time": "2022-11-29T17:32:27.451Z"
   },
   {
    "duration": 8,
    "start_time": "2022-11-29T17:32:27.495Z"
   },
   {
    "duration": 40,
    "start_time": "2022-11-29T17:32:27.523Z"
   },
   {
    "duration": 4,
    "start_time": "2022-11-29T17:32:27.564Z"
   },
   {
    "duration": 180,
    "start_time": "2022-11-29T17:32:27.570Z"
   },
   {
    "duration": 16,
    "start_time": "2022-11-29T17:32:27.751Z"
   },
   {
    "duration": 8,
    "start_time": "2022-11-29T17:32:27.768Z"
   },
   {
    "duration": 61,
    "start_time": "2022-11-29T17:32:27.778Z"
   },
   {
    "duration": 18,
    "start_time": "2022-11-29T17:32:27.842Z"
   },
   {
    "duration": 15,
    "start_time": "2022-11-29T17:32:27.862Z"
   },
   {
    "duration": 100,
    "start_time": "2022-11-29T17:32:27.879Z"
   },
   {
    "duration": 191,
    "start_time": "2022-11-29T17:32:27.981Z"
   },
   {
    "duration": 67,
    "start_time": "2022-11-29T17:32:28.174Z"
   },
   {
    "duration": 30,
    "start_time": "2022-11-29T17:32:28.242Z"
   },
   {
    "duration": 7,
    "start_time": "2022-11-29T17:32:28.274Z"
   },
   {
    "duration": 5,
    "start_time": "2022-11-29T17:32:28.283Z"
   },
   {
    "duration": 39,
    "start_time": "2022-11-29T17:32:28.289Z"
   },
   {
    "duration": 36,
    "start_time": "2022-11-29T17:32:28.330Z"
   },
   {
    "duration": 16,
    "start_time": "2022-11-29T17:32:28.367Z"
   },
   {
    "duration": 14,
    "start_time": "2022-11-29T17:32:28.385Z"
   },
   {
    "duration": 149,
    "start_time": "2022-11-29T17:32:28.422Z"
   },
   {
    "duration": 13,
    "start_time": "2022-11-29T17:32:28.573Z"
   },
   {
    "duration": 180,
    "start_time": "2022-11-29T17:32:28.588Z"
   },
   {
    "duration": 111,
    "start_time": "2022-11-29T17:32:28.770Z"
   },
   {
    "duration": 6,
    "start_time": "2022-11-29T17:32:28.883Z"
   },
   {
    "duration": 42,
    "start_time": "2022-11-29T17:32:28.890Z"
   },
   {
    "duration": 20,
    "start_time": "2022-11-29T17:32:28.934Z"
   },
   {
    "duration": 3,
    "start_time": "2022-11-29T17:32:28.956Z"
   },
   {
    "duration": 95,
    "start_time": "2022-11-29T17:32:28.961Z"
   },
   {
    "duration": 24,
    "start_time": "2022-11-29T17:32:29.057Z"
   },
   {
    "duration": 22,
    "start_time": "2022-11-29T17:32:49.861Z"
   },
   {
    "duration": 5,
    "start_time": "2022-11-29T17:33:43.588Z"
   },
   {
    "duration": 803,
    "start_time": "2022-11-29T17:33:43.595Z"
   },
   {
    "duration": 109,
    "start_time": "2022-11-29T17:33:44.399Z"
   },
   {
    "duration": 19,
    "start_time": "2022-11-29T17:33:44.510Z"
   },
   {
    "duration": 94,
    "start_time": "2022-11-29T17:33:44.531Z"
   },
   {
    "duration": 382,
    "start_time": "2022-11-29T17:33:44.627Z"
   },
   {
    "duration": 11,
    "start_time": "2022-11-29T17:33:45.011Z"
   },
   {
    "duration": 18,
    "start_time": "2022-11-29T17:33:45.023Z"
   },
   {
    "duration": 251,
    "start_time": "2022-11-29T17:33:45.043Z"
   },
   {
    "duration": 26,
    "start_time": "2022-11-29T17:33:45.296Z"
   },
   {
    "duration": 38,
    "start_time": "2022-11-29T17:33:45.324Z"
   },
   {
    "duration": 19,
    "start_time": "2022-11-29T17:33:45.363Z"
   },
   {
    "duration": 17,
    "start_time": "2022-11-29T17:33:45.384Z"
   },
   {
    "duration": 19,
    "start_time": "2022-11-29T17:33:45.421Z"
   },
   {
    "duration": 11,
    "start_time": "2022-11-29T17:33:45.443Z"
   },
   {
    "duration": 19,
    "start_time": "2022-11-29T17:33:45.456Z"
   },
   {
    "duration": 59,
    "start_time": "2022-11-29T17:33:45.477Z"
   },
   {
    "duration": 18,
    "start_time": "2022-11-29T17:33:45.538Z"
   },
   {
    "duration": 16,
    "start_time": "2022-11-29T17:33:45.558Z"
   },
   {
    "duration": 17,
    "start_time": "2022-11-29T17:33:45.575Z"
   },
   {
    "duration": 56,
    "start_time": "2022-11-29T17:33:45.593Z"
   },
   {
    "duration": 18,
    "start_time": "2022-11-29T17:33:45.651Z"
   },
   {
    "duration": 15,
    "start_time": "2022-11-29T17:33:45.671Z"
   },
   {
    "duration": 59,
    "start_time": "2022-11-29T17:33:45.688Z"
   },
   {
    "duration": 16,
    "start_time": "2022-11-29T17:33:45.749Z"
   },
   {
    "duration": 15,
    "start_time": "2022-11-29T17:33:45.767Z"
   },
   {
    "duration": 20,
    "start_time": "2022-11-29T17:33:45.784Z"
   },
   {
    "duration": 401,
    "start_time": "2022-11-29T17:33:45.821Z"
   },
   {
    "duration": 404,
    "start_time": "2022-11-29T17:33:46.223Z"
   },
   {
    "duration": 17,
    "start_time": "2022-11-29T17:33:46.628Z"
   },
   {
    "duration": 211,
    "start_time": "2022-11-29T17:33:46.647Z"
   },
   {
    "duration": 25,
    "start_time": "2022-11-29T17:33:46.859Z"
   },
   {
    "duration": 151,
    "start_time": "2022-11-29T17:33:46.886Z"
   },
   {
    "duration": 406,
    "start_time": "2022-11-29T17:33:47.039Z"
   },
   {
    "duration": 10,
    "start_time": "2022-11-29T17:33:47.447Z"
   },
   {
    "duration": 64,
    "start_time": "2022-11-29T17:33:47.458Z"
   },
   {
    "duration": 169,
    "start_time": "2022-11-29T17:33:47.524Z"
   },
   {
    "duration": 10,
    "start_time": "2022-11-29T17:33:47.694Z"
   },
   {
    "duration": 55,
    "start_time": "2022-11-29T17:33:47.706Z"
   },
   {
    "duration": 16,
    "start_time": "2022-11-29T17:33:47.762Z"
   },
   {
    "duration": 8,
    "start_time": "2022-11-29T17:33:47.780Z"
   },
   {
    "duration": 70,
    "start_time": "2022-11-29T17:33:47.789Z"
   },
   {
    "duration": 8,
    "start_time": "2022-11-29T17:33:47.861Z"
   },
   {
    "duration": 56,
    "start_time": "2022-11-29T17:33:47.870Z"
   },
   {
    "duration": 4,
    "start_time": "2022-11-29T17:33:47.927Z"
   },
   {
    "duration": 174,
    "start_time": "2022-11-29T17:33:47.933Z"
   },
   {
    "duration": 24,
    "start_time": "2022-11-29T17:33:48.108Z"
   },
   {
    "duration": 8,
    "start_time": "2022-11-29T17:33:48.133Z"
   },
   {
    "duration": 39,
    "start_time": "2022-11-29T17:33:48.143Z"
   },
   {
    "duration": 43,
    "start_time": "2022-11-29T17:33:48.183Z"
   },
   {
    "duration": 14,
    "start_time": "2022-11-29T17:33:48.227Z"
   },
   {
    "duration": 96,
    "start_time": "2022-11-29T17:33:48.242Z"
   },
   {
    "duration": 119,
    "start_time": "2022-11-29T17:33:48.340Z"
   },
   {
    "duration": 67,
    "start_time": "2022-11-29T17:33:48.461Z"
   },
   {
    "duration": 29,
    "start_time": "2022-11-29T17:33:48.530Z"
   },
   {
    "duration": 7,
    "start_time": "2022-11-29T17:33:48.561Z"
   },
   {
    "duration": 23,
    "start_time": "2022-11-29T17:33:48.570Z"
   },
   {
    "duration": 38,
    "start_time": "2022-11-29T17:33:48.594Z"
   },
   {
    "duration": 36,
    "start_time": "2022-11-29T17:33:48.634Z"
   },
   {
    "duration": 16,
    "start_time": "2022-11-29T17:33:48.672Z"
   },
   {
    "duration": 16,
    "start_time": "2022-11-29T17:33:48.689Z"
   },
   {
    "duration": 145,
    "start_time": "2022-11-29T17:33:48.723Z"
   },
   {
    "duration": 12,
    "start_time": "2022-11-29T17:33:48.870Z"
   },
   {
    "duration": 163,
    "start_time": "2022-11-29T17:33:48.884Z"
   },
   {
    "duration": 126,
    "start_time": "2022-11-29T17:33:49.048Z"
   },
   {
    "duration": 6,
    "start_time": "2022-11-29T17:33:49.176Z"
   },
   {
    "duration": 37,
    "start_time": "2022-11-29T17:33:49.183Z"
   },
   {
    "duration": 22,
    "start_time": "2022-11-29T17:33:49.223Z"
   },
   {
    "duration": 7,
    "start_time": "2022-11-29T17:33:49.246Z"
   },
   {
    "duration": 89,
    "start_time": "2022-11-29T17:33:49.255Z"
   },
   {
    "duration": 2,
    "start_time": "2022-11-29T17:33:49.346Z"
   },
   {
    "duration": 42,
    "start_time": "2022-11-29T17:33:49.350Z"
   },
   {
    "duration": 21,
    "start_time": "2022-11-29T17:33:49.394Z"
   },
   {
    "duration": 11,
    "start_time": "2022-11-29T17:33:49.417Z"
   },
   {
    "duration": 31,
    "start_time": "2022-11-29T17:33:49.429Z"
   },
   {
    "duration": 14,
    "start_time": "2022-11-29T17:33:49.462Z"
   },
   {
    "duration": 23,
    "start_time": "2022-11-29T17:33:49.477Z"
   },
   {
    "duration": 694,
    "start_time": "2022-11-29T17:33:49.501Z"
   },
   {
    "duration": 1429,
    "start_time": "2022-11-29T17:34:42.591Z"
   },
   {
    "duration": 2849,
    "start_time": "2022-11-29T17:34:44.021Z"
   },
   {
    "duration": 113,
    "start_time": "2022-11-29T17:34:46.871Z"
   },
   {
    "duration": 15,
    "start_time": "2022-11-29T17:34:46.986Z"
   },
   {
    "duration": 111,
    "start_time": "2022-11-29T17:34:47.003Z"
   },
   {
    "duration": 456,
    "start_time": "2022-11-29T17:34:47.115Z"
   },
   {
    "duration": 4,
    "start_time": "2022-11-29T17:34:47.573Z"
   },
   {
    "duration": 27,
    "start_time": "2022-11-29T17:34:47.580Z"
   },
   {
    "duration": 271,
    "start_time": "2022-11-29T17:34:47.609Z"
   },
   {
    "duration": 16,
    "start_time": "2022-11-29T17:34:47.882Z"
   },
   {
    "duration": 52,
    "start_time": "2022-11-29T17:34:47.899Z"
   },
   {
    "duration": 20,
    "start_time": "2022-11-29T17:34:47.952Z"
   },
   {
    "duration": 14,
    "start_time": "2022-11-29T17:34:47.974Z"
   },
   {
    "duration": 36,
    "start_time": "2022-11-29T17:34:47.991Z"
   },
   {
    "duration": 11,
    "start_time": "2022-11-29T17:34:48.029Z"
   },
   {
    "duration": 15,
    "start_time": "2022-11-29T17:34:48.042Z"
   },
   {
    "duration": 38,
    "start_time": "2022-11-29T17:34:48.059Z"
   },
   {
    "duration": 37,
    "start_time": "2022-11-29T17:34:48.099Z"
   },
   {
    "duration": 10,
    "start_time": "2022-11-29T17:34:48.138Z"
   },
   {
    "duration": 18,
    "start_time": "2022-11-29T17:34:48.149Z"
   },
   {
    "duration": 58,
    "start_time": "2022-11-29T17:34:48.168Z"
   },
   {
    "duration": 17,
    "start_time": "2022-11-29T17:34:48.228Z"
   },
   {
    "duration": 17,
    "start_time": "2022-11-29T17:34:48.246Z"
   },
   {
    "duration": 40,
    "start_time": "2022-11-29T17:34:48.264Z"
   },
   {
    "duration": 17,
    "start_time": "2022-11-29T17:34:48.322Z"
   },
   {
    "duration": 20,
    "start_time": "2022-11-29T17:34:48.341Z"
   },
   {
    "duration": 15,
    "start_time": "2022-11-29T17:34:48.362Z"
   },
   {
    "duration": 444,
    "start_time": "2022-11-29T17:34:48.378Z"
   },
   {
    "duration": 521,
    "start_time": "2022-11-29T17:34:48.824Z"
   },
   {
    "duration": 21,
    "start_time": "2022-11-29T17:34:49.347Z"
   },
   {
    "duration": 283,
    "start_time": "2022-11-29T17:34:49.369Z"
   },
   {
    "duration": 34,
    "start_time": "2022-11-29T17:34:49.654Z"
   },
   {
    "duration": 162,
    "start_time": "2022-11-29T17:34:49.690Z"
   },
   {
    "duration": 434,
    "start_time": "2022-11-29T17:34:49.854Z"
   },
   {
    "duration": 11,
    "start_time": "2022-11-29T17:34:50.289Z"
   },
   {
    "duration": 66,
    "start_time": "2022-11-29T17:34:50.301Z"
   },
   {
    "duration": 162,
    "start_time": "2022-11-29T17:34:50.368Z"
   },
   {
    "duration": 10,
    "start_time": "2022-11-29T17:34:50.532Z"
   },
   {
    "duration": 63,
    "start_time": "2022-11-29T17:34:50.543Z"
   },
   {
    "duration": 22,
    "start_time": "2022-11-29T17:34:50.607Z"
   },
   {
    "duration": 8,
    "start_time": "2022-11-29T17:34:50.633Z"
   },
   {
    "duration": 65,
    "start_time": "2022-11-29T17:34:50.643Z"
   },
   {
    "duration": 9,
    "start_time": "2022-11-29T17:34:50.709Z"
   },
   {
    "duration": 48,
    "start_time": "2022-11-29T17:34:50.719Z"
   },
   {
    "duration": 5,
    "start_time": "2022-11-29T17:34:50.769Z"
   },
   {
    "duration": 179,
    "start_time": "2022-11-29T17:34:50.776Z"
   },
   {
    "duration": 17,
    "start_time": "2022-11-29T17:34:50.956Z"
   },
   {
    "duration": 10,
    "start_time": "2022-11-29T17:34:50.974Z"
   },
   {
    "duration": 74,
    "start_time": "2022-11-29T17:34:50.985Z"
   },
   {
    "duration": 16,
    "start_time": "2022-11-29T17:34:51.061Z"
   },
   {
    "duration": 20,
    "start_time": "2022-11-29T17:34:51.079Z"
   },
   {
    "duration": 95,
    "start_time": "2022-11-29T17:34:51.100Z"
   },
   {
    "duration": 201,
    "start_time": "2022-11-29T17:34:51.196Z"
   },
   {
    "duration": 66,
    "start_time": "2022-11-29T17:34:51.399Z"
   },
   {
    "duration": 31,
    "start_time": "2022-11-29T17:34:51.467Z"
   },
   {
    "duration": 36,
    "start_time": "2022-11-29T17:34:51.500Z"
   },
   {
    "duration": 7,
    "start_time": "2022-11-29T17:34:51.538Z"
   },
   {
    "duration": 28,
    "start_time": "2022-11-29T17:34:51.547Z"
   },
   {
    "duration": 43,
    "start_time": "2022-11-29T17:34:51.577Z"
   },
   {
    "duration": 22,
    "start_time": "2022-11-29T17:34:51.621Z"
   },
   {
    "duration": 32,
    "start_time": "2022-11-29T17:34:51.645Z"
   },
   {
    "duration": 158,
    "start_time": "2022-11-29T17:34:51.678Z"
   },
   {
    "duration": 13,
    "start_time": "2022-11-29T17:34:51.838Z"
   },
   {
    "duration": 160,
    "start_time": "2022-11-29T17:34:51.854Z"
   },
   {
    "duration": 112,
    "start_time": "2022-11-29T17:34:52.016Z"
   },
   {
    "duration": 5,
    "start_time": "2022-11-29T17:34:52.130Z"
   },
   {
    "duration": 30,
    "start_time": "2022-11-29T17:34:52.137Z"
   },
   {
    "duration": 33,
    "start_time": "2022-11-29T17:34:52.168Z"
   },
   {
    "duration": 17,
    "start_time": "2022-11-29T17:34:52.203Z"
   },
   {
    "duration": 101,
    "start_time": "2022-11-29T17:34:52.224Z"
   },
   {
    "duration": 3,
    "start_time": "2022-11-29T17:34:52.327Z"
   },
   {
    "duration": 94,
    "start_time": "2022-11-29T17:34:52.332Z"
   },
   {
    "duration": 33,
    "start_time": "2022-11-29T17:34:52.428Z"
   },
   {
    "duration": 18,
    "start_time": "2022-11-29T17:34:52.463Z"
   },
   {
    "duration": 6,
    "start_time": "2022-11-29T17:34:52.483Z"
   },
   {
    "duration": 8,
    "start_time": "2022-11-29T17:34:52.491Z"
   },
   {
    "duration": 9,
    "start_time": "2022-11-29T17:34:52.501Z"
   },
   {
    "duration": 693,
    "start_time": "2022-11-29T17:34:52.512Z"
   },
   {
    "duration": 56423,
    "start_time": "2022-11-29T17:34:53.207Z"
   },
   {
    "duration": 24,
    "start_time": "2022-11-29T17:35:49.632Z"
   },
   {
    "duration": 5,
    "start_time": "2022-11-29T17:36:47.569Z"
   },
   {
    "duration": 778,
    "start_time": "2022-11-29T17:36:47.576Z"
   },
   {
    "duration": 104,
    "start_time": "2022-11-29T17:36:48.355Z"
   },
   {
    "duration": 14,
    "start_time": "2022-11-29T17:36:48.461Z"
   },
   {
    "duration": 103,
    "start_time": "2022-11-29T17:36:48.477Z"
   },
   {
    "duration": 378,
    "start_time": "2022-11-29T17:36:48.581Z"
   },
   {
    "duration": 3,
    "start_time": "2022-11-29T17:36:48.961Z"
   },
   {
    "duration": 6,
    "start_time": "2022-11-29T17:36:48.966Z"
   },
   {
    "duration": 305,
    "start_time": "2022-11-29T17:36:48.973Z"
   },
   {
    "duration": 15,
    "start_time": "2022-11-29T17:36:49.281Z"
   },
   {
    "duration": 44,
    "start_time": "2022-11-29T17:36:49.298Z"
   },
   {
    "duration": 18,
    "start_time": "2022-11-29T17:36:49.344Z"
   },
   {
    "duration": 14,
    "start_time": "2022-11-29T17:36:49.364Z"
   },
   {
    "duration": 42,
    "start_time": "2022-11-29T17:36:49.380Z"
   },
   {
    "duration": 13,
    "start_time": "2022-11-29T17:36:49.424Z"
   },
   {
    "duration": 18,
    "start_time": "2022-11-29T17:36:49.439Z"
   },
   {
    "duration": 39,
    "start_time": "2022-11-29T17:36:49.459Z"
   },
   {
    "duration": 42,
    "start_time": "2022-11-29T17:36:49.499Z"
   },
   {
    "duration": 10,
    "start_time": "2022-11-29T17:36:49.543Z"
   },
   {
    "duration": 21,
    "start_time": "2022-11-29T17:36:49.555Z"
   },
   {
    "duration": 56,
    "start_time": "2022-11-29T17:36:49.578Z"
   },
   {
    "duration": 17,
    "start_time": "2022-11-29T17:36:49.635Z"
   },
   {
    "duration": 17,
    "start_time": "2022-11-29T17:36:49.654Z"
   },
   {
    "duration": 55,
    "start_time": "2022-11-29T17:36:49.673Z"
   },
   {
    "duration": 18,
    "start_time": "2022-11-29T17:36:49.729Z"
   },
   {
    "duration": 11,
    "start_time": "2022-11-29T17:36:49.748Z"
   },
   {
    "duration": 19,
    "start_time": "2022-11-29T17:36:49.760Z"
   },
   {
    "duration": 416,
    "start_time": "2022-11-29T17:36:49.783Z"
   },
   {
    "duration": 416,
    "start_time": "2022-11-29T17:36:50.201Z"
   },
   {
    "duration": 19,
    "start_time": "2022-11-29T17:36:50.625Z"
   },
   {
    "duration": 241,
    "start_time": "2022-11-29T17:36:50.645Z"
   },
   {
    "duration": 24,
    "start_time": "2022-11-29T17:36:50.888Z"
   },
   {
    "duration": 143,
    "start_time": "2022-11-29T17:36:50.914Z"
   },
   {
    "duration": 396,
    "start_time": "2022-11-29T17:36:51.059Z"
   },
   {
    "duration": 11,
    "start_time": "2022-11-29T17:36:51.456Z"
   },
   {
    "duration": 57,
    "start_time": "2022-11-29T17:36:51.468Z"
   },
   {
    "duration": 176,
    "start_time": "2022-11-29T17:36:51.527Z"
   },
   {
    "duration": 19,
    "start_time": "2022-11-29T17:36:51.705Z"
   },
   {
    "duration": 54,
    "start_time": "2022-11-29T17:36:51.726Z"
   },
   {
    "duration": 21,
    "start_time": "2022-11-29T17:36:51.782Z"
   },
   {
    "duration": 22,
    "start_time": "2022-11-29T17:36:51.805Z"
   },
   {
    "duration": 49,
    "start_time": "2022-11-29T17:36:51.830Z"
   },
   {
    "duration": 10,
    "start_time": "2022-11-29T17:36:51.882Z"
   },
   {
    "duration": 51,
    "start_time": "2022-11-29T17:36:51.921Z"
   },
   {
    "duration": 5,
    "start_time": "2022-11-29T17:36:51.974Z"
   },
   {
    "duration": 192,
    "start_time": "2022-11-29T17:36:51.980Z"
   },
   {
    "duration": 17,
    "start_time": "2022-11-29T17:36:52.174Z"
   },
   {
    "duration": 9,
    "start_time": "2022-11-29T17:36:52.193Z"
   },
   {
    "duration": 41,
    "start_time": "2022-11-29T17:36:52.222Z"
   },
   {
    "duration": 15,
    "start_time": "2022-11-29T17:36:52.264Z"
   },
   {
    "duration": 14,
    "start_time": "2022-11-29T17:36:52.281Z"
   },
   {
    "duration": 83,
    "start_time": "2022-11-29T17:36:52.321Z"
   },
   {
    "duration": 130,
    "start_time": "2022-11-29T17:36:52.405Z"
   },
   {
    "duration": 61,
    "start_time": "2022-11-29T17:36:52.537Z"
   },
   {
    "duration": 41,
    "start_time": "2022-11-29T17:36:52.599Z"
   },
   {
    "duration": 8,
    "start_time": "2022-11-29T17:36:52.642Z"
   },
   {
    "duration": 6,
    "start_time": "2022-11-29T17:36:52.651Z"
   },
   {
    "duration": 19,
    "start_time": "2022-11-29T17:36:52.659Z"
   },
   {
    "duration": 61,
    "start_time": "2022-11-29T17:36:52.680Z"
   },
   {
    "duration": 17,
    "start_time": "2022-11-29T17:36:52.742Z"
   },
   {
    "duration": 15,
    "start_time": "2022-11-29T17:36:52.761Z"
   },
   {
    "duration": 168,
    "start_time": "2022-11-29T17:36:52.777Z"
   },
   {
    "duration": 14,
    "start_time": "2022-11-29T17:36:52.947Z"
   },
   {
    "duration": 164,
    "start_time": "2022-11-29T17:36:52.962Z"
   },
   {
    "duration": 106,
    "start_time": "2022-11-29T17:36:53.127Z"
   },
   {
    "duration": 5,
    "start_time": "2022-11-29T17:36:53.235Z"
   },
   {
    "duration": 18,
    "start_time": "2022-11-29T17:36:53.242Z"
   },
   {
    "duration": 19,
    "start_time": "2022-11-29T17:36:53.262Z"
   },
   {
    "duration": 3,
    "start_time": "2022-11-29T17:36:53.282Z"
   },
   {
    "duration": 106,
    "start_time": "2022-11-29T17:36:53.286Z"
   },
   {
    "duration": 2,
    "start_time": "2022-11-29T17:36:53.394Z"
   },
   {
    "duration": 39,
    "start_time": "2022-11-29T17:36:53.398Z"
   },
   {
    "duration": 9,
    "start_time": "2022-11-29T17:36:53.439Z"
   },
   {
    "duration": 5,
    "start_time": "2022-11-29T17:36:53.450Z"
   },
   {
    "duration": 5,
    "start_time": "2022-11-29T17:36:53.456Z"
   },
   {
    "duration": 9,
    "start_time": "2022-11-29T17:36:53.462Z"
   },
   {
    "duration": 6,
    "start_time": "2022-11-29T17:36:53.473Z"
   },
   {
    "duration": 801,
    "start_time": "2022-11-29T17:36:53.480Z"
   },
   {
    "duration": 44,
    "start_time": "2022-11-29T17:37:42.301Z"
   },
   {
    "duration": 1356,
    "start_time": "2022-11-29T17:37:45.891Z"
   },
   {
    "duration": 2809,
    "start_time": "2022-11-29T17:37:47.249Z"
   },
   {
    "duration": 102,
    "start_time": "2022-11-29T17:37:50.060Z"
   },
   {
    "duration": 15,
    "start_time": "2022-11-29T17:37:50.164Z"
   },
   {
    "duration": 148,
    "start_time": "2022-11-29T17:37:50.182Z"
   },
   {
    "duration": 450,
    "start_time": "2022-11-29T17:37:50.332Z"
   },
   {
    "duration": 3,
    "start_time": "2022-11-29T17:37:50.784Z"
   },
   {
    "duration": 9,
    "start_time": "2022-11-29T17:37:50.788Z"
   },
   {
    "duration": 276,
    "start_time": "2022-11-29T17:37:50.798Z"
   },
   {
    "duration": 27,
    "start_time": "2022-11-29T17:37:51.077Z"
   },
   {
    "duration": 49,
    "start_time": "2022-11-29T17:37:51.106Z"
   },
   {
    "duration": 30,
    "start_time": "2022-11-29T17:37:51.157Z"
   },
   {
    "duration": 14,
    "start_time": "2022-11-29T17:37:51.189Z"
   },
   {
    "duration": 18,
    "start_time": "2022-11-29T17:37:51.225Z"
   },
   {
    "duration": 12,
    "start_time": "2022-11-29T17:37:51.245Z"
   },
   {
    "duration": 15,
    "start_time": "2022-11-29T17:37:51.259Z"
   },
   {
    "duration": 56,
    "start_time": "2022-11-29T17:37:51.276Z"
   },
   {
    "duration": 18,
    "start_time": "2022-11-29T17:37:51.333Z"
   },
   {
    "duration": 12,
    "start_time": "2022-11-29T17:37:51.352Z"
   },
   {
    "duration": 16,
    "start_time": "2022-11-29T17:37:51.366Z"
   },
   {
    "duration": 52,
    "start_time": "2022-11-29T17:37:51.384Z"
   },
   {
    "duration": 18,
    "start_time": "2022-11-29T17:37:51.437Z"
   },
   {
    "duration": 20,
    "start_time": "2022-11-29T17:37:51.457Z"
   },
   {
    "duration": 64,
    "start_time": "2022-11-29T17:37:51.478Z"
   },
   {
    "duration": 17,
    "start_time": "2022-11-29T17:37:51.543Z"
   },
   {
    "duration": 28,
    "start_time": "2022-11-29T17:37:51.562Z"
   },
   {
    "duration": 25,
    "start_time": "2022-11-29T17:37:51.592Z"
   },
   {
    "duration": 453,
    "start_time": "2022-11-29T17:37:51.619Z"
   },
   {
    "duration": 495,
    "start_time": "2022-11-29T17:37:52.074Z"
   },
   {
    "duration": 21,
    "start_time": "2022-11-29T17:37:52.571Z"
   },
   {
    "duration": 272,
    "start_time": "2022-11-29T17:37:52.593Z"
   },
   {
    "duration": 27,
    "start_time": "2022-11-29T17:37:52.866Z"
   },
   {
    "duration": 160,
    "start_time": "2022-11-29T17:37:52.895Z"
   },
   {
    "duration": 391,
    "start_time": "2022-11-29T17:37:53.056Z"
   },
   {
    "duration": 11,
    "start_time": "2022-11-29T17:37:53.449Z"
   },
   {
    "duration": 65,
    "start_time": "2022-11-29T17:37:53.461Z"
   },
   {
    "duration": 164,
    "start_time": "2022-11-29T17:37:53.528Z"
   },
   {
    "duration": 10,
    "start_time": "2022-11-29T17:37:53.693Z"
   },
   {
    "duration": 57,
    "start_time": "2022-11-29T17:37:53.705Z"
   },
   {
    "duration": 17,
    "start_time": "2022-11-29T17:37:53.764Z"
   },
   {
    "duration": 8,
    "start_time": "2022-11-29T17:37:53.785Z"
   },
   {
    "duration": 63,
    "start_time": "2022-11-29T17:37:53.795Z"
   },
   {
    "duration": 8,
    "start_time": "2022-11-29T17:37:53.860Z"
   },
   {
    "duration": 58,
    "start_time": "2022-11-29T17:37:53.871Z"
   },
   {
    "duration": 4,
    "start_time": "2022-11-29T17:37:53.932Z"
   },
   {
    "duration": 217,
    "start_time": "2022-11-29T17:37:53.937Z"
   },
   {
    "duration": 21,
    "start_time": "2022-11-29T17:37:54.156Z"
   },
   {
    "duration": 10,
    "start_time": "2022-11-29T17:37:54.179Z"
   },
   {
    "duration": 73,
    "start_time": "2022-11-29T17:37:54.192Z"
   },
   {
    "duration": 20,
    "start_time": "2022-11-29T17:37:54.269Z"
   },
   {
    "duration": 35,
    "start_time": "2022-11-29T17:37:54.292Z"
   },
   {
    "duration": 102,
    "start_time": "2022-11-29T17:37:54.329Z"
   },
   {
    "duration": 199,
    "start_time": "2022-11-29T17:37:54.433Z"
   },
   {
    "duration": 62,
    "start_time": "2022-11-29T17:37:54.634Z"
   },
   {
    "duration": 47,
    "start_time": "2022-11-29T17:37:54.697Z"
   },
   {
    "duration": 7,
    "start_time": "2022-11-29T17:37:54.746Z"
   },
   {
    "duration": 5,
    "start_time": "2022-11-29T17:37:54.756Z"
   },
   {
    "duration": 23,
    "start_time": "2022-11-29T17:37:54.763Z"
   },
   {
    "duration": 61,
    "start_time": "2022-11-29T17:37:54.788Z"
   },
   {
    "duration": 18,
    "start_time": "2022-11-29T17:37:54.850Z"
   },
   {
    "duration": 15,
    "start_time": "2022-11-29T17:37:54.870Z"
   },
   {
    "duration": 172,
    "start_time": "2022-11-29T17:37:54.887Z"
   },
   {
    "duration": 14,
    "start_time": "2022-11-29T17:37:55.060Z"
   },
   {
    "duration": 163,
    "start_time": "2022-11-29T17:37:55.076Z"
   },
   {
    "duration": 108,
    "start_time": "2022-11-29T17:37:55.241Z"
   },
   {
    "duration": 6,
    "start_time": "2022-11-29T17:37:55.350Z"
   },
   {
    "duration": 25,
    "start_time": "2022-11-29T17:37:55.357Z"
   },
   {
    "duration": 39,
    "start_time": "2022-11-29T17:37:55.383Z"
   },
   {
    "duration": 9,
    "start_time": "2022-11-29T17:37:55.424Z"
   },
   {
    "duration": 102,
    "start_time": "2022-11-29T17:37:55.435Z"
   },
   {
    "duration": 22,
    "start_time": "2022-11-29T17:37:55.539Z"
   },
   {
    "duration": 33,
    "start_time": "2022-11-29T17:38:14.699Z"
   },
   {
    "duration": 21,
    "start_time": "2022-11-29T17:38:58.376Z"
   },
   {
    "duration": 4,
    "start_time": "2022-11-29T17:39:51.971Z"
   },
   {
    "duration": 792,
    "start_time": "2022-11-29T17:39:51.978Z"
   },
   {
    "duration": 105,
    "start_time": "2022-11-29T17:39:52.771Z"
   },
   {
    "duration": 13,
    "start_time": "2022-11-29T17:39:52.878Z"
   },
   {
    "duration": 102,
    "start_time": "2022-11-29T17:39:52.893Z"
   },
   {
    "duration": 393,
    "start_time": "2022-11-29T17:39:52.997Z"
   },
   {
    "duration": 3,
    "start_time": "2022-11-29T17:39:53.391Z"
   },
   {
    "duration": 7,
    "start_time": "2022-11-29T17:39:53.396Z"
   },
   {
    "duration": 261,
    "start_time": "2022-11-29T17:39:53.405Z"
   },
   {
    "duration": 17,
    "start_time": "2022-11-29T17:39:53.670Z"
   },
   {
    "duration": 47,
    "start_time": "2022-11-29T17:39:53.689Z"
   },
   {
    "duration": 20,
    "start_time": "2022-11-29T17:39:53.737Z"
   },
   {
    "duration": 17,
    "start_time": "2022-11-29T17:39:53.759Z"
   },
   {
    "duration": 44,
    "start_time": "2022-11-29T17:39:53.778Z"
   },
   {
    "duration": 14,
    "start_time": "2022-11-29T17:39:53.824Z"
   },
   {
    "duration": 20,
    "start_time": "2022-11-29T17:39:53.840Z"
   },
   {
    "duration": 60,
    "start_time": "2022-11-29T17:39:53.862Z"
   },
   {
    "duration": 20,
    "start_time": "2022-11-29T17:39:53.924Z"
   },
   {
    "duration": 10,
    "start_time": "2022-11-29T17:39:53.946Z"
   },
   {
    "duration": 19,
    "start_time": "2022-11-29T17:39:53.958Z"
   },
   {
    "duration": 72,
    "start_time": "2022-11-29T17:39:53.979Z"
   },
   {
    "duration": 22,
    "start_time": "2022-11-29T17:39:54.053Z"
   },
   {
    "duration": 22,
    "start_time": "2022-11-29T17:39:54.077Z"
   },
   {
    "duration": 56,
    "start_time": "2022-11-29T17:39:54.101Z"
   },
   {
    "duration": 19,
    "start_time": "2022-11-29T17:39:54.159Z"
   },
   {
    "duration": 24,
    "start_time": "2022-11-29T17:39:54.180Z"
   },
   {
    "duration": 26,
    "start_time": "2022-11-29T17:39:54.206Z"
   },
   {
    "duration": 413,
    "start_time": "2022-11-29T17:39:54.238Z"
   },
   {
    "duration": 503,
    "start_time": "2022-11-29T17:39:54.652Z"
   },
   {
    "duration": 0,
    "start_time": "2022-11-29T17:39:55.157Z"
   },
   {
    "duration": 0,
    "start_time": "2022-11-29T17:39:55.158Z"
   },
   {
    "duration": 0,
    "start_time": "2022-11-29T17:39:55.160Z"
   },
   {
    "duration": 0,
    "start_time": "2022-11-29T17:39:55.161Z"
   },
   {
    "duration": 0,
    "start_time": "2022-11-29T17:39:55.162Z"
   },
   {
    "duration": 0,
    "start_time": "2022-11-29T17:39:55.163Z"
   },
   {
    "duration": 0,
    "start_time": "2022-11-29T17:39:55.165Z"
   },
   {
    "duration": 0,
    "start_time": "2022-11-29T17:39:55.166Z"
   },
   {
    "duration": 0,
    "start_time": "2022-11-29T17:39:55.167Z"
   },
   {
    "duration": 0,
    "start_time": "2022-11-29T17:39:55.168Z"
   },
   {
    "duration": 0,
    "start_time": "2022-11-29T17:39:55.169Z"
   },
   {
    "duration": 0,
    "start_time": "2022-11-29T17:39:55.170Z"
   },
   {
    "duration": 0,
    "start_time": "2022-11-29T17:39:55.171Z"
   },
   {
    "duration": 0,
    "start_time": "2022-11-29T17:39:55.172Z"
   },
   {
    "duration": 0,
    "start_time": "2022-11-29T17:39:55.173Z"
   },
   {
    "duration": 0,
    "start_time": "2022-11-29T17:39:55.174Z"
   },
   {
    "duration": 0,
    "start_time": "2022-11-29T17:39:55.175Z"
   },
   {
    "duration": 0,
    "start_time": "2022-11-29T17:39:55.177Z"
   },
   {
    "duration": 0,
    "start_time": "2022-11-29T17:39:55.177Z"
   },
   {
    "duration": 0,
    "start_time": "2022-11-29T17:39:55.178Z"
   },
   {
    "duration": 0,
    "start_time": "2022-11-29T17:39:55.179Z"
   },
   {
    "duration": 0,
    "start_time": "2022-11-29T17:39:55.180Z"
   },
   {
    "duration": 0,
    "start_time": "2022-11-29T17:39:55.181Z"
   },
   {
    "duration": 0,
    "start_time": "2022-11-29T17:39:55.182Z"
   },
   {
    "duration": 0,
    "start_time": "2022-11-29T17:39:55.222Z"
   },
   {
    "duration": 0,
    "start_time": "2022-11-29T17:39:55.223Z"
   },
   {
    "duration": 0,
    "start_time": "2022-11-29T17:39:55.225Z"
   },
   {
    "duration": 0,
    "start_time": "2022-11-29T17:39:55.225Z"
   },
   {
    "duration": 0,
    "start_time": "2022-11-29T17:39:55.226Z"
   },
   {
    "duration": 0,
    "start_time": "2022-11-29T17:39:55.227Z"
   },
   {
    "duration": 0,
    "start_time": "2022-11-29T17:39:55.228Z"
   },
   {
    "duration": 0,
    "start_time": "2022-11-29T17:39:55.230Z"
   },
   {
    "duration": 0,
    "start_time": "2022-11-29T17:39:55.231Z"
   },
   {
    "duration": 0,
    "start_time": "2022-11-29T17:39:55.231Z"
   },
   {
    "duration": 0,
    "start_time": "2022-11-29T17:39:55.232Z"
   },
   {
    "duration": 0,
    "start_time": "2022-11-29T17:39:55.233Z"
   },
   {
    "duration": 0,
    "start_time": "2022-11-29T17:39:55.234Z"
   },
   {
    "duration": 0,
    "start_time": "2022-11-29T17:39:55.235Z"
   },
   {
    "duration": 0,
    "start_time": "2022-11-29T17:39:55.236Z"
   },
   {
    "duration": 0,
    "start_time": "2022-11-29T17:39:55.237Z"
   },
   {
    "duration": 0,
    "start_time": "2022-11-29T17:39:55.238Z"
   },
   {
    "duration": 0,
    "start_time": "2022-11-29T17:39:55.239Z"
   },
   {
    "duration": 0,
    "start_time": "2022-11-29T17:39:55.240Z"
   },
   {
    "duration": 0,
    "start_time": "2022-11-29T17:39:55.241Z"
   },
   {
    "duration": 0,
    "start_time": "2022-11-29T17:39:55.242Z"
   },
   {
    "duration": 0,
    "start_time": "2022-11-29T17:39:55.243Z"
   },
   {
    "duration": 0,
    "start_time": "2022-11-29T17:39:55.244Z"
   },
   {
    "duration": 0,
    "start_time": "2022-11-29T17:39:55.245Z"
   },
   {
    "duration": 0,
    "start_time": "2022-11-29T17:39:55.246Z"
   },
   {
    "duration": 0,
    "start_time": "2022-11-29T17:39:55.248Z"
   },
   {
    "duration": 0,
    "start_time": "2022-11-29T17:39:55.248Z"
   },
   {
    "duration": 0,
    "start_time": "2022-11-29T17:39:55.249Z"
   },
   {
    "duration": 1422,
    "start_time": "2022-11-29T17:40:02.119Z"
   },
   {
    "duration": 816,
    "start_time": "2022-11-29T17:40:03.543Z"
   },
   {
    "duration": 110,
    "start_time": "2022-11-29T17:40:04.361Z"
   },
   {
    "duration": 23,
    "start_time": "2022-11-29T17:40:04.473Z"
   },
   {
    "duration": 153,
    "start_time": "2022-11-29T17:40:04.497Z"
   },
   {
    "duration": 443,
    "start_time": "2022-11-29T17:40:04.652Z"
   },
   {
    "duration": 3,
    "start_time": "2022-11-29T17:40:05.097Z"
   },
   {
    "duration": 27,
    "start_time": "2022-11-29T17:40:05.101Z"
   },
   {
    "duration": 269,
    "start_time": "2022-11-29T17:40:05.129Z"
   },
   {
    "duration": 14,
    "start_time": "2022-11-29T17:40:05.400Z"
   },
   {
    "duration": 39,
    "start_time": "2022-11-29T17:40:05.422Z"
   },
   {
    "duration": 24,
    "start_time": "2022-11-29T17:40:05.462Z"
   },
   {
    "duration": 25,
    "start_time": "2022-11-29T17:40:05.488Z"
   },
   {
    "duration": 25,
    "start_time": "2022-11-29T17:40:05.515Z"
   },
   {
    "duration": 22,
    "start_time": "2022-11-29T17:40:05.541Z"
   },
   {
    "duration": 22,
    "start_time": "2022-11-29T17:40:05.565Z"
   },
   {
    "duration": 49,
    "start_time": "2022-11-29T17:40:05.588Z"
   },
   {
    "duration": 25,
    "start_time": "2022-11-29T17:40:05.639Z"
   },
   {
    "duration": 16,
    "start_time": "2022-11-29T17:40:05.666Z"
   },
   {
    "duration": 23,
    "start_time": "2022-11-29T17:40:05.683Z"
   },
   {
    "duration": 40,
    "start_time": "2022-11-29T17:40:05.707Z"
   },
   {
    "duration": 17,
    "start_time": "2022-11-29T17:40:05.749Z"
   },
   {
    "duration": 21,
    "start_time": "2022-11-29T17:40:05.768Z"
   },
   {
    "duration": 57,
    "start_time": "2022-11-29T17:40:05.791Z"
   },
   {
    "duration": 34,
    "start_time": "2022-11-29T17:40:05.849Z"
   },
   {
    "duration": 28,
    "start_time": "2022-11-29T17:40:05.886Z"
   },
   {
    "duration": 19,
    "start_time": "2022-11-29T17:40:05.916Z"
   },
   {
    "duration": 433,
    "start_time": "2022-11-29T17:40:05.939Z"
   },
   {
    "duration": 466,
    "start_time": "2022-11-29T17:40:06.374Z"
   },
   {
    "duration": 21,
    "start_time": "2022-11-29T17:40:06.841Z"
   },
   {
    "duration": 275,
    "start_time": "2022-11-29T17:40:06.864Z"
   },
   {
    "duration": 27,
    "start_time": "2022-11-29T17:40:07.140Z"
   },
   {
    "duration": 153,
    "start_time": "2022-11-29T17:40:07.169Z"
   },
   {
    "duration": 401,
    "start_time": "2022-11-29T17:40:07.323Z"
   },
   {
    "duration": 10,
    "start_time": "2022-11-29T17:40:07.726Z"
   },
   {
    "duration": 59,
    "start_time": "2022-11-29T17:40:07.737Z"
   },
   {
    "duration": 178,
    "start_time": "2022-11-29T17:40:07.800Z"
   },
   {
    "duration": 9,
    "start_time": "2022-11-29T17:40:07.980Z"
   },
   {
    "duration": 62,
    "start_time": "2022-11-29T17:40:07.991Z"
   },
   {
    "duration": 16,
    "start_time": "2022-11-29T17:40:08.055Z"
   },
   {
    "duration": 8,
    "start_time": "2022-11-29T17:40:08.073Z"
   },
   {
    "duration": 55,
    "start_time": "2022-11-29T17:40:08.082Z"
   },
   {
    "duration": 9,
    "start_time": "2022-11-29T17:40:08.139Z"
   },
   {
    "duration": 54,
    "start_time": "2022-11-29T17:40:08.149Z"
   },
   {
    "duration": 4,
    "start_time": "2022-11-29T17:40:08.205Z"
   },
   {
    "duration": 183,
    "start_time": "2022-11-29T17:40:08.210Z"
   },
   {
    "duration": 15,
    "start_time": "2022-11-29T17:40:08.395Z"
   },
   {
    "duration": 23,
    "start_time": "2022-11-29T17:40:08.412Z"
   },
   {
    "duration": 39,
    "start_time": "2022-11-29T17:40:08.437Z"
   },
   {
    "duration": 15,
    "start_time": "2022-11-29T17:40:08.478Z"
   },
   {
    "duration": 29,
    "start_time": "2022-11-29T17:40:08.494Z"
   },
   {
    "duration": 86,
    "start_time": "2022-11-29T17:40:08.524Z"
   },
   {
    "duration": 188,
    "start_time": "2022-11-29T17:40:08.611Z"
   },
   {
    "duration": 60,
    "start_time": "2022-11-29T17:40:08.800Z"
   },
   {
    "duration": 31,
    "start_time": "2022-11-29T17:40:08.861Z"
   },
   {
    "duration": 7,
    "start_time": "2022-11-29T17:40:08.894Z"
   },
   {
    "duration": 22,
    "start_time": "2022-11-29T17:40:08.903Z"
   },
   {
    "duration": 20,
    "start_time": "2022-11-29T17:40:08.927Z"
   },
   {
    "duration": 37,
    "start_time": "2022-11-29T17:40:08.948Z"
   },
   {
    "duration": 37,
    "start_time": "2022-11-29T17:40:08.986Z"
   },
   {
    "duration": 15,
    "start_time": "2022-11-29T17:40:09.025Z"
   },
   {
    "duration": 160,
    "start_time": "2022-11-29T17:40:09.041Z"
   },
   {
    "duration": 20,
    "start_time": "2022-11-29T17:40:09.204Z"
   },
   {
    "duration": 150,
    "start_time": "2022-11-29T17:40:09.226Z"
   },
   {
    "duration": 117,
    "start_time": "2022-11-29T17:40:09.378Z"
   },
   {
    "duration": 6,
    "start_time": "2022-11-29T17:40:09.497Z"
   },
   {
    "duration": 32,
    "start_time": "2022-11-29T17:40:09.505Z"
   },
   {
    "duration": 23,
    "start_time": "2022-11-29T17:40:09.539Z"
   },
   {
    "duration": 7,
    "start_time": "2022-11-29T17:40:09.564Z"
   },
   {
    "duration": 94,
    "start_time": "2022-11-29T17:40:09.573Z"
   },
   {
    "duration": 22,
    "start_time": "2022-11-29T17:40:09.669Z"
   },
   {
    "duration": 3,
    "start_time": "2022-11-29T17:40:09.692Z"
   },
   {
    "duration": 45,
    "start_time": "2022-11-29T17:40:09.696Z"
   },
   {
    "duration": 13,
    "start_time": "2022-11-29T17:40:09.743Z"
   },
   {
    "duration": 8,
    "start_time": "2022-11-29T17:40:09.758Z"
   },
   {
    "duration": 5,
    "start_time": "2022-11-29T17:40:09.767Z"
   },
   {
    "duration": 6,
    "start_time": "2022-11-29T17:40:09.774Z"
   },
   {
    "duration": 6,
    "start_time": "2022-11-29T17:40:09.781Z"
   },
   {
    "duration": 768,
    "start_time": "2022-11-29T17:40:09.789Z"
   },
   {
    "duration": 59212,
    "start_time": "2022-11-29T17:40:10.559Z"
   },
   {
    "duration": 26,
    "start_time": "2022-11-29T17:41:09.772Z"
   },
   {
    "duration": 5,
    "start_time": "2022-11-29T17:42:06.427Z"
   },
   {
    "duration": 2676,
    "start_time": "2022-11-29T17:42:06.434Z"
   },
   {
    "duration": 104,
    "start_time": "2022-11-29T17:42:09.112Z"
   },
   {
    "duration": 12,
    "start_time": "2022-11-29T17:42:09.222Z"
   },
   {
    "duration": 95,
    "start_time": "2022-11-29T17:42:09.237Z"
   },
   {
    "duration": 386,
    "start_time": "2022-11-29T17:42:09.333Z"
   },
   {
    "duration": 4,
    "start_time": "2022-11-29T17:42:09.722Z"
   },
   {
    "duration": 8,
    "start_time": "2022-11-29T17:42:09.728Z"
   },
   {
    "duration": 292,
    "start_time": "2022-11-29T17:42:09.738Z"
   },
   {
    "duration": 14,
    "start_time": "2022-11-29T17:42:10.032Z"
   },
   {
    "duration": 65,
    "start_time": "2022-11-29T17:42:10.048Z"
   },
   {
    "duration": 22,
    "start_time": "2022-11-29T17:42:10.115Z"
   },
   {
    "duration": 28,
    "start_time": "2022-11-29T17:42:10.138Z"
   },
   {
    "duration": 19,
    "start_time": "2022-11-29T17:42:10.170Z"
   },
   {
    "duration": 11,
    "start_time": "2022-11-29T17:42:10.191Z"
   },
   {
    "duration": 28,
    "start_time": "2022-11-29T17:42:10.204Z"
   },
   {
    "duration": 49,
    "start_time": "2022-11-29T17:42:10.233Z"
   },
   {
    "duration": 38,
    "start_time": "2022-11-29T17:42:10.284Z"
   },
   {
    "duration": 11,
    "start_time": "2022-11-29T17:42:10.324Z"
   },
   {
    "duration": 19,
    "start_time": "2022-11-29T17:42:10.337Z"
   },
   {
    "duration": 38,
    "start_time": "2022-11-29T17:42:10.357Z"
   },
   {
    "duration": 36,
    "start_time": "2022-11-29T17:42:10.397Z"
   },
   {
    "duration": 15,
    "start_time": "2022-11-29T17:42:10.435Z"
   },
   {
    "duration": 40,
    "start_time": "2022-11-29T17:42:10.452Z"
   },
   {
    "duration": 33,
    "start_time": "2022-11-29T17:42:10.494Z"
   },
   {
    "duration": 12,
    "start_time": "2022-11-29T17:42:10.529Z"
   },
   {
    "duration": 17,
    "start_time": "2022-11-29T17:42:10.543Z"
   },
   {
    "duration": 417,
    "start_time": "2022-11-29T17:42:10.562Z"
   },
   {
    "duration": 424,
    "start_time": "2022-11-29T17:42:10.981Z"
   },
   {
    "duration": 21,
    "start_time": "2022-11-29T17:42:11.407Z"
   },
   {
    "duration": 251,
    "start_time": "2022-11-29T17:42:11.430Z"
   },
   {
    "duration": 27,
    "start_time": "2022-11-29T17:42:11.683Z"
   },
   {
    "duration": 155,
    "start_time": "2022-11-29T17:42:11.723Z"
   },
   {
    "duration": 420,
    "start_time": "2022-11-29T17:42:11.880Z"
   },
   {
    "duration": 21,
    "start_time": "2022-11-29T17:42:12.302Z"
   },
   {
    "duration": 49,
    "start_time": "2022-11-29T17:42:12.324Z"
   },
   {
    "duration": 174,
    "start_time": "2022-11-29T17:42:12.375Z"
   },
   {
    "duration": 11,
    "start_time": "2022-11-29T17:42:12.550Z"
   },
   {
    "duration": 59,
    "start_time": "2022-11-29T17:42:12.563Z"
   },
   {
    "duration": 17,
    "start_time": "2022-11-29T17:42:12.624Z"
   },
   {
    "duration": 8,
    "start_time": "2022-11-29T17:42:12.646Z"
   },
   {
    "duration": 43,
    "start_time": "2022-11-29T17:42:12.656Z"
   },
   {
    "duration": 27,
    "start_time": "2022-11-29T17:42:12.701Z"
   },
   {
    "duration": 38,
    "start_time": "2022-11-29T17:42:12.730Z"
   },
   {
    "duration": 5,
    "start_time": "2022-11-29T17:42:12.769Z"
   },
   {
    "duration": 203,
    "start_time": "2022-11-29T17:42:12.776Z"
   },
   {
    "duration": 17,
    "start_time": "2022-11-29T17:42:12.981Z"
   },
   {
    "duration": 23,
    "start_time": "2022-11-29T17:42:13.000Z"
   },
   {
    "duration": 40,
    "start_time": "2022-11-29T17:42:13.024Z"
   },
   {
    "duration": 14,
    "start_time": "2022-11-29T17:42:13.066Z"
   },
   {
    "duration": 41,
    "start_time": "2022-11-29T17:42:13.082Z"
   },
   {
    "duration": 85,
    "start_time": "2022-11-29T17:42:13.124Z"
   },
   {
    "duration": 121,
    "start_time": "2022-11-29T17:42:13.221Z"
   },
   {
    "duration": 58,
    "start_time": "2022-11-29T17:42:13.344Z"
   },
   {
    "duration": 39,
    "start_time": "2022-11-29T17:42:13.404Z"
   },
   {
    "duration": 8,
    "start_time": "2022-11-29T17:42:13.445Z"
   },
   {
    "duration": 7,
    "start_time": "2022-11-29T17:42:13.455Z"
   },
   {
    "duration": 32,
    "start_time": "2022-11-29T17:42:13.464Z"
   },
   {
    "duration": 51,
    "start_time": "2022-11-29T17:42:13.497Z"
   },
   {
    "duration": 17,
    "start_time": "2022-11-29T17:42:13.550Z"
   },
   {
    "duration": 15,
    "start_time": "2022-11-29T17:42:13.568Z"
   },
   {
    "duration": 170,
    "start_time": "2022-11-29T17:42:13.584Z"
   },
   {
    "duration": 13,
    "start_time": "2022-11-29T17:42:13.756Z"
   },
   {
    "duration": 180,
    "start_time": "2022-11-29T17:42:13.771Z"
   },
   {
    "duration": 129,
    "start_time": "2022-11-29T17:42:13.953Z"
   },
   {
    "duration": 8,
    "start_time": "2022-11-29T17:42:14.084Z"
   },
   {
    "duration": 35,
    "start_time": "2022-11-29T17:42:14.094Z"
   },
   {
    "duration": 37,
    "start_time": "2022-11-29T17:42:14.131Z"
   },
   {
    "duration": 3,
    "start_time": "2022-11-29T17:42:14.171Z"
   },
   {
    "duration": 124,
    "start_time": "2022-11-29T17:42:14.176Z"
   },
   {
    "duration": 31,
    "start_time": "2022-11-29T17:42:14.303Z"
   },
   {
    "duration": 9,
    "start_time": "2022-11-29T17:42:14.336Z"
   },
   {
    "duration": 29,
    "start_time": "2022-11-29T17:42:14.348Z"
   },
   {
    "duration": 10,
    "start_time": "2022-11-29T17:42:14.378Z"
   },
   {
    "duration": 5,
    "start_time": "2022-11-29T17:42:14.390Z"
   },
   {
    "duration": 27,
    "start_time": "2022-11-29T17:42:14.396Z"
   },
   {
    "duration": 6,
    "start_time": "2022-11-29T17:42:14.425Z"
   },
   {
    "duration": 6,
    "start_time": "2022-11-29T17:42:14.433Z"
   },
   {
    "duration": 209,
    "start_time": "2022-11-29T17:42:14.441Z"
   },
   {
    "duration": 2142,
    "start_time": "2022-11-29T17:42:14.652Z"
   },
   {
    "duration": 36,
    "start_time": "2022-11-29T17:42:16.796Z"
   },
   {
    "duration": 4,
    "start_time": "2022-11-29T17:42:47.591Z"
   },
   {
    "duration": 767,
    "start_time": "2022-11-29T17:42:47.597Z"
   },
   {
    "duration": 111,
    "start_time": "2022-11-29T17:42:48.366Z"
   },
   {
    "duration": 13,
    "start_time": "2022-11-29T17:42:48.479Z"
   },
   {
    "duration": 107,
    "start_time": "2022-11-29T17:42:48.494Z"
   },
   {
    "duration": 397,
    "start_time": "2022-11-29T17:42:48.602Z"
   },
   {
    "duration": 4,
    "start_time": "2022-11-29T17:42:49.001Z"
   },
   {
    "duration": 21,
    "start_time": "2022-11-29T17:42:49.006Z"
   },
   {
    "duration": 276,
    "start_time": "2022-11-29T17:42:49.029Z"
   },
   {
    "duration": 21,
    "start_time": "2022-11-29T17:42:49.311Z"
   },
   {
    "duration": 46,
    "start_time": "2022-11-29T17:42:49.335Z"
   },
   {
    "duration": 41,
    "start_time": "2022-11-29T17:42:49.384Z"
   },
   {
    "duration": 24,
    "start_time": "2022-11-29T17:42:49.428Z"
   },
   {
    "duration": 41,
    "start_time": "2022-11-29T17:42:49.455Z"
   },
   {
    "duration": 25,
    "start_time": "2022-11-29T17:42:49.498Z"
   },
   {
    "duration": 15,
    "start_time": "2022-11-29T17:42:49.525Z"
   },
   {
    "duration": 49,
    "start_time": "2022-11-29T17:42:49.542Z"
   },
   {
    "duration": 17,
    "start_time": "2022-11-29T17:42:49.593Z"
   },
   {
    "duration": 11,
    "start_time": "2022-11-29T17:42:49.622Z"
   },
   {
    "duration": 21,
    "start_time": "2022-11-29T17:42:49.634Z"
   },
   {
    "duration": 41,
    "start_time": "2022-11-29T17:42:49.656Z"
   },
   {
    "duration": 25,
    "start_time": "2022-11-29T17:42:49.699Z"
   },
   {
    "duration": 14,
    "start_time": "2022-11-29T17:42:49.726Z"
   },
   {
    "duration": 45,
    "start_time": "2022-11-29T17:42:49.742Z"
   },
   {
    "duration": 38,
    "start_time": "2022-11-29T17:42:49.788Z"
   },
   {
    "duration": 25,
    "start_time": "2022-11-29T17:42:49.828Z"
   },
   {
    "duration": 26,
    "start_time": "2022-11-29T17:42:49.855Z"
   },
   {
    "duration": 412,
    "start_time": "2022-11-29T17:42:49.888Z"
   },
   {
    "duration": 432,
    "start_time": "2022-11-29T17:42:50.302Z"
   },
   {
    "duration": 18,
    "start_time": "2022-11-29T17:42:50.735Z"
   },
   {
    "duration": 248,
    "start_time": "2022-11-29T17:42:50.755Z"
   },
   {
    "duration": 34,
    "start_time": "2022-11-29T17:42:51.005Z"
   },
   {
    "duration": 151,
    "start_time": "2022-11-29T17:42:51.041Z"
   },
   {
    "duration": 412,
    "start_time": "2022-11-29T17:42:51.194Z"
   },
   {
    "duration": 19,
    "start_time": "2022-11-29T17:42:51.608Z"
   },
   {
    "duration": 57,
    "start_time": "2022-11-29T17:42:51.629Z"
   },
   {
    "duration": 178,
    "start_time": "2022-11-29T17:42:51.688Z"
   },
   {
    "duration": 11,
    "start_time": "2022-11-29T17:42:51.867Z"
   },
   {
    "duration": 55,
    "start_time": "2022-11-29T17:42:51.880Z"
   },
   {
    "duration": 17,
    "start_time": "2022-11-29T17:42:51.937Z"
   },
   {
    "duration": 8,
    "start_time": "2022-11-29T17:42:51.956Z"
   },
   {
    "duration": 58,
    "start_time": "2022-11-29T17:42:51.966Z"
   },
   {
    "duration": 9,
    "start_time": "2022-11-29T17:42:52.026Z"
   },
   {
    "duration": 39,
    "start_time": "2022-11-29T17:42:52.036Z"
   },
   {
    "duration": 5,
    "start_time": "2022-11-29T17:42:52.076Z"
   },
   {
    "duration": 292,
    "start_time": "2022-11-29T17:42:52.082Z"
   },
   {
    "duration": 16,
    "start_time": "2022-11-29T17:42:52.376Z"
   },
   {
    "duration": 28,
    "start_time": "2022-11-29T17:42:52.394Z"
   },
   {
    "duration": 39,
    "start_time": "2022-11-29T17:42:52.424Z"
   },
   {
    "duration": 15,
    "start_time": "2022-11-29T17:42:52.465Z"
   },
   {
    "duration": 42,
    "start_time": "2022-11-29T17:42:52.482Z"
   },
   {
    "duration": 80,
    "start_time": "2022-11-29T17:42:52.526Z"
   },
   {
    "duration": 127,
    "start_time": "2022-11-29T17:42:52.608Z"
   },
   {
    "duration": 85,
    "start_time": "2022-11-29T17:42:52.737Z"
   },
   {
    "duration": 38,
    "start_time": "2022-11-29T17:42:52.824Z"
   },
   {
    "duration": 8,
    "start_time": "2022-11-29T17:42:52.864Z"
   },
   {
    "duration": 29,
    "start_time": "2022-11-29T17:42:52.874Z"
   },
   {
    "duration": 32,
    "start_time": "2022-11-29T17:42:52.906Z"
   },
   {
    "duration": 37,
    "start_time": "2022-11-29T17:42:52.940Z"
   },
   {
    "duration": 16,
    "start_time": "2022-11-29T17:42:52.979Z"
   },
   {
    "duration": 39,
    "start_time": "2022-11-29T17:42:52.997Z"
   },
   {
    "duration": 174,
    "start_time": "2022-11-29T17:42:53.038Z"
   },
   {
    "duration": 19,
    "start_time": "2022-11-29T17:42:53.214Z"
   },
   {
    "duration": 171,
    "start_time": "2022-11-29T17:42:53.235Z"
   },
   {
    "duration": 130,
    "start_time": "2022-11-29T17:42:53.408Z"
   },
   {
    "duration": 5,
    "start_time": "2022-11-29T17:42:53.539Z"
   },
   {
    "duration": 22,
    "start_time": "2022-11-29T17:42:53.546Z"
   },
   {
    "duration": 22,
    "start_time": "2022-11-29T17:42:53.569Z"
   },
   {
    "duration": 30,
    "start_time": "2022-11-29T17:42:53.593Z"
   },
   {
    "duration": 77,
    "start_time": "2022-11-29T17:42:53.625Z"
   },
   {
    "duration": 28,
    "start_time": "2022-11-29T17:42:53.704Z"
   },
   {
    "duration": 3,
    "start_time": "2022-11-29T17:42:53.733Z"
   },
   {
    "duration": 23,
    "start_time": "2022-11-29T17:42:53.737Z"
   },
   {
    "duration": 10,
    "start_time": "2022-11-29T17:42:53.762Z"
   },
   {
    "duration": 4,
    "start_time": "2022-11-29T17:42:53.774Z"
   },
   {
    "duration": 7,
    "start_time": "2022-11-29T17:42:53.779Z"
   },
   {
    "duration": 37,
    "start_time": "2022-11-29T17:42:53.787Z"
   },
   {
    "duration": 10,
    "start_time": "2022-11-29T17:42:53.825Z"
   },
   {
    "duration": 728,
    "start_time": "2022-11-29T17:42:53.837Z"
   },
   {
    "duration": 1278,
    "start_time": "2022-11-29T17:46:07.359Z"
   },
   {
    "duration": 2711,
    "start_time": "2022-11-29T17:46:08.639Z"
   },
   {
    "duration": 107,
    "start_time": "2022-11-29T17:46:11.352Z"
   },
   {
    "duration": 17,
    "start_time": "2022-11-29T17:46:11.461Z"
   },
   {
    "duration": 179,
    "start_time": "2022-11-29T17:46:11.481Z"
   },
   {
    "duration": 439,
    "start_time": "2022-11-29T17:46:11.661Z"
   },
   {
    "duration": 3,
    "start_time": "2022-11-29T17:46:12.102Z"
   },
   {
    "duration": 17,
    "start_time": "2022-11-29T17:46:12.106Z"
   },
   {
    "duration": 274,
    "start_time": "2022-11-29T17:46:12.124Z"
   },
   {
    "duration": 23,
    "start_time": "2022-11-29T17:46:12.399Z"
   },
   {
    "duration": 37,
    "start_time": "2022-11-29T17:46:12.424Z"
   },
   {
    "duration": 19,
    "start_time": "2022-11-29T17:46:12.463Z"
   },
   {
    "duration": 38,
    "start_time": "2022-11-29T17:46:12.485Z"
   },
   {
    "duration": 17,
    "start_time": "2022-11-29T17:46:12.526Z"
   },
   {
    "duration": 11,
    "start_time": "2022-11-29T17:46:12.545Z"
   },
   {
    "duration": 16,
    "start_time": "2022-11-29T17:46:12.558Z"
   },
   {
    "duration": 57,
    "start_time": "2022-11-29T17:46:12.576Z"
   },
   {
    "duration": 17,
    "start_time": "2022-11-29T17:46:12.635Z"
   },
   {
    "duration": 9,
    "start_time": "2022-11-29T17:46:12.654Z"
   },
   {
    "duration": 15,
    "start_time": "2022-11-29T17:46:12.665Z"
   },
   {
    "duration": 60,
    "start_time": "2022-11-29T17:46:12.681Z"
   },
   {
    "duration": 18,
    "start_time": "2022-11-29T17:46:12.743Z"
   },
   {
    "duration": 13,
    "start_time": "2022-11-29T17:46:12.763Z"
   },
   {
    "duration": 57,
    "start_time": "2022-11-29T17:46:12.778Z"
   },
   {
    "duration": 17,
    "start_time": "2022-11-29T17:46:12.836Z"
   },
   {
    "duration": 12,
    "start_time": "2022-11-29T17:46:12.855Z"
   },
   {
    "duration": 14,
    "start_time": "2022-11-29T17:46:12.868Z"
   },
   {
    "duration": 446,
    "start_time": "2022-11-29T17:46:12.884Z"
   },
   {
    "duration": 459,
    "start_time": "2022-11-29T17:46:13.332Z"
   },
   {
    "duration": 20,
    "start_time": "2022-11-29T17:46:13.793Z"
   },
   {
    "duration": 271,
    "start_time": "2022-11-29T17:46:13.814Z"
   },
   {
    "duration": 39,
    "start_time": "2022-11-29T17:46:14.088Z"
   },
   {
    "duration": 176,
    "start_time": "2022-11-29T17:46:14.130Z"
   },
   {
    "duration": 389,
    "start_time": "2022-11-29T17:46:14.308Z"
   },
   {
    "duration": 10,
    "start_time": "2022-11-29T17:46:14.698Z"
   },
   {
    "duration": 59,
    "start_time": "2022-11-29T17:46:14.710Z"
   },
   {
    "duration": 167,
    "start_time": "2022-11-29T17:46:14.771Z"
   },
   {
    "duration": 11,
    "start_time": "2022-11-29T17:46:14.939Z"
   },
   {
    "duration": 44,
    "start_time": "2022-11-29T17:46:14.952Z"
   },
   {
    "duration": 36,
    "start_time": "2022-11-29T17:46:14.998Z"
   },
   {
    "duration": 8,
    "start_time": "2022-11-29T17:46:15.038Z"
   },
   {
    "duration": 50,
    "start_time": "2022-11-29T17:46:15.048Z"
   },
   {
    "duration": 7,
    "start_time": "2022-11-29T17:46:15.100Z"
   },
   {
    "duration": 39,
    "start_time": "2022-11-29T17:46:15.122Z"
   },
   {
    "duration": 4,
    "start_time": "2022-11-29T17:46:15.163Z"
   },
   {
    "duration": 179,
    "start_time": "2022-11-29T17:46:15.169Z"
   },
   {
    "duration": 16,
    "start_time": "2022-11-29T17:46:15.350Z"
   },
   {
    "duration": 8,
    "start_time": "2022-11-29T17:46:15.367Z"
   },
   {
    "duration": 57,
    "start_time": "2022-11-29T17:46:15.376Z"
   },
   {
    "duration": 15,
    "start_time": "2022-11-29T17:46:15.435Z"
   },
   {
    "duration": 13,
    "start_time": "2022-11-29T17:46:15.452Z"
   },
   {
    "duration": 98,
    "start_time": "2022-11-29T17:46:15.467Z"
   },
   {
    "duration": 189,
    "start_time": "2022-11-29T17:46:15.567Z"
   },
   {
    "duration": 65,
    "start_time": "2022-11-29T17:46:15.757Z"
   },
   {
    "duration": 33,
    "start_time": "2022-11-29T17:46:15.824Z"
   },
   {
    "duration": 8,
    "start_time": "2022-11-29T17:46:15.860Z"
   },
   {
    "duration": 12,
    "start_time": "2022-11-29T17:46:15.870Z"
   },
   {
    "duration": 39,
    "start_time": "2022-11-29T17:46:15.884Z"
   },
   {
    "duration": 36,
    "start_time": "2022-11-29T17:46:15.924Z"
   },
   {
    "duration": 15,
    "start_time": "2022-11-29T17:46:15.961Z"
   },
   {
    "duration": 14,
    "start_time": "2022-11-29T17:46:15.978Z"
   },
   {
    "duration": 165,
    "start_time": "2022-11-29T17:46:15.993Z"
   },
   {
    "duration": 13,
    "start_time": "2022-11-29T17:46:16.159Z"
   },
   {
    "duration": 154,
    "start_time": "2022-11-29T17:46:16.173Z"
   },
   {
    "duration": 111,
    "start_time": "2022-11-29T17:46:16.329Z"
   },
   {
    "duration": 5,
    "start_time": "2022-11-29T17:46:16.442Z"
   },
   {
    "duration": 27,
    "start_time": "2022-11-29T17:46:16.449Z"
   },
   {
    "duration": 25,
    "start_time": "2022-11-29T17:46:16.477Z"
   },
   {
    "duration": 18,
    "start_time": "2022-11-29T17:46:16.504Z"
   },
   {
    "duration": 88,
    "start_time": "2022-11-29T17:46:16.524Z"
   },
   {
    "duration": 24,
    "start_time": "2022-11-29T17:46:16.613Z"
   },
   {
    "duration": 22,
    "start_time": "2022-11-29T17:46:47.567Z"
   },
   {
    "duration": 22,
    "start_time": "2022-11-29T17:47:00.387Z"
   },
   {
    "duration": 57,
    "start_time": "2022-11-29T17:48:49.515Z"
   },
   {
    "duration": 3,
    "start_time": "2022-11-29T17:49:20.779Z"
   },
   {
    "duration": 777,
    "start_time": "2022-11-29T17:49:20.785Z"
   },
   {
    "duration": 124,
    "start_time": "2022-11-29T17:49:21.563Z"
   },
   {
    "duration": 13,
    "start_time": "2022-11-29T17:49:21.688Z"
   },
   {
    "duration": 95,
    "start_time": "2022-11-29T17:49:21.703Z"
   },
   {
    "duration": 386,
    "start_time": "2022-11-29T17:49:21.799Z"
   },
   {
    "duration": 3,
    "start_time": "2022-11-29T17:49:22.186Z"
   },
   {
    "duration": 15,
    "start_time": "2022-11-29T17:49:22.191Z"
   },
   {
    "duration": 269,
    "start_time": "2022-11-29T17:49:22.207Z"
   },
   {
    "duration": 17,
    "start_time": "2022-11-29T17:49:22.478Z"
   },
   {
    "duration": 54,
    "start_time": "2022-11-29T17:49:22.497Z"
   },
   {
    "duration": 21,
    "start_time": "2022-11-29T17:49:22.553Z"
   },
   {
    "duration": 15,
    "start_time": "2022-11-29T17:49:22.576Z"
   },
   {
    "duration": 42,
    "start_time": "2022-11-29T17:49:22.594Z"
   },
   {
    "duration": 13,
    "start_time": "2022-11-29T17:49:22.638Z"
   },
   {
    "duration": 22,
    "start_time": "2022-11-29T17:49:22.653Z"
   },
   {
    "duration": 60,
    "start_time": "2022-11-29T17:49:22.676Z"
   },
   {
    "duration": 17,
    "start_time": "2022-11-29T17:49:22.737Z"
   },
   {
    "duration": 11,
    "start_time": "2022-11-29T17:49:22.756Z"
   },
   {
    "duration": 19,
    "start_time": "2022-11-29T17:49:22.773Z"
   },
   {
    "duration": 45,
    "start_time": "2022-11-29T17:49:22.794Z"
   },
   {
    "duration": 17,
    "start_time": "2022-11-29T17:49:22.840Z"
   },
   {
    "duration": 13,
    "start_time": "2022-11-29T17:49:22.859Z"
   },
   {
    "duration": 63,
    "start_time": "2022-11-29T17:49:22.873Z"
   },
   {
    "duration": 16,
    "start_time": "2022-11-29T17:49:22.938Z"
   },
   {
    "duration": 10,
    "start_time": "2022-11-29T17:49:22.955Z"
   },
   {
    "duration": 15,
    "start_time": "2022-11-29T17:49:22.966Z"
   },
   {
    "duration": 383,
    "start_time": "2022-11-29T17:49:22.982Z"
   },
   {
    "duration": 410,
    "start_time": "2022-11-29T17:49:23.367Z"
   },
   {
    "duration": 18,
    "start_time": "2022-11-29T17:49:23.779Z"
   },
   {
    "duration": 238,
    "start_time": "2022-11-29T17:49:23.799Z"
   },
   {
    "duration": 31,
    "start_time": "2022-11-29T17:49:24.039Z"
   },
   {
    "duration": 177,
    "start_time": "2022-11-29T17:49:24.072Z"
   },
   {
    "duration": 430,
    "start_time": "2022-11-29T17:49:24.250Z"
   },
   {
    "duration": 11,
    "start_time": "2022-11-29T17:49:24.681Z"
   },
   {
    "duration": 64,
    "start_time": "2022-11-29T17:49:24.693Z"
   },
   {
    "duration": 158,
    "start_time": "2022-11-29T17:49:24.759Z"
   },
   {
    "duration": 18,
    "start_time": "2022-11-29T17:49:24.922Z"
   },
   {
    "duration": 55,
    "start_time": "2022-11-29T17:49:24.941Z"
   },
   {
    "duration": 17,
    "start_time": "2022-11-29T17:49:24.998Z"
   },
   {
    "duration": 13,
    "start_time": "2022-11-29T17:49:25.023Z"
   },
   {
    "duration": 47,
    "start_time": "2022-11-29T17:49:25.038Z"
   },
   {
    "duration": 8,
    "start_time": "2022-11-29T17:49:25.087Z"
   },
   {
    "duration": 63,
    "start_time": "2022-11-29T17:49:25.097Z"
   },
   {
    "duration": 4,
    "start_time": "2022-11-29T17:49:25.162Z"
   },
   {
    "duration": 190,
    "start_time": "2022-11-29T17:49:25.168Z"
   },
   {
    "duration": 16,
    "start_time": "2022-11-29T17:49:25.360Z"
   },
   {
    "duration": 8,
    "start_time": "2022-11-29T17:49:25.377Z"
   },
   {
    "duration": 63,
    "start_time": "2022-11-29T17:49:25.387Z"
   },
   {
    "duration": 15,
    "start_time": "2022-11-29T17:49:25.451Z"
   },
   {
    "duration": 13,
    "start_time": "2022-11-29T17:49:25.467Z"
   },
   {
    "duration": 114,
    "start_time": "2022-11-29T17:49:25.482Z"
   },
   {
    "duration": 132,
    "start_time": "2022-11-29T17:49:25.598Z"
   },
   {
    "duration": 61,
    "start_time": "2022-11-29T17:49:25.733Z"
   },
   {
    "duration": 47,
    "start_time": "2022-11-29T17:49:25.796Z"
   },
   {
    "duration": 8,
    "start_time": "2022-11-29T17:49:25.845Z"
   },
   {
    "duration": 7,
    "start_time": "2022-11-29T17:49:25.855Z"
   },
   {
    "duration": 24,
    "start_time": "2022-11-29T17:49:25.864Z"
   },
   {
    "duration": 57,
    "start_time": "2022-11-29T17:49:25.891Z"
   },
   {
    "duration": 17,
    "start_time": "2022-11-29T17:49:25.949Z"
   },
   {
    "duration": 14,
    "start_time": "2022-11-29T17:49:25.968Z"
   },
   {
    "duration": 177,
    "start_time": "2022-11-29T17:49:25.984Z"
   },
   {
    "duration": 13,
    "start_time": "2022-11-29T17:49:26.163Z"
   },
   {
    "duration": 174,
    "start_time": "2022-11-29T17:49:26.177Z"
   },
   {
    "duration": 123,
    "start_time": "2022-11-29T17:49:26.353Z"
   },
   {
    "duration": 6,
    "start_time": "2022-11-29T17:49:26.478Z"
   },
   {
    "duration": 48,
    "start_time": "2022-11-29T17:49:26.486Z"
   },
   {
    "duration": 20,
    "start_time": "2022-11-29T17:49:26.536Z"
   },
   {
    "duration": 3,
    "start_time": "2022-11-29T17:49:26.557Z"
   },
   {
    "duration": 81,
    "start_time": "2022-11-29T17:49:26.562Z"
   },
   {
    "duration": 3,
    "start_time": "2022-11-29T17:49:26.645Z"
   },
   {
    "duration": 24,
    "start_time": "2022-11-29T17:49:26.650Z"
   },
   {
    "duration": 11,
    "start_time": "2022-11-29T17:49:26.676Z"
   },
   {
    "duration": 6,
    "start_time": "2022-11-29T17:49:26.688Z"
   },
   {
    "duration": 5,
    "start_time": "2022-11-29T17:49:26.695Z"
   },
   {
    "duration": 16,
    "start_time": "2022-11-29T17:49:26.724Z"
   },
   {
    "duration": 5,
    "start_time": "2022-11-29T17:50:04.877Z"
   },
   {
    "duration": 679,
    "start_time": "2022-11-29T17:50:06.811Z"
   },
   {
    "duration": 1312,
    "start_time": "2022-11-29T17:51:28.230Z"
   },
   {
    "duration": 767,
    "start_time": "2022-11-29T17:51:29.545Z"
   },
   {
    "duration": 116,
    "start_time": "2022-11-29T17:51:30.322Z"
   },
   {
    "duration": 18,
    "start_time": "2022-11-29T17:51:30.440Z"
   },
   {
    "duration": 122,
    "start_time": "2022-11-29T17:51:30.460Z"
   },
   {
    "duration": 454,
    "start_time": "2022-11-29T17:51:30.584Z"
   },
   {
    "duration": 3,
    "start_time": "2022-11-29T17:51:31.040Z"
   },
   {
    "duration": 8,
    "start_time": "2022-11-29T17:51:31.044Z"
   },
   {
    "duration": 283,
    "start_time": "2022-11-29T17:51:31.053Z"
   },
   {
    "duration": 16,
    "start_time": "2022-11-29T17:51:31.337Z"
   },
   {
    "duration": 40,
    "start_time": "2022-11-29T17:51:31.355Z"
   },
   {
    "duration": 35,
    "start_time": "2022-11-29T17:51:31.397Z"
   },
   {
    "duration": 14,
    "start_time": "2022-11-29T17:51:31.436Z"
   },
   {
    "duration": 19,
    "start_time": "2022-11-29T17:51:31.451Z"
   },
   {
    "duration": 15,
    "start_time": "2022-11-29T17:51:31.472Z"
   },
   {
    "duration": 39,
    "start_time": "2022-11-29T17:51:31.489Z"
   },
   {
    "duration": 50,
    "start_time": "2022-11-29T17:51:31.530Z"
   },
   {
    "duration": 19,
    "start_time": "2022-11-29T17:51:31.582Z"
   },
   {
    "duration": 21,
    "start_time": "2022-11-29T17:51:31.603Z"
   },
   {
    "duration": 16,
    "start_time": "2022-11-29T17:51:31.626Z"
   },
   {
    "duration": 47,
    "start_time": "2022-11-29T17:51:31.644Z"
   },
   {
    "duration": 34,
    "start_time": "2022-11-29T17:51:31.692Z"
   },
   {
    "duration": 15,
    "start_time": "2022-11-29T17:51:31.728Z"
   },
   {
    "duration": 40,
    "start_time": "2022-11-29T17:51:31.745Z"
   },
   {
    "duration": 37,
    "start_time": "2022-11-29T17:51:31.787Z"
   },
   {
    "duration": 13,
    "start_time": "2022-11-29T17:51:31.826Z"
   },
   {
    "duration": 19,
    "start_time": "2022-11-29T17:51:31.841Z"
   },
   {
    "duration": 483,
    "start_time": "2022-11-29T17:51:31.863Z"
   },
   {
    "duration": 497,
    "start_time": "2022-11-29T17:51:32.347Z"
   },
   {
    "duration": 21,
    "start_time": "2022-11-29T17:51:32.846Z"
   },
   {
    "duration": 286,
    "start_time": "2022-11-29T17:51:32.868Z"
   },
   {
    "duration": 27,
    "start_time": "2022-11-29T17:51:33.156Z"
   },
   {
    "duration": 161,
    "start_time": "2022-11-29T17:51:33.184Z"
   },
   {
    "duration": 394,
    "start_time": "2022-11-29T17:51:33.347Z"
   },
   {
    "duration": 10,
    "start_time": "2022-11-29T17:51:33.743Z"
   },
   {
    "duration": 54,
    "start_time": "2022-11-29T17:51:33.754Z"
   },
   {
    "duration": 169,
    "start_time": "2022-11-29T17:51:33.809Z"
   },
   {
    "duration": 10,
    "start_time": "2022-11-29T17:51:33.979Z"
   },
   {
    "duration": 63,
    "start_time": "2022-11-29T17:51:33.991Z"
   },
   {
    "duration": 20,
    "start_time": "2022-11-29T17:51:34.059Z"
   },
   {
    "duration": 10,
    "start_time": "2022-11-29T17:51:34.081Z"
   },
   {
    "duration": 68,
    "start_time": "2022-11-29T17:51:34.093Z"
   },
   {
    "duration": 10,
    "start_time": "2022-11-29T17:51:34.163Z"
   },
   {
    "duration": 60,
    "start_time": "2022-11-29T17:51:34.175Z"
   },
   {
    "duration": 6,
    "start_time": "2022-11-29T17:51:34.237Z"
   },
   {
    "duration": 200,
    "start_time": "2022-11-29T17:51:34.244Z"
   },
   {
    "duration": 17,
    "start_time": "2022-11-29T17:51:34.445Z"
   },
   {
    "duration": 9,
    "start_time": "2022-11-29T17:51:34.463Z"
   },
   {
    "duration": 60,
    "start_time": "2022-11-29T17:51:34.473Z"
   },
   {
    "duration": 15,
    "start_time": "2022-11-29T17:51:34.535Z"
   },
   {
    "duration": 14,
    "start_time": "2022-11-29T17:51:34.552Z"
   },
   {
    "duration": 101,
    "start_time": "2022-11-29T17:51:34.567Z"
   },
   {
    "duration": 186,
    "start_time": "2022-11-29T17:51:34.669Z"
   },
   {
    "duration": 68,
    "start_time": "2022-11-29T17:51:34.857Z"
   },
   {
    "duration": 33,
    "start_time": "2022-11-29T17:51:34.927Z"
   },
   {
    "duration": 7,
    "start_time": "2022-11-29T17:51:34.962Z"
   },
   {
    "duration": 5,
    "start_time": "2022-11-29T17:51:34.971Z"
   },
   {
    "duration": 20,
    "start_time": "2022-11-29T17:51:34.977Z"
   },
   {
    "duration": 56,
    "start_time": "2022-11-29T17:51:34.999Z"
   },
   {
    "duration": 16,
    "start_time": "2022-11-29T17:51:35.057Z"
   },
   {
    "duration": 13,
    "start_time": "2022-11-29T17:51:35.075Z"
   },
   {
    "duration": 170,
    "start_time": "2022-11-29T17:51:35.090Z"
   },
   {
    "duration": 13,
    "start_time": "2022-11-29T17:51:35.261Z"
   },
   {
    "duration": 152,
    "start_time": "2022-11-29T17:51:35.276Z"
   },
   {
    "duration": 115,
    "start_time": "2022-11-29T17:51:35.429Z"
   },
   {
    "duration": 5,
    "start_time": "2022-11-29T17:51:35.546Z"
   },
   {
    "duration": 22,
    "start_time": "2022-11-29T17:51:35.553Z"
   },
   {
    "duration": 20,
    "start_time": "2022-11-29T17:51:35.576Z"
   },
   {
    "duration": 3,
    "start_time": "2022-11-29T17:51:35.598Z"
   },
   {
    "duration": 82,
    "start_time": "2022-11-29T17:51:35.622Z"
   },
   {
    "duration": 2,
    "start_time": "2022-11-29T17:51:35.706Z"
   },
   {
    "duration": 26,
    "start_time": "2022-11-29T17:51:35.721Z"
   },
   {
    "duration": 17,
    "start_time": "2022-11-29T17:51:35.749Z"
   },
   {
    "duration": 8,
    "start_time": "2022-11-29T17:51:35.768Z"
   },
   {
    "duration": 7,
    "start_time": "2022-11-29T17:51:35.778Z"
   },
   {
    "duration": 12,
    "start_time": "2022-11-29T17:51:35.787Z"
   },
   {
    "duration": 23,
    "start_time": "2022-11-29T17:51:35.802Z"
   },
   {
    "duration": 702,
    "start_time": "2022-11-29T17:51:35.827Z"
   },
   {
    "duration": 668,
    "start_time": "2022-11-29T17:51:36.531Z"
   },
   {
    "duration": 1349,
    "start_time": "2022-11-29T17:54:14.449Z"
   },
   {
    "duration": 2749,
    "start_time": "2022-11-29T17:54:15.800Z"
   },
   {
    "duration": 106,
    "start_time": "2022-11-29T17:54:18.550Z"
   },
   {
    "duration": 15,
    "start_time": "2022-11-29T17:54:18.658Z"
   },
   {
    "duration": 106,
    "start_time": "2022-11-29T17:54:18.675Z"
   },
   {
    "duration": 451,
    "start_time": "2022-11-29T17:54:18.782Z"
   },
   {
    "duration": 3,
    "start_time": "2022-11-29T17:54:19.235Z"
   },
   {
    "duration": 11,
    "start_time": "2022-11-29T17:54:19.241Z"
   },
   {
    "duration": 286,
    "start_time": "2022-11-29T17:54:19.253Z"
   },
   {
    "duration": 15,
    "start_time": "2022-11-29T17:54:19.540Z"
   },
   {
    "duration": 39,
    "start_time": "2022-11-29T17:54:19.556Z"
   },
   {
    "duration": 35,
    "start_time": "2022-11-29T17:54:19.597Z"
   },
   {
    "duration": 14,
    "start_time": "2022-11-29T17:54:19.634Z"
   },
   {
    "duration": 17,
    "start_time": "2022-11-29T17:54:19.651Z"
   },
   {
    "duration": 13,
    "start_time": "2022-11-29T17:54:19.669Z"
   },
   {
    "duration": 40,
    "start_time": "2022-11-29T17:54:19.684Z"
   },
   {
    "duration": 36,
    "start_time": "2022-11-29T17:54:19.725Z"
   },
   {
    "duration": 19,
    "start_time": "2022-11-29T17:54:19.763Z"
   },
   {
    "duration": 9,
    "start_time": "2022-11-29T17:54:19.783Z"
   },
   {
    "duration": 37,
    "start_time": "2022-11-29T17:54:19.794Z"
   },
   {
    "duration": 48,
    "start_time": "2022-11-29T17:54:19.832Z"
   },
   {
    "duration": 17,
    "start_time": "2022-11-29T17:54:19.882Z"
   },
   {
    "duration": 31,
    "start_time": "2022-11-29T17:54:19.901Z"
   },
   {
    "duration": 39,
    "start_time": "2022-11-29T17:54:19.933Z"
   },
   {
    "duration": 16,
    "start_time": "2022-11-29T17:54:19.973Z"
   },
   {
    "duration": 9,
    "start_time": "2022-11-29T17:54:19.991Z"
   },
   {
    "duration": 11,
    "start_time": "2022-11-29T17:54:20.023Z"
   },
   {
    "duration": 426,
    "start_time": "2022-11-29T17:54:20.036Z"
   },
   {
    "duration": 492,
    "start_time": "2022-11-29T17:54:20.464Z"
   },
   {
    "duration": 20,
    "start_time": "2022-11-29T17:54:20.958Z"
   },
   {
    "duration": 267,
    "start_time": "2022-11-29T17:54:20.979Z"
   },
   {
    "duration": 25,
    "start_time": "2022-11-29T17:54:21.247Z"
   },
   {
    "duration": 155,
    "start_time": "2022-11-29T17:54:21.274Z"
   },
   {
    "duration": 422,
    "start_time": "2022-11-29T17:54:21.431Z"
   },
   {
    "duration": 10,
    "start_time": "2022-11-29T17:54:21.855Z"
   },
   {
    "duration": 64,
    "start_time": "2022-11-29T17:54:21.866Z"
   },
   {
    "duration": 159,
    "start_time": "2022-11-29T17:54:21.932Z"
   },
   {
    "duration": 10,
    "start_time": "2022-11-29T17:54:22.093Z"
   },
   {
    "duration": 65,
    "start_time": "2022-11-29T17:54:22.104Z"
   },
   {
    "duration": 18,
    "start_time": "2022-11-29T17:54:22.171Z"
   },
   {
    "duration": 8,
    "start_time": "2022-11-29T17:54:22.193Z"
   },
   {
    "duration": 43,
    "start_time": "2022-11-29T17:54:22.222Z"
   },
   {
    "duration": 11,
    "start_time": "2022-11-29T17:54:22.267Z"
   },
   {
    "duration": 65,
    "start_time": "2022-11-29T17:54:22.281Z"
   },
   {
    "duration": 5,
    "start_time": "2022-11-29T17:54:22.348Z"
   },
   {
    "duration": 178,
    "start_time": "2022-11-29T17:54:22.355Z"
   },
   {
    "duration": 16,
    "start_time": "2022-11-29T17:54:22.535Z"
   },
   {
    "duration": 7,
    "start_time": "2022-11-29T17:54:22.552Z"
   },
   {
    "duration": 39,
    "start_time": "2022-11-29T17:54:22.561Z"
   },
   {
    "duration": 15,
    "start_time": "2022-11-29T17:54:22.621Z"
   },
   {
    "duration": 13,
    "start_time": "2022-11-29T17:54:22.637Z"
   },
   {
    "duration": 92,
    "start_time": "2022-11-29T17:54:22.652Z"
   },
   {
    "duration": 188,
    "start_time": "2022-11-29T17:54:22.745Z"
   },
   {
    "duration": 59,
    "start_time": "2022-11-29T17:54:22.935Z"
   },
   {
    "duration": 41,
    "start_time": "2022-11-29T17:54:22.996Z"
   },
   {
    "duration": 7,
    "start_time": "2022-11-29T17:54:23.039Z"
   },
   {
    "duration": 5,
    "start_time": "2022-11-29T17:54:23.048Z"
   },
   {
    "duration": 32,
    "start_time": "2022-11-29T17:54:23.054Z"
   },
   {
    "duration": 44,
    "start_time": "2022-11-29T17:54:23.087Z"
   },
   {
    "duration": 15,
    "start_time": "2022-11-29T17:54:23.133Z"
   },
   {
    "duration": 16,
    "start_time": "2022-11-29T17:54:23.150Z"
   },
   {
    "duration": 155,
    "start_time": "2022-11-29T17:54:23.167Z"
   },
   {
    "duration": 12,
    "start_time": "2022-11-29T17:54:23.324Z"
   },
   {
    "duration": 146,
    "start_time": "2022-11-29T17:54:23.338Z"
   },
   {
    "duration": 113,
    "start_time": "2022-11-29T17:54:23.486Z"
   },
   {
    "duration": 5,
    "start_time": "2022-11-29T17:54:23.601Z"
   },
   {
    "duration": 34,
    "start_time": "2022-11-29T17:54:23.607Z"
   },
   {
    "duration": 18,
    "start_time": "2022-11-29T17:54:23.643Z"
   },
   {
    "duration": 3,
    "start_time": "2022-11-29T17:54:23.663Z"
   },
   {
    "duration": 104,
    "start_time": "2022-11-29T17:54:23.667Z"
   },
   {
    "duration": 3,
    "start_time": "2022-11-29T17:54:23.773Z"
   },
   {
    "duration": 81,
    "start_time": "2022-11-29T17:54:23.777Z"
   },
   {
    "duration": 7,
    "start_time": "2022-11-29T17:54:23.860Z"
   },
   {
    "duration": 12,
    "start_time": "2022-11-29T17:54:23.869Z"
   },
   {
    "duration": 18,
    "start_time": "2022-11-29T17:54:23.883Z"
   },
   {
    "duration": 12,
    "start_time": "2022-11-29T17:54:23.902Z"
   },
   {
    "duration": 7,
    "start_time": "2022-11-29T17:54:23.916Z"
   },
   {
    "duration": 1158,
    "start_time": "2022-11-29T17:54:23.925Z"
   },
   {
    "duration": 1075,
    "start_time": "2022-11-29T17:54:25.085Z"
   },
   {
    "duration": 4,
    "start_time": "2022-11-29T17:54:42.952Z"
   },
   {
    "duration": 10,
    "start_time": "2022-11-29T17:55:06.248Z"
   },
   {
    "duration": 4,
    "start_time": "2022-11-29T17:55:33.310Z"
   },
   {
    "duration": 4,
    "start_time": "2022-11-29T17:55:51.100Z"
   },
   {
    "duration": 6,
    "start_time": "2022-11-29T17:56:49.280Z"
   },
   {
    "duration": 6,
    "start_time": "2022-11-29T17:56:57.270Z"
   },
   {
    "duration": 5,
    "start_time": "2022-11-29T17:57:09.920Z"
   },
   {
    "duration": 124,
    "start_time": "2022-11-29T17:58:24.181Z"
   },
   {
    "duration": 366,
    "start_time": "2022-11-29T17:58:29.991Z"
   },
   {
    "duration": 378,
    "start_time": "2022-11-29T17:59:34.230Z"
   },
   {
    "duration": 47,
    "start_time": "2022-11-29T18:01:39.180Z"
   },
   {
    "duration": 85,
    "start_time": "2022-11-29T18:01:52.206Z"
   },
   {
    "duration": 8,
    "start_time": "2022-11-29T18:03:23.776Z"
   },
   {
    "duration": 7,
    "start_time": "2022-11-29T18:03:42.275Z"
   },
   {
    "duration": 8,
    "start_time": "2022-11-29T18:03:49.585Z"
   },
   {
    "duration": 7,
    "start_time": "2022-11-29T18:04:12.683Z"
   },
   {
    "duration": 2624,
    "start_time": "2022-11-29T18:04:24.080Z"
   },
   {
    "duration": 2588,
    "start_time": "2022-11-29T18:05:01.272Z"
   },
   {
    "duration": 1389,
    "start_time": "2022-11-29T18:05:32.241Z"
   },
   {
    "duration": 829,
    "start_time": "2022-11-29T18:05:33.632Z"
   },
   {
    "duration": 123,
    "start_time": "2022-11-29T18:05:34.462Z"
   },
   {
    "duration": 17,
    "start_time": "2022-11-29T18:05:34.586Z"
   },
   {
    "duration": 144,
    "start_time": "2022-11-29T18:05:34.605Z"
   },
   {
    "duration": 458,
    "start_time": "2022-11-29T18:05:34.750Z"
   },
   {
    "duration": 3,
    "start_time": "2022-11-29T18:05:35.209Z"
   },
   {
    "duration": 16,
    "start_time": "2022-11-29T18:05:35.214Z"
   },
   {
    "duration": 269,
    "start_time": "2022-11-29T18:05:35.231Z"
   },
   {
    "duration": 33,
    "start_time": "2022-11-29T18:05:35.501Z"
   },
   {
    "duration": 40,
    "start_time": "2022-11-29T18:05:35.536Z"
   },
   {
    "duration": 24,
    "start_time": "2022-11-29T18:05:35.578Z"
   },
   {
    "duration": 30,
    "start_time": "2022-11-29T18:05:35.604Z"
   },
   {
    "duration": 21,
    "start_time": "2022-11-29T18:05:35.638Z"
   },
   {
    "duration": 12,
    "start_time": "2022-11-29T18:05:35.661Z"
   },
   {
    "duration": 15,
    "start_time": "2022-11-29T18:05:35.675Z"
   },
   {
    "duration": 64,
    "start_time": "2022-11-29T18:05:35.692Z"
   },
   {
    "duration": 24,
    "start_time": "2022-11-29T18:05:35.757Z"
   },
   {
    "duration": 10,
    "start_time": "2022-11-29T18:05:35.783Z"
   },
   {
    "duration": 36,
    "start_time": "2022-11-29T18:05:35.795Z"
   },
   {
    "duration": 52,
    "start_time": "2022-11-29T18:05:35.833Z"
   },
   {
    "duration": 37,
    "start_time": "2022-11-29T18:05:35.888Z"
   },
   {
    "duration": 25,
    "start_time": "2022-11-29T18:05:35.927Z"
   },
   {
    "duration": 43,
    "start_time": "2022-11-29T18:05:35.954Z"
   },
   {
    "duration": 37,
    "start_time": "2022-11-29T18:05:35.999Z"
   },
   {
    "duration": 11,
    "start_time": "2022-11-29T18:05:36.038Z"
   },
   {
    "duration": 14,
    "start_time": "2022-11-29T18:05:36.051Z"
   },
   {
    "duration": 452,
    "start_time": "2022-11-29T18:05:36.066Z"
   },
   {
    "duration": 516,
    "start_time": "2022-11-29T18:05:36.519Z"
   },
   {
    "duration": 21,
    "start_time": "2022-11-29T18:05:37.037Z"
   },
   {
    "duration": 275,
    "start_time": "2022-11-29T18:05:37.060Z"
   },
   {
    "duration": 25,
    "start_time": "2022-11-29T18:05:37.337Z"
   },
   {
    "duration": 148,
    "start_time": "2022-11-29T18:05:37.364Z"
   },
   {
    "duration": 421,
    "start_time": "2022-11-29T18:05:37.514Z"
   },
   {
    "duration": 11,
    "start_time": "2022-11-29T18:05:37.937Z"
   },
   {
    "duration": 48,
    "start_time": "2022-11-29T18:05:37.949Z"
   },
   {
    "duration": 173,
    "start_time": "2022-11-29T18:05:37.999Z"
   },
   {
    "duration": 10,
    "start_time": "2022-11-29T18:05:38.173Z"
   },
   {
    "duration": 59,
    "start_time": "2022-11-29T18:05:38.185Z"
   },
   {
    "duration": 16,
    "start_time": "2022-11-29T18:05:38.246Z"
   },
   {
    "duration": 10,
    "start_time": "2022-11-29T18:05:38.266Z"
   },
   {
    "duration": 61,
    "start_time": "2022-11-29T18:05:38.278Z"
   },
   {
    "duration": 8,
    "start_time": "2022-11-29T18:05:38.341Z"
   },
   {
    "duration": 42,
    "start_time": "2022-11-29T18:05:38.350Z"
   },
   {
    "duration": 4,
    "start_time": "2022-11-29T18:05:38.393Z"
   },
   {
    "duration": 193,
    "start_time": "2022-11-29T18:05:38.399Z"
   },
   {
    "duration": 16,
    "start_time": "2022-11-29T18:05:38.594Z"
   },
   {
    "duration": 9,
    "start_time": "2022-11-29T18:05:38.632Z"
   },
   {
    "duration": 44,
    "start_time": "2022-11-29T18:05:38.643Z"
   },
   {
    "duration": 15,
    "start_time": "2022-11-29T18:05:38.689Z"
   },
   {
    "duration": 32,
    "start_time": "2022-11-29T18:05:38.706Z"
   },
   {
    "duration": 96,
    "start_time": "2022-11-29T18:05:38.739Z"
   },
   {
    "duration": 197,
    "start_time": "2022-11-29T18:05:38.836Z"
   },
   {
    "duration": 56,
    "start_time": "2022-11-29T18:05:39.035Z"
   },
   {
    "duration": 41,
    "start_time": "2022-11-29T18:05:39.093Z"
   },
   {
    "duration": 8,
    "start_time": "2022-11-29T18:05:39.136Z"
   },
   {
    "duration": 5,
    "start_time": "2022-11-29T18:05:39.145Z"
   },
   {
    "duration": 20,
    "start_time": "2022-11-29T18:05:39.151Z"
   },
   {
    "duration": 60,
    "start_time": "2022-11-29T18:05:39.173Z"
   },
   {
    "duration": 16,
    "start_time": "2022-11-29T18:05:39.235Z"
   },
   {
    "duration": 15,
    "start_time": "2022-11-29T18:05:39.252Z"
   },
   {
    "duration": 157,
    "start_time": "2022-11-29T18:05:39.269Z"
   },
   {
    "duration": 13,
    "start_time": "2022-11-29T18:05:39.427Z"
   },
   {
    "duration": 142,
    "start_time": "2022-11-29T18:05:39.443Z"
   },
   {
    "duration": 117,
    "start_time": "2022-11-29T18:05:39.587Z"
   },
   {
    "duration": 30,
    "start_time": "2022-11-29T18:05:39.706Z"
   },
   {
    "duration": 21,
    "start_time": "2022-11-29T18:05:39.737Z"
   },
   {
    "duration": 23,
    "start_time": "2022-11-29T18:05:39.760Z"
   },
   {
    "duration": 5,
    "start_time": "2022-11-29T18:05:39.785Z"
   },
   {
    "duration": 102,
    "start_time": "2022-11-29T18:05:39.792Z"
   },
   {
    "duration": 4,
    "start_time": "2022-11-29T18:05:39.895Z"
   },
   {
    "duration": 76,
    "start_time": "2022-11-29T18:05:39.900Z"
   },
   {
    "duration": 6,
    "start_time": "2022-11-29T18:05:39.977Z"
   },
   {
    "duration": 12,
    "start_time": "2022-11-29T18:05:39.985Z"
   },
   {
    "duration": 8,
    "start_time": "2022-11-29T18:05:39.999Z"
   },
   {
    "duration": 16,
    "start_time": "2022-11-29T18:05:40.009Z"
   },
   {
    "duration": 16,
    "start_time": "2022-11-29T18:05:40.031Z"
   },
   {
    "duration": 1115,
    "start_time": "2022-11-29T18:05:40.048Z"
   },
   {
    "duration": 1078,
    "start_time": "2022-11-29T18:05:41.165Z"
   },
   {
    "duration": 5,
    "start_time": "2022-11-29T18:05:42.244Z"
   },
   {
    "duration": 14,
    "start_time": "2022-11-29T18:05:42.251Z"
   },
   {
    "duration": 8,
    "start_time": "2022-11-29T18:05:42.267Z"
   },
   {
    "duration": 1455,
    "start_time": "2022-11-29T18:06:25.806Z"
   },
   {
    "duration": 2679,
    "start_time": "2022-11-29T18:06:27.263Z"
   },
   {
    "duration": 107,
    "start_time": "2022-11-29T18:06:29.944Z"
   },
   {
    "duration": 20,
    "start_time": "2022-11-29T18:06:30.054Z"
   },
   {
    "duration": 146,
    "start_time": "2022-11-29T18:06:30.077Z"
   },
   {
    "duration": 456,
    "start_time": "2022-11-29T18:06:30.225Z"
   },
   {
    "duration": 4,
    "start_time": "2022-11-29T18:06:30.683Z"
   },
   {
    "duration": 12,
    "start_time": "2022-11-29T18:06:30.690Z"
   },
   {
    "duration": 281,
    "start_time": "2022-11-29T18:06:30.704Z"
   },
   {
    "duration": 15,
    "start_time": "2022-11-29T18:06:30.986Z"
   },
   {
    "duration": 53,
    "start_time": "2022-11-29T18:06:31.003Z"
   },
   {
    "duration": 18,
    "start_time": "2022-11-29T18:06:31.058Z"
   },
   {
    "duration": 20,
    "start_time": "2022-11-29T18:06:31.078Z"
   },
   {
    "duration": 35,
    "start_time": "2022-11-29T18:06:31.100Z"
   },
   {
    "duration": 42,
    "start_time": "2022-11-29T18:06:31.137Z"
   },
   {
    "duration": 34,
    "start_time": "2022-11-29T18:06:31.181Z"
   },
   {
    "duration": 51,
    "start_time": "2022-11-29T18:06:31.216Z"
   },
   {
    "duration": 20,
    "start_time": "2022-11-29T18:06:31.268Z"
   },
   {
    "duration": 17,
    "start_time": "2022-11-29T18:06:31.289Z"
   },
   {
    "duration": 19,
    "start_time": "2022-11-29T18:06:31.307Z"
   },
   {
    "duration": 36,
    "start_time": "2022-11-29T18:06:31.328Z"
   },
   {
    "duration": 17,
    "start_time": "2022-11-29T18:06:31.366Z"
   },
   {
    "duration": 35,
    "start_time": "2022-11-29T18:06:31.385Z"
   },
   {
    "duration": 42,
    "start_time": "2022-11-29T18:06:31.422Z"
   },
   {
    "duration": 17,
    "start_time": "2022-11-29T18:06:31.465Z"
   },
   {
    "duration": 15,
    "start_time": "2022-11-29T18:06:31.484Z"
   },
   {
    "duration": 32,
    "start_time": "2022-11-29T18:06:31.501Z"
   },
   {
    "duration": 436,
    "start_time": "2022-11-29T18:06:31.535Z"
   },
   {
    "duration": 474,
    "start_time": "2022-11-29T18:06:31.973Z"
   },
   {
    "duration": 21,
    "start_time": "2022-11-29T18:06:32.448Z"
   },
   {
    "duration": 262,
    "start_time": "2022-11-29T18:06:32.470Z"
   },
   {
    "duration": 25,
    "start_time": "2022-11-29T18:06:32.734Z"
   },
   {
    "duration": 155,
    "start_time": "2022-11-29T18:06:32.761Z"
   },
   {
    "duration": 389,
    "start_time": "2022-11-29T18:06:32.918Z"
   },
   {
    "duration": 14,
    "start_time": "2022-11-29T18:06:33.308Z"
   },
   {
    "duration": 55,
    "start_time": "2022-11-29T18:06:33.324Z"
   },
   {
    "duration": 175,
    "start_time": "2022-11-29T18:06:33.381Z"
   },
   {
    "duration": 11,
    "start_time": "2022-11-29T18:06:33.557Z"
   },
   {
    "duration": 57,
    "start_time": "2022-11-29T18:06:33.569Z"
   },
   {
    "duration": 18,
    "start_time": "2022-11-29T18:06:33.627Z"
   },
   {
    "duration": 9,
    "start_time": "2022-11-29T18:06:33.649Z"
   },
   {
    "duration": 63,
    "start_time": "2022-11-29T18:06:33.660Z"
   },
   {
    "duration": 10,
    "start_time": "2022-11-29T18:06:33.725Z"
   },
   {
    "duration": 41,
    "start_time": "2022-11-29T18:06:33.736Z"
   },
   {
    "duration": 4,
    "start_time": "2022-11-29T18:06:33.779Z"
   },
   {
    "duration": 193,
    "start_time": "2022-11-29T18:06:33.785Z"
   },
   {
    "duration": 16,
    "start_time": "2022-11-29T18:06:33.980Z"
   },
   {
    "duration": 8,
    "start_time": "2022-11-29T18:06:33.997Z"
   },
   {
    "duration": 58,
    "start_time": "2022-11-29T18:06:34.006Z"
   },
   {
    "duration": 20,
    "start_time": "2022-11-29T18:06:34.065Z"
   },
   {
    "duration": 39,
    "start_time": "2022-11-29T18:06:34.087Z"
   },
   {
    "duration": 106,
    "start_time": "2022-11-29T18:06:34.128Z"
   },
   {
    "duration": 209,
    "start_time": "2022-11-29T18:06:34.236Z"
   },
   {
    "duration": 59,
    "start_time": "2022-11-29T18:06:34.447Z"
   },
   {
    "duration": 37,
    "start_time": "2022-11-29T18:06:34.508Z"
   },
   {
    "duration": 8,
    "start_time": "2022-11-29T18:06:34.546Z"
   },
   {
    "duration": 5,
    "start_time": "2022-11-29T18:06:34.555Z"
   },
   {
    "duration": 21,
    "start_time": "2022-11-29T18:06:34.561Z"
   },
   {
    "duration": 62,
    "start_time": "2022-11-29T18:06:34.584Z"
   },
   {
    "duration": 15,
    "start_time": "2022-11-29T18:06:34.648Z"
   },
   {
    "duration": 14,
    "start_time": "2022-11-29T18:06:34.664Z"
   },
   {
    "duration": 162,
    "start_time": "2022-11-29T18:06:34.680Z"
   },
   {
    "duration": 13,
    "start_time": "2022-11-29T18:06:34.843Z"
   },
   {
    "duration": 156,
    "start_time": "2022-11-29T18:06:34.858Z"
   },
   {
    "duration": 109,
    "start_time": "2022-11-29T18:06:35.016Z"
   },
   {
    "duration": 5,
    "start_time": "2022-11-29T18:06:35.127Z"
   },
   {
    "duration": 35,
    "start_time": "2022-11-29T18:06:35.133Z"
   },
   {
    "duration": 23,
    "start_time": "2022-11-29T18:06:35.170Z"
   },
   {
    "duration": 21,
    "start_time": "2022-11-29T18:06:35.195Z"
   },
   {
    "duration": 87,
    "start_time": "2022-11-29T18:06:35.218Z"
   },
   {
    "duration": 2,
    "start_time": "2022-11-29T18:06:35.307Z"
   },
   {
    "duration": 67,
    "start_time": "2022-11-29T18:06:35.311Z"
   },
   {
    "duration": 6,
    "start_time": "2022-11-29T18:06:35.380Z"
   },
   {
    "duration": 23,
    "start_time": "2022-11-29T18:06:35.388Z"
   },
   {
    "duration": 32,
    "start_time": "2022-11-29T18:06:35.412Z"
   },
   {
    "duration": 14,
    "start_time": "2022-11-29T18:06:35.446Z"
   },
   {
    "duration": 31,
    "start_time": "2022-11-29T18:06:35.462Z"
   },
   {
    "duration": 1120,
    "start_time": "2022-11-29T18:06:35.495Z"
   },
   {
    "duration": 1079,
    "start_time": "2022-11-29T18:06:36.617Z"
   },
   {
    "duration": 4,
    "start_time": "2022-11-29T18:06:37.698Z"
   },
   {
    "duration": 8,
    "start_time": "2022-11-29T18:06:37.704Z"
   },
   {
    "duration": 4,
    "start_time": "2022-11-29T18:06:37.722Z"
   },
   {
    "duration": 50,
    "start_time": "2022-11-29T18:06:37.728Z"
   },
   {
    "duration": 2791,
    "start_time": "2022-11-29T18:06:37.780Z"
   },
   {
    "duration": 24,
    "start_time": "2022-11-29T18:06:40.573Z"
   },
   {
    "duration": 4,
    "start_time": "2022-11-29T18:07:10.478Z"
   },
   {
    "duration": 12,
    "start_time": "2022-11-29T18:07:24.932Z"
   },
   {
    "duration": 7,
    "start_time": "2022-11-29T18:07:40.266Z"
   },
   {
    "duration": 5,
    "start_time": "2022-11-29T18:07:47.740Z"
   },
   {
    "duration": 6,
    "start_time": "2022-11-29T18:07:59.126Z"
   },
   {
    "duration": 1290,
    "start_time": "2022-11-29T18:11:58.952Z"
   },
   {
    "duration": 771,
    "start_time": "2022-11-29T18:12:00.244Z"
   },
   {
    "duration": 116,
    "start_time": "2022-11-29T18:12:01.017Z"
   },
   {
    "duration": 16,
    "start_time": "2022-11-29T18:12:01.135Z"
   },
   {
    "duration": 106,
    "start_time": "2022-11-29T18:12:01.153Z"
   },
   {
    "duration": 458,
    "start_time": "2022-11-29T18:12:01.261Z"
   },
   {
    "duration": 4,
    "start_time": "2022-11-29T18:12:01.721Z"
   },
   {
    "duration": 7,
    "start_time": "2022-11-29T18:12:01.726Z"
   },
   {
    "duration": 283,
    "start_time": "2022-11-29T18:12:01.734Z"
   },
   {
    "duration": 15,
    "start_time": "2022-11-29T18:12:02.018Z"
   },
   {
    "duration": 42,
    "start_time": "2022-11-29T18:12:02.034Z"
   },
   {
    "duration": 48,
    "start_time": "2022-11-29T18:12:02.078Z"
   },
   {
    "duration": 16,
    "start_time": "2022-11-29T18:12:02.127Z"
   },
   {
    "duration": 24,
    "start_time": "2022-11-29T18:12:02.145Z"
   },
   {
    "duration": 21,
    "start_time": "2022-11-29T18:12:02.171Z"
   },
   {
    "duration": 23,
    "start_time": "2022-11-29T18:12:02.194Z"
   },
   {
    "duration": 41,
    "start_time": "2022-11-29T18:12:02.218Z"
   },
   {
    "duration": 18,
    "start_time": "2022-11-29T18:12:02.260Z"
   },
   {
    "duration": 9,
    "start_time": "2022-11-29T18:12:02.280Z"
   },
   {
    "duration": 19,
    "start_time": "2022-11-29T18:12:02.290Z"
   },
   {
    "duration": 37,
    "start_time": "2022-11-29T18:12:02.322Z"
   },
   {
    "duration": 19,
    "start_time": "2022-11-29T18:12:02.360Z"
   },
   {
    "duration": 17,
    "start_time": "2022-11-29T18:12:02.380Z"
   },
   {
    "duration": 57,
    "start_time": "2022-11-29T18:12:02.398Z"
   },
   {
    "duration": 17,
    "start_time": "2022-11-29T18:12:02.457Z"
   },
   {
    "duration": 10,
    "start_time": "2022-11-29T18:12:02.475Z"
   },
   {
    "duration": 16,
    "start_time": "2022-11-29T18:12:02.486Z"
   },
   {
    "duration": 434,
    "start_time": "2022-11-29T18:12:02.522Z"
   },
   {
    "duration": 461,
    "start_time": "2022-11-29T18:12:02.958Z"
   },
   {
    "duration": 19,
    "start_time": "2022-11-29T18:12:03.421Z"
   },
   {
    "duration": 257,
    "start_time": "2022-11-29T18:12:03.442Z"
   },
   {
    "duration": 30,
    "start_time": "2022-11-29T18:12:03.700Z"
   },
   {
    "duration": 152,
    "start_time": "2022-11-29T18:12:03.731Z"
   },
   {
    "duration": 450,
    "start_time": "2022-11-29T18:12:03.885Z"
   },
   {
    "duration": 10,
    "start_time": "2022-11-29T18:12:04.337Z"
   },
   {
    "duration": 48,
    "start_time": "2022-11-29T18:12:04.348Z"
   },
   {
    "duration": 173,
    "start_time": "2022-11-29T18:12:04.397Z"
   },
   {
    "duration": 10,
    "start_time": "2022-11-29T18:12:04.571Z"
   },
   {
    "duration": 59,
    "start_time": "2022-11-29T18:12:04.582Z"
   },
   {
    "duration": 15,
    "start_time": "2022-11-29T18:12:04.643Z"
   },
   {
    "duration": 7,
    "start_time": "2022-11-29T18:12:04.663Z"
   },
   {
    "duration": 54,
    "start_time": "2022-11-29T18:12:04.671Z"
   },
   {
    "duration": 10,
    "start_time": "2022-11-29T18:12:04.727Z"
   },
   {
    "duration": 40,
    "start_time": "2022-11-29T18:12:04.738Z"
   },
   {
    "duration": 5,
    "start_time": "2022-11-29T18:12:04.779Z"
   },
   {
    "duration": 196,
    "start_time": "2022-11-29T18:12:04.785Z"
   },
   {
    "duration": 17,
    "start_time": "2022-11-29T18:12:04.982Z"
   },
   {
    "duration": 23,
    "start_time": "2022-11-29T18:12:05.000Z"
   },
   {
    "duration": 43,
    "start_time": "2022-11-29T18:12:05.025Z"
   },
   {
    "duration": 14,
    "start_time": "2022-11-29T18:12:05.070Z"
   },
   {
    "duration": 13,
    "start_time": "2022-11-29T18:12:05.086Z"
   },
   {
    "duration": 100,
    "start_time": "2022-11-29T18:12:05.100Z"
   },
   {
    "duration": 191,
    "start_time": "2022-11-29T18:12:05.202Z"
   },
   {
    "duration": 62,
    "start_time": "2022-11-29T18:12:05.394Z"
   },
   {
    "duration": 31,
    "start_time": "2022-11-29T18:12:05.458Z"
   },
   {
    "duration": 9,
    "start_time": "2022-11-29T18:12:05.491Z"
   },
   {
    "duration": 21,
    "start_time": "2022-11-29T18:12:05.502Z"
   },
   {
    "duration": 20,
    "start_time": "2022-11-29T18:12:05.525Z"
   },
   {
    "duration": 44,
    "start_time": "2022-11-29T18:12:05.547Z"
   },
   {
    "duration": 40,
    "start_time": "2022-11-29T18:12:05.593Z"
   },
   {
    "duration": 14,
    "start_time": "2022-11-29T18:12:05.635Z"
   },
   {
    "duration": 166,
    "start_time": "2022-11-29T18:12:05.651Z"
   },
   {
    "duration": 15,
    "start_time": "2022-11-29T18:12:05.818Z"
   },
   {
    "duration": 165,
    "start_time": "2022-11-29T18:12:05.835Z"
   },
   {
    "duration": 123,
    "start_time": "2022-11-29T18:12:06.002Z"
   },
   {
    "duration": 6,
    "start_time": "2022-11-29T18:12:06.126Z"
   },
   {
    "duration": 22,
    "start_time": "2022-11-29T18:12:06.133Z"
   },
   {
    "duration": 18,
    "start_time": "2022-11-29T18:12:06.157Z"
   },
   {
    "duration": 3,
    "start_time": "2022-11-29T18:12:06.177Z"
   },
   {
    "duration": 108,
    "start_time": "2022-11-29T18:12:06.182Z"
   },
   {
    "duration": 3,
    "start_time": "2022-11-29T18:12:06.292Z"
   },
   {
    "duration": 71,
    "start_time": "2022-11-29T18:12:06.296Z"
   },
   {
    "duration": 6,
    "start_time": "2022-11-29T18:12:06.368Z"
   },
   {
    "duration": 8,
    "start_time": "2022-11-29T18:12:06.375Z"
   },
   {
    "duration": 14,
    "start_time": "2022-11-29T18:12:06.384Z"
   },
   {
    "duration": 8,
    "start_time": "2022-11-29T18:12:06.399Z"
   },
   {
    "duration": 15,
    "start_time": "2022-11-29T18:12:06.408Z"
   },
   {
    "duration": 1088,
    "start_time": "2022-11-29T18:12:06.424Z"
   },
   {
    "duration": 2556,
    "start_time": "2022-11-29T18:12:07.514Z"
   },
   {
    "duration": 24,
    "start_time": "2022-11-29T18:12:10.072Z"
   },
   {
    "duration": 4,
    "start_time": "2022-11-29T18:14:13.839Z"
   },
   {
    "duration": 14,
    "start_time": "2022-11-29T18:18:24.296Z"
   },
   {
    "duration": 28,
    "start_time": "2022-11-29T18:18:40.492Z"
   },
   {
    "duration": 9,
    "start_time": "2022-11-29T18:22:45.781Z"
   },
   {
    "duration": 1485,
    "start_time": "2022-11-29T18:26:56.299Z"
   },
   {
    "duration": 811,
    "start_time": "2022-11-29T18:26:57.786Z"
   },
   {
    "duration": 113,
    "start_time": "2022-11-29T18:26:58.599Z"
   },
   {
    "duration": 18,
    "start_time": "2022-11-29T18:26:58.721Z"
   },
   {
    "duration": 144,
    "start_time": "2022-11-29T18:26:58.742Z"
   },
   {
    "duration": 446,
    "start_time": "2022-11-29T18:26:58.888Z"
   },
   {
    "duration": 4,
    "start_time": "2022-11-29T18:26:59.335Z"
   },
   {
    "duration": 7,
    "start_time": "2022-11-29T18:26:59.341Z"
   },
   {
    "duration": 300,
    "start_time": "2022-11-29T18:26:59.350Z"
   },
   {
    "duration": 15,
    "start_time": "2022-11-29T18:26:59.652Z"
   },
   {
    "duration": 38,
    "start_time": "2022-11-29T18:26:59.668Z"
   },
   {
    "duration": 30,
    "start_time": "2022-11-29T18:26:59.707Z"
   },
   {
    "duration": 15,
    "start_time": "2022-11-29T18:26:59.739Z"
   },
   {
    "duration": 18,
    "start_time": "2022-11-29T18:26:59.757Z"
   },
   {
    "duration": 10,
    "start_time": "2022-11-29T18:26:59.777Z"
   },
   {
    "duration": 45,
    "start_time": "2022-11-29T18:26:59.789Z"
   },
   {
    "duration": 45,
    "start_time": "2022-11-29T18:26:59.836Z"
   },
   {
    "duration": 18,
    "start_time": "2022-11-29T18:26:59.883Z"
   },
   {
    "duration": 26,
    "start_time": "2022-11-29T18:26:59.902Z"
   },
   {
    "duration": 16,
    "start_time": "2022-11-29T18:26:59.930Z"
   },
   {
    "duration": 39,
    "start_time": "2022-11-29T18:26:59.947Z"
   },
   {
    "duration": 37,
    "start_time": "2022-11-29T18:26:59.988Z"
   },
   {
    "duration": 17,
    "start_time": "2022-11-29T18:27:00.027Z"
   },
   {
    "duration": 45,
    "start_time": "2022-11-29T18:27:00.045Z"
   },
   {
    "duration": 33,
    "start_time": "2022-11-29T18:27:00.091Z"
   },
   {
    "duration": 10,
    "start_time": "2022-11-29T18:27:00.126Z"
   },
   {
    "duration": 15,
    "start_time": "2022-11-29T18:27:00.138Z"
   },
   {
    "duration": 449,
    "start_time": "2022-11-29T18:27:00.154Z"
   },
   {
    "duration": 477,
    "start_time": "2022-11-29T18:27:00.605Z"
   },
   {
    "duration": 20,
    "start_time": "2022-11-29T18:27:01.084Z"
   },
   {
    "duration": 274,
    "start_time": "2022-11-29T18:27:01.106Z"
   },
   {
    "duration": 26,
    "start_time": "2022-11-29T18:27:01.382Z"
   },
   {
    "duration": 149,
    "start_time": "2022-11-29T18:27:01.410Z"
   },
   {
    "duration": 420,
    "start_time": "2022-11-29T18:27:01.561Z"
   },
   {
    "duration": 10,
    "start_time": "2022-11-29T18:27:01.982Z"
   },
   {
    "duration": 61,
    "start_time": "2022-11-29T18:27:01.993Z"
   },
   {
    "duration": 153,
    "start_time": "2022-11-29T18:27:02.056Z"
   },
   {
    "duration": 17,
    "start_time": "2022-11-29T18:27:02.210Z"
   },
   {
    "duration": 44,
    "start_time": "2022-11-29T18:27:02.229Z"
   },
   {
    "duration": 17,
    "start_time": "2022-11-29T18:27:02.275Z"
   },
   {
    "duration": 28,
    "start_time": "2022-11-29T18:27:02.297Z"
   },
   {
    "duration": 41,
    "start_time": "2022-11-29T18:27:02.327Z"
   },
   {
    "duration": 8,
    "start_time": "2022-11-29T18:27:02.370Z"
   },
   {
    "duration": 63,
    "start_time": "2022-11-29T18:27:02.380Z"
   },
   {
    "duration": 4,
    "start_time": "2022-11-29T18:27:02.445Z"
   },
   {
    "duration": 184,
    "start_time": "2022-11-29T18:27:02.451Z"
   },
   {
    "duration": 16,
    "start_time": "2022-11-29T18:27:02.636Z"
   },
   {
    "duration": 7,
    "start_time": "2022-11-29T18:27:02.654Z"
   },
   {
    "duration": 59,
    "start_time": "2022-11-29T18:27:02.663Z"
   },
   {
    "duration": 14,
    "start_time": "2022-11-29T18:27:02.723Z"
   },
   {
    "duration": 14,
    "start_time": "2022-11-29T18:27:02.739Z"
   },
   {
    "duration": 95,
    "start_time": "2022-11-29T18:27:02.755Z"
   },
   {
    "duration": 193,
    "start_time": "2022-11-29T18:27:02.851Z"
   },
   {
    "duration": 61,
    "start_time": "2022-11-29T18:27:03.046Z"
   },
   {
    "duration": 42,
    "start_time": "2022-11-29T18:27:03.109Z"
   },
   {
    "duration": 8,
    "start_time": "2022-11-29T18:27:03.152Z"
   },
   {
    "duration": 6,
    "start_time": "2022-11-29T18:27:03.161Z"
   },
   {
    "duration": 19,
    "start_time": "2022-11-29T18:27:03.169Z"
   },
   {
    "duration": 38,
    "start_time": "2022-11-29T18:27:03.221Z"
   },
   {
    "duration": 17,
    "start_time": "2022-11-29T18:27:03.261Z"
   },
   {
    "duration": 15,
    "start_time": "2022-11-29T18:27:03.280Z"
   },
   {
    "duration": 176,
    "start_time": "2022-11-29T18:27:03.297Z"
   },
   {
    "duration": 13,
    "start_time": "2022-11-29T18:27:03.475Z"
   },
   {
    "duration": 157,
    "start_time": "2022-11-29T18:27:03.490Z"
   },
   {
    "duration": 105,
    "start_time": "2022-11-29T18:27:03.649Z"
   },
   {
    "duration": 5,
    "start_time": "2022-11-29T18:27:03.756Z"
   },
   {
    "duration": 36,
    "start_time": "2022-11-29T18:27:03.762Z"
   },
   {
    "duration": 24,
    "start_time": "2022-11-29T18:27:03.800Z"
   },
   {
    "duration": 34,
    "start_time": "2022-11-29T18:27:03.826Z"
   },
   {
    "duration": 89,
    "start_time": "2022-11-29T18:27:03.861Z"
   },
   {
    "duration": 3,
    "start_time": "2022-11-29T18:27:03.952Z"
   },
   {
    "duration": 81,
    "start_time": "2022-11-29T18:27:03.957Z"
   },
   {
    "duration": 7,
    "start_time": "2022-11-29T18:27:04.040Z"
   },
   {
    "duration": 24,
    "start_time": "2022-11-29T18:27:04.048Z"
   },
   {
    "duration": 18,
    "start_time": "2022-11-29T18:27:04.074Z"
   },
   {
    "duration": 24,
    "start_time": "2022-11-29T18:27:04.094Z"
   },
   {
    "duration": 1139,
    "start_time": "2022-11-29T18:27:04.120Z"
   },
   {
    "duration": 2544,
    "start_time": "2022-11-29T18:27:05.261Z"
   },
   {
    "duration": 4,
    "start_time": "2022-11-29T18:27:07.806Z"
   },
   {
    "duration": 777,
    "start_time": "2022-11-29T18:27:07.811Z"
   },
   {
    "duration": 1155,
    "start_time": "2022-11-29T18:27:55.139Z"
   },
   {
    "duration": 945,
    "start_time": "2022-11-29T18:28:06.687Z"
   },
   {
    "duration": 14,
    "start_time": "2022-11-29T18:28:25.071Z"
   },
   {
    "duration": 52,
    "start_time": "2022-11-29T19:22:56.409Z"
   },
   {
    "duration": 2891,
    "start_time": "2022-11-29T19:23:07.560Z"
   },
   {
    "duration": 407,
    "start_time": "2022-11-29T19:36:35.831Z"
   },
   {
    "duration": 4,
    "start_time": "2022-11-29T19:36:46.989Z"
   },
   {
    "duration": 3,
    "start_time": "2022-11-29T19:36:55.149Z"
   },
   {
    "duration": 1289,
    "start_time": "2022-11-29T19:36:58.138Z"
   },
   {
    "duration": 3,
    "start_time": "2022-11-29T19:37:31.547Z"
   },
   {
    "duration": 7136,
    "start_time": "2022-11-29T19:37:32.395Z"
   },
   {
    "duration": 3,
    "start_time": "2022-11-29T19:39:22.415Z"
   },
   {
    "duration": 40164,
    "start_time": "2022-11-29T19:39:23.199Z"
   },
   {
    "duration": 4,
    "start_time": "2022-11-29T19:40:09.268Z"
   },
   {
    "duration": 2249080,
    "start_time": "2022-11-29T19:40:09.790Z"
   },
   {
    "duration": 10,
    "start_time": "2022-11-29T21:10:07.241Z"
   },
   {
    "duration": 9,
    "start_time": "2022-11-29T21:11:17.175Z"
   },
   {
    "duration": 293,
    "start_time": "2022-11-29T21:11:28.146Z"
   },
   {
    "duration": 4,
    "start_time": "2022-11-29T21:12:27.168Z"
   },
   {
    "duration": 439,
    "start_time": "2022-11-29T21:12:54.024Z"
   },
   {
    "duration": 295,
    "start_time": "2022-11-29T21:13:08.556Z"
   },
   {
    "duration": 9,
    "start_time": "2022-11-30T18:32:29.419Z"
   },
   {
    "duration": 125,
    "start_time": "2022-11-30T18:34:45.769Z"
   },
   {
    "duration": 1642,
    "start_time": "2022-11-30T18:34:55.076Z"
   },
   {
    "duration": 2948,
    "start_time": "2022-11-30T18:34:56.721Z"
   },
   {
    "duration": 114,
    "start_time": "2022-11-30T18:34:59.671Z"
   },
   {
    "duration": 16,
    "start_time": "2022-11-30T18:34:59.787Z"
   },
   {
    "duration": 109,
    "start_time": "2022-11-30T18:34:59.805Z"
   },
   {
    "duration": 488,
    "start_time": "2022-11-30T18:34:59.915Z"
   },
   {
    "duration": 9,
    "start_time": "2022-11-30T18:35:00.405Z"
   },
   {
    "duration": 25,
    "start_time": "2022-11-30T18:35:00.416Z"
   },
   {
    "duration": 350,
    "start_time": "2022-11-30T18:35:00.444Z"
   },
   {
    "duration": 18,
    "start_time": "2022-11-30T18:35:00.796Z"
   },
   {
    "duration": 51,
    "start_time": "2022-11-30T18:35:00.816Z"
   },
   {
    "duration": 43,
    "start_time": "2022-11-30T18:35:00.870Z"
   },
   {
    "duration": 28,
    "start_time": "2022-11-30T18:35:00.916Z"
   },
   {
    "duration": 44,
    "start_time": "2022-11-30T18:35:00.949Z"
   },
   {
    "duration": 22,
    "start_time": "2022-11-30T18:35:00.996Z"
   },
   {
    "duration": 21,
    "start_time": "2022-11-30T18:35:01.020Z"
   },
   {
    "duration": 48,
    "start_time": "2022-11-30T18:35:01.043Z"
   },
   {
    "duration": 28,
    "start_time": "2022-11-30T18:35:01.093Z"
   },
   {
    "duration": 29,
    "start_time": "2022-11-30T18:35:01.122Z"
   },
   {
    "duration": 53,
    "start_time": "2022-11-30T18:35:01.153Z"
   },
   {
    "duration": 58,
    "start_time": "2022-11-30T18:35:01.208Z"
   },
   {
    "duration": 29,
    "start_time": "2022-11-30T18:35:01.268Z"
   },
   {
    "duration": 30,
    "start_time": "2022-11-30T18:35:01.299Z"
   },
   {
    "duration": 57,
    "start_time": "2022-11-30T18:35:01.331Z"
   },
   {
    "duration": 17,
    "start_time": "2022-11-30T18:35:01.389Z"
   },
   {
    "duration": 15,
    "start_time": "2022-11-30T18:35:01.408Z"
   },
   {
    "duration": 16,
    "start_time": "2022-11-30T18:35:01.425Z"
   },
   {
    "duration": 465,
    "start_time": "2022-11-30T18:35:01.443Z"
   },
   {
    "duration": 483,
    "start_time": "2022-11-30T18:35:01.909Z"
   },
   {
    "duration": 26,
    "start_time": "2022-11-30T18:35:02.394Z"
   },
   {
    "duration": 270,
    "start_time": "2022-11-30T18:35:02.422Z"
   },
   {
    "duration": 30,
    "start_time": "2022-11-30T18:35:02.693Z"
   },
   {
    "duration": 149,
    "start_time": "2022-11-30T18:35:02.725Z"
   },
   {
    "duration": 412,
    "start_time": "2022-11-30T18:35:02.876Z"
   },
   {
    "duration": 11,
    "start_time": "2022-11-30T18:35:03.290Z"
   },
   {
    "duration": 50,
    "start_time": "2022-11-30T18:35:03.313Z"
   },
   {
    "duration": 173,
    "start_time": "2022-11-30T18:35:03.365Z"
   },
   {
    "duration": 11,
    "start_time": "2022-11-30T18:35:03.540Z"
   },
   {
    "duration": 65,
    "start_time": "2022-11-30T18:35:03.552Z"
   },
   {
    "duration": 17,
    "start_time": "2022-11-30T18:35:03.619Z"
   },
   {
    "duration": 9,
    "start_time": "2022-11-30T18:35:03.642Z"
   },
   {
    "duration": 65,
    "start_time": "2022-11-30T18:35:03.652Z"
   },
   {
    "duration": 9,
    "start_time": "2022-11-30T18:35:03.719Z"
   },
   {
    "duration": 39,
    "start_time": "2022-11-30T18:35:03.730Z"
   },
   {
    "duration": 5,
    "start_time": "2022-11-30T18:35:03.770Z"
   },
   {
    "duration": 201,
    "start_time": "2022-11-30T18:35:03.777Z"
   },
   {
    "duration": 17,
    "start_time": "2022-11-30T18:35:03.981Z"
   },
   {
    "duration": 10,
    "start_time": "2022-11-30T18:35:04.012Z"
   },
   {
    "duration": 38,
    "start_time": "2022-11-30T18:35:04.024Z"
   },
   {
    "duration": 16,
    "start_time": "2022-11-30T18:35:04.064Z"
   },
   {
    "duration": 40,
    "start_time": "2022-11-30T18:35:04.082Z"
   },
   {
    "duration": 94,
    "start_time": "2022-11-30T18:35:04.123Z"
   },
   {
    "duration": 207,
    "start_time": "2022-11-30T18:35:04.219Z"
   },
   {
    "duration": 61,
    "start_time": "2022-11-30T18:35:04.428Z"
   },
   {
    "duration": 46,
    "start_time": "2022-11-30T18:35:04.491Z"
   },
   {
    "duration": 8,
    "start_time": "2022-11-30T18:35:04.539Z"
   },
   {
    "duration": 7,
    "start_time": "2022-11-30T18:35:04.549Z"
   },
   {
    "duration": 19,
    "start_time": "2022-11-30T18:35:04.558Z"
   },
   {
    "duration": 69,
    "start_time": "2022-11-30T18:35:04.579Z"
   },
   {
    "duration": 22,
    "start_time": "2022-11-30T18:35:04.650Z"
   },
   {
    "duration": 19,
    "start_time": "2022-11-30T18:35:04.674Z"
   },
   {
    "duration": 152,
    "start_time": "2022-11-30T18:35:04.712Z"
   },
   {
    "duration": 13,
    "start_time": "2022-11-30T18:35:04.865Z"
   },
   {
    "duration": 170,
    "start_time": "2022-11-30T18:35:04.880Z"
   },
   {
    "duration": 116,
    "start_time": "2022-11-30T18:35:05.052Z"
   },
   {
    "duration": 5,
    "start_time": "2022-11-30T18:35:05.170Z"
   },
   {
    "duration": 26,
    "start_time": "2022-11-30T18:35:05.177Z"
   },
   {
    "duration": 30,
    "start_time": "2022-11-30T18:35:05.205Z"
   },
   {
    "duration": 6,
    "start_time": "2022-11-30T18:35:05.237Z"
   },
   {
    "duration": 88,
    "start_time": "2022-11-30T18:35:05.245Z"
   },
   {
    "duration": 3,
    "start_time": "2022-11-30T18:35:05.335Z"
   },
   {
    "duration": 73,
    "start_time": "2022-11-30T18:35:05.340Z"
   },
   {
    "duration": 8,
    "start_time": "2022-11-30T18:35:05.418Z"
   },
   {
    "duration": 6,
    "start_time": "2022-11-30T18:35:05.428Z"
   },
   {
    "duration": 8,
    "start_time": "2022-11-30T18:35:05.436Z"
   },
   {
    "duration": 6,
    "start_time": "2022-11-30T18:35:05.445Z"
   },
   {
    "duration": 1115,
    "start_time": "2022-11-30T18:35:05.453Z"
   },
   {
    "duration": 2398,
    "start_time": "2022-11-30T18:35:06.570Z"
   },
   {
    "duration": 4,
    "start_time": "2022-11-30T18:35:08.970Z"
   },
   {
    "duration": 768,
    "start_time": "2022-11-30T18:35:08.975Z"
   },
   {
    "duration": 2168,
    "start_time": "2022-11-30T18:35:09.745Z"
   },
   {
    "duration": 377,
    "start_time": "2022-11-30T18:35:11.915Z"
   },
   {
    "duration": 4,
    "start_time": "2022-11-30T18:35:25.157Z"
   },
   {
    "duration": 88068,
    "start_time": "2022-11-30T18:36:13.289Z"
   },
   {
    "duration": 299,
    "start_time": "2022-11-30T18:44:08.795Z"
   },
   {
    "duration": 77,
    "start_time": "2022-11-30T18:44:58.139Z"
   },
   {
    "duration": 5,
    "start_time": "2022-11-30T18:45:06.898Z"
   },
   {
    "duration": 35,
    "start_time": "2022-11-30T18:57:01.608Z"
   },
   {
    "duration": 66,
    "start_time": "2022-11-30T19:23:14.017Z"
   },
   {
    "duration": 5,
    "start_time": "2022-11-30T19:23:39.123Z"
   },
   {
    "duration": 5,
    "start_time": "2022-11-30T19:24:33.597Z"
   },
   {
    "duration": 94,
    "start_time": "2022-11-30T19:24:36.640Z"
   },
   {
    "duration": 16,
    "start_time": "2022-11-30T19:26:40.998Z"
   },
   {
    "duration": 11,
    "start_time": "2022-11-30T19:27:04.368Z"
   },
   {
    "duration": 11,
    "start_time": "2022-11-30T19:27:09.608Z"
   },
   {
    "duration": 14,
    "start_time": "2022-11-30T19:27:28.718Z"
   },
   {
    "duration": 4,
    "start_time": "2022-11-30T19:28:06.331Z"
   },
   {
    "duration": 5,
    "start_time": "2022-11-30T19:28:36.917Z"
   },
   {
    "duration": 87,
    "start_time": "2022-11-30T19:29:10.666Z"
   },
   {
    "duration": 6,
    "start_time": "2022-11-30T19:32:06.166Z"
   },
   {
    "duration": 1247,
    "start_time": "2022-11-30T19:32:21.196Z"
   },
   {
    "duration": 5,
    "start_time": "2022-11-30T19:36:06.283Z"
   },
   {
    "duration": 80,
    "start_time": "2022-11-30T19:36:29.466Z"
   },
   {
    "duration": 1814,
    "start_time": "2022-12-01T06:47:04.779Z"
   },
   {
    "duration": 5,
    "start_time": "2022-12-01T06:50:42.771Z"
   },
   {
    "duration": 1058,
    "start_time": "2022-12-01T06:50:42.778Z"
   },
   {
    "duration": 123,
    "start_time": "2022-12-01T06:50:43.838Z"
   },
   {
    "duration": 17,
    "start_time": "2022-12-01T06:50:43.963Z"
   },
   {
    "duration": 118,
    "start_time": "2022-12-01T06:50:43.982Z"
   },
   {
    "duration": 464,
    "start_time": "2022-12-01T06:50:44.102Z"
   },
   {
    "duration": 3,
    "start_time": "2022-12-01T06:50:44.568Z"
   },
   {
    "duration": 17,
    "start_time": "2022-12-01T06:50:44.572Z"
   },
   {
    "duration": 290,
    "start_time": "2022-12-01T06:50:44.591Z"
   },
   {
    "duration": 20,
    "start_time": "2022-12-01T06:50:44.883Z"
   },
   {
    "duration": 43,
    "start_time": "2022-12-01T06:50:44.904Z"
   },
   {
    "duration": 22,
    "start_time": "2022-12-01T06:50:44.948Z"
   },
   {
    "duration": 31,
    "start_time": "2022-12-01T06:50:44.972Z"
   },
   {
    "duration": 29,
    "start_time": "2022-12-01T06:50:45.004Z"
   },
   {
    "duration": 13,
    "start_time": "2022-12-01T06:50:45.034Z"
   },
   {
    "duration": 20,
    "start_time": "2022-12-01T06:50:45.048Z"
   },
   {
    "duration": 62,
    "start_time": "2022-12-01T06:50:45.070Z"
   },
   {
    "duration": 23,
    "start_time": "2022-12-01T06:50:45.134Z"
   },
   {
    "duration": 11,
    "start_time": "2022-12-01T06:50:45.159Z"
   },
   {
    "duration": 44,
    "start_time": "2022-12-01T06:50:45.171Z"
   },
   {
    "duration": 43,
    "start_time": "2022-12-01T06:50:45.217Z"
   },
   {
    "duration": 20,
    "start_time": "2022-12-01T06:50:45.262Z"
   },
   {
    "duration": 29,
    "start_time": "2022-12-01T06:50:45.284Z"
   },
   {
    "duration": 46,
    "start_time": "2022-12-01T06:50:45.318Z"
   },
   {
    "duration": 31,
    "start_time": "2022-12-01T06:50:45.365Z"
   },
   {
    "duration": 11,
    "start_time": "2022-12-01T06:50:45.398Z"
   },
   {
    "duration": 13,
    "start_time": "2022-12-01T06:50:45.411Z"
   },
   {
    "duration": 462,
    "start_time": "2022-12-01T06:50:45.426Z"
   },
   {
    "duration": 511,
    "start_time": "2022-12-01T06:50:45.889Z"
   },
   {
    "duration": 25,
    "start_time": "2022-12-01T06:50:46.403Z"
   },
   {
    "duration": 315,
    "start_time": "2022-12-01T06:50:46.429Z"
   },
   {
    "duration": 27,
    "start_time": "2022-12-01T06:50:46.745Z"
   },
   {
    "duration": 160,
    "start_time": "2022-12-01T06:50:46.774Z"
   },
   {
    "duration": 456,
    "start_time": "2022-12-01T06:50:46.936Z"
   },
   {
    "duration": 11,
    "start_time": "2022-12-01T06:50:47.397Z"
   },
   {
    "duration": 64,
    "start_time": "2022-12-01T06:50:47.410Z"
   },
   {
    "duration": 200,
    "start_time": "2022-12-01T06:50:47.476Z"
   },
   {
    "duration": 19,
    "start_time": "2022-12-01T06:50:47.678Z"
   },
   {
    "duration": 67,
    "start_time": "2022-12-01T06:50:47.699Z"
   },
   {
    "duration": 18,
    "start_time": "2022-12-01T06:50:47.768Z"
   },
   {
    "duration": 15,
    "start_time": "2022-12-01T06:50:47.788Z"
   },
   {
    "duration": 47,
    "start_time": "2022-12-01T06:50:47.805Z"
   },
   {
    "duration": 14,
    "start_time": "2022-12-01T06:50:47.855Z"
   },
   {
    "duration": 82,
    "start_time": "2022-12-01T06:50:47.871Z"
   },
   {
    "duration": 6,
    "start_time": "2022-12-01T06:50:47.955Z"
   },
   {
    "duration": 302,
    "start_time": "2022-12-01T06:50:47.963Z"
   },
   {
    "duration": 18,
    "start_time": "2022-12-01T06:50:48.267Z"
   },
   {
    "duration": 9,
    "start_time": "2022-12-01T06:50:48.296Z"
   },
   {
    "duration": 53,
    "start_time": "2022-12-01T06:50:48.306Z"
   },
   {
    "duration": 16,
    "start_time": "2022-12-01T06:50:48.361Z"
   },
   {
    "duration": 32,
    "start_time": "2022-12-01T06:50:48.379Z"
   },
   {
    "duration": 105,
    "start_time": "2022-12-01T06:50:48.413Z"
   },
   {
    "duration": 112,
    "start_time": "2022-12-01T06:50:48.520Z"
   },
   {
    "duration": 69,
    "start_time": "2022-12-01T06:50:48.634Z"
   },
   {
    "duration": 32,
    "start_time": "2022-12-01T06:50:48.704Z"
   },
   {
    "duration": 8,
    "start_time": "2022-12-01T06:50:48.738Z"
   },
   {
    "duration": 5,
    "start_time": "2022-12-01T06:50:48.747Z"
   },
   {
    "duration": 18,
    "start_time": "2022-12-01T06:50:48.754Z"
   },
   {
    "duration": 37,
    "start_time": "2022-12-01T06:50:48.797Z"
   },
   {
    "duration": 16,
    "start_time": "2022-12-01T06:50:48.835Z"
   },
   {
    "duration": 16,
    "start_time": "2022-12-01T06:50:48.853Z"
   },
   {
    "duration": 191,
    "start_time": "2022-12-01T06:50:48.871Z"
   },
   {
    "duration": 13,
    "start_time": "2022-12-01T06:50:49.065Z"
   },
   {
    "duration": 182,
    "start_time": "2022-12-01T06:50:49.080Z"
   },
   {
    "duration": 147,
    "start_time": "2022-12-01T06:50:49.264Z"
   },
   {
    "duration": 8,
    "start_time": "2022-12-01T06:50:49.413Z"
   },
   {
    "duration": 31,
    "start_time": "2022-12-01T06:50:49.422Z"
   },
   {
    "duration": 17,
    "start_time": "2022-12-01T06:50:49.455Z"
   },
   {
    "duration": 3,
    "start_time": "2022-12-01T06:50:49.497Z"
   },
   {
    "duration": 73,
    "start_time": "2022-12-01T06:50:49.502Z"
   },
   {
    "duration": 2,
    "start_time": "2022-12-01T06:50:49.577Z"
   },
   {
    "duration": 63,
    "start_time": "2022-12-01T06:50:49.597Z"
   },
   {
    "duration": 7,
    "start_time": "2022-12-01T06:50:49.661Z"
   },
   {
    "duration": 11,
    "start_time": "2022-12-01T06:50:49.670Z"
   },
   {
    "duration": 14,
    "start_time": "2022-12-01T06:50:49.683Z"
   },
   {
    "duration": 9,
    "start_time": "2022-12-01T06:50:49.699Z"
   },
   {
    "duration": 1231,
    "start_time": "2022-12-01T06:50:49.710Z"
   },
   {
    "duration": 2887,
    "start_time": "2022-12-01T06:50:50.943Z"
   },
   {
    "duration": 3,
    "start_time": "2022-12-01T06:50:53.833Z"
   },
   {
    "duration": 963,
    "start_time": "2022-12-01T06:50:53.838Z"
   },
   {
    "duration": 1214,
    "start_time": "2022-12-01T06:50:54.802Z"
   },
   {
    "duration": 451,
    "start_time": "2022-12-01T06:50:56.018Z"
   },
   {
    "duration": 162,
    "start_time": "2022-12-01T06:52:05.376Z"
   },
   {
    "duration": 53,
    "start_time": "2022-12-01T06:52:13.771Z"
   },
   {
    "duration": 72,
    "start_time": "2022-12-01T06:52:50.018Z"
   },
   {
    "duration": 87,
    "start_time": "2022-12-01T06:53:45.018Z"
   },
   {
    "duration": 93,
    "start_time": "2022-12-01T06:59:05.014Z"
   },
   {
    "duration": 61,
    "start_time": "2022-12-01T06:59:27.118Z"
   },
   {
    "duration": 77,
    "start_time": "2022-12-01T07:01:04.740Z"
   },
   {
    "duration": 83,
    "start_time": "2022-12-01T07:01:26.229Z"
   },
   {
    "duration": 5,
    "start_time": "2022-12-01T07:01:33.667Z"
   },
   {
    "duration": 4,
    "start_time": "2022-12-01T07:02:41.661Z"
   },
   {
    "duration": 3,
    "start_time": "2022-12-01T07:02:47.404Z"
   },
   {
    "duration": 4,
    "start_time": "2022-12-01T07:03:02.674Z"
   },
   {
    "duration": 105,
    "start_time": "2022-12-01T07:09:47.166Z"
   },
   {
    "duration": 156,
    "start_time": "2022-12-01T07:13:30.483Z"
   },
   {
    "duration": 104,
    "start_time": "2022-12-01T07:14:06.251Z"
   },
   {
    "duration": 59,
    "start_time": "2022-12-01T07:14:36.923Z"
   },
   {
    "duration": 31,
    "start_time": "2022-12-01T07:17:02.962Z"
   },
   {
    "duration": 83,
    "start_time": "2022-12-01T07:17:42.973Z"
   },
   {
    "duration": 82,
    "start_time": "2022-12-01T07:18:00.384Z"
   },
   {
    "duration": 12610,
    "start_time": "2022-12-01T07:20:47.198Z"
   },
   {
    "duration": 1392,
    "start_time": "2022-12-01T08:32:48.129Z"
   },
   {
    "duration": 809,
    "start_time": "2022-12-01T08:32:49.523Z"
   },
   {
    "duration": 131,
    "start_time": "2022-12-01T08:32:50.334Z"
   },
   {
    "duration": 18,
    "start_time": "2022-12-01T08:32:50.467Z"
   },
   {
    "duration": 114,
    "start_time": "2022-12-01T08:32:50.497Z"
   },
   {
    "duration": 501,
    "start_time": "2022-12-01T08:32:50.614Z"
   },
   {
    "duration": 4,
    "start_time": "2022-12-01T08:32:51.116Z"
   },
   {
    "duration": 8,
    "start_time": "2022-12-01T08:32:51.122Z"
   },
   {
    "duration": 318,
    "start_time": "2022-12-01T08:32:51.132Z"
   },
   {
    "duration": 16,
    "start_time": "2022-12-01T08:32:51.453Z"
   },
   {
    "duration": 56,
    "start_time": "2022-12-01T08:32:51.471Z"
   },
   {
    "duration": 23,
    "start_time": "2022-12-01T08:32:51.530Z"
   },
   {
    "duration": 17,
    "start_time": "2022-12-01T08:32:51.555Z"
   },
   {
    "duration": 19,
    "start_time": "2022-12-01T08:32:51.596Z"
   },
   {
    "duration": 13,
    "start_time": "2022-12-01T08:32:51.617Z"
   },
   {
    "duration": 19,
    "start_time": "2022-12-01T08:32:51.632Z"
   },
   {
    "duration": 61,
    "start_time": "2022-12-01T08:32:51.652Z"
   },
   {
    "duration": 19,
    "start_time": "2022-12-01T08:32:51.715Z"
   },
   {
    "duration": 12,
    "start_time": "2022-12-01T08:32:51.736Z"
   },
   {
    "duration": 16,
    "start_time": "2022-12-01T08:32:51.750Z"
   },
   {
    "duration": 69,
    "start_time": "2022-12-01T08:32:51.768Z"
   },
   {
    "duration": 20,
    "start_time": "2022-12-01T08:32:51.839Z"
   },
   {
    "duration": 38,
    "start_time": "2022-12-01T08:32:51.860Z"
   },
   {
    "duration": 43,
    "start_time": "2022-12-01T08:32:51.899Z"
   },
   {
    "duration": 22,
    "start_time": "2022-12-01T08:32:51.944Z"
   },
   {
    "duration": 31,
    "start_time": "2022-12-01T08:32:51.968Z"
   },
   {
    "duration": 15,
    "start_time": "2022-12-01T08:32:52.001Z"
   },
   {
    "duration": 476,
    "start_time": "2022-12-01T08:32:52.020Z"
   },
   {
    "duration": 510,
    "start_time": "2022-12-01T08:32:52.498Z"
   },
   {
    "duration": 20,
    "start_time": "2022-12-01T08:32:53.010Z"
   },
   {
    "duration": 294,
    "start_time": "2022-12-01T08:32:53.032Z"
   },
   {
    "duration": 29,
    "start_time": "2022-12-01T08:32:53.328Z"
   },
   {
    "duration": 175,
    "start_time": "2022-12-01T08:32:53.359Z"
   },
   {
    "duration": 482,
    "start_time": "2022-12-01T08:32:53.536Z"
   },
   {
    "duration": 11,
    "start_time": "2022-12-01T08:32:54.020Z"
   },
   {
    "duration": 64,
    "start_time": "2022-12-01T08:32:54.032Z"
   },
   {
    "duration": 181,
    "start_time": "2022-12-01T08:32:54.099Z"
   },
   {
    "duration": 19,
    "start_time": "2022-12-01T08:32:54.282Z"
   },
   {
    "duration": 51,
    "start_time": "2022-12-01T08:32:54.302Z"
   },
   {
    "duration": 18,
    "start_time": "2022-12-01T08:32:54.355Z"
   },
   {
    "duration": 25,
    "start_time": "2022-12-01T08:32:54.375Z"
   },
   {
    "duration": 43,
    "start_time": "2022-12-01T08:32:54.402Z"
   },
   {
    "duration": 8,
    "start_time": "2022-12-01T08:32:54.447Z"
   },
   {
    "duration": 72,
    "start_time": "2022-12-01T08:32:54.457Z"
   },
   {
    "duration": 5,
    "start_time": "2022-12-01T08:32:54.531Z"
   },
   {
    "duration": 285,
    "start_time": "2022-12-01T08:32:54.537Z"
   },
   {
    "duration": 18,
    "start_time": "2022-12-01T08:32:54.823Z"
   },
   {
    "duration": 9,
    "start_time": "2022-12-01T08:32:54.843Z"
   },
   {
    "duration": 66,
    "start_time": "2022-12-01T08:32:54.854Z"
   },
   {
    "duration": 17,
    "start_time": "2022-12-01T08:32:54.922Z"
   },
   {
    "duration": 17,
    "start_time": "2022-12-01T08:32:54.941Z"
   },
   {
    "duration": 112,
    "start_time": "2022-12-01T08:32:54.962Z"
   },
   {
    "duration": 133,
    "start_time": "2022-12-01T08:32:55.076Z"
   },
   {
    "duration": 66,
    "start_time": "2022-12-01T08:32:55.212Z"
   },
   {
    "duration": 41,
    "start_time": "2022-12-01T08:32:55.280Z"
   },
   {
    "duration": 8,
    "start_time": "2022-12-01T08:32:55.322Z"
   },
   {
    "duration": 7,
    "start_time": "2022-12-01T08:32:55.332Z"
   },
   {
    "duration": 22,
    "start_time": "2022-12-01T08:32:55.340Z"
   },
   {
    "duration": 62,
    "start_time": "2022-12-01T08:32:55.364Z"
   },
   {
    "duration": 17,
    "start_time": "2022-12-01T08:32:55.428Z"
   },
   {
    "duration": 14,
    "start_time": "2022-12-01T08:32:55.447Z"
   },
   {
    "duration": 174,
    "start_time": "2022-12-01T08:32:55.463Z"
   },
   {
    "duration": 14,
    "start_time": "2022-12-01T08:32:55.638Z"
   },
   {
    "duration": 166,
    "start_time": "2022-12-01T08:32:55.653Z"
   },
   {
    "duration": 138,
    "start_time": "2022-12-01T08:32:55.820Z"
   },
   {
    "duration": 18,
    "start_time": "2022-12-01T08:32:55.960Z"
   },
   {
    "duration": 31,
    "start_time": "2022-12-01T08:32:55.980Z"
   },
   {
    "duration": 33,
    "start_time": "2022-12-01T08:32:56.013Z"
   },
   {
    "duration": 4,
    "start_time": "2022-12-01T08:32:56.048Z"
   },
   {
    "duration": 103,
    "start_time": "2022-12-01T08:32:56.054Z"
   },
   {
    "duration": 3,
    "start_time": "2022-12-01T08:32:56.159Z"
   },
   {
    "duration": 85,
    "start_time": "2022-12-01T08:32:56.164Z"
   },
   {
    "duration": 8,
    "start_time": "2022-12-01T08:32:56.250Z"
   },
   {
    "duration": 12,
    "start_time": "2022-12-01T08:32:56.259Z"
   },
   {
    "duration": 11,
    "start_time": "2022-12-01T08:32:56.272Z"
   },
   {
    "duration": 11,
    "start_time": "2022-12-01T08:32:56.285Z"
   },
   {
    "duration": 1212,
    "start_time": "2022-12-01T08:32:56.298Z"
   },
   {
    "duration": 2917,
    "start_time": "2022-12-01T08:32:57.512Z"
   },
   {
    "duration": 4,
    "start_time": "2022-12-01T08:33:00.430Z"
   },
   {
    "duration": 921,
    "start_time": "2022-12-01T08:33:00.436Z"
   },
   {
    "duration": 1174,
    "start_time": "2022-12-01T08:33:01.360Z"
   },
   {
    "duration": 184,
    "start_time": "2022-12-01T08:33:09.679Z"
   },
   {
    "duration": 154,
    "start_time": "2022-12-01T08:33:16.207Z"
   },
   {
    "duration": 11758,
    "start_time": "2022-12-01T08:33:18.743Z"
   },
   {
    "duration": 94,
    "start_time": "2022-12-01T08:40:27.242Z"
   },
   {
    "duration": 113,
    "start_time": "2022-12-01T08:40:53.348Z"
   },
   {
    "duration": 548,
    "start_time": "2022-12-01T08:41:12.411Z"
   },
   {
    "duration": 12913,
    "start_time": "2022-12-01T08:42:08.290Z"
   },
   {
    "duration": 58,
    "start_time": "2022-12-01T08:42:50.879Z"
   },
   {
    "duration": 1636,
    "start_time": "2022-12-01T08:43:31.361Z"
   },
   {
    "duration": 5,
    "start_time": "2022-12-01T08:43:59.647Z"
   },
   {
    "duration": 92,
    "start_time": "2022-12-01T08:44:10.968Z"
   },
   {
    "duration": 1479,
    "start_time": "2022-12-01T08:44:24.040Z"
   },
   {
    "duration": 5,
    "start_time": "2022-12-01T08:44:31.206Z"
   },
   {
    "duration": 7,
    "start_time": "2022-12-01T11:01:48.364Z"
   },
   {
    "duration": 1890,
    "start_time": "2022-12-01T13:29:41.435Z"
   },
   {
    "duration": 3037,
    "start_time": "2022-12-01T13:29:43.327Z"
   },
   {
    "duration": 142,
    "start_time": "2022-12-01T13:29:46.366Z"
   },
   {
    "duration": 18,
    "start_time": "2022-12-01T13:29:46.510Z"
   },
   {
    "duration": 153,
    "start_time": "2022-12-01T13:29:46.530Z"
   },
   {
    "duration": 506,
    "start_time": "2022-12-01T13:29:46.685Z"
   },
   {
    "duration": 3,
    "start_time": "2022-12-01T13:29:47.193Z"
   },
   {
    "duration": 7,
    "start_time": "2022-12-01T13:29:47.198Z"
   },
   {
    "duration": 326,
    "start_time": "2022-12-01T13:29:47.207Z"
   },
   {
    "duration": 26,
    "start_time": "2022-12-01T13:29:47.536Z"
   },
   {
    "duration": 46,
    "start_time": "2022-12-01T13:29:47.563Z"
   },
   {
    "duration": 42,
    "start_time": "2022-12-01T13:29:47.611Z"
   },
   {
    "duration": 19,
    "start_time": "2022-12-01T13:29:47.655Z"
   },
   {
    "duration": 24,
    "start_time": "2022-12-01T13:29:47.675Z"
   },
   {
    "duration": 13,
    "start_time": "2022-12-01T13:29:47.701Z"
   },
   {
    "duration": 47,
    "start_time": "2022-12-01T13:29:47.716Z"
   },
   {
    "duration": 47,
    "start_time": "2022-12-01T13:29:47.765Z"
   },
   {
    "duration": 44,
    "start_time": "2022-12-01T13:29:47.814Z"
   },
   {
    "duration": 12,
    "start_time": "2022-12-01T13:29:47.861Z"
   },
   {
    "duration": 33,
    "start_time": "2022-12-01T13:29:47.875Z"
   },
   {
    "duration": 64,
    "start_time": "2022-12-01T13:29:47.910Z"
   },
   {
    "duration": 21,
    "start_time": "2022-12-01T13:29:47.976Z"
   },
   {
    "duration": 23,
    "start_time": "2022-12-01T13:29:47.999Z"
   },
   {
    "duration": 68,
    "start_time": "2022-12-01T13:29:48.024Z"
   },
   {
    "duration": 21,
    "start_time": "2022-12-01T13:29:48.094Z"
   },
   {
    "duration": 37,
    "start_time": "2022-12-01T13:29:48.117Z"
   },
   {
    "duration": 16,
    "start_time": "2022-12-01T13:29:48.156Z"
   },
   {
    "duration": 496,
    "start_time": "2022-12-01T13:29:48.178Z"
   },
   {
    "duration": 565,
    "start_time": "2022-12-01T13:29:48.676Z"
   },
   {
    "duration": 28,
    "start_time": "2022-12-01T13:29:49.243Z"
   },
   {
    "duration": 345,
    "start_time": "2022-12-01T13:29:49.273Z"
   },
   {
    "duration": 41,
    "start_time": "2022-12-01T13:29:49.621Z"
   },
   {
    "duration": 203,
    "start_time": "2022-12-01T13:29:49.665Z"
   },
   {
    "duration": 510,
    "start_time": "2022-12-01T13:29:49.870Z"
   },
   {
    "duration": 11,
    "start_time": "2022-12-01T13:29:50.382Z"
   },
   {
    "duration": 69,
    "start_time": "2022-12-01T13:29:50.395Z"
   },
   {
    "duration": 193,
    "start_time": "2022-12-01T13:29:50.466Z"
   },
   {
    "duration": 12,
    "start_time": "2022-12-01T13:29:50.661Z"
   },
   {
    "duration": 58,
    "start_time": "2022-12-01T13:29:50.674Z"
   },
   {
    "duration": 32,
    "start_time": "2022-12-01T13:29:50.734Z"
   },
   {
    "duration": 9,
    "start_time": "2022-12-01T13:29:50.768Z"
   },
   {
    "duration": 52,
    "start_time": "2022-12-01T13:29:50.778Z"
   },
   {
    "duration": 20,
    "start_time": "2022-12-01T13:29:50.832Z"
   },
   {
    "duration": 45,
    "start_time": "2022-12-01T13:29:50.854Z"
   },
   {
    "duration": 5,
    "start_time": "2022-12-01T13:29:50.901Z"
   },
   {
    "duration": 299,
    "start_time": "2022-12-01T13:29:50.907Z"
   },
   {
    "duration": 18,
    "start_time": "2022-12-01T13:29:51.208Z"
   },
   {
    "duration": 25,
    "start_time": "2022-12-01T13:29:51.228Z"
   },
   {
    "duration": 42,
    "start_time": "2022-12-01T13:29:51.255Z"
   },
   {
    "duration": 16,
    "start_time": "2022-12-01T13:29:51.299Z"
   },
   {
    "duration": 39,
    "start_time": "2022-12-01T13:29:51.318Z"
   },
   {
    "duration": 124,
    "start_time": "2022-12-01T13:29:51.359Z"
   },
   {
    "duration": 133,
    "start_time": "2022-12-01T13:29:51.485Z"
   },
   {
    "duration": 79,
    "start_time": "2022-12-01T13:29:51.620Z"
   },
   {
    "duration": 34,
    "start_time": "2022-12-01T13:29:51.701Z"
   },
   {
    "duration": 20,
    "start_time": "2022-12-01T13:29:51.737Z"
   },
   {
    "duration": 5,
    "start_time": "2022-12-01T13:29:51.759Z"
   },
   {
    "duration": 24,
    "start_time": "2022-12-01T13:29:51.766Z"
   },
   {
    "duration": 62,
    "start_time": "2022-12-01T13:29:51.793Z"
   },
   {
    "duration": 18,
    "start_time": "2022-12-01T13:29:51.857Z"
   },
   {
    "duration": 17,
    "start_time": "2022-12-01T13:29:51.877Z"
   },
   {
    "duration": 199,
    "start_time": "2022-12-01T13:29:51.896Z"
   },
   {
    "duration": 14,
    "start_time": "2022-12-01T13:29:52.097Z"
   },
   {
    "duration": 185,
    "start_time": "2022-12-01T13:29:52.112Z"
   },
   {
    "duration": 123,
    "start_time": "2022-12-01T13:29:52.300Z"
   },
   {
    "duration": 6,
    "start_time": "2022-12-01T13:29:52.425Z"
   },
   {
    "duration": 34,
    "start_time": "2022-12-01T13:29:52.432Z"
   },
   {
    "duration": 19,
    "start_time": "2022-12-01T13:29:52.468Z"
   },
   {
    "duration": 4,
    "start_time": "2022-12-01T13:29:52.489Z"
   },
   {
    "duration": 92,
    "start_time": "2022-12-01T13:29:52.495Z"
   },
   {
    "duration": 4,
    "start_time": "2022-12-01T13:29:52.589Z"
   },
   {
    "duration": 86,
    "start_time": "2022-12-01T13:29:52.594Z"
   },
   {
    "duration": 8,
    "start_time": "2022-12-01T13:29:52.682Z"
   },
   {
    "duration": 11,
    "start_time": "2022-12-01T13:29:52.691Z"
   },
   {
    "duration": 19,
    "start_time": "2022-12-01T13:29:52.704Z"
   },
   {
    "duration": 9,
    "start_time": "2022-12-01T13:29:52.725Z"
   },
   {
    "duration": 1522,
    "start_time": "2022-12-01T13:29:52.736Z"
   },
   {
    "duration": 4135,
    "start_time": "2022-12-01T13:29:54.260Z"
   },
   {
    "duration": 4,
    "start_time": "2022-12-01T13:29:58.397Z"
   },
   {
    "duration": 1779,
    "start_time": "2022-12-01T13:29:58.402Z"
   },
   {
    "duration": 1356,
    "start_time": "2022-12-01T13:30:00.184Z"
   },
   {
    "duration": 168,
    "start_time": "2022-12-01T13:30:07.843Z"
   },
   {
    "duration": 131779,
    "start_time": "2022-12-01T13:30:26.963Z"
   },
   {
    "duration": 61788,
    "start_time": "2022-12-01T13:33:18.875Z"
   },
   {
    "duration": 4,
    "start_time": "2022-12-01T13:38:32.045Z"
   },
   {
    "duration": 1719,
    "start_time": "2022-12-01T18:11:19.130Z"
   },
   {
    "duration": 2296,
    "start_time": "2022-12-01T18:11:20.851Z"
   },
   {
    "duration": 0,
    "start_time": "2022-12-01T18:11:23.151Z"
   },
   {
    "duration": 0,
    "start_time": "2022-12-01T18:11:23.152Z"
   },
   {
    "duration": 0,
    "start_time": "2022-12-01T18:11:23.154Z"
   },
   {
    "duration": 0,
    "start_time": "2022-12-01T18:11:23.156Z"
   },
   {
    "duration": 0,
    "start_time": "2022-12-01T18:11:23.157Z"
   },
   {
    "duration": 0,
    "start_time": "2022-12-01T18:11:23.159Z"
   },
   {
    "duration": 0,
    "start_time": "2022-12-01T18:11:23.161Z"
   },
   {
    "duration": 0,
    "start_time": "2022-12-01T18:11:23.162Z"
   },
   {
    "duration": 0,
    "start_time": "2022-12-01T18:11:23.164Z"
   },
   {
    "duration": 0,
    "start_time": "2022-12-01T18:11:23.166Z"
   },
   {
    "duration": 0,
    "start_time": "2022-12-01T18:11:23.167Z"
   },
   {
    "duration": 0,
    "start_time": "2022-12-01T18:11:23.168Z"
   },
   {
    "duration": 0,
    "start_time": "2022-12-01T18:11:23.170Z"
   },
   {
    "duration": 0,
    "start_time": "2022-12-01T18:11:23.171Z"
   },
   {
    "duration": 0,
    "start_time": "2022-12-01T18:11:23.173Z"
   },
   {
    "duration": 0,
    "start_time": "2022-12-01T18:11:23.174Z"
   },
   {
    "duration": 0,
    "start_time": "2022-12-01T18:11:23.175Z"
   },
   {
    "duration": 0,
    "start_time": "2022-12-01T18:11:23.177Z"
   },
   {
    "duration": 0,
    "start_time": "2022-12-01T18:11:23.179Z"
   },
   {
    "duration": 0,
    "start_time": "2022-12-01T18:11:23.180Z"
   },
   {
    "duration": 0,
    "start_time": "2022-12-01T18:11:23.182Z"
   },
   {
    "duration": 0,
    "start_time": "2022-12-01T18:11:23.184Z"
   },
   {
    "duration": 0,
    "start_time": "2022-12-01T18:11:23.186Z"
   },
   {
    "duration": 0,
    "start_time": "2022-12-01T18:11:23.212Z"
   },
   {
    "duration": 0,
    "start_time": "2022-12-01T18:11:23.213Z"
   },
   {
    "duration": 0,
    "start_time": "2022-12-01T18:11:23.215Z"
   },
   {
    "duration": 0,
    "start_time": "2022-12-01T18:11:23.217Z"
   },
   {
    "duration": 0,
    "start_time": "2022-12-01T18:11:23.218Z"
   },
   {
    "duration": 0,
    "start_time": "2022-12-01T18:11:23.219Z"
   },
   {
    "duration": 0,
    "start_time": "2022-12-01T18:11:23.221Z"
   },
   {
    "duration": 0,
    "start_time": "2022-12-01T18:11:23.223Z"
   },
   {
    "duration": 0,
    "start_time": "2022-12-01T18:11:23.224Z"
   },
   {
    "duration": 0,
    "start_time": "2022-12-01T18:11:23.226Z"
   },
   {
    "duration": 0,
    "start_time": "2022-12-01T18:11:23.227Z"
   },
   {
    "duration": 0,
    "start_time": "2022-12-01T18:11:23.229Z"
   },
   {
    "duration": 0,
    "start_time": "2022-12-01T18:11:23.230Z"
   },
   {
    "duration": 0,
    "start_time": "2022-12-01T18:11:23.232Z"
   },
   {
    "duration": 0,
    "start_time": "2022-12-01T18:11:23.233Z"
   },
   {
    "duration": 0,
    "start_time": "2022-12-01T18:11:23.234Z"
   },
   {
    "duration": 1,
    "start_time": "2022-12-01T18:11:23.235Z"
   },
   {
    "duration": 0,
    "start_time": "2022-12-01T18:11:23.237Z"
   },
   {
    "duration": 0,
    "start_time": "2022-12-01T18:11:23.238Z"
   },
   {
    "duration": 0,
    "start_time": "2022-12-01T18:11:23.239Z"
   },
   {
    "duration": 0,
    "start_time": "2022-12-01T18:11:23.241Z"
   },
   {
    "duration": 0,
    "start_time": "2022-12-01T18:11:23.242Z"
   },
   {
    "duration": 0,
    "start_time": "2022-12-01T18:11:23.243Z"
   },
   {
    "duration": 0,
    "start_time": "2022-12-01T18:11:23.245Z"
   },
   {
    "duration": 0,
    "start_time": "2022-12-01T18:11:23.246Z"
   },
   {
    "duration": 0,
    "start_time": "2022-12-01T18:11:23.247Z"
   },
   {
    "duration": 0,
    "start_time": "2022-12-01T18:11:23.249Z"
   },
   {
    "duration": 0,
    "start_time": "2022-12-01T18:11:23.250Z"
   },
   {
    "duration": 0,
    "start_time": "2022-12-01T18:11:23.313Z"
   },
   {
    "duration": 0,
    "start_time": "2022-12-01T18:11:23.314Z"
   },
   {
    "duration": 0,
    "start_time": "2022-12-01T18:11:23.315Z"
   },
   {
    "duration": 0,
    "start_time": "2022-12-01T18:11:23.317Z"
   },
   {
    "duration": 0,
    "start_time": "2022-12-01T18:11:23.318Z"
   },
   {
    "duration": 0,
    "start_time": "2022-12-01T18:11:23.320Z"
   },
   {
    "duration": 0,
    "start_time": "2022-12-01T18:11:23.321Z"
   },
   {
    "duration": 0,
    "start_time": "2022-12-01T18:11:23.322Z"
   },
   {
    "duration": 0,
    "start_time": "2022-12-01T18:11:23.323Z"
   },
   {
    "duration": 0,
    "start_time": "2022-12-01T18:11:23.324Z"
   },
   {
    "duration": 0,
    "start_time": "2022-12-01T18:11:23.326Z"
   },
   {
    "duration": 0,
    "start_time": "2022-12-01T18:11:23.327Z"
   },
   {
    "duration": 0,
    "start_time": "2022-12-01T18:11:23.329Z"
   },
   {
    "duration": 0,
    "start_time": "2022-12-01T18:11:23.330Z"
   },
   {
    "duration": 0,
    "start_time": "2022-12-01T18:11:23.331Z"
   },
   {
    "duration": 0,
    "start_time": "2022-12-01T18:11:23.332Z"
   },
   {
    "duration": 0,
    "start_time": "2022-12-01T18:11:23.333Z"
   },
   {
    "duration": 0,
    "start_time": "2022-12-01T18:11:23.335Z"
   },
   {
    "duration": 0,
    "start_time": "2022-12-01T18:11:23.336Z"
   },
   {
    "duration": 0,
    "start_time": "2022-12-01T18:11:23.337Z"
   },
   {
    "duration": 0,
    "start_time": "2022-12-01T18:11:23.338Z"
   },
   {
    "duration": 0,
    "start_time": "2022-12-01T18:11:23.339Z"
   },
   {
    "duration": 0,
    "start_time": "2022-12-01T18:11:23.340Z"
   },
   {
    "duration": 0,
    "start_time": "2022-12-01T18:11:23.342Z"
   },
   {
    "duration": 0,
    "start_time": "2022-12-01T18:11:23.343Z"
   },
   {
    "duration": 0,
    "start_time": "2022-12-01T18:11:23.344Z"
   },
   {
    "duration": 0,
    "start_time": "2022-12-01T18:11:23.346Z"
   },
   {
    "duration": 0,
    "start_time": "2022-12-01T18:11:23.412Z"
   },
   {
    "duration": 0,
    "start_time": "2022-12-01T18:11:23.414Z"
   },
   {
    "duration": 0,
    "start_time": "2022-12-01T18:11:23.415Z"
   },
   {
    "duration": 0,
    "start_time": "2022-12-01T18:11:23.416Z"
   },
   {
    "duration": 0,
    "start_time": "2022-12-01T18:11:23.418Z"
   },
   {
    "duration": 0,
    "start_time": "2022-12-01T18:11:23.419Z"
   },
   {
    "duration": 0,
    "start_time": "2022-12-01T18:11:23.420Z"
   },
   {
    "duration": 0,
    "start_time": "2022-12-01T18:11:23.421Z"
   },
   {
    "duration": 0,
    "start_time": "2022-12-01T18:11:23.422Z"
   },
   {
    "duration": 6,
    "start_time": "2022-12-01T18:11:31.018Z"
   },
   {
    "duration": 961,
    "start_time": "2022-12-01T18:11:31.062Z"
   },
   {
    "duration": 117,
    "start_time": "2022-12-01T18:11:32.026Z"
   },
   {
    "duration": 26,
    "start_time": "2022-12-01T18:11:32.144Z"
   },
   {
    "duration": 148,
    "start_time": "2022-12-01T18:11:32.172Z"
   },
   {
    "duration": 463,
    "start_time": "2022-12-01T18:11:32.324Z"
   },
   {
    "duration": 4,
    "start_time": "2022-12-01T18:11:32.789Z"
   },
   {
    "duration": 7,
    "start_time": "2022-12-01T18:11:32.795Z"
   },
   {
    "duration": 307,
    "start_time": "2022-12-01T18:11:32.813Z"
   },
   {
    "duration": 18,
    "start_time": "2022-12-01T18:11:33.122Z"
   },
   {
    "duration": 43,
    "start_time": "2022-12-01T18:11:33.141Z"
   },
   {
    "duration": 40,
    "start_time": "2022-12-01T18:11:33.186Z"
   },
   {
    "duration": 18,
    "start_time": "2022-12-01T18:11:33.228Z"
   },
   {
    "duration": 31,
    "start_time": "2022-12-01T18:11:33.248Z"
   },
   {
    "duration": 40,
    "start_time": "2022-12-01T18:11:33.283Z"
   },
   {
    "duration": 28,
    "start_time": "2022-12-01T18:11:33.326Z"
   },
   {
    "duration": 40,
    "start_time": "2022-12-01T18:11:33.356Z"
   },
   {
    "duration": 20,
    "start_time": "2022-12-01T18:11:33.413Z"
   },
   {
    "duration": 12,
    "start_time": "2022-12-01T18:11:33.435Z"
   },
   {
    "duration": 18,
    "start_time": "2022-12-01T18:11:33.449Z"
   },
   {
    "duration": 66,
    "start_time": "2022-12-01T18:11:33.469Z"
   },
   {
    "duration": 19,
    "start_time": "2022-12-01T18:11:33.537Z"
   },
   {
    "duration": 17,
    "start_time": "2022-12-01T18:11:33.558Z"
   },
   {
    "duration": 89,
    "start_time": "2022-12-01T18:11:33.577Z"
   },
   {
    "duration": 18,
    "start_time": "2022-12-01T18:11:33.668Z"
   },
   {
    "duration": 27,
    "start_time": "2022-12-01T18:11:33.688Z"
   },
   {
    "duration": 14,
    "start_time": "2022-12-01T18:11:33.717Z"
   },
   {
    "duration": 451,
    "start_time": "2022-12-01T18:11:33.733Z"
   },
   {
    "duration": 495,
    "start_time": "2022-12-01T18:11:34.186Z"
   },
   {
    "duration": 18,
    "start_time": "2022-12-01T18:11:34.683Z"
   },
   {
    "duration": 292,
    "start_time": "2022-12-01T18:11:34.703Z"
   },
   {
    "duration": 40,
    "start_time": "2022-12-01T18:11:34.997Z"
   },
   {
    "duration": 170,
    "start_time": "2022-12-01T18:11:35.039Z"
   },
   {
    "duration": 463,
    "start_time": "2022-12-01T18:11:35.211Z"
   },
   {
    "duration": 14,
    "start_time": "2022-12-01T18:11:35.676Z"
   },
   {
    "duration": 66,
    "start_time": "2022-12-01T18:11:35.692Z"
   },
   {
    "duration": 181,
    "start_time": "2022-12-01T18:11:35.761Z"
   },
   {
    "duration": 11,
    "start_time": "2022-12-01T18:11:35.944Z"
   },
   {
    "duration": 68,
    "start_time": "2022-12-01T18:11:35.957Z"
   },
   {
    "duration": 19,
    "start_time": "2022-12-01T18:11:36.027Z"
   },
   {
    "duration": 11,
    "start_time": "2022-12-01T18:11:36.048Z"
   },
   {
    "duration": 69,
    "start_time": "2022-12-01T18:11:36.064Z"
   },
   {
    "duration": 9,
    "start_time": "2022-12-01T18:11:36.136Z"
   },
   {
    "duration": 45,
    "start_time": "2022-12-01T18:11:36.147Z"
   },
   {
    "duration": 24,
    "start_time": "2022-12-01T18:11:36.194Z"
   },
   {
    "duration": 343,
    "start_time": "2022-12-01T18:11:36.220Z"
   },
   {
    "duration": 21,
    "start_time": "2022-12-01T18:11:36.566Z"
   },
   {
    "duration": 30,
    "start_time": "2022-12-01T18:11:36.589Z"
   },
   {
    "duration": 51,
    "start_time": "2022-12-01T18:11:36.621Z"
   },
   {
    "duration": 40,
    "start_time": "2022-12-01T18:11:36.675Z"
   },
   {
    "duration": 19,
    "start_time": "2022-12-01T18:11:36.718Z"
   },
   {
    "duration": 101,
    "start_time": "2022-12-01T18:11:36.739Z"
   },
   {
    "duration": 131,
    "start_time": "2022-12-01T18:11:36.842Z"
   },
   {
    "duration": 76,
    "start_time": "2022-12-01T18:11:36.975Z"
   },
   {
    "duration": 35,
    "start_time": "2022-12-01T18:11:37.053Z"
   },
   {
    "duration": 8,
    "start_time": "2022-12-01T18:11:37.090Z"
   },
   {
    "duration": 5,
    "start_time": "2022-12-01T18:11:37.113Z"
   },
   {
    "duration": 24,
    "start_time": "2022-12-01T18:11:37.120Z"
   },
   {
    "duration": 66,
    "start_time": "2022-12-01T18:11:37.146Z"
   },
   {
    "duration": 18,
    "start_time": "2022-12-01T18:11:37.214Z"
   },
   {
    "duration": 16,
    "start_time": "2022-12-01T18:11:37.234Z"
   },
   {
    "duration": 190,
    "start_time": "2022-12-01T18:11:37.251Z"
   },
   {
    "duration": 18,
    "start_time": "2022-12-01T18:11:37.443Z"
   },
   {
    "duration": 200,
    "start_time": "2022-12-01T18:11:37.464Z"
   },
   {
    "duration": 121,
    "start_time": "2022-12-01T18:11:37.666Z"
   },
   {
    "duration": 6,
    "start_time": "2022-12-01T18:11:37.788Z"
   },
   {
    "duration": 33,
    "start_time": "2022-12-01T18:11:37.796Z"
   },
   {
    "duration": 22,
    "start_time": "2022-12-01T18:11:37.832Z"
   },
   {
    "duration": 12,
    "start_time": "2022-12-01T18:11:37.856Z"
   },
   {
    "duration": 102,
    "start_time": "2022-12-01T18:11:37.869Z"
   },
   {
    "duration": 6,
    "start_time": "2022-12-01T18:11:37.973Z"
   },
   {
    "duration": 105,
    "start_time": "2022-12-01T18:11:37.981Z"
   },
   {
    "duration": 7,
    "start_time": "2022-12-01T18:11:38.088Z"
   },
   {
    "duration": 17,
    "start_time": "2022-12-01T18:11:38.097Z"
   },
   {
    "duration": 8,
    "start_time": "2022-12-01T18:11:38.116Z"
   },
   {
    "duration": 6,
    "start_time": "2022-12-01T18:11:38.126Z"
   },
   {
    "duration": 1241,
    "start_time": "2022-12-01T18:11:38.133Z"
   },
   {
    "duration": 2483,
    "start_time": "2022-12-01T18:11:39.376Z"
   },
   {
    "duration": 5,
    "start_time": "2022-12-01T18:11:41.861Z"
   },
   {
    "duration": 839,
    "start_time": "2022-12-01T18:11:41.868Z"
   },
   {
    "duration": 1205,
    "start_time": "2022-12-01T18:11:44.269Z"
   },
   {
    "duration": 167,
    "start_time": "2022-12-01T18:11:51.500Z"
   },
   {
    "duration": 1768,
    "start_time": "2022-12-01T18:29:34.205Z"
   },
   {
    "duration": 970,
    "start_time": "2022-12-01T18:29:35.975Z"
   },
   {
    "duration": 128,
    "start_time": "2022-12-01T18:29:36.946Z"
   },
   {
    "duration": 18,
    "start_time": "2022-12-01T18:29:37.076Z"
   },
   {
    "duration": 193,
    "start_time": "2022-12-01T18:29:37.114Z"
   },
   {
    "duration": 526,
    "start_time": "2022-12-01T18:29:37.312Z"
   },
   {
    "duration": 4,
    "start_time": "2022-12-01T18:29:37.840Z"
   },
   {
    "duration": 11,
    "start_time": "2022-12-01T18:29:37.846Z"
   },
   {
    "duration": 348,
    "start_time": "2022-12-01T18:29:37.860Z"
   },
   {
    "duration": 34,
    "start_time": "2022-12-01T18:29:38.213Z"
   },
   {
    "duration": 70,
    "start_time": "2022-12-01T18:29:38.249Z"
   },
   {
    "duration": 33,
    "start_time": "2022-12-01T18:29:38.322Z"
   },
   {
    "duration": 25,
    "start_time": "2022-12-01T18:29:38.357Z"
   },
   {
    "duration": 54,
    "start_time": "2022-12-01T18:29:38.387Z"
   },
   {
    "duration": 20,
    "start_time": "2022-12-01T18:29:38.444Z"
   },
   {
    "duration": 46,
    "start_time": "2022-12-01T18:29:38.467Z"
   },
   {
    "duration": 64,
    "start_time": "2022-12-01T18:29:38.515Z"
   },
   {
    "duration": 40,
    "start_time": "2022-12-01T18:29:38.582Z"
   },
   {
    "duration": 16,
    "start_time": "2022-12-01T18:29:38.625Z"
   },
   {
    "duration": 32,
    "start_time": "2022-12-01T18:29:38.643Z"
   },
   {
    "duration": 93,
    "start_time": "2022-12-01T18:29:38.678Z"
   },
   {
    "duration": 22,
    "start_time": "2022-12-01T18:29:38.772Z"
   },
   {
    "duration": 54,
    "start_time": "2022-12-01T18:29:38.795Z"
   },
   {
    "duration": 88,
    "start_time": "2022-12-01T18:29:38.851Z"
   },
   {
    "duration": 23,
    "start_time": "2022-12-01T18:29:38.941Z"
   },
   {
    "duration": 33,
    "start_time": "2022-12-01T18:29:38.966Z"
   },
   {
    "duration": 32,
    "start_time": "2022-12-01T18:29:39.002Z"
   },
   {
    "duration": 621,
    "start_time": "2022-12-01T18:29:39.036Z"
   },
   {
    "duration": 557,
    "start_time": "2022-12-01T18:29:39.658Z"
   },
   {
    "duration": 41,
    "start_time": "2022-12-01T18:29:40.217Z"
   },
   {
    "duration": 303,
    "start_time": "2022-12-01T18:29:40.260Z"
   },
   {
    "duration": 29,
    "start_time": "2022-12-01T18:29:40.565Z"
   },
   {
    "duration": 180,
    "start_time": "2022-12-01T18:29:40.596Z"
   },
   {
    "duration": 482,
    "start_time": "2022-12-01T18:29:40.779Z"
   },
   {
    "duration": 11,
    "start_time": "2022-12-01T18:29:41.263Z"
   },
   {
    "duration": 76,
    "start_time": "2022-12-01T18:29:41.276Z"
   },
   {
    "duration": 190,
    "start_time": "2022-12-01T18:29:41.354Z"
   },
   {
    "duration": 12,
    "start_time": "2022-12-01T18:29:41.547Z"
   },
   {
    "duration": 74,
    "start_time": "2022-12-01T18:29:41.561Z"
   },
   {
    "duration": 20,
    "start_time": "2022-12-01T18:29:41.637Z"
   },
   {
    "duration": 10,
    "start_time": "2022-12-01T18:29:41.663Z"
   },
   {
    "duration": 71,
    "start_time": "2022-12-01T18:29:41.675Z"
   },
   {
    "duration": 9,
    "start_time": "2022-12-01T18:29:41.748Z"
   },
   {
    "duration": 61,
    "start_time": "2022-12-01T18:29:41.759Z"
   },
   {
    "duration": 6,
    "start_time": "2022-12-01T18:29:41.821Z"
   },
   {
    "duration": 294,
    "start_time": "2022-12-01T18:29:41.828Z"
   },
   {
    "duration": 17,
    "start_time": "2022-12-01T18:29:42.124Z"
   },
   {
    "duration": 12,
    "start_time": "2022-12-01T18:29:42.144Z"
   },
   {
    "duration": 89,
    "start_time": "2022-12-01T18:29:42.158Z"
   },
   {
    "duration": 16,
    "start_time": "2022-12-01T18:29:42.249Z"
   },
   {
    "duration": 16,
    "start_time": "2022-12-01T18:29:42.267Z"
   },
   {
    "duration": 114,
    "start_time": "2022-12-01T18:29:42.284Z"
   },
   {
    "duration": 130,
    "start_time": "2022-12-01T18:29:42.411Z"
   },
   {
    "duration": 75,
    "start_time": "2022-12-01T18:29:42.543Z"
   },
   {
    "duration": 34,
    "start_time": "2022-12-01T18:29:42.620Z"
   },
   {
    "duration": 9,
    "start_time": "2022-12-01T18:29:42.656Z"
   },
   {
    "duration": 5,
    "start_time": "2022-12-01T18:29:42.668Z"
   },
   {
    "duration": 51,
    "start_time": "2022-12-01T18:29:42.674Z"
   },
   {
    "duration": 38,
    "start_time": "2022-12-01T18:29:42.727Z"
   },
   {
    "duration": 18,
    "start_time": "2022-12-01T18:29:42.767Z"
   },
   {
    "duration": 21,
    "start_time": "2022-12-01T18:29:42.813Z"
   },
   {
    "duration": 186,
    "start_time": "2022-12-01T18:29:42.836Z"
   },
   {
    "duration": 14,
    "start_time": "2022-12-01T18:29:43.024Z"
   },
   {
    "duration": 195,
    "start_time": "2022-12-01T18:29:43.040Z"
   },
   {
    "duration": 120,
    "start_time": "2022-12-01T18:29:43.236Z"
   },
   {
    "duration": 7,
    "start_time": "2022-12-01T18:29:43.358Z"
   },
   {
    "duration": 46,
    "start_time": "2022-12-01T18:29:43.366Z"
   },
   {
    "duration": 26,
    "start_time": "2022-12-01T18:29:43.414Z"
   },
   {
    "duration": 5,
    "start_time": "2022-12-01T18:29:43.442Z"
   },
   {
    "duration": 96,
    "start_time": "2022-12-01T18:29:43.449Z"
   },
   {
    "duration": 3,
    "start_time": "2022-12-01T18:29:43.547Z"
   },
   {
    "duration": 98,
    "start_time": "2022-12-01T18:29:43.553Z"
   },
   {
    "duration": 9,
    "start_time": "2022-12-01T18:29:43.652Z"
   },
   {
    "duration": 6,
    "start_time": "2022-12-01T18:29:43.663Z"
   },
   {
    "duration": 7,
    "start_time": "2022-12-01T18:29:43.671Z"
   },
   {
    "duration": 11,
    "start_time": "2022-12-01T18:29:43.680Z"
   },
   {
    "duration": 1248,
    "start_time": "2022-12-01T18:29:43.693Z"
   },
   {
    "duration": 2639,
    "start_time": "2022-12-01T18:29:44.942Z"
   },
   {
    "duration": 5,
    "start_time": "2022-12-01T18:29:47.584Z"
   },
   {
    "duration": 844,
    "start_time": "2022-12-01T18:29:47.591Z"
   },
   {
    "duration": 1225,
    "start_time": "2022-12-01T18:29:48.437Z"
   },
   {
    "duration": 180,
    "start_time": "2022-12-01T18:29:55.178Z"
   },
   {
    "duration": 705656,
    "start_time": "2022-12-01T18:30:16.271Z"
   },
   {
    "duration": 69272,
    "start_time": "2022-12-01T18:56:30.048Z"
   },
   {
    "duration": 74980,
    "start_time": "2022-12-01T19:04:36.648Z"
   },
   {
    "duration": 1635,
    "start_time": "2022-12-03T08:23:58.182Z"
   },
   {
    "duration": 5,
    "start_time": "2022-12-03T08:24:10.808Z"
   },
   {
    "duration": 3245,
    "start_time": "2022-12-03T08:24:10.816Z"
   },
   {
    "duration": 170,
    "start_time": "2022-12-03T08:24:14.062Z"
   },
   {
    "duration": 28,
    "start_time": "2022-12-03T08:24:14.234Z"
   },
   {
    "duration": 105,
    "start_time": "2022-12-03T08:24:14.264Z"
   },
   {
    "duration": 450,
    "start_time": "2022-12-03T08:24:14.371Z"
   },
   {
    "duration": 4,
    "start_time": "2022-12-03T08:24:14.823Z"
   },
   {
    "duration": 8,
    "start_time": "2022-12-03T08:24:14.828Z"
   },
   {
    "duration": 302,
    "start_time": "2022-12-03T08:24:14.850Z"
   },
   {
    "duration": 17,
    "start_time": "2022-12-03T08:24:15.154Z"
   },
   {
    "duration": 55,
    "start_time": "2022-12-03T08:24:15.173Z"
   },
   {
    "duration": 32,
    "start_time": "2022-12-03T08:24:15.230Z"
   },
   {
    "duration": 18,
    "start_time": "2022-12-03T08:24:15.264Z"
   },
   {
    "duration": 30,
    "start_time": "2022-12-03T08:24:15.283Z"
   },
   {
    "duration": 21,
    "start_time": "2022-12-03T08:24:15.315Z"
   },
   {
    "duration": 25,
    "start_time": "2022-12-03T08:24:15.338Z"
   },
   {
    "duration": 47,
    "start_time": "2022-12-03T08:24:15.365Z"
   },
   {
    "duration": 20,
    "start_time": "2022-12-03T08:24:15.414Z"
   },
   {
    "duration": 22,
    "start_time": "2022-12-03T08:24:15.436Z"
   },
   {
    "duration": 24,
    "start_time": "2022-12-03T08:24:15.459Z"
   },
   {
    "duration": 42,
    "start_time": "2022-12-03T08:24:15.485Z"
   },
   {
    "duration": 36,
    "start_time": "2022-12-03T08:24:15.529Z"
   },
   {
    "duration": 18,
    "start_time": "2022-12-03T08:24:15.567Z"
   },
   {
    "duration": 66,
    "start_time": "2022-12-03T08:24:15.590Z"
   },
   {
    "duration": 20,
    "start_time": "2022-12-03T08:24:15.657Z"
   },
   {
    "duration": 12,
    "start_time": "2022-12-03T08:24:15.679Z"
   },
   {
    "duration": 13,
    "start_time": "2022-12-03T08:24:15.692Z"
   },
   {
    "duration": 463,
    "start_time": "2022-12-03T08:24:15.707Z"
   },
   {
    "duration": 491,
    "start_time": "2022-12-03T08:24:16.172Z"
   },
   {
    "duration": 22,
    "start_time": "2022-12-03T08:24:16.665Z"
   },
   {
    "duration": 286,
    "start_time": "2022-12-03T08:24:16.688Z"
   },
   {
    "duration": 27,
    "start_time": "2022-12-03T08:24:16.976Z"
   },
   {
    "duration": 171,
    "start_time": "2022-12-03T08:24:17.005Z"
   },
   {
    "duration": 469,
    "start_time": "2022-12-03T08:24:17.178Z"
   },
   {
    "duration": 11,
    "start_time": "2022-12-03T08:24:17.649Z"
   },
   {
    "duration": 48,
    "start_time": "2022-12-03T08:24:17.662Z"
   },
   {
    "duration": 189,
    "start_time": "2022-12-03T08:24:17.712Z"
   },
   {
    "duration": 12,
    "start_time": "2022-12-03T08:24:17.903Z"
   },
   {
    "duration": 62,
    "start_time": "2022-12-03T08:24:17.917Z"
   },
   {
    "duration": 19,
    "start_time": "2022-12-03T08:24:17.982Z"
   },
   {
    "duration": 8,
    "start_time": "2022-12-03T08:24:18.003Z"
   },
   {
    "duration": 54,
    "start_time": "2022-12-03T08:24:18.013Z"
   },
   {
    "duration": 8,
    "start_time": "2022-12-03T08:24:18.070Z"
   },
   {
    "duration": 39,
    "start_time": "2022-12-03T08:24:18.079Z"
   },
   {
    "duration": 5,
    "start_time": "2022-12-03T08:24:18.120Z"
   },
   {
    "duration": 285,
    "start_time": "2022-12-03T08:24:18.126Z"
   },
   {
    "duration": 17,
    "start_time": "2022-12-03T08:24:18.413Z"
   },
   {
    "duration": 24,
    "start_time": "2022-12-03T08:24:18.431Z"
   },
   {
    "duration": 38,
    "start_time": "2022-12-03T08:24:18.457Z"
   },
   {
    "duration": 16,
    "start_time": "2022-12-03T08:24:18.496Z"
   },
   {
    "duration": 14,
    "start_time": "2022-12-03T08:24:18.513Z"
   },
   {
    "duration": 87,
    "start_time": "2022-12-03T08:24:18.550Z"
   },
   {
    "duration": 119,
    "start_time": "2022-12-03T08:24:18.638Z"
   },
   {
    "duration": 63,
    "start_time": "2022-12-03T08:24:18.759Z"
   },
   {
    "duration": 47,
    "start_time": "2022-12-03T08:24:18.824Z"
   },
   {
    "duration": 8,
    "start_time": "2022-12-03T08:24:18.873Z"
   },
   {
    "duration": 6,
    "start_time": "2022-12-03T08:24:18.882Z"
   },
   {
    "duration": 19,
    "start_time": "2022-12-03T08:24:18.890Z"
   },
   {
    "duration": 59,
    "start_time": "2022-12-03T08:24:18.911Z"
   },
   {
    "duration": 19,
    "start_time": "2022-12-03T08:24:18.972Z"
   },
   {
    "duration": 16,
    "start_time": "2022-12-03T08:24:18.993Z"
   },
   {
    "duration": 238,
    "start_time": "2022-12-03T08:24:19.011Z"
   },
   {
    "duration": 15,
    "start_time": "2022-12-03T08:24:19.252Z"
   },
   {
    "duration": 173,
    "start_time": "2022-12-03T08:24:19.269Z"
   },
   {
    "duration": 129,
    "start_time": "2022-12-03T08:24:19.443Z"
   },
   {
    "duration": 8,
    "start_time": "2022-12-03T08:24:19.575Z"
   },
   {
    "duration": 21,
    "start_time": "2022-12-03T08:24:19.585Z"
   },
   {
    "duration": 42,
    "start_time": "2022-12-03T08:24:19.609Z"
   },
   {
    "duration": 4,
    "start_time": "2022-12-03T08:24:19.656Z"
   },
   {
    "duration": 99,
    "start_time": "2022-12-03T08:24:19.661Z"
   },
   {
    "duration": 3,
    "start_time": "2022-12-03T08:24:19.762Z"
   },
   {
    "duration": 85,
    "start_time": "2022-12-03T08:24:19.767Z"
   },
   {
    "duration": 8,
    "start_time": "2022-12-03T08:24:19.854Z"
   },
   {
    "duration": 10,
    "start_time": "2022-12-03T08:24:19.865Z"
   },
   {
    "duration": 9,
    "start_time": "2022-12-03T08:24:19.877Z"
   },
   {
    "duration": 11,
    "start_time": "2022-12-03T08:24:19.888Z"
   },
   {
    "duration": 1270,
    "start_time": "2022-12-03T08:24:19.902Z"
   },
   {
    "duration": 2606,
    "start_time": "2022-12-03T08:24:21.174Z"
   },
   {
    "duration": 3,
    "start_time": "2022-12-03T08:24:23.782Z"
   },
   {
    "duration": 912,
    "start_time": "2022-12-03T08:24:23.787Z"
   },
   {
    "duration": 1200,
    "start_time": "2022-12-03T08:24:24.701Z"
   },
   {
    "duration": 178,
    "start_time": "2022-12-03T08:25:43.563Z"
   },
   {
    "duration": 3,
    "start_time": "2022-12-03T08:25:44.007Z"
   },
   {
    "duration": 190,
    "start_time": "2022-12-03T08:30:07.038Z"
   },
   {
    "duration": 5,
    "start_time": "2022-12-03T08:51:35.152Z"
   },
   {
    "duration": 81,
    "start_time": "2022-12-03T08:51:37.271Z"
   },
   {
    "duration": 92,
    "start_time": "2022-12-03T08:52:01.734Z"
   },
   {
    "duration": 5,
    "start_time": "2022-12-03T08:52:10.003Z"
   },
   {
    "duration": 87,
    "start_time": "2022-12-03T08:52:12.395Z"
   },
   {
    "duration": 5,
    "start_time": "2022-12-03T08:54:34.159Z"
   },
   {
    "duration": 142475,
    "start_time": "2022-12-03T08:54:37.189Z"
   },
   {
    "duration": 11,
    "start_time": "2022-12-03T09:00:15.809Z"
   },
   {
    "duration": 12,
    "start_time": "2022-12-03T09:00:29.422Z"
   },
   {
    "duration": 5,
    "start_time": "2022-12-03T09:00:44.189Z"
   },
   {
    "duration": 3,
    "start_time": "2022-12-03T09:04:03.429Z"
   },
   {
    "duration": 1555821,
    "start_time": "2022-12-03T09:04:10.438Z"
   },
   {
    "duration": 5,
    "start_time": "2022-12-03T09:30:06.260Z"
   },
   {
    "duration": 11,
    "start_time": "2022-12-03T10:10:07.089Z"
   },
   {
    "duration": 34,
    "start_time": "2022-12-03T10:52:01.625Z"
   },
   {
    "duration": 4,
    "start_time": "2022-12-03T10:53:31.107Z"
   },
   {
    "duration": 29,
    "start_time": "2022-12-03T10:53:43.034Z"
   },
   {
    "duration": 3,
    "start_time": "2022-12-03T11:07:51.279Z"
   },
   {
    "duration": 21411,
    "start_time": "2022-12-03T11:07:52.643Z"
   },
   {
    "duration": 1156,
    "start_time": "2022-12-03T11:08:24.113Z"
   },
   {
    "duration": 17,
    "start_time": "2022-12-03T11:08:39.907Z"
   },
   {
    "duration": 3,
    "start_time": "2022-12-03T11:08:49.943Z"
   },
   {
    "duration": 8189,
    "start_time": "2022-12-03T11:08:50.681Z"
   },
   {
    "duration": 1244,
    "start_time": "2022-12-03T11:17:33.516Z"
   },
   {
    "duration": 1271,
    "start_time": "2022-12-03T11:17:40.994Z"
   },
   {
    "duration": 4,
    "start_time": "2022-12-03T11:22:05.387Z"
   },
   {
    "duration": 5,
    "start_time": "2022-12-03T11:22:14.340Z"
   },
   {
    "duration": 5,
    "start_time": "2022-12-03T11:25:53.922Z"
   },
   {
    "duration": 5,
    "start_time": "2022-12-03T11:26:25.385Z"
   },
   {
    "duration": 5,
    "start_time": "2022-12-03T11:27:26.523Z"
   },
   {
    "duration": 5,
    "start_time": "2022-12-03T11:28:19.171Z"
   },
   {
    "duration": 5,
    "start_time": "2022-12-03T11:28:57.333Z"
   },
   {
    "duration": 5,
    "start_time": "2022-12-03T11:29:04.916Z"
   },
   {
    "duration": 5,
    "start_time": "2022-12-03T11:29:13.808Z"
   },
   {
    "duration": 5,
    "start_time": "2022-12-03T11:29:39.607Z"
   },
   {
    "duration": 5,
    "start_time": "2022-12-03T11:31:06.354Z"
   },
   {
    "duration": 7,
    "start_time": "2022-12-03T11:31:43.922Z"
   },
   {
    "duration": 7,
    "start_time": "2022-12-03T11:31:48.136Z"
   },
   {
    "duration": 8,
    "start_time": "2022-12-03T11:31:58.566Z"
   },
   {
    "duration": 7,
    "start_time": "2022-12-03T11:32:15.079Z"
   },
   {
    "duration": 5,
    "start_time": "2022-12-03T11:34:39.360Z"
   },
   {
    "duration": 6,
    "start_time": "2022-12-03T11:34:44.989Z"
   },
   {
    "duration": 137,
    "start_time": "2022-12-03T11:39:17.897Z"
   },
   {
    "duration": 132,
    "start_time": "2022-12-03T11:39:36.936Z"
   },
   {
    "duration": 4,
    "start_time": "2022-12-03T11:39:45.409Z"
   },
   {
    "duration": 104,
    "start_time": "2022-12-03T11:39:46.330Z"
   },
   {
    "duration": 6,
    "start_time": "2022-12-03T11:47:38.268Z"
   },
   {
    "duration": 5,
    "start_time": "2022-12-03T11:47:53.583Z"
   },
   {
    "duration": 840,
    "start_time": "2022-12-03T11:47:53.589Z"
   },
   {
    "duration": 146,
    "start_time": "2022-12-03T11:47:54.431Z"
   },
   {
    "duration": 14,
    "start_time": "2022-12-03T11:47:54.579Z"
   },
   {
    "duration": 116,
    "start_time": "2022-12-03T11:47:54.596Z"
   },
   {
    "duration": 423,
    "start_time": "2022-12-03T11:47:54.714Z"
   },
   {
    "duration": 12,
    "start_time": "2022-12-03T11:47:55.139Z"
   },
   {
    "duration": 5,
    "start_time": "2022-12-03T11:47:55.153Z"
   },
   {
    "duration": 610,
    "start_time": "2022-12-03T11:47:55.160Z"
   },
   {
    "duration": 19,
    "start_time": "2022-12-03T11:47:55.771Z"
   },
   {
    "duration": 97,
    "start_time": "2022-12-03T11:47:55.792Z"
   },
   {
    "duration": 77,
    "start_time": "2022-12-03T11:47:55.891Z"
   },
   {
    "duration": 18,
    "start_time": "2022-12-03T11:47:55.969Z"
   },
   {
    "duration": 73,
    "start_time": "2022-12-03T11:47:55.990Z"
   },
   {
    "duration": 19,
    "start_time": "2022-12-03T11:47:56.064Z"
   },
   {
    "duration": 78,
    "start_time": "2022-12-03T11:47:56.085Z"
   },
   {
    "duration": 97,
    "start_time": "2022-12-03T11:47:56.166Z"
   },
   {
    "duration": 86,
    "start_time": "2022-12-03T11:47:56.265Z"
   },
   {
    "duration": 17,
    "start_time": "2022-12-03T11:47:56.353Z"
   },
   {
    "duration": 83,
    "start_time": "2022-12-03T11:47:56.372Z"
   },
   {
    "duration": 95,
    "start_time": "2022-12-03T11:47:56.457Z"
   },
   {
    "duration": 22,
    "start_time": "2022-12-03T11:47:56.553Z"
   },
   {
    "duration": 76,
    "start_time": "2022-12-03T11:47:56.576Z"
   },
   {
    "duration": 98,
    "start_time": "2022-12-03T11:47:56.654Z"
   },
   {
    "duration": 20,
    "start_time": "2022-12-03T11:47:56.754Z"
   },
   {
    "duration": 14,
    "start_time": "2022-12-03T11:47:56.775Z"
   },
   {
    "duration": 72,
    "start_time": "2022-12-03T11:47:56.791Z"
   },
   {
    "duration": 613,
    "start_time": "2022-12-03T11:47:56.864Z"
   },
   {
    "duration": 445,
    "start_time": "2022-12-03T11:47:57.479Z"
   },
   {
    "duration": 17,
    "start_time": "2022-12-03T11:47:57.925Z"
   },
   {
    "duration": 255,
    "start_time": "2022-12-03T11:47:57.951Z"
   },
   {
    "duration": 28,
    "start_time": "2022-12-03T11:47:58.207Z"
   },
   {
    "duration": 163,
    "start_time": "2022-12-03T11:47:58.237Z"
   },
   {
    "duration": 505,
    "start_time": "2022-12-03T11:47:58.401Z"
   },
   {
    "duration": 12,
    "start_time": "2022-12-03T11:47:58.909Z"
   },
   {
    "duration": 66,
    "start_time": "2022-12-03T11:47:58.924Z"
   },
   {
    "duration": 195,
    "start_time": "2022-12-03T11:47:58.991Z"
   },
   {
    "duration": 13,
    "start_time": "2022-12-03T11:47:59.189Z"
   },
   {
    "duration": 60,
    "start_time": "2022-12-03T11:47:59.204Z"
   },
   {
    "duration": 17,
    "start_time": "2022-12-03T11:47:59.266Z"
   },
   {
    "duration": 9,
    "start_time": "2022-12-03T11:47:59.288Z"
   },
   {
    "duration": 66,
    "start_time": "2022-12-03T11:47:59.299Z"
   },
   {
    "duration": 9,
    "start_time": "2022-12-03T11:47:59.367Z"
   },
   {
    "duration": 38,
    "start_time": "2022-12-03T11:47:59.377Z"
   },
   {
    "duration": 4,
    "start_time": "2022-12-03T11:47:59.417Z"
   },
   {
    "duration": 238,
    "start_time": "2022-12-03T11:47:59.423Z"
   },
   {
    "duration": 22,
    "start_time": "2022-12-03T11:47:59.663Z"
   },
   {
    "duration": 25,
    "start_time": "2022-12-03T11:47:59.691Z"
   },
   {
    "duration": 51,
    "start_time": "2022-12-03T11:47:59.718Z"
   },
   {
    "duration": 19,
    "start_time": "2022-12-03T11:47:59.772Z"
   },
   {
    "duration": 21,
    "start_time": "2022-12-03T11:47:59.793Z"
   },
   {
    "duration": 121,
    "start_time": "2022-12-03T11:47:59.816Z"
   },
   {
    "duration": 121,
    "start_time": "2022-12-03T11:47:59.940Z"
   },
   {
    "duration": 72,
    "start_time": "2022-12-03T11:48:00.063Z"
   },
   {
    "duration": 47,
    "start_time": "2022-12-03T11:48:00.137Z"
   },
   {
    "duration": 10,
    "start_time": "2022-12-03T11:48:00.186Z"
   },
   {
    "duration": 28,
    "start_time": "2022-12-03T11:48:00.198Z"
   },
   {
    "duration": 35,
    "start_time": "2022-12-03T11:48:00.228Z"
   },
   {
    "duration": 37,
    "start_time": "2022-12-03T11:48:00.265Z"
   },
   {
    "duration": 18,
    "start_time": "2022-12-03T11:48:00.304Z"
   },
   {
    "duration": 38,
    "start_time": "2022-12-03T11:48:00.324Z"
   },
   {
    "duration": 180,
    "start_time": "2022-12-03T11:48:00.364Z"
   },
   {
    "duration": 14,
    "start_time": "2022-12-03T11:48:00.550Z"
   },
   {
    "duration": 203,
    "start_time": "2022-12-03T11:48:00.566Z"
   },
   {
    "duration": 124,
    "start_time": "2022-12-03T11:48:00.771Z"
   },
   {
    "duration": 7,
    "start_time": "2022-12-03T11:48:00.897Z"
   },
   {
    "duration": 20,
    "start_time": "2022-12-03T11:48:00.906Z"
   },
   {
    "duration": 38,
    "start_time": "2022-12-03T11:48:00.928Z"
   },
   {
    "duration": 4,
    "start_time": "2022-12-03T11:48:00.969Z"
   },
   {
    "duration": 89,
    "start_time": "2022-12-03T11:48:00.975Z"
   },
   {
    "duration": 3,
    "start_time": "2022-12-03T11:48:01.066Z"
   },
   {
    "duration": 94,
    "start_time": "2022-12-03T11:48:01.070Z"
   },
   {
    "duration": 10,
    "start_time": "2022-12-03T11:48:01.166Z"
   },
   {
    "duration": 22,
    "start_time": "2022-12-03T11:48:01.178Z"
   },
   {
    "duration": 17,
    "start_time": "2022-12-03T11:48:01.202Z"
   },
   {
    "duration": 19,
    "start_time": "2022-12-03T11:48:01.221Z"
   },
   {
    "duration": 1291,
    "start_time": "2022-12-03T11:48:01.241Z"
   },
   {
    "duration": 2628,
    "start_time": "2022-12-03T11:48:02.534Z"
   },
   {
    "duration": 3,
    "start_time": "2022-12-03T11:48:05.165Z"
   },
   {
    "duration": 946,
    "start_time": "2022-12-03T11:48:05.170Z"
   },
   {
    "duration": 1188,
    "start_time": "2022-12-03T11:48:06.118Z"
   },
   {
    "duration": 4,
    "start_time": "2022-12-03T11:48:16.749Z"
   },
   {
    "duration": 52619,
    "start_time": "2022-12-03T11:48:20.069Z"
   },
   {
    "duration": 4,
    "start_time": "2022-12-03T11:49:31.861Z"
   },
   {
    "duration": 56729,
    "start_time": "2022-12-03T11:49:32.434Z"
   },
   {
    "duration": 5,
    "start_time": "2022-12-03T11:50:50.053Z"
   },
   {
    "duration": 1183185,
    "start_time": "2022-12-03T11:50:50.639Z"
   },
   {
    "duration": 17,
    "start_time": "2022-12-03T12:54:54.118Z"
   },
   {
    "duration": 20,
    "start_time": "2022-12-03T12:55:22.972Z"
   },
   {
    "duration": 7,
    "start_time": "2022-12-03T12:55:48.427Z"
   },
   {
    "duration": 6,
    "start_time": "2022-12-03T12:56:19.430Z"
   },
   {
    "duration": 10,
    "start_time": "2022-12-03T13:09:23.438Z"
   },
   {
    "duration": 6,
    "start_time": "2022-12-03T13:09:35.098Z"
   },
   {
    "duration": 5701819,
    "start_time": "2022-12-03T13:09:36.166Z"
   },
   {
    "duration": 15,
    "start_time": "2022-12-03T15:23:36.885Z"
   },
   {
    "duration": 5,
    "start_time": "2022-12-03T15:24:06.220Z"
   },
   {
    "duration": 6,
    "start_time": "2022-12-03T15:24:39.157Z"
   },
   {
    "duration": 7,
    "start_time": "2022-12-03T15:24:47.600Z"
   },
   {
    "duration": 7,
    "start_time": "2022-12-03T15:25:03.788Z"
   },
   {
    "duration": 8,
    "start_time": "2022-12-03T15:25:21.396Z"
   },
   {
    "duration": 9,
    "start_time": "2022-12-03T15:26:02.673Z"
   },
   {
    "duration": 1622,
    "start_time": "2022-12-03T19:03:51.156Z"
   },
   {
    "duration": 2786,
    "start_time": "2022-12-03T19:03:52.780Z"
   },
   {
    "duration": 101,
    "start_time": "2022-12-03T19:03:55.568Z"
   },
   {
    "duration": 16,
    "start_time": "2022-12-03T19:03:55.670Z"
   },
   {
    "duration": 135,
    "start_time": "2022-12-03T19:03:55.689Z"
   },
   {
    "duration": 416,
    "start_time": "2022-12-03T19:03:55.825Z"
   },
   {
    "duration": 3,
    "start_time": "2022-12-03T19:03:56.243Z"
   },
   {
    "duration": 10,
    "start_time": "2022-12-03T19:03:56.247Z"
   },
   {
    "duration": 276,
    "start_time": "2022-12-03T19:03:56.258Z"
   },
   {
    "duration": 14,
    "start_time": "2022-12-03T19:03:56.536Z"
   },
   {
    "duration": 47,
    "start_time": "2022-12-03T19:03:56.552Z"
   },
   {
    "duration": 20,
    "start_time": "2022-12-03T19:03:56.601Z"
   },
   {
    "duration": 16,
    "start_time": "2022-12-03T19:03:56.623Z"
   },
   {
    "duration": 35,
    "start_time": "2022-12-03T19:03:56.643Z"
   },
   {
    "duration": 12,
    "start_time": "2022-12-03T19:03:56.680Z"
   },
   {
    "duration": 18,
    "start_time": "2022-12-03T19:03:56.693Z"
   },
   {
    "duration": 37,
    "start_time": "2022-12-03T19:03:56.712Z"
   },
   {
    "duration": 35,
    "start_time": "2022-12-03T19:03:56.750Z"
   },
   {
    "duration": 9,
    "start_time": "2022-12-03T19:03:56.787Z"
   },
   {
    "duration": 22,
    "start_time": "2022-12-03T19:03:56.797Z"
   },
   {
    "duration": 37,
    "start_time": "2022-12-03T19:03:56.820Z"
   },
   {
    "duration": 31,
    "start_time": "2022-12-03T19:03:56.859Z"
   },
   {
    "duration": 17,
    "start_time": "2022-12-03T19:03:56.891Z"
   },
   {
    "duration": 42,
    "start_time": "2022-12-03T19:03:56.910Z"
   },
   {
    "duration": 28,
    "start_time": "2022-12-03T19:03:56.954Z"
   },
   {
    "duration": 10,
    "start_time": "2022-12-03T19:03:56.984Z"
   },
   {
    "duration": 17,
    "start_time": "2022-12-03T19:03:56.995Z"
   },
   {
    "duration": 418,
    "start_time": "2022-12-03T19:03:57.014Z"
   },
   {
    "duration": 445,
    "start_time": "2022-12-03T19:03:57.433Z"
   },
   {
    "duration": 20,
    "start_time": "2022-12-03T19:03:57.879Z"
   },
   {
    "duration": 251,
    "start_time": "2022-12-03T19:03:57.900Z"
   },
   {
    "duration": 27,
    "start_time": "2022-12-03T19:03:58.152Z"
   },
   {
    "duration": 152,
    "start_time": "2022-12-03T19:03:58.180Z"
   },
   {
    "duration": 418,
    "start_time": "2022-12-03T19:03:58.334Z"
   },
   {
    "duration": 9,
    "start_time": "2022-12-03T19:03:58.754Z"
   },
   {
    "duration": 55,
    "start_time": "2022-12-03T19:03:58.765Z"
   },
   {
    "duration": 165,
    "start_time": "2022-12-03T19:03:58.821Z"
   },
   {
    "duration": 10,
    "start_time": "2022-12-03T19:03:58.988Z"
   },
   {
    "duration": 48,
    "start_time": "2022-12-03T19:03:58.999Z"
   },
   {
    "duration": 35,
    "start_time": "2022-12-03T19:03:59.049Z"
   },
   {
    "duration": 8,
    "start_time": "2022-12-03T19:03:59.088Z"
   },
   {
    "duration": 46,
    "start_time": "2022-12-03T19:03:59.097Z"
   },
   {
    "duration": 8,
    "start_time": "2022-12-03T19:03:59.145Z"
   },
   {
    "duration": 55,
    "start_time": "2022-12-03T19:03:59.155Z"
   },
   {
    "duration": 5,
    "start_time": "2022-12-03T19:03:59.211Z"
   },
   {
    "duration": 259,
    "start_time": "2022-12-03T19:03:59.217Z"
   },
   {
    "duration": 17,
    "start_time": "2022-12-03T19:03:59.478Z"
   },
   {
    "duration": 8,
    "start_time": "2022-12-03T19:03:59.496Z"
   },
   {
    "duration": 42,
    "start_time": "2022-12-03T19:03:59.506Z"
   },
   {
    "duration": 35,
    "start_time": "2022-12-03T19:03:59.549Z"
   },
   {
    "duration": 17,
    "start_time": "2022-12-03T19:03:59.585Z"
   },
   {
    "duration": 101,
    "start_time": "2022-12-03T19:03:59.604Z"
   },
   {
    "duration": 113,
    "start_time": "2022-12-03T19:03:59.707Z"
   },
   {
    "duration": 63,
    "start_time": "2022-12-03T19:03:59.821Z"
   },
   {
    "duration": 29,
    "start_time": "2022-12-03T19:03:59.886Z"
   },
   {
    "duration": 7,
    "start_time": "2022-12-03T19:03:59.916Z"
   },
   {
    "duration": 4,
    "start_time": "2022-12-03T19:03:59.925Z"
   },
   {
    "duration": 22,
    "start_time": "2022-12-03T19:03:59.931Z"
   },
   {
    "duration": 53,
    "start_time": "2022-12-03T19:03:59.955Z"
   },
   {
    "duration": 16,
    "start_time": "2022-12-03T19:04:00.010Z"
   },
   {
    "duration": 15,
    "start_time": "2022-12-03T19:04:00.028Z"
   },
   {
    "duration": 164,
    "start_time": "2022-12-03T19:04:00.045Z"
   },
   {
    "duration": 12,
    "start_time": "2022-12-03T19:04:00.211Z"
   },
   {
    "duration": 176,
    "start_time": "2022-12-03T19:04:00.225Z"
   },
   {
    "duration": 114,
    "start_time": "2022-12-03T19:04:00.402Z"
   },
   {
    "duration": 6,
    "start_time": "2022-12-03T19:04:00.517Z"
   },
   {
    "duration": 32,
    "start_time": "2022-12-03T19:04:00.524Z"
   },
   {
    "duration": 33,
    "start_time": "2022-12-03T19:04:00.558Z"
   },
   {
    "duration": 19,
    "start_time": "2022-12-03T19:04:00.592Z"
   },
   {
    "duration": 88,
    "start_time": "2022-12-03T19:04:00.612Z"
   },
   {
    "duration": 3,
    "start_time": "2022-12-03T19:04:00.701Z"
   },
   {
    "duration": 73,
    "start_time": "2022-12-03T19:04:00.705Z"
   },
   {
    "duration": 7,
    "start_time": "2022-12-03T19:04:00.780Z"
   },
   {
    "duration": 9,
    "start_time": "2022-12-03T19:04:00.789Z"
   },
   {
    "duration": 10,
    "start_time": "2022-12-03T19:04:00.799Z"
   },
   {
    "duration": 7,
    "start_time": "2022-12-03T19:04:00.810Z"
   },
   {
    "duration": 1065,
    "start_time": "2022-12-03T19:04:00.818Z"
   },
   {
    "duration": 2148,
    "start_time": "2022-12-03T19:04:01.884Z"
   },
   {
    "duration": 7,
    "start_time": "2022-12-03T19:04:04.034Z"
   },
   {
    "duration": 778,
    "start_time": "2022-12-03T19:04:04.043Z"
   },
   {
    "duration": 953,
    "start_time": "2022-12-03T19:04:04.823Z"
   },
   {
    "duration": 725,
    "start_time": "2022-12-03T19:04:16.328Z"
   },
   {
    "duration": 507,
    "start_time": "2022-12-03T19:04:23.740Z"
   },
   {
    "duration": 1432,
    "start_time": "2022-12-03T19:07:51.562Z"
   },
   {
    "duration": 17237,
    "start_time": "2022-12-03T19:08:14.465Z"
   },
   {
    "duration": 15571,
    "start_time": "2022-12-03T19:08:57.961Z"
   },
   {
    "duration": 84,
    "start_time": "2022-12-03T19:10:11.939Z"
   },
   {
    "duration": 136,
    "start_time": "2022-12-03T19:10:25.601Z"
   },
   {
    "duration": 13,
    "start_time": "2022-12-03T19:11:13.617Z"
   },
   {
    "duration": 6,
    "start_time": "2022-12-03T19:11:17.556Z"
   },
   {
    "duration": 94,
    "start_time": "2022-12-03T19:12:01.817Z"
   },
   {
    "duration": 89,
    "start_time": "2022-12-03T19:13:49.344Z"
   },
   {
    "duration": 25,
    "start_time": "2022-12-03T19:15:01.142Z"
   },
   {
    "duration": 151,
    "start_time": "2022-12-03T19:16:08.104Z"
   },
   {
    "duration": 89,
    "start_time": "2022-12-03T19:16:15.496Z"
   },
   {
    "duration": 255361,
    "start_time": "2022-12-03T19:16:27.336Z"
   },
   {
    "duration": 85,
    "start_time": "2022-12-03T19:21:35.984Z"
   },
   {
    "duration": 823,
    "start_time": "2022-12-03T19:22:00.064Z"
   },
   {
    "duration": 9,
    "start_time": "2022-12-03T19:22:03.714Z"
   },
   {
    "duration": 13,
    "start_time": "2022-12-03T19:22:19.275Z"
   },
   {
    "duration": 8608,
    "start_time": "2022-12-03T19:24:26.870Z"
   },
   {
    "duration": 805,
    "start_time": "2022-12-03T19:35:04.392Z"
   },
   {
    "duration": 6,
    "start_time": "2022-12-03T19:35:06.422Z"
   },
   {
    "duration": 5,
    "start_time": "2022-12-03T19:35:38.115Z"
   },
   {
    "duration": 4,
    "start_time": "2022-12-03T19:57:05.618Z"
   },
   {
    "duration": 890,
    "start_time": "2022-12-03T19:57:05.624Z"
   },
   {
    "duration": 108,
    "start_time": "2022-12-03T19:57:06.515Z"
   },
   {
    "duration": 13,
    "start_time": "2022-12-03T19:57:06.624Z"
   },
   {
    "duration": 104,
    "start_time": "2022-12-03T19:57:06.639Z"
   },
   {
    "duration": 412,
    "start_time": "2022-12-03T19:57:06.745Z"
   },
   {
    "duration": 3,
    "start_time": "2022-12-03T19:57:07.158Z"
   },
   {
    "duration": 8,
    "start_time": "2022-12-03T19:57:07.163Z"
   },
   {
    "duration": 250,
    "start_time": "2022-12-03T19:57:07.178Z"
   },
   {
    "duration": 14,
    "start_time": "2022-12-03T19:57:07.429Z"
   },
   {
    "duration": 54,
    "start_time": "2022-12-03T19:57:07.445Z"
   },
   {
    "duration": 22,
    "start_time": "2022-12-03T19:57:07.500Z"
   },
   {
    "duration": 20,
    "start_time": "2022-12-03T19:57:07.524Z"
   },
   {
    "duration": 17,
    "start_time": "2022-12-03T19:57:07.546Z"
   },
   {
    "duration": 17,
    "start_time": "2022-12-03T19:57:07.577Z"
   },
   {
    "duration": 18,
    "start_time": "2022-12-03T19:57:07.595Z"
   },
   {
    "duration": 42,
    "start_time": "2022-12-03T19:57:07.615Z"
   },
   {
    "duration": 33,
    "start_time": "2022-12-03T19:57:07.659Z"
   },
   {
    "duration": 15,
    "start_time": "2022-12-03T19:57:07.694Z"
   },
   {
    "duration": 17,
    "start_time": "2022-12-03T19:57:07.710Z"
   },
   {
    "duration": 37,
    "start_time": "2022-12-03T19:57:07.729Z"
   },
   {
    "duration": 31,
    "start_time": "2022-12-03T19:57:07.767Z"
   },
   {
    "duration": 13,
    "start_time": "2022-12-03T19:57:07.800Z"
   },
   {
    "duration": 37,
    "start_time": "2022-12-03T19:57:07.815Z"
   },
   {
    "duration": 42,
    "start_time": "2022-12-03T19:57:07.853Z"
   },
   {
    "duration": 11,
    "start_time": "2022-12-03T19:57:07.897Z"
   },
   {
    "duration": 13,
    "start_time": "2022-12-03T19:57:07.910Z"
   },
   {
    "duration": 413,
    "start_time": "2022-12-03T19:57:07.925Z"
   },
   {
    "duration": 430,
    "start_time": "2022-12-03T19:57:08.339Z"
   },
   {
    "duration": 23,
    "start_time": "2022-12-03T19:57:08.771Z"
   },
   {
    "duration": 245,
    "start_time": "2022-12-03T19:57:08.795Z"
   },
   {
    "duration": 24,
    "start_time": "2022-12-03T19:57:09.042Z"
   },
   {
    "duration": 151,
    "start_time": "2022-12-03T19:57:09.068Z"
   },
   {
    "duration": 413,
    "start_time": "2022-12-03T19:57:09.221Z"
   },
   {
    "duration": 10,
    "start_time": "2022-12-03T19:57:09.636Z"
   },
   {
    "duration": 66,
    "start_time": "2022-12-03T19:57:09.648Z"
   },
   {
    "duration": 164,
    "start_time": "2022-12-03T19:57:09.719Z"
   },
   {
    "duration": 17,
    "start_time": "2022-12-03T19:57:09.885Z"
   },
   {
    "duration": 39,
    "start_time": "2022-12-03T19:57:09.904Z"
   },
   {
    "duration": 17,
    "start_time": "2022-12-03T19:57:09.945Z"
   },
   {
    "duration": 20,
    "start_time": "2022-12-03T19:57:09.964Z"
   },
   {
    "duration": 39,
    "start_time": "2022-12-03T19:57:09.988Z"
   },
   {
    "duration": 9,
    "start_time": "2022-12-03T19:57:10.028Z"
   },
   {
    "duration": 60,
    "start_time": "2022-12-03T19:57:10.038Z"
   },
   {
    "duration": 5,
    "start_time": "2022-12-03T19:57:10.100Z"
   },
   {
    "duration": 194,
    "start_time": "2022-12-03T19:57:10.107Z"
   },
   {
    "duration": 21,
    "start_time": "2022-12-03T19:57:10.302Z"
   },
   {
    "duration": 9,
    "start_time": "2022-12-03T19:57:10.325Z"
   },
   {
    "duration": 65,
    "start_time": "2022-12-03T19:57:10.336Z"
   },
   {
    "duration": 15,
    "start_time": "2022-12-03T19:57:10.403Z"
   },
   {
    "duration": 15,
    "start_time": "2022-12-03T19:57:10.420Z"
   },
   {
    "duration": 103,
    "start_time": "2022-12-03T19:57:10.437Z"
   },
   {
    "duration": 114,
    "start_time": "2022-12-03T19:57:10.542Z"
   },
   {
    "duration": 66,
    "start_time": "2022-12-03T19:57:10.658Z"
   },
   {
    "duration": 31,
    "start_time": "2022-12-03T19:57:10.726Z"
   },
   {
    "duration": 26,
    "start_time": "2022-12-03T19:57:10.759Z"
   },
   {
    "duration": 8,
    "start_time": "2022-12-03T19:57:10.789Z"
   },
   {
    "duration": 20,
    "start_time": "2022-12-03T19:57:10.799Z"
   },
   {
    "duration": 36,
    "start_time": "2022-12-03T19:57:10.820Z"
   },
   {
    "duration": 39,
    "start_time": "2022-12-03T19:57:10.858Z"
   },
   {
    "duration": 20,
    "start_time": "2022-12-03T19:57:10.899Z"
   },
   {
    "duration": 189,
    "start_time": "2022-12-03T19:57:10.921Z"
   },
   {
    "duration": 14,
    "start_time": "2022-12-03T19:57:11.111Z"
   },
   {
    "duration": 187,
    "start_time": "2022-12-03T19:57:11.127Z"
   },
   {
    "duration": 121,
    "start_time": "2022-12-03T19:57:11.317Z"
   },
   {
    "duration": 6,
    "start_time": "2022-12-03T19:57:11.440Z"
   },
   {
    "duration": 43,
    "start_time": "2022-12-03T19:57:11.448Z"
   },
   {
    "duration": 19,
    "start_time": "2022-12-03T19:57:11.496Z"
   },
   {
    "duration": 3,
    "start_time": "2022-12-03T19:57:11.517Z"
   },
   {
    "duration": 90,
    "start_time": "2022-12-03T19:57:11.521Z"
   },
   {
    "duration": 3,
    "start_time": "2022-12-03T19:57:11.613Z"
   },
   {
    "duration": 75,
    "start_time": "2022-12-03T19:57:11.619Z"
   },
   {
    "duration": 10,
    "start_time": "2022-12-03T19:57:11.696Z"
   },
   {
    "duration": 8,
    "start_time": "2022-12-03T19:57:11.708Z"
   },
   {
    "duration": 5,
    "start_time": "2022-12-03T19:57:11.718Z"
   },
   {
    "duration": 7,
    "start_time": "2022-12-03T19:57:11.725Z"
   },
   {
    "duration": 1224,
    "start_time": "2022-12-03T19:57:11.734Z"
   },
   {
    "duration": 2364,
    "start_time": "2022-12-03T19:57:12.960Z"
   },
   {
    "duration": 5,
    "start_time": "2022-12-03T19:57:15.325Z"
   },
   {
    "duration": 977,
    "start_time": "2022-12-03T19:57:15.332Z"
   },
   {
    "duration": 1127,
    "start_time": "2022-12-03T19:57:16.311Z"
   },
   {
    "duration": 62355,
    "start_time": "2022-12-03T20:03:18.735Z"
   },
   {
    "duration": 772,
    "start_time": "2022-12-03T20:05:25.639Z"
   },
   {
    "duration": 5,
    "start_time": "2022-12-03T20:05:27.528Z"
   },
   {
    "duration": 5,
    "start_time": "2022-12-03T20:30:40.467Z"
   },
   {
    "duration": 4,
    "start_time": "2022-12-03T20:30:50.040Z"
   },
   {
    "duration": 9,
    "start_time": "2022-12-03T20:36:47.756Z"
   },
   {
    "duration": 848,
    "start_time": "2022-12-03T20:36:50.363Z"
   },
   {
    "duration": 66,
    "start_time": "2022-12-03T20:36:51.213Z"
   },
   {
    "duration": 3604,
    "start_time": "2022-12-03T20:37:15.302Z"
   },
   {
    "duration": 12,
    "start_time": "2022-12-03T20:37:22.896Z"
   },
   {
    "duration": 7,
    "start_time": "2022-12-03T20:37:34.313Z"
   },
   {
    "duration": 4,
    "start_time": "2022-12-03T20:41:58.032Z"
   },
   {
    "duration": 126823,
    "start_time": "2022-12-03T20:42:16.922Z"
   },
   {
    "duration": 91,
    "start_time": "2022-12-03T20:44:23.748Z"
   },
   {
    "duration": 13,
    "start_time": "2022-12-03T20:44:23.840Z"
   },
   {
    "duration": 4,
    "start_time": "2022-12-03T20:46:36.718Z"
   },
   {
    "duration": 16121,
    "start_time": "2022-12-03T20:46:40.616Z"
   },
   {
    "duration": 123,
    "start_time": "2022-12-03T20:46:56.739Z"
   },
   {
    "duration": 25,
    "start_time": "2022-12-03T20:46:56.863Z"
   },
   {
    "duration": 5,
    "start_time": "2022-12-03T20:47:31.097Z"
   },
   {
    "duration": 6,
    "start_time": "2022-12-03T20:47:36.169Z"
   },
   {
    "duration": 15698,
    "start_time": "2022-12-03T20:48:56.405Z"
   },
   {
    "duration": 134,
    "start_time": "2022-12-03T20:49:12.105Z"
   },
   {
    "duration": 5,
    "start_time": "2022-12-03T20:49:12.241Z"
   },
   {
    "duration": 7552,
    "start_time": "2022-12-03T20:50:03.327Z"
   },
   {
    "duration": 832,
    "start_time": "2022-12-03T20:50:41.877Z"
   },
   {
    "duration": 67,
    "start_time": "2022-12-03T20:50:42.711Z"
   },
   {
    "duration": 160,
    "start_time": "2022-12-03T20:51:22.794Z"
   },
   {
    "duration": 1012,
    "start_time": "2022-12-03T20:51:41.274Z"
   },
   {
    "duration": 5,
    "start_time": "2022-12-03T20:51:43.514Z"
   },
   {
    "duration": 12264,
    "start_time": "2022-12-03T20:51:55.225Z"
   },
   {
    "duration": 1095,
    "start_time": "2022-12-03T20:52:07.491Z"
   },
   {
    "duration": 4,
    "start_time": "2022-12-03T20:52:08.588Z"
   },
   {
    "duration": 14987,
    "start_time": "2022-12-03T20:52:34.968Z"
   },
   {
    "duration": 129,
    "start_time": "2022-12-03T20:52:49.956Z"
   },
   {
    "duration": 6,
    "start_time": "2022-12-03T20:52:50.087Z"
   },
   {
    "duration": 6,
    "start_time": "2022-12-03T20:53:34.075Z"
   },
   {
    "duration": 8,
    "start_time": "2022-12-03T21:04:36.572Z"
   },
   {
    "duration": 6,
    "start_time": "2022-12-03T21:35:11.471Z"
   },
   {
    "duration": 746,
    "start_time": "2022-12-03T21:35:11.479Z"
   },
   {
    "duration": 109,
    "start_time": "2022-12-03T21:35:12.227Z"
   },
   {
    "duration": 13,
    "start_time": "2022-12-03T21:35:12.338Z"
   },
   {
    "duration": 104,
    "start_time": "2022-12-03T21:35:12.352Z"
   },
   {
    "duration": 413,
    "start_time": "2022-12-03T21:35:12.457Z"
   },
   {
    "duration": 3,
    "start_time": "2022-12-03T21:35:12.878Z"
   },
   {
    "duration": 6,
    "start_time": "2022-12-03T21:35:12.883Z"
   },
   {
    "duration": 264,
    "start_time": "2022-12-03T21:35:15.107Z"
   },
   {
    "duration": 221,
    "start_time": "2022-12-03T21:35:22.367Z"
   },
   {
    "duration": 319,
    "start_time": "2022-12-03T21:35:29.636Z"
   },
   {
    "duration": 219,
    "start_time": "2022-12-03T21:35:39.233Z"
   },
   {
    "duration": 216,
    "start_time": "2022-12-03T21:35:46.973Z"
   },
   {
    "duration": 245,
    "start_time": "2022-12-03T21:37:29.467Z"
   },
   {
    "duration": 232,
    "start_time": "2022-12-03T21:37:37.552Z"
   },
   {
    "duration": 278,
    "start_time": "2022-12-03T21:37:59.420Z"
   },
   {
    "duration": 419,
    "start_time": "2022-12-03T21:38:48.655Z"
   },
   {
    "duration": 410,
    "start_time": "2022-12-03T21:38:58.810Z"
   },
   {
    "duration": 4,
    "start_time": "2022-12-03T21:39:41.985Z"
   },
   {
    "duration": 673,
    "start_time": "2022-12-03T21:39:41.993Z"
   },
   {
    "duration": 100,
    "start_time": "2022-12-03T21:39:42.667Z"
   },
   {
    "duration": 20,
    "start_time": "2022-12-03T21:39:42.768Z"
   },
   {
    "duration": 92,
    "start_time": "2022-12-03T21:39:42.789Z"
   },
   {
    "duration": 383,
    "start_time": "2022-12-03T21:39:42.883Z"
   },
   {
    "duration": 3,
    "start_time": "2022-12-03T21:39:43.268Z"
   },
   {
    "duration": 4,
    "start_time": "2022-12-03T21:39:43.277Z"
   },
   {
    "duration": 221,
    "start_time": "2022-12-03T21:39:43.283Z"
   },
   {
    "duration": 15,
    "start_time": "2022-12-03T21:39:43.506Z"
   },
   {
    "duration": 35,
    "start_time": "2022-12-03T21:39:43.522Z"
   },
   {
    "duration": 32,
    "start_time": "2022-12-03T21:39:43.559Z"
   },
   {
    "duration": 13,
    "start_time": "2022-12-03T21:39:43.593Z"
   },
   {
    "duration": 19,
    "start_time": "2022-12-03T21:39:43.608Z"
   },
   {
    "duration": 10,
    "start_time": "2022-12-03T21:39:43.630Z"
   },
   {
    "duration": 36,
    "start_time": "2022-12-03T21:39:43.642Z"
   },
   {
    "duration": 35,
    "start_time": "2022-12-03T21:39:43.679Z"
   },
   {
    "duration": 17,
    "start_time": "2022-12-03T21:39:43.715Z"
   },
   {
    "duration": 12,
    "start_time": "2022-12-03T21:39:43.733Z"
   },
   {
    "duration": 36,
    "start_time": "2022-12-03T21:39:43.746Z"
   },
   {
    "duration": 34,
    "start_time": "2022-12-03T21:39:43.784Z"
   },
   {
    "duration": 16,
    "start_time": "2022-12-03T21:39:43.820Z"
   },
   {
    "duration": 14,
    "start_time": "2022-12-03T21:39:43.838Z"
   },
   {
    "duration": 66,
    "start_time": "2022-12-03T21:39:43.854Z"
   },
   {
    "duration": 24,
    "start_time": "2022-12-03T21:39:43.922Z"
   },
   {
    "duration": 17,
    "start_time": "2022-12-03T21:39:43.948Z"
   },
   {
    "duration": 15,
    "start_time": "2022-12-03T21:39:43.978Z"
   },
   {
    "duration": 404,
    "start_time": "2022-12-03T21:39:43.995Z"
   },
   {
    "duration": 397,
    "start_time": "2022-12-03T21:39:44.401Z"
   },
   {
    "duration": 18,
    "start_time": "2022-12-03T21:39:44.799Z"
   },
   {
    "duration": 236,
    "start_time": "2022-12-03T21:39:44.818Z"
   },
   {
    "duration": 29,
    "start_time": "2022-12-03T21:39:45.056Z"
   },
   {
    "duration": 144,
    "start_time": "2022-12-03T21:39:45.087Z"
   },
   {
    "duration": 403,
    "start_time": "2022-12-03T21:39:45.232Z"
   },
   {
    "duration": 10,
    "start_time": "2022-12-03T21:39:45.636Z"
   },
   {
    "duration": 65,
    "start_time": "2022-12-03T21:39:45.648Z"
   },
   {
    "duration": 149,
    "start_time": "2022-12-03T21:39:47.635Z"
   },
   {
    "duration": 145,
    "start_time": "2022-12-03T21:40:05.825Z"
   },
   {
    "duration": 256,
    "start_time": "2022-12-03T21:40:44.722Z"
   },
   {
    "duration": 182,
    "start_time": "2022-12-03T21:41:32.913Z"
   },
   {
    "duration": 167,
    "start_time": "2022-12-03T21:42:20.505Z"
   },
   {
    "duration": 4,
    "start_time": "2022-12-03T21:42:27.651Z"
   },
   {
    "duration": 705,
    "start_time": "2022-12-03T21:42:27.657Z"
   },
   {
    "duration": 103,
    "start_time": "2022-12-03T21:42:28.364Z"
   },
   {
    "duration": 14,
    "start_time": "2022-12-03T21:42:28.478Z"
   },
   {
    "duration": 89,
    "start_time": "2022-12-03T21:42:28.495Z"
   },
   {
    "duration": 393,
    "start_time": "2022-12-03T21:42:28.586Z"
   },
   {
    "duration": 4,
    "start_time": "2022-12-03T21:42:28.981Z"
   },
   {
    "duration": 8,
    "start_time": "2022-12-03T21:42:28.986Z"
   },
   {
    "duration": 241,
    "start_time": "2022-12-03T21:42:28.995Z"
   },
   {
    "duration": 15,
    "start_time": "2022-12-03T21:42:29.238Z"
   },
   {
    "duration": 50,
    "start_time": "2022-12-03T21:42:29.254Z"
   },
   {
    "duration": 19,
    "start_time": "2022-12-03T21:42:29.306Z"
   },
   {
    "duration": 15,
    "start_time": "2022-12-03T21:42:29.326Z"
   },
   {
    "duration": 35,
    "start_time": "2022-12-03T21:42:29.344Z"
   },
   {
    "duration": 12,
    "start_time": "2022-12-03T21:42:29.381Z"
   },
   {
    "duration": 16,
    "start_time": "2022-12-03T21:42:29.395Z"
   },
   {
    "duration": 36,
    "start_time": "2022-12-03T21:42:29.412Z"
   },
   {
    "duration": 36,
    "start_time": "2022-12-03T21:42:29.449Z"
   },
   {
    "duration": 10,
    "start_time": "2022-12-03T21:42:29.487Z"
   },
   {
    "duration": 14,
    "start_time": "2022-12-03T21:42:29.499Z"
   },
   {
    "duration": 35,
    "start_time": "2022-12-03T21:42:29.515Z"
   },
   {
    "duration": 35,
    "start_time": "2022-12-03T21:42:29.552Z"
   },
   {
    "duration": 15,
    "start_time": "2022-12-03T21:42:29.589Z"
   },
   {
    "duration": 38,
    "start_time": "2022-12-03T21:42:29.605Z"
   },
   {
    "duration": 38,
    "start_time": "2022-12-03T21:42:29.645Z"
   },
   {
    "duration": 11,
    "start_time": "2022-12-03T21:42:29.684Z"
   },
   {
    "duration": 14,
    "start_time": "2022-12-03T21:42:29.697Z"
   },
   {
    "duration": 382,
    "start_time": "2022-12-03T21:42:29.713Z"
   },
   {
    "duration": 409,
    "start_time": "2022-12-03T21:42:30.096Z"
   },
   {
    "duration": 18,
    "start_time": "2022-12-03T21:42:30.507Z"
   },
   {
    "duration": 218,
    "start_time": "2022-12-03T21:42:30.527Z"
   },
   {
    "duration": 33,
    "start_time": "2022-12-03T21:42:30.747Z"
   },
   {
    "duration": 147,
    "start_time": "2022-12-03T21:42:30.782Z"
   },
   {
    "duration": 402,
    "start_time": "2022-12-03T21:42:30.930Z"
   },
   {
    "duration": 10,
    "start_time": "2022-12-03T21:42:31.334Z"
   },
   {
    "duration": 68,
    "start_time": "2022-12-03T21:42:31.345Z"
   },
   {
    "duration": 180,
    "start_time": "2022-12-03T21:42:31.414Z"
   },
   {
    "duration": 10,
    "start_time": "2022-12-03T21:42:31.596Z"
   },
   {
    "duration": 41,
    "start_time": "2022-12-03T21:42:31.607Z"
   },
   {
    "duration": 30,
    "start_time": "2022-12-03T21:42:31.650Z"
   },
   {
    "duration": 8,
    "start_time": "2022-12-03T21:42:31.683Z"
   },
   {
    "duration": 43,
    "start_time": "2022-12-03T21:42:31.692Z"
   },
   {
    "duration": 9,
    "start_time": "2022-12-03T21:42:31.736Z"
   },
   {
    "duration": 65,
    "start_time": "2022-12-03T21:42:31.746Z"
   },
   {
    "duration": 4,
    "start_time": "2022-12-03T21:42:31.813Z"
   },
   {
    "duration": 201,
    "start_time": "2022-12-03T21:42:31.818Z"
   },
   {
    "duration": 4,
    "start_time": "2022-12-03T21:43:38.302Z"
   },
   {
    "duration": 722,
    "start_time": "2022-12-03T21:43:38.308Z"
   },
   {
    "duration": 105,
    "start_time": "2022-12-03T21:43:39.032Z"
   },
   {
    "duration": 15,
    "start_time": "2022-12-03T21:43:39.139Z"
   },
   {
    "duration": 104,
    "start_time": "2022-12-03T21:43:39.157Z"
   },
   {
    "duration": 381,
    "start_time": "2022-12-03T21:43:39.263Z"
   },
   {
    "duration": 2,
    "start_time": "2022-12-03T21:43:39.646Z"
   },
   {
    "duration": 7,
    "start_time": "2022-12-03T21:43:39.649Z"
   },
   {
    "duration": 242,
    "start_time": "2022-12-03T21:43:39.657Z"
   },
   {
    "duration": 15,
    "start_time": "2022-12-03T21:43:39.901Z"
   },
   {
    "duration": 36,
    "start_time": "2022-12-03T21:43:39.917Z"
   },
   {
    "duration": 29,
    "start_time": "2022-12-03T21:43:39.955Z"
   },
   {
    "duration": 16,
    "start_time": "2022-12-03T21:43:39.986Z"
   },
   {
    "duration": 21,
    "start_time": "2022-12-03T21:43:40.006Z"
   },
   {
    "duration": 13,
    "start_time": "2022-12-03T21:43:40.029Z"
   },
   {
    "duration": 43,
    "start_time": "2022-12-03T21:43:40.044Z"
   },
   {
    "duration": 35,
    "start_time": "2022-12-03T21:43:40.089Z"
   },
   {
    "duration": 19,
    "start_time": "2022-12-03T21:43:40.125Z"
   },
   {
    "duration": 15,
    "start_time": "2022-12-03T21:43:40.145Z"
   },
   {
    "duration": 26,
    "start_time": "2022-12-03T21:43:40.161Z"
   },
   {
    "duration": 37,
    "start_time": "2022-12-03T21:43:40.189Z"
   },
   {
    "duration": 17,
    "start_time": "2022-12-03T21:43:40.228Z"
   },
   {
    "duration": 33,
    "start_time": "2022-12-03T21:43:40.247Z"
   },
   {
    "duration": 43,
    "start_time": "2022-12-03T21:43:40.282Z"
   },
   {
    "duration": 17,
    "start_time": "2022-12-03T21:43:40.327Z"
   },
   {
    "duration": 33,
    "start_time": "2022-12-03T21:43:40.345Z"
   },
   {
    "duration": 15,
    "start_time": "2022-12-03T21:43:40.380Z"
   },
   {
    "duration": 381,
    "start_time": "2022-12-03T21:43:40.397Z"
   },
   {
    "duration": 427,
    "start_time": "2022-12-03T21:43:40.779Z"
   },
   {
    "duration": 18,
    "start_time": "2022-12-03T21:43:41.208Z"
   },
   {
    "duration": 214,
    "start_time": "2022-12-03T21:43:41.228Z"
   },
   {
    "duration": 35,
    "start_time": "2022-12-03T21:43:41.443Z"
   },
   {
    "duration": 135,
    "start_time": "2022-12-03T21:43:41.480Z"
   },
   {
    "duration": 396,
    "start_time": "2022-12-03T21:43:41.616Z"
   },
   {
    "duration": 11,
    "start_time": "2022-12-03T21:43:42.013Z"
   },
   {
    "duration": 63,
    "start_time": "2022-12-03T21:43:42.025Z"
   },
   {
    "duration": 160,
    "start_time": "2022-12-03T21:43:42.089Z"
   },
   {
    "duration": 10,
    "start_time": "2022-12-03T21:43:42.251Z"
   },
   {
    "duration": 51,
    "start_time": "2022-12-03T21:43:42.262Z"
   },
   {
    "duration": 16,
    "start_time": "2022-12-03T21:43:42.315Z"
   },
   {
    "duration": 8,
    "start_time": "2022-12-03T21:43:42.334Z"
   },
   {
    "duration": 66,
    "start_time": "2022-12-03T21:43:42.343Z"
   },
   {
    "duration": 8,
    "start_time": "2022-12-03T21:43:42.410Z"
   },
   {
    "duration": 37,
    "start_time": "2022-12-03T21:43:42.419Z"
   },
   {
    "duration": 20,
    "start_time": "2022-12-03T21:43:42.458Z"
   },
   {
    "duration": 174,
    "start_time": "2022-12-03T21:43:42.479Z"
   },
   {
    "duration": 24,
    "start_time": "2022-12-03T21:43:42.654Z"
   },
   {
    "duration": 8,
    "start_time": "2022-12-03T21:43:42.680Z"
   },
   {
    "duration": 42,
    "start_time": "2022-12-03T21:43:42.689Z"
   },
   {
    "duration": 15,
    "start_time": "2022-12-03T21:43:42.732Z"
   },
   {
    "duration": 37,
    "start_time": "2022-12-03T21:43:42.748Z"
   },
   {
    "duration": 77,
    "start_time": "2022-12-03T21:43:42.786Z"
   },
   {
    "duration": 233,
    "start_time": "2022-12-03T21:43:42.865Z"
   },
   {
    "duration": 56,
    "start_time": "2022-12-03T21:43:43.100Z"
   },
   {
    "duration": 34,
    "start_time": "2022-12-03T21:43:43.158Z"
   },
   {
    "duration": 8,
    "start_time": "2022-12-03T21:43:43.194Z"
   },
   {
    "duration": 5,
    "start_time": "2022-12-03T21:43:43.204Z"
   },
   {
    "duration": 19,
    "start_time": "2022-12-03T21:43:43.210Z"
   },
   {
    "duration": 56,
    "start_time": "2022-12-03T21:43:43.231Z"
   },
   {
    "duration": 15,
    "start_time": "2022-12-03T21:43:43.288Z"
   },
   {
    "duration": 14,
    "start_time": "2022-12-03T21:43:43.305Z"
   },
   {
    "duration": 166,
    "start_time": "2022-12-03T21:43:43.320Z"
   },
   {
    "duration": 13,
    "start_time": "2022-12-03T21:43:43.488Z"
   },
   {
    "duration": 154,
    "start_time": "2022-12-03T21:43:43.503Z"
   },
   {
    "duration": 1459,
    "start_time": "2022-12-04T10:04:32.975Z"
   },
   {
    "duration": 808,
    "start_time": "2022-12-04T10:04:34.436Z"
   },
   {
    "duration": 140,
    "start_time": "2022-12-04T10:04:35.245Z"
   },
   {
    "duration": 19,
    "start_time": "2022-12-04T10:04:35.387Z"
   },
   {
    "duration": 128,
    "start_time": "2022-12-04T10:04:35.407Z"
   },
   {
    "duration": 439,
    "start_time": "2022-12-04T10:04:35.537Z"
   },
   {
    "duration": 3,
    "start_time": "2022-12-04T10:04:35.978Z"
   },
   {
    "duration": 9,
    "start_time": "2022-12-04T10:04:35.982Z"
   },
   {
    "duration": 287,
    "start_time": "2022-12-04T10:04:35.993Z"
   },
   {
    "duration": 24,
    "start_time": "2022-12-04T10:04:36.283Z"
   },
   {
    "duration": 45,
    "start_time": "2022-12-04T10:04:36.309Z"
   },
   {
    "duration": 20,
    "start_time": "2022-12-04T10:04:36.356Z"
   },
   {
    "duration": 29,
    "start_time": "2022-12-04T10:04:36.378Z"
   },
   {
    "duration": 18,
    "start_time": "2022-12-04T10:04:36.408Z"
   },
   {
    "duration": 13,
    "start_time": "2022-12-04T10:04:36.428Z"
   },
   {
    "duration": 18,
    "start_time": "2022-12-04T10:04:36.442Z"
   },
   {
    "duration": 55,
    "start_time": "2022-12-04T10:04:36.462Z"
   },
   {
    "duration": 18,
    "start_time": "2022-12-04T10:04:36.519Z"
   },
   {
    "duration": 10,
    "start_time": "2022-12-04T10:04:36.539Z"
   },
   {
    "duration": 19,
    "start_time": "2022-12-04T10:04:36.550Z"
   },
   {
    "duration": 63,
    "start_time": "2022-12-04T10:04:36.570Z"
   },
   {
    "duration": 19,
    "start_time": "2022-12-04T10:04:36.635Z"
   },
   {
    "duration": 18,
    "start_time": "2022-12-04T10:04:36.656Z"
   },
   {
    "duration": 60,
    "start_time": "2022-12-04T10:04:36.676Z"
   },
   {
    "duration": 18,
    "start_time": "2022-12-04T10:04:36.737Z"
   },
   {
    "duration": 10,
    "start_time": "2022-12-04T10:04:36.757Z"
   },
   {
    "duration": 37,
    "start_time": "2022-12-04T10:04:36.769Z"
   },
   {
    "duration": 456,
    "start_time": "2022-12-04T10:04:36.809Z"
   },
   {
    "duration": 621,
    "start_time": "2022-12-04T10:04:37.266Z"
   },
   {
    "duration": 25,
    "start_time": "2022-12-04T10:04:37.888Z"
   },
   {
    "duration": 308,
    "start_time": "2022-12-04T10:04:37.914Z"
   },
   {
    "duration": 35,
    "start_time": "2022-12-04T10:04:38.224Z"
   },
   {
    "duration": 168,
    "start_time": "2022-12-04T10:04:38.261Z"
   },
   {
    "duration": 499,
    "start_time": "2022-12-04T10:04:38.431Z"
   },
   {
    "duration": 9,
    "start_time": "2022-12-04T10:04:38.932Z"
   },
   {
    "duration": 45,
    "start_time": "2022-12-04T10:04:38.943Z"
   },
   {
    "duration": 209,
    "start_time": "2022-12-04T10:04:38.990Z"
   },
   {
    "duration": 20,
    "start_time": "2022-12-04T10:04:39.207Z"
   },
   {
    "duration": 56,
    "start_time": "2022-12-04T10:04:39.228Z"
   },
   {
    "duration": 21,
    "start_time": "2022-12-04T10:04:39.287Z"
   },
   {
    "duration": 10,
    "start_time": "2022-12-04T10:04:39.317Z"
   },
   {
    "duration": 42,
    "start_time": "2022-12-04T10:04:39.329Z"
   },
   {
    "duration": 8,
    "start_time": "2022-12-04T10:04:39.373Z"
   },
   {
    "duration": 58,
    "start_time": "2022-12-04T10:04:39.383Z"
   },
   {
    "duration": 4,
    "start_time": "2022-12-04T10:04:39.443Z"
   },
   {
    "duration": 258,
    "start_time": "2022-12-04T10:04:39.449Z"
   },
   {
    "duration": 18,
    "start_time": "2022-12-04T10:04:39.709Z"
   },
   {
    "duration": 7,
    "start_time": "2022-12-04T10:04:39.729Z"
   },
   {
    "duration": 36,
    "start_time": "2022-12-04T10:04:39.737Z"
   },
   {
    "duration": 44,
    "start_time": "2022-12-04T10:04:39.775Z"
   },
   {
    "duration": 14,
    "start_time": "2022-12-04T10:04:39.822Z"
   },
   {
    "duration": 102,
    "start_time": "2022-12-04T10:04:39.837Z"
   },
   {
    "duration": 109,
    "start_time": "2022-12-04T10:04:39.941Z"
   },
   {
    "duration": 70,
    "start_time": "2022-12-04T10:04:40.052Z"
   },
   {
    "duration": 37,
    "start_time": "2022-12-04T10:04:40.124Z"
   },
   {
    "duration": 9,
    "start_time": "2022-12-04T10:04:40.163Z"
   },
   {
    "duration": 4,
    "start_time": "2022-12-04T10:04:40.174Z"
   },
   {
    "duration": 44,
    "start_time": "2022-12-04T10:04:40.180Z"
   },
   {
    "duration": 33,
    "start_time": "2022-12-04T10:04:40.226Z"
   },
   {
    "duration": 16,
    "start_time": "2022-12-04T10:04:40.261Z"
   },
   {
    "duration": 39,
    "start_time": "2022-12-04T10:04:40.278Z"
   },
   {
    "duration": 181,
    "start_time": "2022-12-04T10:04:40.320Z"
   },
   {
    "duration": 17,
    "start_time": "2022-12-04T10:04:40.505Z"
   },
   {
    "duration": 159,
    "start_time": "2022-12-04T10:04:40.524Z"
   },
   {
    "duration": 116,
    "start_time": "2022-12-04T10:04:40.684Z"
   },
   {
    "duration": 8,
    "start_time": "2022-12-04T10:04:40.804Z"
   },
   {
    "duration": 37,
    "start_time": "2022-12-04T10:04:40.814Z"
   },
   {
    "duration": 25,
    "start_time": "2022-12-04T10:04:40.853Z"
   },
   {
    "duration": 4,
    "start_time": "2022-12-04T10:04:40.879Z"
   },
   {
    "duration": 104,
    "start_time": "2022-12-04T10:04:40.884Z"
   },
   {
    "duration": 3,
    "start_time": "2022-12-04T10:04:40.989Z"
   },
   {
    "duration": 81,
    "start_time": "2022-12-04T10:04:40.994Z"
   },
   {
    "duration": 6,
    "start_time": "2022-12-04T10:04:41.077Z"
   },
   {
    "duration": 6,
    "start_time": "2022-12-04T10:04:41.085Z"
   },
   {
    "duration": 5,
    "start_time": "2022-12-04T10:04:41.104Z"
   },
   {
    "duration": 17,
    "start_time": "2022-12-04T10:04:41.110Z"
   },
   {
    "duration": 1226,
    "start_time": "2022-12-04T10:04:41.128Z"
   },
   {
    "duration": 1869,
    "start_time": "2022-12-04T10:04:42.355Z"
   },
   {
    "duration": 4,
    "start_time": "2022-12-04T10:04:44.225Z"
   },
   {
    "duration": 757,
    "start_time": "2022-12-04T10:04:44.230Z"
   },
   {
    "duration": 1687,
    "start_time": "2022-12-04T10:07:15.493Z"
   },
   {
    "duration": 3006,
    "start_time": "2022-12-04T10:07:17.182Z"
   },
   {
    "duration": 140,
    "start_time": "2022-12-04T10:07:20.190Z"
   },
   {
    "duration": 19,
    "start_time": "2022-12-04T10:07:20.333Z"
   },
   {
    "duration": 138,
    "start_time": "2022-12-04T10:07:20.353Z"
   },
   {
    "duration": 463,
    "start_time": "2022-12-04T10:07:20.493Z"
   },
   {
    "duration": 4,
    "start_time": "2022-12-04T10:07:20.957Z"
   },
   {
    "duration": 7,
    "start_time": "2022-12-04T10:07:20.963Z"
   },
   {
    "duration": 287,
    "start_time": "2022-12-04T10:07:20.971Z"
   },
   {
    "duration": 17,
    "start_time": "2022-12-04T10:07:21.260Z"
   },
   {
    "duration": 55,
    "start_time": "2022-12-04T10:07:21.279Z"
   },
   {
    "duration": 22,
    "start_time": "2022-12-04T10:07:21.335Z"
   },
   {
    "duration": 17,
    "start_time": "2022-12-04T10:07:21.358Z"
   },
   {
    "duration": 43,
    "start_time": "2022-12-04T10:07:21.376Z"
   },
   {
    "duration": 13,
    "start_time": "2022-12-04T10:07:21.421Z"
   },
   {
    "duration": 21,
    "start_time": "2022-12-04T10:07:21.435Z"
   },
   {
    "duration": 55,
    "start_time": "2022-12-04T10:07:21.458Z"
   },
   {
    "duration": 19,
    "start_time": "2022-12-04T10:07:21.514Z"
   },
   {
    "duration": 10,
    "start_time": "2022-12-04T10:07:21.535Z"
   },
   {
    "duration": 39,
    "start_time": "2022-12-04T10:07:21.546Z"
   },
   {
    "duration": 45,
    "start_time": "2022-12-04T10:07:21.587Z"
   },
   {
    "duration": 20,
    "start_time": "2022-12-04T10:07:21.634Z"
   },
   {
    "duration": 29,
    "start_time": "2022-12-04T10:07:21.656Z"
   },
   {
    "duration": 102,
    "start_time": "2022-12-04T10:07:21.687Z"
   },
   {
    "duration": 30,
    "start_time": "2022-12-04T10:07:21.791Z"
   },
   {
    "duration": 16,
    "start_time": "2022-12-04T10:07:21.823Z"
   },
   {
    "duration": 24,
    "start_time": "2022-12-04T10:07:21.841Z"
   },
   {
    "duration": 439,
    "start_time": "2022-12-04T10:07:21.869Z"
   },
   {
    "duration": 505,
    "start_time": "2022-12-04T10:07:22.310Z"
   },
   {
    "duration": 22,
    "start_time": "2022-12-04T10:07:22.817Z"
   },
   {
    "duration": 290,
    "start_time": "2022-12-04T10:07:22.841Z"
   },
   {
    "duration": 31,
    "start_time": "2022-12-04T10:07:23.133Z"
   },
   {
    "duration": 152,
    "start_time": "2022-12-04T10:07:23.166Z"
   },
   {
    "duration": 417,
    "start_time": "2022-12-04T10:07:23.320Z"
   },
   {
    "duration": 10,
    "start_time": "2022-12-04T10:07:23.738Z"
   },
   {
    "duration": 73,
    "start_time": "2022-12-04T10:07:23.749Z"
   },
   {
    "duration": 168,
    "start_time": "2022-12-04T10:07:23.824Z"
   },
   {
    "duration": 13,
    "start_time": "2022-12-04T10:07:23.993Z"
   },
   {
    "duration": 46,
    "start_time": "2022-12-04T10:07:24.007Z"
   },
   {
    "duration": 15,
    "start_time": "2022-12-04T10:07:24.054Z"
   },
   {
    "duration": 8,
    "start_time": "2022-12-04T10:07:24.071Z"
   },
   {
    "duration": 40,
    "start_time": "2022-12-04T10:07:24.105Z"
   },
   {
    "duration": 9,
    "start_time": "2022-12-04T10:07:24.148Z"
   },
   {
    "duration": 57,
    "start_time": "2022-12-04T10:07:24.158Z"
   },
   {
    "duration": 5,
    "start_time": "2022-12-04T10:07:24.217Z"
   },
   {
    "duration": 243,
    "start_time": "2022-12-04T10:07:24.224Z"
   },
   {
    "duration": 16,
    "start_time": "2022-12-04T10:07:24.469Z"
   },
   {
    "duration": 25,
    "start_time": "2022-12-04T10:07:24.486Z"
   },
   {
    "duration": 55,
    "start_time": "2022-12-04T10:07:24.513Z"
   },
   {
    "duration": 14,
    "start_time": "2022-12-04T10:07:24.570Z"
   },
   {
    "duration": 19,
    "start_time": "2022-12-04T10:07:24.586Z"
   },
   {
    "duration": 93,
    "start_time": "2022-12-04T10:07:24.607Z"
   },
   {
    "duration": 106,
    "start_time": "2022-12-04T10:07:24.701Z"
   },
   {
    "duration": 62,
    "start_time": "2022-12-04T10:07:24.808Z"
   },
   {
    "duration": 44,
    "start_time": "2022-12-04T10:07:24.871Z"
   },
   {
    "duration": 7,
    "start_time": "2022-12-04T10:07:24.917Z"
   },
   {
    "duration": 26,
    "start_time": "2022-12-04T10:07:24.926Z"
   },
   {
    "duration": 40,
    "start_time": "2022-12-04T10:07:24.954Z"
   },
   {
    "duration": 34,
    "start_time": "2022-12-04T10:07:24.996Z"
   },
   {
    "duration": 17,
    "start_time": "2022-12-04T10:07:25.031Z"
   },
   {
    "duration": 28,
    "start_time": "2022-12-04T10:07:25.049Z"
   },
   {
    "duration": 153,
    "start_time": "2022-12-04T10:07:25.079Z"
   },
   {
    "duration": 12,
    "start_time": "2022-12-04T10:07:25.234Z"
   },
   {
    "duration": 161,
    "start_time": "2022-12-04T10:07:25.248Z"
   },
   {
    "duration": 109,
    "start_time": "2022-12-04T10:07:25.410Z"
   },
   {
    "duration": 6,
    "start_time": "2022-12-04T10:07:25.520Z"
   },
   {
    "duration": 36,
    "start_time": "2022-12-04T10:07:25.528Z"
   },
   {
    "duration": 25,
    "start_time": "2022-12-04T10:07:25.566Z"
   },
   {
    "duration": 17,
    "start_time": "2022-12-04T10:07:25.593Z"
   },
   {
    "duration": 87,
    "start_time": "2022-12-04T10:07:25.611Z"
   },
   {
    "duration": 2,
    "start_time": "2022-12-04T10:07:25.700Z"
   },
   {
    "duration": 71,
    "start_time": "2022-12-04T10:07:25.703Z"
   },
   {
    "duration": 7,
    "start_time": "2022-12-04T10:07:25.776Z"
   },
   {
    "duration": 27,
    "start_time": "2022-12-04T10:07:25.785Z"
   },
   {
    "duration": 22,
    "start_time": "2022-12-04T10:07:25.814Z"
   },
   {
    "duration": 16,
    "start_time": "2022-12-04T10:07:25.838Z"
   },
   {
    "duration": 1192,
    "start_time": "2022-12-04T10:07:25.855Z"
   },
   {
    "duration": 2045,
    "start_time": "2022-12-04T10:07:27.049Z"
   },
   {
    "duration": 9,
    "start_time": "2022-12-04T10:07:29.096Z"
   },
   {
    "duration": 778,
    "start_time": "2022-12-04T10:07:29.107Z"
   },
   {
    "duration": 1528,
    "start_time": "2022-12-04T11:01:58.798Z"
   },
   {
    "duration": 2752,
    "start_time": "2022-12-04T11:02:00.328Z"
   },
   {
    "duration": 133,
    "start_time": "2022-12-04T11:02:03.081Z"
   },
   {
    "duration": 14,
    "start_time": "2022-12-04T11:02:03.216Z"
   },
   {
    "duration": 109,
    "start_time": "2022-12-04T11:02:03.232Z"
   },
   {
    "duration": 432,
    "start_time": "2022-12-04T11:02:03.342Z"
   },
   {
    "duration": 4,
    "start_time": "2022-12-04T11:02:03.776Z"
   },
   {
    "duration": 7,
    "start_time": "2022-12-04T11:02:03.783Z"
   },
   {
    "duration": 305,
    "start_time": "2022-12-04T11:02:03.792Z"
   },
   {
    "duration": 17,
    "start_time": "2022-12-04T11:02:04.105Z"
   },
   {
    "duration": 48,
    "start_time": "2022-12-04T11:02:04.123Z"
   },
   {
    "duration": 35,
    "start_time": "2022-12-04T11:02:04.173Z"
   },
   {
    "duration": 21,
    "start_time": "2022-12-04T11:02:04.210Z"
   },
   {
    "duration": 27,
    "start_time": "2022-12-04T11:02:04.233Z"
   },
   {
    "duration": 13,
    "start_time": "2022-12-04T11:02:04.262Z"
   },
   {
    "duration": 40,
    "start_time": "2022-12-04T11:02:04.277Z"
   },
   {
    "duration": 45,
    "start_time": "2022-12-04T11:02:04.319Z"
   },
   {
    "duration": 20,
    "start_time": "2022-12-04T11:02:04.365Z"
   },
   {
    "duration": 11,
    "start_time": "2022-12-04T11:02:04.404Z"
   },
   {
    "duration": 19,
    "start_time": "2022-12-04T11:02:04.417Z"
   },
   {
    "duration": 42,
    "start_time": "2022-12-04T11:02:04.437Z"
   },
   {
    "duration": 31,
    "start_time": "2022-12-04T11:02:04.481Z"
   },
   {
    "duration": 16,
    "start_time": "2022-12-04T11:02:04.514Z"
   },
   {
    "duration": 58,
    "start_time": "2022-12-04T11:02:04.532Z"
   },
   {
    "duration": 27,
    "start_time": "2022-12-04T11:02:04.591Z"
   },
   {
    "duration": 12,
    "start_time": "2022-12-04T11:02:04.620Z"
   },
   {
    "duration": 15,
    "start_time": "2022-12-04T11:02:04.633Z"
   },
   {
    "duration": 470,
    "start_time": "2022-12-04T11:02:04.652Z"
   },
   {
    "duration": 480,
    "start_time": "2022-12-04T11:02:05.124Z"
   },
   {
    "duration": 20,
    "start_time": "2022-12-04T11:02:05.606Z"
   },
   {
    "duration": 277,
    "start_time": "2022-12-04T11:02:05.628Z"
   },
   {
    "duration": 26,
    "start_time": "2022-12-04T11:02:05.907Z"
   },
   {
    "duration": 170,
    "start_time": "2022-12-04T11:02:05.935Z"
   },
   {
    "duration": 449,
    "start_time": "2022-12-04T11:02:06.107Z"
   },
   {
    "duration": 9,
    "start_time": "2022-12-04T11:02:06.558Z"
   },
   {
    "duration": 64,
    "start_time": "2022-12-04T11:02:06.569Z"
   },
   {
    "duration": 169,
    "start_time": "2022-12-04T11:02:06.635Z"
   },
   {
    "duration": 10,
    "start_time": "2022-12-04T11:02:06.806Z"
   },
   {
    "duration": 51,
    "start_time": "2022-12-04T11:02:06.818Z"
   },
   {
    "duration": 15,
    "start_time": "2022-12-04T11:02:06.871Z"
   },
   {
    "duration": 22,
    "start_time": "2022-12-04T11:02:06.888Z"
   },
   {
    "duration": 45,
    "start_time": "2022-12-04T11:02:06.911Z"
   },
   {
    "duration": 9,
    "start_time": "2022-12-04T11:02:06.957Z"
   },
   {
    "duration": 52,
    "start_time": "2022-12-04T11:02:06.967Z"
   },
   {
    "duration": 5,
    "start_time": "2022-12-04T11:02:07.021Z"
   },
   {
    "duration": 255,
    "start_time": "2022-12-04T11:02:07.027Z"
   },
   {
    "duration": 24,
    "start_time": "2022-12-04T11:02:07.283Z"
   },
   {
    "duration": 10,
    "start_time": "2022-12-04T11:02:07.309Z"
   },
   {
    "duration": 68,
    "start_time": "2022-12-04T11:02:07.321Z"
   },
   {
    "duration": 37,
    "start_time": "2022-12-04T11:02:07.391Z"
   },
   {
    "duration": 22,
    "start_time": "2022-12-04T11:02:07.430Z"
   },
   {
    "duration": 110,
    "start_time": "2022-12-04T11:02:07.454Z"
   },
   {
    "duration": 110,
    "start_time": "2022-12-04T11:02:07.566Z"
   },
   {
    "duration": 61,
    "start_time": "2022-12-04T11:02:07.678Z"
   },
   {
    "duration": 28,
    "start_time": "2022-12-04T11:02:07.741Z"
   },
   {
    "duration": 7,
    "start_time": "2022-12-04T11:02:07.771Z"
   },
   {
    "duration": 5,
    "start_time": "2022-12-04T11:02:07.780Z"
   },
   {
    "duration": 16,
    "start_time": "2022-12-04T11:02:07.805Z"
   },
   {
    "duration": 38,
    "start_time": "2022-12-04T11:02:07.823Z"
   },
   {
    "duration": 15,
    "start_time": "2022-12-04T11:02:07.863Z"
   },
   {
    "duration": 38,
    "start_time": "2022-12-04T11:02:07.880Z"
   },
   {
    "duration": 158,
    "start_time": "2022-12-04T11:02:07.919Z"
   },
   {
    "duration": 12,
    "start_time": "2022-12-04T11:02:08.078Z"
   },
   {
    "duration": 164,
    "start_time": "2022-12-04T11:02:08.104Z"
   },
   {
    "duration": 107,
    "start_time": "2022-12-04T11:02:08.269Z"
   },
   {
    "duration": 5,
    "start_time": "2022-12-04T11:02:08.378Z"
   },
   {
    "duration": 32,
    "start_time": "2022-12-04T11:02:08.385Z"
   },
   {
    "duration": 25,
    "start_time": "2022-12-04T11:02:08.419Z"
   },
   {
    "duration": 10,
    "start_time": "2022-12-04T11:02:08.446Z"
   },
   {
    "duration": 97,
    "start_time": "2022-12-04T11:02:08.458Z"
   },
   {
    "duration": 2,
    "start_time": "2022-12-04T11:02:08.557Z"
   },
   {
    "duration": 78,
    "start_time": "2022-12-04T11:02:08.561Z"
   },
   {
    "duration": 7,
    "start_time": "2022-12-04T11:02:08.640Z"
   },
   {
    "duration": 6,
    "start_time": "2022-12-04T11:02:08.649Z"
   },
   {
    "duration": 6,
    "start_time": "2022-12-04T11:02:08.657Z"
   },
   {
    "duration": 10,
    "start_time": "2022-12-04T11:02:08.664Z"
   },
   {
    "duration": 1191,
    "start_time": "2022-12-04T11:02:08.675Z"
   },
   {
    "duration": 2193,
    "start_time": "2022-12-04T11:02:09.868Z"
   },
   {
    "duration": 3,
    "start_time": "2022-12-04T11:02:12.063Z"
   },
   {
    "duration": 925,
    "start_time": "2022-12-04T11:02:12.068Z"
   },
   {
    "duration": 1594,
    "start_time": "2022-12-04T11:50:56.217Z"
   },
   {
    "duration": 2927,
    "start_time": "2022-12-04T11:50:57.813Z"
   },
   {
    "duration": 135,
    "start_time": "2022-12-04T11:51:00.742Z"
   },
   {
    "duration": 30,
    "start_time": "2022-12-04T11:51:00.880Z"
   },
   {
    "duration": 104,
    "start_time": "2022-12-04T11:51:00.911Z"
   },
   {
    "duration": 463,
    "start_time": "2022-12-04T11:51:01.017Z"
   },
   {
    "duration": 4,
    "start_time": "2022-12-04T11:51:01.482Z"
   },
   {
    "duration": 49,
    "start_time": "2022-12-04T11:51:01.488Z"
   },
   {
    "duration": 353,
    "start_time": "2022-12-04T11:51:01.540Z"
   },
   {
    "duration": 19,
    "start_time": "2022-12-04T11:51:01.904Z"
   },
   {
    "duration": 57,
    "start_time": "2022-12-04T11:51:01.924Z"
   },
   {
    "duration": 31,
    "start_time": "2022-12-04T11:51:01.983Z"
   },
   {
    "duration": 23,
    "start_time": "2022-12-04T11:51:02.016Z"
   },
   {
    "duration": 42,
    "start_time": "2022-12-04T11:51:02.040Z"
   },
   {
    "duration": 17,
    "start_time": "2022-12-04T11:51:02.083Z"
   },
   {
    "duration": 32,
    "start_time": "2022-12-04T11:51:02.102Z"
   },
   {
    "duration": 105,
    "start_time": "2022-12-04T11:51:02.136Z"
   },
   {
    "duration": 30,
    "start_time": "2022-12-04T11:51:02.243Z"
   },
   {
    "duration": 30,
    "start_time": "2022-12-04T11:51:02.275Z"
   },
   {
    "duration": 28,
    "start_time": "2022-12-04T11:51:02.308Z"
   },
   {
    "duration": 57,
    "start_time": "2022-12-04T11:51:02.338Z"
   },
   {
    "duration": 34,
    "start_time": "2022-12-04T11:51:02.396Z"
   },
   {
    "duration": 36,
    "start_time": "2022-12-04T11:51:02.432Z"
   },
   {
    "duration": 59,
    "start_time": "2022-12-04T11:51:02.469Z"
   },
   {
    "duration": 20,
    "start_time": "2022-12-04T11:51:02.530Z"
   },
   {
    "duration": 13,
    "start_time": "2022-12-04T11:51:02.552Z"
   },
   {
    "duration": 15,
    "start_time": "2022-12-04T11:51:02.567Z"
   },
   {
    "duration": 424,
    "start_time": "2022-12-04T11:51:02.607Z"
   },
   {
    "duration": 487,
    "start_time": "2022-12-04T11:51:03.033Z"
   },
   {
    "duration": 20,
    "start_time": "2022-12-04T11:51:03.521Z"
   },
   {
    "duration": 290,
    "start_time": "2022-12-04T11:51:03.542Z"
   },
   {
    "duration": 27,
    "start_time": "2022-12-04T11:51:03.834Z"
   },
   {
    "duration": 157,
    "start_time": "2022-12-04T11:51:03.862Z"
   },
   {
    "duration": 473,
    "start_time": "2022-12-04T11:51:04.021Z"
   },
   {
    "duration": 15,
    "start_time": "2022-12-04T11:51:04.497Z"
   },
   {
    "duration": 53,
    "start_time": "2022-12-04T11:51:04.514Z"
   },
   {
    "duration": 197,
    "start_time": "2022-12-04T11:51:04.570Z"
   },
   {
    "duration": 10,
    "start_time": "2022-12-04T11:51:04.769Z"
   },
   {
    "duration": 66,
    "start_time": "2022-12-04T11:51:04.781Z"
   },
   {
    "duration": 18,
    "start_time": "2022-12-04T11:51:04.848Z"
   },
   {
    "duration": 9,
    "start_time": "2022-12-04T11:51:04.868Z"
   },
   {
    "duration": 65,
    "start_time": "2022-12-04T11:51:04.878Z"
   },
   {
    "duration": 11,
    "start_time": "2022-12-04T11:51:04.945Z"
   },
   {
    "duration": 84,
    "start_time": "2022-12-04T11:51:04.958Z"
   },
   {
    "duration": 6,
    "start_time": "2022-12-04T11:51:05.044Z"
   },
   {
    "duration": 276,
    "start_time": "2022-12-04T11:51:05.052Z"
   },
   {
    "duration": 21,
    "start_time": "2022-12-04T11:51:05.330Z"
   },
   {
    "duration": 11,
    "start_time": "2022-12-04T11:51:05.353Z"
   },
   {
    "duration": 64,
    "start_time": "2022-12-04T11:51:05.367Z"
   },
   {
    "duration": 15,
    "start_time": "2022-12-04T11:51:05.433Z"
   },
   {
    "duration": 15,
    "start_time": "2022-12-04T11:51:05.450Z"
   },
   {
    "duration": 107,
    "start_time": "2022-12-04T11:51:05.467Z"
   },
   {
    "duration": 135,
    "start_time": "2022-12-04T11:51:05.576Z"
   },
   {
    "duration": 58,
    "start_time": "2022-12-04T11:51:05.713Z"
   },
   {
    "duration": 49,
    "start_time": "2022-12-04T11:51:05.773Z"
   },
   {
    "duration": 11,
    "start_time": "2022-12-04T11:51:05.824Z"
   },
   {
    "duration": 6,
    "start_time": "2022-12-04T11:51:05.837Z"
   },
   {
    "duration": 21,
    "start_time": "2022-12-04T11:51:05.844Z"
   },
   {
    "duration": 74,
    "start_time": "2022-12-04T11:51:05.866Z"
   },
   {
    "duration": 17,
    "start_time": "2022-12-04T11:51:05.942Z"
   },
   {
    "duration": 15,
    "start_time": "2022-12-04T11:51:05.961Z"
   },
   {
    "duration": 196,
    "start_time": "2022-12-04T11:51:05.978Z"
   },
   {
    "duration": 15,
    "start_time": "2022-12-04T11:51:06.176Z"
   },
   {
    "duration": 161,
    "start_time": "2022-12-04T11:51:06.204Z"
   },
   {
    "duration": 130,
    "start_time": "2022-12-04T11:51:06.368Z"
   },
   {
    "duration": 9,
    "start_time": "2022-12-04T11:51:06.500Z"
   },
   {
    "duration": 18,
    "start_time": "2022-12-04T11:51:06.511Z"
   },
   {
    "duration": 18,
    "start_time": "2022-12-04T11:51:06.532Z"
   },
   {
    "duration": 4,
    "start_time": "2022-12-04T11:51:06.552Z"
   },
   {
    "duration": 104,
    "start_time": "2022-12-04T11:51:06.558Z"
   },
   {
    "duration": 3,
    "start_time": "2022-12-04T11:51:06.664Z"
   },
   {
    "duration": 87,
    "start_time": "2022-12-04T11:51:06.669Z"
   },
   {
    "duration": 7,
    "start_time": "2022-12-04T11:51:06.758Z"
   },
   {
    "duration": 9,
    "start_time": "2022-12-04T11:51:06.766Z"
   },
   {
    "duration": 7,
    "start_time": "2022-12-04T11:51:06.776Z"
   },
   {
    "duration": 21,
    "start_time": "2022-12-04T11:51:06.784Z"
   },
   {
    "duration": 1225,
    "start_time": "2022-12-04T11:51:06.807Z"
   },
   {
    "duration": 3700,
    "start_time": "2022-12-04T11:51:08.034Z"
   },
   {
    "duration": 5,
    "start_time": "2022-12-04T11:51:11.737Z"
   },
   {
    "duration": 1209,
    "start_time": "2022-12-04T11:51:11.744Z"
   },
   {
    "duration": 1741,
    "start_time": "2022-12-04T21:03:30.791Z"
   },
   {
    "duration": 1083,
    "start_time": "2022-12-04T21:03:32.536Z"
   },
   {
    "duration": 109,
    "start_time": "2022-12-04T21:03:33.621Z"
   },
   {
    "duration": 25,
    "start_time": "2022-12-04T21:03:33.731Z"
   },
   {
    "duration": 176,
    "start_time": "2022-12-04T21:03:33.759Z"
   },
   {
    "duration": 615,
    "start_time": "2022-12-04T21:03:33.937Z"
   },
   {
    "duration": 4,
    "start_time": "2022-12-04T21:03:34.554Z"
   },
   {
    "duration": 19,
    "start_time": "2022-12-04T21:03:34.560Z"
   },
   {
    "duration": 376,
    "start_time": "2022-12-04T21:03:34.581Z"
   },
   {
    "duration": 26,
    "start_time": "2022-12-04T21:03:34.959Z"
   },
   {
    "duration": 62,
    "start_time": "2022-12-04T21:03:34.987Z"
   },
   {
    "duration": 21,
    "start_time": "2022-12-04T21:03:35.051Z"
   },
   {
    "duration": 15,
    "start_time": "2022-12-04T21:03:35.074Z"
   },
   {
    "duration": 30,
    "start_time": "2022-12-04T21:03:35.125Z"
   },
   {
    "duration": 15,
    "start_time": "2022-12-04T21:03:35.156Z"
   },
   {
    "duration": 26,
    "start_time": "2022-12-04T21:03:35.172Z"
   },
   {
    "duration": 61,
    "start_time": "2022-12-04T21:03:35.199Z"
   },
   {
    "duration": 19,
    "start_time": "2022-12-04T21:03:35.261Z"
   },
   {
    "duration": 14,
    "start_time": "2022-12-04T21:03:35.281Z"
   },
   {
    "duration": 37,
    "start_time": "2022-12-04T21:03:35.297Z"
   },
   {
    "duration": 49,
    "start_time": "2022-12-04T21:03:35.336Z"
   },
   {
    "duration": 19,
    "start_time": "2022-12-04T21:03:35.386Z"
   },
   {
    "duration": 39,
    "start_time": "2022-12-04T21:03:35.407Z"
   },
   {
    "duration": 61,
    "start_time": "2022-12-04T21:03:35.448Z"
   },
   {
    "duration": 35,
    "start_time": "2022-12-04T21:03:35.511Z"
   },
   {
    "duration": 27,
    "start_time": "2022-12-04T21:03:35.548Z"
   },
   {
    "duration": 35,
    "start_time": "2022-12-04T21:03:35.576Z"
   },
   {
    "duration": 482,
    "start_time": "2022-12-04T21:03:35.623Z"
   },
   {
    "duration": 559,
    "start_time": "2022-12-04T21:03:36.107Z"
   },
   {
    "duration": 23,
    "start_time": "2022-12-04T21:03:36.668Z"
   },
   {
    "duration": 354,
    "start_time": "2022-12-04T21:03:36.694Z"
   },
   {
    "duration": 26,
    "start_time": "2022-12-04T21:03:37.049Z"
   },
   {
    "duration": 168,
    "start_time": "2022-12-04T21:03:37.077Z"
   },
   {
    "duration": 423,
    "start_time": "2022-12-04T21:03:37.246Z"
   },
   {
    "duration": 11,
    "start_time": "2022-12-04T21:03:37.671Z"
   },
   {
    "duration": 69,
    "start_time": "2022-12-04T21:03:37.683Z"
   },
   {
    "duration": 184,
    "start_time": "2022-12-04T21:03:37.754Z"
   },
   {
    "duration": 11,
    "start_time": "2022-12-04T21:03:37.940Z"
   },
   {
    "duration": 65,
    "start_time": "2022-12-04T21:03:37.953Z"
   },
   {
    "duration": 19,
    "start_time": "2022-12-04T21:03:38.024Z"
   },
   {
    "duration": 9,
    "start_time": "2022-12-04T21:03:38.048Z"
   },
   {
    "duration": 67,
    "start_time": "2022-12-04T21:03:38.059Z"
   },
   {
    "duration": 11,
    "start_time": "2022-12-04T21:03:38.129Z"
   },
   {
    "duration": 56,
    "start_time": "2022-12-04T21:03:38.142Z"
   },
   {
    "duration": 13,
    "start_time": "2022-12-04T21:03:38.200Z"
   },
   {
    "duration": 370,
    "start_time": "2022-12-04T21:03:38.215Z"
   },
   {
    "duration": 40,
    "start_time": "2022-12-04T21:03:38.587Z"
   },
   {
    "duration": 9,
    "start_time": "2022-12-04T21:03:38.628Z"
   },
   {
    "duration": 41,
    "start_time": "2022-12-04T21:03:38.639Z"
   },
   {
    "duration": 14,
    "start_time": "2022-12-04T21:03:38.682Z"
   },
   {
    "duration": 33,
    "start_time": "2022-12-04T21:03:38.697Z"
   },
   {
    "duration": 96,
    "start_time": "2022-12-04T21:03:38.731Z"
   },
   {
    "duration": 117,
    "start_time": "2022-12-04T21:03:38.830Z"
   },
   {
    "duration": 64,
    "start_time": "2022-12-04T21:03:38.949Z"
   },
   {
    "duration": 38,
    "start_time": "2022-12-04T21:03:39.015Z"
   },
   {
    "duration": 8,
    "start_time": "2022-12-04T21:03:39.054Z"
   },
   {
    "duration": 7,
    "start_time": "2022-12-04T21:03:39.063Z"
   },
   {
    "duration": 41,
    "start_time": "2022-12-04T21:03:39.072Z"
   },
   {
    "duration": 53,
    "start_time": "2022-12-04T21:03:39.115Z"
   },
   {
    "duration": 20,
    "start_time": "2022-12-04T21:03:39.171Z"
   },
   {
    "duration": 32,
    "start_time": "2022-12-04T21:03:39.194Z"
   },
   {
    "duration": 210,
    "start_time": "2022-12-04T21:03:39.231Z"
   },
   {
    "duration": 13,
    "start_time": "2022-12-04T21:03:39.442Z"
   },
   {
    "duration": 184,
    "start_time": "2022-12-04T21:03:39.457Z"
   },
   {
    "duration": 117,
    "start_time": "2022-12-04T21:03:39.643Z"
   },
   {
    "duration": 6,
    "start_time": "2022-12-04T21:03:39.761Z"
   },
   {
    "duration": 53,
    "start_time": "2022-12-04T21:03:39.769Z"
   },
   {
    "duration": 28,
    "start_time": "2022-12-04T21:03:39.825Z"
   },
   {
    "duration": 7,
    "start_time": "2022-12-04T21:03:39.855Z"
   },
   {
    "duration": 99,
    "start_time": "2022-12-04T21:03:39.863Z"
   },
   {
    "duration": 3,
    "start_time": "2022-12-04T21:03:39.964Z"
   },
   {
    "duration": 82,
    "start_time": "2022-12-04T21:03:39.969Z"
   },
   {
    "duration": 7,
    "start_time": "2022-12-04T21:03:40.053Z"
   },
   {
    "duration": 7,
    "start_time": "2022-12-04T21:03:40.063Z"
   },
   {
    "duration": 10,
    "start_time": "2022-12-04T21:03:40.072Z"
   },
   {
    "duration": 9,
    "start_time": "2022-12-04T21:03:40.084Z"
   },
   {
    "duration": 1258,
    "start_time": "2022-12-04T21:03:40.095Z"
   },
   {
    "duration": 2434,
    "start_time": "2022-12-04T21:03:41.355Z"
   },
   {
    "duration": 5,
    "start_time": "2022-12-04T21:03:43.791Z"
   },
   {
    "duration": 850,
    "start_time": "2022-12-04T21:03:43.798Z"
   },
   {
    "duration": 1434,
    "start_time": "2022-12-04T21:03:44.649Z"
   },
   {
    "duration": 1784,
    "start_time": "2022-12-05T18:36:48.442Z"
   },
   {
    "duration": 3443,
    "start_time": "2022-12-05T18:37:39.788Z"
   },
   {
    "duration": 4,
    "start_time": "2022-12-05T18:39:38.277Z"
   },
   {
    "duration": 981,
    "start_time": "2022-12-05T18:39:38.283Z"
   },
   {
    "duration": 136,
    "start_time": "2022-12-05T18:39:39.266Z"
   },
   {
    "duration": 33,
    "start_time": "2022-12-05T18:39:39.404Z"
   },
   {
    "duration": 111,
    "start_time": "2022-12-05T18:39:39.440Z"
   },
   {
    "duration": 485,
    "start_time": "2022-12-05T18:39:39.553Z"
   },
   {
    "duration": 3,
    "start_time": "2022-12-05T18:39:40.040Z"
   },
   {
    "duration": 11,
    "start_time": "2022-12-05T18:39:40.045Z"
   },
   {
    "duration": 283,
    "start_time": "2022-12-05T18:39:40.058Z"
   },
   {
    "duration": 16,
    "start_time": "2022-12-05T18:39:40.342Z"
   },
   {
    "duration": 47,
    "start_time": "2022-12-05T18:39:40.360Z"
   },
   {
    "duration": 39,
    "start_time": "2022-12-05T18:39:40.409Z"
   },
   {
    "duration": 18,
    "start_time": "2022-12-05T18:39:40.450Z"
   },
   {
    "duration": 23,
    "start_time": "2022-12-05T18:39:40.469Z"
   },
   {
    "duration": 15,
    "start_time": "2022-12-05T18:39:40.493Z"
   },
   {
    "duration": 48,
    "start_time": "2022-12-05T18:39:40.510Z"
   },
   {
    "duration": 52,
    "start_time": "2022-12-05T18:39:40.560Z"
   },
   {
    "duration": 29,
    "start_time": "2022-12-05T18:39:40.614Z"
   },
   {
    "duration": 11,
    "start_time": "2022-12-05T18:39:40.645Z"
   },
   {
    "duration": 24,
    "start_time": "2022-12-05T18:39:40.658Z"
   },
   {
    "duration": 65,
    "start_time": "2022-12-05T18:39:40.684Z"
   },
   {
    "duration": 23,
    "start_time": "2022-12-05T18:39:40.751Z"
   },
   {
    "duration": 19,
    "start_time": "2022-12-05T18:39:40.777Z"
   },
   {
    "duration": 66,
    "start_time": "2022-12-05T18:39:40.797Z"
   },
   {
    "duration": 20,
    "start_time": "2022-12-05T18:39:40.865Z"
   },
   {
    "duration": 11,
    "start_time": "2022-12-05T18:39:40.886Z"
   },
   {
    "duration": 14,
    "start_time": "2022-12-05T18:39:40.899Z"
   },
   {
    "duration": 483,
    "start_time": "2022-12-05T18:39:40.915Z"
   },
   {
    "duration": 504,
    "start_time": "2022-12-05T18:39:41.401Z"
   },
   {
    "duration": 30,
    "start_time": "2022-12-05T18:39:41.907Z"
   },
   {
    "duration": 255,
    "start_time": "2022-12-05T18:39:41.939Z"
   },
   {
    "duration": 27,
    "start_time": "2022-12-05T18:39:42.196Z"
   },
   {
    "duration": 165,
    "start_time": "2022-12-05T18:39:42.225Z"
   },
   {
    "duration": 494,
    "start_time": "2022-12-05T18:39:42.392Z"
   },
   {
    "duration": 11,
    "start_time": "2022-12-05T18:39:42.887Z"
   },
   {
    "duration": 67,
    "start_time": "2022-12-05T18:39:42.900Z"
   },
   {
    "duration": 193,
    "start_time": "2022-12-05T18:39:42.969Z"
   },
   {
    "duration": 11,
    "start_time": "2022-12-05T18:39:43.164Z"
   },
   {
    "duration": 61,
    "start_time": "2022-12-05T18:39:43.176Z"
   },
   {
    "duration": 18,
    "start_time": "2022-12-05T18:39:43.239Z"
   },
   {
    "duration": 92,
    "start_time": "2022-12-05T18:39:55.890Z"
   },
   {
    "duration": 120,
    "start_time": "2022-12-05T18:43:26.439Z"
   },
   {
    "duration": 5,
    "start_time": "2022-12-05T18:48:01.916Z"
   },
   {
    "duration": 852,
    "start_time": "2022-12-05T18:48:01.942Z"
   },
   {
    "duration": 145,
    "start_time": "2022-12-05T18:48:02.797Z"
   },
   {
    "duration": 14,
    "start_time": "2022-12-05T18:48:02.944Z"
   },
   {
    "duration": 183,
    "start_time": "2022-12-05T18:48:02.960Z"
   },
   {
    "duration": 442,
    "start_time": "2022-12-05T18:48:03.144Z"
   },
   {
    "duration": 4,
    "start_time": "2022-12-05T18:48:03.587Z"
   },
   {
    "duration": 8,
    "start_time": "2022-12-05T18:48:03.592Z"
   },
   {
    "duration": 318,
    "start_time": "2022-12-05T18:48:03.602Z"
   },
   {
    "duration": 27,
    "start_time": "2022-12-05T18:48:03.922Z"
   },
   {
    "duration": 62,
    "start_time": "2022-12-05T18:48:03.952Z"
   },
   {
    "duration": 27,
    "start_time": "2022-12-05T18:48:04.016Z"
   },
   {
    "duration": 23,
    "start_time": "2022-12-05T18:48:04.045Z"
   },
   {
    "duration": 30,
    "start_time": "2022-12-05T18:48:04.070Z"
   },
   {
    "duration": 23,
    "start_time": "2022-12-05T18:48:04.102Z"
   },
   {
    "duration": 25,
    "start_time": "2022-12-05T18:48:04.127Z"
   },
   {
    "duration": 61,
    "start_time": "2022-12-05T18:48:04.154Z"
   },
   {
    "duration": 24,
    "start_time": "2022-12-05T18:48:04.218Z"
   },
   {
    "duration": 11,
    "start_time": "2022-12-05T18:48:04.244Z"
   },
   {
    "duration": 19,
    "start_time": "2022-12-05T18:48:04.257Z"
   },
   {
    "duration": 61,
    "start_time": "2022-12-05T18:48:04.277Z"
   },
   {
    "duration": 22,
    "start_time": "2022-12-05T18:48:04.341Z"
   },
   {
    "duration": 19,
    "start_time": "2022-12-05T18:48:04.364Z"
   },
   {
    "duration": 71,
    "start_time": "2022-12-05T18:48:04.384Z"
   },
   {
    "duration": 20,
    "start_time": "2022-12-05T18:48:04.457Z"
   },
   {
    "duration": 12,
    "start_time": "2022-12-05T18:48:04.479Z"
   },
   {
    "duration": 16,
    "start_time": "2022-12-05T18:48:04.492Z"
   },
   {
    "duration": 428,
    "start_time": "2022-12-05T18:48:04.510Z"
   },
   {
    "duration": 443,
    "start_time": "2022-12-05T18:48:04.942Z"
   },
   {
    "duration": 18,
    "start_time": "2022-12-05T18:48:05.387Z"
   },
   {
    "duration": 235,
    "start_time": "2022-12-05T18:48:05.407Z"
   },
   {
    "duration": 96,
    "start_time": "2022-12-05T18:48:05.644Z"
   },
   {
    "duration": 499,
    "start_time": "2022-12-05T18:48:05.742Z"
   },
   {
    "duration": 10,
    "start_time": "2022-12-05T18:48:06.242Z"
   },
   {
    "duration": 48,
    "start_time": "2022-12-05T18:48:06.254Z"
   },
   {
    "duration": 181,
    "start_time": "2022-12-05T18:48:06.303Z"
   },
   {
    "duration": 10,
    "start_time": "2022-12-05T18:48:06.486Z"
   },
   {
    "duration": 66,
    "start_time": "2022-12-05T18:48:06.498Z"
   },
   {
    "duration": 16,
    "start_time": "2022-12-05T18:48:06.566Z"
   },
   {
    "duration": 33,
    "start_time": "2022-12-05T18:48:06.584Z"
   },
   {
    "duration": 38,
    "start_time": "2022-12-05T18:48:57.713Z"
   },
   {
    "duration": 54,
    "start_time": "2022-12-05T18:49:16.242Z"
   },
   {
    "duration": 1200,
    "start_time": "2022-12-05T18:50:36.157Z"
   },
   {
    "duration": 60,
    "start_time": "2022-12-05T18:50:57.876Z"
   },
   {
    "duration": 5,
    "start_time": "2022-12-05T18:51:45.173Z"
   },
   {
    "duration": 75,
    "start_time": "2022-12-05T18:52:35.353Z"
   },
   {
    "duration": 9,
    "start_time": "2022-12-05T18:54:29.302Z"
   },
   {
    "duration": 58,
    "start_time": "2022-12-05T18:54:30.210Z"
   },
   {
    "duration": 5,
    "start_time": "2022-12-05T18:54:30.860Z"
   },
   {
    "duration": 203,
    "start_time": "2022-12-05T18:54:31.811Z"
   },
   {
    "duration": 5,
    "start_time": "2022-12-05T19:10:21.771Z"
   },
   {
    "duration": 879,
    "start_time": "2022-12-05T19:10:21.778Z"
   },
   {
    "duration": 140,
    "start_time": "2022-12-05T19:10:22.659Z"
   },
   {
    "duration": 12,
    "start_time": "2022-12-05T19:10:22.801Z"
   },
   {
    "duration": 109,
    "start_time": "2022-12-05T19:10:22.816Z"
   },
   {
    "duration": 441,
    "start_time": "2022-12-05T19:10:22.926Z"
   },
   {
    "duration": 3,
    "start_time": "2022-12-05T19:10:23.368Z"
   },
   {
    "duration": 9,
    "start_time": "2022-12-05T19:10:23.373Z"
   },
   {
    "duration": 301,
    "start_time": "2022-12-05T19:10:23.384Z"
   },
   {
    "duration": 19,
    "start_time": "2022-12-05T19:10:23.686Z"
   },
   {
    "duration": 62,
    "start_time": "2022-12-05T19:10:23.706Z"
   },
   {
    "duration": 20,
    "start_time": "2022-12-05T19:10:23.770Z"
   },
   {
    "duration": 30,
    "start_time": "2022-12-05T19:10:23.793Z"
   },
   {
    "duration": 41,
    "start_time": "2022-12-05T19:10:23.825Z"
   },
   {
    "duration": 20,
    "start_time": "2022-12-05T19:10:23.867Z"
   },
   {
    "duration": 33,
    "start_time": "2022-12-05T19:10:23.889Z"
   },
   {
    "duration": 53,
    "start_time": "2022-12-05T19:10:23.923Z"
   },
   {
    "duration": 25,
    "start_time": "2022-12-05T19:10:23.978Z"
   },
   {
    "duration": 32,
    "start_time": "2022-12-05T19:10:24.005Z"
   },
   {
    "duration": 23,
    "start_time": "2022-12-05T19:10:24.040Z"
   },
   {
    "duration": 44,
    "start_time": "2022-12-05T19:10:24.065Z"
   },
   {
    "duration": 52,
    "start_time": "2022-12-05T19:10:24.111Z"
   },
   {
    "duration": 26,
    "start_time": "2022-12-05T19:10:24.165Z"
   },
   {
    "duration": 28,
    "start_time": "2022-12-05T19:10:24.194Z"
   },
   {
    "duration": 65,
    "start_time": "2022-12-05T19:10:24.224Z"
   },
   {
    "duration": 24,
    "start_time": "2022-12-05T19:10:24.292Z"
   },
   {
    "duration": 22,
    "start_time": "2022-12-05T19:10:24.318Z"
   },
   {
    "duration": 14,
    "start_time": "2022-12-05T19:10:24.342Z"
   },
   {
    "duration": 427,
    "start_time": "2022-12-05T19:10:24.358Z"
   },
   {
    "duration": 440,
    "start_time": "2022-12-05T19:10:24.787Z"
   },
   {
    "duration": 25,
    "start_time": "2022-12-05T19:10:25.229Z"
   },
   {
    "duration": 283,
    "start_time": "2022-12-05T19:10:25.257Z"
   },
   {
    "duration": 106,
    "start_time": "2022-12-05T19:10:25.544Z"
   },
   {
    "duration": 516,
    "start_time": "2022-12-05T19:10:25.652Z"
   },
   {
    "duration": 12,
    "start_time": "2022-12-05T19:10:26.170Z"
   },
   {
    "duration": 70,
    "start_time": "2022-12-05T19:10:26.184Z"
   },
   {
    "duration": 188,
    "start_time": "2022-12-05T19:10:26.260Z"
   },
   {
    "duration": 11,
    "start_time": "2022-12-05T19:10:26.450Z"
   },
   {
    "duration": 41,
    "start_time": "2022-12-05T19:10:26.462Z"
   },
   {
    "duration": 37,
    "start_time": "2022-12-05T19:10:26.505Z"
   },
   {
    "duration": 51,
    "start_time": "2022-12-05T19:10:26.544Z"
   },
   {
    "duration": 97,
    "start_time": "2022-12-05T19:10:26.597Z"
   },
   {
    "duration": 12,
    "start_time": "2022-12-05T19:10:26.696Z"
   },
   {
    "duration": 57,
    "start_time": "2022-12-05T19:10:26.710Z"
   },
   {
    "duration": 5,
    "start_time": "2022-12-05T19:10:26.768Z"
   },
   {
    "duration": 204,
    "start_time": "2022-12-05T19:10:26.774Z"
   },
   {
    "duration": 15,
    "start_time": "2022-12-05T19:10:26.980Z"
   },
   {
    "duration": 8,
    "start_time": "2022-12-05T19:10:26.996Z"
   },
   {
    "duration": 55,
    "start_time": "2022-12-05T19:10:27.005Z"
   },
   {
    "duration": 16,
    "start_time": "2022-12-05T19:10:27.061Z"
   },
   {
    "duration": 15,
    "start_time": "2022-12-05T19:10:27.078Z"
   },
   {
    "duration": 107,
    "start_time": "2022-12-05T19:10:27.095Z"
   },
   {
    "duration": 120,
    "start_time": "2022-12-05T19:10:27.203Z"
   },
   {
    "duration": 66,
    "start_time": "2022-12-05T19:10:27.325Z"
   },
   {
    "duration": 45,
    "start_time": "2022-12-05T19:10:27.392Z"
   },
   {
    "duration": 9,
    "start_time": "2022-12-05T19:10:27.439Z"
   },
   {
    "duration": 8,
    "start_time": "2022-12-05T19:10:27.450Z"
   },
   {
    "duration": 26,
    "start_time": "2022-12-05T19:10:27.460Z"
   },
   {
    "duration": 60,
    "start_time": "2022-12-05T19:10:27.488Z"
   },
   {
    "duration": 18,
    "start_time": "2022-12-05T19:10:27.549Z"
   },
   {
    "duration": 15,
    "start_time": "2022-12-05T19:10:27.568Z"
   },
   {
    "duration": 193,
    "start_time": "2022-12-05T19:10:27.585Z"
   },
   {
    "duration": 13,
    "start_time": "2022-12-05T19:10:27.780Z"
   },
   {
    "duration": 197,
    "start_time": "2022-12-05T19:10:27.795Z"
   },
   {
    "duration": 72,
    "start_time": "2022-12-05T19:10:27.993Z"
   },
   {
    "duration": 6,
    "start_time": "2022-12-05T19:10:28.066Z"
   },
   {
    "duration": 22,
    "start_time": "2022-12-05T19:10:28.073Z"
   },
   {
    "duration": 17,
    "start_time": "2022-12-05T19:10:28.097Z"
   },
   {
    "duration": 4,
    "start_time": "2022-12-05T19:10:28.137Z"
   },
   {
    "duration": 103,
    "start_time": "2022-12-05T19:10:28.143Z"
   },
   {
    "duration": 4,
    "start_time": "2022-12-05T19:10:28.248Z"
   },
   {
    "duration": 69,
    "start_time": "2022-12-05T19:10:28.253Z"
   },
   {
    "duration": 17,
    "start_time": "2022-12-05T19:10:28.323Z"
   },
   {
    "duration": 6,
    "start_time": "2022-12-05T19:10:28.342Z"
   },
   {
    "duration": 7,
    "start_time": "2022-12-05T19:10:28.350Z"
   },
   {
    "duration": 6,
    "start_time": "2022-12-05T19:10:28.359Z"
   },
   {
    "duration": 1252,
    "start_time": "2022-12-05T19:10:28.367Z"
   },
   {
    "duration": 2672,
    "start_time": "2022-12-05T19:10:29.621Z"
   },
   {
    "duration": 5,
    "start_time": "2022-12-05T19:10:32.295Z"
   },
   {
    "duration": 1126,
    "start_time": "2022-12-05T19:10:32.302Z"
   },
   {
    "duration": 15,
    "start_time": "2022-12-05T19:10:33.438Z"
   },
   {
    "duration": 2392,
    "start_time": "2022-12-05T19:10:52.579Z"
   },
   {
    "duration": 1480,
    "start_time": "2022-12-05T19:11:13.769Z"
   },
   {
    "duration": 902,
    "start_time": "2022-12-05T19:11:15.252Z"
   },
   {
    "duration": 140,
    "start_time": "2022-12-05T19:11:16.156Z"
   },
   {
    "duration": 17,
    "start_time": "2022-12-05T19:11:16.298Z"
   },
   {
    "duration": 151,
    "start_time": "2022-12-05T19:11:16.317Z"
   },
   {
    "duration": 513,
    "start_time": "2022-12-05T19:11:16.470Z"
   },
   {
    "duration": 3,
    "start_time": "2022-12-05T19:11:16.985Z"
   },
   {
    "duration": 8,
    "start_time": "2022-12-05T19:11:16.990Z"
   },
   {
    "duration": 313,
    "start_time": "2022-12-05T19:11:16.999Z"
   },
   {
    "duration": 27,
    "start_time": "2022-12-05T19:11:17.314Z"
   },
   {
    "duration": 51,
    "start_time": "2022-12-05T19:11:17.343Z"
   },
   {
    "duration": 48,
    "start_time": "2022-12-05T19:11:17.396Z"
   },
   {
    "duration": 20,
    "start_time": "2022-12-05T19:11:17.447Z"
   },
   {
    "duration": 24,
    "start_time": "2022-12-05T19:11:17.471Z"
   },
   {
    "duration": 15,
    "start_time": "2022-12-05T19:11:17.497Z"
   },
   {
    "duration": 41,
    "start_time": "2022-12-05T19:11:17.514Z"
   },
   {
    "duration": 46,
    "start_time": "2022-12-05T19:11:17.558Z"
   },
   {
    "duration": 37,
    "start_time": "2022-12-05T19:11:17.606Z"
   },
   {
    "duration": 11,
    "start_time": "2022-12-05T19:11:17.645Z"
   },
   {
    "duration": 15,
    "start_time": "2022-12-05T19:11:17.658Z"
   },
   {
    "duration": 19,
    "start_time": "2022-12-05T19:11:17.675Z"
   },
   {
    "duration": 64,
    "start_time": "2022-12-05T19:11:17.696Z"
   },
   {
    "duration": 22,
    "start_time": "2022-12-05T19:11:17.762Z"
   },
   {
    "duration": 18,
    "start_time": "2022-12-05T19:11:17.786Z"
   },
   {
    "duration": 79,
    "start_time": "2022-12-05T19:11:17.806Z"
   },
   {
    "duration": 22,
    "start_time": "2022-12-05T19:11:17.887Z"
   },
   {
    "duration": 18,
    "start_time": "2022-12-05T19:11:17.911Z"
   },
   {
    "duration": 24,
    "start_time": "2022-12-05T19:11:17.930Z"
   },
   {
    "duration": 493,
    "start_time": "2022-12-05T19:11:17.956Z"
   },
   {
    "duration": 551,
    "start_time": "2022-12-05T19:11:18.451Z"
   },
   {
    "duration": 37,
    "start_time": "2022-12-05T19:11:19.004Z"
   },
   {
    "duration": 350,
    "start_time": "2022-12-05T19:11:19.044Z"
   },
   {
    "duration": 109,
    "start_time": "2022-12-05T19:11:19.396Z"
   },
   {
    "duration": 483,
    "start_time": "2022-12-05T19:11:19.507Z"
   },
   {
    "duration": 13,
    "start_time": "2022-12-05T19:11:19.992Z"
   },
   {
    "duration": 75,
    "start_time": "2022-12-05T19:11:20.007Z"
   },
   {
    "duration": 192,
    "start_time": "2022-12-05T19:11:20.084Z"
   },
   {
    "duration": 11,
    "start_time": "2022-12-05T19:11:20.277Z"
   },
   {
    "duration": 68,
    "start_time": "2022-12-05T19:11:20.290Z"
   },
   {
    "duration": 17,
    "start_time": "2022-12-05T19:11:20.360Z"
   },
   {
    "duration": 253,
    "start_time": "2022-12-05T19:11:20.381Z"
   },
   {
    "duration": 76,
    "start_time": "2022-12-05T19:11:20.637Z"
   },
   {
    "duration": 27,
    "start_time": "2022-12-05T19:11:20.714Z"
   },
   {
    "duration": 62,
    "start_time": "2022-12-05T19:11:20.743Z"
   },
   {
    "duration": 4,
    "start_time": "2022-12-05T19:11:20.807Z"
   },
   {
    "duration": 215,
    "start_time": "2022-12-05T19:11:20.813Z"
   },
   {
    "duration": 16,
    "start_time": "2022-12-05T19:11:21.037Z"
   },
   {
    "duration": 8,
    "start_time": "2022-12-05T19:11:21.055Z"
   },
   {
    "duration": 49,
    "start_time": "2022-12-05T19:11:21.065Z"
   },
   {
    "duration": 28,
    "start_time": "2022-12-05T19:11:21.115Z"
   },
   {
    "duration": 16,
    "start_time": "2022-12-05T19:11:21.145Z"
   },
   {
    "duration": 117,
    "start_time": "2022-12-05T19:11:21.163Z"
   },
   {
    "duration": 124,
    "start_time": "2022-12-05T19:11:21.282Z"
   },
   {
    "duration": 68,
    "start_time": "2022-12-05T19:11:21.408Z"
   },
   {
    "duration": 42,
    "start_time": "2022-12-05T19:11:21.478Z"
   },
   {
    "duration": 23,
    "start_time": "2022-12-05T19:11:21.521Z"
   },
   {
    "duration": 5,
    "start_time": "2022-12-05T19:11:21.546Z"
   },
   {
    "duration": 18,
    "start_time": "2022-12-05T19:11:21.553Z"
   },
   {
    "duration": 64,
    "start_time": "2022-12-05T19:11:21.573Z"
   },
   {
    "duration": 18,
    "start_time": "2022-12-05T19:11:21.640Z"
   },
   {
    "duration": 17,
    "start_time": "2022-12-05T19:11:21.660Z"
   },
   {
    "duration": 203,
    "start_time": "2022-12-05T19:11:21.678Z"
   },
   {
    "duration": 15,
    "start_time": "2022-12-05T19:11:21.882Z"
   },
   {
    "duration": 185,
    "start_time": "2022-12-05T19:11:21.899Z"
   },
   {
    "duration": 69,
    "start_time": "2022-12-05T19:11:22.085Z"
   },
   {
    "duration": 6,
    "start_time": "2022-12-05T19:11:22.156Z"
   },
   {
    "duration": 24,
    "start_time": "2022-12-05T19:11:22.164Z"
   },
   {
    "duration": 18,
    "start_time": "2022-12-05T19:11:22.190Z"
   },
   {
    "duration": 4,
    "start_time": "2022-12-05T19:11:22.210Z"
   },
   {
    "duration": 77,
    "start_time": "2022-12-05T19:11:22.237Z"
   },
   {
    "duration": 3,
    "start_time": "2022-12-05T19:11:22.316Z"
   },
   {
    "duration": 79,
    "start_time": "2022-12-05T19:11:22.321Z"
   },
   {
    "duration": 8,
    "start_time": "2022-12-05T19:11:22.402Z"
   },
   {
    "duration": 6,
    "start_time": "2022-12-05T19:11:22.413Z"
   },
   {
    "duration": 17,
    "start_time": "2022-12-05T19:11:22.421Z"
   },
   {
    "duration": 10,
    "start_time": "2022-12-05T19:11:22.440Z"
   },
   {
    "duration": 1229,
    "start_time": "2022-12-05T19:11:22.452Z"
   },
   {
    "duration": 2846,
    "start_time": "2022-12-05T19:11:23.683Z"
   },
   {
    "duration": 9,
    "start_time": "2022-12-05T19:11:26.531Z"
   },
   {
    "duration": 850,
    "start_time": "2022-12-05T19:11:26.543Z"
   },
   {
    "duration": 2013,
    "start_time": "2022-12-05T19:11:27.395Z"
   },
   {
    "duration": 4,
    "start_time": "2022-12-05T19:20:46.368Z"
   },
   {
    "duration": 5,
    "start_time": "2022-12-05T19:25:13.872Z"
   },
   {
    "duration": 1179,
    "start_time": "2022-12-05T19:25:13.879Z"
   },
   {
    "duration": 195,
    "start_time": "2022-12-05T19:25:15.060Z"
   },
   {
    "duration": 14,
    "start_time": "2022-12-05T19:25:15.257Z"
   },
   {
    "duration": 141,
    "start_time": "2022-12-05T19:25:15.274Z"
   },
   {
    "duration": 468,
    "start_time": "2022-12-05T19:25:15.417Z"
   },
   {
    "duration": 3,
    "start_time": "2022-12-05T19:25:15.887Z"
   },
   {
    "duration": 14,
    "start_time": "2022-12-05T19:25:15.892Z"
   },
   {
    "duration": 287,
    "start_time": "2022-12-05T19:25:15.907Z"
   },
   {
    "duration": 19,
    "start_time": "2022-12-05T19:25:16.197Z"
   },
   {
    "duration": 71,
    "start_time": "2022-12-05T19:25:16.218Z"
   },
   {
    "duration": 22,
    "start_time": "2022-12-05T19:25:16.291Z"
   },
   {
    "duration": 32,
    "start_time": "2022-12-05T19:25:16.315Z"
   },
   {
    "duration": 21,
    "start_time": "2022-12-05T19:25:16.351Z"
   },
   {
    "duration": 15,
    "start_time": "2022-12-05T19:25:16.374Z"
   },
   {
    "duration": 19,
    "start_time": "2022-12-05T19:25:16.390Z"
   },
   {
    "duration": 44,
    "start_time": "2022-12-05T19:25:16.438Z"
   },
   {
    "duration": 23,
    "start_time": "2022-12-05T19:25:16.483Z"
   },
   {
    "duration": 35,
    "start_time": "2022-12-05T19:25:16.508Z"
   },
   {
    "duration": 16,
    "start_time": "2022-12-05T19:25:16.545Z"
   },
   {
    "duration": 20,
    "start_time": "2022-12-05T19:25:16.563Z"
   },
   {
    "duration": 55,
    "start_time": "2022-12-05T19:25:16.585Z"
   },
   {
    "duration": 21,
    "start_time": "2022-12-05T19:25:16.642Z"
   },
   {
    "duration": 17,
    "start_time": "2022-12-05T19:25:16.665Z"
   },
   {
    "duration": 76,
    "start_time": "2022-12-05T19:25:16.683Z"
   },
   {
    "duration": 21,
    "start_time": "2022-12-05T19:25:16.761Z"
   },
   {
    "duration": 13,
    "start_time": "2022-12-05T19:25:16.783Z"
   },
   {
    "duration": 20,
    "start_time": "2022-12-05T19:25:16.798Z"
   },
   {
    "duration": 426,
    "start_time": "2022-12-05T19:25:16.820Z"
   },
   {
    "duration": 459,
    "start_time": "2022-12-05T19:25:17.248Z"
   },
   {
    "duration": 18,
    "start_time": "2022-12-05T19:25:17.709Z"
   },
   {
    "duration": 264,
    "start_time": "2022-12-05T19:25:17.738Z"
   },
   {
    "duration": 105,
    "start_time": "2022-12-05T19:25:18.004Z"
   },
   {
    "duration": 437,
    "start_time": "2022-12-05T19:25:18.111Z"
   },
   {
    "duration": 11,
    "start_time": "2022-12-05T19:25:18.550Z"
   },
   {
    "duration": 47,
    "start_time": "2022-12-05T19:25:18.562Z"
   },
   {
    "duration": 199,
    "start_time": "2022-12-05T19:25:18.611Z"
   },
   {
    "duration": 10,
    "start_time": "2022-12-05T19:25:18.812Z"
   },
   {
    "duration": 48,
    "start_time": "2022-12-05T19:25:18.837Z"
   },
   {
    "duration": 17,
    "start_time": "2022-12-05T19:25:18.887Z"
   },
   {
    "duration": 70,
    "start_time": "2022-12-05T19:25:18.909Z"
   },
   {
    "duration": 90,
    "start_time": "2022-12-05T19:25:18.981Z"
   },
   {
    "duration": 10,
    "start_time": "2022-12-05T19:25:19.073Z"
   },
   {
    "duration": 54,
    "start_time": "2022-12-05T19:25:19.085Z"
   },
   {
    "duration": 6,
    "start_time": "2022-12-05T19:25:19.141Z"
   },
   {
    "duration": 257,
    "start_time": "2022-12-05T19:25:19.149Z"
   },
   {
    "duration": 17,
    "start_time": "2022-12-05T19:25:19.408Z"
   },
   {
    "duration": 18,
    "start_time": "2022-12-05T19:25:19.426Z"
   },
   {
    "duration": 40,
    "start_time": "2022-12-05T19:25:19.446Z"
   },
   {
    "duration": 16,
    "start_time": "2022-12-05T19:25:19.488Z"
   },
   {
    "duration": 45,
    "start_time": "2022-12-05T19:25:19.505Z"
   },
   {
    "duration": 95,
    "start_time": "2022-12-05T19:25:19.553Z"
   },
   {
    "duration": 115,
    "start_time": "2022-12-05T19:25:19.650Z"
   },
   {
    "duration": 60,
    "start_time": "2022-12-05T19:25:19.767Z"
   },
   {
    "duration": 37,
    "start_time": "2022-12-05T19:25:19.829Z"
   },
   {
    "duration": 11,
    "start_time": "2022-12-05T19:25:19.867Z"
   },
   {
    "duration": 5,
    "start_time": "2022-12-05T19:25:19.880Z"
   },
   {
    "duration": 16,
    "start_time": "2022-12-05T19:25:19.887Z"
   },
   {
    "duration": 75,
    "start_time": "2022-12-05T19:25:19.905Z"
   },
   {
    "duration": 16,
    "start_time": "2022-12-05T19:25:19.982Z"
   },
   {
    "duration": 39,
    "start_time": "2022-12-05T19:25:20.000Z"
   },
   {
    "duration": 175,
    "start_time": "2022-12-05T19:25:20.041Z"
   },
   {
    "duration": 19,
    "start_time": "2022-12-05T19:25:20.218Z"
   },
   {
    "duration": 174,
    "start_time": "2022-12-05T19:25:20.239Z"
   },
   {
    "duration": 64,
    "start_time": "2022-12-05T19:25:20.415Z"
   },
   {
    "duration": 5,
    "start_time": "2022-12-05T19:25:20.481Z"
   },
   {
    "duration": 19,
    "start_time": "2022-12-05T19:25:20.488Z"
   },
   {
    "duration": 42,
    "start_time": "2022-12-05T19:25:20.509Z"
   },
   {
    "duration": 3,
    "start_time": "2022-12-05T19:25:20.553Z"
   },
   {
    "duration": 86,
    "start_time": "2022-12-05T19:25:20.558Z"
   },
   {
    "duration": 2,
    "start_time": "2022-12-05T19:25:20.646Z"
   },
   {
    "duration": 72,
    "start_time": "2022-12-05T19:25:20.650Z"
   },
   {
    "duration": 8,
    "start_time": "2022-12-05T19:25:20.724Z"
   },
   {
    "duration": 5,
    "start_time": "2022-12-05T19:25:20.738Z"
   },
   {
    "duration": 8,
    "start_time": "2022-12-05T19:25:20.744Z"
   },
   {
    "duration": 10,
    "start_time": "2022-12-05T19:25:20.754Z"
   },
   {
    "duration": 1266,
    "start_time": "2022-12-05T19:25:20.766Z"
   },
   {
    "duration": 4174,
    "start_time": "2022-12-05T19:25:22.037Z"
   },
   {
    "duration": 4,
    "start_time": "2022-12-05T19:25:26.213Z"
   },
   {
    "duration": 1605,
    "start_time": "2022-12-05T19:25:26.219Z"
   },
   {
    "duration": 1696,
    "start_time": "2022-12-05T19:27:08.319Z"
   },
   {
    "duration": 3061,
    "start_time": "2022-12-05T19:27:10.017Z"
   },
   {
    "duration": 143,
    "start_time": "2022-12-05T19:27:13.079Z"
   },
   {
    "duration": 24,
    "start_time": "2022-12-05T19:27:13.224Z"
   },
   {
    "duration": 108,
    "start_time": "2022-12-05T19:27:13.250Z"
   },
   {
    "duration": 507,
    "start_time": "2022-12-05T19:27:13.359Z"
   },
   {
    "duration": 4,
    "start_time": "2022-12-05T19:27:13.868Z"
   },
   {
    "duration": 21,
    "start_time": "2022-12-05T19:27:13.873Z"
   },
   {
    "duration": 304,
    "start_time": "2022-12-05T19:27:13.895Z"
   },
   {
    "duration": 23,
    "start_time": "2022-12-05T19:27:14.202Z"
   },
   {
    "duration": 48,
    "start_time": "2022-12-05T19:27:14.238Z"
   },
   {
    "duration": 22,
    "start_time": "2022-12-05T19:27:14.287Z"
   },
   {
    "duration": 29,
    "start_time": "2022-12-05T19:27:14.311Z"
   },
   {
    "duration": 21,
    "start_time": "2022-12-05T19:27:14.342Z"
   },
   {
    "duration": 15,
    "start_time": "2022-12-05T19:27:14.365Z"
   },
   {
    "duration": 19,
    "start_time": "2022-12-05T19:27:14.382Z"
   },
   {
    "duration": 69,
    "start_time": "2022-12-05T19:27:14.403Z"
   },
   {
    "duration": 21,
    "start_time": "2022-12-05T19:27:14.473Z"
   },
   {
    "duration": 11,
    "start_time": "2022-12-05T19:27:14.496Z"
   },
   {
    "duration": 37,
    "start_time": "2022-12-05T19:27:14.509Z"
   },
   {
    "duration": 20,
    "start_time": "2022-12-05T19:27:14.548Z"
   },
   {
    "duration": 43,
    "start_time": "2022-12-05T19:27:14.569Z"
   },
   {
    "duration": 39,
    "start_time": "2022-12-05T19:27:14.614Z"
   },
   {
    "duration": 19,
    "start_time": "2022-12-05T19:27:14.655Z"
   },
   {
    "duration": 63,
    "start_time": "2022-12-05T19:27:14.676Z"
   },
   {
    "duration": 19,
    "start_time": "2022-12-05T19:27:14.741Z"
   },
   {
    "duration": 13,
    "start_time": "2022-12-05T19:27:14.762Z"
   },
   {
    "duration": 14,
    "start_time": "2022-12-05T19:27:14.780Z"
   },
   {
    "duration": 514,
    "start_time": "2022-12-05T19:27:14.796Z"
   },
   {
    "duration": 569,
    "start_time": "2022-12-05T19:27:15.312Z"
   },
   {
    "duration": 23,
    "start_time": "2022-12-05T19:27:15.883Z"
   },
   {
    "duration": 324,
    "start_time": "2022-12-05T19:27:15.907Z"
   },
   {
    "duration": 105,
    "start_time": "2022-12-05T19:27:16.233Z"
   },
   {
    "duration": 481,
    "start_time": "2022-12-05T19:27:16.340Z"
   },
   {
    "duration": 15,
    "start_time": "2022-12-05T19:27:16.823Z"
   },
   {
    "duration": 56,
    "start_time": "2022-12-05T19:27:16.840Z"
   },
   {
    "duration": 190,
    "start_time": "2022-12-05T19:27:16.898Z"
   },
   {
    "duration": 10,
    "start_time": "2022-12-05T19:27:17.090Z"
   },
   {
    "duration": 74,
    "start_time": "2022-12-05T19:27:17.102Z"
   },
   {
    "duration": 17,
    "start_time": "2022-12-05T19:27:17.178Z"
   },
   {
    "duration": 177,
    "start_time": "2022-12-05T19:27:17.197Z"
   },
   {
    "duration": 80,
    "start_time": "2022-12-05T19:27:17.376Z"
   },
   {
    "duration": 96,
    "start_time": "2022-12-05T19:27:17.458Z"
   },
   {
    "duration": 43,
    "start_time": "2022-12-05T19:27:17.556Z"
   },
   {
    "duration": 4,
    "start_time": "2022-12-05T19:27:17.601Z"
   },
   {
    "duration": 216,
    "start_time": "2022-12-05T19:27:17.607Z"
   },
   {
    "duration": 24,
    "start_time": "2022-12-05T19:27:17.824Z"
   },
   {
    "duration": 9,
    "start_time": "2022-12-05T19:27:17.849Z"
   },
   {
    "duration": 43,
    "start_time": "2022-12-05T19:27:17.860Z"
   },
   {
    "duration": 41,
    "start_time": "2022-12-05T19:27:17.905Z"
   },
   {
    "duration": 15,
    "start_time": "2022-12-05T19:27:17.948Z"
   },
   {
    "duration": 110,
    "start_time": "2022-12-05T19:27:17.965Z"
   },
   {
    "duration": 117,
    "start_time": "2022-12-05T19:27:18.077Z"
   },
   {
    "duration": 73,
    "start_time": "2022-12-05T19:27:18.197Z"
   },
   {
    "duration": 29,
    "start_time": "2022-12-05T19:27:18.272Z"
   },
   {
    "duration": 7,
    "start_time": "2022-12-05T19:27:18.303Z"
   },
   {
    "duration": 8,
    "start_time": "2022-12-05T19:27:18.311Z"
   },
   {
    "duration": 12,
    "start_time": "2022-12-05T19:27:18.338Z"
   },
   {
    "duration": 38,
    "start_time": "2022-12-05T19:27:18.352Z"
   },
   {
    "duration": 17,
    "start_time": "2022-12-05T19:27:18.391Z"
   },
   {
    "duration": 45,
    "start_time": "2022-12-05T19:27:18.410Z"
   },
   {
    "duration": 163,
    "start_time": "2022-12-05T19:27:18.457Z"
   },
   {
    "duration": 27,
    "start_time": "2022-12-05T19:27:18.623Z"
   },
   {
    "duration": 163,
    "start_time": "2022-12-05T19:27:18.651Z"
   },
   {
    "duration": 80,
    "start_time": "2022-12-05T19:27:18.816Z"
   },
   {
    "duration": 9,
    "start_time": "2022-12-05T19:27:18.898Z"
   },
   {
    "duration": 37,
    "start_time": "2022-12-05T19:27:18.910Z"
   },
   {
    "duration": 19,
    "start_time": "2022-12-05T19:27:18.949Z"
   },
   {
    "duration": 4,
    "start_time": "2022-12-05T19:27:18.971Z"
   },
   {
    "duration": 113,
    "start_time": "2022-12-05T19:27:18.977Z"
   },
   {
    "duration": 3,
    "start_time": "2022-12-05T19:27:19.093Z"
   },
   {
    "duration": 91,
    "start_time": "2022-12-05T19:27:19.098Z"
   },
   {
    "duration": 10,
    "start_time": "2022-12-05T19:27:19.191Z"
   },
   {
    "duration": 4,
    "start_time": "2022-12-05T19:27:19.203Z"
   },
   {
    "duration": 12,
    "start_time": "2022-12-05T19:27:19.209Z"
   },
   {
    "duration": 6,
    "start_time": "2022-12-05T19:27:19.238Z"
   },
   {
    "duration": 1227,
    "start_time": "2022-12-05T19:27:19.246Z"
   },
   {
    "duration": 3188,
    "start_time": "2022-12-05T19:27:20.474Z"
   },
   {
    "duration": 4,
    "start_time": "2022-12-05T19:27:23.663Z"
   },
   {
    "duration": 884,
    "start_time": "2022-12-05T19:27:23.668Z"
   },
   {
    "duration": 985,
    "start_time": "2022-12-05T19:27:24.554Z"
   },
   {
    "duration": 1670,
    "start_time": "2022-12-05T19:27:37.594Z"
   },
   {
    "duration": 1074,
    "start_time": "2022-12-05T19:27:39.266Z"
   },
   {
    "duration": 147,
    "start_time": "2022-12-05T19:27:40.342Z"
   },
   {
    "duration": 16,
    "start_time": "2022-12-05T19:27:40.490Z"
   },
   {
    "duration": 113,
    "start_time": "2022-12-05T19:27:40.508Z"
   },
   {
    "duration": 524,
    "start_time": "2022-12-05T19:27:40.623Z"
   },
   {
    "duration": 3,
    "start_time": "2022-12-05T19:27:41.149Z"
   },
   {
    "duration": 7,
    "start_time": "2022-12-05T19:27:41.154Z"
   },
   {
    "duration": 314,
    "start_time": "2022-12-05T19:27:41.162Z"
   },
   {
    "duration": 18,
    "start_time": "2022-12-05T19:27:41.477Z"
   },
   {
    "duration": 60,
    "start_time": "2022-12-05T19:27:41.497Z"
   },
   {
    "duration": 22,
    "start_time": "2022-12-05T19:27:41.559Z"
   },
   {
    "duration": 18,
    "start_time": "2022-12-05T19:27:41.583Z"
   },
   {
    "duration": 41,
    "start_time": "2022-12-05T19:27:41.604Z"
   },
   {
    "duration": 21,
    "start_time": "2022-12-05T19:27:41.647Z"
   },
   {
    "duration": 23,
    "start_time": "2022-12-05T19:27:41.670Z"
   },
   {
    "duration": 53,
    "start_time": "2022-12-05T19:27:41.695Z"
   },
   {
    "duration": 21,
    "start_time": "2022-12-05T19:27:41.750Z"
   },
   {
    "duration": 11,
    "start_time": "2022-12-05T19:27:41.773Z"
   },
   {
    "duration": 21,
    "start_time": "2022-12-05T19:27:41.786Z"
   },
   {
    "duration": 40,
    "start_time": "2022-12-05T19:27:41.808Z"
   },
   {
    "duration": 48,
    "start_time": "2022-12-05T19:27:41.850Z"
   },
   {
    "duration": 25,
    "start_time": "2022-12-05T19:27:41.900Z"
   },
   {
    "duration": 24,
    "start_time": "2022-12-05T19:27:41.937Z"
   },
   {
    "duration": 55,
    "start_time": "2022-12-05T19:27:41.963Z"
   },
   {
    "duration": 30,
    "start_time": "2022-12-05T19:27:42.020Z"
   },
   {
    "duration": 13,
    "start_time": "2022-12-05T19:27:42.053Z"
   },
   {
    "duration": 14,
    "start_time": "2022-12-05T19:27:42.068Z"
   },
   {
    "duration": 523,
    "start_time": "2022-12-05T19:27:42.083Z"
   },
   {
    "duration": 551,
    "start_time": "2022-12-05T19:27:42.609Z"
   },
   {
    "duration": 24,
    "start_time": "2022-12-05T19:27:43.162Z"
   },
   {
    "duration": 331,
    "start_time": "2022-12-05T19:27:43.188Z"
   },
   {
    "duration": 114,
    "start_time": "2022-12-05T19:27:43.521Z"
   },
   {
    "duration": 505,
    "start_time": "2022-12-05T19:27:43.637Z"
   },
   {
    "duration": 13,
    "start_time": "2022-12-05T19:27:44.144Z"
   },
   {
    "duration": 79,
    "start_time": "2022-12-05T19:27:44.159Z"
   },
   {
    "duration": 188,
    "start_time": "2022-12-05T19:27:44.241Z"
   },
   {
    "duration": 15,
    "start_time": "2022-12-05T19:27:44.431Z"
   },
   {
    "duration": 54,
    "start_time": "2022-12-05T19:27:44.448Z"
   },
   {
    "duration": 38,
    "start_time": "2022-12-05T19:27:44.504Z"
   },
   {
    "duration": 263,
    "start_time": "2022-12-05T19:27:44.547Z"
   },
   {
    "duration": 86,
    "start_time": "2022-12-05T19:27:44.812Z"
   },
   {
    "duration": 8,
    "start_time": "2022-12-05T19:27:44.901Z"
   },
   {
    "duration": 73,
    "start_time": "2022-12-05T19:27:44.911Z"
   },
   {
    "duration": 5,
    "start_time": "2022-12-05T19:27:44.986Z"
   },
   {
    "duration": 214,
    "start_time": "2022-12-05T19:27:44.992Z"
   },
   {
    "duration": 16,
    "start_time": "2022-12-05T19:27:45.208Z"
   },
   {
    "duration": 17,
    "start_time": "2022-12-05T19:27:45.226Z"
   },
   {
    "duration": 41,
    "start_time": "2022-12-05T19:27:45.245Z"
   },
   {
    "duration": 16,
    "start_time": "2022-12-05T19:27:45.288Z"
   },
   {
    "duration": 43,
    "start_time": "2022-12-05T19:27:45.305Z"
   },
   {
    "duration": 96,
    "start_time": "2022-12-05T19:27:45.350Z"
   },
   {
    "duration": 132,
    "start_time": "2022-12-05T19:27:45.447Z"
   },
   {
    "duration": 67,
    "start_time": "2022-12-05T19:27:45.581Z"
   },
   {
    "duration": 39,
    "start_time": "2022-12-05T19:27:45.650Z"
   },
   {
    "duration": 11,
    "start_time": "2022-12-05T19:27:45.691Z"
   },
   {
    "duration": 6,
    "start_time": "2022-12-05T19:27:45.704Z"
   },
   {
    "duration": 33,
    "start_time": "2022-12-05T19:27:45.712Z"
   },
   {
    "duration": 52,
    "start_time": "2022-12-05T19:27:45.747Z"
   },
   {
    "duration": 37,
    "start_time": "2022-12-05T19:27:45.801Z"
   },
   {
    "duration": 19,
    "start_time": "2022-12-05T19:27:45.841Z"
   },
   {
    "duration": 188,
    "start_time": "2022-12-05T19:27:45.862Z"
   },
   {
    "duration": 14,
    "start_time": "2022-12-05T19:27:46.052Z"
   },
   {
    "duration": 186,
    "start_time": "2022-12-05T19:27:46.068Z"
   },
   {
    "duration": 63,
    "start_time": "2022-12-05T19:27:46.256Z"
   },
   {
    "duration": 19,
    "start_time": "2022-12-05T19:27:46.320Z"
   },
   {
    "duration": 19,
    "start_time": "2022-12-05T19:27:46.341Z"
   },
   {
    "duration": 15,
    "start_time": "2022-12-05T19:27:46.362Z"
   },
   {
    "duration": 3,
    "start_time": "2022-12-05T19:27:46.378Z"
   },
   {
    "duration": 97,
    "start_time": "2022-12-05T19:27:46.382Z"
   },
   {
    "duration": 2,
    "start_time": "2022-12-05T19:27:46.481Z"
   },
   {
    "duration": 78,
    "start_time": "2022-12-05T19:27:46.485Z"
   },
   {
    "duration": 7,
    "start_time": "2022-12-05T19:27:46.565Z"
   },
   {
    "duration": 6,
    "start_time": "2022-12-05T19:27:46.574Z"
   },
   {
    "duration": 9,
    "start_time": "2022-12-05T19:27:46.581Z"
   },
   {
    "duration": 6,
    "start_time": "2022-12-05T19:27:46.592Z"
   },
   {
    "duration": 1248,
    "start_time": "2022-12-05T19:27:46.600Z"
   },
   {
    "duration": 3076,
    "start_time": "2022-12-05T19:27:47.850Z"
   },
   {
    "duration": 11,
    "start_time": "2022-12-05T19:27:50.927Z"
   },
   {
    "duration": 840,
    "start_time": "2022-12-05T19:27:50.940Z"
   },
   {
    "duration": 987,
    "start_time": "2022-12-05T19:27:51.782Z"
   },
   {
    "duration": 4,
    "start_time": "2022-12-05T19:28:41.701Z"
   },
   {
    "duration": 86,
    "start_time": "2022-12-05T19:30:23.963Z"
   },
   {
    "duration": 20,
    "start_time": "2022-12-05T19:36:28.237Z"
   },
   {
    "duration": 28,
    "start_time": "2022-12-05T19:37:05.449Z"
   },
   {
    "duration": 5,
    "start_time": "2022-12-05T19:37:16.661Z"
   },
   {
    "duration": 6,
    "start_time": "2022-12-05T19:37:32.769Z"
   },
   {
    "duration": 116,
    "start_time": "2022-12-05T19:37:41.527Z"
   },
   {
    "duration": 130,
    "start_time": "2022-12-05T19:37:58.589Z"
   },
   {
    "duration": 14,
    "start_time": "2022-12-05T19:38:11.339Z"
   },
   {
    "duration": 9,
    "start_time": "2022-12-05T19:39:13.530Z"
   },
   {
    "duration": 7,
    "start_time": "2022-12-05T19:39:41.131Z"
   },
   {
    "duration": 492,
    "start_time": "2022-12-05T19:40:11.171Z"
   },
   {
    "duration": 18,
    "start_time": "2022-12-05T19:41:15.162Z"
   },
   {
    "duration": 1532,
    "start_time": "2022-12-05T19:48:36.516Z"
   },
   {
    "duration": 938,
    "start_time": "2022-12-05T19:48:38.050Z"
   },
   {
    "duration": 188,
    "start_time": "2022-12-05T19:48:38.991Z"
   },
   {
    "duration": 16,
    "start_time": "2022-12-05T19:48:39.181Z"
   },
   {
    "duration": 120,
    "start_time": "2022-12-05T19:48:39.199Z"
   },
   {
    "duration": 502,
    "start_time": "2022-12-05T19:48:39.322Z"
   },
   {
    "duration": 12,
    "start_time": "2022-12-05T19:48:39.826Z"
   },
   {
    "duration": 5,
    "start_time": "2022-12-05T19:48:39.840Z"
   },
   {
    "duration": 308,
    "start_time": "2022-12-05T19:48:39.846Z"
   },
   {
    "duration": 19,
    "start_time": "2022-12-05T19:48:40.157Z"
   },
   {
    "duration": 63,
    "start_time": "2022-12-05T19:48:40.178Z"
   },
   {
    "duration": 23,
    "start_time": "2022-12-05T19:48:40.243Z"
   },
   {
    "duration": 18,
    "start_time": "2022-12-05T19:48:40.267Z"
   },
   {
    "duration": 20,
    "start_time": "2022-12-05T19:48:40.287Z"
   },
   {
    "duration": 39,
    "start_time": "2022-12-05T19:48:40.309Z"
   },
   {
    "duration": 23,
    "start_time": "2022-12-05T19:48:40.350Z"
   },
   {
    "duration": 63,
    "start_time": "2022-12-05T19:48:40.375Z"
   },
   {
    "duration": 22,
    "start_time": "2022-12-05T19:48:40.440Z"
   },
   {
    "duration": 11,
    "start_time": "2022-12-05T19:48:40.464Z"
   },
   {
    "duration": 16,
    "start_time": "2022-12-05T19:48:40.477Z"
   },
   {
    "duration": 19,
    "start_time": "2022-12-05T19:48:40.495Z"
   },
   {
    "duration": 62,
    "start_time": "2022-12-05T19:48:40.515Z"
   },
   {
    "duration": 21,
    "start_time": "2022-12-05T19:48:40.579Z"
   },
   {
    "duration": 35,
    "start_time": "2022-12-05T19:48:40.602Z"
   },
   {
    "duration": 49,
    "start_time": "2022-12-05T19:48:40.640Z"
   },
   {
    "duration": 20,
    "start_time": "2022-12-05T19:48:40.691Z"
   },
   {
    "duration": 34,
    "start_time": "2022-12-05T19:48:40.713Z"
   },
   {
    "duration": 15,
    "start_time": "2022-12-05T19:48:40.752Z"
   },
   {
    "duration": 510,
    "start_time": "2022-12-05T19:48:40.768Z"
   },
   {
    "duration": 551,
    "start_time": "2022-12-05T19:48:41.280Z"
   },
   {
    "duration": 24,
    "start_time": "2022-12-05T19:48:41.836Z"
   },
   {
    "duration": 308,
    "start_time": "2022-12-05T19:48:41.862Z"
   },
   {
    "duration": 109,
    "start_time": "2022-12-05T19:48:42.172Z"
   },
   {
    "duration": 491,
    "start_time": "2022-12-05T19:48:42.283Z"
   },
   {
    "duration": 10,
    "start_time": "2022-12-05T19:48:42.776Z"
   },
   {
    "duration": 72,
    "start_time": "2022-12-05T19:48:42.788Z"
   },
   {
    "duration": 175,
    "start_time": "2022-12-05T19:48:42.862Z"
   },
   {
    "duration": 11,
    "start_time": "2022-12-05T19:48:43.039Z"
   },
   {
    "duration": 46,
    "start_time": "2022-12-05T19:48:43.051Z"
   },
   {
    "duration": 17,
    "start_time": "2022-12-05T19:48:43.099Z"
   },
   {
    "duration": 164,
    "start_time": "2022-12-05T19:48:43.138Z"
   },
   {
    "duration": 87,
    "start_time": "2022-12-05T19:48:43.303Z"
   },
   {
    "duration": 102,
    "start_time": "2022-12-05T19:48:43.392Z"
   },
   {
    "duration": 46,
    "start_time": "2022-12-05T19:48:43.496Z"
   },
   {
    "duration": 4,
    "start_time": "2022-12-05T19:48:43.544Z"
   },
   {
    "duration": 227,
    "start_time": "2022-12-05T19:48:43.549Z"
   },
   {
    "duration": 17,
    "start_time": "2022-12-05T19:48:43.778Z"
   },
   {
    "duration": 21,
    "start_time": "2022-12-05T19:48:43.797Z"
   },
   {
    "duration": 82,
    "start_time": "2022-12-05T19:48:43.821Z"
   },
   {
    "duration": 16,
    "start_time": "2022-12-05T19:48:43.905Z"
   },
   {
    "duration": 15,
    "start_time": "2022-12-05T19:48:43.923Z"
   },
   {
    "duration": 91,
    "start_time": "2022-12-05T19:48:43.939Z"
   },
   {
    "duration": 122,
    "start_time": "2022-12-05T19:48:44.032Z"
   },
   {
    "duration": 66,
    "start_time": "2022-12-05T19:48:44.156Z"
   },
   {
    "duration": 48,
    "start_time": "2022-12-05T19:48:44.225Z"
   },
   {
    "duration": 9,
    "start_time": "2022-12-05T19:48:44.275Z"
   },
   {
    "duration": 38,
    "start_time": "2022-12-05T19:48:44.286Z"
   },
   {
    "duration": 20,
    "start_time": "2022-12-05T19:48:44.326Z"
   },
   {
    "duration": 52,
    "start_time": "2022-12-05T19:48:44.349Z"
   },
   {
    "duration": 35,
    "start_time": "2022-12-05T19:48:44.403Z"
   },
   {
    "duration": 21,
    "start_time": "2022-12-05T19:48:44.440Z"
   },
   {
    "duration": 191,
    "start_time": "2022-12-05T19:48:44.463Z"
   },
   {
    "duration": 13,
    "start_time": "2022-12-05T19:48:44.656Z"
   },
   {
    "duration": 175,
    "start_time": "2022-12-05T19:48:44.670Z"
   },
   {
    "duration": 58,
    "start_time": "2022-12-05T19:48:44.846Z"
   },
   {
    "duration": 5,
    "start_time": "2022-12-05T19:48:44.906Z"
   },
   {
    "duration": 43,
    "start_time": "2022-12-05T19:48:44.913Z"
   },
   {
    "duration": 17,
    "start_time": "2022-12-05T19:48:44.958Z"
   },
   {
    "duration": 3,
    "start_time": "2022-12-05T19:48:44.977Z"
   },
   {
    "duration": 94,
    "start_time": "2022-12-05T19:48:44.982Z"
   },
   {
    "duration": 4,
    "start_time": "2022-12-05T19:48:45.078Z"
   },
   {
    "duration": 97,
    "start_time": "2022-12-05T19:48:45.084Z"
   },
   {
    "duration": 8,
    "start_time": "2022-12-05T19:48:45.182Z"
   },
   {
    "duration": 8,
    "start_time": "2022-12-05T19:48:45.191Z"
   },
   {
    "duration": 8,
    "start_time": "2022-12-05T19:48:45.201Z"
   },
   {
    "duration": 13,
    "start_time": "2022-12-05T19:48:45.210Z"
   },
   {
    "duration": 1262,
    "start_time": "2022-12-05T19:48:45.225Z"
   },
   {
    "duration": 3551,
    "start_time": "2022-12-05T19:48:46.490Z"
   },
   {
    "duration": 5,
    "start_time": "2022-12-05T19:48:50.043Z"
   },
   {
    "duration": 919,
    "start_time": "2022-12-05T19:48:50.050Z"
   },
   {
    "duration": 1041,
    "start_time": "2022-12-05T19:48:50.970Z"
   },
   {
    "duration": 104,
    "start_time": "2022-12-05T19:48:52.017Z"
   },
   {
    "duration": 14,
    "start_time": "2022-12-05T19:48:52.123Z"
   },
   {
    "duration": 498,
    "start_time": "2022-12-05T19:48:52.139Z"
   },
   {
    "duration": 22,
    "start_time": "2022-12-05T19:48:52.640Z"
   },
   {
    "duration": 3,
    "start_time": "2022-12-05T19:48:52.665Z"
   },
   {
    "duration": 3,
    "start_time": "2022-12-05T19:52:00.491Z"
   },
   {
    "duration": 849013,
    "start_time": "2022-12-05T19:52:02.671Z"
   },
   {
    "duration": 15,
    "start_time": "2022-12-05T20:10:14.760Z"
   },
   {
    "duration": 3,
    "start_time": "2022-12-05T20:14:15.351Z"
   },
   {
    "duration": 50703,
    "start_time": "2022-12-05T20:15:25.657Z"
   },
   {
    "duration": 1548,
    "start_time": "2022-12-05T20:16:19.830Z"
   },
   {
    "duration": 6,
    "start_time": "2022-12-05T20:17:41.378Z"
   },
   {
    "duration": 5,
    "start_time": "2022-12-05T20:18:01.419Z"
   },
   {
    "duration": 5,
    "start_time": "2022-12-05T20:18:13.442Z"
   },
   {
    "duration": 4,
    "start_time": "2022-12-05T20:19:05.019Z"
   },
   {
    "duration": 3,
    "start_time": "2022-12-05T20:19:58.022Z"
   },
   {
    "duration": 1007132,
    "start_time": "2022-12-05T20:19:58.027Z"
   },
   {
    "duration": 17,
    "start_time": "2022-12-05T20:54:41.985Z"
   },
   {
    "duration": 3,
    "start_time": "2022-12-05T20:54:43.743Z"
   },
   {
    "duration": 16811,
    "start_time": "2022-12-05T20:54:46.576Z"
   },
   {
    "duration": 450,
    "start_time": "2022-12-05T20:55:19.193Z"
   },
   {
    "duration": 4,
    "start_time": "2022-12-05T20:56:10.141Z"
   },
   {
    "duration": 5,
    "start_time": "2022-12-05T20:56:21.115Z"
   },
   {
    "duration": 6,
    "start_time": "2022-12-05T20:56:46.058Z"
   },
   {
    "duration": 157,
    "start_time": "2022-12-05T20:56:57.460Z"
   },
   {
    "duration": 3,
    "start_time": "2022-12-05T20:57:01.389Z"
   },
   {
    "duration": 109,
    "start_time": "2022-12-05T20:57:03.861Z"
   },
   {
    "duration": 638605,
    "start_time": "2022-12-05T20:58:00.836Z"
   },
   {
    "duration": 16,
    "start_time": "2022-12-05T21:10:53.115Z"
   },
   {
    "duration": 2,
    "start_time": "2022-12-05T21:11:19.858Z"
   },
   {
    "duration": 5748,
    "start_time": "2022-12-05T21:11:21.394Z"
   },
   {
    "duration": 3,
    "start_time": "2022-12-05T21:11:50.364Z"
   },
   {
    "duration": 8242,
    "start_time": "2022-12-05T21:11:51.202Z"
   },
   {
    "duration": 3513,
    "start_time": "2022-12-05T21:12:07.461Z"
   },
   {
    "duration": 6,
    "start_time": "2022-12-05T21:12:39.366Z"
   },
   {
    "duration": 5,
    "start_time": "2022-12-05T21:13:02.486Z"
   },
   {
    "duration": 8,
    "start_time": "2022-12-05T21:13:14.711Z"
   },
   {
    "duration": 16509,
    "start_time": "2022-12-05T21:15:39.876Z"
   },
   {
    "duration": 140,
    "start_time": "2022-12-05T21:16:09.754Z"
   },
   {
    "duration": 4,
    "start_time": "2022-12-05T21:16:17.246Z"
   },
   {
    "duration": 1580,
    "start_time": "2022-12-06T16:19:24.077Z"
   },
   {
    "duration": 900,
    "start_time": "2022-12-06T16:19:25.660Z"
   },
   {
    "duration": 180,
    "start_time": "2022-12-06T16:19:26.562Z"
   },
   {
    "duration": 23,
    "start_time": "2022-12-06T16:19:26.744Z"
   },
   {
    "duration": 127,
    "start_time": "2022-12-06T16:19:26.770Z"
   },
   {
    "duration": 523,
    "start_time": "2022-12-06T16:19:26.899Z"
   },
   {
    "duration": 4,
    "start_time": "2022-12-06T16:19:27.424Z"
   },
   {
    "duration": 26,
    "start_time": "2022-12-06T16:19:27.436Z"
   },
   {
    "duration": 323,
    "start_time": "2022-12-06T16:19:27.463Z"
   },
   {
    "duration": 23,
    "start_time": "2022-12-06T16:19:27.789Z"
   },
   {
    "duration": 72,
    "start_time": "2022-12-06T16:19:27.813Z"
   },
   {
    "duration": 40,
    "start_time": "2022-12-06T16:19:27.887Z"
   },
   {
    "duration": 37,
    "start_time": "2022-12-06T16:19:27.936Z"
   },
   {
    "duration": 26,
    "start_time": "2022-12-06T16:19:27.975Z"
   },
   {
    "duration": 16,
    "start_time": "2022-12-06T16:19:28.003Z"
   },
   {
    "duration": 37,
    "start_time": "2022-12-06T16:19:28.021Z"
   },
   {
    "duration": 54,
    "start_time": "2022-12-06T16:19:28.060Z"
   },
   {
    "duration": 28,
    "start_time": "2022-12-06T16:19:28.116Z"
   },
   {
    "duration": 29,
    "start_time": "2022-12-06T16:19:28.147Z"
   },
   {
    "duration": 17,
    "start_time": "2022-12-06T16:19:28.178Z"
   },
   {
    "duration": 21,
    "start_time": "2022-12-06T16:19:28.197Z"
   },
   {
    "duration": 72,
    "start_time": "2022-12-06T16:19:28.220Z"
   },
   {
    "duration": 21,
    "start_time": "2022-12-06T16:19:28.294Z"
   },
   {
    "duration": 36,
    "start_time": "2022-12-06T16:19:28.317Z"
   },
   {
    "duration": 53,
    "start_time": "2022-12-06T16:19:28.355Z"
   },
   {
    "duration": 21,
    "start_time": "2022-12-06T16:19:28.409Z"
   },
   {
    "duration": 30,
    "start_time": "2022-12-06T16:19:28.435Z"
   },
   {
    "duration": 14,
    "start_time": "2022-12-06T16:19:28.470Z"
   },
   {
    "duration": 510,
    "start_time": "2022-12-06T16:19:28.486Z"
   },
   {
    "duration": 527,
    "start_time": "2022-12-06T16:19:28.997Z"
   },
   {
    "duration": 28,
    "start_time": "2022-12-06T16:19:29.525Z"
   },
   {
    "duration": 309,
    "start_time": "2022-12-06T16:19:29.555Z"
   },
   {
    "duration": 106,
    "start_time": "2022-12-06T16:19:29.865Z"
   },
   {
    "duration": 538,
    "start_time": "2022-12-06T16:19:29.973Z"
   },
   {
    "duration": 11,
    "start_time": "2022-12-06T16:19:30.512Z"
   },
   {
    "duration": 71,
    "start_time": "2022-12-06T16:19:30.536Z"
   },
   {
    "duration": 205,
    "start_time": "2022-12-06T16:19:30.609Z"
   },
   {
    "duration": 11,
    "start_time": "2022-12-06T16:19:30.816Z"
   },
   {
    "duration": 91,
    "start_time": "2022-12-06T16:19:30.835Z"
   },
   {
    "duration": 20,
    "start_time": "2022-12-06T16:19:30.928Z"
   },
   {
    "duration": 179,
    "start_time": "2022-12-06T16:19:30.949Z"
   },
   {
    "duration": 85,
    "start_time": "2022-12-06T16:19:31.130Z"
   },
   {
    "duration": 99,
    "start_time": "2022-12-06T16:19:31.217Z"
   },
   {
    "duration": 57,
    "start_time": "2022-12-06T16:19:31.318Z"
   },
   {
    "duration": 4,
    "start_time": "2022-12-06T16:19:31.377Z"
   },
   {
    "duration": 215,
    "start_time": "2022-12-06T16:19:31.383Z"
   },
   {
    "duration": 16,
    "start_time": "2022-12-06T16:19:31.599Z"
   },
   {
    "duration": 30,
    "start_time": "2022-12-06T16:19:31.616Z"
   },
   {
    "duration": 50,
    "start_time": "2022-12-06T16:19:31.648Z"
   },
   {
    "duration": 15,
    "start_time": "2022-12-06T16:19:31.699Z"
   },
   {
    "duration": 56,
    "start_time": "2022-12-06T16:19:31.716Z"
   },
   {
    "duration": 92,
    "start_time": "2022-12-06T16:19:31.774Z"
   },
   {
    "duration": 116,
    "start_time": "2022-12-06T16:19:31.867Z"
   },
   {
    "duration": 82,
    "start_time": "2022-12-06T16:19:31.985Z"
   },
   {
    "duration": 30,
    "start_time": "2022-12-06T16:19:32.069Z"
   },
   {
    "duration": 7,
    "start_time": "2022-12-06T16:19:32.101Z"
   },
   {
    "duration": 27,
    "start_time": "2022-12-06T16:19:32.110Z"
   },
   {
    "duration": 39,
    "start_time": "2022-12-06T16:19:32.139Z"
   },
   {
    "duration": 43,
    "start_time": "2022-12-06T16:19:32.180Z"
   },
   {
    "duration": 20,
    "start_time": "2022-12-06T16:19:32.225Z"
   },
   {
    "duration": 31,
    "start_time": "2022-12-06T16:19:32.247Z"
   },
   {
    "duration": 209,
    "start_time": "2022-12-06T16:19:32.280Z"
   },
   {
    "duration": 13,
    "start_time": "2022-12-06T16:19:32.491Z"
   },
   {
    "duration": 219,
    "start_time": "2022-12-06T16:19:32.506Z"
   },
   {
    "duration": 102,
    "start_time": "2022-12-06T16:19:32.727Z"
   },
   {
    "duration": 9,
    "start_time": "2022-12-06T16:19:32.835Z"
   },
   {
    "duration": 50,
    "start_time": "2022-12-06T16:19:32.846Z"
   },
   {
    "duration": 21,
    "start_time": "2022-12-06T16:19:32.898Z"
   },
   {
    "duration": 5,
    "start_time": "2022-12-06T16:19:32.921Z"
   },
   {
    "duration": 119,
    "start_time": "2022-12-06T16:19:32.928Z"
   },
   {
    "duration": 7,
    "start_time": "2022-12-06T16:19:33.049Z"
   },
   {
    "duration": 71,
    "start_time": "2022-12-06T16:19:33.058Z"
   },
   {
    "duration": 15,
    "start_time": "2022-12-06T16:19:33.136Z"
   },
   {
    "duration": 24,
    "start_time": "2022-12-06T16:19:33.156Z"
   },
   {
    "duration": 7,
    "start_time": "2022-12-06T16:19:33.182Z"
   },
   {
    "duration": 8,
    "start_time": "2022-12-06T16:19:33.191Z"
   },
   {
    "duration": 1392,
    "start_time": "2022-12-06T16:19:33.201Z"
   },
   {
    "duration": 2055,
    "start_time": "2022-12-06T16:19:34.595Z"
   },
   {
    "duration": 10,
    "start_time": "2022-12-06T16:19:36.652Z"
   }
  ],
  "kernelspec": {
   "display_name": "Python 3 (ipykernel)",
   "language": "python",
   "name": "python3"
  },
  "language_info": {
   "codemirror_mode": {
    "name": "ipython",
    "version": 3
   },
   "file_extension": ".py",
   "mimetype": "text/x-python",
   "name": "python",
   "nbconvert_exporter": "python",
   "pygments_lexer": "ipython3",
   "version": "3.9.7"
  },
  "toc": {
   "base_numbering": 1,
   "nav_menu": {},
   "number_sections": true,
   "sideBar": true,
   "skip_h1_title": true,
   "title_cell": "Table of Contents",
   "title_sidebar": "Contents",
   "toc_cell": false,
   "toc_position": {
    "height": "calc(100% - 180px)",
    "left": "10px",
    "top": "150px",
    "width": "240.994px"
   },
   "toc_section_display": true,
   "toc_window_display": true
  }
 },
 "nbformat": 4,
 "nbformat_minor": 2
}
